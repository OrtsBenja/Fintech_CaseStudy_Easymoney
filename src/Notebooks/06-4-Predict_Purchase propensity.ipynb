{
 "cells": [
  {
   "cell_type": "code",
   "execution_count": 1,
   "metadata": {},
   "outputs": [],
   "source": [
    "import warnings\n",
    "warnings.filterwarnings(\"ignore\")\n",
    "\n",
    "# imports best practice pandas\n",
    "import os\n",
    "\n",
    "import numpy as np\n",
    "import pandas as pd\n",
    "import missingno as msno\n",
    "import plotly.express as px\n",
    "import matplotlib.pyplot as plt\n",
    "import seaborn as sns\n",
    "sns.set_theme(style=\"white\", palette=None)\n",
    "%matplotlib inline\n",
    "import math\n",
    "import pickle\n",
    "import joblib\n",
    "import dill\n",
    "import gzip\n",
    "import inspect\n",
    "\n",
    "#--------------------------------------------------------\n",
    "\n",
    "# imports best practice sklearn\n",
    "import sklearn\n",
    "from sklearn.feature_selection import VarianceThreshold\n",
    "from sklearn import set_config\n",
    "\n",
    "# preprocessing\n",
    "from sklearn.preprocessing import StandardScaler, PolynomialFeatures\n",
    "from sklearn.feature_selection import VarianceThreshold\n",
    "from sklearn.preprocessing import StandardScaler, OrdinalEncoder, LabelEncoder, OneHotEncoder, RobustScaler, MinMaxScaler\n",
    "from scipy import stats\n",
    "from imblearn.over_sampling import RandomOverSampler\n",
    "\n",
    "# transformers\n",
    "from sklearn.impute import KNNImputer, SimpleImputer\n",
    "from sklearn.preprocessing import FunctionTransformer\n",
    "\n",
    "# evaluacion\n",
    "from sklearn.metrics import mean_absolute_error, r2_score, roc_auc_score, roc_curve, accuracy_score, precision_score, recall_score, f1_score, confusion_matrix, ConfusionMatrixDisplay\n",
    "from sklearn.model_selection import train_test_split, cross_val_score\n",
    "from sklearn import metrics\n",
    "\n",
    "# pipelines\n",
    "from sklearn.pipeline import Pipeline\n",
    "from sklearn.compose import ColumnTransformer\n",
    "set_config(transform_output = \"pandas\")\n",
    "\n",
    "# models\n",
    "from sklearn.cluster import KMeans\n",
    "from sklearn.tree import DecisionTreeClassifier\n",
    "from sklearn.linear_model import LogisticRegression\n",
    "from sklearn.ensemble import RandomForestClassifier\n",
    "from xgboost import XGBClassifier\n",
    "from lightgbm import LGBMClassifier\n",
    "from sklearn.neighbors import KNeighborsClassifier\n",
    "from sklearn.model_selection import RandomizedSearchCV\n",
    "\n",
    "# interpretabilidad\n",
    "import shap"
   ]
  },
  {
   "cell_type": "markdown",
   "metadata": {},
   "source": [
    "### Importamos el dataset y revisamos las métricas principales"
   ]
  },
  {
   "cell_type": "code",
   "execution_count": 2,
   "metadata": {},
   "outputs": [
    {
     "name": "stdout",
     "output_type": "stream",
     "text": [
      "Dataframe cargado exitosamente\n"
     ]
    }
   ],
   "source": [
    "DATA_PATH = \"../../data/processed/\"\n",
    "FILE_NAME = \"df_capstone_newFeatures.pkl.gz\"\n",
    "PICKLE_PATH = DATA_PATH+FILE_NAME\n",
    "\n",
    "with gzip.open(PICKLE_PATH, 'rb') as gz_csv_df:\n",
    "\n",
    "    df_capstone_clean = pd.read_pickle(gz_csv_df)\n",
    "\n",
    "print('Dataframe cargado exitosamente')"
   ]
  },
  {
   "cell_type": "code",
   "execution_count": 3,
   "metadata": {},
   "outputs": [
    {
     "name": "stdout",
     "output_type": "stream",
     "text": [
      "Dataframe cragado exitosamente\n"
     ]
    }
   ],
   "source": [
    "DATA_PATH = \"../../data/processed/\"\n",
    "FILE_NAME = \"df_cluestering_WITH_CLUSTERS.pkl.gz\"\n",
    "PICKLE_PATH = DATA_PATH+FILE_NAME\n",
    "\n",
    "with gzip.open(PICKLE_PATH, 'rb') as df_load:\n",
    "    df_capstone_clean_with_clusters = pd.read_pickle(df_load)\n",
    "    \n",
    "print('Dataframe cragado exitosamente')"
   ]
  },
  {
   "cell_type": "code",
   "execution_count": 4,
   "metadata": {},
   "outputs": [],
   "source": [
    "# mergeamos las columnas que necesitamos del df original con todas las variables\n",
    "\n",
    "df_capstone_clean_with_clusters = pd.merge(left = df_capstone_clean_with_clusters,\n",
    "                                            right = df_capstone_clean[['pk_cid', 'pk_partition','active_customer', 'entry_date',\n",
    "                                                                'regions_ca_id', 'nr_account_10_trend', 'nr_invest_savings_40_trend', \n",
    "                                                                'nr_financing_60_trend', 'salary', 'product_mix_diversity']],\n",
    "                                            how = 'left',\n",
    "                                            left_on = ['pk_cid', 'pk_partition'],\n",
    "                                            right_on = ['pk_cid', 'pk_partition'])"
   ]
  },
  {
   "cell_type": "code",
   "execution_count": 5,
   "metadata": {},
   "outputs": [],
   "source": [
    "# creamos las columnas faltantes\n",
    "\n",
    "df_capstone_clean_with_clusters['increased_nr_account_10'] = (df_capstone_clean_with_clusters['nr_account_10_trend']>0).astype('int')\n",
    "df_capstone_clean_with_clusters['increased_nr_invest_savings_40'] = (df_capstone_clean_with_clusters['nr_invest_savings_40_trend']>0).astype('int')\n",
    "df_capstone_clean_with_clusters['increased_nr_financing_60'] = (df_capstone_clean_with_clusters['nr_financing_60_trend']>0).astype('int')\n",
    "                                   \n",
    "df_capstone_clean_with_clusters['increased_nr_accounts_10_m+1'] = df_capstone_clean_with_clusters.sort_values(['pk_partition','pk_cid']).groupby('pk_cid')['increased_nr_account_10'].transform(lambda x : x.shift(-1))\n",
    "df_capstone_clean_with_clusters['increased_nr_invest_savings_40_m+1'] = df_capstone_clean_with_clusters.sort_values(['pk_partition','pk_cid']).groupby('pk_cid')['increased_nr_invest_savings_40'].transform(lambda x : x.shift(-1))\n",
    "df_capstone_clean_with_clusters['increased_nr_financing_60_m+1'] = df_capstone_clean_with_clusters.sort_values(['pk_partition','pk_cid']).groupby('pk_cid')['increased_nr_financing_60'].transform(lambda x : x.shift(-1))\n",
    "\n",
    "df_capstone_clean_with_clusters.insert(3,'increased_nr_accounts_10_m+1',df_capstone_clean_with_clusters.pop('increased_nr_accounts_10_m+1'))\n",
    "df_capstone_clean_with_clusters.insert(4,'increased_nr_invest_savings_40_m+1',df_capstone_clean_with_clusters.pop('increased_nr_invest_savings_40_m+1'))\n",
    "df_capstone_clean_with_clusters.insert(5,'increased_nr_financing_60_m+1',df_capstone_clean_with_clusters.pop('increased_nr_financing_60_m+1'))"
   ]
  },
  {
   "cell_type": "code",
   "execution_count": 6,
   "metadata": {},
   "outputs": [],
   "source": [
    "del df_capstone_clean"
   ]
  },
  {
   "cell_type": "code",
   "execution_count": 7,
   "metadata": {},
   "outputs": [
    {
     "data": {
      "text/plain": [
       "<DatetimeArray>\n",
       "['2018-07-28 00:00:00', '2018-08-28 00:00:00', '2018-11-28 00:00:00',\n",
       " '2018-12-28 00:00:00', '2019-01-28 00:00:00', '2019-02-28 00:00:00',\n",
       " '2019-03-28 00:00:00', '2019-04-28 00:00:00', '2019-05-28 00:00:00',\n",
       " '2018-09-28 00:00:00', '2018-10-28 00:00:00', '2018-01-28 00:00:00',\n",
       " '2018-02-28 00:00:00', '2018-03-28 00:00:00', '2018-04-28 00:00:00',\n",
       " '2018-05-28 00:00:00', '2018-06-28 00:00:00']\n",
       "Length: 17, dtype: datetime64[ns]"
      ]
     },
     "execution_count": 7,
     "metadata": {},
     "output_type": "execute_result"
    }
   ],
   "source": [
    "df_capstone_clean_with_clusters['pk_partition'].unique()"
   ]
  },
  {
   "cell_type": "code",
   "execution_count": 8,
   "metadata": {},
   "outputs": [],
   "source": [
    "df_capstone_clean_with_clusters_last_partition = df_capstone_clean_with_clusters[df_capstone_clean_with_clusters['pk_partition'] == '2019-05-28']"
   ]
  },
  {
   "cell_type": "code",
   "execution_count": 9,
   "metadata": {},
   "outputs": [],
   "source": [
    "def report_df(df, verbose = True):\n",
    "    '''\n",
    "    Hace un report simple sobre el DataFrame suministrado.\n",
    "    '''\n",
    "    print(df.info(verbose = verbose, show_counts=True))\n",
    "    total_nulos = df.isnull().sum().sum()\n",
    "    print()\n",
    "    print(f\"Tenemos un total de {total_nulos} nulos\")"
   ]
  },
  {
   "cell_type": "code",
   "execution_count": 10,
   "metadata": {},
   "outputs": [
    {
     "name": "stdout",
     "output_type": "stream",
     "text": [
      "<class 'pandas.core.frame.DataFrame'>\n",
      "RangeIndex: 5962924 entries, 0 to 5962923\n",
      "Data columns (total 35 columns):\n",
      " #   Column                              Non-Null Count    Dtype         \n",
      "---  ------                              --------------    -----         \n",
      " 0   pk_cid                              5962924 non-null  int64         \n",
      " 1   pk_partition                        5962924 non-null  datetime64[ns]\n",
      " 2   segment                             5962924 non-null  object        \n",
      " 3   increased_nr_accounts_10_m+1        5506551 non-null  float64       \n",
      " 4   increased_nr_invest_savings_40_m+1  5506551 non-null  float64       \n",
      " 5   increased_nr_financing_60_m+1       5506551 non-null  float64       \n",
      " 6   age                                 5962924 non-null  int64         \n",
      " 7   financial_health_score              5962924 non-null  float64       \n",
      " 8   total_profit_customer               5962924 non-null  float64       \n",
      " 9   months_from_last_purchase           5962924 non-null  int64         \n",
      " 10  product_mix_diversity_x             5962924 non-null  float64       \n",
      " 11  nr_financing_60                     5962924 non-null  int64         \n",
      " 12  nr_invest_savings_40                5962924 non-null  int64         \n",
      " 13  nr_account_10                       5962924 non-null  int64         \n",
      " 14  nr_debt                             5962924 non-null  int64         \n",
      " 15  nr_product_trend                    5962924 non-null  float64       \n",
      " 16  customer_tenure                     5962924 non-null  int64         \n",
      " 17  nr_product_gap_to_max               5962924 non-null  int64         \n",
      " 18  nr_transactions                     5962924 non-null  float64       \n",
      " 19  loan_utilization_index              5962924 non-null  int64         \n",
      " 20  saving_behavior                     5962924 non-null  int64         \n",
      " 21  risk_index_absolute                 5962924 non-null  int64         \n",
      " 22  active_customer_rate                5962924 non-null  float64       \n",
      " 23  cluster                             5962924 non-null  float64       \n",
      " 24  active_customer                     5962924 non-null  int64         \n",
      " 25  entry_date                          5962924 non-null  datetime64[ns]\n",
      " 26  regions_ca_id                       5962924 non-null  object        \n",
      " 27  nr_account_10_trend                 5962924 non-null  float64       \n",
      " 28  nr_invest_savings_40_trend          5962924 non-null  float64       \n",
      " 29  nr_financing_60_trend               5962924 non-null  float64       \n",
      " 30  salary                              5962924 non-null  float64       \n",
      " 31  product_mix_diversity_y             5962924 non-null  float64       \n",
      " 32  increased_nr_account_10             5962924 non-null  int32         \n",
      " 33  increased_nr_invest_savings_40      5962924 non-null  int32         \n",
      " 34  increased_nr_financing_60           5962924 non-null  int32         \n",
      "dtypes: datetime64[ns](2), float64(15), int32(3), int64(13), object(2)\n",
      "memory usage: 1.5+ GB\n",
      "None\n",
      "\n",
      "Tenemos un total de 1369119 nulos\n"
     ]
    },
    {
     "data": {
      "text/html": [
       "<div>\n",
       "<style scoped>\n",
       "    .dataframe tbody tr th:only-of-type {\n",
       "        vertical-align: middle;\n",
       "    }\n",
       "\n",
       "    .dataframe tbody tr th {\n",
       "        vertical-align: top;\n",
       "    }\n",
       "\n",
       "    .dataframe thead th {\n",
       "        text-align: right;\n",
       "    }\n",
       "</style>\n",
       "<table border=\"1\" class=\"dataframe\">\n",
       "  <thead>\n",
       "    <tr style=\"text-align: right;\">\n",
       "      <th></th>\n",
       "      <th>0</th>\n",
       "      <th>1</th>\n",
       "      <th>2</th>\n",
       "      <th>3</th>\n",
       "      <th>4</th>\n",
       "    </tr>\n",
       "  </thead>\n",
       "  <tbody>\n",
       "    <tr>\n",
       "      <th>pk_cid</th>\n",
       "      <td>15891</td>\n",
       "      <td>15891</td>\n",
       "      <td>16063</td>\n",
       "      <td>16063</td>\n",
       "      <td>16063</td>\n",
       "    </tr>\n",
       "    <tr>\n",
       "      <th>pk_partition</th>\n",
       "      <td>2018-07-28 00:00:00</td>\n",
       "      <td>2018-08-28 00:00:00</td>\n",
       "      <td>2018-11-28 00:00:00</td>\n",
       "      <td>2018-12-28 00:00:00</td>\n",
       "      <td>2019-01-28 00:00:00</td>\n",
       "    </tr>\n",
       "    <tr>\n",
       "      <th>segment</th>\n",
       "      <td>02 - PARTICULARES</td>\n",
       "      <td>02 - PARTICULARES</td>\n",
       "      <td>02 - PARTICULARES</td>\n",
       "      <td>02 - PARTICULARES</td>\n",
       "      <td>02 - PARTICULARES</td>\n",
       "    </tr>\n",
       "    <tr>\n",
       "      <th>increased_nr_accounts_10_m+1</th>\n",
       "      <td>0.0</td>\n",
       "      <td>NaN</td>\n",
       "      <td>0.0</td>\n",
       "      <td>0.0</td>\n",
       "      <td>0.0</td>\n",
       "    </tr>\n",
       "    <tr>\n",
       "      <th>increased_nr_invest_savings_40_m+1</th>\n",
       "      <td>0.0</td>\n",
       "      <td>NaN</td>\n",
       "      <td>0.0</td>\n",
       "      <td>0.0</td>\n",
       "      <td>0.0</td>\n",
       "    </tr>\n",
       "    <tr>\n",
       "      <th>increased_nr_financing_60_m+1</th>\n",
       "      <td>0.0</td>\n",
       "      <td>NaN</td>\n",
       "      <td>0.0</td>\n",
       "      <td>0.0</td>\n",
       "      <td>0.0</td>\n",
       "    </tr>\n",
       "    <tr>\n",
       "      <th>age</th>\n",
       "      <td>59</td>\n",
       "      <td>59</td>\n",
       "      <td>62</td>\n",
       "      <td>62</td>\n",
       "      <td>62</td>\n",
       "    </tr>\n",
       "    <tr>\n",
       "      <th>financial_health_score</th>\n",
       "      <td>0.001671</td>\n",
       "      <td>0.001671</td>\n",
       "      <td>0.001765</td>\n",
       "      <td>0.001765</td>\n",
       "      <td>0.001765</td>\n",
       "    </tr>\n",
       "    <tr>\n",
       "      <th>total_profit_customer</th>\n",
       "      <td>0.0</td>\n",
       "      <td>0.0</td>\n",
       "      <td>0.0</td>\n",
       "      <td>0.0</td>\n",
       "      <td>0.0</td>\n",
       "    </tr>\n",
       "    <tr>\n",
       "      <th>months_from_last_purchase</th>\n",
       "      <td>0</td>\n",
       "      <td>1</td>\n",
       "      <td>0</td>\n",
       "      <td>1</td>\n",
       "      <td>2</td>\n",
       "    </tr>\n",
       "    <tr>\n",
       "      <th>product_mix_diversity_x</th>\n",
       "      <td>0.083333</td>\n",
       "      <td>0.0</td>\n",
       "      <td>0.0</td>\n",
       "      <td>0.0</td>\n",
       "      <td>0.0</td>\n",
       "    </tr>\n",
       "    <tr>\n",
       "      <th>nr_financing_60</th>\n",
       "      <td>0</td>\n",
       "      <td>0</td>\n",
       "      <td>0</td>\n",
       "      <td>0</td>\n",
       "      <td>0</td>\n",
       "    </tr>\n",
       "    <tr>\n",
       "      <th>nr_invest_savings_40</th>\n",
       "      <td>0</td>\n",
       "      <td>0</td>\n",
       "      <td>0</td>\n",
       "      <td>0</td>\n",
       "      <td>0</td>\n",
       "    </tr>\n",
       "    <tr>\n",
       "      <th>nr_account_10</th>\n",
       "      <td>1</td>\n",
       "      <td>0</td>\n",
       "      <td>0</td>\n",
       "      <td>0</td>\n",
       "      <td>0</td>\n",
       "    </tr>\n",
       "    <tr>\n",
       "      <th>nr_debt</th>\n",
       "      <td>0</td>\n",
       "      <td>0</td>\n",
       "      <td>0</td>\n",
       "      <td>0</td>\n",
       "      <td>0</td>\n",
       "    </tr>\n",
       "    <tr>\n",
       "      <th>nr_product_trend</th>\n",
       "      <td>0.0</td>\n",
       "      <td>-1.0</td>\n",
       "      <td>0.0</td>\n",
       "      <td>0.0</td>\n",
       "      <td>0.0</td>\n",
       "    </tr>\n",
       "    <tr>\n",
       "      <th>customer_tenure</th>\n",
       "      <td>304</td>\n",
       "      <td>304</td>\n",
       "      <td>190</td>\n",
       "      <td>190</td>\n",
       "      <td>190</td>\n",
       "    </tr>\n",
       "    <tr>\n",
       "      <th>nr_product_gap_to_max</th>\n",
       "      <td>0</td>\n",
       "      <td>1</td>\n",
       "      <td>0</td>\n",
       "      <td>0</td>\n",
       "      <td>0</td>\n",
       "    </tr>\n",
       "    <tr>\n",
       "      <th>nr_transactions</th>\n",
       "      <td>0.0</td>\n",
       "      <td>1.0</td>\n",
       "      <td>0.0</td>\n",
       "      <td>0.0</td>\n",
       "      <td>0.0</td>\n",
       "    </tr>\n",
       "    <tr>\n",
       "      <th>loan_utilization_index</th>\n",
       "      <td>0</td>\n",
       "      <td>0</td>\n",
       "      <td>0</td>\n",
       "      <td>0</td>\n",
       "      <td>0</td>\n",
       "    </tr>\n",
       "    <tr>\n",
       "      <th>saving_behavior</th>\n",
       "      <td>0</td>\n",
       "      <td>0</td>\n",
       "      <td>0</td>\n",
       "      <td>0</td>\n",
       "      <td>0</td>\n",
       "    </tr>\n",
       "    <tr>\n",
       "      <th>risk_index_absolute</th>\n",
       "      <td>1</td>\n",
       "      <td>0</td>\n",
       "      <td>0</td>\n",
       "      <td>0</td>\n",
       "      <td>0</td>\n",
       "    </tr>\n",
       "    <tr>\n",
       "      <th>active_customer_rate</th>\n",
       "      <td>1.0</td>\n",
       "      <td>0.5</td>\n",
       "      <td>1.0</td>\n",
       "      <td>1.0</td>\n",
       "      <td>1.0</td>\n",
       "    </tr>\n",
       "    <tr>\n",
       "      <th>cluster</th>\n",
       "      <td>-1.0</td>\n",
       "      <td>-1.0</td>\n",
       "      <td>2.0</td>\n",
       "      <td>2.0</td>\n",
       "      <td>2.0</td>\n",
       "    </tr>\n",
       "    <tr>\n",
       "      <th>active_customer</th>\n",
       "      <td>1</td>\n",
       "      <td>0</td>\n",
       "      <td>1</td>\n",
       "      <td>1</td>\n",
       "      <td>1</td>\n",
       "    </tr>\n",
       "    <tr>\n",
       "      <th>entry_date</th>\n",
       "      <td>2018-07-28 00:00:00</td>\n",
       "      <td>2018-07-28 00:00:00</td>\n",
       "      <td>2018-11-19 00:00:00</td>\n",
       "      <td>2018-11-19 00:00:00</td>\n",
       "      <td>2018-11-19 00:00:00</td>\n",
       "    </tr>\n",
       "    <tr>\n",
       "      <th>regions_ca_id</th>\n",
       "      <td>MD</td>\n",
       "      <td>MD</td>\n",
       "      <td>MD</td>\n",
       "      <td>MD</td>\n",
       "      <td>MD</td>\n",
       "    </tr>\n",
       "    <tr>\n",
       "      <th>nr_account_10_trend</th>\n",
       "      <td>0.0</td>\n",
       "      <td>-1.0</td>\n",
       "      <td>0.0</td>\n",
       "      <td>0.0</td>\n",
       "      <td>0.0</td>\n",
       "    </tr>\n",
       "    <tr>\n",
       "      <th>nr_invest_savings_40_trend</th>\n",
       "      <td>0.0</td>\n",
       "      <td>0.0</td>\n",
       "      <td>0.0</td>\n",
       "      <td>0.0</td>\n",
       "      <td>0.0</td>\n",
       "    </tr>\n",
       "    <tr>\n",
       "      <th>nr_financing_60_trend</th>\n",
       "      <td>0.0</td>\n",
       "      <td>0.0</td>\n",
       "      <td>0.0</td>\n",
       "      <td>0.0</td>\n",
       "      <td>0.0</td>\n",
       "    </tr>\n",
       "    <tr>\n",
       "      <th>salary</th>\n",
       "      <td>96539.22</td>\n",
       "      <td>96539.22</td>\n",
       "      <td>101976.87</td>\n",
       "      <td>101976.87</td>\n",
       "      <td>101976.87</td>\n",
       "    </tr>\n",
       "    <tr>\n",
       "      <th>product_mix_diversity_y</th>\n",
       "      <td>0.083333</td>\n",
       "      <td>0.0</td>\n",
       "      <td>0.0</td>\n",
       "      <td>0.0</td>\n",
       "      <td>0.0</td>\n",
       "    </tr>\n",
       "    <tr>\n",
       "      <th>increased_nr_account_10</th>\n",
       "      <td>0</td>\n",
       "      <td>0</td>\n",
       "      <td>0</td>\n",
       "      <td>0</td>\n",
       "      <td>0</td>\n",
       "    </tr>\n",
       "    <tr>\n",
       "      <th>increased_nr_invest_savings_40</th>\n",
       "      <td>0</td>\n",
       "      <td>0</td>\n",
       "      <td>0</td>\n",
       "      <td>0</td>\n",
       "      <td>0</td>\n",
       "    </tr>\n",
       "    <tr>\n",
       "      <th>increased_nr_financing_60</th>\n",
       "      <td>0</td>\n",
       "      <td>0</td>\n",
       "      <td>0</td>\n",
       "      <td>0</td>\n",
       "      <td>0</td>\n",
       "    </tr>\n",
       "  </tbody>\n",
       "</table>\n",
       "</div>"
      ],
      "text/plain": [
       "                                                      0                    1  \\\n",
       "pk_cid                                            15891                15891   \n",
       "pk_partition                        2018-07-28 00:00:00  2018-08-28 00:00:00   \n",
       "segment                               02 - PARTICULARES    02 - PARTICULARES   \n",
       "increased_nr_accounts_10_m+1                        0.0                  NaN   \n",
       "increased_nr_invest_savings_40_m+1                  0.0                  NaN   \n",
       "increased_nr_financing_60_m+1                       0.0                  NaN   \n",
       "age                                                  59                   59   \n",
       "financial_health_score                         0.001671             0.001671   \n",
       "total_profit_customer                               0.0                  0.0   \n",
       "months_from_last_purchase                             0                    1   \n",
       "product_mix_diversity_x                        0.083333                  0.0   \n",
       "nr_financing_60                                       0                    0   \n",
       "nr_invest_savings_40                                  0                    0   \n",
       "nr_account_10                                         1                    0   \n",
       "nr_debt                                               0                    0   \n",
       "nr_product_trend                                    0.0                 -1.0   \n",
       "customer_tenure                                     304                  304   \n",
       "nr_product_gap_to_max                                 0                    1   \n",
       "nr_transactions                                     0.0                  1.0   \n",
       "loan_utilization_index                                0                    0   \n",
       "saving_behavior                                       0                    0   \n",
       "risk_index_absolute                                   1                    0   \n",
       "active_customer_rate                                1.0                  0.5   \n",
       "cluster                                            -1.0                 -1.0   \n",
       "active_customer                                       1                    0   \n",
       "entry_date                          2018-07-28 00:00:00  2018-07-28 00:00:00   \n",
       "regions_ca_id                                        MD                   MD   \n",
       "nr_account_10_trend                                 0.0                 -1.0   \n",
       "nr_invest_savings_40_trend                          0.0                  0.0   \n",
       "nr_financing_60_trend                               0.0                  0.0   \n",
       "salary                                         96539.22             96539.22   \n",
       "product_mix_diversity_y                        0.083333                  0.0   \n",
       "increased_nr_account_10                               0                    0   \n",
       "increased_nr_invest_savings_40                        0                    0   \n",
       "increased_nr_financing_60                             0                    0   \n",
       "\n",
       "                                                      2                    3  \\\n",
       "pk_cid                                            16063                16063   \n",
       "pk_partition                        2018-11-28 00:00:00  2018-12-28 00:00:00   \n",
       "segment                               02 - PARTICULARES    02 - PARTICULARES   \n",
       "increased_nr_accounts_10_m+1                        0.0                  0.0   \n",
       "increased_nr_invest_savings_40_m+1                  0.0                  0.0   \n",
       "increased_nr_financing_60_m+1                       0.0                  0.0   \n",
       "age                                                  62                   62   \n",
       "financial_health_score                         0.001765             0.001765   \n",
       "total_profit_customer                               0.0                  0.0   \n",
       "months_from_last_purchase                             0                    1   \n",
       "product_mix_diversity_x                             0.0                  0.0   \n",
       "nr_financing_60                                       0                    0   \n",
       "nr_invest_savings_40                                  0                    0   \n",
       "nr_account_10                                         0                    0   \n",
       "nr_debt                                               0                    0   \n",
       "nr_product_trend                                    0.0                  0.0   \n",
       "customer_tenure                                     190                  190   \n",
       "nr_product_gap_to_max                                 0                    0   \n",
       "nr_transactions                                     0.0                  0.0   \n",
       "loan_utilization_index                                0                    0   \n",
       "saving_behavior                                       0                    0   \n",
       "risk_index_absolute                                   0                    0   \n",
       "active_customer_rate                                1.0                  1.0   \n",
       "cluster                                             2.0                  2.0   \n",
       "active_customer                                       1                    1   \n",
       "entry_date                          2018-11-19 00:00:00  2018-11-19 00:00:00   \n",
       "regions_ca_id                                        MD                   MD   \n",
       "nr_account_10_trend                                 0.0                  0.0   \n",
       "nr_invest_savings_40_trend                          0.0                  0.0   \n",
       "nr_financing_60_trend                               0.0                  0.0   \n",
       "salary                                        101976.87            101976.87   \n",
       "product_mix_diversity_y                             0.0                  0.0   \n",
       "increased_nr_account_10                               0                    0   \n",
       "increased_nr_invest_savings_40                        0                    0   \n",
       "increased_nr_financing_60                             0                    0   \n",
       "\n",
       "                                                      4  \n",
       "pk_cid                                            16063  \n",
       "pk_partition                        2019-01-28 00:00:00  \n",
       "segment                               02 - PARTICULARES  \n",
       "increased_nr_accounts_10_m+1                        0.0  \n",
       "increased_nr_invest_savings_40_m+1                  0.0  \n",
       "increased_nr_financing_60_m+1                       0.0  \n",
       "age                                                  62  \n",
       "financial_health_score                         0.001765  \n",
       "total_profit_customer                               0.0  \n",
       "months_from_last_purchase                             2  \n",
       "product_mix_diversity_x                             0.0  \n",
       "nr_financing_60                                       0  \n",
       "nr_invest_savings_40                                  0  \n",
       "nr_account_10                                         0  \n",
       "nr_debt                                               0  \n",
       "nr_product_trend                                    0.0  \n",
       "customer_tenure                                     190  \n",
       "nr_product_gap_to_max                                 0  \n",
       "nr_transactions                                     0.0  \n",
       "loan_utilization_index                                0  \n",
       "saving_behavior                                       0  \n",
       "risk_index_absolute                                   0  \n",
       "active_customer_rate                                1.0  \n",
       "cluster                                             2.0  \n",
       "active_customer                                       1  \n",
       "entry_date                          2018-11-19 00:00:00  \n",
       "regions_ca_id                                        MD  \n",
       "nr_account_10_trend                                 0.0  \n",
       "nr_invest_savings_40_trend                          0.0  \n",
       "nr_financing_60_trend                               0.0  \n",
       "salary                                        101976.87  \n",
       "product_mix_diversity_y                             0.0  \n",
       "increased_nr_account_10                               0  \n",
       "increased_nr_invest_savings_40                        0  \n",
       "increased_nr_financing_60                             0  "
      ]
     },
     "execution_count": 10,
     "metadata": {},
     "output_type": "execute_result"
    }
   ],
   "source": [
    "report_df(df_capstone_clean_with_clusters)\n",
    "\n",
    "df_capstone_clean_with_clusters.head().T"
   ]
  },
  {
   "cell_type": "markdown",
   "metadata": {},
   "source": [
    "### Cargamos las funciones e importamos el pipeline"
   ]
  },
  {
   "cell_type": "code",
   "execution_count": 11,
   "metadata": {},
   "outputs": [],
   "source": [
    "from functions.functions_for_classifier import pk_partition_month_extraction, convert_entry_date_to_numeric"
   ]
  },
  {
   "cell_type": "code",
   "execution_count": 12,
   "metadata": {},
   "outputs": [
    {
     "name": "stdout",
     "output_type": "stream",
     "text": [
      "def pk_partition_month_extraction(df):\n",
      "    \n",
      "    # df['pk_partition_month'] = df['pk_partition'].dt.month_name()\n",
      "    df.drop('pk_partition', axis='columns', inplace=True)\n",
      "    \n",
      "    return df\n",
      "\n"
     ]
    }
   ],
   "source": [
    "source = inspect.getsource(pk_partition_month_extraction)\n",
    "\n",
    "print(source)"
   ]
  },
  {
   "cell_type": "code",
   "execution_count": 13,
   "metadata": {},
   "outputs": [
    {
     "name": "stdout",
     "output_type": "stream",
     "text": [
      "def convert_entry_date_to_numeric(df):\n",
      "    \n",
      "    df['entry_date'] = df['entry_date'].apply(lambda x: x.timestamp()).astype('int')\n",
      "    \n",
      "    return df\n",
      "\n"
     ]
    }
   ],
   "source": [
    "source = inspect.getsource(convert_entry_date_to_numeric)\n",
    "\n",
    "print(source)"
   ]
  },
  {
   "cell_type": "code",
   "execution_count": 14,
   "metadata": {},
   "outputs": [],
   "source": [
    "CWD = os.getcwd()\n",
    "DATA_PATH = os.path.join(CWD, 'classifier_propension')\n",
    "PIPE_PATH_ACCOUNTS = os.path.join(DATA_PATH, 'pipeline_para_classifier_propension_con_cluster_accounts.pkl')\n",
    "PIPE_PATH_SAVING_AND_INVESTMENT = os.path.join(DATA_PATH, 'pipeline_para_classifier_propension_con_cluster_saving_and_investment.pkl')\n",
    "PIPE_PATH_FINANCING = os.path.join(DATA_PATH, 'pipeline_para_classifier_propension_con_cluster_financing.pkl')\n",
    "\n",
    "pipe_accounts = pickle.load(open(PIPE_PATH_ACCOUNTS, 'rb'))\n",
    "pipe_saving_and_investment = pickle.load(open(PIPE_PATH_SAVING_AND_INVESTMENT, 'rb'))\n",
    "pipe_financing = pickle.load(open(PIPE_PATH_FINANCING, 'rb'))"
   ]
  },
  {
   "cell_type": "code",
   "execution_count": 15,
   "metadata": {},
   "outputs": [
    {
     "data": {
      "text/html": [
       "<style>#sk-container-id-1 {color: black;}#sk-container-id-1 pre{padding: 0;}#sk-container-id-1 div.sk-toggleable {background-color: white;}#sk-container-id-1 label.sk-toggleable__label {cursor: pointer;display: block;width: 100%;margin-bottom: 0;padding: 0.3em;box-sizing: border-box;text-align: center;}#sk-container-id-1 label.sk-toggleable__label-arrow:before {content: \"▸\";float: left;margin-right: 0.25em;color: #696969;}#sk-container-id-1 label.sk-toggleable__label-arrow:hover:before {color: black;}#sk-container-id-1 div.sk-estimator:hover label.sk-toggleable__label-arrow:before {color: black;}#sk-container-id-1 div.sk-toggleable__content {max-height: 0;max-width: 0;overflow: hidden;text-align: left;background-color: #f0f8ff;}#sk-container-id-1 div.sk-toggleable__content pre {margin: 0.2em;color: black;border-radius: 0.25em;background-color: #f0f8ff;}#sk-container-id-1 input.sk-toggleable__control:checked~div.sk-toggleable__content {max-height: 200px;max-width: 100%;overflow: auto;}#sk-container-id-1 input.sk-toggleable__control:checked~label.sk-toggleable__label-arrow:before {content: \"▾\";}#sk-container-id-1 div.sk-estimator input.sk-toggleable__control:checked~label.sk-toggleable__label {background-color: #d4ebff;}#sk-container-id-1 div.sk-label input.sk-toggleable__control:checked~label.sk-toggleable__label {background-color: #d4ebff;}#sk-container-id-1 input.sk-hidden--visually {border: 0;clip: rect(1px 1px 1px 1px);clip: rect(1px, 1px, 1px, 1px);height: 1px;margin: -1px;overflow: hidden;padding: 0;position: absolute;width: 1px;}#sk-container-id-1 div.sk-estimator {font-family: monospace;background-color: #f0f8ff;border: 1px dotted black;border-radius: 0.25em;box-sizing: border-box;margin-bottom: 0.5em;}#sk-container-id-1 div.sk-estimator:hover {background-color: #d4ebff;}#sk-container-id-1 div.sk-parallel-item::after {content: \"\";width: 100%;border-bottom: 1px solid gray;flex-grow: 1;}#sk-container-id-1 div.sk-label:hover label.sk-toggleable__label {background-color: #d4ebff;}#sk-container-id-1 div.sk-serial::before {content: \"\";position: absolute;border-left: 1px solid gray;box-sizing: border-box;top: 0;bottom: 0;left: 50%;z-index: 0;}#sk-container-id-1 div.sk-serial {display: flex;flex-direction: column;align-items: center;background-color: white;padding-right: 0.2em;padding-left: 0.2em;position: relative;}#sk-container-id-1 div.sk-item {position: relative;z-index: 1;}#sk-container-id-1 div.sk-parallel {display: flex;align-items: stretch;justify-content: center;background-color: white;position: relative;}#sk-container-id-1 div.sk-item::before, #sk-container-id-1 div.sk-parallel-item::before {content: \"\";position: absolute;border-left: 1px solid gray;box-sizing: border-box;top: 0;bottom: 0;left: 50%;z-index: -1;}#sk-container-id-1 div.sk-parallel-item {display: flex;flex-direction: column;z-index: 1;position: relative;background-color: white;}#sk-container-id-1 div.sk-parallel-item:first-child::after {align-self: flex-end;width: 50%;}#sk-container-id-1 div.sk-parallel-item:last-child::after {align-self: flex-start;width: 50%;}#sk-container-id-1 div.sk-parallel-item:only-child::after {width: 0;}#sk-container-id-1 div.sk-dashed-wrapped {border: 1px dashed gray;margin: 0 0.4em 0.5em 0.4em;box-sizing: border-box;padding-bottom: 0.4em;background-color: white;}#sk-container-id-1 div.sk-label label {font-family: monospace;font-weight: bold;display: inline-block;line-height: 1.2em;}#sk-container-id-1 div.sk-label-container {text-align: center;}#sk-container-id-1 div.sk-container {/* jupyter's `normalize.less` sets `[hidden] { display: none; }` but bootstrap.min.css set `[hidden] { display: none !important; }` so we also need the `!important` here to be able to override the default hidden behavior on the sphinx rendered scikit-learn.org. See: https://github.com/scikit-learn/scikit-learn/issues/21755 */display: inline-block !important;position: relative;}#sk-container-id-1 div.sk-text-repr-fallback {display: none;}</style><div id=\"sk-container-id-1\" class=\"sk-top-container\"><div class=\"sk-text-repr-fallback\"><pre>Pipeline(steps=[(&#x27;pk_partition_month_extraction&#x27;,\n",
       "                 FunctionTransformer(func=&lt;function pk_partition_month_extraction at 0x00000286126D8EA0&gt;)),\n",
       "                (&#x27;convert_entry_date_to_numeric&#x27;,\n",
       "                 FunctionTransformer(func=&lt;function convert_entry_date_to_numeric at 0x00000286126D9120&gt;)),\n",
       "                (&#x27;encoder&#x27;,\n",
       "                 ColumnTransformer(remainder=&#x27;passthrough&#x27;,\n",
       "                                   transformers=[(&#x27;oe_cat&#x27;,\n",
       "                                                  OneHotEncoder(dtype=&#x27;int8&#x27;,\n",
       "                                                                handle_unknown=&#x27;ignore&#x27;,\n",
       "                                                                sparse_output=False),\n",
       "                                                  [&#x27;regions_ca_id&#x27;, &#x27;cluster&#x27;]),\n",
       "                                                 (&#x27;orde_cat&#x27;,\n",
       "                                                  OrdinalEncoder(categories=[[&#x27;03 &#x27;\n",
       "                                                                              &#x27;- &#x27;\n",
       "                                                                              &#x27;UNIVERSITARIO&#x27;,\n",
       "                                                                              &#x27;02 &#x27;\n",
       "                                                                              &#x27;- &#x27;\n",
       "                                                                              &#x27;PARTICULARES&#x27;,\n",
       "                                                                              &#x27;01 &#x27;\n",
       "                                                                              &#x27;- &#x27;\n",
       "                                                                              &#x27;TOP&#x27;]]),\n",
       "                                                  [&#x27;segment&#x27;])],\n",
       "                                   verbose_feature_names_out=False))])</pre><b>In a Jupyter environment, please rerun this cell to show the HTML representation or trust the notebook. <br />On GitHub, the HTML representation is unable to render, please try loading this page with nbviewer.org.</b></div><div class=\"sk-container\" hidden><div class=\"sk-item sk-dashed-wrapped\"><div class=\"sk-label-container\"><div class=\"sk-label sk-toggleable\"><input class=\"sk-toggleable__control sk-hidden--visually\" id=\"sk-estimator-id-1\" type=\"checkbox\" ><label for=\"sk-estimator-id-1\" class=\"sk-toggleable__label sk-toggleable__label-arrow\">Pipeline</label><div class=\"sk-toggleable__content\"><pre>Pipeline(steps=[(&#x27;pk_partition_month_extraction&#x27;,\n",
       "                 FunctionTransformer(func=&lt;function pk_partition_month_extraction at 0x00000286126D8EA0&gt;)),\n",
       "                (&#x27;convert_entry_date_to_numeric&#x27;,\n",
       "                 FunctionTransformer(func=&lt;function convert_entry_date_to_numeric at 0x00000286126D9120&gt;)),\n",
       "                (&#x27;encoder&#x27;,\n",
       "                 ColumnTransformer(remainder=&#x27;passthrough&#x27;,\n",
       "                                   transformers=[(&#x27;oe_cat&#x27;,\n",
       "                                                  OneHotEncoder(dtype=&#x27;int8&#x27;,\n",
       "                                                                handle_unknown=&#x27;ignore&#x27;,\n",
       "                                                                sparse_output=False),\n",
       "                                                  [&#x27;regions_ca_id&#x27;, &#x27;cluster&#x27;]),\n",
       "                                                 (&#x27;orde_cat&#x27;,\n",
       "                                                  OrdinalEncoder(categories=[[&#x27;03 &#x27;\n",
       "                                                                              &#x27;- &#x27;\n",
       "                                                                              &#x27;UNIVERSITARIO&#x27;,\n",
       "                                                                              &#x27;02 &#x27;\n",
       "                                                                              &#x27;- &#x27;\n",
       "                                                                              &#x27;PARTICULARES&#x27;,\n",
       "                                                                              &#x27;01 &#x27;\n",
       "                                                                              &#x27;- &#x27;\n",
       "                                                                              &#x27;TOP&#x27;]]),\n",
       "                                                  [&#x27;segment&#x27;])],\n",
       "                                   verbose_feature_names_out=False))])</pre></div></div></div><div class=\"sk-serial\"><div class=\"sk-item\"><div class=\"sk-estimator sk-toggleable\"><input class=\"sk-toggleable__control sk-hidden--visually\" id=\"sk-estimator-id-2\" type=\"checkbox\" ><label for=\"sk-estimator-id-2\" class=\"sk-toggleable__label sk-toggleable__label-arrow\">FunctionTransformer</label><div class=\"sk-toggleable__content\"><pre>FunctionTransformer(func=&lt;function pk_partition_month_extraction at 0x00000286126D8EA0&gt;)</pre></div></div></div><div class=\"sk-item\"><div class=\"sk-estimator sk-toggleable\"><input class=\"sk-toggleable__control sk-hidden--visually\" id=\"sk-estimator-id-3\" type=\"checkbox\" ><label for=\"sk-estimator-id-3\" class=\"sk-toggleable__label sk-toggleable__label-arrow\">FunctionTransformer</label><div class=\"sk-toggleable__content\"><pre>FunctionTransformer(func=&lt;function convert_entry_date_to_numeric at 0x00000286126D9120&gt;)</pre></div></div></div><div class=\"sk-item sk-dashed-wrapped\"><div class=\"sk-label-container\"><div class=\"sk-label sk-toggleable\"><input class=\"sk-toggleable__control sk-hidden--visually\" id=\"sk-estimator-id-4\" type=\"checkbox\" ><label for=\"sk-estimator-id-4\" class=\"sk-toggleable__label sk-toggleable__label-arrow\">encoder: ColumnTransformer</label><div class=\"sk-toggleable__content\"><pre>ColumnTransformer(remainder=&#x27;passthrough&#x27;,\n",
       "                  transformers=[(&#x27;oe_cat&#x27;,\n",
       "                                 OneHotEncoder(dtype=&#x27;int8&#x27;,\n",
       "                                               handle_unknown=&#x27;ignore&#x27;,\n",
       "                                               sparse_output=False),\n",
       "                                 [&#x27;regions_ca_id&#x27;, &#x27;cluster&#x27;]),\n",
       "                                (&#x27;orde_cat&#x27;,\n",
       "                                 OrdinalEncoder(categories=[[&#x27;03 - &#x27;\n",
       "                                                             &#x27;UNIVERSITARIO&#x27;,\n",
       "                                                             &#x27;02 - &#x27;\n",
       "                                                             &#x27;PARTICULARES&#x27;,\n",
       "                                                             &#x27;01 - TOP&#x27;]]),\n",
       "                                 [&#x27;segment&#x27;])],\n",
       "                  verbose_feature_names_out=False)</pre></div></div></div><div class=\"sk-parallel\"><div class=\"sk-parallel-item\"><div class=\"sk-item\"><div class=\"sk-label-container\"><div class=\"sk-label sk-toggleable\"><input class=\"sk-toggleable__control sk-hidden--visually\" id=\"sk-estimator-id-5\" type=\"checkbox\" ><label for=\"sk-estimator-id-5\" class=\"sk-toggleable__label sk-toggleable__label-arrow\">oe_cat</label><div class=\"sk-toggleable__content\"><pre>[&#x27;regions_ca_id&#x27;, &#x27;cluster&#x27;]</pre></div></div></div><div class=\"sk-serial\"><div class=\"sk-item\"><div class=\"sk-estimator sk-toggleable\"><input class=\"sk-toggleable__control sk-hidden--visually\" id=\"sk-estimator-id-6\" type=\"checkbox\" ><label for=\"sk-estimator-id-6\" class=\"sk-toggleable__label sk-toggleable__label-arrow\">OneHotEncoder</label><div class=\"sk-toggleable__content\"><pre>OneHotEncoder(dtype=&#x27;int8&#x27;, handle_unknown=&#x27;ignore&#x27;, sparse_output=False)</pre></div></div></div></div></div></div><div class=\"sk-parallel-item\"><div class=\"sk-item\"><div class=\"sk-label-container\"><div class=\"sk-label sk-toggleable\"><input class=\"sk-toggleable__control sk-hidden--visually\" id=\"sk-estimator-id-7\" type=\"checkbox\" ><label for=\"sk-estimator-id-7\" class=\"sk-toggleable__label sk-toggleable__label-arrow\">orde_cat</label><div class=\"sk-toggleable__content\"><pre>[&#x27;segment&#x27;]</pre></div></div></div><div class=\"sk-serial\"><div class=\"sk-item\"><div class=\"sk-estimator sk-toggleable\"><input class=\"sk-toggleable__control sk-hidden--visually\" id=\"sk-estimator-id-8\" type=\"checkbox\" ><label for=\"sk-estimator-id-8\" class=\"sk-toggleable__label sk-toggleable__label-arrow\">OrdinalEncoder</label><div class=\"sk-toggleable__content\"><pre>OrdinalEncoder(categories=[[&#x27;03 - UNIVERSITARIO&#x27;, &#x27;02 - PARTICULARES&#x27;,\n",
       "                            &#x27;01 - TOP&#x27;]])</pre></div></div></div></div></div></div><div class=\"sk-parallel-item\"><div class=\"sk-item\"><div class=\"sk-label-container\"><div class=\"sk-label sk-toggleable\"><input class=\"sk-toggleable__control sk-hidden--visually\" id=\"sk-estimator-id-9\" type=\"checkbox\" ><label for=\"sk-estimator-id-9\" class=\"sk-toggleable__label sk-toggleable__label-arrow\">remainder</label><div class=\"sk-toggleable__content\"><pre>[&#x27;pk_cid&#x27;, &#x27;increased_nr_accounts_10_m+1&#x27;, &#x27;age&#x27;, &#x27;months_from_last_purchase&#x27;, &#x27;nr_financing_60&#x27;, &#x27;nr_account_10&#x27;, &#x27;nr_debt&#x27;, &#x27;nr_product_trend&#x27;, &#x27;customer_tenure&#x27;, &#x27;nr_transactions&#x27;, &#x27;saving_behavior&#x27;, &#x27;risk_index_absolute&#x27;, &#x27;active_customer_rate&#x27;, &#x27;entry_date&#x27;, &#x27;nr_account_10_trend&#x27;, &#x27;salary&#x27;, &#x27;increased_nr_account_10&#x27;]</pre></div></div></div><div class=\"sk-serial\"><div class=\"sk-item\"><div class=\"sk-estimator sk-toggleable\"><input class=\"sk-toggleable__control sk-hidden--visually\" id=\"sk-estimator-id-10\" type=\"checkbox\" ><label for=\"sk-estimator-id-10\" class=\"sk-toggleable__label sk-toggleable__label-arrow\">passthrough</label><div class=\"sk-toggleable__content\"><pre>passthrough</pre></div></div></div></div></div></div></div></div></div></div></div></div>"
      ],
      "text/plain": [
       "Pipeline(steps=[('pk_partition_month_extraction',\n",
       "                 FunctionTransformer(func=<function pk_partition_month_extraction at 0x00000286126D8EA0>)),\n",
       "                ('convert_entry_date_to_numeric',\n",
       "                 FunctionTransformer(func=<function convert_entry_date_to_numeric at 0x00000286126D9120>)),\n",
       "                ('encoder',\n",
       "                 ColumnTransformer(remainder='passthrough',\n",
       "                                   transformers=[('oe_cat',\n",
       "                                                  OneHotEncoder(dtype='int8',\n",
       "                                                                handle_unknown='ignore',\n",
       "                                                                sparse_output=False),\n",
       "                                                  ['regions_ca_id', 'cluster']),\n",
       "                                                 ('orde_cat',\n",
       "                                                  OrdinalEncoder(categories=[['03 '\n",
       "                                                                              '- '\n",
       "                                                                              'UNIVERSITARIO',\n",
       "                                                                              '02 '\n",
       "                                                                              '- '\n",
       "                                                                              'PARTICULARES',\n",
       "                                                                              '01 '\n",
       "                                                                              '- '\n",
       "                                                                              'TOP']]),\n",
       "                                                  ['segment'])],\n",
       "                                   verbose_feature_names_out=False))])"
      ]
     },
     "execution_count": 15,
     "metadata": {},
     "output_type": "execute_result"
    }
   ],
   "source": [
    "pipe_accounts\n"
   ]
  },
  {
   "cell_type": "code",
   "execution_count": 16,
   "metadata": {},
   "outputs": [
    {
     "data": {
      "text/html": [
       "<style>#sk-container-id-2 {color: black;}#sk-container-id-2 pre{padding: 0;}#sk-container-id-2 div.sk-toggleable {background-color: white;}#sk-container-id-2 label.sk-toggleable__label {cursor: pointer;display: block;width: 100%;margin-bottom: 0;padding: 0.3em;box-sizing: border-box;text-align: center;}#sk-container-id-2 label.sk-toggleable__label-arrow:before {content: \"▸\";float: left;margin-right: 0.25em;color: #696969;}#sk-container-id-2 label.sk-toggleable__label-arrow:hover:before {color: black;}#sk-container-id-2 div.sk-estimator:hover label.sk-toggleable__label-arrow:before {color: black;}#sk-container-id-2 div.sk-toggleable__content {max-height: 0;max-width: 0;overflow: hidden;text-align: left;background-color: #f0f8ff;}#sk-container-id-2 div.sk-toggleable__content pre {margin: 0.2em;color: black;border-radius: 0.25em;background-color: #f0f8ff;}#sk-container-id-2 input.sk-toggleable__control:checked~div.sk-toggleable__content {max-height: 200px;max-width: 100%;overflow: auto;}#sk-container-id-2 input.sk-toggleable__control:checked~label.sk-toggleable__label-arrow:before {content: \"▾\";}#sk-container-id-2 div.sk-estimator input.sk-toggleable__control:checked~label.sk-toggleable__label {background-color: #d4ebff;}#sk-container-id-2 div.sk-label input.sk-toggleable__control:checked~label.sk-toggleable__label {background-color: #d4ebff;}#sk-container-id-2 input.sk-hidden--visually {border: 0;clip: rect(1px 1px 1px 1px);clip: rect(1px, 1px, 1px, 1px);height: 1px;margin: -1px;overflow: hidden;padding: 0;position: absolute;width: 1px;}#sk-container-id-2 div.sk-estimator {font-family: monospace;background-color: #f0f8ff;border: 1px dotted black;border-radius: 0.25em;box-sizing: border-box;margin-bottom: 0.5em;}#sk-container-id-2 div.sk-estimator:hover {background-color: #d4ebff;}#sk-container-id-2 div.sk-parallel-item::after {content: \"\";width: 100%;border-bottom: 1px solid gray;flex-grow: 1;}#sk-container-id-2 div.sk-label:hover label.sk-toggleable__label {background-color: #d4ebff;}#sk-container-id-2 div.sk-serial::before {content: \"\";position: absolute;border-left: 1px solid gray;box-sizing: border-box;top: 0;bottom: 0;left: 50%;z-index: 0;}#sk-container-id-2 div.sk-serial {display: flex;flex-direction: column;align-items: center;background-color: white;padding-right: 0.2em;padding-left: 0.2em;position: relative;}#sk-container-id-2 div.sk-item {position: relative;z-index: 1;}#sk-container-id-2 div.sk-parallel {display: flex;align-items: stretch;justify-content: center;background-color: white;position: relative;}#sk-container-id-2 div.sk-item::before, #sk-container-id-2 div.sk-parallel-item::before {content: \"\";position: absolute;border-left: 1px solid gray;box-sizing: border-box;top: 0;bottom: 0;left: 50%;z-index: -1;}#sk-container-id-2 div.sk-parallel-item {display: flex;flex-direction: column;z-index: 1;position: relative;background-color: white;}#sk-container-id-2 div.sk-parallel-item:first-child::after {align-self: flex-end;width: 50%;}#sk-container-id-2 div.sk-parallel-item:last-child::after {align-self: flex-start;width: 50%;}#sk-container-id-2 div.sk-parallel-item:only-child::after {width: 0;}#sk-container-id-2 div.sk-dashed-wrapped {border: 1px dashed gray;margin: 0 0.4em 0.5em 0.4em;box-sizing: border-box;padding-bottom: 0.4em;background-color: white;}#sk-container-id-2 div.sk-label label {font-family: monospace;font-weight: bold;display: inline-block;line-height: 1.2em;}#sk-container-id-2 div.sk-label-container {text-align: center;}#sk-container-id-2 div.sk-container {/* jupyter's `normalize.less` sets `[hidden] { display: none; }` but bootstrap.min.css set `[hidden] { display: none !important; }` so we also need the `!important` here to be able to override the default hidden behavior on the sphinx rendered scikit-learn.org. See: https://github.com/scikit-learn/scikit-learn/issues/21755 */display: inline-block !important;position: relative;}#sk-container-id-2 div.sk-text-repr-fallback {display: none;}</style><div id=\"sk-container-id-2\" class=\"sk-top-container\"><div class=\"sk-text-repr-fallback\"><pre>Pipeline(steps=[(&#x27;pk_partition_month_extraction&#x27;,\n",
       "                 FunctionTransformer(func=&lt;function pk_partition_month_extraction at 0x00000286126D8EA0&gt;)),\n",
       "                (&#x27;convert_entry_date_to_numeric&#x27;,\n",
       "                 FunctionTransformer(func=&lt;function convert_entry_date_to_numeric at 0x00000286126D9120&gt;)),\n",
       "                (&#x27;encoder&#x27;,\n",
       "                 ColumnTransformer(remainder=&#x27;passthrough&#x27;,\n",
       "                                   transformers=[(&#x27;oe_cat&#x27;,\n",
       "                                                  OneHotEncoder(dtype=&#x27;int8&#x27;,\n",
       "                                                                handle_unknown=&#x27;ignore&#x27;,\n",
       "                                                                sparse_output=False),\n",
       "                                                  [&#x27;regions_ca_id&#x27;, &#x27;cluster&#x27;]),\n",
       "                                                 (&#x27;orde_cat&#x27;,\n",
       "                                                  OrdinalEncoder(categories=[[&#x27;03 &#x27;\n",
       "                                                                              &#x27;- &#x27;\n",
       "                                                                              &#x27;UNIVERSITARIO&#x27;,\n",
       "                                                                              &#x27;02 &#x27;\n",
       "                                                                              &#x27;- &#x27;\n",
       "                                                                              &#x27;PARTICULARES&#x27;,\n",
       "                                                                              &#x27;01 &#x27;\n",
       "                                                                              &#x27;- &#x27;\n",
       "                                                                              &#x27;TOP&#x27;]]),\n",
       "                                                  [&#x27;segment&#x27;])],\n",
       "                                   verbose_feature_names_out=False))])</pre><b>In a Jupyter environment, please rerun this cell to show the HTML representation or trust the notebook. <br />On GitHub, the HTML representation is unable to render, please try loading this page with nbviewer.org.</b></div><div class=\"sk-container\" hidden><div class=\"sk-item sk-dashed-wrapped\"><div class=\"sk-label-container\"><div class=\"sk-label sk-toggleable\"><input class=\"sk-toggleable__control sk-hidden--visually\" id=\"sk-estimator-id-11\" type=\"checkbox\" ><label for=\"sk-estimator-id-11\" class=\"sk-toggleable__label sk-toggleable__label-arrow\">Pipeline</label><div class=\"sk-toggleable__content\"><pre>Pipeline(steps=[(&#x27;pk_partition_month_extraction&#x27;,\n",
       "                 FunctionTransformer(func=&lt;function pk_partition_month_extraction at 0x00000286126D8EA0&gt;)),\n",
       "                (&#x27;convert_entry_date_to_numeric&#x27;,\n",
       "                 FunctionTransformer(func=&lt;function convert_entry_date_to_numeric at 0x00000286126D9120&gt;)),\n",
       "                (&#x27;encoder&#x27;,\n",
       "                 ColumnTransformer(remainder=&#x27;passthrough&#x27;,\n",
       "                                   transformers=[(&#x27;oe_cat&#x27;,\n",
       "                                                  OneHotEncoder(dtype=&#x27;int8&#x27;,\n",
       "                                                                handle_unknown=&#x27;ignore&#x27;,\n",
       "                                                                sparse_output=False),\n",
       "                                                  [&#x27;regions_ca_id&#x27;, &#x27;cluster&#x27;]),\n",
       "                                                 (&#x27;orde_cat&#x27;,\n",
       "                                                  OrdinalEncoder(categories=[[&#x27;03 &#x27;\n",
       "                                                                              &#x27;- &#x27;\n",
       "                                                                              &#x27;UNIVERSITARIO&#x27;,\n",
       "                                                                              &#x27;02 &#x27;\n",
       "                                                                              &#x27;- &#x27;\n",
       "                                                                              &#x27;PARTICULARES&#x27;,\n",
       "                                                                              &#x27;01 &#x27;\n",
       "                                                                              &#x27;- &#x27;\n",
       "                                                                              &#x27;TOP&#x27;]]),\n",
       "                                                  [&#x27;segment&#x27;])],\n",
       "                                   verbose_feature_names_out=False))])</pre></div></div></div><div class=\"sk-serial\"><div class=\"sk-item\"><div class=\"sk-estimator sk-toggleable\"><input class=\"sk-toggleable__control sk-hidden--visually\" id=\"sk-estimator-id-12\" type=\"checkbox\" ><label for=\"sk-estimator-id-12\" class=\"sk-toggleable__label sk-toggleable__label-arrow\">FunctionTransformer</label><div class=\"sk-toggleable__content\"><pre>FunctionTransformer(func=&lt;function pk_partition_month_extraction at 0x00000286126D8EA0&gt;)</pre></div></div></div><div class=\"sk-item\"><div class=\"sk-estimator sk-toggleable\"><input class=\"sk-toggleable__control sk-hidden--visually\" id=\"sk-estimator-id-13\" type=\"checkbox\" ><label for=\"sk-estimator-id-13\" class=\"sk-toggleable__label sk-toggleable__label-arrow\">FunctionTransformer</label><div class=\"sk-toggleable__content\"><pre>FunctionTransformer(func=&lt;function convert_entry_date_to_numeric at 0x00000286126D9120&gt;)</pre></div></div></div><div class=\"sk-item sk-dashed-wrapped\"><div class=\"sk-label-container\"><div class=\"sk-label sk-toggleable\"><input class=\"sk-toggleable__control sk-hidden--visually\" id=\"sk-estimator-id-14\" type=\"checkbox\" ><label for=\"sk-estimator-id-14\" class=\"sk-toggleable__label sk-toggleable__label-arrow\">encoder: ColumnTransformer</label><div class=\"sk-toggleable__content\"><pre>ColumnTransformer(remainder=&#x27;passthrough&#x27;,\n",
       "                  transformers=[(&#x27;oe_cat&#x27;,\n",
       "                                 OneHotEncoder(dtype=&#x27;int8&#x27;,\n",
       "                                               handle_unknown=&#x27;ignore&#x27;,\n",
       "                                               sparse_output=False),\n",
       "                                 [&#x27;regions_ca_id&#x27;, &#x27;cluster&#x27;]),\n",
       "                                (&#x27;orde_cat&#x27;,\n",
       "                                 OrdinalEncoder(categories=[[&#x27;03 - &#x27;\n",
       "                                                             &#x27;UNIVERSITARIO&#x27;,\n",
       "                                                             &#x27;02 - &#x27;\n",
       "                                                             &#x27;PARTICULARES&#x27;,\n",
       "                                                             &#x27;01 - TOP&#x27;]]),\n",
       "                                 [&#x27;segment&#x27;])],\n",
       "                  verbose_feature_names_out=False)</pre></div></div></div><div class=\"sk-parallel\"><div class=\"sk-parallel-item\"><div class=\"sk-item\"><div class=\"sk-label-container\"><div class=\"sk-label sk-toggleable\"><input class=\"sk-toggleable__control sk-hidden--visually\" id=\"sk-estimator-id-15\" type=\"checkbox\" ><label for=\"sk-estimator-id-15\" class=\"sk-toggleable__label sk-toggleable__label-arrow\">oe_cat</label><div class=\"sk-toggleable__content\"><pre>[&#x27;regions_ca_id&#x27;, &#x27;cluster&#x27;]</pre></div></div></div><div class=\"sk-serial\"><div class=\"sk-item\"><div class=\"sk-estimator sk-toggleable\"><input class=\"sk-toggleable__control sk-hidden--visually\" id=\"sk-estimator-id-16\" type=\"checkbox\" ><label for=\"sk-estimator-id-16\" class=\"sk-toggleable__label sk-toggleable__label-arrow\">OneHotEncoder</label><div class=\"sk-toggleable__content\"><pre>OneHotEncoder(dtype=&#x27;int8&#x27;, handle_unknown=&#x27;ignore&#x27;, sparse_output=False)</pre></div></div></div></div></div></div><div class=\"sk-parallel-item\"><div class=\"sk-item\"><div class=\"sk-label-container\"><div class=\"sk-label sk-toggleable\"><input class=\"sk-toggleable__control sk-hidden--visually\" id=\"sk-estimator-id-17\" type=\"checkbox\" ><label for=\"sk-estimator-id-17\" class=\"sk-toggleable__label sk-toggleable__label-arrow\">orde_cat</label><div class=\"sk-toggleable__content\"><pre>[&#x27;segment&#x27;]</pre></div></div></div><div class=\"sk-serial\"><div class=\"sk-item\"><div class=\"sk-estimator sk-toggleable\"><input class=\"sk-toggleable__control sk-hidden--visually\" id=\"sk-estimator-id-18\" type=\"checkbox\" ><label for=\"sk-estimator-id-18\" class=\"sk-toggleable__label sk-toggleable__label-arrow\">OrdinalEncoder</label><div class=\"sk-toggleable__content\"><pre>OrdinalEncoder(categories=[[&#x27;03 - UNIVERSITARIO&#x27;, &#x27;02 - PARTICULARES&#x27;,\n",
       "                            &#x27;01 - TOP&#x27;]])</pre></div></div></div></div></div></div><div class=\"sk-parallel-item\"><div class=\"sk-item\"><div class=\"sk-label-container\"><div class=\"sk-label sk-toggleable\"><input class=\"sk-toggleable__control sk-hidden--visually\" id=\"sk-estimator-id-19\" type=\"checkbox\" ><label for=\"sk-estimator-id-19\" class=\"sk-toggleable__label sk-toggleable__label-arrow\">remainder</label><div class=\"sk-toggleable__content\"><pre>[&#x27;pk_cid&#x27;, &#x27;increased_nr_invest_savings_40_m+1&#x27;, &#x27;age&#x27;, &#x27;months_from_last_purchase&#x27;, &#x27;nr_financing_60&#x27;, &#x27;nr_account_10&#x27;, &#x27;nr_debt&#x27;, &#x27;nr_product_trend&#x27;, &#x27;customer_tenure&#x27;, &#x27;nr_transactions&#x27;, &#x27;saving_behavior&#x27;, &#x27;risk_index_absolute&#x27;, &#x27;active_customer&#x27;, &#x27;entry_date&#x27;, &#x27;nr_invest_savings_40_trend&#x27;, &#x27;salary&#x27;]</pre></div></div></div><div class=\"sk-serial\"><div class=\"sk-item\"><div class=\"sk-estimator sk-toggleable\"><input class=\"sk-toggleable__control sk-hidden--visually\" id=\"sk-estimator-id-20\" type=\"checkbox\" ><label for=\"sk-estimator-id-20\" class=\"sk-toggleable__label sk-toggleable__label-arrow\">passthrough</label><div class=\"sk-toggleable__content\"><pre>passthrough</pre></div></div></div></div></div></div></div></div></div></div></div></div>"
      ],
      "text/plain": [
       "Pipeline(steps=[('pk_partition_month_extraction',\n",
       "                 FunctionTransformer(func=<function pk_partition_month_extraction at 0x00000286126D8EA0>)),\n",
       "                ('convert_entry_date_to_numeric',\n",
       "                 FunctionTransformer(func=<function convert_entry_date_to_numeric at 0x00000286126D9120>)),\n",
       "                ('encoder',\n",
       "                 ColumnTransformer(remainder='passthrough',\n",
       "                                   transformers=[('oe_cat',\n",
       "                                                  OneHotEncoder(dtype='int8',\n",
       "                                                                handle_unknown='ignore',\n",
       "                                                                sparse_output=False),\n",
       "                                                  ['regions_ca_id', 'cluster']),\n",
       "                                                 ('orde_cat',\n",
       "                                                  OrdinalEncoder(categories=[['03 '\n",
       "                                                                              '- '\n",
       "                                                                              'UNIVERSITARIO',\n",
       "                                                                              '02 '\n",
       "                                                                              '- '\n",
       "                                                                              'PARTICULARES',\n",
       "                                                                              '01 '\n",
       "                                                                              '- '\n",
       "                                                                              'TOP']]),\n",
       "                                                  ['segment'])],\n",
       "                                   verbose_feature_names_out=False))])"
      ]
     },
     "execution_count": 16,
     "metadata": {},
     "output_type": "execute_result"
    }
   ],
   "source": [
    "pipe_saving_and_investment"
   ]
  },
  {
   "cell_type": "code",
   "execution_count": 17,
   "metadata": {},
   "outputs": [
    {
     "data": {
      "text/html": [
       "<style>#sk-container-id-3 {color: black;}#sk-container-id-3 pre{padding: 0;}#sk-container-id-3 div.sk-toggleable {background-color: white;}#sk-container-id-3 label.sk-toggleable__label {cursor: pointer;display: block;width: 100%;margin-bottom: 0;padding: 0.3em;box-sizing: border-box;text-align: center;}#sk-container-id-3 label.sk-toggleable__label-arrow:before {content: \"▸\";float: left;margin-right: 0.25em;color: #696969;}#sk-container-id-3 label.sk-toggleable__label-arrow:hover:before {color: black;}#sk-container-id-3 div.sk-estimator:hover label.sk-toggleable__label-arrow:before {color: black;}#sk-container-id-3 div.sk-toggleable__content {max-height: 0;max-width: 0;overflow: hidden;text-align: left;background-color: #f0f8ff;}#sk-container-id-3 div.sk-toggleable__content pre {margin: 0.2em;color: black;border-radius: 0.25em;background-color: #f0f8ff;}#sk-container-id-3 input.sk-toggleable__control:checked~div.sk-toggleable__content {max-height: 200px;max-width: 100%;overflow: auto;}#sk-container-id-3 input.sk-toggleable__control:checked~label.sk-toggleable__label-arrow:before {content: \"▾\";}#sk-container-id-3 div.sk-estimator input.sk-toggleable__control:checked~label.sk-toggleable__label {background-color: #d4ebff;}#sk-container-id-3 div.sk-label input.sk-toggleable__control:checked~label.sk-toggleable__label {background-color: #d4ebff;}#sk-container-id-3 input.sk-hidden--visually {border: 0;clip: rect(1px 1px 1px 1px);clip: rect(1px, 1px, 1px, 1px);height: 1px;margin: -1px;overflow: hidden;padding: 0;position: absolute;width: 1px;}#sk-container-id-3 div.sk-estimator {font-family: monospace;background-color: #f0f8ff;border: 1px dotted black;border-radius: 0.25em;box-sizing: border-box;margin-bottom: 0.5em;}#sk-container-id-3 div.sk-estimator:hover {background-color: #d4ebff;}#sk-container-id-3 div.sk-parallel-item::after {content: \"\";width: 100%;border-bottom: 1px solid gray;flex-grow: 1;}#sk-container-id-3 div.sk-label:hover label.sk-toggleable__label {background-color: #d4ebff;}#sk-container-id-3 div.sk-serial::before {content: \"\";position: absolute;border-left: 1px solid gray;box-sizing: border-box;top: 0;bottom: 0;left: 50%;z-index: 0;}#sk-container-id-3 div.sk-serial {display: flex;flex-direction: column;align-items: center;background-color: white;padding-right: 0.2em;padding-left: 0.2em;position: relative;}#sk-container-id-3 div.sk-item {position: relative;z-index: 1;}#sk-container-id-3 div.sk-parallel {display: flex;align-items: stretch;justify-content: center;background-color: white;position: relative;}#sk-container-id-3 div.sk-item::before, #sk-container-id-3 div.sk-parallel-item::before {content: \"\";position: absolute;border-left: 1px solid gray;box-sizing: border-box;top: 0;bottom: 0;left: 50%;z-index: -1;}#sk-container-id-3 div.sk-parallel-item {display: flex;flex-direction: column;z-index: 1;position: relative;background-color: white;}#sk-container-id-3 div.sk-parallel-item:first-child::after {align-self: flex-end;width: 50%;}#sk-container-id-3 div.sk-parallel-item:last-child::after {align-self: flex-start;width: 50%;}#sk-container-id-3 div.sk-parallel-item:only-child::after {width: 0;}#sk-container-id-3 div.sk-dashed-wrapped {border: 1px dashed gray;margin: 0 0.4em 0.5em 0.4em;box-sizing: border-box;padding-bottom: 0.4em;background-color: white;}#sk-container-id-3 div.sk-label label {font-family: monospace;font-weight: bold;display: inline-block;line-height: 1.2em;}#sk-container-id-3 div.sk-label-container {text-align: center;}#sk-container-id-3 div.sk-container {/* jupyter's `normalize.less` sets `[hidden] { display: none; }` but bootstrap.min.css set `[hidden] { display: none !important; }` so we also need the `!important` here to be able to override the default hidden behavior on the sphinx rendered scikit-learn.org. See: https://github.com/scikit-learn/scikit-learn/issues/21755 */display: inline-block !important;position: relative;}#sk-container-id-3 div.sk-text-repr-fallback {display: none;}</style><div id=\"sk-container-id-3\" class=\"sk-top-container\"><div class=\"sk-text-repr-fallback\"><pre>Pipeline(steps=[(&#x27;pk_partition_month_extraction&#x27;,\n",
       "                 FunctionTransformer(func=&lt;function pk_partition_month_extraction at 0x00000286126D8EA0&gt;)),\n",
       "                (&#x27;convert_entry_date_to_numeric&#x27;,\n",
       "                 FunctionTransformer(func=&lt;function convert_entry_date_to_numeric at 0x00000286126D9120&gt;)),\n",
       "                (&#x27;encoder&#x27;,\n",
       "                 ColumnTransformer(remainder=&#x27;passthrough&#x27;,\n",
       "                                   transformers=[(&#x27;oe_cat&#x27;,\n",
       "                                                  OneHotEncoder(dtype=&#x27;int8&#x27;,\n",
       "                                                                handle_unknown=&#x27;ignore&#x27;,\n",
       "                                                                sparse_output=False),\n",
       "                                                  [&#x27;regions_ca_id&#x27;, &#x27;cluster&#x27;]),\n",
       "                                                 (&#x27;orde_cat&#x27;,\n",
       "                                                  OrdinalEncoder(categories=[[&#x27;03 &#x27;\n",
       "                                                                              &#x27;- &#x27;\n",
       "                                                                              &#x27;UNIVERSITARIO&#x27;,\n",
       "                                                                              &#x27;02 &#x27;\n",
       "                                                                              &#x27;- &#x27;\n",
       "                                                                              &#x27;PARTICULARES&#x27;,\n",
       "                                                                              &#x27;01 &#x27;\n",
       "                                                                              &#x27;- &#x27;\n",
       "                                                                              &#x27;TOP&#x27;]]),\n",
       "                                                  [&#x27;segment&#x27;])],\n",
       "                                   verbose_feature_names_out=False))])</pre><b>In a Jupyter environment, please rerun this cell to show the HTML representation or trust the notebook. <br />On GitHub, the HTML representation is unable to render, please try loading this page with nbviewer.org.</b></div><div class=\"sk-container\" hidden><div class=\"sk-item sk-dashed-wrapped\"><div class=\"sk-label-container\"><div class=\"sk-label sk-toggleable\"><input class=\"sk-toggleable__control sk-hidden--visually\" id=\"sk-estimator-id-21\" type=\"checkbox\" ><label for=\"sk-estimator-id-21\" class=\"sk-toggleable__label sk-toggleable__label-arrow\">Pipeline</label><div class=\"sk-toggleable__content\"><pre>Pipeline(steps=[(&#x27;pk_partition_month_extraction&#x27;,\n",
       "                 FunctionTransformer(func=&lt;function pk_partition_month_extraction at 0x00000286126D8EA0&gt;)),\n",
       "                (&#x27;convert_entry_date_to_numeric&#x27;,\n",
       "                 FunctionTransformer(func=&lt;function convert_entry_date_to_numeric at 0x00000286126D9120&gt;)),\n",
       "                (&#x27;encoder&#x27;,\n",
       "                 ColumnTransformer(remainder=&#x27;passthrough&#x27;,\n",
       "                                   transformers=[(&#x27;oe_cat&#x27;,\n",
       "                                                  OneHotEncoder(dtype=&#x27;int8&#x27;,\n",
       "                                                                handle_unknown=&#x27;ignore&#x27;,\n",
       "                                                                sparse_output=False),\n",
       "                                                  [&#x27;regions_ca_id&#x27;, &#x27;cluster&#x27;]),\n",
       "                                                 (&#x27;orde_cat&#x27;,\n",
       "                                                  OrdinalEncoder(categories=[[&#x27;03 &#x27;\n",
       "                                                                              &#x27;- &#x27;\n",
       "                                                                              &#x27;UNIVERSITARIO&#x27;,\n",
       "                                                                              &#x27;02 &#x27;\n",
       "                                                                              &#x27;- &#x27;\n",
       "                                                                              &#x27;PARTICULARES&#x27;,\n",
       "                                                                              &#x27;01 &#x27;\n",
       "                                                                              &#x27;- &#x27;\n",
       "                                                                              &#x27;TOP&#x27;]]),\n",
       "                                                  [&#x27;segment&#x27;])],\n",
       "                                   verbose_feature_names_out=False))])</pre></div></div></div><div class=\"sk-serial\"><div class=\"sk-item\"><div class=\"sk-estimator sk-toggleable\"><input class=\"sk-toggleable__control sk-hidden--visually\" id=\"sk-estimator-id-22\" type=\"checkbox\" ><label for=\"sk-estimator-id-22\" class=\"sk-toggleable__label sk-toggleable__label-arrow\">FunctionTransformer</label><div class=\"sk-toggleable__content\"><pre>FunctionTransformer(func=&lt;function pk_partition_month_extraction at 0x00000286126D8EA0&gt;)</pre></div></div></div><div class=\"sk-item\"><div class=\"sk-estimator sk-toggleable\"><input class=\"sk-toggleable__control sk-hidden--visually\" id=\"sk-estimator-id-23\" type=\"checkbox\" ><label for=\"sk-estimator-id-23\" class=\"sk-toggleable__label sk-toggleable__label-arrow\">FunctionTransformer</label><div class=\"sk-toggleable__content\"><pre>FunctionTransformer(func=&lt;function convert_entry_date_to_numeric at 0x00000286126D9120&gt;)</pre></div></div></div><div class=\"sk-item sk-dashed-wrapped\"><div class=\"sk-label-container\"><div class=\"sk-label sk-toggleable\"><input class=\"sk-toggleable__control sk-hidden--visually\" id=\"sk-estimator-id-24\" type=\"checkbox\" ><label for=\"sk-estimator-id-24\" class=\"sk-toggleable__label sk-toggleable__label-arrow\">encoder: ColumnTransformer</label><div class=\"sk-toggleable__content\"><pre>ColumnTransformer(remainder=&#x27;passthrough&#x27;,\n",
       "                  transformers=[(&#x27;oe_cat&#x27;,\n",
       "                                 OneHotEncoder(dtype=&#x27;int8&#x27;,\n",
       "                                               handle_unknown=&#x27;ignore&#x27;,\n",
       "                                               sparse_output=False),\n",
       "                                 [&#x27;regions_ca_id&#x27;, &#x27;cluster&#x27;]),\n",
       "                                (&#x27;orde_cat&#x27;,\n",
       "                                 OrdinalEncoder(categories=[[&#x27;03 - &#x27;\n",
       "                                                             &#x27;UNIVERSITARIO&#x27;,\n",
       "                                                             &#x27;02 - &#x27;\n",
       "                                                             &#x27;PARTICULARES&#x27;,\n",
       "                                                             &#x27;01 - TOP&#x27;]]),\n",
       "                                 [&#x27;segment&#x27;])],\n",
       "                  verbose_feature_names_out=False)</pre></div></div></div><div class=\"sk-parallel\"><div class=\"sk-parallel-item\"><div class=\"sk-item\"><div class=\"sk-label-container\"><div class=\"sk-label sk-toggleable\"><input class=\"sk-toggleable__control sk-hidden--visually\" id=\"sk-estimator-id-25\" type=\"checkbox\" ><label for=\"sk-estimator-id-25\" class=\"sk-toggleable__label sk-toggleable__label-arrow\">oe_cat</label><div class=\"sk-toggleable__content\"><pre>[&#x27;regions_ca_id&#x27;, &#x27;cluster&#x27;]</pre></div></div></div><div class=\"sk-serial\"><div class=\"sk-item\"><div class=\"sk-estimator sk-toggleable\"><input class=\"sk-toggleable__control sk-hidden--visually\" id=\"sk-estimator-id-26\" type=\"checkbox\" ><label for=\"sk-estimator-id-26\" class=\"sk-toggleable__label sk-toggleable__label-arrow\">OneHotEncoder</label><div class=\"sk-toggleable__content\"><pre>OneHotEncoder(dtype=&#x27;int8&#x27;, handle_unknown=&#x27;ignore&#x27;, sparse_output=False)</pre></div></div></div></div></div></div><div class=\"sk-parallel-item\"><div class=\"sk-item\"><div class=\"sk-label-container\"><div class=\"sk-label sk-toggleable\"><input class=\"sk-toggleable__control sk-hidden--visually\" id=\"sk-estimator-id-27\" type=\"checkbox\" ><label for=\"sk-estimator-id-27\" class=\"sk-toggleable__label sk-toggleable__label-arrow\">orde_cat</label><div class=\"sk-toggleable__content\"><pre>[&#x27;segment&#x27;]</pre></div></div></div><div class=\"sk-serial\"><div class=\"sk-item\"><div class=\"sk-estimator sk-toggleable\"><input class=\"sk-toggleable__control sk-hidden--visually\" id=\"sk-estimator-id-28\" type=\"checkbox\" ><label for=\"sk-estimator-id-28\" class=\"sk-toggleable__label sk-toggleable__label-arrow\">OrdinalEncoder</label><div class=\"sk-toggleable__content\"><pre>OrdinalEncoder(categories=[[&#x27;03 - UNIVERSITARIO&#x27;, &#x27;02 - PARTICULARES&#x27;,\n",
       "                            &#x27;01 - TOP&#x27;]])</pre></div></div></div></div></div></div><div class=\"sk-parallel-item\"><div class=\"sk-item\"><div class=\"sk-label-container\"><div class=\"sk-label sk-toggleable\"><input class=\"sk-toggleable__control sk-hidden--visually\" id=\"sk-estimator-id-29\" type=\"checkbox\" ><label for=\"sk-estimator-id-29\" class=\"sk-toggleable__label sk-toggleable__label-arrow\">remainder</label><div class=\"sk-toggleable__content\"><pre>[&#x27;pk_cid&#x27;, &#x27;increased_nr_financing_60_m+1&#x27;, &#x27;age&#x27;, &#x27;months_from_last_purchase&#x27;, &#x27;nr_financing_60&#x27;, &#x27;nr_account_10&#x27;, &#x27;nr_product_trend&#x27;, &#x27;customer_tenure&#x27;, &#x27;nr_transactions&#x27;, &#x27;saving_behavior&#x27;, &#x27;risk_index_absolute&#x27;, &#x27;active_customer&#x27;, &#x27;entry_date&#x27;, &#x27;nr_financing_60_trend&#x27;, &#x27;salary&#x27;, &#x27;increased_nr_financing_60&#x27;]</pre></div></div></div><div class=\"sk-serial\"><div class=\"sk-item\"><div class=\"sk-estimator sk-toggleable\"><input class=\"sk-toggleable__control sk-hidden--visually\" id=\"sk-estimator-id-30\" type=\"checkbox\" ><label for=\"sk-estimator-id-30\" class=\"sk-toggleable__label sk-toggleable__label-arrow\">passthrough</label><div class=\"sk-toggleable__content\"><pre>passthrough</pre></div></div></div></div></div></div></div></div></div></div></div></div>"
      ],
      "text/plain": [
       "Pipeline(steps=[('pk_partition_month_extraction',\n",
       "                 FunctionTransformer(func=<function pk_partition_month_extraction at 0x00000286126D8EA0>)),\n",
       "                ('convert_entry_date_to_numeric',\n",
       "                 FunctionTransformer(func=<function convert_entry_date_to_numeric at 0x00000286126D9120>)),\n",
       "                ('encoder',\n",
       "                 ColumnTransformer(remainder='passthrough',\n",
       "                                   transformers=[('oe_cat',\n",
       "                                                  OneHotEncoder(dtype='int8',\n",
       "                                                                handle_unknown='ignore',\n",
       "                                                                sparse_output=False),\n",
       "                                                  ['regions_ca_id', 'cluster']),\n",
       "                                                 ('orde_cat',\n",
       "                                                  OrdinalEncoder(categories=[['03 '\n",
       "                                                                              '- '\n",
       "                                                                              'UNIVERSITARIO',\n",
       "                                                                              '02 '\n",
       "                                                                              '- '\n",
       "                                                                              'PARTICULARES',\n",
       "                                                                              '01 '\n",
       "                                                                              '- '\n",
       "                                                                              'TOP']]),\n",
       "                                                  ['segment'])],\n",
       "                                   verbose_feature_names_out=False))])"
      ]
     },
     "execution_count": 17,
     "metadata": {},
     "output_type": "execute_result"
    }
   ],
   "source": [
    "pipe_financing"
   ]
  },
  {
   "cell_type": "markdown",
   "metadata": {},
   "source": [
    "### Cargamos el modelo"
   ]
  },
  {
   "cell_type": "code",
   "execution_count": 18,
   "metadata": {},
   "outputs": [],
   "source": [
    "CWD = os.getcwd()\n",
    "DATA_PATH = os.path.join(CWD, 'classifier_propension')\n",
    "MODEL_PATH_ACCOUNTS = os.path.join(DATA_PATH, 'classifier_propension_con_cluster_accounts.pkl')\n",
    "MODEL_PATH_SAVING_AND_INVESTMENT = os.path.join(DATA_PATH, 'classifier_propension_con_cluster_saving_and_investment.pkl')\n",
    "MODEL_PATH_FINANCING = os.path.join(DATA_PATH, 'classifier_propension_con_cluster_financing.pkl')\n",
    "\n",
    "model_accounts = pickle.load(open(MODEL_PATH_ACCOUNTS, 'rb'))\n",
    "model_saving_and_investment = pickle.load(open(MODEL_PATH_SAVING_AND_INVESTMENT, 'rb'))\n",
    "model_financing = pickle.load(open(MODEL_PATH_FINANCING, 'rb'))"
   ]
  },
  {
   "cell_type": "code",
   "execution_count": 19,
   "metadata": {},
   "outputs": [
    {
     "data": {
      "text/html": [
       "<style>#sk-container-id-4 {color: black;}#sk-container-id-4 pre{padding: 0;}#sk-container-id-4 div.sk-toggleable {background-color: white;}#sk-container-id-4 label.sk-toggleable__label {cursor: pointer;display: block;width: 100%;margin-bottom: 0;padding: 0.3em;box-sizing: border-box;text-align: center;}#sk-container-id-4 label.sk-toggleable__label-arrow:before {content: \"▸\";float: left;margin-right: 0.25em;color: #696969;}#sk-container-id-4 label.sk-toggleable__label-arrow:hover:before {color: black;}#sk-container-id-4 div.sk-estimator:hover label.sk-toggleable__label-arrow:before {color: black;}#sk-container-id-4 div.sk-toggleable__content {max-height: 0;max-width: 0;overflow: hidden;text-align: left;background-color: #f0f8ff;}#sk-container-id-4 div.sk-toggleable__content pre {margin: 0.2em;color: black;border-radius: 0.25em;background-color: #f0f8ff;}#sk-container-id-4 input.sk-toggleable__control:checked~div.sk-toggleable__content {max-height: 200px;max-width: 100%;overflow: auto;}#sk-container-id-4 input.sk-toggleable__control:checked~label.sk-toggleable__label-arrow:before {content: \"▾\";}#sk-container-id-4 div.sk-estimator input.sk-toggleable__control:checked~label.sk-toggleable__label {background-color: #d4ebff;}#sk-container-id-4 div.sk-label input.sk-toggleable__control:checked~label.sk-toggleable__label {background-color: #d4ebff;}#sk-container-id-4 input.sk-hidden--visually {border: 0;clip: rect(1px 1px 1px 1px);clip: rect(1px, 1px, 1px, 1px);height: 1px;margin: -1px;overflow: hidden;padding: 0;position: absolute;width: 1px;}#sk-container-id-4 div.sk-estimator {font-family: monospace;background-color: #f0f8ff;border: 1px dotted black;border-radius: 0.25em;box-sizing: border-box;margin-bottom: 0.5em;}#sk-container-id-4 div.sk-estimator:hover {background-color: #d4ebff;}#sk-container-id-4 div.sk-parallel-item::after {content: \"\";width: 100%;border-bottom: 1px solid gray;flex-grow: 1;}#sk-container-id-4 div.sk-label:hover label.sk-toggleable__label {background-color: #d4ebff;}#sk-container-id-4 div.sk-serial::before {content: \"\";position: absolute;border-left: 1px solid gray;box-sizing: border-box;top: 0;bottom: 0;left: 50%;z-index: 0;}#sk-container-id-4 div.sk-serial {display: flex;flex-direction: column;align-items: center;background-color: white;padding-right: 0.2em;padding-left: 0.2em;position: relative;}#sk-container-id-4 div.sk-item {position: relative;z-index: 1;}#sk-container-id-4 div.sk-parallel {display: flex;align-items: stretch;justify-content: center;background-color: white;position: relative;}#sk-container-id-4 div.sk-item::before, #sk-container-id-4 div.sk-parallel-item::before {content: \"\";position: absolute;border-left: 1px solid gray;box-sizing: border-box;top: 0;bottom: 0;left: 50%;z-index: -1;}#sk-container-id-4 div.sk-parallel-item {display: flex;flex-direction: column;z-index: 1;position: relative;background-color: white;}#sk-container-id-4 div.sk-parallel-item:first-child::after {align-self: flex-end;width: 50%;}#sk-container-id-4 div.sk-parallel-item:last-child::after {align-self: flex-start;width: 50%;}#sk-container-id-4 div.sk-parallel-item:only-child::after {width: 0;}#sk-container-id-4 div.sk-dashed-wrapped {border: 1px dashed gray;margin: 0 0.4em 0.5em 0.4em;box-sizing: border-box;padding-bottom: 0.4em;background-color: white;}#sk-container-id-4 div.sk-label label {font-family: monospace;font-weight: bold;display: inline-block;line-height: 1.2em;}#sk-container-id-4 div.sk-label-container {text-align: center;}#sk-container-id-4 div.sk-container {/* jupyter's `normalize.less` sets `[hidden] { display: none; }` but bootstrap.min.css set `[hidden] { display: none !important; }` so we also need the `!important` here to be able to override the default hidden behavior on the sphinx rendered scikit-learn.org. See: https://github.com/scikit-learn/scikit-learn/issues/21755 */display: inline-block !important;position: relative;}#sk-container-id-4 div.sk-text-repr-fallback {display: none;}</style><div id=\"sk-container-id-4\" class=\"sk-top-container\"><div class=\"sk-text-repr-fallback\"><pre>XGBClassifier(base_score=None, booster=None, callbacks=None,\n",
       "              colsample_bylevel=None, colsample_bynode=None,\n",
       "              colsample_bytree=None, device=None, early_stopping_rounds=None,\n",
       "              enable_categorical=False, eval_metric=None, feature_types=None,\n",
       "              gamma=None, grow_policy=None, importance_type=None,\n",
       "              interaction_constraints=None, learning_rate=None, max_bin=None,\n",
       "              max_cat_threshold=None, max_cat_to_onehot=None,\n",
       "              max_delta_step=None, max_depth=None, max_leaves=None,\n",
       "              min_child_weight=None, missing=nan, monotone_constraints=None,\n",
       "              multi_strategy=None, n_estimators=None, n_jobs=None,\n",
       "              num_parallel_tree=None, random_state=42, ...)</pre><b>In a Jupyter environment, please rerun this cell to show the HTML representation or trust the notebook. <br />On GitHub, the HTML representation is unable to render, please try loading this page with nbviewer.org.</b></div><div class=\"sk-container\" hidden><div class=\"sk-item\"><div class=\"sk-estimator sk-toggleable\"><input class=\"sk-toggleable__control sk-hidden--visually\" id=\"sk-estimator-id-31\" type=\"checkbox\" checked><label for=\"sk-estimator-id-31\" class=\"sk-toggleable__label sk-toggleable__label-arrow\">XGBClassifier</label><div class=\"sk-toggleable__content\"><pre>XGBClassifier(base_score=None, booster=None, callbacks=None,\n",
       "              colsample_bylevel=None, colsample_bynode=None,\n",
       "              colsample_bytree=None, device=None, early_stopping_rounds=None,\n",
       "              enable_categorical=False, eval_metric=None, feature_types=None,\n",
       "              gamma=None, grow_policy=None, importance_type=None,\n",
       "              interaction_constraints=None, learning_rate=None, max_bin=None,\n",
       "              max_cat_threshold=None, max_cat_to_onehot=None,\n",
       "              max_delta_step=None, max_depth=None, max_leaves=None,\n",
       "              min_child_weight=None, missing=nan, monotone_constraints=None,\n",
       "              multi_strategy=None, n_estimators=None, n_jobs=None,\n",
       "              num_parallel_tree=None, random_state=42, ...)</pre></div></div></div></div></div>"
      ],
      "text/plain": [
       "XGBClassifier(base_score=None, booster=None, callbacks=None,\n",
       "              colsample_bylevel=None, colsample_bynode=None,\n",
       "              colsample_bytree=None, device=None, early_stopping_rounds=None,\n",
       "              enable_categorical=False, eval_metric=None, feature_types=None,\n",
       "              gamma=None, grow_policy=None, importance_type=None,\n",
       "              interaction_constraints=None, learning_rate=None, max_bin=None,\n",
       "              max_cat_threshold=None, max_cat_to_onehot=None,\n",
       "              max_delta_step=None, max_depth=None, max_leaves=None,\n",
       "              min_child_weight=None, missing=nan, monotone_constraints=None,\n",
       "              multi_strategy=None, n_estimators=None, n_jobs=None,\n",
       "              num_parallel_tree=None, random_state=42, ...)"
      ]
     },
     "execution_count": 19,
     "metadata": {},
     "output_type": "execute_result"
    }
   ],
   "source": [
    "model_accounts"
   ]
  },
  {
   "cell_type": "code",
   "execution_count": 20,
   "metadata": {},
   "outputs": [
    {
     "data": {
      "text/html": [
       "<style>#sk-container-id-5 {color: black;}#sk-container-id-5 pre{padding: 0;}#sk-container-id-5 div.sk-toggleable {background-color: white;}#sk-container-id-5 label.sk-toggleable__label {cursor: pointer;display: block;width: 100%;margin-bottom: 0;padding: 0.3em;box-sizing: border-box;text-align: center;}#sk-container-id-5 label.sk-toggleable__label-arrow:before {content: \"▸\";float: left;margin-right: 0.25em;color: #696969;}#sk-container-id-5 label.sk-toggleable__label-arrow:hover:before {color: black;}#sk-container-id-5 div.sk-estimator:hover label.sk-toggleable__label-arrow:before {color: black;}#sk-container-id-5 div.sk-toggleable__content {max-height: 0;max-width: 0;overflow: hidden;text-align: left;background-color: #f0f8ff;}#sk-container-id-5 div.sk-toggleable__content pre {margin: 0.2em;color: black;border-radius: 0.25em;background-color: #f0f8ff;}#sk-container-id-5 input.sk-toggleable__control:checked~div.sk-toggleable__content {max-height: 200px;max-width: 100%;overflow: auto;}#sk-container-id-5 input.sk-toggleable__control:checked~label.sk-toggleable__label-arrow:before {content: \"▾\";}#sk-container-id-5 div.sk-estimator input.sk-toggleable__control:checked~label.sk-toggleable__label {background-color: #d4ebff;}#sk-container-id-5 div.sk-label input.sk-toggleable__control:checked~label.sk-toggleable__label {background-color: #d4ebff;}#sk-container-id-5 input.sk-hidden--visually {border: 0;clip: rect(1px 1px 1px 1px);clip: rect(1px, 1px, 1px, 1px);height: 1px;margin: -1px;overflow: hidden;padding: 0;position: absolute;width: 1px;}#sk-container-id-5 div.sk-estimator {font-family: monospace;background-color: #f0f8ff;border: 1px dotted black;border-radius: 0.25em;box-sizing: border-box;margin-bottom: 0.5em;}#sk-container-id-5 div.sk-estimator:hover {background-color: #d4ebff;}#sk-container-id-5 div.sk-parallel-item::after {content: \"\";width: 100%;border-bottom: 1px solid gray;flex-grow: 1;}#sk-container-id-5 div.sk-label:hover label.sk-toggleable__label {background-color: #d4ebff;}#sk-container-id-5 div.sk-serial::before {content: \"\";position: absolute;border-left: 1px solid gray;box-sizing: border-box;top: 0;bottom: 0;left: 50%;z-index: 0;}#sk-container-id-5 div.sk-serial {display: flex;flex-direction: column;align-items: center;background-color: white;padding-right: 0.2em;padding-left: 0.2em;position: relative;}#sk-container-id-5 div.sk-item {position: relative;z-index: 1;}#sk-container-id-5 div.sk-parallel {display: flex;align-items: stretch;justify-content: center;background-color: white;position: relative;}#sk-container-id-5 div.sk-item::before, #sk-container-id-5 div.sk-parallel-item::before {content: \"\";position: absolute;border-left: 1px solid gray;box-sizing: border-box;top: 0;bottom: 0;left: 50%;z-index: -1;}#sk-container-id-5 div.sk-parallel-item {display: flex;flex-direction: column;z-index: 1;position: relative;background-color: white;}#sk-container-id-5 div.sk-parallel-item:first-child::after {align-self: flex-end;width: 50%;}#sk-container-id-5 div.sk-parallel-item:last-child::after {align-self: flex-start;width: 50%;}#sk-container-id-5 div.sk-parallel-item:only-child::after {width: 0;}#sk-container-id-5 div.sk-dashed-wrapped {border: 1px dashed gray;margin: 0 0.4em 0.5em 0.4em;box-sizing: border-box;padding-bottom: 0.4em;background-color: white;}#sk-container-id-5 div.sk-label label {font-family: monospace;font-weight: bold;display: inline-block;line-height: 1.2em;}#sk-container-id-5 div.sk-label-container {text-align: center;}#sk-container-id-5 div.sk-container {/* jupyter's `normalize.less` sets `[hidden] { display: none; }` but bootstrap.min.css set `[hidden] { display: none !important; }` so we also need the `!important` here to be able to override the default hidden behavior on the sphinx rendered scikit-learn.org. See: https://github.com/scikit-learn/scikit-learn/issues/21755 */display: inline-block !important;position: relative;}#sk-container-id-5 div.sk-text-repr-fallback {display: none;}</style><div id=\"sk-container-id-5\" class=\"sk-top-container\"><div class=\"sk-text-repr-fallback\"><pre>XGBClassifier(base_score=None, booster=None, callbacks=None,\n",
       "              colsample_bylevel=None, colsample_bynode=None,\n",
       "              colsample_bytree=None, device=None, early_stopping_rounds=None,\n",
       "              enable_categorical=False, eval_metric=None, feature_types=None,\n",
       "              gamma=None, grow_policy=None, importance_type=None,\n",
       "              interaction_constraints=None, learning_rate=None, max_bin=None,\n",
       "              max_cat_threshold=None, max_cat_to_onehot=None,\n",
       "              max_delta_step=None, max_depth=None, max_leaves=None,\n",
       "              min_child_weight=None, missing=nan, monotone_constraints=None,\n",
       "              multi_strategy=None, n_estimators=None, n_jobs=None,\n",
       "              num_parallel_tree=None, random_state=42, ...)</pre><b>In a Jupyter environment, please rerun this cell to show the HTML representation or trust the notebook. <br />On GitHub, the HTML representation is unable to render, please try loading this page with nbviewer.org.</b></div><div class=\"sk-container\" hidden><div class=\"sk-item\"><div class=\"sk-estimator sk-toggleable\"><input class=\"sk-toggleable__control sk-hidden--visually\" id=\"sk-estimator-id-32\" type=\"checkbox\" checked><label for=\"sk-estimator-id-32\" class=\"sk-toggleable__label sk-toggleable__label-arrow\">XGBClassifier</label><div class=\"sk-toggleable__content\"><pre>XGBClassifier(base_score=None, booster=None, callbacks=None,\n",
       "              colsample_bylevel=None, colsample_bynode=None,\n",
       "              colsample_bytree=None, device=None, early_stopping_rounds=None,\n",
       "              enable_categorical=False, eval_metric=None, feature_types=None,\n",
       "              gamma=None, grow_policy=None, importance_type=None,\n",
       "              interaction_constraints=None, learning_rate=None, max_bin=None,\n",
       "              max_cat_threshold=None, max_cat_to_onehot=None,\n",
       "              max_delta_step=None, max_depth=None, max_leaves=None,\n",
       "              min_child_weight=None, missing=nan, monotone_constraints=None,\n",
       "              multi_strategy=None, n_estimators=None, n_jobs=None,\n",
       "              num_parallel_tree=None, random_state=42, ...)</pre></div></div></div></div></div>"
      ],
      "text/plain": [
       "XGBClassifier(base_score=None, booster=None, callbacks=None,\n",
       "              colsample_bylevel=None, colsample_bynode=None,\n",
       "              colsample_bytree=None, device=None, early_stopping_rounds=None,\n",
       "              enable_categorical=False, eval_metric=None, feature_types=None,\n",
       "              gamma=None, grow_policy=None, importance_type=None,\n",
       "              interaction_constraints=None, learning_rate=None, max_bin=None,\n",
       "              max_cat_threshold=None, max_cat_to_onehot=None,\n",
       "              max_delta_step=None, max_depth=None, max_leaves=None,\n",
       "              min_child_weight=None, missing=nan, monotone_constraints=None,\n",
       "              multi_strategy=None, n_estimators=None, n_jobs=None,\n",
       "              num_parallel_tree=None, random_state=42, ...)"
      ]
     },
     "execution_count": 20,
     "metadata": {},
     "output_type": "execute_result"
    }
   ],
   "source": [
    "model_saving_and_investment"
   ]
  },
  {
   "cell_type": "code",
   "execution_count": 21,
   "metadata": {},
   "outputs": [
    {
     "data": {
      "text/html": [
       "<style>#sk-container-id-6 {color: black;}#sk-container-id-6 pre{padding: 0;}#sk-container-id-6 div.sk-toggleable {background-color: white;}#sk-container-id-6 label.sk-toggleable__label {cursor: pointer;display: block;width: 100%;margin-bottom: 0;padding: 0.3em;box-sizing: border-box;text-align: center;}#sk-container-id-6 label.sk-toggleable__label-arrow:before {content: \"▸\";float: left;margin-right: 0.25em;color: #696969;}#sk-container-id-6 label.sk-toggleable__label-arrow:hover:before {color: black;}#sk-container-id-6 div.sk-estimator:hover label.sk-toggleable__label-arrow:before {color: black;}#sk-container-id-6 div.sk-toggleable__content {max-height: 0;max-width: 0;overflow: hidden;text-align: left;background-color: #f0f8ff;}#sk-container-id-6 div.sk-toggleable__content pre {margin: 0.2em;color: black;border-radius: 0.25em;background-color: #f0f8ff;}#sk-container-id-6 input.sk-toggleable__control:checked~div.sk-toggleable__content {max-height: 200px;max-width: 100%;overflow: auto;}#sk-container-id-6 input.sk-toggleable__control:checked~label.sk-toggleable__label-arrow:before {content: \"▾\";}#sk-container-id-6 div.sk-estimator input.sk-toggleable__control:checked~label.sk-toggleable__label {background-color: #d4ebff;}#sk-container-id-6 div.sk-label input.sk-toggleable__control:checked~label.sk-toggleable__label {background-color: #d4ebff;}#sk-container-id-6 input.sk-hidden--visually {border: 0;clip: rect(1px 1px 1px 1px);clip: rect(1px, 1px, 1px, 1px);height: 1px;margin: -1px;overflow: hidden;padding: 0;position: absolute;width: 1px;}#sk-container-id-6 div.sk-estimator {font-family: monospace;background-color: #f0f8ff;border: 1px dotted black;border-radius: 0.25em;box-sizing: border-box;margin-bottom: 0.5em;}#sk-container-id-6 div.sk-estimator:hover {background-color: #d4ebff;}#sk-container-id-6 div.sk-parallel-item::after {content: \"\";width: 100%;border-bottom: 1px solid gray;flex-grow: 1;}#sk-container-id-6 div.sk-label:hover label.sk-toggleable__label {background-color: #d4ebff;}#sk-container-id-6 div.sk-serial::before {content: \"\";position: absolute;border-left: 1px solid gray;box-sizing: border-box;top: 0;bottom: 0;left: 50%;z-index: 0;}#sk-container-id-6 div.sk-serial {display: flex;flex-direction: column;align-items: center;background-color: white;padding-right: 0.2em;padding-left: 0.2em;position: relative;}#sk-container-id-6 div.sk-item {position: relative;z-index: 1;}#sk-container-id-6 div.sk-parallel {display: flex;align-items: stretch;justify-content: center;background-color: white;position: relative;}#sk-container-id-6 div.sk-item::before, #sk-container-id-6 div.sk-parallel-item::before {content: \"\";position: absolute;border-left: 1px solid gray;box-sizing: border-box;top: 0;bottom: 0;left: 50%;z-index: -1;}#sk-container-id-6 div.sk-parallel-item {display: flex;flex-direction: column;z-index: 1;position: relative;background-color: white;}#sk-container-id-6 div.sk-parallel-item:first-child::after {align-self: flex-end;width: 50%;}#sk-container-id-6 div.sk-parallel-item:last-child::after {align-self: flex-start;width: 50%;}#sk-container-id-6 div.sk-parallel-item:only-child::after {width: 0;}#sk-container-id-6 div.sk-dashed-wrapped {border: 1px dashed gray;margin: 0 0.4em 0.5em 0.4em;box-sizing: border-box;padding-bottom: 0.4em;background-color: white;}#sk-container-id-6 div.sk-label label {font-family: monospace;font-weight: bold;display: inline-block;line-height: 1.2em;}#sk-container-id-6 div.sk-label-container {text-align: center;}#sk-container-id-6 div.sk-container {/* jupyter's `normalize.less` sets `[hidden] { display: none; }` but bootstrap.min.css set `[hidden] { display: none !important; }` so we also need the `!important` here to be able to override the default hidden behavior on the sphinx rendered scikit-learn.org. See: https://github.com/scikit-learn/scikit-learn/issues/21755 */display: inline-block !important;position: relative;}#sk-container-id-6 div.sk-text-repr-fallback {display: none;}</style><div id=\"sk-container-id-6\" class=\"sk-top-container\"><div class=\"sk-text-repr-fallback\"><pre>XGBClassifier(base_score=None, booster=None, callbacks=None,\n",
       "              colsample_bylevel=None, colsample_bynode=None,\n",
       "              colsample_bytree=None, device=None, early_stopping_rounds=None,\n",
       "              enable_categorical=False, eval_metric=None, feature_types=None,\n",
       "              gamma=None, grow_policy=None, importance_type=None,\n",
       "              interaction_constraints=None, learning_rate=None, max_bin=None,\n",
       "              max_cat_threshold=None, max_cat_to_onehot=None,\n",
       "              max_delta_step=None, max_depth=None, max_leaves=None,\n",
       "              min_child_weight=None, missing=nan, monotone_constraints=None,\n",
       "              multi_strategy=None, n_estimators=None, n_jobs=None,\n",
       "              num_parallel_tree=None, random_state=42, ...)</pre><b>In a Jupyter environment, please rerun this cell to show the HTML representation or trust the notebook. <br />On GitHub, the HTML representation is unable to render, please try loading this page with nbviewer.org.</b></div><div class=\"sk-container\" hidden><div class=\"sk-item\"><div class=\"sk-estimator sk-toggleable\"><input class=\"sk-toggleable__control sk-hidden--visually\" id=\"sk-estimator-id-33\" type=\"checkbox\" checked><label for=\"sk-estimator-id-33\" class=\"sk-toggleable__label sk-toggleable__label-arrow\">XGBClassifier</label><div class=\"sk-toggleable__content\"><pre>XGBClassifier(base_score=None, booster=None, callbacks=None,\n",
       "              colsample_bylevel=None, colsample_bynode=None,\n",
       "              colsample_bytree=None, device=None, early_stopping_rounds=None,\n",
       "              enable_categorical=False, eval_metric=None, feature_types=None,\n",
       "              gamma=None, grow_policy=None, importance_type=None,\n",
       "              interaction_constraints=None, learning_rate=None, max_bin=None,\n",
       "              max_cat_threshold=None, max_cat_to_onehot=None,\n",
       "              max_delta_step=None, max_depth=None, max_leaves=None,\n",
       "              min_child_weight=None, missing=nan, monotone_constraints=None,\n",
       "              multi_strategy=None, n_estimators=None, n_jobs=None,\n",
       "              num_parallel_tree=None, random_state=42, ...)</pre></div></div></div></div></div>"
      ],
      "text/plain": [
       "XGBClassifier(base_score=None, booster=None, callbacks=None,\n",
       "              colsample_bylevel=None, colsample_bynode=None,\n",
       "              colsample_bytree=None, device=None, early_stopping_rounds=None,\n",
       "              enable_categorical=False, eval_metric=None, feature_types=None,\n",
       "              gamma=None, grow_policy=None, importance_type=None,\n",
       "              interaction_constraints=None, learning_rate=None, max_bin=None,\n",
       "              max_cat_threshold=None, max_cat_to_onehot=None,\n",
       "              max_delta_step=None, max_depth=None, max_leaves=None,\n",
       "              min_child_weight=None, missing=nan, monotone_constraints=None,\n",
       "              multi_strategy=None, n_estimators=None, n_jobs=None,\n",
       "              num_parallel_tree=None, random_state=42, ...)"
      ]
     },
     "execution_count": 21,
     "metadata": {},
     "output_type": "execute_result"
    }
   ],
   "source": [
    "model_financing"
   ]
  },
  {
   "cell_type": "markdown",
   "metadata": {},
   "source": [
    "### Hacemos el predict"
   ]
  },
  {
   "cell_type": "markdown",
   "metadata": {},
   "source": [
    "#### Accounts"
   ]
  },
  {
   "cell_type": "code",
   "execution_count": 121,
   "metadata": {},
   "outputs": [],
   "source": [
    "df_capstone_clean_with_clusters_last_partition_account_predictions = df_capstone_clean_with_clusters_last_partition.copy()\n",
    "\n",
    "df_capstone_clean_with_clusters_last_partition_account_predictions = pipe_accounts.transform(df_capstone_clean_with_clusters_last_partition_account_predictions)"
   ]
  },
  {
   "cell_type": "code",
   "execution_count": 122,
   "metadata": {},
   "outputs": [
    {
     "name": "stdout",
     "output_type": "stream",
     "text": [
      "<class 'pandas.core.frame.DataFrame'>\n",
      "Index: 442995 entries, 8 to 5962923\n",
      "Data columns (total 46 columns):\n",
      " #   Column                        Non-Null Count   Dtype  \n",
      "---  ------                        --------------   -----  \n",
      " 0   regions_ca_id_AN              442995 non-null  int8   \n",
      " 1   regions_ca_id_AR              442995 non-null  int8   \n",
      " 2   regions_ca_id_AS              442995 non-null  int8   \n",
      " 3   regions_ca_id_CB              442995 non-null  int8   \n",
      " 4   regions_ca_id_CE              442995 non-null  int8   \n",
      " 5   regions_ca_id_CL              442995 non-null  int8   \n",
      " 6   regions_ca_id_CM              442995 non-null  int8   \n",
      " 7   regions_ca_id_CN              442995 non-null  int8   \n",
      " 8   regions_ca_id_CT              442995 non-null  int8   \n",
      " 9   regions_ca_id_EX              442995 non-null  int8   \n",
      " 10  regions_ca_id_Extranjero      442995 non-null  int8   \n",
      " 11  regions_ca_id_GA              442995 non-null  int8   \n",
      " 12  regions_ca_id_IB              442995 non-null  int8   \n",
      " 13  regions_ca_id_MC              442995 non-null  int8   \n",
      " 14  regions_ca_id_MD              442995 non-null  int8   \n",
      " 15  regions_ca_id_ML              442995 non-null  int8   \n",
      " 16  regions_ca_id_NC              442995 non-null  int8   \n",
      " 17  regions_ca_id_PV              442995 non-null  int8   \n",
      " 18  regions_ca_id_RI              442995 non-null  int8   \n",
      " 19  regions_ca_id_VC              442995 non-null  int8   \n",
      " 20  cluster_-1.0                  442995 non-null  int8   \n",
      " 21  cluster_0.0                   442995 non-null  int8   \n",
      " 22  cluster_1.0                   442995 non-null  int8   \n",
      " 23  cluster_2.0                   442995 non-null  int8   \n",
      " 24  cluster_3.0                   442995 non-null  int8   \n",
      " 25  cluster_4.0                   442995 non-null  int8   \n",
      " 26  cluster_5.0                   442995 non-null  int8   \n",
      " 27  cluster_6.0                   442995 non-null  int8   \n",
      " 28  segment                       442995 non-null  float64\n",
      " 29  pk_cid                        442995 non-null  int64  \n",
      " 30  increased_nr_accounts_10_m+1  0 non-null       float64\n",
      " 31  age                           442995 non-null  int64  \n",
      " 32  months_from_last_purchase     442995 non-null  int64  \n",
      " 33  nr_financing_60               442995 non-null  int64  \n",
      " 34  nr_account_10                 442995 non-null  int64  \n",
      " 35  nr_debt                       442995 non-null  int64  \n",
      " 36  nr_product_trend              442995 non-null  float64\n",
      " 37  customer_tenure               442995 non-null  int64  \n",
      " 38  nr_transactions               442995 non-null  float64\n",
      " 39  saving_behavior               442995 non-null  int64  \n",
      " 40  risk_index_absolute           442995 non-null  int64  \n",
      " 41  active_customer_rate          442995 non-null  float64\n",
      " 42  entry_date                    442995 non-null  int32  \n",
      " 43  nr_account_10_trend           442995 non-null  float64\n",
      " 44  salary                        442995 non-null  float64\n",
      " 45  increased_nr_account_10       442995 non-null  int32  \n",
      "dtypes: float64(7), int32(2), int64(9), int8(28)\n",
      "memory usage: 72.7 MB\n"
     ]
    }
   ],
   "source": [
    "df_capstone_clean_with_clusters_last_partition_account_predictions.info(show_counts=True)"
   ]
  },
  {
   "cell_type": "code",
   "execution_count": 123,
   "metadata": {},
   "outputs": [],
   "source": [
    "# seteamos el pk_cid como índice\n",
    "\n",
    "df_capstone_clean_with_clusters_last_partition_account_predictions.set_index('pk_cid', inplace=True)"
   ]
  },
  {
   "cell_type": "code",
   "execution_count": 124,
   "metadata": {},
   "outputs": [],
   "source": [
    "X_pred_accounts = df_capstone_clean_with_clusters_last_partition_account_predictions.copy()"
   ]
  },
  {
   "cell_type": "code",
   "execution_count": 125,
   "metadata": {},
   "outputs": [
    {
     "name": "stdout",
     "output_type": "stream",
     "text": [
      "['regions_ca_id_AN' 'regions_ca_id_AR' 'regions_ca_id_AS'\n",
      " 'regions_ca_id_CB' 'regions_ca_id_CE' 'regions_ca_id_CL'\n",
      " 'regions_ca_id_CM' 'regions_ca_id_CN' 'regions_ca_id_CT'\n",
      " 'regions_ca_id_EX' 'regions_ca_id_Extranjero' 'regions_ca_id_GA'\n",
      " 'regions_ca_id_IB' 'regions_ca_id_MC' 'regions_ca_id_MD'\n",
      " 'regions_ca_id_ML' 'regions_ca_id_NC' 'regions_ca_id_PV'\n",
      " 'regions_ca_id_RI' 'regions_ca_id_VC' 'cluster_-1.0' 'cluster_0.0'\n",
      " 'cluster_1.0' 'cluster_2.0' 'cluster_3.0' 'cluster_4.0' 'cluster_5.0'\n",
      " 'cluster_6.0' 'segment' 'age' 'months_from_last_purchase'\n",
      " 'nr_financing_60' 'nr_account_10' 'nr_debt' 'nr_product_trend'\n",
      " 'customer_tenure' 'nr_transactions' 'saving_behavior'\n",
      " 'risk_index_absolute' 'active_customer_rate' 'entry_date'\n",
      " 'nr_account_10_trend' 'salary' 'increased_nr_account_10']\n"
     ]
    }
   ],
   "source": [
    "print(model_accounts.feature_names_in_)"
   ]
  },
  {
   "cell_type": "code",
   "execution_count": 126,
   "metadata": {},
   "outputs": [
    {
     "name": "stdout",
     "output_type": "stream",
     "text": [
      "Columnas en dataset: 45\n",
      "Variables en modelos: 44\n",
      "¿Match?: False\n"
     ]
    }
   ],
   "source": [
    "features_pred = list(X_pred_accounts.columns)\n",
    "features_model = list(model_accounts.feature_names_in_)\n",
    "\n",
    "print('Columnas en dataset:',len(features_pred))\n",
    "print('Variables en modelos:',len(features_model))\n",
    "print('¿Match?:', features_model == features_pred)"
   ]
  },
  {
   "cell_type": "code",
   "execution_count": 127,
   "metadata": {},
   "outputs": [
    {
     "name": "stdout",
     "output_type": "stream",
     "text": [
      "Variables que faltan en el dataset y hay que crear:\n",
      " []\n",
      "\n",
      "Variables que sobran en el dataset y hay que borrar:\n",
      " ['increased_nr_accounts_10_m+1']\n"
     ]
    }
   ],
   "source": [
    "missing_features = [i for i in features_model if i not in features_pred]\n",
    "exceeding_features = [i for i in features_pred if i not in features_model]\n",
    "print('Variables que faltan en el dataset y hay que crear:\\n', missing_features)\n",
    "print('')\n",
    "print('Variables que sobran en el dataset y hay que borrar:\\n', exceeding_features)"
   ]
  },
  {
   "cell_type": "code",
   "execution_count": 128,
   "metadata": {},
   "outputs": [],
   "source": [
    "for col in missing_features:\n",
    "  X_pred_accounts[col]= 0\n",
    "  \n",
    "X_pred_accounts.drop(columns = exceeding_features, inplace=True)"
   ]
  },
  {
   "cell_type": "code",
   "execution_count": 129,
   "metadata": {},
   "outputs": [
    {
     "name": "stdout",
     "output_type": "stream",
     "text": [
      "Columnas en dataset: 44\n",
      "Variables en modelos: 44\n",
      "¿Match?: True\n"
     ]
    }
   ],
   "source": [
    "features_test = list(X_pred_accounts.columns)\n",
    "\n",
    "print('Columnas en dataset:',len(features_test))\n",
    "print('Variables en modelos:',len(features_model))\n",
    "print('¿Match?:', features_model == features_test)"
   ]
  },
  {
   "cell_type": "code",
   "execution_count": 130,
   "metadata": {},
   "outputs": [],
   "source": [
    "# Reordena variables\n",
    "\n",
    "X_pred_accounts = X_pred_accounts[features_model]"
   ]
  },
  {
   "cell_type": "code",
   "execution_count": 131,
   "metadata": {},
   "outputs": [],
   "source": [
    "# creamos las predicciones\n",
    "\n",
    "predictions_accounts = model_accounts.predict(X_pred_accounts)"
   ]
  },
  {
   "cell_type": "code",
   "execution_count": 132,
   "metadata": {},
   "outputs": [],
   "source": [
    "# creamos las probabilidades\n",
    "\n",
    "predictions_accounts_proba = model_accounts.predict_proba(X_pred_accounts)"
   ]
  },
  {
   "cell_type": "code",
   "execution_count": 133,
   "metadata": {},
   "outputs": [],
   "source": [
    "df_capstone_clean_with_clusters_last_partition_propension = df_capstone_clean_with_clusters_last_partition[['pk_cid']]"
   ]
  },
  {
   "cell_type": "code",
   "execution_count": 134,
   "metadata": {},
   "outputs": [
    {
     "data": {
      "text/html": [
       "<div>\n",
       "<style scoped>\n",
       "    .dataframe tbody tr th:only-of-type {\n",
       "        vertical-align: middle;\n",
       "    }\n",
       "\n",
       "    .dataframe tbody tr th {\n",
       "        vertical-align: top;\n",
       "    }\n",
       "\n",
       "    .dataframe thead th {\n",
       "        text-align: right;\n",
       "    }\n",
       "</style>\n",
       "<table border=\"1\" class=\"dataframe\">\n",
       "  <thead>\n",
       "    <tr style=\"text-align: right;\">\n",
       "      <th></th>\n",
       "      <th>pk_cid</th>\n",
       "      <th>increased_nr_accounts_10_m+1</th>\n",
       "      <th>increased_nr_accounts_10_m+1_proba</th>\n",
       "      <th>ROI_nr_accounts_10_m+1</th>\n",
       "    </tr>\n",
       "  </thead>\n",
       "  <tbody>\n",
       "    <tr>\n",
       "      <th>8</th>\n",
       "      <td>16063</td>\n",
       "      <td>0</td>\n",
       "      <td>0.045194</td>\n",
       "      <td>0.000000</td>\n",
       "    </tr>\n",
       "    <tr>\n",
       "      <th>14</th>\n",
       "      <td>16203</td>\n",
       "      <td>1</td>\n",
       "      <td>0.951505</td>\n",
       "      <td>9.515050</td>\n",
       "    </tr>\n",
       "    <tr>\n",
       "      <th>23</th>\n",
       "      <td>16502</td>\n",
       "      <td>0</td>\n",
       "      <td>0.073489</td>\n",
       "      <td>0.000000</td>\n",
       "    </tr>\n",
       "    <tr>\n",
       "      <th>40</th>\n",
       "      <td>17457</td>\n",
       "      <td>1</td>\n",
       "      <td>0.885266</td>\n",
       "      <td>8.852658</td>\n",
       "    </tr>\n",
       "    <tr>\n",
       "      <th>51</th>\n",
       "      <td>17590</td>\n",
       "      <td>0</td>\n",
       "      <td>0.401437</td>\n",
       "      <td>0.000000</td>\n",
       "    </tr>\n",
       "  </tbody>\n",
       "</table>\n",
       "</div>"
      ],
      "text/plain": [
       "    pk_cid  increased_nr_accounts_10_m+1  increased_nr_accounts_10_m+1_proba  \\\n",
       "8    16063                             0                            0.045194   \n",
       "14   16203                             1                            0.951505   \n",
       "23   16502                             0                            0.073489   \n",
       "40   17457                             1                            0.885266   \n",
       "51   17590                             0                            0.401437   \n",
       "\n",
       "    ROI_nr_accounts_10_m+1  \n",
       "8                 0.000000  \n",
       "14                9.515050  \n",
       "23                0.000000  \n",
       "40                8.852658  \n",
       "51                0.000000  "
      ]
     },
     "execution_count": 134,
     "metadata": {},
     "output_type": "execute_result"
    }
   ],
   "source": [
    "# ponemos las predicciones en un dataset nuevo\n",
    "\n",
    "df_capstone_clean_with_clusters_last_partition_propension = df_capstone_clean_with_clusters_last_partition[['pk_cid']]\n",
    "\n",
    "df_capstone_clean_with_clusters_last_partition_propension['increased_nr_accounts_10_m+1'] = predictions_accounts\n",
    "df_capstone_clean_with_clusters_last_partition_propension['increased_nr_accounts_10_m+1_proba'] = predictions_accounts_proba[:,1]\n",
    "\n",
    "df_capstone_clean_with_clusters_last_partition_propension['ROI_nr_accounts_10_m+1'] = df_capstone_clean_with_clusters_last_partition_propension['increased_nr_accounts_10_m+1'] * \\\n",
    "                                                                                      df_capstone_clean_with_clusters_last_partition_propension['increased_nr_accounts_10_m+1_proba'] * 10\n",
    "\n",
    "df_capstone_clean_with_clusters_last_partition_propension.head()"
   ]
  },
  {
   "cell_type": "markdown",
   "metadata": {},
   "source": [
    "#### Saving and investment"
   ]
  },
  {
   "cell_type": "code",
   "execution_count": 135,
   "metadata": {},
   "outputs": [],
   "source": [
    "df_capstone_clean_with_clusters_last_partition_saving_and_investment_predictions = df_capstone_clean_with_clusters_last_partition.copy()\n",
    "\n",
    "df_capstone_clean_with_clusters_last_partition_saving_and_investment_predictions = pipe_saving_and_investment.transform(df_capstone_clean_with_clusters_last_partition_saving_and_investment_predictions)"
   ]
  },
  {
   "cell_type": "code",
   "execution_count": 136,
   "metadata": {},
   "outputs": [
    {
     "name": "stdout",
     "output_type": "stream",
     "text": [
      "<class 'pandas.core.frame.DataFrame'>\n",
      "Index: 442995 entries, 8 to 5962923\n",
      "Data columns (total 45 columns):\n",
      " #   Column                              Non-Null Count   Dtype  \n",
      "---  ------                              --------------   -----  \n",
      " 0   regions_ca_id_AN                    442995 non-null  int8   \n",
      " 1   regions_ca_id_AR                    442995 non-null  int8   \n",
      " 2   regions_ca_id_AS                    442995 non-null  int8   \n",
      " 3   regions_ca_id_CB                    442995 non-null  int8   \n",
      " 4   regions_ca_id_CE                    442995 non-null  int8   \n",
      " 5   regions_ca_id_CL                    442995 non-null  int8   \n",
      " 6   regions_ca_id_CM                    442995 non-null  int8   \n",
      " 7   regions_ca_id_CN                    442995 non-null  int8   \n",
      " 8   regions_ca_id_CT                    442995 non-null  int8   \n",
      " 9   regions_ca_id_EX                    442995 non-null  int8   \n",
      " 10  regions_ca_id_Extranjero            442995 non-null  int8   \n",
      " 11  regions_ca_id_GA                    442995 non-null  int8   \n",
      " 12  regions_ca_id_IB                    442995 non-null  int8   \n",
      " 13  regions_ca_id_MC                    442995 non-null  int8   \n",
      " 14  regions_ca_id_MD                    442995 non-null  int8   \n",
      " 15  regions_ca_id_ML                    442995 non-null  int8   \n",
      " 16  regions_ca_id_NC                    442995 non-null  int8   \n",
      " 17  regions_ca_id_PV                    442995 non-null  int8   \n",
      " 18  regions_ca_id_RI                    442995 non-null  int8   \n",
      " 19  regions_ca_id_VC                    442995 non-null  int8   \n",
      " 20  cluster_-1.0                        442995 non-null  int8   \n",
      " 21  cluster_0.0                         442995 non-null  int8   \n",
      " 22  cluster_1.0                         442995 non-null  int8   \n",
      " 23  cluster_2.0                         442995 non-null  int8   \n",
      " 24  cluster_3.0                         442995 non-null  int8   \n",
      " 25  cluster_4.0                         442995 non-null  int8   \n",
      " 26  cluster_5.0                         442995 non-null  int8   \n",
      " 27  cluster_6.0                         442995 non-null  int8   \n",
      " 28  segment                             442995 non-null  float64\n",
      " 29  pk_cid                              442995 non-null  int64  \n",
      " 30  increased_nr_invest_savings_40_m+1  0 non-null       float64\n",
      " 31  age                                 442995 non-null  int64  \n",
      " 32  months_from_last_purchase           442995 non-null  int64  \n",
      " 33  nr_financing_60                     442995 non-null  int64  \n",
      " 34  nr_account_10                       442995 non-null  int64  \n",
      " 35  nr_debt                             442995 non-null  int64  \n",
      " 36  nr_product_trend                    442995 non-null  float64\n",
      " 37  customer_tenure                     442995 non-null  int64  \n",
      " 38  nr_transactions                     442995 non-null  float64\n",
      " 39  saving_behavior                     442995 non-null  int64  \n",
      " 40  risk_index_absolute                 442995 non-null  int64  \n",
      " 41  active_customer                     442995 non-null  int64  \n",
      " 42  entry_date                          442995 non-null  int32  \n",
      " 43  nr_invest_savings_40_trend          442995 non-null  float64\n",
      " 44  salary                              442995 non-null  float64\n",
      "dtypes: float64(6), int32(1), int64(10), int8(28)\n",
      "memory usage: 71.0 MB\n"
     ]
    }
   ],
   "source": [
    "df_capstone_clean_with_clusters_last_partition_saving_and_investment_predictions.info(show_counts=True)"
   ]
  },
  {
   "cell_type": "code",
   "execution_count": 137,
   "metadata": {},
   "outputs": [],
   "source": [
    "# seteamos el pk_cid como índice\n",
    "\n",
    "df_capstone_clean_with_clusters_last_partition_saving_and_investment_predictions.set_index('pk_cid', inplace=True)"
   ]
  },
  {
   "cell_type": "code",
   "execution_count": 138,
   "metadata": {},
   "outputs": [],
   "source": [
    "X_pred_saving_and_investment = df_capstone_clean_with_clusters_last_partition_saving_and_investment_predictions.copy()"
   ]
  },
  {
   "cell_type": "code",
   "execution_count": 139,
   "metadata": {},
   "outputs": [
    {
     "name": "stdout",
     "output_type": "stream",
     "text": [
      "['regions_ca_id_AN' 'regions_ca_id_AR' 'regions_ca_id_AS'\n",
      " 'regions_ca_id_CB' 'regions_ca_id_CE' 'regions_ca_id_CL'\n",
      " 'regions_ca_id_CM' 'regions_ca_id_CN' 'regions_ca_id_CT'\n",
      " 'regions_ca_id_EX' 'regions_ca_id_Extranjero' 'regions_ca_id_GA'\n",
      " 'regions_ca_id_IB' 'regions_ca_id_MC' 'regions_ca_id_MD'\n",
      " 'regions_ca_id_ML' 'regions_ca_id_NC' 'regions_ca_id_PV'\n",
      " 'regions_ca_id_RI' 'regions_ca_id_VC' 'cluster_-1.0' 'cluster_0.0'\n",
      " 'cluster_1.0' 'cluster_2.0' 'cluster_3.0' 'cluster_4.0' 'cluster_5.0'\n",
      " 'cluster_6.0' 'segment' 'age' 'months_from_last_purchase'\n",
      " 'nr_financing_60' 'nr_account_10' 'nr_debt' 'nr_product_trend'\n",
      " 'customer_tenure' 'nr_transactions' 'saving_behavior'\n",
      " 'risk_index_absolute' 'active_customer' 'entry_date'\n",
      " 'nr_invest_savings_40_trend' 'salary']\n"
     ]
    }
   ],
   "source": [
    "print(model_saving_and_investment.feature_names_in_)"
   ]
  },
  {
   "cell_type": "code",
   "execution_count": 140,
   "metadata": {},
   "outputs": [
    {
     "name": "stdout",
     "output_type": "stream",
     "text": [
      "Columnas en dataset: 44\n",
      "Variables en modelos: 43\n",
      "¿Match?: False\n"
     ]
    }
   ],
   "source": [
    "features_pred = list(X_pred_saving_and_investment.columns)\n",
    "features_model = list(model_saving_and_investment.feature_names_in_)\n",
    "\n",
    "print('Columnas en dataset:',len(features_pred))\n",
    "print('Variables en modelos:',len(features_model))\n",
    "print('¿Match?:', features_model == features_pred)"
   ]
  },
  {
   "cell_type": "code",
   "execution_count": 141,
   "metadata": {},
   "outputs": [
    {
     "name": "stdout",
     "output_type": "stream",
     "text": [
      "Variables que faltan en el dataset y hay que crear:\n",
      " []\n",
      "\n",
      "Variables que sobran en el dataset y hay que borrar:\n",
      " ['increased_nr_invest_savings_40_m+1']\n"
     ]
    }
   ],
   "source": [
    "missing_features = [i for i in features_model if i not in features_pred]\n",
    "exceeding_features = [i for i in features_pred if i not in features_model]\n",
    "print('Variables que faltan en el dataset y hay que crear:\\n', missing_features)\n",
    "print('')\n",
    "print('Variables que sobran en el dataset y hay que borrar:\\n', exceeding_features)"
   ]
  },
  {
   "cell_type": "code",
   "execution_count": 142,
   "metadata": {},
   "outputs": [],
   "source": [
    "for col in missing_features:\n",
    "  X_pred_saving_and_investment[col]= 0\n",
    "  \n",
    "X_pred_saving_and_investment.drop(columns = exceeding_features, inplace=True)"
   ]
  },
  {
   "cell_type": "code",
   "execution_count": 143,
   "metadata": {},
   "outputs": [
    {
     "name": "stdout",
     "output_type": "stream",
     "text": [
      "Columnas en dataset: 43\n",
      "Variables en modelos: 43\n",
      "¿Match?: True\n"
     ]
    }
   ],
   "source": [
    "features_test = list(X_pred_saving_and_investment.columns)\n",
    "\n",
    "print('Columnas en dataset:',len(features_test))\n",
    "print('Variables en modelos:',len(features_model))\n",
    "print('¿Match?:', features_model == features_test)"
   ]
  },
  {
   "cell_type": "code",
   "execution_count": 144,
   "metadata": {},
   "outputs": [],
   "source": [
    "# Reordena variables\n",
    "\n",
    "X_pred_saving_and_investment = X_pred_saving_and_investment[features_model]"
   ]
  },
  {
   "cell_type": "code",
   "execution_count": 145,
   "metadata": {},
   "outputs": [],
   "source": [
    "# creamos las predicciones\n",
    "\n",
    "predictions_saving_and_investments = model_saving_and_investment.predict(X_pred_saving_and_investment)"
   ]
  },
  {
   "cell_type": "code",
   "execution_count": 146,
   "metadata": {},
   "outputs": [],
   "source": [
    "# creamos las probabilidades\n",
    "\n",
    "predictions_saving_and_investments_proba = model_saving_and_investment.predict_proba(X_pred_saving_and_investment)"
   ]
  },
  {
   "cell_type": "code",
   "execution_count": 147,
   "metadata": {},
   "outputs": [
    {
     "data": {
      "text/html": [
       "<div>\n",
       "<style scoped>\n",
       "    .dataframe tbody tr th:only-of-type {\n",
       "        vertical-align: middle;\n",
       "    }\n",
       "\n",
       "    .dataframe tbody tr th {\n",
       "        vertical-align: top;\n",
       "    }\n",
       "\n",
       "    .dataframe thead th {\n",
       "        text-align: right;\n",
       "    }\n",
       "</style>\n",
       "<table border=\"1\" class=\"dataframe\">\n",
       "  <thead>\n",
       "    <tr style=\"text-align: right;\">\n",
       "      <th></th>\n",
       "      <th>pk_cid</th>\n",
       "      <th>increased_nr_accounts_10_m+1</th>\n",
       "      <th>increased_nr_accounts_10_m+1_proba</th>\n",
       "      <th>ROI_nr_accounts_10_m+1</th>\n",
       "      <th>increased_nr_invest_savings_40_m+1</th>\n",
       "      <th>increased_nr_invest_savings_40_m+1_proba</th>\n",
       "      <th>ROI_nr_invest_savings_40_m+1</th>\n",
       "    </tr>\n",
       "  </thead>\n",
       "  <tbody>\n",
       "    <tr>\n",
       "      <th>8</th>\n",
       "      <td>16063</td>\n",
       "      <td>0</td>\n",
       "      <td>0.045194</td>\n",
       "      <td>0.000000</td>\n",
       "      <td>0</td>\n",
       "      <td>0.000216</td>\n",
       "      <td>0.000000</td>\n",
       "    </tr>\n",
       "    <tr>\n",
       "      <th>14</th>\n",
       "      <td>16203</td>\n",
       "      <td>1</td>\n",
       "      <td>0.951505</td>\n",
       "      <td>9.515050</td>\n",
       "      <td>0</td>\n",
       "      <td>0.008044</td>\n",
       "      <td>0.000000</td>\n",
       "    </tr>\n",
       "    <tr>\n",
       "      <th>23</th>\n",
       "      <td>16502</td>\n",
       "      <td>0</td>\n",
       "      <td>0.073489</td>\n",
       "      <td>0.000000</td>\n",
       "      <td>0</td>\n",
       "      <td>0.071920</td>\n",
       "      <td>0.000000</td>\n",
       "    </tr>\n",
       "    <tr>\n",
       "      <th>40</th>\n",
       "      <td>17457</td>\n",
       "      <td>1</td>\n",
       "      <td>0.885266</td>\n",
       "      <td>8.852658</td>\n",
       "      <td>1</td>\n",
       "      <td>0.523930</td>\n",
       "      <td>20.957201</td>\n",
       "    </tr>\n",
       "    <tr>\n",
       "      <th>51</th>\n",
       "      <td>17590</td>\n",
       "      <td>0</td>\n",
       "      <td>0.401437</td>\n",
       "      <td>0.000000</td>\n",
       "      <td>0</td>\n",
       "      <td>0.027835</td>\n",
       "      <td>0.000000</td>\n",
       "    </tr>\n",
       "  </tbody>\n",
       "</table>\n",
       "</div>"
      ],
      "text/plain": [
       "    pk_cid  increased_nr_accounts_10_m+1  increased_nr_accounts_10_m+1_proba  \\\n",
       "8    16063                             0                            0.045194   \n",
       "14   16203                             1                            0.951505   \n",
       "23   16502                             0                            0.073489   \n",
       "40   17457                             1                            0.885266   \n",
       "51   17590                             0                            0.401437   \n",
       "\n",
       "    ROI_nr_accounts_10_m+1  increased_nr_invest_savings_40_m+1  \\\n",
       "8                 0.000000                                   0   \n",
       "14                9.515050                                   0   \n",
       "23                0.000000                                   0   \n",
       "40                8.852658                                   1   \n",
       "51                0.000000                                   0   \n",
       "\n",
       "    increased_nr_invest_savings_40_m+1_proba  ROI_nr_invest_savings_40_m+1  \n",
       "8                                   0.000216                      0.000000  \n",
       "14                                  0.008044                      0.000000  \n",
       "23                                  0.071920                      0.000000  \n",
       "40                                  0.523930                     20.957201  \n",
       "51                                  0.027835                      0.000000  "
      ]
     },
     "execution_count": 147,
     "metadata": {},
     "output_type": "execute_result"
    }
   ],
   "source": [
    "# ponemos las predicciones en un dataset nuevo\n",
    "\n",
    "# df_capstone_clean_with_clusters_last_partition_propension = df_capstone_clean_with_clusters_last_partition[['pk_cid']]\n",
    "\n",
    "df_capstone_clean_with_clusters_last_partition_propension['increased_nr_invest_savings_40_m+1'] = predictions_saving_and_investments\n",
    "df_capstone_clean_with_clusters_last_partition_propension['increased_nr_invest_savings_40_m+1_proba'] = predictions_saving_and_investments_proba[:,1]\n",
    "\n",
    "df_capstone_clean_with_clusters_last_partition_propension['ROI_nr_invest_savings_40_m+1'] = df_capstone_clean_with_clusters_last_partition_propension['increased_nr_invest_savings_40_m+1'] * \\\n",
    "                                                                                            df_capstone_clean_with_clusters_last_partition_propension['increased_nr_invest_savings_40_m+1_proba'] * 40\n",
    "                                                                                      \n",
    "df_capstone_clean_with_clusters_last_partition_propension.head()"
   ]
  },
  {
   "cell_type": "markdown",
   "metadata": {},
   "source": [
    "#### Financing"
   ]
  },
  {
   "cell_type": "code",
   "execution_count": 148,
   "metadata": {},
   "outputs": [],
   "source": [
    "df_capstone_clean_with_clusters_last_partition_financing_predictions = df_capstone_clean_with_clusters_last_partition.copy()\n",
    "\n",
    "df_capstone_clean_with_clusters_last_partition_financing_predictions = pipe_financing.transform(df_capstone_clean_with_clusters_last_partition_financing_predictions)"
   ]
  },
  {
   "cell_type": "code",
   "execution_count": 149,
   "metadata": {},
   "outputs": [
    {
     "name": "stdout",
     "output_type": "stream",
     "text": [
      "<class 'pandas.core.frame.DataFrame'>\n",
      "Index: 442995 entries, 8 to 5962923\n",
      "Data columns (total 45 columns):\n",
      " #   Column                         Non-Null Count   Dtype  \n",
      "---  ------                         --------------   -----  \n",
      " 0   regions_ca_id_AN               442995 non-null  int8   \n",
      " 1   regions_ca_id_AR               442995 non-null  int8   \n",
      " 2   regions_ca_id_AS               442995 non-null  int8   \n",
      " 3   regions_ca_id_CB               442995 non-null  int8   \n",
      " 4   regions_ca_id_CE               442995 non-null  int8   \n",
      " 5   regions_ca_id_CL               442995 non-null  int8   \n",
      " 6   regions_ca_id_CM               442995 non-null  int8   \n",
      " 7   regions_ca_id_CN               442995 non-null  int8   \n",
      " 8   regions_ca_id_CT               442995 non-null  int8   \n",
      " 9   regions_ca_id_EX               442995 non-null  int8   \n",
      " 10  regions_ca_id_Extranjero       442995 non-null  int8   \n",
      " 11  regions_ca_id_GA               442995 non-null  int8   \n",
      " 12  regions_ca_id_IB               442995 non-null  int8   \n",
      " 13  regions_ca_id_MC               442995 non-null  int8   \n",
      " 14  regions_ca_id_MD               442995 non-null  int8   \n",
      " 15  regions_ca_id_ML               442995 non-null  int8   \n",
      " 16  regions_ca_id_NC               442995 non-null  int8   \n",
      " 17  regions_ca_id_PV               442995 non-null  int8   \n",
      " 18  regions_ca_id_RI               442995 non-null  int8   \n",
      " 19  regions_ca_id_VC               442995 non-null  int8   \n",
      " 20  cluster_-1.0                   442995 non-null  int8   \n",
      " 21  cluster_0.0                    442995 non-null  int8   \n",
      " 22  cluster_1.0                    442995 non-null  int8   \n",
      " 23  cluster_2.0                    442995 non-null  int8   \n",
      " 24  cluster_3.0                    442995 non-null  int8   \n",
      " 25  cluster_4.0                    442995 non-null  int8   \n",
      " 26  cluster_5.0                    442995 non-null  int8   \n",
      " 27  cluster_6.0                    442995 non-null  int8   \n",
      " 28  segment                        442995 non-null  float64\n",
      " 29  pk_cid                         442995 non-null  int64  \n",
      " 30  increased_nr_financing_60_m+1  0 non-null       float64\n",
      " 31  age                            442995 non-null  int64  \n",
      " 32  months_from_last_purchase      442995 non-null  int64  \n",
      " 33  nr_financing_60                442995 non-null  int64  \n",
      " 34  nr_account_10                  442995 non-null  int64  \n",
      " 35  nr_product_trend               442995 non-null  float64\n",
      " 36  customer_tenure                442995 non-null  int64  \n",
      " 37  nr_transactions                442995 non-null  float64\n",
      " 38  saving_behavior                442995 non-null  int64  \n",
      " 39  risk_index_absolute            442995 non-null  int64  \n",
      " 40  active_customer                442995 non-null  int64  \n",
      " 41  entry_date                     442995 non-null  int32  \n",
      " 42  nr_financing_60_trend          442995 non-null  float64\n",
      " 43  salary                         442995 non-null  float64\n",
      " 44  increased_nr_financing_60      442995 non-null  int32  \n",
      "dtypes: float64(6), int32(2), int64(9), int8(28)\n",
      "memory usage: 69.3 MB\n"
     ]
    }
   ],
   "source": [
    "df_capstone_clean_with_clusters_last_partition_financing_predictions.info(show_counts=True)"
   ]
  },
  {
   "cell_type": "code",
   "execution_count": 150,
   "metadata": {},
   "outputs": [],
   "source": [
    "# seteamos el pk_cid como índice\n",
    "\n",
    "df_capstone_clean_with_clusters_last_partition_financing_predictions.set_index('pk_cid', inplace=True)"
   ]
  },
  {
   "cell_type": "code",
   "execution_count": 151,
   "metadata": {},
   "outputs": [],
   "source": [
    "X_pred_financing = df_capstone_clean_with_clusters_last_partition_financing_predictions.copy()"
   ]
  },
  {
   "cell_type": "code",
   "execution_count": 152,
   "metadata": {},
   "outputs": [
    {
     "name": "stdout",
     "output_type": "stream",
     "text": [
      "['regions_ca_id_AN' 'regions_ca_id_AR' 'regions_ca_id_AS'\n",
      " 'regions_ca_id_CB' 'regions_ca_id_CE' 'regions_ca_id_CL'\n",
      " 'regions_ca_id_CM' 'regions_ca_id_CN' 'regions_ca_id_CT'\n",
      " 'regions_ca_id_EX' 'regions_ca_id_Extranjero' 'regions_ca_id_GA'\n",
      " 'regions_ca_id_IB' 'regions_ca_id_MC' 'regions_ca_id_MD'\n",
      " 'regions_ca_id_ML' 'regions_ca_id_NC' 'regions_ca_id_PV'\n",
      " 'regions_ca_id_RI' 'regions_ca_id_VC' 'cluster_-1.0' 'cluster_0.0'\n",
      " 'cluster_1.0' 'cluster_2.0' 'cluster_3.0' 'cluster_4.0' 'cluster_5.0'\n",
      " 'cluster_6.0' 'segment' 'age' 'months_from_last_purchase'\n",
      " 'nr_financing_60' 'nr_account_10' 'nr_product_trend' 'customer_tenure'\n",
      " 'nr_transactions' 'saving_behavior' 'risk_index_absolute'\n",
      " 'active_customer' 'entry_date' 'nr_financing_60_trend' 'salary'\n",
      " 'increased_nr_financing_60']\n"
     ]
    }
   ],
   "source": [
    "print(model_financing.feature_names_in_)"
   ]
  },
  {
   "cell_type": "code",
   "execution_count": 153,
   "metadata": {},
   "outputs": [
    {
     "name": "stdout",
     "output_type": "stream",
     "text": [
      "Columnas en dataset: 44\n",
      "Variables en modelos: 43\n",
      "¿Match?: False\n"
     ]
    }
   ],
   "source": [
    "features_pred = list(X_pred_financing.columns)\n",
    "features_model = list(model_financing.feature_names_in_)\n",
    "\n",
    "print('Columnas en dataset:',len(features_pred))\n",
    "print('Variables en modelos:',len(features_model))\n",
    "print('¿Match?:', features_model == features_pred)"
   ]
  },
  {
   "cell_type": "code",
   "execution_count": 154,
   "metadata": {},
   "outputs": [
    {
     "name": "stdout",
     "output_type": "stream",
     "text": [
      "Variables que faltan en el dataset y hay que crear:\n",
      " []\n",
      "\n",
      "Variables que sobran en el dataset y hay que borrar:\n",
      " ['increased_nr_financing_60_m+1']\n"
     ]
    }
   ],
   "source": [
    "missing_features = [i for i in features_model if i not in features_pred]\n",
    "exceeding_features = [i for i in features_pred if i not in features_model]\n",
    "print('Variables que faltan en el dataset y hay que crear:\\n', missing_features)\n",
    "print('')\n",
    "print('Variables que sobran en el dataset y hay que borrar:\\n', exceeding_features)"
   ]
  },
  {
   "cell_type": "code",
   "execution_count": 155,
   "metadata": {},
   "outputs": [],
   "source": [
    "for col in missing_features:\n",
    "  X_pred_financing[col]= 0\n",
    "  \n",
    "X_pred_financing.drop(columns = exceeding_features, inplace=True)"
   ]
  },
  {
   "cell_type": "code",
   "execution_count": 156,
   "metadata": {},
   "outputs": [
    {
     "name": "stdout",
     "output_type": "stream",
     "text": [
      "Columnas en dataset: 43\n",
      "Variables en modelos: 43\n",
      "¿Match?: True\n"
     ]
    }
   ],
   "source": [
    "features_test = list(X_pred_financing.columns)\n",
    "\n",
    "print('Columnas en dataset:',len(features_test))\n",
    "print('Variables en modelos:',len(features_model))\n",
    "print('¿Match?:', features_model == features_test)"
   ]
  },
  {
   "cell_type": "code",
   "execution_count": 157,
   "metadata": {},
   "outputs": [],
   "source": [
    "# Reordena variables\n",
    "\n",
    "X_pred_financing = X_pred_financing[features_model]"
   ]
  },
  {
   "cell_type": "code",
   "execution_count": 158,
   "metadata": {},
   "outputs": [],
   "source": [
    "# creamos las predicciones\n",
    "\n",
    "predictions_financing = model_financing.predict(X_pred_financing)"
   ]
  },
  {
   "cell_type": "code",
   "execution_count": 159,
   "metadata": {},
   "outputs": [],
   "source": [
    "# creamos las probabilidades\n",
    "\n",
    "predictions_financing_proba = model_financing.predict_proba(X_pred_financing)"
   ]
  },
  {
   "cell_type": "code",
   "execution_count": 160,
   "metadata": {},
   "outputs": [
    {
     "data": {
      "text/html": [
       "<div>\n",
       "<style scoped>\n",
       "    .dataframe tbody tr th:only-of-type {\n",
       "        vertical-align: middle;\n",
       "    }\n",
       "\n",
       "    .dataframe tbody tr th {\n",
       "        vertical-align: top;\n",
       "    }\n",
       "\n",
       "    .dataframe thead th {\n",
       "        text-align: right;\n",
       "    }\n",
       "</style>\n",
       "<table border=\"1\" class=\"dataframe\">\n",
       "  <thead>\n",
       "    <tr style=\"text-align: right;\">\n",
       "      <th></th>\n",
       "      <th>pk_cid</th>\n",
       "      <th>increased_nr_accounts_10_m+1</th>\n",
       "      <th>increased_nr_accounts_10_m+1_proba</th>\n",
       "      <th>ROI_nr_accounts_10_m+1</th>\n",
       "      <th>increased_nr_invest_savings_40_m+1</th>\n",
       "      <th>increased_nr_invest_savings_40_m+1_proba</th>\n",
       "      <th>ROI_nr_invest_savings_40_m+1</th>\n",
       "      <th>increased_nr_financing_60_m+1</th>\n",
       "      <th>increased_nr_financing_60_m+1_proba</th>\n",
       "      <th>ROI_nr_financing_60_m+1</th>\n",
       "    </tr>\n",
       "  </thead>\n",
       "  <tbody>\n",
       "    <tr>\n",
       "      <th>0</th>\n",
       "      <td>16063</td>\n",
       "      <td>0</td>\n",
       "      <td>0.045194</td>\n",
       "      <td>0.000000</td>\n",
       "      <td>0</td>\n",
       "      <td>0.000216</td>\n",
       "      <td>0.000000</td>\n",
       "      <td>0</td>\n",
       "      <td>0.002320</td>\n",
       "      <td>0.0</td>\n",
       "    </tr>\n",
       "    <tr>\n",
       "      <th>1</th>\n",
       "      <td>16203</td>\n",
       "      <td>1</td>\n",
       "      <td>0.951505</td>\n",
       "      <td>9.515050</td>\n",
       "      <td>0</td>\n",
       "      <td>0.008044</td>\n",
       "      <td>0.000000</td>\n",
       "      <td>0</td>\n",
       "      <td>0.142948</td>\n",
       "      <td>0.0</td>\n",
       "    </tr>\n",
       "    <tr>\n",
       "      <th>2</th>\n",
       "      <td>16502</td>\n",
       "      <td>0</td>\n",
       "      <td>0.073489</td>\n",
       "      <td>0.000000</td>\n",
       "      <td>0</td>\n",
       "      <td>0.071920</td>\n",
       "      <td>0.000000</td>\n",
       "      <td>0</td>\n",
       "      <td>0.299887</td>\n",
       "      <td>0.0</td>\n",
       "    </tr>\n",
       "    <tr>\n",
       "      <th>3</th>\n",
       "      <td>17457</td>\n",
       "      <td>1</td>\n",
       "      <td>0.885266</td>\n",
       "      <td>8.852658</td>\n",
       "      <td>1</td>\n",
       "      <td>0.523930</td>\n",
       "      <td>20.957201</td>\n",
       "      <td>0</td>\n",
       "      <td>0.380822</td>\n",
       "      <td>0.0</td>\n",
       "    </tr>\n",
       "    <tr>\n",
       "      <th>4</th>\n",
       "      <td>17590</td>\n",
       "      <td>0</td>\n",
       "      <td>0.401437</td>\n",
       "      <td>0.000000</td>\n",
       "      <td>0</td>\n",
       "      <td>0.027835</td>\n",
       "      <td>0.000000</td>\n",
       "      <td>0</td>\n",
       "      <td>0.092480</td>\n",
       "      <td>0.0</td>\n",
       "    </tr>\n",
       "  </tbody>\n",
       "</table>\n",
       "</div>"
      ],
      "text/plain": [
       "   pk_cid  increased_nr_accounts_10_m+1  increased_nr_accounts_10_m+1_proba  \\\n",
       "0   16063                             0                            0.045194   \n",
       "1   16203                             1                            0.951505   \n",
       "2   16502                             0                            0.073489   \n",
       "3   17457                             1                            0.885266   \n",
       "4   17590                             0                            0.401437   \n",
       "\n",
       "   ROI_nr_accounts_10_m+1  increased_nr_invest_savings_40_m+1  \\\n",
       "0                0.000000                                   0   \n",
       "1                9.515050                                   0   \n",
       "2                0.000000                                   0   \n",
       "3                8.852658                                   1   \n",
       "4                0.000000                                   0   \n",
       "\n",
       "   increased_nr_invest_savings_40_m+1_proba  ROI_nr_invest_savings_40_m+1  \\\n",
       "0                                  0.000216                      0.000000   \n",
       "1                                  0.008044                      0.000000   \n",
       "2                                  0.071920                      0.000000   \n",
       "3                                  0.523930                     20.957201   \n",
       "4                                  0.027835                      0.000000   \n",
       "\n",
       "   increased_nr_financing_60_m+1  increased_nr_financing_60_m+1_proba  \\\n",
       "0                              0                             0.002320   \n",
       "1                              0                             0.142948   \n",
       "2                              0                             0.299887   \n",
       "3                              0                             0.380822   \n",
       "4                              0                             0.092480   \n",
       "\n",
       "   ROI_nr_financing_60_m+1  \n",
       "0                      0.0  \n",
       "1                      0.0  \n",
       "2                      0.0  \n",
       "3                      0.0  \n",
       "4                      0.0  "
      ]
     },
     "execution_count": 160,
     "metadata": {},
     "output_type": "execute_result"
    }
   ],
   "source": [
    "# ponemos las predicciones en un dataset nuevo\n",
    "\n",
    "# df_capstone_clean_with_clusters_last_partition_propension = df_capstone_clean_with_clusters_last_partition[['pk_cid']]\n",
    "\n",
    "df_capstone_clean_with_clusters_last_partition_propension['increased_nr_financing_60_m+1'] = predictions_financing\n",
    "df_capstone_clean_with_clusters_last_partition_propension['increased_nr_financing_60_m+1_proba'] = predictions_financing_proba[:,1]\n",
    "\n",
    "df_capstone_clean_with_clusters_last_partition_propension['ROI_nr_financing_60_m+1'] = df_capstone_clean_with_clusters_last_partition_propension['increased_nr_financing_60_m+1'] * \\\n",
    "                                                                                            df_capstone_clean_with_clusters_last_partition_propension['increased_nr_financing_60_m+1_proba'] * 60\n",
    "                                                                                      \n",
    "df_capstone_clean_with_clusters_last_partition_propension.reset_index(drop=True, inplace=True)\n",
    "df_capstone_clean_with_clusters_last_partition_propension.head()"
   ]
  },
  {
   "cell_type": "markdown",
   "metadata": {},
   "source": [
    "### Analisis de las predicciones"
   ]
  },
  {
   "cell_type": "code",
   "execution_count": 161,
   "metadata": {},
   "outputs": [
    {
     "name": "stdout",
     "output_type": "stream",
     "text": [
      "<class 'pandas.core.frame.DataFrame'>\n",
      "RangeIndex: 442995 entries, 0 to 442994\n",
      "Data columns (total 10 columns):\n",
      " #   Column                                    Non-Null Count   Dtype  \n",
      "---  ------                                    --------------   -----  \n",
      " 0   pk_cid                                    442995 non-null  int64  \n",
      " 1   increased_nr_accounts_10_m+1              442995 non-null  int32  \n",
      " 2   increased_nr_accounts_10_m+1_proba        442995 non-null  float32\n",
      " 3   ROI_nr_accounts_10_m+1                    442995 non-null  float64\n",
      " 4   increased_nr_invest_savings_40_m+1        442995 non-null  int32  \n",
      " 5   increased_nr_invest_savings_40_m+1_proba  442995 non-null  float32\n",
      " 6   ROI_nr_invest_savings_40_m+1              442995 non-null  float64\n",
      " 7   increased_nr_financing_60_m+1             442995 non-null  int32  \n",
      " 8   increased_nr_financing_60_m+1_proba       442995 non-null  float32\n",
      " 9   ROI_nr_financing_60_m+1                   442995 non-null  float64\n",
      "dtypes: float32(3), float64(3), int32(3), int64(1)\n",
      "memory usage: 23.7 MB\n"
     ]
    }
   ],
   "source": [
    "df_capstone_clean_with_clusters_last_partition_propension.info()"
   ]
  },
  {
   "cell_type": "code",
   "execution_count": 162,
   "metadata": {},
   "outputs": [
    {
     "data": {
      "text/html": [
       "<div>\n",
       "<style scoped>\n",
       "    .dataframe tbody tr th:only-of-type {\n",
       "        vertical-align: middle;\n",
       "    }\n",
       "\n",
       "    .dataframe tbody tr th {\n",
       "        vertical-align: top;\n",
       "    }\n",
       "\n",
       "    .dataframe thead th {\n",
       "        text-align: right;\n",
       "    }\n",
       "</style>\n",
       "<table border=\"1\" class=\"dataframe\">\n",
       "  <thead>\n",
       "    <tr style=\"text-align: right;\">\n",
       "      <th></th>\n",
       "      <th>0</th>\n",
       "      <th>1</th>\n",
       "      <th>2</th>\n",
       "      <th>3</th>\n",
       "      <th>4</th>\n",
       "    </tr>\n",
       "  </thead>\n",
       "  <tbody>\n",
       "    <tr>\n",
       "      <th>pk_cid</th>\n",
       "      <td>16063.000000</td>\n",
       "      <td>16203.000000</td>\n",
       "      <td>16502.000000</td>\n",
       "      <td>17457.000000</td>\n",
       "      <td>17590.000000</td>\n",
       "    </tr>\n",
       "    <tr>\n",
       "      <th>increased_nr_accounts_10_m+1</th>\n",
       "      <td>0.000000</td>\n",
       "      <td>1.000000</td>\n",
       "      <td>0.000000</td>\n",
       "      <td>1.000000</td>\n",
       "      <td>0.000000</td>\n",
       "    </tr>\n",
       "    <tr>\n",
       "      <th>increased_nr_accounts_10_m+1_proba</th>\n",
       "      <td>0.045194</td>\n",
       "      <td>0.951505</td>\n",
       "      <td>0.073489</td>\n",
       "      <td>0.885266</td>\n",
       "      <td>0.401437</td>\n",
       "    </tr>\n",
       "    <tr>\n",
       "      <th>ROI_nr_accounts_10_m+1</th>\n",
       "      <td>0.000000</td>\n",
       "      <td>9.515050</td>\n",
       "      <td>0.000000</td>\n",
       "      <td>8.852658</td>\n",
       "      <td>0.000000</td>\n",
       "    </tr>\n",
       "    <tr>\n",
       "      <th>increased_nr_invest_savings_40_m+1</th>\n",
       "      <td>0.000000</td>\n",
       "      <td>0.000000</td>\n",
       "      <td>0.000000</td>\n",
       "      <td>1.000000</td>\n",
       "      <td>0.000000</td>\n",
       "    </tr>\n",
       "    <tr>\n",
       "      <th>increased_nr_invest_savings_40_m+1_proba</th>\n",
       "      <td>0.000216</td>\n",
       "      <td>0.008044</td>\n",
       "      <td>0.071920</td>\n",
       "      <td>0.523930</td>\n",
       "      <td>0.027835</td>\n",
       "    </tr>\n",
       "    <tr>\n",
       "      <th>ROI_nr_invest_savings_40_m+1</th>\n",
       "      <td>0.000000</td>\n",
       "      <td>0.000000</td>\n",
       "      <td>0.000000</td>\n",
       "      <td>20.957201</td>\n",
       "      <td>0.000000</td>\n",
       "    </tr>\n",
       "    <tr>\n",
       "      <th>increased_nr_financing_60_m+1</th>\n",
       "      <td>0.000000</td>\n",
       "      <td>0.000000</td>\n",
       "      <td>0.000000</td>\n",
       "      <td>0.000000</td>\n",
       "      <td>0.000000</td>\n",
       "    </tr>\n",
       "    <tr>\n",
       "      <th>increased_nr_financing_60_m+1_proba</th>\n",
       "      <td>0.002320</td>\n",
       "      <td>0.142948</td>\n",
       "      <td>0.299887</td>\n",
       "      <td>0.380822</td>\n",
       "      <td>0.092480</td>\n",
       "    </tr>\n",
       "    <tr>\n",
       "      <th>ROI_nr_financing_60_m+1</th>\n",
       "      <td>0.000000</td>\n",
       "      <td>0.000000</td>\n",
       "      <td>0.000000</td>\n",
       "      <td>0.000000</td>\n",
       "      <td>0.000000</td>\n",
       "    </tr>\n",
       "  </tbody>\n",
       "</table>\n",
       "</div>"
      ],
      "text/plain": [
       "                                                     0             1  \\\n",
       "pk_cid                                    16063.000000  16203.000000   \n",
       "increased_nr_accounts_10_m+1                  0.000000      1.000000   \n",
       "increased_nr_accounts_10_m+1_proba            0.045194      0.951505   \n",
       "ROI_nr_accounts_10_m+1                        0.000000      9.515050   \n",
       "increased_nr_invest_savings_40_m+1            0.000000      0.000000   \n",
       "increased_nr_invest_savings_40_m+1_proba      0.000216      0.008044   \n",
       "ROI_nr_invest_savings_40_m+1                  0.000000      0.000000   \n",
       "increased_nr_financing_60_m+1                 0.000000      0.000000   \n",
       "increased_nr_financing_60_m+1_proba           0.002320      0.142948   \n",
       "ROI_nr_financing_60_m+1                       0.000000      0.000000   \n",
       "\n",
       "                                                     2             3  \\\n",
       "pk_cid                                    16502.000000  17457.000000   \n",
       "increased_nr_accounts_10_m+1                  0.000000      1.000000   \n",
       "increased_nr_accounts_10_m+1_proba            0.073489      0.885266   \n",
       "ROI_nr_accounts_10_m+1                        0.000000      8.852658   \n",
       "increased_nr_invest_savings_40_m+1            0.000000      1.000000   \n",
       "increased_nr_invest_savings_40_m+1_proba      0.071920      0.523930   \n",
       "ROI_nr_invest_savings_40_m+1                  0.000000     20.957201   \n",
       "increased_nr_financing_60_m+1                 0.000000      0.000000   \n",
       "increased_nr_financing_60_m+1_proba           0.299887      0.380822   \n",
       "ROI_nr_financing_60_m+1                       0.000000      0.000000   \n",
       "\n",
       "                                                     4  \n",
       "pk_cid                                    17590.000000  \n",
       "increased_nr_accounts_10_m+1                  0.000000  \n",
       "increased_nr_accounts_10_m+1_proba            0.401437  \n",
       "ROI_nr_accounts_10_m+1                        0.000000  \n",
       "increased_nr_invest_savings_40_m+1            0.000000  \n",
       "increased_nr_invest_savings_40_m+1_proba      0.027835  \n",
       "ROI_nr_invest_savings_40_m+1                  0.000000  \n",
       "increased_nr_financing_60_m+1                 0.000000  \n",
       "increased_nr_financing_60_m+1_proba           0.092480  \n",
       "ROI_nr_financing_60_m+1                       0.000000  "
      ]
     },
     "execution_count": 162,
     "metadata": {},
     "output_type": "execute_result"
    }
   ],
   "source": [
    "df_capstone_clean_with_clusters_last_partition_propension.head().T"
   ]
  },
  {
   "cell_type": "code",
   "execution_count": 164,
   "metadata": {},
   "outputs": [
    {
     "name": "stdout",
     "output_type": "stream",
     "text": [
      "increased_nr_accounts_10_m+1\n",
      "0    398965\n",
      "1     44030\n",
      "Name: count, dtype: int64\n",
      "\n",
      "\n",
      "increased_nr_invest_savings_40_m+1\n",
      "0    421857\n",
      "1     21138\n",
      "Name: count, dtype: int64\n",
      "\n",
      "\n",
      "increased_nr_financing_60_m+1\n",
      "0    407670\n",
      "1     35325\n",
      "Name: count, dtype: int64\n"
     ]
    }
   ],
   "source": [
    "print(df_capstone_clean_with_clusters_last_partition_propension['increased_nr_accounts_10_m+1'].value_counts(dropna=False))\n",
    "print('')\n",
    "print('')\n",
    "print(df_capstone_clean_with_clusters_last_partition_propension['increased_nr_invest_savings_40_m+1'].value_counts(dropna=False))\n",
    "print('')\n",
    "print('')\n",
    "print(df_capstone_clean_with_clusters_last_partition_propension['increased_nr_financing_60_m+1'].value_counts(dropna=False))"
   ]
  },
  {
   "cell_type": "code",
   "execution_count": 172,
   "metadata": {},
   "outputs": [
    {
     "name": "stdout",
     "output_type": "stream",
     "text": [
      "increased_nr_accounts_10_m+1\n",
      "0    0.100744\n",
      "1    0.707188\n",
      "Name: increased_nr_accounts_10_m+1_proba, dtype: float32\n",
      "\n",
      "\n",
      "increased_nr_invest_savings_40_m+1\n",
      "0    0.034293\n",
      "1    0.679841\n",
      "Name: increased_nr_invest_savings_40_m+1_proba, dtype: float32\n",
      "\n",
      "\n",
      "increased_nr_financing_60_m+1\n",
      "0    0.038294\n",
      "1    0.754994\n",
      "Name: increased_nr_financing_60_m+1_proba, dtype: float32\n"
     ]
    }
   ],
   "source": [
    "print(df_capstone_clean_with_clusters_last_partition_propension.groupby(['increased_nr_accounts_10_m+1'])['increased_nr_accounts_10_m+1_proba'].mean())\n",
    "print('')\n",
    "print('')\n",
    "print(df_capstone_clean_with_clusters_last_partition_propension.groupby(['increased_nr_invest_savings_40_m+1'])['increased_nr_invest_savings_40_m+1_proba'].mean())\n",
    "print('')\n",
    "print('')\n",
    "print(df_capstone_clean_with_clusters_last_partition_propension.groupby(['increased_nr_financing_60_m+1'])['increased_nr_financing_60_m+1_proba'].mean())"
   ]
  },
  {
   "cell_type": "code",
   "execution_count": 176,
   "metadata": {},
   "outputs": [
    {
     "name": "stdout",
     "output_type": "stream",
     "text": [
      "increased_nr_accounts_10_m+1\n",
      "0        0.000\n",
      "1   311374.667\n",
      "Name: ROI_nr_accounts_10_m+1, dtype: float64\n",
      "\n",
      "\n",
      "increased_nr_invest_savings_40_m+1\n",
      "0        0.000\n",
      "1   574819.029\n",
      "Name: ROI_nr_invest_savings_40_m+1, dtype: float64\n",
      "\n",
      "\n",
      "increased_nr_financing_60_m+1\n",
      "0         0.000\n",
      "1   1600209.663\n",
      "Name: ROI_nr_financing_60_m+1, dtype: float64\n"
     ]
    }
   ],
   "source": [
    "pd.set_option('display.float_format', lambda x: '%.3f' % x) # para evitar la notación cientifica\n",
    "\n",
    "print(df_capstone_clean_with_clusters_last_partition_propension.groupby(['increased_nr_accounts_10_m+1'])['ROI_nr_accounts_10_m+1'].sum())\n",
    "print('')\n",
    "print('')\n",
    "print(df_capstone_clean_with_clusters_last_partition_propension.groupby(['increased_nr_invest_savings_40_m+1'])['ROI_nr_invest_savings_40_m+1'].sum())\n",
    "print('')\n",
    "print('')\n",
    "print(df_capstone_clean_with_clusters_last_partition_propension.groupby(['increased_nr_financing_60_m+1'])['ROI_nr_financing_60_m+1'].sum())"
   ]
  },
  {
   "cell_type": "markdown",
   "metadata": {},
   "source": [
    "### Exportamos las predicciones"
   ]
  },
  {
   "cell_type": "code",
   "execution_count": null,
   "metadata": {},
   "outputs": [],
   "source": [
    "DATA_PATH = \"../../data/processed/\"\n",
    "FILE_NAME = \"df_predicciones_propension_con_ROI.pkl.gz\"\n",
    "PICKLE_PATH = DATA_PATH+FILE_NAME\n",
    "\n",
    "df_capstone_clean_with_clusters_last_partition_propension.to_pickle(PICKLE_PATH, compression='gzip')"
   ]
  }
 ],
 "metadata": {
  "kernelspec": {
   "display_name": "Python 3",
   "language": "python",
   "name": "python3"
  },
  "language_info": {
   "codemirror_mode": {
    "name": "ipython",
    "version": 3
   },
   "file_extension": ".py",
   "mimetype": "text/x-python",
   "name": "python",
   "nbconvert_exporter": "python",
   "pygments_lexer": "ipython3",
   "version": "3.11.6"
  }
 },
 "nbformat": 4,
 "nbformat_minor": 2
}
