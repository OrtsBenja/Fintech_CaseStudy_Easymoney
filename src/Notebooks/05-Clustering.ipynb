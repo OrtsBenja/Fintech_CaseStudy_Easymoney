{
 "cells": [
  {
   "cell_type": "code",
   "execution_count": 35,
   "metadata": {},
   "outputs": [],
   "source": [
    "import timeit\n",
    "\n",
    "import warnings\n",
    "warnings.filterwarnings(\"ignore\")\n",
    "\n",
    "# imports best practice pandas\n",
    "import os\n",
    "\n",
    "import numpy as np\n",
    "import pandas as pd\n",
    "import missingno as msno\n",
    "import plotly.express as px\n",
    "import matplotlib.pyplot as plt\n",
    "import seaborn as sns\n",
    "sns.set_theme()\n",
    "%matplotlib inline\n",
    "import math\n",
    "import pickle\n",
    "import gzip\n",
    "\n",
    "import inspect\n",
    "import plotly.graph_objects as go\n",
    "\n",
    "#--------------------------------------------------------\n",
    "# imports best practice sklearn\n",
    "import sklearn\n",
    "from sklearn.feature_selection import VarianceThreshold\n",
    "from sklearn import set_config\n",
    "\n",
    "from sklearn.tree import DecisionTreeClassifier\n",
    "\n",
    "# preprocessing\n",
    "from sklearn.preprocessing import StandardScaler, PolynomialFeatures\n",
    "from sklearn.feature_selection import VarianceThreshold\n",
    "from sklearn.preprocessing import StandardScaler, OrdinalEncoder, LabelEncoder, OneHotEncoder, RobustScaler, MinMaxScaler\n",
    "from scipy import stats\n",
    "\n",
    "# transformers\n",
    "from sklearn.impute import KNNImputer, SimpleImputer\n",
    "from sklearn.preprocessing import FunctionTransformer\n",
    "\n",
    "\n",
    "from sklearn.cluster import KMeans\n",
    "\n",
    "# evaluacion\n",
    "from sklearn.metrics import mean_absolute_error, r2_score\n",
    "from sklearn.model_selection import train_test_split, cross_val_score\n",
    "from sklearn import metrics\n",
    "\n",
    "# pipelines\n",
    "from sklearn.pipeline import Pipeline\n",
    "from sklearn.compose import ColumnTransformer\n",
    "set_config(transform_output = \"pandas\")\n",
    "\n",
    "#models\n",
    "from sklearn.cluster import KMeans"
   ]
  },
  {
   "cell_type": "markdown",
   "metadata": {},
   "source": [
    "### Funciones Útiles"
   ]
  },
  {
   "cell_type": "code",
   "execution_count": 36,
   "metadata": {},
   "outputs": [],
   "source": [
    "# Función para lista de variables\n",
    "\n",
    "def listarNulos(dataset):\n",
    "    df_stat = dataset.isnull().sum()[(dataset.isnull().sum()>0)].sort_values(ascending=False).to_frame()\n",
    "    df_stat.rename(columns={0: 'Nulos'}, inplace = True)\n",
    "    percent = (df_stat[\"Nulos\"]/dataset.shape[0]).mul(100)\n",
    "    df_stat[\"porcentaje\"] = percent.round(2)\n",
    "    return df_stat\n",
    "\n",
    "\n",
    "def obtener_lista_variables(dataset,target=\"\",index=\"\"):\n",
    "\n",
    "\n",
    "  lista_numericas = []\n",
    "  lista_boolean = []\n",
    "  lista_categoricas = []\n",
    "  lista_fecha = []\n",
    "\n",
    "  for i in dataset:\n",
    "    print(i)\n",
    "    if ((dataset[i].dtype.kind == 'i') or (dataset[i].dtype.kind == 'f')) and i not in target and i not in index\\\n",
    "    and len(dataset[i].unique()) != 2:\n",
    "      lista_numericas.append(i)\n",
    "\n",
    "    elif ((dataset[i].dtype.kind == 'i') or (dataset[i].dtype.kind == 'f') or (dataset[i].dtype.kind == 'b')) and i not in target and i not in index\\\n",
    "    and len(dataset[i].unique()) == 2:\n",
    "      lista_boolean.append(i)\n",
    "\n",
    "    elif (dataset[i].dtype.kind == 'O') and i not in target and i not in index:\n",
    "      lista_categoricas.append(i)\n",
    "      \n",
    "    elif (dataset[i].dtype.kind == 'M') and i not in target and i not in index:\n",
    "      lista_fecha.append(i)\n",
    "\n",
    "  return lista_numericas, lista_boolean, lista_categoricas, lista_fecha\n",
    "\n",
    "\n",
    "\n",
    "def generar_grafico_radar(categories, values,title_gra, color_gra):\n",
    "\n",
    "    # generar figura\n",
    "    fig = go.Figure()\n",
    "\n",
    "    # Adicionar trace para la série de dadtos\n",
    "    fig.add_trace(go.Scatterpolar(\n",
    "        r=values,\n",
    "        theta=categories,\n",
    "        fill='toself',\n",
    "        #line=dict(color='blue')\n",
    "        line=dict(color=color_gra)\n",
    "    ))\n",
    "\n",
    "    # Actualizar layout\n",
    "    fig.update_layout(\n",
    "        polar=dict(\n",
    "            radialaxis=dict(\n",
    "                visible=True,\n",
    "                #range=[0, max(values)]  # Escala adaptable\n",
    "                range=[0, 1]  \n",
    "            )),\n",
    "            \n",
    "        showlegend=False,\n",
    "        title=title_gra,\n",
    "        font=dict(\n",
    "            family='Arial, sans-serif',\n",
    "            size=18,\n",
    "            color='black'\n",
    "        ),\n",
    "        margin=dict(\n",
    "            l=30,\n",
    "            r=30,\n",
    "            t=40,\n",
    "            b=30\n",
    "        ),\n",
    "        polar_angularaxis_rotation=0,  # Rotacionando os rótulos do eixo angular em 90 graus\n",
    "        width=950,  # anchura\n",
    "        height=500  # altura\n",
    "    )\n",
    "\n",
    "    return fig\n"
   ]
  },
  {
   "cell_type": "markdown",
   "metadata": {},
   "source": [
    "### Carga de Datasets"
   ]
  },
  {
   "cell_type": "code",
   "execution_count": 37,
   "metadata": {},
   "outputs": [
    {
     "name": "stdout",
     "output_type": "stream",
     "text": [
      "DataFrame cargado exitosamente\n"
     ]
    }
   ],
   "source": [
    "DATA_PATH = \"../../data/processed/\"\n",
    "FILE_NAME = \"df_capstone_newFeatures.pkl.gz\"\n",
    "PICKLE_PATH = DATA_PATH+FILE_NAME\n",
    "\n",
    "# Usa gzip.open para abrir el archivo comprimido\n",
    "with gzip.open(DATA_PATH+FILE_NAME, 'rb') as gz_csv_file:\n",
    "    df_capstone_clean = pd.read_pickle(gz_csv_file)\n",
    "\n",
    "print(\"DataFrame cargado exitosamente\")"
   ]
  },
  {
   "cell_type": "code",
   "execution_count": 38,
   "metadata": {},
   "outputs": [
    {
     "name": "stdout",
     "output_type": "stream",
     "text": [
      "pk_cid\n",
      "pk_partition\n",
      "entry_date\n",
      "entry_channel\n",
      "active_customer\n",
      "segment\n",
      "short_term_deposit\n",
      "loans\n",
      "mortgage\n",
      "funds\n",
      "securities\n",
      "long_term_deposit\n",
      "em_account_pp\n",
      "credit_card\n",
      "payroll\n",
      "pension_plan\n",
      "payroll_account\n",
      "emc_account\n",
      "debit_card\n",
      "em_account_p\n",
      "em_acount\n",
      "country_id\n",
      "region_code\n",
      "gender\n",
      "age\n",
      "deceased\n",
      "salary\n",
      "age_cat\n",
      "regions_ca_id\n",
      "customer_acquisition_channel\n",
      "customer_acquisition_channel_min\n",
      "nr_product\n",
      "nr_accounts\n",
      "nr_saving_and_investment\n",
      "nr_financing\n",
      "nr_product_max\n",
      "nr_product_gap_to_max\n",
      "nr_investment\n",
      "product_mix_diversity\n",
      "salary_CA\n",
      "customer_tenure\n",
      "digital_interaction_index\n",
      "financial_health_score\n",
      "entry_channel_salary\n",
      "entry_channel_loyalty\n",
      "periods_active\n",
      "season\n",
      "entry_date_month\n",
      "entry_date_year\n",
      "working_day\n",
      "loan_utilization_index\n",
      "ES_Flag\n",
      "total_products\n",
      "client_fidelity\n",
      "nr_debt\n",
      "entry_channel_product\n",
      "channel_activity_level\n",
      "nr_product_trend\n",
      "months_from_last_purchase\n",
      "date_last_purchase\n",
      "nr_financing_60\n",
      "nr_invest_savings_40\n",
      "nr_account_10\n",
      "nr_financing_60_trend\n",
      "nr_invest_savings_40_trend\n",
      "nr_account_10_trend\n",
      "customer_lifetime_value_partition\n",
      "customer_lifetime_value_cumsum\n",
      "saving_behavior\n",
      "nr_risk_low\n",
      "nr_risk_medium\n",
      "nr_risk_high\n",
      "percent_risk_low\n",
      "percent_risk_medium\n",
      "percent_risk_high\n",
      "risk_index_absolute\n",
      "life_stage_indicator\n",
      "active_customer_rate\n",
      "months_from_last_purchase_digital\n",
      "date_last_purchase_digital\n",
      "total_products_ratio\n",
      "regions_cluster\n",
      "nr_transactions\n",
      "profit_60\n",
      "profit_40\n",
      "profit_10\n",
      "total_profit_customer\n"
     ]
    }
   ],
   "source": [
    "lnum, lbool, lcat, ldate = obtener_lista_variables(df_capstone_clean)"
   ]
  },
  {
   "cell_type": "code",
   "execution_count": 39,
   "metadata": {},
   "outputs": [
    {
     "name": "stdout",
     "output_type": "stream",
     "text": [
      "['pk_cid', 'em_account_pp', 'age', 'salary', 'nr_product', 'nr_accounts', 'nr_saving_and_investment', 'nr_financing', 'nr_product_max', 'nr_product_gap_to_max', 'nr_investment', 'product_mix_diversity', 'salary_CA', 'customer_tenure', 'digital_interaction_index', 'financial_health_score', 'entry_channel_salary', 'entry_channel_loyalty', 'periods_active', 'entry_date_month', 'entry_date_year', 'total_products', 'nr_debt', 'channel_activity_level', 'nr_product_trend', 'months_from_last_purchase', 'nr_financing_60', 'nr_invest_savings_40', 'nr_account_10', 'nr_financing_60_trend', 'nr_invest_savings_40_trend', 'nr_account_10_trend', 'customer_lifetime_value_partition', 'customer_lifetime_value_cumsum', 'saving_behavior', 'nr_risk_low', 'nr_risk_high', 'percent_risk_low', 'percent_risk_high', 'risk_index_absolute', 'active_customer_rate', 'months_from_last_purchase_digital', 'total_products_ratio', 'nr_transactions', 'profit_60', 'profit_40', 'profit_10', 'total_profit_customer']\n"
     ]
    }
   ],
   "source": [
    "print(lnum)"
   ]
  },
  {
   "cell_type": "code",
   "execution_count": 40,
   "metadata": {},
   "outputs": [
    {
     "name": "stdout",
     "output_type": "stream",
     "text": [
      "['pk_cid', 'age', 'salary', 'nr_product', 'nr_accounts', 'nr_saving_and_investment', 'nr_financing', 'nr_product_max', 'nr_product_gap_to_max', 'nr_investment', 'product_mix_diversity', 'salary_CA', 'customer_tenure', 'digital_interaction_index', 'financial_health_score', 'entry_channel_salary', 'entry_channel_loyalty', 'periods_active', 'entry_date_month', 'entry_date_year', 'total_products', 'nr_debt', 'channel_activity_level', 'nr_product_trend', 'months_from_last_purchase', 'nr_financing_60', 'nr_invest_savings_40', 'nr_account_10', 'nr_financing_60_trend', 'nr_invest_savings_40_trend', 'nr_account_10_trend', 'customer_lifetime_value_partition', 'customer_lifetime_value_cumsum', 'saving_behavior', 'nr_risk_low', 'nr_risk_high', 'percent_risk_low', 'percent_risk_high', 'risk_index_absolute', 'active_customer_rate', 'months_from_last_purchase_digital', 'total_products_ratio', 'nr_transactions', 'profit_60', 'profit_40', 'profit_10', 'total_profit_customer']\n"
     ]
    }
   ],
   "source": [
    "lnum.remove('em_account_pp')\n",
    "lbool.append('em_account_pp')\n",
    "\n",
    "print(lnum)"
   ]
  },
  {
   "cell_type": "code",
   "execution_count": 41,
   "metadata": {},
   "outputs": [
    {
     "name": "stdout",
     "output_type": "stream",
     "text": [
      "['active_customer', 'short_term_deposit', 'loans', 'mortgage', 'funds', 'securities', 'long_term_deposit', 'credit_card', 'payroll', 'pension_plan', 'payroll_account', 'emc_account', 'debit_card', 'em_account_p', 'em_acount', 'deceased', 'working_day', 'loan_utilization_index', 'ES_Flag', 'nr_risk_medium', 'percent_risk_medium', 'em_account_pp']\n"
     ]
    }
   ],
   "source": [
    "print(lbool)"
   ]
  },
  {
   "cell_type": "code",
   "execution_count": 42,
   "metadata": {},
   "outputs": [
    {
     "name": "stdout",
     "output_type": "stream",
     "text": [
      "['entry_channel', 'segment', 'country_id', 'region_code', 'gender', 'age_cat', 'regions_ca_id', 'customer_acquisition_channel', 'customer_acquisition_channel_min', 'season', 'client_fidelity', 'entry_channel_product', 'life_stage_indicator', 'regions_cluster']\n"
     ]
    }
   ],
   "source": [
    "print(lcat)"
   ]
  },
  {
   "cell_type": "code",
   "execution_count": 43,
   "metadata": {},
   "outputs": [
    {
     "name": "stdout",
     "output_type": "stream",
     "text": [
      "['pk_partition', 'entry_date', 'date_last_purchase', 'date_last_purchase_digital']\n"
     ]
    }
   ],
   "source": [
    "print(ldate)"
   ]
  },
  {
   "cell_type": "code",
   "execution_count": 44,
   "metadata": {},
   "outputs": [
    {
     "name": "stdout",
     "output_type": "stream",
     "text": [
      "Todas las columnas incluídas en las listas de variables\n"
     ]
    }
   ],
   "source": [
    "if len(df_capstone_clean.columns) - (len(lnum) + len(lbool) + len(lcat) + len(ldate)) == 0:\n",
    "    print('Todas las columnas incluídas en las listas de variables')\n",
    "else:\n",
    "    print('Revisar, no todas las columnas están incluídas')"
   ]
  },
  {
   "cell_type": "code",
   "execution_count": 45,
   "metadata": {},
   "outputs": [],
   "source": [
    "df_capstone_clean_2 = df_capstone_clean.copy()"
   ]
  },
  {
   "cell_type": "markdown",
   "metadata": {},
   "source": [
    "### Agrupaciones para reducir cardinalidad"
   ]
  },
  {
   "cell_type": "markdown",
   "metadata": {},
   "source": [
    "### region_code"
   ]
  },
  {
   "cell_type": "code",
   "execution_count": 46,
   "metadata": {},
   "outputs": [
    {
     "name": "stdout",
     "output_type": "stream",
     "text": [
      "<class 'pandas.core.series.Series'>\n",
      "Int64Index: 5962924 entries, 1479563 to 5679912\n",
      "Series name: region_code\n",
      "Non-Null Count    Dtype \n",
      "--------------    ----- \n",
      "5962924 non-null  object\n",
      "dtypes: object(1)\n",
      "memory usage: 91.0+ MB\n"
     ]
    },
    {
     "data": {
      "text/html": [
       "<div>\n",
       "<style scoped>\n",
       "    .dataframe tbody tr th:only-of-type {\n",
       "        vertical-align: middle;\n",
       "    }\n",
       "\n",
       "    .dataframe tbody tr th {\n",
       "        vertical-align: top;\n",
       "    }\n",
       "\n",
       "    .dataframe thead th {\n",
       "        text-align: right;\n",
       "    }\n",
       "</style>\n",
       "<table border=\"1\" class=\"dataframe\">\n",
       "  <thead>\n",
       "    <tr style=\"text-align: right;\">\n",
       "      <th></th>\n",
       "      <th>region_code</th>\n",
       "    </tr>\n",
       "  </thead>\n",
       "  <tbody>\n",
       "    <tr>\n",
       "      <th>1479563</th>\n",
       "      <td>28.0</td>\n",
       "    </tr>\n",
       "    <tr>\n",
       "      <th>2168122</th>\n",
       "      <td>28.0</td>\n",
       "    </tr>\n",
       "    <tr>\n",
       "      <th>2962973</th>\n",
       "      <td>28.0</td>\n",
       "    </tr>\n",
       "    <tr>\n",
       "      <th>3628236</th>\n",
       "      <td>28.0</td>\n",
       "    </tr>\n",
       "    <tr>\n",
       "      <th>4028169</th>\n",
       "      <td>28.0</td>\n",
       "    </tr>\n",
       "  </tbody>\n",
       "</table>\n",
       "</div>"
      ],
      "text/plain": [
       "        region_code\n",
       "1479563        28.0\n",
       "2168122        28.0\n",
       "2962973        28.0\n",
       "3628236        28.0\n",
       "4028169        28.0"
      ]
     },
     "execution_count": 46,
     "metadata": {},
     "output_type": "execute_result"
    }
   ],
   "source": [
    "df_capstone_clean_2['region_code'].info()\n",
    "df_capstone_clean_2[['region_code']].head()"
   ]
  },
  {
   "cell_type": "code",
   "execution_count": 47,
   "metadata": {},
   "outputs": [
    {
     "data": {
      "text/plain": [
       "28.0          1185757\n",
       "8.0            600362\n",
       "46.0           358142\n",
       "30.0           296856\n",
       "41.0           290447\n",
       "15.0           254891\n",
       "29.0           187911\n",
       "36.0           175850\n",
       "3.0            171358\n",
       "11.0           160894\n",
       "33.0           134562\n",
       "50.0           132983\n",
       "6.0            122587\n",
       "35.0           121982\n",
       "47.0           116948\n",
       "18.0           102789\n",
       "45.0           102328\n",
       "37.0            92538\n",
       "10.0            83283\n",
       "14.0            75405\n",
       "2.0             72071\n",
       "21.0            72037\n",
       "13.0            70092\n",
       "39.0            69589\n",
       "12.0            68721\n",
       "7.0             62436\n",
       "32.0            54639\n",
       "27.0            52783\n",
       "43.0            51782\n",
       "17.0            50749\n",
       "9.0             47746\n",
       "25.0            46887\n",
       "16.0            36094\n",
       "24.0            35426\n",
       "48.0            35256\n",
       "26.0            34790\n",
       "4.0             32680\n",
       "31.0            31241\n",
       "49.0            30965\n",
       "23.0            30955\n",
       "38.0            29001\n",
       "34.0            27545\n",
       "19.0            26762\n",
       "40.0            21658\n",
       "5.0             21300\n",
       "22.0            21112\n",
       "20.0            18833\n",
       "1.0             12999\n",
       "44.0            12616\n",
       "42.0             8500\n",
       "51.0             2896\n",
       "52.0             2638\n",
       "Extranjero       2252\n",
       "Name: region_code, dtype: int64"
      ]
     },
     "execution_count": 47,
     "metadata": {},
     "output_type": "execute_result"
    }
   ],
   "source": [
    "df_capstone_clean_2['region_code'].value_counts(dropna=False)"
   ]
  },
  {
   "cell_type": "code",
   "execution_count": 48,
   "metadata": {},
   "outputs": [
    {
     "name": "stdout",
     "output_type": "stream",
     "text": [
      "['28.0' '8.0' '41.0' '46.0' '24.0' '39.0' '3.0' '31.0' '15.0' '2.0' '45.0'\n",
      " '40.0' '30.0' '50.0' '35.0' '13.0' '21.0' '27.0' '47.0' '6.0' '36.0'\n",
      " '37.0' '29.0' '14.0' '12.0' '18.0' '16.0' '19.0' '33.0' '9.0' '48.0'\n",
      " '25.0' '11.0' '7.0' '42.0' '10.0' '17.0' '52.0' 'Extranjero' '23.0' '4.0'\n",
      " '43.0' '26.0' '38.0' '44.0' '49.0' '20.0' '32.0' '1.0' '5.0' '22.0'\n",
      " '34.0' '51.0']\n",
      "\n",
      "\n",
      "53 valores únicos\n"
     ]
    }
   ],
   "source": [
    "print(df_capstone_clean_2['region_code'].unique())\n",
    "print('')\n",
    "print('')\n",
    "print(f'{df_capstone_clean_2[\"region_code\"].nunique()} valores únicos')"
   ]
  },
  {
   "cell_type": "code",
   "execution_count": 49,
   "metadata": {},
   "outputs": [],
   "source": [
    "# propuesta de agrupar regiones a comunidades autonomas\n",
    "\n",
    "mapeo = {1.0: \"PV\", 2.0: \"CM\",  3.0: \"VC\",  4.0: \"AN\",  5.0: \"CL\",  6.0: \"EX\", 7.0: \"IB\",  8.0: \"CT\",  9.0: \"CL\", 10.0: \"EX\", 11.0: \"AN\", \n",
    "         12.0: \"VC\", 13.0: \"CM\", 14.0: \"AN\", 15.0: \"GA\", 16.0: \"CM\", 17.0: \"CT\", 18.0: \"AN\", 19.0: \"CM\", 20.0: \"PV\", 21.0: \"AN\", 22.0: \"AR\", \n",
    "         23.0: \"AN\", 24.0: \"CL\", 25.0: \"CT\", 26.0: \"RI\", 27.0: \"GA\", 28.0: \"MD\", 29.0: \"AN\", 30.0: \"MC\", 31.0: \"NC\", 32.0: \"GA\", 33.0: \"AS\", 34.0: \"CL\", \n",
    "         35.0: \"CN\", 36.0: \"GA\", 37.0: \"CL\", 38.0: \"CN\", 39.0: \"CB\", 40.0: \"CL\", 41.0: \"AN\",  42.0: \"CL\", 43.0: \"CT\", 44.0: \"AR\", 45.0: \"CM\", 46.0: \"VC\", \n",
    "         47.0: \"CL\", 48.0: \"PV\",  49.0: \"CL\", 50.0: \"AR\", 51.0: \"CE\", 52.0: \"ML\"}"
   ]
  },
  {
   "cell_type": "code",
   "execution_count": 50,
   "metadata": {},
   "outputs": [],
   "source": [
    "df_capstone_clean_2['regions_ca_id'] = df_capstone_clean_2['region_code'].apply(lambda x: mapeo.get(float(x)) if x != 'Extranjero' else x)"
   ]
  },
  {
   "cell_type": "code",
   "execution_count": 51,
   "metadata": {},
   "outputs": [
    {
     "name": "stdout",
     "output_type": "stream",
     "text": [
      "['MD' 'CT' 'AN' 'VC' 'CL' 'CB' 'NC' 'GA' 'CM' 'MC' 'AR' 'CN' 'EX' 'AS'\n",
      " 'PV' 'IB' 'ML' 'Extranjero' 'RI' 'CE']\n",
      "\n",
      "\n",
      "20 valores únicos\n"
     ]
    }
   ],
   "source": [
    "print(df_capstone_clean_2['regions_ca_id'].unique())\n",
    "print('')\n",
    "print('')\n",
    "print(f'{df_capstone_clean_2[\"regions_ca_id\"].nunique()} valores únicos')"
   ]
  },
  {
   "cell_type": "code",
   "execution_count": 52,
   "metadata": {},
   "outputs": [
    {
     "name": "stdout",
     "output_type": "stream",
     "text": [
      "<class 'pandas.core.frame.DataFrame'>\n",
      "Int64Index: 5962924 entries, 1479563 to 5679912\n",
      "Data columns (total 2 columns):\n",
      " #   Column         Dtype \n",
      "---  ------         ----- \n",
      " 0   region_code    object\n",
      " 1   regions_ca_id  object\n",
      "dtypes: object(2)\n",
      "memory usage: 136.5+ MB\n"
     ]
    },
    {
     "data": {
      "text/html": [
       "<div>\n",
       "<style scoped>\n",
       "    .dataframe tbody tr th:only-of-type {\n",
       "        vertical-align: middle;\n",
       "    }\n",
       "\n",
       "    .dataframe tbody tr th {\n",
       "        vertical-align: top;\n",
       "    }\n",
       "\n",
       "    .dataframe thead th {\n",
       "        text-align: right;\n",
       "    }\n",
       "</style>\n",
       "<table border=\"1\" class=\"dataframe\">\n",
       "  <thead>\n",
       "    <tr style=\"text-align: right;\">\n",
       "      <th></th>\n",
       "      <th>region_code</th>\n",
       "      <th>regions_ca_id</th>\n",
       "    </tr>\n",
       "  </thead>\n",
       "  <tbody>\n",
       "    <tr>\n",
       "      <th>1479563</th>\n",
       "      <td>28.0</td>\n",
       "      <td>MD</td>\n",
       "    </tr>\n",
       "    <tr>\n",
       "      <th>2168122</th>\n",
       "      <td>28.0</td>\n",
       "      <td>MD</td>\n",
       "    </tr>\n",
       "    <tr>\n",
       "      <th>2962973</th>\n",
       "      <td>28.0</td>\n",
       "      <td>MD</td>\n",
       "    </tr>\n",
       "    <tr>\n",
       "      <th>3628236</th>\n",
       "      <td>28.0</td>\n",
       "      <td>MD</td>\n",
       "    </tr>\n",
       "    <tr>\n",
       "      <th>4028169</th>\n",
       "      <td>28.0</td>\n",
       "      <td>MD</td>\n",
       "    </tr>\n",
       "  </tbody>\n",
       "</table>\n",
       "</div>"
      ],
      "text/plain": [
       "        region_code regions_ca_id\n",
       "1479563        28.0            MD\n",
       "2168122        28.0            MD\n",
       "2962973        28.0            MD\n",
       "3628236        28.0            MD\n",
       "4028169        28.0            MD"
      ]
     },
     "execution_count": 52,
     "metadata": {},
     "output_type": "execute_result"
    }
   ],
   "source": [
    "df_capstone_clean_2[['region_code','regions_ca_id']].info()\n",
    "df_capstone_clean_2[['region_code','regions_ca_id']].head()"
   ]
  },
  {
   "cell_type": "code",
   "execution_count": 53,
   "metadata": {},
   "outputs": [
    {
     "data": {
      "text/plain": [
       "MD            1185757\n",
       "AN             953118\n",
       "CT             749780\n",
       "VC             598221\n",
       "GA             538163\n",
       "CL             402626\n",
       "CM             307347\n",
       "MC             296856\n",
       "EX             205870\n",
       "AR             166711\n",
       "CN             150983\n",
       "AS             134562\n",
       "CB              69589\n",
       "PV              67088\n",
       "IB              62436\n",
       "RI              34790\n",
       "NC              31241\n",
       "CE               2896\n",
       "ML               2638\n",
       "Extranjero       2252\n",
       "Name: regions_ca_id, dtype: int64"
      ]
     },
     "execution_count": 53,
     "metadata": {},
     "output_type": "execute_result"
    }
   ],
   "source": [
    "df_capstone_clean_2['regions_ca_id'].value_counts(dropna=False)"
   ]
  },
  {
   "cell_type": "markdown",
   "metadata": {},
   "source": [
    "### entry_channel"
   ]
  },
  {
   "cell_type": "code",
   "execution_count": 54,
   "metadata": {},
   "outputs": [
    {
     "name": "stdout",
     "output_type": "stream",
     "text": [
      "<class 'pandas.core.series.Series'>\n",
      "Int64Index: 5962924 entries, 1479563 to 5679912\n",
      "Series name: entry_channel\n",
      "Non-Null Count    Dtype \n",
      "--------------    ----- \n",
      "5962924 non-null  object\n",
      "dtypes: object(1)\n",
      "memory usage: 91.0+ MB\n"
     ]
    },
    {
     "data": {
      "text/html": [
       "<div>\n",
       "<style scoped>\n",
       "    .dataframe tbody tr th:only-of-type {\n",
       "        vertical-align: middle;\n",
       "    }\n",
       "\n",
       "    .dataframe tbody tr th {\n",
       "        vertical-align: top;\n",
       "    }\n",
       "\n",
       "    .dataframe thead th {\n",
       "        text-align: right;\n",
       "    }\n",
       "</style>\n",
       "<table border=\"1\" class=\"dataframe\">\n",
       "  <thead>\n",
       "    <tr style=\"text-align: right;\">\n",
       "      <th></th>\n",
       "      <th>entry_channel</th>\n",
       "    </tr>\n",
       "  </thead>\n",
       "  <tbody>\n",
       "    <tr>\n",
       "      <th>1479563</th>\n",
       "      <td>KAT</td>\n",
       "    </tr>\n",
       "    <tr>\n",
       "      <th>2168122</th>\n",
       "      <td>KAT</td>\n",
       "    </tr>\n",
       "    <tr>\n",
       "      <th>2962973</th>\n",
       "      <td>KAT</td>\n",
       "    </tr>\n",
       "    <tr>\n",
       "      <th>3628236</th>\n",
       "      <td>KAT</td>\n",
       "    </tr>\n",
       "    <tr>\n",
       "      <th>4028169</th>\n",
       "      <td>KAT</td>\n",
       "    </tr>\n",
       "  </tbody>\n",
       "</table>\n",
       "</div>"
      ],
      "text/plain": [
       "        entry_channel\n",
       "1479563           KAT\n",
       "2168122           KAT\n",
       "2962973           KAT\n",
       "3628236           KAT\n",
       "4028169           KAT"
      ]
     },
     "execution_count": 54,
     "metadata": {},
     "output_type": "execute_result"
    }
   ],
   "source": [
    "df_capstone_clean_2['entry_channel'].info()\n",
    "df_capstone_clean_2[['entry_channel']].head()"
   ]
  },
  {
   "cell_type": "code",
   "execution_count": 55,
   "metadata": {},
   "outputs": [
    {
     "data": {
      "text/plain": [
       "KHE    3116090\n",
       "KFC     898070\n",
       "KHQ     666987\n",
       "KAT     416522\n",
       "KHK     231300\n",
       "        ...   \n",
       "KHS         10\n",
       "KEJ          8\n",
       "KFP          2\n",
       "KDA          2\n",
       "KDS          1\n",
       "Name: entry_channel, Length: 68, dtype: int64"
      ]
     },
     "execution_count": 55,
     "metadata": {},
     "output_type": "execute_result"
    }
   ],
   "source": [
    "df_capstone_clean_2['entry_channel'].value_counts(dropna=False)"
   ]
  },
  {
   "cell_type": "code",
   "execution_count": 56,
   "metadata": {},
   "outputs": [
    {
     "name": "stdout",
     "output_type": "stream",
     "text": [
      "['KAT' 'KHN' 'KFA' '007' 'KHM' 'KHC' 'RED' 'KFC' 'KHK' 'KBG' 'KHO' 'KHL'\n",
      " 'KHQ' '013' 'KHE' 'KAS' 'KBZ' 'KAY' 'KBE' 'KBO' 'KBW' 'KAB' 'KDS' 'KBU'\n",
      " 'KES' 'KCB' 'KCL' 'KAG' 'KDR' 'KCK' 'KDA' 'KDT' 'KCC' 'KAD' 'KAF' '004'\n",
      " 'KAA' 'KAH' 'KAI' 'KEY' 'KAW' 'KAE' 'KFD' 'KHD' 'KAM' 'KBY' 'KBH' 'KEJ'\n",
      " 'KAZ' 'KCH' 'KCI' 'KAR' 'KAQ' 'KAJ' 'KFP' 'KFL' 'KFS' 'KFF' 'KGX' 'KDH'\n",
      " 'KEH' 'KGC' 'KGN' 'KHF' 'KFK' 'KAK' 'KHP' 'KHS']\n",
      "\n",
      "\n",
      "68 valores únicos\n"
     ]
    }
   ],
   "source": [
    "print(df_capstone_clean_2['entry_channel'].unique())\n",
    "print('')\n",
    "print('')\n",
    "print(f'{df_capstone_clean_2[\"entry_channel\"].nunique()} valores únicos')"
   ]
  },
  {
   "cell_type": "code",
   "execution_count": 57,
   "metadata": {},
   "outputs": [],
   "source": [
    "# agrupar por canal de entrada\n",
    "\n",
    "\n",
    "# Categoría para RED\n",
    "df_capstone_clean_2.loc[df_capstone_clean_2['entry_channel'] == 'RED', 'customer_acquisition_channel'] = 'RED'\n",
    "\n",
    "# Categoría para valores numéricos\n",
    "df_capstone_clean_2.loc[df_capstone_clean_2['entry_channel'].str.isnumeric(), 'customer_acquisition_channel'] = 'Numeric'\n",
    "\n",
    "# Categorías por prefijo para el resto\n",
    "df_capstone_clean_2.loc[\n",
    "    ~df_capstone_clean_2['entry_channel'].isin(['RED']) & \n",
    "    ~df_capstone_clean_2['entry_channel'].str.isnumeric(), 'customer_acquisition_channel'\n",
    "] = df_capstone_clean_2['entry_channel'].str[:2]"
   ]
  },
  {
   "cell_type": "code",
   "execution_count": 58,
   "metadata": {},
   "outputs": [
    {
     "name": "stdout",
     "output_type": "stream",
     "text": [
      "['MD' 'CT' 'AN' 'VC' 'CL' 'CB' 'NC' 'GA' 'CM' 'MC' 'AR' 'CN' 'EX' 'AS'\n",
      " 'PV' 'IB' 'ML' 'Extranjero' 'RI' 'CE']\n",
      "\n",
      "\n",
      "20 valores únicos\n"
     ]
    }
   ],
   "source": [
    "print(df_capstone_clean_2['regions_ca_id'].unique())\n",
    "print('')\n",
    "print('')\n",
    "print(f'{df_capstone_clean_2[\"regions_ca_id\"].nunique()} valores únicos')"
   ]
  },
  {
   "cell_type": "code",
   "execution_count": 59,
   "metadata": {},
   "outputs": [
    {
     "name": "stdout",
     "output_type": "stream",
     "text": [
      "<class 'pandas.core.frame.DataFrame'>\n",
      "Int64Index: 5962924 entries, 1479563 to 5679912\n",
      "Data columns (total 2 columns):\n",
      " #   Column                        Dtype \n",
      "---  ------                        ----- \n",
      " 0   entry_channel                 object\n",
      " 1   customer_acquisition_channel  object\n",
      "dtypes: object(2)\n",
      "memory usage: 265.5+ MB\n"
     ]
    },
    {
     "data": {
      "text/html": [
       "<div>\n",
       "<style scoped>\n",
       "    .dataframe tbody tr th:only-of-type {\n",
       "        vertical-align: middle;\n",
       "    }\n",
       "\n",
       "    .dataframe tbody tr th {\n",
       "        vertical-align: top;\n",
       "    }\n",
       "\n",
       "    .dataframe thead th {\n",
       "        text-align: right;\n",
       "    }\n",
       "</style>\n",
       "<table border=\"1\" class=\"dataframe\">\n",
       "  <thead>\n",
       "    <tr style=\"text-align: right;\">\n",
       "      <th></th>\n",
       "      <th>entry_channel</th>\n",
       "      <th>customer_acquisition_channel</th>\n",
       "    </tr>\n",
       "  </thead>\n",
       "  <tbody>\n",
       "    <tr>\n",
       "      <th>1479563</th>\n",
       "      <td>KAT</td>\n",
       "      <td>KA</td>\n",
       "    </tr>\n",
       "    <tr>\n",
       "      <th>2168122</th>\n",
       "      <td>KAT</td>\n",
       "      <td>KA</td>\n",
       "    </tr>\n",
       "    <tr>\n",
       "      <th>2962973</th>\n",
       "      <td>KAT</td>\n",
       "      <td>KA</td>\n",
       "    </tr>\n",
       "    <tr>\n",
       "      <th>3628236</th>\n",
       "      <td>KAT</td>\n",
       "      <td>KA</td>\n",
       "    </tr>\n",
       "    <tr>\n",
       "      <th>4028169</th>\n",
       "      <td>KAT</td>\n",
       "      <td>KA</td>\n",
       "    </tr>\n",
       "  </tbody>\n",
       "</table>\n",
       "</div>"
      ],
      "text/plain": [
       "        entry_channel customer_acquisition_channel\n",
       "1479563           KAT                           KA\n",
       "2168122           KAT                           KA\n",
       "2962973           KAT                           KA\n",
       "3628236           KAT                           KA\n",
       "4028169           KAT                           KA"
      ]
     },
     "execution_count": 59,
     "metadata": {},
     "output_type": "execute_result"
    }
   ],
   "source": [
    "df_capstone_clean_2[['entry_channel','customer_acquisition_channel']].info()\n",
    "df_capstone_clean_2[['entry_channel','customer_acquisition_channel']].head()"
   ]
  },
  {
   "cell_type": "code",
   "execution_count": 60,
   "metadata": {},
   "outputs": [
    {
     "data": {
      "text/plain": [
       "KH         4496434\n",
       "KF          977585\n",
       "KA          423886\n",
       "RED          60899\n",
       "KB            1949\n",
       "Numeric       1031\n",
       "KE             767\n",
       "KC             229\n",
       "KD              93\n",
       "KG              51\n",
       "Name: customer_acquisition_channel, dtype: int64"
      ]
     },
     "execution_count": 60,
     "metadata": {},
     "output_type": "execute_result"
    }
   ],
   "source": [
    "df_capstone_clean_2['customer_acquisition_channel'].value_counts(dropna=False)"
   ]
  },
  {
   "cell_type": "code",
   "execution_count": 61,
   "metadata": {},
   "outputs": [
    {
     "name": "stdout",
     "output_type": "stream",
     "text": [
      "pk_cid\n",
      "pk_partition\n",
      "entry_date\n",
      "entry_channel\n",
      "active_customer\n",
      "segment\n",
      "short_term_deposit\n",
      "loans\n",
      "mortgage\n",
      "funds\n",
      "securities\n",
      "long_term_deposit\n",
      "em_account_pp\n",
      "credit_card\n",
      "payroll\n",
      "pension_plan\n",
      "payroll_account\n",
      "emc_account\n",
      "debit_card\n",
      "em_account_p\n",
      "em_acount\n",
      "country_id\n",
      "region_code\n",
      "gender\n",
      "age\n",
      "deceased\n",
      "salary\n",
      "age_cat\n",
      "regions_ca_id\n",
      "customer_acquisition_channel\n",
      "customer_acquisition_channel_min\n",
      "nr_product\n",
      "nr_accounts\n",
      "nr_saving_and_investment\n",
      "nr_financing\n",
      "nr_product_max\n",
      "nr_product_gap_to_max\n",
      "nr_investment\n",
      "product_mix_diversity\n",
      "salary_CA\n",
      "customer_tenure\n",
      "digital_interaction_index\n",
      "financial_health_score\n",
      "entry_channel_salary\n",
      "entry_channel_loyalty\n",
      "periods_active\n",
      "season\n",
      "entry_date_month\n",
      "entry_date_year\n",
      "working_day\n",
      "loan_utilization_index\n",
      "ES_Flag\n",
      "total_products\n",
      "client_fidelity\n",
      "nr_debt\n",
      "entry_channel_product\n",
      "channel_activity_level\n",
      "nr_product_trend\n",
      "months_from_last_purchase\n",
      "date_last_purchase\n",
      "nr_financing_60\n",
      "nr_invest_savings_40\n",
      "nr_account_10\n",
      "nr_financing_60_trend\n",
      "nr_invest_savings_40_trend\n",
      "nr_account_10_trend\n",
      "customer_lifetime_value_partition\n",
      "customer_lifetime_value_cumsum\n",
      "saving_behavior\n",
      "nr_risk_low\n",
      "nr_risk_medium\n",
      "nr_risk_high\n",
      "percent_risk_low\n",
      "percent_risk_medium\n",
      "percent_risk_high\n",
      "risk_index_absolute\n",
      "life_stage_indicator\n",
      "active_customer_rate\n",
      "months_from_last_purchase_digital\n",
      "date_last_purchase_digital\n",
      "total_products_ratio\n",
      "regions_cluster\n",
      "nr_transactions\n",
      "profit_60\n",
      "profit_40\n",
      "profit_10\n",
      "total_profit_customer\n"
     ]
    }
   ],
   "source": [
    "for col in df_capstone_clean_2.columns:\n",
    "    print(col)"
   ]
  },
  {
   "cell_type": "code",
   "execution_count": 62,
   "metadata": {},
   "outputs": [
    {
     "data": {
      "text/html": [
       "<div>\n",
       "<style scoped>\n",
       "    .dataframe tbody tr th:only-of-type {\n",
       "        vertical-align: middle;\n",
       "    }\n",
       "\n",
       "    .dataframe tbody tr th {\n",
       "        vertical-align: top;\n",
       "    }\n",
       "\n",
       "    .dataframe thead th {\n",
       "        text-align: right;\n",
       "    }\n",
       "</style>\n",
       "<table border=\"1\" class=\"dataframe\">\n",
       "  <thead>\n",
       "    <tr style=\"text-align: right;\">\n",
       "      <th></th>\n",
       "      <th>Nulos</th>\n",
       "      <th>porcentaje</th>\n",
       "    </tr>\n",
       "  </thead>\n",
       "  <tbody>\n",
       "  </tbody>\n",
       "</table>\n",
       "</div>"
      ],
      "text/plain": [
       "Empty DataFrame\n",
       "Columns: [Nulos, porcentaje]\n",
       "Index: []"
      ]
     },
     "execution_count": 62,
     "metadata": {},
     "output_type": "execute_result"
    }
   ],
   "source": [
    "#report_df(df_capstone_clean_2)\n",
    "listarNulos(df_capstone_clean_2)\n",
    "\n",
    "#df_capstone_clean_2.head()"
   ]
  },
  {
   "cell_type": "markdown",
   "metadata": {},
   "source": [
    "### Agrupamento de variables por naturaleza"
   ]
  },
  {
   "cell_type": "code",
   "execution_count": 63,
   "metadata": {},
   "outputs": [
    {
     "data": {
      "text/plain": [
       "Index(['pk_cid', 'pk_partition', 'entry_date', 'entry_channel',\n",
       "       'active_customer', 'segment', 'short_term_deposit', 'loans', 'mortgage',\n",
       "       'funds', 'securities', 'long_term_deposit', 'em_account_pp',\n",
       "       'credit_card', 'payroll', 'pension_plan', 'payroll_account',\n",
       "       'emc_account', 'debit_card', 'em_account_p', 'em_acount', 'country_id',\n",
       "       'region_code', 'gender', 'age', 'deceased', 'salary', 'age_cat',\n",
       "       'regions_ca_id', 'customer_acquisition_channel',\n",
       "       'customer_acquisition_channel_min', 'nr_product', 'nr_accounts',\n",
       "       'nr_saving_and_investment', 'nr_financing', 'nr_product_max',\n",
       "       'nr_product_gap_to_max', 'nr_investment', 'product_mix_diversity',\n",
       "       'salary_CA', 'customer_tenure', 'digital_interaction_index',\n",
       "       'financial_health_score', 'entry_channel_salary',\n",
       "       'entry_channel_loyalty', 'periods_active', 'season', 'entry_date_month',\n",
       "       'entry_date_year', 'working_day', 'loan_utilization_index', 'ES_Flag',\n",
       "       'total_products', 'client_fidelity', 'nr_debt', 'entry_channel_product',\n",
       "       'channel_activity_level', 'nr_product_trend',\n",
       "       'months_from_last_purchase', 'date_last_purchase', 'nr_financing_60',\n",
       "       'nr_invest_savings_40', 'nr_account_10', 'nr_financing_60_trend',\n",
       "       'nr_invest_savings_40_trend', 'nr_account_10_trend',\n",
       "       'customer_lifetime_value_partition', 'customer_lifetime_value_cumsum',\n",
       "       'saving_behavior', 'nr_risk_low', 'nr_risk_medium', 'nr_risk_high',\n",
       "       'percent_risk_low', 'percent_risk_medium', 'percent_risk_high',\n",
       "       'risk_index_absolute', 'life_stage_indicator', 'active_customer_rate',\n",
       "       'months_from_last_purchase_digital', 'date_last_purchase_digital',\n",
       "       'total_products_ratio', 'regions_cluster', 'nr_transactions',\n",
       "       'profit_60', 'profit_40', 'profit_10', 'total_profit_customer'],\n",
       "      dtype='object')"
      ]
     },
     "execution_count": 63,
     "metadata": {},
     "output_type": "execute_result"
    }
   ],
   "source": [
    "df_capstone_clean_2.columns"
   ]
  },
  {
   "cell_type": "code",
   "execution_count": 64,
   "metadata": {},
   "outputs": [
    {
     "data": {
      "text/plain": [
       "True"
      ]
     },
     "execution_count": 64,
     "metadata": {},
     "output_type": "execute_result"
    }
   ],
   "source": [
    "#Variables originales\n",
    "list_var_original=[\"pk_cid\", 'pk_partition', 'entry_date', 'entry_channel', 'active_customer','segment', 'short_term_deposit', 'loans', 'mortgage', 'funds',\n",
    "       'securities', 'long_term_deposit', 'em_account_pp', 'credit_card', 'payroll', 'pension_plan', 'payroll_account', 'emc_account',\n",
    "       'debit_card', 'em_account_p', 'em_acount', 'country_id', 'region_code', 'gender', 'age', 'deceased', 'salary']\n",
    "\n",
    "\n",
    "#variables generadas\n",
    "list_var_generated = ['age_cat', 'regions_ca_id',\n",
    "       'customer_acquisition_channel', 'nr_product', 'nr_accounts',\n",
    "       'nr_saving_and_investment', 'nr_financing', 'nr_product_max',\n",
    "       'nr_product_gap_to_max', 'nr_investment', 'product_mix_diversity',\n",
    "       'salary_CA', 'customer_tenure', 'digital_interaction_index',\n",
    "       'financial_health_score', 'entry_channel_salary',\n",
    "       'entry_channel_loyalty', 'periods_active', 'season', 'entry_date_month',\n",
    "       'entry_date_year', 'working_day', 'loan_utilization_index', 'ES_Flag',\n",
    "       'client_fidelity', 'total_products', 'nr_debt', 'entry_channel_product',\n",
    "       'channel_activity_level', 'nr_product_trend', 'nr_financing_60',\n",
    "       'nr_invest_savings_40', 'nr_account_10', 'nr_financing_60_trend',\n",
    "       'nr_invest_savings_40_trend', 'nr_account_10_trend', 'saving_behavior',\n",
    "       'nr_risk_low', 'nr_risk_medium', 'nr_risk_high', 'percent_risk_low',\n",
    "       'percent_risk_medium', 'percent_risk_high', 'risk_index_absolute',\n",
    "       'life_stage_indicator', 'customer_lifetime_value_partition',\n",
    "       'customer_lifetime_value_cumsum', 'months_from_last_purchase',\n",
    "       'date_last_purchase', 'active_customer_rate',\n",
    "       'months_from_last_purchase_digital', 'date_last_purchase_digital',\n",
    "       'total_products_ratio',\"regions_cluster\",\"customer_acquisition_channel_min\"]\n",
    "\n",
    "\n",
    "list_time = ['periods_active', 'entry_date_year', 'working_day']\n",
    "\n",
    "#caracteristicas socio/demograficas\n",
    "list_socio = ['age_cat', 'regions_ca_id',\"regions_cluster\", \"life_stage_indicator\",'salary_CA', 'ES_Flag' ]\n",
    "\n",
    "list_marketing = ['customer_acquisition_channel',\"customer_acquisition_channel_min\", 'entry_channel_loyalty',\n",
    "                  'entry_date_month','entry_channel_salary','entry_channel_product','channel_activity_level']\n",
    "\n",
    "#Caracteristicas económicas\n",
    "list_economics =['customer_lifetime_value_partition', 'customer_lifetime_value_cumsum','financial_health_score']\n",
    "\n",
    "#Frecuencia de compra\n",
    "list_frecuency = ['months_from_last_purchase_digital', 'date_last_purchase_digital','date_last_purchase', 'months_from_last_purchase']\n",
    "\n",
    "#productos\n",
    "list_prod = ['nr_product', 'nr_accounts', 'nr_saving_and_investment', 'nr_financing', 'nr_product_max','nr_product_gap_to_max', 'nr_investment', \n",
    "             'product_mix_diversity','nr_financing_60', 'nr_invest_savings_40', 'nr_account_10','nr_risk_low', 'nr_debt','total_products','total_products_ratio']\n",
    "\n",
    "#clientes más activos/tendencia\n",
    "list_trend = ['nr_financing_60_trend','nr_invest_savings_40_trend', 'nr_account_10_trend','nr_product_trend','season']\n",
    "\n",
    "#tiempo/relacionamento = \n",
    "list_relationship = ['customer_tenure','client_fidelity']\n",
    "\n",
    "#compoartamiento\n",
    "list_behavior = ['loan_utilization_index','saving_behavior','nr_risk_medium', 'nr_risk_high', 'percent_risk_low',\n",
    "       'percent_risk_medium', 'percent_risk_high', 'risk_index_absolute','active_customer_rate','digital_interaction_index']\n",
    "\n",
    "len(list_time + list_socio + list_marketing + list_economics + list_frecuency + list_prod + list_trend + list_relationship + list_behavior) == len(list_var_generated)\n"
   ]
  },
  {
   "cell_type": "code",
   "execution_count": 65,
   "metadata": {},
   "outputs": [
    {
     "data": {
      "text/plain": [
       "set()"
      ]
     },
     "execution_count": 65,
     "metadata": {},
     "output_type": "execute_result"
    }
   ],
   "source": [
    "set(list_var_generated) - set(list_time + list_socio + list_marketing + list_economics + list_frecuency + list_prod + list_trend + list_relationship + list_behavior)\n",
    "set(list_time + list_socio + list_marketing + list_economics + list_frecuency + list_prod + list_trend + list_relationship + list_behavior) - set(list_var_generated) "
   ]
  },
  {
   "cell_type": "markdown",
   "metadata": {},
   "source": [
    "### Selección de variables para clustering\n"
   ]
  },
  {
   "cell_type": "code",
   "execution_count": 66,
   "metadata": {},
   "outputs": [],
   "source": [
    "\n",
    "# #Variables originales\n",
    "# list_var_original=['pk_partition', 'entry_date', 'entry_channel', 'active_customer','segment', 'short_term_deposit', 'loans', 'mortgage', 'funds',\n",
    "#        'securities', 'long_term_deposit', 'em_account_pp', 'credit_card', 'payroll', 'pension_plan', 'payroll_account', 'emc_account',\n",
    "#        'debit_card', 'em_account_p', 'em_acount', 'country_id', 'region_code', 'gender', 'age', 'deceased', 'salary']\n",
    "\n",
    "list_var_original_toCluster=['pk_cid','segment', 'age']\n",
    "\n",
    "# #caracteristicas temporales\n",
    "# list_time_toCluster = ['periods_active', 'entry_date_year', 'working_day']\n",
    "\n",
    "list_time_toCluster = []\n",
    "\n",
    "##caracteristicas socio/demograficas\n",
    "#list_socio_toCluster = ['age_cat', 'regions_ca_id',\"regions_cluster\", \"life_stage_indicator\",'salary_CA', 'ES_Flag' ]\n",
    "\n",
    "list_socio_toCluster = []\n",
    "\n",
    "\n",
    "# #caracteristicas de marketing\n",
    "# list_marketing_toCluster = ['customer_acquisition_channel',\"customer_acquisition_channel_min\", 'entry_channel_loyalty',\n",
    "#                   'entry_date_month','entry_channel_salary','entry_channel_product','channel_activity_level']\n",
    "\n",
    "list_marketing_toCluster = []\n",
    "\n",
    "# #Caracteristicas económicas\n",
    "# list_economics_toCluster =['customer_lifetime_value_partition', 'customer_lifetime_value_cumsum','financial_health_score',\"total_profit_customer\"]\n",
    "\n",
    "list_economics_toCluster =['financial_health_score',\"total_profit_customer\"]\n",
    "\n",
    "# #Frecuencia de compra\n",
    "# list_frecuency_toCluster = ['months_from_last_purchase_digital', 'date_last_purchase_digital','date_last_purchase', 'months_from_last_purchase']\n",
    "\n",
    "list_frecuency_toCluster = ['months_from_last_purchase']\n",
    "\n",
    "# #productos\n",
    "# list_prod_toCluster = ['nr_product', 'nr_accounts', 'nr_saving_and_investment', 'nr_financing', 'nr_product_max','nr_product_gap_to_max', 'nr_investment', \n",
    "#              'product_mix_diversity','nr_financing_60', 'nr_invest_savings_40', 'nr_account_10','nr_debt','total_products','total_products_ratio']\n",
    "\n",
    "list_prod_toCluster = ['product_mix_diversity','nr_financing_60', 'nr_invest_savings_40', 'nr_account_10',\"nr_debt\"]\n",
    "\n",
    "# #clientes más activos/tendencia\n",
    "# list_trend_toCluster = ['nr_financing_60_trend','nr_invest_savings_40_trend', 'nr_account_10_trend','nr_product_trend','season']\n",
    "\n",
    "list_trend_toCluster = ['nr_product_trend']\n",
    "\n",
    "# #tiempo/relacionamento = \n",
    "# list_relationship_toCluster = ['customer_tenure','client_fidelity','nr_product_gap_to_max']\n",
    "\n",
    "list_relationship_toCluster = ['customer_tenure',\"nr_product_gap_to_max\"]\n",
    "\n",
    "#compoartamiento\n",
    "# list_behavior_toCluster = ['loan_utilization_index','saving_behavior',\"regions_cluster\",'nr_risk_low','nr_risk_medium', 'nr_risk_high', 'percent_risk_low',\n",
    "#        'percent_risk_medium', 'percent_risk_high','risk_index_absolute','active_customer_rate','digital_interaction_index']\n",
    "\n",
    "\n",
    "list_behavior_toCluster = [\"nr_transactions\",'loan_utilization_index','saving_behavior', 'risk_index_absolute','active_customer_rate']\n",
    "\n",
    "#Definición de la lista con variables selecionadas de cada grupo:\n",
    "list_var_toCluster = list_var_original_toCluster + list_time_toCluster + list_socio_toCluster + list_marketing_toCluster + list_economics_toCluster + list_frecuency_toCluster + list_prod_toCluster +\\\n",
    "list_trend_toCluster + list_relationship_toCluster + list_behavior_toCluster"
   ]
  },
  {
   "cell_type": "markdown",
   "metadata": {},
   "source": [
    "#### Configurar Clustering"
   ]
  },
  {
   "cell_type": "code",
   "execution_count": 67,
   "metadata": {},
   "outputs": [
    {
     "data": {
      "text/html": [
       "<div>\n",
       "<style scoped>\n",
       "    .dataframe tbody tr th:only-of-type {\n",
       "        vertical-align: middle;\n",
       "    }\n",
       "\n",
       "    .dataframe tbody tr th {\n",
       "        vertical-align: top;\n",
       "    }\n",
       "\n",
       "    .dataframe thead th {\n",
       "        text-align: right;\n",
       "    }\n",
       "</style>\n",
       "<table border=\"1\" class=\"dataframe\">\n",
       "  <thead>\n",
       "    <tr style=\"text-align: right;\">\n",
       "      <th></th>\n",
       "      <th>segment</th>\n",
       "      <th>age</th>\n",
       "      <th>financial_health_score</th>\n",
       "      <th>total_profit_customer</th>\n",
       "      <th>months_from_last_purchase</th>\n",
       "      <th>product_mix_diversity</th>\n",
       "      <th>nr_financing_60</th>\n",
       "      <th>nr_invest_savings_40</th>\n",
       "      <th>nr_account_10</th>\n",
       "      <th>nr_debt</th>\n",
       "      <th>nr_product_trend</th>\n",
       "      <th>customer_tenure</th>\n",
       "      <th>nr_product_gap_to_max</th>\n",
       "      <th>nr_transactions</th>\n",
       "      <th>loan_utilization_index</th>\n",
       "      <th>saving_behavior</th>\n",
       "      <th>risk_index_absolute</th>\n",
       "      <th>active_customer_rate</th>\n",
       "    </tr>\n",
       "  </thead>\n",
       "  <tbody>\n",
       "    <tr>\n",
       "      <th>16063</th>\n",
       "      <td>02 - PARTICULARES</td>\n",
       "      <td>62</td>\n",
       "      <td>0.001765</td>\n",
       "      <td>0.0</td>\n",
       "      <td>6</td>\n",
       "      <td>0.000000</td>\n",
       "      <td>0</td>\n",
       "      <td>0</td>\n",
       "      <td>0</td>\n",
       "      <td>0</td>\n",
       "      <td>0.0</td>\n",
       "      <td>190</td>\n",
       "      <td>0</td>\n",
       "      <td>0.0</td>\n",
       "      <td>0</td>\n",
       "      <td>0</td>\n",
       "      <td>0</td>\n",
       "      <td>0.714286</td>\n",
       "    </tr>\n",
       "    <tr>\n",
       "      <th>16203</th>\n",
       "      <td>01 - TOP</td>\n",
       "      <td>70</td>\n",
       "      <td>0.002249</td>\n",
       "      <td>10.0</td>\n",
       "      <td>5</td>\n",
       "      <td>0.083333</td>\n",
       "      <td>0</td>\n",
       "      <td>0</td>\n",
       "      <td>1</td>\n",
       "      <td>0</td>\n",
       "      <td>0.0</td>\n",
       "      <td>156</td>\n",
       "      <td>0</td>\n",
       "      <td>1.0</td>\n",
       "      <td>0</td>\n",
       "      <td>0</td>\n",
       "      <td>1</td>\n",
       "      <td>0.833333</td>\n",
       "    </tr>\n",
       "    <tr>\n",
       "      <th>16502</th>\n",
       "      <td>02 - PARTICULARES</td>\n",
       "      <td>58</td>\n",
       "      <td>0.001671</td>\n",
       "      <td>20.0</td>\n",
       "      <td>8</td>\n",
       "      <td>0.166667</td>\n",
       "      <td>0</td>\n",
       "      <td>0</td>\n",
       "      <td>2</td>\n",
       "      <td>0</td>\n",
       "      <td>0.0</td>\n",
       "      <td>240</td>\n",
       "      <td>0</td>\n",
       "      <td>2.0</td>\n",
       "      <td>0</td>\n",
       "      <td>0</td>\n",
       "      <td>3</td>\n",
       "      <td>0.888889</td>\n",
       "    </tr>\n",
       "    <tr>\n",
       "      <th>17457</th>\n",
       "      <td>02 - PARTICULARES</td>\n",
       "      <td>54</td>\n",
       "      <td>0.168439</td>\n",
       "      <td>340.0</td>\n",
       "      <td>16</td>\n",
       "      <td>0.205556</td>\n",
       "      <td>1</td>\n",
       "      <td>1</td>\n",
       "      <td>1</td>\n",
       "      <td>1</td>\n",
       "      <td>1.0</td>\n",
       "      <td>619</td>\n",
       "      <td>0</td>\n",
       "      <td>11.0</td>\n",
       "      <td>0</td>\n",
       "      <td>1</td>\n",
       "      <td>1</td>\n",
       "      <td>1.000000</td>\n",
       "    </tr>\n",
       "    <tr>\n",
       "      <th>17590</th>\n",
       "      <td>02 - PARTICULARES</td>\n",
       "      <td>55</td>\n",
       "      <td>0.007048</td>\n",
       "      <td>0.0</td>\n",
       "      <td>10</td>\n",
       "      <td>0.000000</td>\n",
       "      <td>0</td>\n",
       "      <td>0</td>\n",
       "      <td>0</td>\n",
       "      <td>0</td>\n",
       "      <td>0.0</td>\n",
       "      <td>891</td>\n",
       "      <td>0</td>\n",
       "      <td>0.0</td>\n",
       "      <td>0</td>\n",
       "      <td>0</td>\n",
       "      <td>0</td>\n",
       "      <td>1.000000</td>\n",
       "    </tr>\n",
       "  </tbody>\n",
       "</table>\n",
       "</div>"
      ],
      "text/plain": [
       "                 segment  age  financial_health_score  total_profit_customer  \\\n",
       "16063  02 - PARTICULARES   62                0.001765                    0.0   \n",
       "16203           01 - TOP   70                0.002249                   10.0   \n",
       "16502  02 - PARTICULARES   58                0.001671                   20.0   \n",
       "17457  02 - PARTICULARES   54                0.168439                  340.0   \n",
       "17590  02 - PARTICULARES   55                0.007048                    0.0   \n",
       "\n",
       "       months_from_last_purchase  product_mix_diversity  nr_financing_60  \\\n",
       "16063                          6               0.000000                0   \n",
       "16203                          5               0.083333                0   \n",
       "16502                          8               0.166667                0   \n",
       "17457                         16               0.205556                1   \n",
       "17590                         10               0.000000                0   \n",
       "\n",
       "       nr_invest_savings_40  nr_account_10  nr_debt  nr_product_trend  \\\n",
       "16063                     0              0        0               0.0   \n",
       "16203                     0              1        0               0.0   \n",
       "16502                     0              2        0               0.0   \n",
       "17457                     1              1        1               1.0   \n",
       "17590                     0              0        0               0.0   \n",
       "\n",
       "       customer_tenure  nr_product_gap_to_max  nr_transactions  \\\n",
       "16063              190                      0              0.0   \n",
       "16203              156                      0              1.0   \n",
       "16502              240                      0              2.0   \n",
       "17457              619                      0             11.0   \n",
       "17590              891                      0              0.0   \n",
       "\n",
       "       loan_utilization_index  saving_behavior  risk_index_absolute  \\\n",
       "16063                       0                0                    0   \n",
       "16203                       0                0                    1   \n",
       "16502                       0                0                    3   \n",
       "17457                       0                1                    1   \n",
       "17590                       0                0                    0   \n",
       "\n",
       "       active_customer_rate  \n",
       "16063              0.714286  \n",
       "16203              0.833333  \n",
       "16502              0.888889  \n",
       "17457              1.000000  \n",
       "17590              1.000000  "
      ]
     },
     "execution_count": 67,
     "metadata": {},
     "output_type": "execute_result"
    }
   ],
   "source": [
    "#fecha de la ultima partición \n",
    "date_last_partition = df_capstone_clean_2[\"pk_partition\"].max().strftime('%Y-%m-%d')\n",
    "\n",
    "#df con las variables para clustering referente a la ultima partición\n",
    "df_capstone_clean_2_last_partition_for_cluster = \\\n",
    "    df_capstone_clean_2[df_capstone_clean_2[\"pk_partition\"]==date_last_partition][list_var_toCluster]\n",
    "\n",
    "\n",
    "#df_capstone_clean_2_last_partition.drop('pk_partition', axis='columns',inplace=True)\n",
    "df_capstone_clean_2_last_partition_for_cluster.set_index('pk_cid', drop=True, inplace=True)\n",
    "df_capstone_clean_2_last_partition_for_cluster.rename_axis(None,inplace=True)\n",
    "df_capstone_clean_2_last_partition_for_cluster.head()"
   ]
  },
  {
   "cell_type": "code",
   "execution_count": 68,
   "metadata": {},
   "outputs": [
    {
     "data": {
      "text/html": [
       "<div>\n",
       "<style scoped>\n",
       "    .dataframe tbody tr th:only-of-type {\n",
       "        vertical-align: middle;\n",
       "    }\n",
       "\n",
       "    .dataframe tbody tr th {\n",
       "        vertical-align: top;\n",
       "    }\n",
       "\n",
       "    .dataframe thead th {\n",
       "        text-align: right;\n",
       "    }\n",
       "</style>\n",
       "<table border=\"1\" class=\"dataframe\">\n",
       "  <thead>\n",
       "    <tr style=\"text-align: right;\">\n",
       "      <th></th>\n",
       "      <th>Nulos</th>\n",
       "      <th>porcentaje</th>\n",
       "    </tr>\n",
       "  </thead>\n",
       "  <tbody>\n",
       "  </tbody>\n",
       "</table>\n",
       "</div>"
      ],
      "text/plain": [
       "Empty DataFrame\n",
       "Columns: [Nulos, porcentaje]\n",
       "Index: []"
      ]
     },
     "execution_count": 68,
     "metadata": {},
     "output_type": "execute_result"
    }
   ],
   "source": [
    "listarNulos(df_capstone_clean_2_last_partition_for_cluster)"
   ]
  },
  {
   "cell_type": "code",
   "execution_count": 69,
   "metadata": {},
   "outputs": [
    {
     "data": {
      "text/plain": [
       "Index(['segment', 'age', 'financial_health_score', 'total_profit_customer',\n",
       "       'months_from_last_purchase', 'product_mix_diversity', 'nr_financing_60',\n",
       "       'nr_invest_savings_40', 'nr_account_10', 'nr_debt', 'nr_product_trend',\n",
       "       'customer_tenure', 'nr_product_gap_to_max', 'nr_transactions',\n",
       "       'loan_utilization_index', 'saving_behavior', 'risk_index_absolute',\n",
       "       'active_customer_rate'],\n",
       "      dtype='object')"
      ]
     },
     "execution_count": 69,
     "metadata": {},
     "output_type": "execute_result"
    }
   ],
   "source": [
    "df_capstone_clean_2_last_partition_for_cluster.columns"
   ]
  },
  {
   "cell_type": "code",
   "execution_count": 70,
   "metadata": {},
   "outputs": [
    {
     "name": "stdout",
     "output_type": "stream",
     "text": [
      "segment\n",
      "age\n",
      "financial_health_score\n",
      "total_profit_customer\n",
      "months_from_last_purchase\n",
      "product_mix_diversity\n",
      "nr_financing_60\n",
      "nr_invest_savings_40\n",
      "nr_account_10\n",
      "nr_debt\n",
      "nr_product_trend\n",
      "customer_tenure\n",
      "nr_product_gap_to_max\n",
      "nr_transactions\n",
      "loan_utilization_index\n",
      "saving_behavior\n",
      "risk_index_absolute\n",
      "active_customer_rate\n"
     ]
    }
   ],
   "source": [
    "lnum, lbool, lcat, ldate = obtener_lista_variables(df_capstone_clean_2_last_partition_for_cluster,\"\",\"\")"
   ]
  },
  {
   "cell_type": "code",
   "execution_count": 71,
   "metadata": {},
   "outputs": [
    {
     "name": "stdout",
     "output_type": "stream",
     "text": [
      "Variables Numéricas: ['age', 'financial_health_score', 'total_profit_customer', 'months_from_last_purchase', 'product_mix_diversity', 'nr_financing_60', 'nr_invest_savings_40', 'nr_account_10', 'nr_debt', 'nr_product_trend', 'customer_tenure', 'nr_product_gap_to_max', 'nr_transactions', 'saving_behavior', 'risk_index_absolute', 'active_customer_rate']\n",
      "Variables Booleanas: ['loan_utilization_index']\n",
      "Variables Categóricas: ['segment']\n",
      "Variables Fechas: []\n"
     ]
    }
   ],
   "source": [
    "print(f\"Variables Numéricas: {lnum}\")\n",
    "print(f\"Variables Booleanas: {lbool}\")\n",
    "print(f\"Variables Categóricas: {lcat}\")\n",
    "print(f\"Variables Fechas: {ldate}\")\n"
   ]
  },
  {
   "cell_type": "code",
   "execution_count": 72,
   "metadata": {},
   "outputs": [
    {
     "name": "stdout",
     "output_type": "stream",
     "text": [
      "Todas las columnas incluídas en las listas de variables\n"
     ]
    }
   ],
   "source": [
    "if len(df_capstone_clean_2_last_partition_for_cluster.columns) - (len(lnum) + len(lbool) + len(lcat) + len(ldate)) == 0:\n",
    "    print('Todas las columnas incluídas en las listas de variables')\n",
    "else:\n",
    "    print('Revisar, no todas las columnas están incluídas')\n",
    "    print(f'{len(df_capstone_clean_2_last_partition_for_cluster.columns) - (len(lnum) + len(lbool) + len(lcat) + len(ldate))}')"
   ]
  },
  {
   "cell_type": "code",
   "execution_count": 73,
   "metadata": {},
   "outputs": [],
   "source": [
    "scale_pipe = ColumnTransformer(\n",
    "    transformers = [\n",
    "            (\"scale_numeric_columns\", RobustScaler(quantile_range = (10.0, 99.0)), lnum),\n",
    "        ],\n",
    "    remainder='passthrough',\n",
    "    verbose_feature_names_out = False\n",
    ")\n",
    "\n",
    "#df_capstone = scale_pipe.fit_transform(df_capstone)"
   ]
  },
  {
   "cell_type": "code",
   "execution_count": 74,
   "metadata": {},
   "outputs": [
    {
     "name": "stdout",
     "output_type": "stream",
     "text": [
      "['segment']\n"
     ]
    }
   ],
   "source": [
    "print(lcat)"
   ]
  },
  {
   "cell_type": "code",
   "execution_count": 75,
   "metadata": {},
   "outputs": [
    {
     "name": "stdout",
     "output_type": "stream",
     "text": [
      "segment: 3\n"
     ]
    }
   ],
   "source": [
    "for i in lcat:\n",
    "    print(f'{i}: {df_capstone_clean_2_last_partition_for_cluster[i].nunique()}')"
   ]
  },
  {
   "cell_type": "code",
   "execution_count": 76,
   "metadata": {},
   "outputs": [],
   "source": [
    "#segment_labels = [['03 - UNIVERSITARIO', '02 - PARTICULARES', '01 - TOP']]\n",
    "\n",
    "encode_pipe = ColumnTransformer(\n",
    "    transformers = [\n",
    "            (\"oe_cat\", OneHotEncoder(sparse_output=False, handle_unknown='ignore'), lcat),\n",
    "            #(\"orde_cat\", OrdinalEncoder(categories=segment_labels), lcat)\n",
    "        ],\n",
    "    remainder='passthrough',\n",
    "    verbose_feature_names_out = False\n",
    ")\n",
    "\n",
    "#df_capstone = encode.fit_transform(df_capstone)"
   ]
  },
  {
   "cell_type": "code",
   "execution_count": 77,
   "metadata": {},
   "outputs": [
    {
     "data": {
      "text/html": [
       "<style>#sk-container-id-1 {color: black;}#sk-container-id-1 pre{padding: 0;}#sk-container-id-1 div.sk-toggleable {background-color: white;}#sk-container-id-1 label.sk-toggleable__label {cursor: pointer;display: block;width: 100%;margin-bottom: 0;padding: 0.3em;box-sizing: border-box;text-align: center;}#sk-container-id-1 label.sk-toggleable__label-arrow:before {content: \"▸\";float: left;margin-right: 0.25em;color: #696969;}#sk-container-id-1 label.sk-toggleable__label-arrow:hover:before {color: black;}#sk-container-id-1 div.sk-estimator:hover label.sk-toggleable__label-arrow:before {color: black;}#sk-container-id-1 div.sk-toggleable__content {max-height: 0;max-width: 0;overflow: hidden;text-align: left;background-color: #f0f8ff;}#sk-container-id-1 div.sk-toggleable__content pre {margin: 0.2em;color: black;border-radius: 0.25em;background-color: #f0f8ff;}#sk-container-id-1 input.sk-toggleable__control:checked~div.sk-toggleable__content {max-height: 200px;max-width: 100%;overflow: auto;}#sk-container-id-1 input.sk-toggleable__control:checked~label.sk-toggleable__label-arrow:before {content: \"▾\";}#sk-container-id-1 div.sk-estimator input.sk-toggleable__control:checked~label.sk-toggleable__label {background-color: #d4ebff;}#sk-container-id-1 div.sk-label input.sk-toggleable__control:checked~label.sk-toggleable__label {background-color: #d4ebff;}#sk-container-id-1 input.sk-hidden--visually {border: 0;clip: rect(1px 1px 1px 1px);clip: rect(1px, 1px, 1px, 1px);height: 1px;margin: -1px;overflow: hidden;padding: 0;position: absolute;width: 1px;}#sk-container-id-1 div.sk-estimator {font-family: monospace;background-color: #f0f8ff;border: 1px dotted black;border-radius: 0.25em;box-sizing: border-box;margin-bottom: 0.5em;}#sk-container-id-1 div.sk-estimator:hover {background-color: #d4ebff;}#sk-container-id-1 div.sk-parallel-item::after {content: \"\";width: 100%;border-bottom: 1px solid gray;flex-grow: 1;}#sk-container-id-1 div.sk-label:hover label.sk-toggleable__label {background-color: #d4ebff;}#sk-container-id-1 div.sk-serial::before {content: \"\";position: absolute;border-left: 1px solid gray;box-sizing: border-box;top: 0;bottom: 0;left: 50%;z-index: 0;}#sk-container-id-1 div.sk-serial {display: flex;flex-direction: column;align-items: center;background-color: white;padding-right: 0.2em;padding-left: 0.2em;position: relative;}#sk-container-id-1 div.sk-item {position: relative;z-index: 1;}#sk-container-id-1 div.sk-parallel {display: flex;align-items: stretch;justify-content: center;background-color: white;position: relative;}#sk-container-id-1 div.sk-item::before, #sk-container-id-1 div.sk-parallel-item::before {content: \"\";position: absolute;border-left: 1px solid gray;box-sizing: border-box;top: 0;bottom: 0;left: 50%;z-index: -1;}#sk-container-id-1 div.sk-parallel-item {display: flex;flex-direction: column;z-index: 1;position: relative;background-color: white;}#sk-container-id-1 div.sk-parallel-item:first-child::after {align-self: flex-end;width: 50%;}#sk-container-id-1 div.sk-parallel-item:last-child::after {align-self: flex-start;width: 50%;}#sk-container-id-1 div.sk-parallel-item:only-child::after {width: 0;}#sk-container-id-1 div.sk-dashed-wrapped {border: 1px dashed gray;margin: 0 0.4em 0.5em 0.4em;box-sizing: border-box;padding-bottom: 0.4em;background-color: white;}#sk-container-id-1 div.sk-label label {font-family: monospace;font-weight: bold;display: inline-block;line-height: 1.2em;}#sk-container-id-1 div.sk-label-container {text-align: center;}#sk-container-id-1 div.sk-container {/* jupyter's `normalize.less` sets `[hidden] { display: none; }` but bootstrap.min.css set `[hidden] { display: none !important; }` so we also need the `!important` here to be able to override the default hidden behavior on the sphinx rendered scikit-learn.org. See: https://github.com/scikit-learn/scikit-learn/issues/21755 */display: inline-block !important;position: relative;}#sk-container-id-1 div.sk-text-repr-fallback {display: none;}</style><div id=\"sk-container-id-1\" class=\"sk-top-container\"><div class=\"sk-text-repr-fallback\"><pre>Pipeline(steps=[(&#x27;scaler&#x27;,\n",
       "                 ColumnTransformer(remainder=&#x27;passthrough&#x27;,\n",
       "                                   transformers=[(&#x27;scale_numeric_columns&#x27;,\n",
       "                                                  RobustScaler(quantile_range=(10.0,\n",
       "                                                                               99.0)),\n",
       "                                                  [&#x27;age&#x27;,\n",
       "                                                   &#x27;financial_health_score&#x27;,\n",
       "                                                   &#x27;total_profit_customer&#x27;,\n",
       "                                                   &#x27;months_from_last_purchase&#x27;,\n",
       "                                                   &#x27;product_mix_diversity&#x27;,\n",
       "                                                   &#x27;nr_financing_60&#x27;,\n",
       "                                                   &#x27;nr_invest_savings_40&#x27;,\n",
       "                                                   &#x27;nr_account_10&#x27;, &#x27;nr_debt&#x27;,\n",
       "                                                   &#x27;nr_product_trend&#x27;,\n",
       "                                                   &#x27;customer_tenure&#x27;,\n",
       "                                                   &#x27;nr_product_gap_to_max&#x27;,\n",
       "                                                   &#x27;nr_transactions&#x27;,\n",
       "                                                   &#x27;saving_behavior&#x27;,\n",
       "                                                   &#x27;risk_index_absolute&#x27;,\n",
       "                                                   &#x27;active_customer_rate&#x27;])],\n",
       "                                   verbose_feature_names_out=False)),\n",
       "                (&#x27;encoder&#x27;,\n",
       "                 ColumnTransformer(remainder=&#x27;passthrough&#x27;,\n",
       "                                   transformers=[(&#x27;oe_cat&#x27;,\n",
       "                                                  OneHotEncoder(handle_unknown=&#x27;ignore&#x27;,\n",
       "                                                                sparse_output=False),\n",
       "                                                  [&#x27;segment&#x27;])],\n",
       "                                   verbose_feature_names_out=False))])</pre><b>In a Jupyter environment, please rerun this cell to show the HTML representation or trust the notebook. <br />On GitHub, the HTML representation is unable to render, please try loading this page with nbviewer.org.</b></div><div class=\"sk-container\" hidden><div class=\"sk-item sk-dashed-wrapped\"><div class=\"sk-label-container\"><div class=\"sk-label sk-toggleable\"><input class=\"sk-toggleable__control sk-hidden--visually\" id=\"sk-estimator-id-1\" type=\"checkbox\" ><label for=\"sk-estimator-id-1\" class=\"sk-toggleable__label sk-toggleable__label-arrow\">Pipeline</label><div class=\"sk-toggleable__content\"><pre>Pipeline(steps=[(&#x27;scaler&#x27;,\n",
       "                 ColumnTransformer(remainder=&#x27;passthrough&#x27;,\n",
       "                                   transformers=[(&#x27;scale_numeric_columns&#x27;,\n",
       "                                                  RobustScaler(quantile_range=(10.0,\n",
       "                                                                               99.0)),\n",
       "                                                  [&#x27;age&#x27;,\n",
       "                                                   &#x27;financial_health_score&#x27;,\n",
       "                                                   &#x27;total_profit_customer&#x27;,\n",
       "                                                   &#x27;months_from_last_purchase&#x27;,\n",
       "                                                   &#x27;product_mix_diversity&#x27;,\n",
       "                                                   &#x27;nr_financing_60&#x27;,\n",
       "                                                   &#x27;nr_invest_savings_40&#x27;,\n",
       "                                                   &#x27;nr_account_10&#x27;, &#x27;nr_debt&#x27;,\n",
       "                                                   &#x27;nr_product_trend&#x27;,\n",
       "                                                   &#x27;customer_tenure&#x27;,\n",
       "                                                   &#x27;nr_product_gap_to_max&#x27;,\n",
       "                                                   &#x27;nr_transactions&#x27;,\n",
       "                                                   &#x27;saving_behavior&#x27;,\n",
       "                                                   &#x27;risk_index_absolute&#x27;,\n",
       "                                                   &#x27;active_customer_rate&#x27;])],\n",
       "                                   verbose_feature_names_out=False)),\n",
       "                (&#x27;encoder&#x27;,\n",
       "                 ColumnTransformer(remainder=&#x27;passthrough&#x27;,\n",
       "                                   transformers=[(&#x27;oe_cat&#x27;,\n",
       "                                                  OneHotEncoder(handle_unknown=&#x27;ignore&#x27;,\n",
       "                                                                sparse_output=False),\n",
       "                                                  [&#x27;segment&#x27;])],\n",
       "                                   verbose_feature_names_out=False))])</pre></div></div></div><div class=\"sk-serial\"><div class=\"sk-item sk-dashed-wrapped\"><div class=\"sk-label-container\"><div class=\"sk-label sk-toggleable\"><input class=\"sk-toggleable__control sk-hidden--visually\" id=\"sk-estimator-id-2\" type=\"checkbox\" ><label for=\"sk-estimator-id-2\" class=\"sk-toggleable__label sk-toggleable__label-arrow\">scaler: ColumnTransformer</label><div class=\"sk-toggleable__content\"><pre>ColumnTransformer(remainder=&#x27;passthrough&#x27;,\n",
       "                  transformers=[(&#x27;scale_numeric_columns&#x27;,\n",
       "                                 RobustScaler(quantile_range=(10.0, 99.0)),\n",
       "                                 [&#x27;age&#x27;, &#x27;financial_health_score&#x27;,\n",
       "                                  &#x27;total_profit_customer&#x27;,\n",
       "                                  &#x27;months_from_last_purchase&#x27;,\n",
       "                                  &#x27;product_mix_diversity&#x27;, &#x27;nr_financing_60&#x27;,\n",
       "                                  &#x27;nr_invest_savings_40&#x27;, &#x27;nr_account_10&#x27;,\n",
       "                                  &#x27;nr_debt&#x27;, &#x27;nr_product_trend&#x27;,\n",
       "                                  &#x27;customer_tenure&#x27;, &#x27;nr_product_gap_to_max&#x27;,\n",
       "                                  &#x27;nr_transactions&#x27;, &#x27;saving_behavior&#x27;,\n",
       "                                  &#x27;risk_index_absolute&#x27;,\n",
       "                                  &#x27;active_customer_rate&#x27;])],\n",
       "                  verbose_feature_names_out=False)</pre></div></div></div><div class=\"sk-parallel\"><div class=\"sk-parallel-item\"><div class=\"sk-item\"><div class=\"sk-label-container\"><div class=\"sk-label sk-toggleable\"><input class=\"sk-toggleable__control sk-hidden--visually\" id=\"sk-estimator-id-3\" type=\"checkbox\" ><label for=\"sk-estimator-id-3\" class=\"sk-toggleable__label sk-toggleable__label-arrow\">scale_numeric_columns</label><div class=\"sk-toggleable__content\"><pre>[&#x27;age&#x27;, &#x27;financial_health_score&#x27;, &#x27;total_profit_customer&#x27;, &#x27;months_from_last_purchase&#x27;, &#x27;product_mix_diversity&#x27;, &#x27;nr_financing_60&#x27;, &#x27;nr_invest_savings_40&#x27;, &#x27;nr_account_10&#x27;, &#x27;nr_debt&#x27;, &#x27;nr_product_trend&#x27;, &#x27;customer_tenure&#x27;, &#x27;nr_product_gap_to_max&#x27;, &#x27;nr_transactions&#x27;, &#x27;saving_behavior&#x27;, &#x27;risk_index_absolute&#x27;, &#x27;active_customer_rate&#x27;]</pre></div></div></div><div class=\"sk-serial\"><div class=\"sk-item\"><div class=\"sk-estimator sk-toggleable\"><input class=\"sk-toggleable__control sk-hidden--visually\" id=\"sk-estimator-id-4\" type=\"checkbox\" ><label for=\"sk-estimator-id-4\" class=\"sk-toggleable__label sk-toggleable__label-arrow\">RobustScaler</label><div class=\"sk-toggleable__content\"><pre>RobustScaler(quantile_range=(10.0, 99.0))</pre></div></div></div></div></div></div><div class=\"sk-parallel-item\"><div class=\"sk-item\"><div class=\"sk-label-container\"><div class=\"sk-label sk-toggleable\"><input class=\"sk-toggleable__control sk-hidden--visually\" id=\"sk-estimator-id-5\" type=\"checkbox\" ><label for=\"sk-estimator-id-5\" class=\"sk-toggleable__label sk-toggleable__label-arrow\">remainder</label><div class=\"sk-toggleable__content\"><pre></pre></div></div></div><div class=\"sk-serial\"><div class=\"sk-item\"><div class=\"sk-estimator sk-toggleable\"><input class=\"sk-toggleable__control sk-hidden--visually\" id=\"sk-estimator-id-6\" type=\"checkbox\" ><label for=\"sk-estimator-id-6\" class=\"sk-toggleable__label sk-toggleable__label-arrow\">passthrough</label><div class=\"sk-toggleable__content\"><pre>passthrough</pre></div></div></div></div></div></div></div></div><div class=\"sk-item sk-dashed-wrapped\"><div class=\"sk-label-container\"><div class=\"sk-label sk-toggleable\"><input class=\"sk-toggleable__control sk-hidden--visually\" id=\"sk-estimator-id-7\" type=\"checkbox\" ><label for=\"sk-estimator-id-7\" class=\"sk-toggleable__label sk-toggleable__label-arrow\">encoder: ColumnTransformer</label><div class=\"sk-toggleable__content\"><pre>ColumnTransformer(remainder=&#x27;passthrough&#x27;,\n",
       "                  transformers=[(&#x27;oe_cat&#x27;,\n",
       "                                 OneHotEncoder(handle_unknown=&#x27;ignore&#x27;,\n",
       "                                               sparse_output=False),\n",
       "                                 [&#x27;segment&#x27;])],\n",
       "                  verbose_feature_names_out=False)</pre></div></div></div><div class=\"sk-parallel\"><div class=\"sk-parallel-item\"><div class=\"sk-item\"><div class=\"sk-label-container\"><div class=\"sk-label sk-toggleable\"><input class=\"sk-toggleable__control sk-hidden--visually\" id=\"sk-estimator-id-8\" type=\"checkbox\" ><label for=\"sk-estimator-id-8\" class=\"sk-toggleable__label sk-toggleable__label-arrow\">oe_cat</label><div class=\"sk-toggleable__content\"><pre>[&#x27;segment&#x27;]</pre></div></div></div><div class=\"sk-serial\"><div class=\"sk-item\"><div class=\"sk-estimator sk-toggleable\"><input class=\"sk-toggleable__control sk-hidden--visually\" id=\"sk-estimator-id-9\" type=\"checkbox\" ><label for=\"sk-estimator-id-9\" class=\"sk-toggleable__label sk-toggleable__label-arrow\">OneHotEncoder</label><div class=\"sk-toggleable__content\"><pre>OneHotEncoder(handle_unknown=&#x27;ignore&#x27;, sparse_output=False)</pre></div></div></div></div></div></div><div class=\"sk-parallel-item\"><div class=\"sk-item\"><div class=\"sk-label-container\"><div class=\"sk-label sk-toggleable\"><input class=\"sk-toggleable__control sk-hidden--visually\" id=\"sk-estimator-id-10\" type=\"checkbox\" ><label for=\"sk-estimator-id-10\" class=\"sk-toggleable__label sk-toggleable__label-arrow\">remainder</label><div class=\"sk-toggleable__content\"><pre></pre></div></div></div><div class=\"sk-serial\"><div class=\"sk-item\"><div class=\"sk-estimator sk-toggleable\"><input class=\"sk-toggleable__control sk-hidden--visually\" id=\"sk-estimator-id-11\" type=\"checkbox\" ><label for=\"sk-estimator-id-11\" class=\"sk-toggleable__label sk-toggleable__label-arrow\">passthrough</label><div class=\"sk-toggleable__content\"><pre>passthrough</pre></div></div></div></div></div></div></div></div></div></div></div></div>"
      ],
      "text/plain": [
       "Pipeline(steps=[('scaler',\n",
       "                 ColumnTransformer(remainder='passthrough',\n",
       "                                   transformers=[('scale_numeric_columns',\n",
       "                                                  RobustScaler(quantile_range=(10.0,\n",
       "                                                                               99.0)),\n",
       "                                                  ['age',\n",
       "                                                   'financial_health_score',\n",
       "                                                   'total_profit_customer',\n",
       "                                                   'months_from_last_purchase',\n",
       "                                                   'product_mix_diversity',\n",
       "                                                   'nr_financing_60',\n",
       "                                                   'nr_invest_savings_40',\n",
       "                                                   'nr_account_10', 'nr_debt',\n",
       "                                                   'nr_product_trend',\n",
       "                                                   'customer_tenure',\n",
       "                                                   'nr_product_gap_to_max',\n",
       "                                                   'nr_transactions',\n",
       "                                                   'saving_behavior',\n",
       "                                                   'risk_index_absolute',\n",
       "                                                   'active_customer_rate'])],\n",
       "                                   verbose_feature_names_out=False)),\n",
       "                ('encoder',\n",
       "                 ColumnTransformer(remainder='passthrough',\n",
       "                                   transformers=[('oe_cat',\n",
       "                                                  OneHotEncoder(handle_unknown='ignore',\n",
       "                                                                sparse_output=False),\n",
       "                                                  ['segment'])],\n",
       "                                   verbose_feature_names_out=False))])"
      ]
     },
     "execution_count": 77,
     "metadata": {},
     "output_type": "execute_result"
    }
   ],
   "source": [
    "pipe = Pipeline(\n",
    "    steps = [\n",
    "        (\"scaler\", scale_pipe),\n",
    "        (\"encoder\",encode_pipe),\n",
    "    ]\n",
    ")\n",
    "\n",
    "pipe"
   ]
  },
  {
   "cell_type": "code",
   "execution_count": 78,
   "metadata": {},
   "outputs": [],
   "source": [
    "df_capstone_clean_2_last_partition_for_cluster_scaled_transformed = pipe.fit_transform(df_capstone_clean_2_last_partition_for_cluster)"
   ]
  },
  {
   "cell_type": "code",
   "execution_count": 79,
   "metadata": {},
   "outputs": [
    {
     "name": "stdout",
     "output_type": "stream",
     "text": [
      "<class 'pandas.core.frame.DataFrame'>\n",
      "Int64Index: 442995 entries, 16063 to 1553689\n",
      "Data columns (total 20 columns):\n",
      " #   Column                      Non-Null Count   Dtype  \n",
      "---  ------                      --------------   -----  \n",
      " 0   segment_01 - TOP            442995 non-null  float64\n",
      " 1   segment_02 - PARTICULARES   442995 non-null  float64\n",
      " 2   segment_03 - UNIVERSITARIO  442995 non-null  float64\n",
      " 3   age                         442995 non-null  float64\n",
      " 4   financial_health_score      442995 non-null  float64\n",
      " 5   total_profit_customer       442995 non-null  float64\n",
      " 6   months_from_last_purchase   442995 non-null  float64\n",
      " 7   product_mix_diversity       442995 non-null  float64\n",
      " 8   nr_financing_60             442995 non-null  float64\n",
      " 9   nr_invest_savings_40        442995 non-null  float64\n",
      " 10  nr_account_10               442995 non-null  float64\n",
      " 11  nr_debt                     442995 non-null  float64\n",
      " 12  nr_product_trend            442995 non-null  float64\n",
      " 13  customer_tenure             442995 non-null  float64\n",
      " 14  nr_product_gap_to_max       442995 non-null  float64\n",
      " 15  nr_transactions             442995 non-null  float64\n",
      " 16  saving_behavior             442995 non-null  float64\n",
      " 17  risk_index_absolute         442995 non-null  float64\n",
      " 18  active_customer_rate        442995 non-null  float64\n",
      " 19  loan_utilization_index      442995 non-null  int64  \n",
      "dtypes: float64(19), int64(1)\n",
      "memory usage: 71.0 MB\n"
     ]
    }
   ],
   "source": [
    "df_capstone_clean_2_last_partition_for_cluster_scaled_transformed.info()"
   ]
  },
  {
   "cell_type": "code",
   "execution_count": 80,
   "metadata": {},
   "outputs": [
    {
     "data": {
      "text/html": [
       "<div>\n",
       "<style scoped>\n",
       "    .dataframe tbody tr th:only-of-type {\n",
       "        vertical-align: middle;\n",
       "    }\n",
       "\n",
       "    .dataframe tbody tr th {\n",
       "        vertical-align: top;\n",
       "    }\n",
       "\n",
       "    .dataframe thead th {\n",
       "        text-align: right;\n",
       "    }\n",
       "</style>\n",
       "<table border=\"1\" class=\"dataframe\">\n",
       "  <thead>\n",
       "    <tr style=\"text-align: right;\">\n",
       "      <th></th>\n",
       "      <th>16063</th>\n",
       "      <th>16203</th>\n",
       "      <th>16502</th>\n",
       "      <th>17457</th>\n",
       "      <th>17590</th>\n",
       "    </tr>\n",
       "  </thead>\n",
       "  <tbody>\n",
       "    <tr>\n",
       "      <th>segment_01 - TOP</th>\n",
       "      <td>0.000000</td>\n",
       "      <td>1.000000</td>\n",
       "      <td>0.000000</td>\n",
       "      <td>0.000000</td>\n",
       "      <td>0.000000</td>\n",
       "    </tr>\n",
       "    <tr>\n",
       "      <th>segment_02 - PARTICULARES</th>\n",
       "      <td>1.000000</td>\n",
       "      <td>0.000000</td>\n",
       "      <td>1.000000</td>\n",
       "      <td>1.000000</td>\n",
       "      <td>1.000000</td>\n",
       "    </tr>\n",
       "    <tr>\n",
       "      <th>segment_03 - UNIVERSITARIO</th>\n",
       "      <td>0.000000</td>\n",
       "      <td>0.000000</td>\n",
       "      <td>0.000000</td>\n",
       "      <td>0.000000</td>\n",
       "      <td>0.000000</td>\n",
       "    </tr>\n",
       "    <tr>\n",
       "      <th>age</th>\n",
       "      <td>0.698113</td>\n",
       "      <td>0.849057</td>\n",
       "      <td>0.622642</td>\n",
       "      <td>0.547170</td>\n",
       "      <td>0.566038</td>\n",
       "    </tr>\n",
       "    <tr>\n",
       "      <th>financial_health_score</th>\n",
       "      <td>0.001460</td>\n",
       "      <td>0.004338</td>\n",
       "      <td>0.000901</td>\n",
       "      <td>0.991885</td>\n",
       "      <td>0.032854</td>\n",
       "    </tr>\n",
       "    <tr>\n",
       "      <th>total_profit_customer</th>\n",
       "      <td>0.000000</td>\n",
       "      <td>0.041667</td>\n",
       "      <td>0.083333</td>\n",
       "      <td>1.416667</td>\n",
       "      <td>0.000000</td>\n",
       "    </tr>\n",
       "    <tr>\n",
       "      <th>months_from_last_purchase</th>\n",
       "      <td>-1.000000</td>\n",
       "      <td>-1.100000</td>\n",
       "      <td>-0.800000</td>\n",
       "      <td>0.000000</td>\n",
       "      <td>-0.600000</td>\n",
       "    </tr>\n",
       "    <tr>\n",
       "      <th>product_mix_diversity</th>\n",
       "      <td>-0.288462</td>\n",
       "      <td>0.000000</td>\n",
       "      <td>0.288462</td>\n",
       "      <td>0.423077</td>\n",
       "      <td>-0.288462</td>\n",
       "    </tr>\n",
       "    <tr>\n",
       "      <th>nr_financing_60</th>\n",
       "      <td>0.000000</td>\n",
       "      <td>0.000000</td>\n",
       "      <td>0.000000</td>\n",
       "      <td>1.000000</td>\n",
       "      <td>0.000000</td>\n",
       "    </tr>\n",
       "    <tr>\n",
       "      <th>nr_invest_savings_40</th>\n",
       "      <td>0.000000</td>\n",
       "      <td>0.000000</td>\n",
       "      <td>0.000000</td>\n",
       "      <td>1.000000</td>\n",
       "      <td>0.000000</td>\n",
       "    </tr>\n",
       "    <tr>\n",
       "      <th>nr_account_10</th>\n",
       "      <td>-0.500000</td>\n",
       "      <td>0.000000</td>\n",
       "      <td>0.500000</td>\n",
       "      <td>0.000000</td>\n",
       "      <td>-0.500000</td>\n",
       "    </tr>\n",
       "    <tr>\n",
       "      <th>nr_debt</th>\n",
       "      <td>0.000000</td>\n",
       "      <td>0.000000</td>\n",
       "      <td>0.000000</td>\n",
       "      <td>0.500000</td>\n",
       "      <td>0.000000</td>\n",
       "    </tr>\n",
       "    <tr>\n",
       "      <th>nr_product_trend</th>\n",
       "      <td>0.000000</td>\n",
       "      <td>0.000000</td>\n",
       "      <td>0.000000</td>\n",
       "      <td>1.000000</td>\n",
       "      <td>0.000000</td>\n",
       "    </tr>\n",
       "    <tr>\n",
       "      <th>customer_tenure</th>\n",
       "      <td>-0.356502</td>\n",
       "      <td>-0.381913</td>\n",
       "      <td>-0.319133</td>\n",
       "      <td>-0.035874</td>\n",
       "      <td>0.167414</td>\n",
       "    </tr>\n",
       "    <tr>\n",
       "      <th>nr_product_gap_to_max</th>\n",
       "      <td>0.000000</td>\n",
       "      <td>0.000000</td>\n",
       "      <td>0.000000</td>\n",
       "      <td>0.000000</td>\n",
       "      <td>0.000000</td>\n",
       "    </tr>\n",
       "    <tr>\n",
       "      <th>nr_transactions</th>\n",
       "      <td>0.000000</td>\n",
       "      <td>0.090909</td>\n",
       "      <td>0.181818</td>\n",
       "      <td>1.000000</td>\n",
       "      <td>0.000000</td>\n",
       "    </tr>\n",
       "    <tr>\n",
       "      <th>saving_behavior</th>\n",
       "      <td>0.000000</td>\n",
       "      <td>0.000000</td>\n",
       "      <td>0.000000</td>\n",
       "      <td>1.000000</td>\n",
       "      <td>0.000000</td>\n",
       "    </tr>\n",
       "    <tr>\n",
       "      <th>risk_index_absolute</th>\n",
       "      <td>-0.333333</td>\n",
       "      <td>0.000000</td>\n",
       "      <td>0.666667</td>\n",
       "      <td>0.000000</td>\n",
       "      <td>-0.333333</td>\n",
       "    </tr>\n",
       "    <tr>\n",
       "      <th>active_customer_rate</th>\n",
       "      <td>0.714286</td>\n",
       "      <td>0.833333</td>\n",
       "      <td>0.888889</td>\n",
       "      <td>1.000000</td>\n",
       "      <td>1.000000</td>\n",
       "    </tr>\n",
       "    <tr>\n",
       "      <th>loan_utilization_index</th>\n",
       "      <td>0.000000</td>\n",
       "      <td>0.000000</td>\n",
       "      <td>0.000000</td>\n",
       "      <td>0.000000</td>\n",
       "      <td>0.000000</td>\n",
       "    </tr>\n",
       "  </tbody>\n",
       "</table>\n",
       "</div>"
      ],
      "text/plain": [
       "                               16063     16203     16502     17457     17590\n",
       "segment_01 - TOP            0.000000  1.000000  0.000000  0.000000  0.000000\n",
       "segment_02 - PARTICULARES   1.000000  0.000000  1.000000  1.000000  1.000000\n",
       "segment_03 - UNIVERSITARIO  0.000000  0.000000  0.000000  0.000000  0.000000\n",
       "age                         0.698113  0.849057  0.622642  0.547170  0.566038\n",
       "financial_health_score      0.001460  0.004338  0.000901  0.991885  0.032854\n",
       "total_profit_customer       0.000000  0.041667  0.083333  1.416667  0.000000\n",
       "months_from_last_purchase  -1.000000 -1.100000 -0.800000  0.000000 -0.600000\n",
       "product_mix_diversity      -0.288462  0.000000  0.288462  0.423077 -0.288462\n",
       "nr_financing_60             0.000000  0.000000  0.000000  1.000000  0.000000\n",
       "nr_invest_savings_40        0.000000  0.000000  0.000000  1.000000  0.000000\n",
       "nr_account_10              -0.500000  0.000000  0.500000  0.000000 -0.500000\n",
       "nr_debt                     0.000000  0.000000  0.000000  0.500000  0.000000\n",
       "nr_product_trend            0.000000  0.000000  0.000000  1.000000  0.000000\n",
       "customer_tenure            -0.356502 -0.381913 -0.319133 -0.035874  0.167414\n",
       "nr_product_gap_to_max       0.000000  0.000000  0.000000  0.000000  0.000000\n",
       "nr_transactions             0.000000  0.090909  0.181818  1.000000  0.000000\n",
       "saving_behavior             0.000000  0.000000  0.000000  1.000000  0.000000\n",
       "risk_index_absolute        -0.333333  0.000000  0.666667  0.000000 -0.333333\n",
       "active_customer_rate        0.714286  0.833333  0.888889  1.000000  1.000000\n",
       "loan_utilization_index      0.000000  0.000000  0.000000  0.000000  0.000000"
      ]
     },
     "execution_count": 80,
     "metadata": {},
     "output_type": "execute_result"
    }
   ],
   "source": [
    "df_capstone_clean_2_last_partition_for_cluster_scaled_transformed.head().T"
   ]
  },
  {
   "cell_type": "code",
   "execution_count": 81,
   "metadata": {},
   "outputs": [
    {
     "data": {
      "text/plain": [
       "0"
      ]
     },
     "execution_count": 81,
     "metadata": {},
     "output_type": "execute_result"
    }
   ],
   "source": [
    "df_capstone_clean_2_last_partition_for_cluster_scaled_transformed.isnull().sum().sum()"
   ]
  },
  {
   "cell_type": "markdown",
   "metadata": {},
   "source": [
    "### Analisis de dispersión (\"codo\" K)\n",
    "\n",
    "Ya esta definido com 7,8 por el enunciado del problema.\n",
    "Hemos elegido 7. "
   ]
  },
  {
   "cell_type": "code",
   "execution_count": 82,
   "metadata": {},
   "outputs": [
    {
     "name": "stdout",
     "output_type": "stream",
     "text": [
      "Fitting pipe with 7 clusters\n"
     ]
    },
    {
     "name": "stderr",
     "output_type": "stream",
     "text": [
      "python(48773) MallocStackLogging: can't turn off malloc stack logging because it was not enabled.\n"
     ]
    },
    {
     "name": "stdout",
     "output_type": "stream",
     "text": [
      "Fitting pipe with 8 clusters\n"
     ]
    }
   ],
   "source": [
    "sse = {}\n",
    "\n",
    "for k in range(7, 9):\n",
    "\n",
    "    print(f\"Fitting pipe with {k} clusters\")\n",
    "\n",
    "    clustering_model = KMeans(n_clusters = k)\n",
    "    clustering_model.fit(df_capstone_clean_2_last_partition_for_cluster_scaled_transformed)\n",
    "\n",
    "    sse[k] = clustering_model.inertia_"
   ]
  },
  {
   "cell_type": "code",
   "execution_count": 83,
   "metadata": {},
   "outputs": [
    {
     "data": {
      "image/png": "[encoded data removed]",
      "text/plain": [
       "<Figure size 1600x800 with 1 Axes>"
      ]
     },
     "metadata": {},
     "output_type": "display_data"
    }
   ],
   "source": [
    "fig = plt.figure(figsize = (16, 8))\n",
    "ax = fig.add_subplot()\n",
    "\n",
    "x_values = list(sse.keys())\n",
    "y_values = list(sse.values())\n",
    "\n",
    "ax.plot(x_values, y_values, label = \"Inertia/dispersión de los clústers\")\n",
    "fig.suptitle(\"Variación de la dispersión de los clústers en función de la k\", fontsize = 16);"
   ]
  },
  {
   "cell_type": "markdown",
   "metadata": {},
   "source": [
    "### Aplicación de Kmeans con k=7"
   ]
  },
  {
   "cell_type": "code",
   "execution_count": 114,
   "metadata": {},
   "outputs": [],
   "source": [
    "pipe_KMeans = Pipeline(steps = [\n",
    "    (\"Clustering\", KMeans(n_clusters = 7, random_state = 175))\n",
    "])"
   ]
  },
  {
   "cell_type": "code",
   "execution_count": 115,
   "metadata": {},
   "outputs": [
    {
     "data": {
      "text/html": [
       "<style>#sk-container-id-6 {color: black;}#sk-container-id-6 pre{padding: 0;}#sk-container-id-6 div.sk-toggleable {background-color: white;}#sk-container-id-6 label.sk-toggleable__label {cursor: pointer;display: block;width: 100%;margin-bottom: 0;padding: 0.3em;box-sizing: border-box;text-align: center;}#sk-container-id-6 label.sk-toggleable__label-arrow:before {content: \"▸\";float: left;margin-right: 0.25em;color: #696969;}#sk-container-id-6 label.sk-toggleable__label-arrow:hover:before {color: black;}#sk-container-id-6 div.sk-estimator:hover label.sk-toggleable__label-arrow:before {color: black;}#sk-container-id-6 div.sk-toggleable__content {max-height: 0;max-width: 0;overflow: hidden;text-align: left;background-color: #f0f8ff;}#sk-container-id-6 div.sk-toggleable__content pre {margin: 0.2em;color: black;border-radius: 0.25em;background-color: #f0f8ff;}#sk-container-id-6 input.sk-toggleable__control:checked~div.sk-toggleable__content {max-height: 200px;max-width: 100%;overflow: auto;}#sk-container-id-6 input.sk-toggleable__control:checked~label.sk-toggleable__label-arrow:before {content: \"▾\";}#sk-container-id-6 div.sk-estimator input.sk-toggleable__control:checked~label.sk-toggleable__label {background-color: #d4ebff;}#sk-container-id-6 div.sk-label input.sk-toggleable__control:checked~label.sk-toggleable__label {background-color: #d4ebff;}#sk-container-id-6 input.sk-hidden--visually {border: 0;clip: rect(1px 1px 1px 1px);clip: rect(1px, 1px, 1px, 1px);height: 1px;margin: -1px;overflow: hidden;padding: 0;position: absolute;width: 1px;}#sk-container-id-6 div.sk-estimator {font-family: monospace;background-color: #f0f8ff;border: 1px dotted black;border-radius: 0.25em;box-sizing: border-box;margin-bottom: 0.5em;}#sk-container-id-6 div.sk-estimator:hover {background-color: #d4ebff;}#sk-container-id-6 div.sk-parallel-item::after {content: \"\";width: 100%;border-bottom: 1px solid gray;flex-grow: 1;}#sk-container-id-6 div.sk-label:hover label.sk-toggleable__label {background-color: #d4ebff;}#sk-container-id-6 div.sk-serial::before {content: \"\";position: absolute;border-left: 1px solid gray;box-sizing: border-box;top: 0;bottom: 0;left: 50%;z-index: 0;}#sk-container-id-6 div.sk-serial {display: flex;flex-direction: column;align-items: center;background-color: white;padding-right: 0.2em;padding-left: 0.2em;position: relative;}#sk-container-id-6 div.sk-item {position: relative;z-index: 1;}#sk-container-id-6 div.sk-parallel {display: flex;align-items: stretch;justify-content: center;background-color: white;position: relative;}#sk-container-id-6 div.sk-item::before, #sk-container-id-6 div.sk-parallel-item::before {content: \"\";position: absolute;border-left: 1px solid gray;box-sizing: border-box;top: 0;bottom: 0;left: 50%;z-index: -1;}#sk-container-id-6 div.sk-parallel-item {display: flex;flex-direction: column;z-index: 1;position: relative;background-color: white;}#sk-container-id-6 div.sk-parallel-item:first-child::after {align-self: flex-end;width: 50%;}#sk-container-id-6 div.sk-parallel-item:last-child::after {align-self: flex-start;width: 50%;}#sk-container-id-6 div.sk-parallel-item:only-child::after {width: 0;}#sk-container-id-6 div.sk-dashed-wrapped {border: 1px dashed gray;margin: 0 0.4em 0.5em 0.4em;box-sizing: border-box;padding-bottom: 0.4em;background-color: white;}#sk-container-id-6 div.sk-label label {font-family: monospace;font-weight: bold;display: inline-block;line-height: 1.2em;}#sk-container-id-6 div.sk-label-container {text-align: center;}#sk-container-id-6 div.sk-container {/* jupyter's `normalize.less` sets `[hidden] { display: none; }` but bootstrap.min.css set `[hidden] { display: none !important; }` so we also need the `!important` here to be able to override the default hidden behavior on the sphinx rendered scikit-learn.org. See: https://github.com/scikit-learn/scikit-learn/issues/21755 */display: inline-block !important;position: relative;}#sk-container-id-6 div.sk-text-repr-fallback {display: none;}</style><div id=\"sk-container-id-6\" class=\"sk-top-container\"><div class=\"sk-text-repr-fallback\"><pre>Pipeline(steps=[(&#x27;Clustering&#x27;, KMeans(n_clusters=7, random_state=175))])</pre><b>In a Jupyter environment, please rerun this cell to show the HTML representation or trust the notebook. <br />On GitHub, the HTML representation is unable to render, please try loading this page with nbviewer.org.</b></div><div class=\"sk-container\" hidden><div class=\"sk-item sk-dashed-wrapped\"><div class=\"sk-label-container\"><div class=\"sk-label sk-toggleable\"><input class=\"sk-toggleable__control sk-hidden--visually\" id=\"sk-estimator-id-41\" type=\"checkbox\" ><label for=\"sk-estimator-id-41\" class=\"sk-toggleable__label sk-toggleable__label-arrow\">Pipeline</label><div class=\"sk-toggleable__content\"><pre>Pipeline(steps=[(&#x27;Clustering&#x27;, KMeans(n_clusters=7, random_state=175))])</pre></div></div></div><div class=\"sk-serial\"><div class=\"sk-item\"><div class=\"sk-estimator sk-toggleable\"><input class=\"sk-toggleable__control sk-hidden--visually\" id=\"sk-estimator-id-42\" type=\"checkbox\" ><label for=\"sk-estimator-id-42\" class=\"sk-toggleable__label sk-toggleable__label-arrow\">KMeans</label><div class=\"sk-toggleable__content\"><pre>KMeans(n_clusters=7, random_state=175)</pre></div></div></div></div></div></div></div>"
      ],
      "text/plain": [
       "Pipeline(steps=[('Clustering', KMeans(n_clusters=7, random_state=175))])"
      ]
     },
     "execution_count": 115,
     "metadata": {},
     "output_type": "execute_result"
    }
   ],
   "source": [
    "pipe_KMeans.fit(df_capstone_clean_2_last_partition_for_cluster_scaled_transformed)"
   ]
  },
  {
   "cell_type": "code",
   "execution_count": 116,
   "metadata": {},
   "outputs": [
    {
     "data": {
      "text/plain": [
       "(7, 20)"
      ]
     },
     "execution_count": 116,
     "metadata": {},
     "output_type": "execute_result"
    }
   ],
   "source": [
    "pipe_KMeans[0].cluster_centers_.shape"
   ]
  },
  {
   "cell_type": "code",
   "execution_count": 117,
   "metadata": {},
   "outputs": [
    {
     "data": {
      "text/plain": [
       "array([-4.39578929e-15, -4.01900735e-14,  1.00000000e+00, -9.11922655e-03,\n",
       "        1.79200336e-03,  8.23379654e-04,  4.60012866e-01, -2.86402157e-03,\n",
       "        2.68615021e-05,  8.95383405e-06, -4.94699330e-03,  1.99222807e-03,\n",
       "       -3.93968697e-04,  2.56769948e-01,  6.77357545e-03,  1.79483673e-03,\n",
       "        8.95383405e-06, -2.82941155e-03,  1.24844066e-02, -5.50232603e-17])"
      ]
     },
     "execution_count": 117,
     "metadata": {},
     "output_type": "execute_result"
    }
   ],
   "source": [
    "pipe_KMeans[0].cluster_centers_[0]"
   ]
  },
  {
   "cell_type": "code",
   "execution_count": 118,
   "metadata": {},
   "outputs": [],
   "source": [
    "X_results = pipe_KMeans.transform(df_capstone_clean_2_last_partition_for_cluster_scaled_transformed)"
   ]
  },
  {
   "cell_type": "code",
   "execution_count": 119,
   "metadata": {},
   "outputs": [
    {
     "data": {
      "text/html": [
       "<div>\n",
       "<style scoped>\n",
       "    .dataframe tbody tr th:only-of-type {\n",
       "        vertical-align: middle;\n",
       "    }\n",
       "\n",
       "    .dataframe tbody tr th {\n",
       "        vertical-align: top;\n",
       "    }\n",
       "\n",
       "    .dataframe thead th {\n",
       "        text-align: right;\n",
       "    }\n",
       "</style>\n",
       "<table border=\"1\" class=\"dataframe\">\n",
       "  <thead>\n",
       "    <tr style=\"text-align: right;\">\n",
       "      <th></th>\n",
       "      <th>kmeans0</th>\n",
       "      <th>kmeans1</th>\n",
       "      <th>kmeans2</th>\n",
       "      <th>kmeans3</th>\n",
       "      <th>kmeans4</th>\n",
       "      <th>kmeans5</th>\n",
       "      <th>kmeans6</th>\n",
       "    </tr>\n",
       "  </thead>\n",
       "  <tbody>\n",
       "    <tr>\n",
       "      <th>16063</th>\n",
       "      <td>2.096213</td>\n",
       "      <td>2.548021</td>\n",
       "      <td>0.951245</td>\n",
       "      <td>1.694074</td>\n",
       "      <td>1.851173</td>\n",
       "      <td>0.978076</td>\n",
       "      <td>1.780613</td>\n",
       "    </tr>\n",
       "    <tr>\n",
       "      <th>16203</th>\n",
       "      <td>2.162669</td>\n",
       "      <td>2.472589</td>\n",
       "      <td>1.889175</td>\n",
       "      <td>1.960696</td>\n",
       "      <td>1.833791</td>\n",
       "      <td>1.553048</td>\n",
       "      <td>1.951159</td>\n",
       "    </tr>\n",
       "    <tr>\n",
       "      <th>16502</th>\n",
       "      <td>2.274964</td>\n",
       "      <td>2.137798</td>\n",
       "      <td>1.742387</td>\n",
       "      <td>1.532793</td>\n",
       "      <td>1.935788</td>\n",
       "      <td>1.002142</td>\n",
       "      <td>2.240984</td>\n",
       "    </tr>\n",
       "  </tbody>\n",
       "</table>\n",
       "</div>"
      ],
      "text/plain": [
       "        kmeans0   kmeans1   kmeans2   kmeans3   kmeans4   kmeans5   kmeans6\n",
       "16063  2.096213  2.548021  0.951245  1.694074  1.851173  0.978076  1.780613\n",
       "16203  2.162669  2.472589  1.889175  1.960696  1.833791  1.553048  1.951159\n",
       "16502  2.274964  2.137798  1.742387  1.532793  1.935788  1.002142  2.240984"
      ]
     },
     "execution_count": 119,
     "metadata": {},
     "output_type": "execute_result"
    }
   ],
   "source": [
    "X_results.head(3)"
   ]
  },
  {
   "cell_type": "code",
   "execution_count": 120,
   "metadata": {},
   "outputs": [],
   "source": [
    "labels = pipe_KMeans.predict(df_capstone_clean_2_last_partition_for_cluster_scaled_transformed)"
   ]
  },
  {
   "cell_type": "code",
   "execution_count": 121,
   "metadata": {},
   "outputs": [
    {
     "data": {
      "text/plain": [
       "442995"
      ]
     },
     "execution_count": 121,
     "metadata": {},
     "output_type": "execute_result"
    }
   ],
   "source": [
    "len(labels)"
   ]
  },
  {
   "cell_type": "code",
   "execution_count": 122,
   "metadata": {},
   "outputs": [],
   "source": [
    "df_capstone_clean_2_last_partition_for_cluster_with_labels = df_capstone_clean_2_last_partition_for_cluster"
   ]
  },
  {
   "cell_type": "code",
   "execution_count": 123,
   "metadata": {},
   "outputs": [
    {
     "data": {
      "text/html": [
       "<style>#sk-container-id-7 {color: black;}#sk-container-id-7 pre{padding: 0;}#sk-container-id-7 div.sk-toggleable {background-color: white;}#sk-container-id-7 label.sk-toggleable__label {cursor: pointer;display: block;width: 100%;margin-bottom: 0;padding: 0.3em;box-sizing: border-box;text-align: center;}#sk-container-id-7 label.sk-toggleable__label-arrow:before {content: \"▸\";float: left;margin-right: 0.25em;color: #696969;}#sk-container-id-7 label.sk-toggleable__label-arrow:hover:before {color: black;}#sk-container-id-7 div.sk-estimator:hover label.sk-toggleable__label-arrow:before {color: black;}#sk-container-id-7 div.sk-toggleable__content {max-height: 0;max-width: 0;overflow: hidden;text-align: left;background-color: #f0f8ff;}#sk-container-id-7 div.sk-toggleable__content pre {margin: 0.2em;color: black;border-radius: 0.25em;background-color: #f0f8ff;}#sk-container-id-7 input.sk-toggleable__control:checked~div.sk-toggleable__content {max-height: 200px;max-width: 100%;overflow: auto;}#sk-container-id-7 input.sk-toggleable__control:checked~label.sk-toggleable__label-arrow:before {content: \"▾\";}#sk-container-id-7 div.sk-estimator input.sk-toggleable__control:checked~label.sk-toggleable__label {background-color: #d4ebff;}#sk-container-id-7 div.sk-label input.sk-toggleable__control:checked~label.sk-toggleable__label {background-color: #d4ebff;}#sk-container-id-7 input.sk-hidden--visually {border: 0;clip: rect(1px 1px 1px 1px);clip: rect(1px, 1px, 1px, 1px);height: 1px;margin: -1px;overflow: hidden;padding: 0;position: absolute;width: 1px;}#sk-container-id-7 div.sk-estimator {font-family: monospace;background-color: #f0f8ff;border: 1px dotted black;border-radius: 0.25em;box-sizing: border-box;margin-bottom: 0.5em;}#sk-container-id-7 div.sk-estimator:hover {background-color: #d4ebff;}#sk-container-id-7 div.sk-parallel-item::after {content: \"\";width: 100%;border-bottom: 1px solid gray;flex-grow: 1;}#sk-container-id-7 div.sk-label:hover label.sk-toggleable__label {background-color: #d4ebff;}#sk-container-id-7 div.sk-serial::before {content: \"\";position: absolute;border-left: 1px solid gray;box-sizing: border-box;top: 0;bottom: 0;left: 50%;z-index: 0;}#sk-container-id-7 div.sk-serial {display: flex;flex-direction: column;align-items: center;background-color: white;padding-right: 0.2em;padding-left: 0.2em;position: relative;}#sk-container-id-7 div.sk-item {position: relative;z-index: 1;}#sk-container-id-7 div.sk-parallel {display: flex;align-items: stretch;justify-content: center;background-color: white;position: relative;}#sk-container-id-7 div.sk-item::before, #sk-container-id-7 div.sk-parallel-item::before {content: \"\";position: absolute;border-left: 1px solid gray;box-sizing: border-box;top: 0;bottom: 0;left: 50%;z-index: -1;}#sk-container-id-7 div.sk-parallel-item {display: flex;flex-direction: column;z-index: 1;position: relative;background-color: white;}#sk-container-id-7 div.sk-parallel-item:first-child::after {align-self: flex-end;width: 50%;}#sk-container-id-7 div.sk-parallel-item:last-child::after {align-self: flex-start;width: 50%;}#sk-container-id-7 div.sk-parallel-item:only-child::after {width: 0;}#sk-container-id-7 div.sk-dashed-wrapped {border: 1px dashed gray;margin: 0 0.4em 0.5em 0.4em;box-sizing: border-box;padding-bottom: 0.4em;background-color: white;}#sk-container-id-7 div.sk-label label {font-family: monospace;font-weight: bold;display: inline-block;line-height: 1.2em;}#sk-container-id-7 div.sk-label-container {text-align: center;}#sk-container-id-7 div.sk-container {/* jupyter's `normalize.less` sets `[hidden] { display: none; }` but bootstrap.min.css set `[hidden] { display: none !important; }` so we also need the `!important` here to be able to override the default hidden behavior on the sphinx rendered scikit-learn.org. See: https://github.com/scikit-learn/scikit-learn/issues/21755 */display: inline-block !important;position: relative;}#sk-container-id-7 div.sk-text-repr-fallback {display: none;}</style><div id=\"sk-container-id-7\" class=\"sk-top-container\"><div class=\"sk-text-repr-fallback\"><pre>Pipeline(steps=[(&#x27;scaler&#x27;,\n",
       "                 ColumnTransformer(remainder=&#x27;passthrough&#x27;,\n",
       "                                   transformers=[(&#x27;scale_numeric_columns&#x27;,\n",
       "                                                  RobustScaler(quantile_range=(10.0,\n",
       "                                                                               99.0)),\n",
       "                                                  [&#x27;age&#x27;,\n",
       "                                                   &#x27;financial_health_score&#x27;,\n",
       "                                                   &#x27;total_profit_customer&#x27;,\n",
       "                                                   &#x27;months_from_last_purchase&#x27;,\n",
       "                                                   &#x27;product_mix_diversity&#x27;,\n",
       "                                                   &#x27;nr_financing_60&#x27;,\n",
       "                                                   &#x27;nr_invest_savings_40&#x27;,\n",
       "                                                   &#x27;nr_account_10&#x27;, &#x27;nr_debt&#x27;,\n",
       "                                                   &#x27;nr_product_trend&#x27;,\n",
       "                                                   &#x27;customer_tenure&#x27;,\n",
       "                                                   &#x27;nr_product_gap_to_max&#x27;,\n",
       "                                                   &#x27;nr_transactions&#x27;,\n",
       "                                                   &#x27;saving_behavior&#x27;,\n",
       "                                                   &#x27;risk_index_absolute&#x27;,\n",
       "                                                   &#x27;active_customer_rate&#x27;])],\n",
       "                                   verbose_feature_names_out=False)),\n",
       "                (&#x27;encoder&#x27;,\n",
       "                 ColumnTransformer(remainder=&#x27;passthrough&#x27;,\n",
       "                                   transformers=[(&#x27;oe_cat&#x27;,\n",
       "                                                  OneHotEncoder(handle_unknown=&#x27;ignore&#x27;,\n",
       "                                                                sparse_output=False),\n",
       "                                                  [&#x27;segment&#x27;])],\n",
       "                                   verbose_feature_names_out=False))])</pre><b>In a Jupyter environment, please rerun this cell to show the HTML representation or trust the notebook. <br />On GitHub, the HTML representation is unable to render, please try loading this page with nbviewer.org.</b></div><div class=\"sk-container\" hidden><div class=\"sk-item sk-dashed-wrapped\"><div class=\"sk-label-container\"><div class=\"sk-label sk-toggleable\"><input class=\"sk-toggleable__control sk-hidden--visually\" id=\"sk-estimator-id-43\" type=\"checkbox\" ><label for=\"sk-estimator-id-43\" class=\"sk-toggleable__label sk-toggleable__label-arrow\">Pipeline</label><div class=\"sk-toggleable__content\"><pre>Pipeline(steps=[(&#x27;scaler&#x27;,\n",
       "                 ColumnTransformer(remainder=&#x27;passthrough&#x27;,\n",
       "                                   transformers=[(&#x27;scale_numeric_columns&#x27;,\n",
       "                                                  RobustScaler(quantile_range=(10.0,\n",
       "                                                                               99.0)),\n",
       "                                                  [&#x27;age&#x27;,\n",
       "                                                   &#x27;financial_health_score&#x27;,\n",
       "                                                   &#x27;total_profit_customer&#x27;,\n",
       "                                                   &#x27;months_from_last_purchase&#x27;,\n",
       "                                                   &#x27;product_mix_diversity&#x27;,\n",
       "                                                   &#x27;nr_financing_60&#x27;,\n",
       "                                                   &#x27;nr_invest_savings_40&#x27;,\n",
       "                                                   &#x27;nr_account_10&#x27;, &#x27;nr_debt&#x27;,\n",
       "                                                   &#x27;nr_product_trend&#x27;,\n",
       "                                                   &#x27;customer_tenure&#x27;,\n",
       "                                                   &#x27;nr_product_gap_to_max&#x27;,\n",
       "                                                   &#x27;nr_transactions&#x27;,\n",
       "                                                   &#x27;saving_behavior&#x27;,\n",
       "                                                   &#x27;risk_index_absolute&#x27;,\n",
       "                                                   &#x27;active_customer_rate&#x27;])],\n",
       "                                   verbose_feature_names_out=False)),\n",
       "                (&#x27;encoder&#x27;,\n",
       "                 ColumnTransformer(remainder=&#x27;passthrough&#x27;,\n",
       "                                   transformers=[(&#x27;oe_cat&#x27;,\n",
       "                                                  OneHotEncoder(handle_unknown=&#x27;ignore&#x27;,\n",
       "                                                                sparse_output=False),\n",
       "                                                  [&#x27;segment&#x27;])],\n",
       "                                   verbose_feature_names_out=False))])</pre></div></div></div><div class=\"sk-serial\"><div class=\"sk-item sk-dashed-wrapped\"><div class=\"sk-label-container\"><div class=\"sk-label sk-toggleable\"><input class=\"sk-toggleable__control sk-hidden--visually\" id=\"sk-estimator-id-44\" type=\"checkbox\" ><label for=\"sk-estimator-id-44\" class=\"sk-toggleable__label sk-toggleable__label-arrow\">scaler: ColumnTransformer</label><div class=\"sk-toggleable__content\"><pre>ColumnTransformer(remainder=&#x27;passthrough&#x27;,\n",
       "                  transformers=[(&#x27;scale_numeric_columns&#x27;,\n",
       "                                 RobustScaler(quantile_range=(10.0, 99.0)),\n",
       "                                 [&#x27;age&#x27;, &#x27;financial_health_score&#x27;,\n",
       "                                  &#x27;total_profit_customer&#x27;,\n",
       "                                  &#x27;months_from_last_purchase&#x27;,\n",
       "                                  &#x27;product_mix_diversity&#x27;, &#x27;nr_financing_60&#x27;,\n",
       "                                  &#x27;nr_invest_savings_40&#x27;, &#x27;nr_account_10&#x27;,\n",
       "                                  &#x27;nr_debt&#x27;, &#x27;nr_product_trend&#x27;,\n",
       "                                  &#x27;customer_tenure&#x27;, &#x27;nr_product_gap_to_max&#x27;,\n",
       "                                  &#x27;nr_transactions&#x27;, &#x27;saving_behavior&#x27;,\n",
       "                                  &#x27;risk_index_absolute&#x27;,\n",
       "                                  &#x27;active_customer_rate&#x27;])],\n",
       "                  verbose_feature_names_out=False)</pre></div></div></div><div class=\"sk-parallel\"><div class=\"sk-parallel-item\"><div class=\"sk-item\"><div class=\"sk-label-container\"><div class=\"sk-label sk-toggleable\"><input class=\"sk-toggleable__control sk-hidden--visually\" id=\"sk-estimator-id-45\" type=\"checkbox\" ><label for=\"sk-estimator-id-45\" class=\"sk-toggleable__label sk-toggleable__label-arrow\">scale_numeric_columns</label><div class=\"sk-toggleable__content\"><pre>[&#x27;age&#x27;, &#x27;financial_health_score&#x27;, &#x27;total_profit_customer&#x27;, &#x27;months_from_last_purchase&#x27;, &#x27;product_mix_diversity&#x27;, &#x27;nr_financing_60&#x27;, &#x27;nr_invest_savings_40&#x27;, &#x27;nr_account_10&#x27;, &#x27;nr_debt&#x27;, &#x27;nr_product_trend&#x27;, &#x27;customer_tenure&#x27;, &#x27;nr_product_gap_to_max&#x27;, &#x27;nr_transactions&#x27;, &#x27;saving_behavior&#x27;, &#x27;risk_index_absolute&#x27;, &#x27;active_customer_rate&#x27;]</pre></div></div></div><div class=\"sk-serial\"><div class=\"sk-item\"><div class=\"sk-estimator sk-toggleable\"><input class=\"sk-toggleable__control sk-hidden--visually\" id=\"sk-estimator-id-46\" type=\"checkbox\" ><label for=\"sk-estimator-id-46\" class=\"sk-toggleable__label sk-toggleable__label-arrow\">RobustScaler</label><div class=\"sk-toggleable__content\"><pre>RobustScaler(quantile_range=(10.0, 99.0))</pre></div></div></div></div></div></div><div class=\"sk-parallel-item\"><div class=\"sk-item\"><div class=\"sk-label-container\"><div class=\"sk-label sk-toggleable\"><input class=\"sk-toggleable__control sk-hidden--visually\" id=\"sk-estimator-id-47\" type=\"checkbox\" ><label for=\"sk-estimator-id-47\" class=\"sk-toggleable__label sk-toggleable__label-arrow\">remainder</label><div class=\"sk-toggleable__content\"><pre>[&#x27;segment&#x27;, &#x27;loan_utilization_index&#x27;]</pre></div></div></div><div class=\"sk-serial\"><div class=\"sk-item\"><div class=\"sk-estimator sk-toggleable\"><input class=\"sk-toggleable__control sk-hidden--visually\" id=\"sk-estimator-id-48\" type=\"checkbox\" ><label for=\"sk-estimator-id-48\" class=\"sk-toggleable__label sk-toggleable__label-arrow\">passthrough</label><div class=\"sk-toggleable__content\"><pre>passthrough</pre></div></div></div></div></div></div></div></div><div class=\"sk-item sk-dashed-wrapped\"><div class=\"sk-label-container\"><div class=\"sk-label sk-toggleable\"><input class=\"sk-toggleable__control sk-hidden--visually\" id=\"sk-estimator-id-49\" type=\"checkbox\" ><label for=\"sk-estimator-id-49\" class=\"sk-toggleable__label sk-toggleable__label-arrow\">encoder: ColumnTransformer</label><div class=\"sk-toggleable__content\"><pre>ColumnTransformer(remainder=&#x27;passthrough&#x27;,\n",
       "                  transformers=[(&#x27;oe_cat&#x27;,\n",
       "                                 OneHotEncoder(handle_unknown=&#x27;ignore&#x27;,\n",
       "                                               sparse_output=False),\n",
       "                                 [&#x27;segment&#x27;])],\n",
       "                  verbose_feature_names_out=False)</pre></div></div></div><div class=\"sk-parallel\"><div class=\"sk-parallel-item\"><div class=\"sk-item\"><div class=\"sk-label-container\"><div class=\"sk-label sk-toggleable\"><input class=\"sk-toggleable__control sk-hidden--visually\" id=\"sk-estimator-id-50\" type=\"checkbox\" ><label for=\"sk-estimator-id-50\" class=\"sk-toggleable__label sk-toggleable__label-arrow\">oe_cat</label><div class=\"sk-toggleable__content\"><pre>[&#x27;segment&#x27;]</pre></div></div></div><div class=\"sk-serial\"><div class=\"sk-item\"><div class=\"sk-estimator sk-toggleable\"><input class=\"sk-toggleable__control sk-hidden--visually\" id=\"sk-estimator-id-51\" type=\"checkbox\" ><label for=\"sk-estimator-id-51\" class=\"sk-toggleable__label sk-toggleable__label-arrow\">OneHotEncoder</label><div class=\"sk-toggleable__content\"><pre>OneHotEncoder(handle_unknown=&#x27;ignore&#x27;, sparse_output=False)</pre></div></div></div></div></div></div><div class=\"sk-parallel-item\"><div class=\"sk-item\"><div class=\"sk-label-container\"><div class=\"sk-label sk-toggleable\"><input class=\"sk-toggleable__control sk-hidden--visually\" id=\"sk-estimator-id-52\" type=\"checkbox\" ><label for=\"sk-estimator-id-52\" class=\"sk-toggleable__label sk-toggleable__label-arrow\">remainder</label><div class=\"sk-toggleable__content\"><pre>[&#x27;age&#x27;, &#x27;financial_health_score&#x27;, &#x27;total_profit_customer&#x27;, &#x27;months_from_last_purchase&#x27;, &#x27;product_mix_diversity&#x27;, &#x27;nr_financing_60&#x27;, &#x27;nr_invest_savings_40&#x27;, &#x27;nr_account_10&#x27;, &#x27;nr_debt&#x27;, &#x27;nr_product_trend&#x27;, &#x27;customer_tenure&#x27;, &#x27;nr_product_gap_to_max&#x27;, &#x27;nr_transactions&#x27;, &#x27;saving_behavior&#x27;, &#x27;risk_index_absolute&#x27;, &#x27;active_customer_rate&#x27;, &#x27;loan_utilization_index&#x27;]</pre></div></div></div><div class=\"sk-serial\"><div class=\"sk-item\"><div class=\"sk-estimator sk-toggleable\"><input class=\"sk-toggleable__control sk-hidden--visually\" id=\"sk-estimator-id-53\" type=\"checkbox\" ><label for=\"sk-estimator-id-53\" class=\"sk-toggleable__label sk-toggleable__label-arrow\">passthrough</label><div class=\"sk-toggleable__content\"><pre>passthrough</pre></div></div></div></div></div></div></div></div></div></div></div></div>"
      ],
      "text/plain": [
       "Pipeline(steps=[('scaler',\n",
       "                 ColumnTransformer(remainder='passthrough',\n",
       "                                   transformers=[('scale_numeric_columns',\n",
       "                                                  RobustScaler(quantile_range=(10.0,\n",
       "                                                                               99.0)),\n",
       "                                                  ['age',\n",
       "                                                   'financial_health_score',\n",
       "                                                   'total_profit_customer',\n",
       "                                                   'months_from_last_purchase',\n",
       "                                                   'product_mix_diversity',\n",
       "                                                   'nr_financing_60',\n",
       "                                                   'nr_invest_savings_40',\n",
       "                                                   'nr_account_10', 'nr_debt',\n",
       "                                                   'nr_product_trend',\n",
       "                                                   'customer_tenure',\n",
       "                                                   'nr_product_gap_to_max',\n",
       "                                                   'nr_transactions',\n",
       "                                                   'saving_behavior',\n",
       "                                                   'risk_index_absolute',\n",
       "                                                   'active_customer_rate'])],\n",
       "                                   verbose_feature_names_out=False)),\n",
       "                ('encoder',\n",
       "                 ColumnTransformer(remainder='passthrough',\n",
       "                                   transformers=[('oe_cat',\n",
       "                                                  OneHotEncoder(handle_unknown='ignore',\n",
       "                                                                sparse_output=False),\n",
       "                                                  ['segment'])],\n",
       "                                   verbose_feature_names_out=False))])"
      ]
     },
     "execution_count": 123,
     "metadata": {},
     "output_type": "execute_result"
    }
   ],
   "source": [
    "pipe"
   ]
  },
  {
   "cell_type": "code",
   "execution_count": 124,
   "metadata": {},
   "outputs": [
    {
     "data": {
      "text/html": [
       "<style>#sk-container-id-8 {color: black;}#sk-container-id-8 pre{padding: 0;}#sk-container-id-8 div.sk-toggleable {background-color: white;}#sk-container-id-8 label.sk-toggleable__label {cursor: pointer;display: block;width: 100%;margin-bottom: 0;padding: 0.3em;box-sizing: border-box;text-align: center;}#sk-container-id-8 label.sk-toggleable__label-arrow:before {content: \"▸\";float: left;margin-right: 0.25em;color: #696969;}#sk-container-id-8 label.sk-toggleable__label-arrow:hover:before {color: black;}#sk-container-id-8 div.sk-estimator:hover label.sk-toggleable__label-arrow:before {color: black;}#sk-container-id-8 div.sk-toggleable__content {max-height: 0;max-width: 0;overflow: hidden;text-align: left;background-color: #f0f8ff;}#sk-container-id-8 div.sk-toggleable__content pre {margin: 0.2em;color: black;border-radius: 0.25em;background-color: #f0f8ff;}#sk-container-id-8 input.sk-toggleable__control:checked~div.sk-toggleable__content {max-height: 200px;max-width: 100%;overflow: auto;}#sk-container-id-8 input.sk-toggleable__control:checked~label.sk-toggleable__label-arrow:before {content: \"▾\";}#sk-container-id-8 div.sk-estimator input.sk-toggleable__control:checked~label.sk-toggleable__label {background-color: #d4ebff;}#sk-container-id-8 div.sk-label input.sk-toggleable__control:checked~label.sk-toggleable__label {background-color: #d4ebff;}#sk-container-id-8 input.sk-hidden--visually {border: 0;clip: rect(1px 1px 1px 1px);clip: rect(1px, 1px, 1px, 1px);height: 1px;margin: -1px;overflow: hidden;padding: 0;position: absolute;width: 1px;}#sk-container-id-8 div.sk-estimator {font-family: monospace;background-color: #f0f8ff;border: 1px dotted black;border-radius: 0.25em;box-sizing: border-box;margin-bottom: 0.5em;}#sk-container-id-8 div.sk-estimator:hover {background-color: #d4ebff;}#sk-container-id-8 div.sk-parallel-item::after {content: \"\";width: 100%;border-bottom: 1px solid gray;flex-grow: 1;}#sk-container-id-8 div.sk-label:hover label.sk-toggleable__label {background-color: #d4ebff;}#sk-container-id-8 div.sk-serial::before {content: \"\";position: absolute;border-left: 1px solid gray;box-sizing: border-box;top: 0;bottom: 0;left: 50%;z-index: 0;}#sk-container-id-8 div.sk-serial {display: flex;flex-direction: column;align-items: center;background-color: white;padding-right: 0.2em;padding-left: 0.2em;position: relative;}#sk-container-id-8 div.sk-item {position: relative;z-index: 1;}#sk-container-id-8 div.sk-parallel {display: flex;align-items: stretch;justify-content: center;background-color: white;position: relative;}#sk-container-id-8 div.sk-item::before, #sk-container-id-8 div.sk-parallel-item::before {content: \"\";position: absolute;border-left: 1px solid gray;box-sizing: border-box;top: 0;bottom: 0;left: 50%;z-index: -1;}#sk-container-id-8 div.sk-parallel-item {display: flex;flex-direction: column;z-index: 1;position: relative;background-color: white;}#sk-container-id-8 div.sk-parallel-item:first-child::after {align-self: flex-end;width: 50%;}#sk-container-id-8 div.sk-parallel-item:last-child::after {align-self: flex-start;width: 50%;}#sk-container-id-8 div.sk-parallel-item:only-child::after {width: 0;}#sk-container-id-8 div.sk-dashed-wrapped {border: 1px dashed gray;margin: 0 0.4em 0.5em 0.4em;box-sizing: border-box;padding-bottom: 0.4em;background-color: white;}#sk-container-id-8 div.sk-label label {font-family: monospace;font-weight: bold;display: inline-block;line-height: 1.2em;}#sk-container-id-8 div.sk-label-container {text-align: center;}#sk-container-id-8 div.sk-container {/* jupyter's `normalize.less` sets `[hidden] { display: none; }` but bootstrap.min.css set `[hidden] { display: none !important; }` so we also need the `!important` here to be able to override the default hidden behavior on the sphinx rendered scikit-learn.org. See: https://github.com/scikit-learn/scikit-learn/issues/21755 */display: inline-block !important;position: relative;}#sk-container-id-8 div.sk-text-repr-fallback {display: none;}</style><div id=\"sk-container-id-8\" class=\"sk-top-container\"><div class=\"sk-text-repr-fallback\"><pre>ColumnTransformer(remainder=&#x27;passthrough&#x27;,\n",
       "                  transformers=[(&#x27;oe_cat&#x27;,\n",
       "                                 OneHotEncoder(handle_unknown=&#x27;ignore&#x27;,\n",
       "                                               sparse_output=False),\n",
       "                                 [&#x27;segment&#x27;])],\n",
       "                  verbose_feature_names_out=False)</pre><b>In a Jupyter environment, please rerun this cell to show the HTML representation or trust the notebook. <br />On GitHub, the HTML representation is unable to render, please try loading this page with nbviewer.org.</b></div><div class=\"sk-container\" hidden><div class=\"sk-item sk-dashed-wrapped\"><div class=\"sk-label-container\"><div class=\"sk-label sk-toggleable\"><input class=\"sk-toggleable__control sk-hidden--visually\" id=\"sk-estimator-id-54\" type=\"checkbox\" ><label for=\"sk-estimator-id-54\" class=\"sk-toggleable__label sk-toggleable__label-arrow\">ColumnTransformer</label><div class=\"sk-toggleable__content\"><pre>ColumnTransformer(remainder=&#x27;passthrough&#x27;,\n",
       "                  transformers=[(&#x27;oe_cat&#x27;,\n",
       "                                 OneHotEncoder(handle_unknown=&#x27;ignore&#x27;,\n",
       "                                               sparse_output=False),\n",
       "                                 [&#x27;segment&#x27;])],\n",
       "                  verbose_feature_names_out=False)</pre></div></div></div><div class=\"sk-parallel\"><div class=\"sk-parallel-item\"><div class=\"sk-item\"><div class=\"sk-label-container\"><div class=\"sk-label sk-toggleable\"><input class=\"sk-toggleable__control sk-hidden--visually\" id=\"sk-estimator-id-55\" type=\"checkbox\" ><label for=\"sk-estimator-id-55\" class=\"sk-toggleable__label sk-toggleable__label-arrow\">oe_cat</label><div class=\"sk-toggleable__content\"><pre>[&#x27;segment&#x27;]</pre></div></div></div><div class=\"sk-serial\"><div class=\"sk-item\"><div class=\"sk-estimator sk-toggleable\"><input class=\"sk-toggleable__control sk-hidden--visually\" id=\"sk-estimator-id-56\" type=\"checkbox\" ><label for=\"sk-estimator-id-56\" class=\"sk-toggleable__label sk-toggleable__label-arrow\">OneHotEncoder</label><div class=\"sk-toggleable__content\"><pre>OneHotEncoder(handle_unknown=&#x27;ignore&#x27;, sparse_output=False)</pre></div></div></div></div></div></div><div class=\"sk-parallel-item\"><div class=\"sk-item\"><div class=\"sk-label-container\"><div class=\"sk-label sk-toggleable\"><input class=\"sk-toggleable__control sk-hidden--visually\" id=\"sk-estimator-id-57\" type=\"checkbox\" ><label for=\"sk-estimator-id-57\" class=\"sk-toggleable__label sk-toggleable__label-arrow\">remainder</label><div class=\"sk-toggleable__content\"><pre>[&#x27;age&#x27;, &#x27;financial_health_score&#x27;, &#x27;total_profit_customer&#x27;, &#x27;months_from_last_purchase&#x27;, &#x27;product_mix_diversity&#x27;, &#x27;nr_financing_60&#x27;, &#x27;nr_invest_savings_40&#x27;, &#x27;nr_account_10&#x27;, &#x27;nr_debt&#x27;, &#x27;nr_product_trend&#x27;, &#x27;customer_tenure&#x27;, &#x27;nr_product_gap_to_max&#x27;, &#x27;nr_transactions&#x27;, &#x27;saving_behavior&#x27;, &#x27;risk_index_absolute&#x27;, &#x27;active_customer_rate&#x27;, &#x27;loan_utilization_index&#x27;]</pre></div></div></div><div class=\"sk-serial\"><div class=\"sk-item\"><div class=\"sk-estimator sk-toggleable\"><input class=\"sk-toggleable__control sk-hidden--visually\" id=\"sk-estimator-id-58\" type=\"checkbox\" ><label for=\"sk-estimator-id-58\" class=\"sk-toggleable__label sk-toggleable__label-arrow\">passthrough</label><div class=\"sk-toggleable__content\"><pre>passthrough</pre></div></div></div></div></div></div></div></div></div></div>"
      ],
      "text/plain": [
       "ColumnTransformer(remainder='passthrough',\n",
       "                  transformers=[('oe_cat',\n",
       "                                 OneHotEncoder(handle_unknown='ignore',\n",
       "                                               sparse_output=False),\n",
       "                                 ['segment'])],\n",
       "                  verbose_feature_names_out=False)"
      ]
     },
     "execution_count": 124,
     "metadata": {},
     "output_type": "execute_result"
    }
   ],
   "source": [
    "pipe[1]"
   ]
  },
  {
   "cell_type": "code",
   "execution_count": 125,
   "metadata": {},
   "outputs": [],
   "source": [
    "df_capstone_clean_2_last_partition_for_cluster_with_labels = pipe[1].transform(df_capstone_clean_2_last_partition_for_cluster_with_labels)"
   ]
  },
  {
   "cell_type": "code",
   "execution_count": 126,
   "metadata": {},
   "outputs": [],
   "source": [
    "# le asignamos al DataFrame procesado el clúster.\n",
    "# si lo hacemos al df escalado será más díficil de interpretar los resultados porque los números están escalados\n",
    "\n",
    "df_capstone_clean_2_last_partition_for_cluster_with_labels[\"cluster\"] = labels"
   ]
  },
  {
   "cell_type": "code",
   "execution_count": 127,
   "metadata": {},
   "outputs": [
    {
     "data": {
      "text/html": [
       "<div>\n",
       "<style scoped>\n",
       "    .dataframe tbody tr th:only-of-type {\n",
       "        vertical-align: middle;\n",
       "    }\n",
       "\n",
       "    .dataframe tbody tr th {\n",
       "        vertical-align: top;\n",
       "    }\n",
       "\n",
       "    .dataframe thead th {\n",
       "        text-align: right;\n",
       "    }\n",
       "</style>\n",
       "<table border=\"1\" class=\"dataframe\">\n",
       "  <thead>\n",
       "    <tr style=\"text-align: right;\">\n",
       "      <th></th>\n",
       "      <th>segment_01 - TOP</th>\n",
       "      <th>segment_02 - PARTICULARES</th>\n",
       "      <th>segment_03 - UNIVERSITARIO</th>\n",
       "      <th>age</th>\n",
       "      <th>financial_health_score</th>\n",
       "      <th>total_profit_customer</th>\n",
       "      <th>months_from_last_purchase</th>\n",
       "      <th>product_mix_diversity</th>\n",
       "      <th>nr_financing_60</th>\n",
       "      <th>nr_invest_savings_40</th>\n",
       "      <th>nr_account_10</th>\n",
       "      <th>nr_debt</th>\n",
       "      <th>nr_product_trend</th>\n",
       "      <th>customer_tenure</th>\n",
       "      <th>nr_product_gap_to_max</th>\n",
       "      <th>nr_transactions</th>\n",
       "      <th>saving_behavior</th>\n",
       "      <th>risk_index_absolute</th>\n",
       "      <th>active_customer_rate</th>\n",
       "      <th>loan_utilization_index</th>\n",
       "      <th>cluster</th>\n",
       "    </tr>\n",
       "  </thead>\n",
       "  <tbody>\n",
       "    <tr>\n",
       "      <th>16063</th>\n",
       "      <td>0.0</td>\n",
       "      <td>1.0</td>\n",
       "      <td>0.0</td>\n",
       "      <td>62</td>\n",
       "      <td>0.001765</td>\n",
       "      <td>0.0</td>\n",
       "      <td>6</td>\n",
       "      <td>0.000000</td>\n",
       "      <td>0</td>\n",
       "      <td>0</td>\n",
       "      <td>0</td>\n",
       "      <td>0</td>\n",
       "      <td>0.0</td>\n",
       "      <td>190</td>\n",
       "      <td>0</td>\n",
       "      <td>0.0</td>\n",
       "      <td>0</td>\n",
       "      <td>0</td>\n",
       "      <td>0.714286</td>\n",
       "      <td>0</td>\n",
       "      <td>2</td>\n",
       "    </tr>\n",
       "    <tr>\n",
       "      <th>16203</th>\n",
       "      <td>1.0</td>\n",
       "      <td>0.0</td>\n",
       "      <td>0.0</td>\n",
       "      <td>70</td>\n",
       "      <td>0.002249</td>\n",
       "      <td>10.0</td>\n",
       "      <td>4</td>\n",
       "      <td>0.083333</td>\n",
       "      <td>0</td>\n",
       "      <td>0</td>\n",
       "      <td>1</td>\n",
       "      <td>0</td>\n",
       "      <td>0.0</td>\n",
       "      <td>156</td>\n",
       "      <td>0</td>\n",
       "      <td>1.0</td>\n",
       "      <td>0</td>\n",
       "      <td>1</td>\n",
       "      <td>0.833333</td>\n",
       "      <td>0</td>\n",
       "      <td>5</td>\n",
       "    </tr>\n",
       "    <tr>\n",
       "      <th>16502</th>\n",
       "      <td>0.0</td>\n",
       "      <td>1.0</td>\n",
       "      <td>0.0</td>\n",
       "      <td>58</td>\n",
       "      <td>0.001671</td>\n",
       "      <td>20.0</td>\n",
       "      <td>4</td>\n",
       "      <td>0.166667</td>\n",
       "      <td>0</td>\n",
       "      <td>0</td>\n",
       "      <td>2</td>\n",
       "      <td>0</td>\n",
       "      <td>0.0</td>\n",
       "      <td>240</td>\n",
       "      <td>0</td>\n",
       "      <td>2.0</td>\n",
       "      <td>0</td>\n",
       "      <td>3</td>\n",
       "      <td>0.888889</td>\n",
       "      <td>0</td>\n",
       "      <td>5</td>\n",
       "    </tr>\n",
       "    <tr>\n",
       "      <th>17457</th>\n",
       "      <td>0.0</td>\n",
       "      <td>1.0</td>\n",
       "      <td>0.0</td>\n",
       "      <td>54</td>\n",
       "      <td>0.168439</td>\n",
       "      <td>340.0</td>\n",
       "      <td>0</td>\n",
       "      <td>0.205556</td>\n",
       "      <td>1</td>\n",
       "      <td>1</td>\n",
       "      <td>1</td>\n",
       "      <td>1</td>\n",
       "      <td>1.0</td>\n",
       "      <td>619</td>\n",
       "      <td>0</td>\n",
       "      <td>11.0</td>\n",
       "      <td>1</td>\n",
       "      <td>1</td>\n",
       "      <td>1.000000</td>\n",
       "      <td>0</td>\n",
       "      <td>1</td>\n",
       "    </tr>\n",
       "    <tr>\n",
       "      <th>17590</th>\n",
       "      <td>0.0</td>\n",
       "      <td>1.0</td>\n",
       "      <td>0.0</td>\n",
       "      <td>55</td>\n",
       "      <td>0.007048</td>\n",
       "      <td>0.0</td>\n",
       "      <td>10</td>\n",
       "      <td>0.000000</td>\n",
       "      <td>0</td>\n",
       "      <td>0</td>\n",
       "      <td>0</td>\n",
       "      <td>0</td>\n",
       "      <td>0.0</td>\n",
       "      <td>891</td>\n",
       "      <td>0</td>\n",
       "      <td>0.0</td>\n",
       "      <td>0</td>\n",
       "      <td>0</td>\n",
       "      <td>1.000000</td>\n",
       "      <td>0</td>\n",
       "      <td>5</td>\n",
       "    </tr>\n",
       "  </tbody>\n",
       "</table>\n",
       "</div>"
      ],
      "text/plain": [
       "       segment_01 - TOP  segment_02 - PARTICULARES  \\\n",
       "16063               0.0                        1.0   \n",
       "16203               1.0                        0.0   \n",
       "16502               0.0                        1.0   \n",
       "17457               0.0                        1.0   \n",
       "17590               0.0                        1.0   \n",
       "\n",
       "       segment_03 - UNIVERSITARIO  age  financial_health_score  \\\n",
       "16063                         0.0   62                0.001765   \n",
       "16203                         0.0   70                0.002249   \n",
       "16502                         0.0   58                0.001671   \n",
       "17457                         0.0   54                0.168439   \n",
       "17590                         0.0   55                0.007048   \n",
       "\n",
       "       total_profit_customer  months_from_last_purchase  \\\n",
       "16063                    0.0                          6   \n",
       "16203                   10.0                          4   \n",
       "16502                   20.0                          4   \n",
       "17457                  340.0                          0   \n",
       "17590                    0.0                         10   \n",
       "\n",
       "       product_mix_diversity  nr_financing_60  nr_invest_savings_40  \\\n",
       "16063               0.000000                0                     0   \n",
       "16203               0.083333                0                     0   \n",
       "16502               0.166667                0                     0   \n",
       "17457               0.205556                1                     1   \n",
       "17590               0.000000                0                     0   \n",
       "\n",
       "       nr_account_10  nr_debt  nr_product_trend  customer_tenure  \\\n",
       "16063              0        0               0.0              190   \n",
       "16203              1        0               0.0              156   \n",
       "16502              2        0               0.0              240   \n",
       "17457              1        1               1.0              619   \n",
       "17590              0        0               0.0              891   \n",
       "\n",
       "       nr_product_gap_to_max  nr_transactions  saving_behavior  \\\n",
       "16063                      0              0.0                0   \n",
       "16203                      0              1.0                0   \n",
       "16502                      0              2.0                0   \n",
       "17457                      0             11.0                1   \n",
       "17590                      0              0.0                0   \n",
       "\n",
       "       risk_index_absolute  active_customer_rate  loan_utilization_index  \\\n",
       "16063                    0              0.714286                       0   \n",
       "16203                    1              0.833333                       0   \n",
       "16502                    3              0.888889                       0   \n",
       "17457                    1              1.000000                       0   \n",
       "17590                    0              1.000000                       0   \n",
       "\n",
       "       cluster  \n",
       "16063        2  \n",
       "16203        5  \n",
       "16502        5  \n",
       "17457        1  \n",
       "17590        5  "
      ]
     },
     "execution_count": 127,
     "metadata": {},
     "output_type": "execute_result"
    }
   ],
   "source": [
    "df_capstone_clean_2_last_partition_for_cluster_with_labels.head()"
   ]
  },
  {
   "cell_type": "code",
   "execution_count": 128,
   "metadata": {},
   "outputs": [
    {
     "name": "stdout",
     "output_type": "stream",
     "text": [
      "<class 'pandas.core.frame.DataFrame'>\n",
      "Int64Index: 442995 entries, 16063 to 1553689\n",
      "Data columns (total 21 columns):\n",
      " #   Column                      Non-Null Count   Dtype  \n",
      "---  ------                      --------------   -----  \n",
      " 0   segment_01 - TOP            442995 non-null  float64\n",
      " 1   segment_02 - PARTICULARES   442995 non-null  float64\n",
      " 2   segment_03 - UNIVERSITARIO  442995 non-null  float64\n",
      " 3   age                         442995 non-null  int64  \n",
      " 4   financial_health_score      442995 non-null  float64\n",
      " 5   total_profit_customer       442995 non-null  float64\n",
      " 6   months_from_last_purchase   442995 non-null  int64  \n",
      " 7   product_mix_diversity       442995 non-null  float64\n",
      " 8   nr_financing_60             442995 non-null  int64  \n",
      " 9   nr_invest_savings_40        442995 non-null  int64  \n",
      " 10  nr_account_10               442995 non-null  int64  \n",
      " 11  nr_debt                     442995 non-null  int64  \n",
      " 12  nr_product_trend            442995 non-null  float64\n",
      " 13  customer_tenure             442995 non-null  int64  \n",
      " 14  nr_product_gap_to_max       442995 non-null  int64  \n",
      " 15  nr_transactions             442995 non-null  float64\n",
      " 16  saving_behavior             442995 non-null  int64  \n",
      " 17  risk_index_absolute         442995 non-null  int64  \n",
      " 18  active_customer_rate        442995 non-null  float64\n",
      " 19  loan_utilization_index      442995 non-null  int64  \n",
      " 20  cluster                     442995 non-null  int32  \n",
      "dtypes: float64(9), int32(1), int64(11)\n",
      "memory usage: 72.7 MB\n"
     ]
    }
   ],
   "source": [
    "df_capstone_clean_2_last_partition_for_cluster_with_labels.info()"
   ]
  },
  {
   "cell_type": "code",
   "execution_count": 129,
   "metadata": {},
   "outputs": [
    {
     "data": {
      "text/html": [
       "<div>\n",
       "<style scoped>\n",
       "    .dataframe tbody tr th:only-of-type {\n",
       "        vertical-align: middle;\n",
       "    }\n",
       "\n",
       "    .dataframe tbody tr th {\n",
       "        vertical-align: top;\n",
       "    }\n",
       "\n",
       "    .dataframe thead th {\n",
       "        text-align: right;\n",
       "    }\n",
       "</style>\n",
       "<table border=\"1\" class=\"dataframe\">\n",
       "  <thead>\n",
       "    <tr style=\"text-align: right;\">\n",
       "      <th></th>\n",
       "      <th>segment_01 - TOP</th>\n",
       "      <th>segment_02 - PARTICULARES</th>\n",
       "      <th>segment_03 - UNIVERSITARIO</th>\n",
       "      <th>age</th>\n",
       "      <th>financial_health_score</th>\n",
       "      <th>total_profit_customer</th>\n",
       "      <th>months_from_last_purchase</th>\n",
       "      <th>product_mix_diversity</th>\n",
       "      <th>nr_financing_60</th>\n",
       "      <th>nr_invest_savings_40</th>\n",
       "      <th>nr_account_10</th>\n",
       "      <th>nr_debt</th>\n",
       "      <th>nr_product_trend</th>\n",
       "      <th>customer_tenure</th>\n",
       "      <th>nr_product_gap_to_max</th>\n",
       "      <th>nr_transactions</th>\n",
       "      <th>saving_behavior</th>\n",
       "      <th>risk_index_absolute</th>\n",
       "      <th>active_customer_rate</th>\n",
       "      <th>loan_utilization_index</th>\n",
       "      <th>cluster</th>\n",
       "    </tr>\n",
       "  </thead>\n",
       "  <tbody>\n",
       "    <tr>\n",
       "      <th>16063</th>\n",
       "      <td>0.0</td>\n",
       "      <td>1.0</td>\n",
       "      <td>0.0</td>\n",
       "      <td>62</td>\n",
       "      <td>0.001765</td>\n",
       "      <td>0.0</td>\n",
       "      <td>6</td>\n",
       "      <td>0.000000</td>\n",
       "      <td>0</td>\n",
       "      <td>0</td>\n",
       "      <td>0</td>\n",
       "      <td>0</td>\n",
       "      <td>0.0</td>\n",
       "      <td>190</td>\n",
       "      <td>0</td>\n",
       "      <td>0.0</td>\n",
       "      <td>0</td>\n",
       "      <td>0</td>\n",
       "      <td>0.714286</td>\n",
       "      <td>0</td>\n",
       "      <td>2</td>\n",
       "    </tr>\n",
       "    <tr>\n",
       "      <th>16203</th>\n",
       "      <td>1.0</td>\n",
       "      <td>0.0</td>\n",
       "      <td>0.0</td>\n",
       "      <td>70</td>\n",
       "      <td>0.002249</td>\n",
       "      <td>10.0</td>\n",
       "      <td>4</td>\n",
       "      <td>0.083333</td>\n",
       "      <td>0</td>\n",
       "      <td>0</td>\n",
       "      <td>1</td>\n",
       "      <td>0</td>\n",
       "      <td>0.0</td>\n",
       "      <td>156</td>\n",
       "      <td>0</td>\n",
       "      <td>1.0</td>\n",
       "      <td>0</td>\n",
       "      <td>1</td>\n",
       "      <td>0.833333</td>\n",
       "      <td>0</td>\n",
       "      <td>5</td>\n",
       "    </tr>\n",
       "    <tr>\n",
       "      <th>16502</th>\n",
       "      <td>0.0</td>\n",
       "      <td>1.0</td>\n",
       "      <td>0.0</td>\n",
       "      <td>58</td>\n",
       "      <td>0.001671</td>\n",
       "      <td>20.0</td>\n",
       "      <td>4</td>\n",
       "      <td>0.166667</td>\n",
       "      <td>0</td>\n",
       "      <td>0</td>\n",
       "      <td>2</td>\n",
       "      <td>0</td>\n",
       "      <td>0.0</td>\n",
       "      <td>240</td>\n",
       "      <td>0</td>\n",
       "      <td>2.0</td>\n",
       "      <td>0</td>\n",
       "      <td>3</td>\n",
       "      <td>0.888889</td>\n",
       "      <td>0</td>\n",
       "      <td>5</td>\n",
       "    </tr>\n",
       "    <tr>\n",
       "      <th>17457</th>\n",
       "      <td>0.0</td>\n",
       "      <td>1.0</td>\n",
       "      <td>0.0</td>\n",
       "      <td>54</td>\n",
       "      <td>0.168439</td>\n",
       "      <td>340.0</td>\n",
       "      <td>0</td>\n",
       "      <td>0.205556</td>\n",
       "      <td>1</td>\n",
       "      <td>1</td>\n",
       "      <td>1</td>\n",
       "      <td>1</td>\n",
       "      <td>1.0</td>\n",
       "      <td>619</td>\n",
       "      <td>0</td>\n",
       "      <td>11.0</td>\n",
       "      <td>1</td>\n",
       "      <td>1</td>\n",
       "      <td>1.000000</td>\n",
       "      <td>0</td>\n",
       "      <td>1</td>\n",
       "    </tr>\n",
       "    <tr>\n",
       "      <th>17590</th>\n",
       "      <td>0.0</td>\n",
       "      <td>1.0</td>\n",
       "      <td>0.0</td>\n",
       "      <td>55</td>\n",
       "      <td>0.007048</td>\n",
       "      <td>0.0</td>\n",
       "      <td>10</td>\n",
       "      <td>0.000000</td>\n",
       "      <td>0</td>\n",
       "      <td>0</td>\n",
       "      <td>0</td>\n",
       "      <td>0</td>\n",
       "      <td>0.0</td>\n",
       "      <td>891</td>\n",
       "      <td>0</td>\n",
       "      <td>0.0</td>\n",
       "      <td>0</td>\n",
       "      <td>0</td>\n",
       "      <td>1.000000</td>\n",
       "      <td>0</td>\n",
       "      <td>5</td>\n",
       "    </tr>\n",
       "  </tbody>\n",
       "</table>\n",
       "</div>"
      ],
      "text/plain": [
       "       segment_01 - TOP  segment_02 - PARTICULARES  \\\n",
       "16063               0.0                        1.0   \n",
       "16203               1.0                        0.0   \n",
       "16502               0.0                        1.0   \n",
       "17457               0.0                        1.0   \n",
       "17590               0.0                        1.0   \n",
       "\n",
       "       segment_03 - UNIVERSITARIO  age  financial_health_score  \\\n",
       "16063                         0.0   62                0.001765   \n",
       "16203                         0.0   70                0.002249   \n",
       "16502                         0.0   58                0.001671   \n",
       "17457                         0.0   54                0.168439   \n",
       "17590                         0.0   55                0.007048   \n",
       "\n",
       "       total_profit_customer  months_from_last_purchase  \\\n",
       "16063                    0.0                          6   \n",
       "16203                   10.0                          4   \n",
       "16502                   20.0                          4   \n",
       "17457                  340.0                          0   \n",
       "17590                    0.0                         10   \n",
       "\n",
       "       product_mix_diversity  nr_financing_60  nr_invest_savings_40  \\\n",
       "16063               0.000000                0                     0   \n",
       "16203               0.083333                0                     0   \n",
       "16502               0.166667                0                     0   \n",
       "17457               0.205556                1                     1   \n",
       "17590               0.000000                0                     0   \n",
       "\n",
       "       nr_account_10  nr_debt  nr_product_trend  customer_tenure  \\\n",
       "16063              0        0               0.0              190   \n",
       "16203              1        0               0.0              156   \n",
       "16502              2        0               0.0              240   \n",
       "17457              1        1               1.0              619   \n",
       "17590              0        0               0.0              891   \n",
       "\n",
       "       nr_product_gap_to_max  nr_transactions  saving_behavior  \\\n",
       "16063                      0              0.0                0   \n",
       "16203                      0              1.0                0   \n",
       "16502                      0              2.0                0   \n",
       "17457                      0             11.0                1   \n",
       "17590                      0              0.0                0   \n",
       "\n",
       "       risk_index_absolute  active_customer_rate  loan_utilization_index  \\\n",
       "16063                    0              0.714286                       0   \n",
       "16203                    1              0.833333                       0   \n",
       "16502                    3              0.888889                       0   \n",
       "17457                    1              1.000000                       0   \n",
       "17590                    0              1.000000                       0   \n",
       "\n",
       "       cluster  \n",
       "16063        2  \n",
       "16203        5  \n",
       "16502        5  \n",
       "17457        1  \n",
       "17590        5  "
      ]
     },
     "execution_count": 129,
     "metadata": {},
     "output_type": "execute_result"
    }
   ],
   "source": [
    "pd.set_option('display.max_columns', None)\n",
    "\n",
    "df_capstone_clean_2_last_partition_for_cluster_with_labels.head()"
   ]
  },
  {
   "cell_type": "code",
   "execution_count": 130,
   "metadata": {},
   "outputs": [
    {
     "data": {
      "text/html": [
       "<div>\n",
       "<style scoped>\n",
       "    .dataframe tbody tr th:only-of-type {\n",
       "        vertical-align: middle;\n",
       "    }\n",
       "\n",
       "    .dataframe tbody tr th {\n",
       "        vertical-align: top;\n",
       "    }\n",
       "\n",
       "    .dataframe thead th {\n",
       "        text-align: right;\n",
       "    }\n",
       "</style>\n",
       "<table border=\"1\" class=\"dataframe\">\n",
       "  <thead>\n",
       "    <tr style=\"text-align: right;\">\n",
       "      <th></th>\n",
       "      <th>segment_01 - TOP</th>\n",
       "      <th>segment_02 - PARTICULARES</th>\n",
       "      <th>segment_03 - UNIVERSITARIO</th>\n",
       "      <th>age</th>\n",
       "      <th>financial_health_score</th>\n",
       "      <th>total_profit_customer</th>\n",
       "      <th>months_from_last_purchase</th>\n",
       "      <th>product_mix_diversity</th>\n",
       "      <th>nr_financing_60</th>\n",
       "      <th>nr_invest_savings_40</th>\n",
       "      <th>nr_account_10</th>\n",
       "      <th>nr_debt</th>\n",
       "      <th>nr_product_trend</th>\n",
       "      <th>customer_tenure</th>\n",
       "      <th>nr_product_gap_to_max</th>\n",
       "      <th>nr_transactions</th>\n",
       "      <th>saving_behavior</th>\n",
       "      <th>risk_index_absolute</th>\n",
       "      <th>active_customer_rate</th>\n",
       "      <th>loan_utilization_index</th>\n",
       "      <th>cluster</th>\n",
       "    </tr>\n",
       "  </thead>\n",
       "  <tbody>\n",
       "    <tr>\n",
       "      <th>count</th>\n",
       "      <td>442995.000000</td>\n",
       "      <td>442995.000000</td>\n",
       "      <td>442995.000000</td>\n",
       "      <td>442995.000000</td>\n",
       "      <td>442995.000000</td>\n",
       "      <td>442995.000000</td>\n",
       "      <td>442995.000000</td>\n",
       "      <td>442995.000000</td>\n",
       "      <td>442995.000000</td>\n",
       "      <td>442995.000000</td>\n",
       "      <td>442995.000000</td>\n",
       "      <td>442995.000000</td>\n",
       "      <td>442995.000000</td>\n",
       "      <td>442995.000000</td>\n",
       "      <td>442995.000000</td>\n",
       "      <td>442995.000000</td>\n",
       "      <td>442995.000000</td>\n",
       "      <td>442995.000000</td>\n",
       "      <td>442995.000000</td>\n",
       "      <td>442995.000000</td>\n",
       "      <td>442995.000000</td>\n",
       "    </tr>\n",
       "    <tr>\n",
       "      <th>mean</th>\n",
       "      <td>0.016244</td>\n",
       "      <td>0.339591</td>\n",
       "      <td>0.644165</td>\n",
       "      <td>30.401639</td>\n",
       "      <td>0.010695</td>\n",
       "      <td>17.145634</td>\n",
       "      <td>10.868987</td>\n",
       "      <td>0.075820</td>\n",
       "      <td>0.108613</td>\n",
       "      <td>0.060019</td>\n",
       "      <td>0.821668</td>\n",
       "      <td>0.159428</td>\n",
       "      <td>0.009838</td>\n",
       "      <td>737.281324</td>\n",
       "      <td>0.138065</td>\n",
       "      <td>0.801018</td>\n",
       "      <td>0.060019</td>\n",
       "      <td>0.881572</td>\n",
       "      <td>0.389346</td>\n",
       "      <td>0.000156</td>\n",
       "      <td>3.036086</td>\n",
       "    </tr>\n",
       "    <tr>\n",
       "      <th>std</th>\n",
       "      <td>0.126413</td>\n",
       "      <td>0.473571</td>\n",
       "      <td>0.478766</td>\n",
       "      <td>12.239800</td>\n",
       "      <td>0.038145</td>\n",
       "      <td>48.881586</td>\n",
       "      <td>5.219867</td>\n",
       "      <td>0.059666</td>\n",
       "      <td>0.334002</td>\n",
       "      <td>0.251562</td>\n",
       "      <td>0.571505</td>\n",
       "      <td>0.400607</td>\n",
       "      <td>0.290946</td>\n",
       "      <td>433.493121</td>\n",
       "      <td>0.458245</td>\n",
       "      <td>2.177460</td>\n",
       "      <td>0.251562</td>\n",
       "      <td>0.709616</td>\n",
       "      <td>0.464666</td>\n",
       "      <td>0.012479</td>\n",
       "      <td>2.275207</td>\n",
       "    </tr>\n",
       "    <tr>\n",
       "      <th>min</th>\n",
       "      <td>0.000000</td>\n",
       "      <td>0.000000</td>\n",
       "      <td>0.000000</td>\n",
       "      <td>2.000000</td>\n",
       "      <td>0.000021</td>\n",
       "      <td>0.000000</td>\n",
       "      <td>0.000000</td>\n",
       "      <td>0.000000</td>\n",
       "      <td>0.000000</td>\n",
       "      <td>0.000000</td>\n",
       "      <td>0.000000</td>\n",
       "      <td>0.000000</td>\n",
       "      <td>-4.000000</td>\n",
       "      <td>-3.000000</td>\n",
       "      <td>0.000000</td>\n",
       "      <td>0.000000</td>\n",
       "      <td>0.000000</td>\n",
       "      <td>0.000000</td>\n",
       "      <td>0.000000</td>\n",
       "      <td>0.000000</td>\n",
       "      <td>0.000000</td>\n",
       "    </tr>\n",
       "    <tr>\n",
       "      <th>25%</th>\n",
       "      <td>0.000000</td>\n",
       "      <td>0.000000</td>\n",
       "      <td>0.000000</td>\n",
       "      <td>22.000000</td>\n",
       "      <td>0.001327</td>\n",
       "      <td>0.000000</td>\n",
       "      <td>7.000000</td>\n",
       "      <td>0.000000</td>\n",
       "      <td>0.000000</td>\n",
       "      <td>0.000000</td>\n",
       "      <td>0.000000</td>\n",
       "      <td>0.000000</td>\n",
       "      <td>0.000000</td>\n",
       "      <td>302.000000</td>\n",
       "      <td>0.000000</td>\n",
       "      <td>0.000000</td>\n",
       "      <td>0.000000</td>\n",
       "      <td>0.000000</td>\n",
       "      <td>0.000000</td>\n",
       "      <td>0.000000</td>\n",
       "      <td>0.000000</td>\n",
       "    </tr>\n",
       "    <tr>\n",
       "      <th>50%</th>\n",
       "      <td>0.000000</td>\n",
       "      <td>0.000000</td>\n",
       "      <td>1.000000</td>\n",
       "      <td>25.000000</td>\n",
       "      <td>0.001519</td>\n",
       "      <td>0.000000</td>\n",
       "      <td>10.000000</td>\n",
       "      <td>0.083333</td>\n",
       "      <td>0.000000</td>\n",
       "      <td>0.000000</td>\n",
       "      <td>1.000000</td>\n",
       "      <td>0.000000</td>\n",
       "      <td>0.000000</td>\n",
       "      <td>667.000000</td>\n",
       "      <td>0.000000</td>\n",
       "      <td>0.000000</td>\n",
       "      <td>0.000000</td>\n",
       "      <td>1.000000</td>\n",
       "      <td>0.000000</td>\n",
       "      <td>0.000000</td>\n",
       "      <td>3.000000</td>\n",
       "    </tr>\n",
       "    <tr>\n",
       "      <th>75%</th>\n",
       "      <td>0.000000</td>\n",
       "      <td>1.000000</td>\n",
       "      <td>1.000000</td>\n",
       "      <td>35.000000</td>\n",
       "      <td>0.002055</td>\n",
       "      <td>0.000000</td>\n",
       "      <td>16.000000</td>\n",
       "      <td>0.083333</td>\n",
       "      <td>0.000000</td>\n",
       "      <td>0.000000</td>\n",
       "      <td>1.000000</td>\n",
       "      <td>0.000000</td>\n",
       "      <td>0.000000</td>\n",
       "      <td>1039.000000</td>\n",
       "      <td>0.000000</td>\n",
       "      <td>0.000000</td>\n",
       "      <td>0.000000</td>\n",
       "      <td>1.000000</td>\n",
       "      <td>1.000000</td>\n",
       "      <td>0.000000</td>\n",
       "      <td>5.000000</td>\n",
       "    </tr>\n",
       "    <tr>\n",
       "      <th>max</th>\n",
       "      <td>1.000000</td>\n",
       "      <td>1.000000</td>\n",
       "      <td>1.000000</td>\n",
       "      <td>105.000000</td>\n",
       "      <td>0.500000</td>\n",
       "      <td>690.000000</td>\n",
       "      <td>16.000000</td>\n",
       "      <td>0.572222</td>\n",
       "      <td>3.000000</td>\n",
       "      <td>4.000000</td>\n",
       "      <td>4.000000</td>\n",
       "      <td>3.000000</td>\n",
       "      <td>5.000000</td>\n",
       "      <td>1608.000000</td>\n",
       "      <td>7.000000</td>\n",
       "      <td>37.000000</td>\n",
       "      <td>4.000000</td>\n",
       "      <td>3.000000</td>\n",
       "      <td>1.000000</td>\n",
       "      <td>1.000000</td>\n",
       "      <td>6.000000</td>\n",
       "    </tr>\n",
       "  </tbody>\n",
       "</table>\n",
       "</div>"
      ],
      "text/plain": [
       "       segment_01 - TOP  segment_02 - PARTICULARES  \\\n",
       "count     442995.000000              442995.000000   \n",
       "mean           0.016244                   0.339591   \n",
       "std            0.126413                   0.473571   \n",
       "min            0.000000                   0.000000   \n",
       "25%            0.000000                   0.000000   \n",
       "50%            0.000000                   0.000000   \n",
       "75%            0.000000                   1.000000   \n",
       "max            1.000000                   1.000000   \n",
       "\n",
       "       segment_03 - UNIVERSITARIO            age  financial_health_score  \\\n",
       "count               442995.000000  442995.000000           442995.000000   \n",
       "mean                     0.644165      30.401639                0.010695   \n",
       "std                      0.478766      12.239800                0.038145   \n",
       "min                      0.000000       2.000000                0.000021   \n",
       "25%                      0.000000      22.000000                0.001327   \n",
       "50%                      1.000000      25.000000                0.001519   \n",
       "75%                      1.000000      35.000000                0.002055   \n",
       "max                      1.000000     105.000000                0.500000   \n",
       "\n",
       "       total_profit_customer  months_from_last_purchase  \\\n",
       "count          442995.000000              442995.000000   \n",
       "mean               17.145634                  10.868987   \n",
       "std                48.881586                   5.219867   \n",
       "min                 0.000000                   0.000000   \n",
       "25%                 0.000000                   7.000000   \n",
       "50%                 0.000000                  10.000000   \n",
       "75%                 0.000000                  16.000000   \n",
       "max               690.000000                  16.000000   \n",
       "\n",
       "       product_mix_diversity  nr_financing_60  nr_invest_savings_40  \\\n",
       "count          442995.000000    442995.000000         442995.000000   \n",
       "mean                0.075820         0.108613              0.060019   \n",
       "std                 0.059666         0.334002              0.251562   \n",
       "min                 0.000000         0.000000              0.000000   \n",
       "25%                 0.000000         0.000000              0.000000   \n",
       "50%                 0.083333         0.000000              0.000000   \n",
       "75%                 0.083333         0.000000              0.000000   \n",
       "max                 0.572222         3.000000              4.000000   \n",
       "\n",
       "       nr_account_10        nr_debt  nr_product_trend  customer_tenure  \\\n",
       "count  442995.000000  442995.000000     442995.000000    442995.000000   \n",
       "mean        0.821668       0.159428          0.009838       737.281324   \n",
       "std         0.571505       0.400607          0.290946       433.493121   \n",
       "min         0.000000       0.000000         -4.000000        -3.000000   \n",
       "25%         0.000000       0.000000          0.000000       302.000000   \n",
       "50%         1.000000       0.000000          0.000000       667.000000   \n",
       "75%         1.000000       0.000000          0.000000      1039.000000   \n",
       "max         4.000000       3.000000          5.000000      1608.000000   \n",
       "\n",
       "       nr_product_gap_to_max  nr_transactions  saving_behavior  \\\n",
       "count          442995.000000    442995.000000    442995.000000   \n",
       "mean                0.138065         0.801018         0.060019   \n",
       "std                 0.458245         2.177460         0.251562   \n",
       "min                 0.000000         0.000000         0.000000   \n",
       "25%                 0.000000         0.000000         0.000000   \n",
       "50%                 0.000000         0.000000         0.000000   \n",
       "75%                 0.000000         0.000000         0.000000   \n",
       "max                 7.000000        37.000000         4.000000   \n",
       "\n",
       "       risk_index_absolute  active_customer_rate  loan_utilization_index  \\\n",
       "count        442995.000000         442995.000000           442995.000000   \n",
       "mean              0.881572              0.389346                0.000156   \n",
       "std               0.709616              0.464666                0.012479   \n",
       "min               0.000000              0.000000                0.000000   \n",
       "25%               0.000000              0.000000                0.000000   \n",
       "50%               1.000000              0.000000                0.000000   \n",
       "75%               1.000000              1.000000                0.000000   \n",
       "max               3.000000              1.000000                1.000000   \n",
       "\n",
       "             cluster  \n",
       "count  442995.000000  \n",
       "mean        3.036086  \n",
       "std         2.275207  \n",
       "min         0.000000  \n",
       "25%         0.000000  \n",
       "50%         3.000000  \n",
       "75%         5.000000  \n",
       "max         6.000000  "
      ]
     },
     "execution_count": 130,
     "metadata": {},
     "output_type": "execute_result"
    }
   ],
   "source": [
    "df_capstone_clean_2_last_partition_for_cluster_with_labels.describe()"
   ]
  },
  {
   "cell_type": "markdown",
   "metadata": {},
   "source": [
    "### Definición de Ficha de Cliente "
   ]
  },
  {
   "cell_type": "code",
   "execution_count": 131,
   "metadata": {},
   "outputs": [],
   "source": [
    "ficha_df = pd.DataFrame()\n",
    "\n",
    "# for i, col in enumerate([\"age\", \"salary\", \"segment_01 - TOP\", \"segment_02 - PARTICULARES\", \"segment_03 - UNIVERSITARIO\", \"periods_active\", \"customer_tenure\", \"entry_date_month\", \"months_from_last_purchase\", \"digital_interaction_index\", \"financial_health_score\", \"saving_behavior\", \"risk_index_absolute\", \"nr_accounts\", \"nr_investment\", \"nr_debt\", \"clients_losing_fidelity\", \"product_mix_diversity_greater_than_75_percentile\", \"entry_channel_loyalty\"]):\n",
    "#     resumen_data = df_capstone_clean_2_last_partition_for_cluster_with_labels[[\"cluster\", col]].groupby(\"cluster\").describe().T[1:].round(4)\n",
    "#     #ficha_df = ficha_df.append(resumen_data)\n",
    "#     ficha_df = pd.concat([ficha_df, resumen_data])\n",
    "\n",
    "cols = df_capstone_clean_2_last_partition_for_cluster_with_labels.columns.tolist()\n",
    "cols.remove(\"cluster\")\n",
    "for i, col in enumerate(cols):\n",
    "    #resumen_data = df_capstone_clean_2_last_partition_for_cluster_with_labels[[\"cluster\", col]].groupby(\"cluster\").describe().T[1:].round(4)\n",
    "    resumen_data = df_capstone_clean_2_last_partition_for_cluster_with_labels[[\"cluster\", col]].groupby(\"cluster\").describe().T[1:].round(4)\n",
    "    #ficha_df = ficha_df.append(resumen_data)\n",
    "    ficha_df = pd.concat([ficha_df, resumen_data])"
   ]
  },
  {
   "cell_type": "code",
   "execution_count": 132,
   "metadata": {},
   "outputs": [],
   "source": [
    "# generamos nuestro multiindex\n",
    "out_index = [\n",
    "\"Segmento (social)\",\n",
    "\"Segmento (social)\",\n",
    "\"Segmento (social)\",\n",
    "\"Edad\",\n",
    "\"Economía\",\n",
    "\"Economía\",\n",
    "\"Frecuencia\",\n",
    "\"Productos\",\n",
    "\"Productos\",\n",
    "\"Productos\",\n",
    "\"Productos\",\n",
    "\"Productos\",\n",
    "\"Tendencia (compras)\",\n",
    "\"Relacionamiento\",\n",
    "\"Relacionamiento\",\n",
    "\"Comportamiento\",\n",
    "\"Comportamiento\",\n",
    "\"Comportamiento\",\n",
    "\"Comportamiento\",\n",
    "\"Comportamiento\",\n",
    "]\n",
    "\n",
    "inner_index = [\n",
    "\"Top\", \n",
    "\"Particulares\", \n",
    "\"Universitario\", \n",
    "\"Edad\", \n",
    "\"Salud Financiera\", \n",
    "\"Ganáncia Total Generada\",\n",
    "\"Meses desde la ultima compra\",\n",
    "\"Diversificación de Productos\",\n",
    "'Productos Financiación',\n",
    "\"Productos Inversiones y ahorro\",\n",
    "'Productos Cuentas EasyMoney',\n",
    "'Productos préstamos (a solas)',\n",
    "\"Tendencia de compra ultimo mes\",\n",
    " \"Tenencia del cliente\",\n",
    "\"Fidelización\", \n",
    "\"Transaciones\",\n",
    "\"Comportamiento Ahorro\", \n",
    "\"Aptitud a Riesgo\", \n",
    "\"Digtitalización - índice\",\n",
    "'Préstamos - índice']\n",
    "\n",
    "estadisticos = [\"Media\", \"Desviación\", \"Mínimo\", \"Perc. 25\", \"Perc. 50\", \"Perc. 75\", \"Máximo\"]\n",
    "\n",
    "new_multi_index = []\n",
    "\n",
    "for oi, ii, in zip(out_index, inner_index):\n",
    "    for es in estadisticos:\n",
    "        new_multi_index.append((oi, ii, es))"
   ]
  },
  {
   "cell_type": "code",
   "execution_count": 133,
   "metadata": {},
   "outputs": [
    {
     "data": {
      "text/plain": [
       "MultiIndex([('Segmento (social)',                      'Top',      'Media'),\n",
       "            ('Segmento (social)',                      'Top', 'Desviación'),\n",
       "            ('Segmento (social)',                      'Top',     'Mínimo'),\n",
       "            ('Segmento (social)',                      'Top',   'Perc. 25'),\n",
       "            ('Segmento (social)',                      'Top',   'Perc. 50'),\n",
       "            ('Segmento (social)',                      'Top',   'Perc. 75'),\n",
       "            ('Segmento (social)',                      'Top',     'Máximo'),\n",
       "            ('Segmento (social)',             'Particulares',      'Media'),\n",
       "            ('Segmento (social)',             'Particulares', 'Desviación'),\n",
       "            ('Segmento (social)',             'Particulares',     'Mínimo'),\n",
       "            ...\n",
       "            (   'Comportamiento', 'Digtitalización - índice',   'Perc. 50'),\n",
       "            (   'Comportamiento', 'Digtitalización - índice',   'Perc. 75'),\n",
       "            (   'Comportamiento', 'Digtitalización - índice',     'Máximo'),\n",
       "            (   'Comportamiento',       'Préstamos - índice',      'Media'),\n",
       "            (   'Comportamiento',       'Préstamos - índice', 'Desviación'),\n",
       "            (   'Comportamiento',       'Préstamos - índice',     'Mínimo'),\n",
       "            (   'Comportamiento',       'Préstamos - índice',   'Perc. 25'),\n",
       "            (   'Comportamiento',       'Préstamos - índice',   'Perc. 50'),\n",
       "            (   'Comportamiento',       'Préstamos - índice',   'Perc. 75'),\n",
       "            (   'Comportamiento',       'Préstamos - índice',     'Máximo')],\n",
       "           names=['Grupo Indicadores', 'Indicador', 'Estadístico'], length=140)"
      ]
     },
     "execution_count": 133,
     "metadata": {},
     "output_type": "execute_result"
    }
   ],
   "source": [
    "def generate_multiindex(list_of_tuples, names):\n",
    "    return pd.MultiIndex.from_tuples(list_of_tuples, names = names)\n",
    "\n",
    "names = [\"Grupo Indicadores\", \"Indicador\", \"Estadístico\"]\n",
    "index_ficha = generate_multiindex(new_multi_index, names)\n",
    "ficha_df.set_index(index_ficha, inplace = True)\n",
    "index_ficha"
   ]
  },
  {
   "cell_type": "code",
   "execution_count": 134,
   "metadata": {},
   "outputs": [
    {
     "data": {
      "text/html": [
       "<div>\n",
       "<style scoped>\n",
       "    .dataframe tbody tr th:only-of-type {\n",
       "        vertical-align: middle;\n",
       "    }\n",
       "\n",
       "    .dataframe tbody tr th {\n",
       "        vertical-align: top;\n",
       "    }\n",
       "\n",
       "    .dataframe thead th {\n",
       "        text-align: right;\n",
       "    }\n",
       "</style>\n",
       "<table border=\"1\" class=\"dataframe\">\n",
       "  <thead>\n",
       "    <tr style=\"text-align: right;\">\n",
       "      <th></th>\n",
       "      <th></th>\n",
       "      <th>cluster</th>\n",
       "      <th>0</th>\n",
       "      <th>1</th>\n",
       "      <th>2</th>\n",
       "      <th>3</th>\n",
       "      <th>4</th>\n",
       "      <th>5</th>\n",
       "      <th>6</th>\n",
       "    </tr>\n",
       "    <tr>\n",
       "      <th>Grupo Indicadores</th>\n",
       "      <th>Indicador</th>\n",
       "      <th>Estadístico</th>\n",
       "      <th></th>\n",
       "      <th></th>\n",
       "      <th></th>\n",
       "      <th></th>\n",
       "      <th></th>\n",
       "      <th></th>\n",
       "      <th></th>\n",
       "    </tr>\n",
       "  </thead>\n",
       "  <tbody>\n",
       "    <tr>\n",
       "      <th>General</th>\n",
       "      <th>Clúster</th>\n",
       "      <th>Tamaño</th>\n",
       "      <td>111684</td>\n",
       "      <td>24512</td>\n",
       "      <td>59824</td>\n",
       "      <td>28955</td>\n",
       "      <td>69713</td>\n",
       "      <td>54748</td>\n",
       "      <td>93559</td>\n",
       "    </tr>\n",
       "  </tbody>\n",
       "</table>\n",
       "</div>"
      ],
      "text/plain": [
       "cluster                                       0      1      2      3      4  \\\n",
       "Grupo Indicadores Indicador Estadístico                                       \n",
       "General           Clúster   Tamaño       111684  24512  59824  28955  69713   \n",
       "\n",
       "cluster                                      5      6  \n",
       "Grupo Indicadores Indicador Estadístico                \n",
       "General           Clúster   Tamaño       54748  93559  "
      ]
     },
     "execution_count": 134,
     "metadata": {},
     "output_type": "execute_result"
    }
   ],
   "source": [
    "tamaño_clusters = df_capstone_clean_2_last_partition_for_cluster_with_labels.groupby(\"cluster\").size().to_frame().T\n",
    "tamaño_clusters.set_index(generate_multiindex([(\"General\", \"Clúster\", \"Tamaño\")] , names), inplace = True)\n",
    "tamaño_clusters"
   ]
  },
  {
   "cell_type": "code",
   "execution_count": 135,
   "metadata": {},
   "outputs": [
    {
     "data": {
      "text/html": [
       "<div>\n",
       "<style scoped>\n",
       "    .dataframe tbody tr th:only-of-type {\n",
       "        vertical-align: middle;\n",
       "    }\n",
       "\n",
       "    .dataframe tbody tr th {\n",
       "        vertical-align: top;\n",
       "    }\n",
       "\n",
       "    .dataframe thead th {\n",
       "        text-align: right;\n",
       "    }\n",
       "</style>\n",
       "<table border=\"1\" class=\"dataframe\">\n",
       "  <thead>\n",
       "    <tr style=\"text-align: right;\">\n",
       "      <th></th>\n",
       "      <th></th>\n",
       "      <th>cluster</th>\n",
       "      <th>0</th>\n",
       "      <th>1</th>\n",
       "      <th>2</th>\n",
       "      <th>3</th>\n",
       "      <th>4</th>\n",
       "      <th>5</th>\n",
       "      <th>6</th>\n",
       "    </tr>\n",
       "    <tr>\n",
       "      <th>Grupo Indicadores</th>\n",
       "      <th>Indicador</th>\n",
       "      <th>Estadístico</th>\n",
       "      <th></th>\n",
       "      <th></th>\n",
       "      <th></th>\n",
       "      <th></th>\n",
       "      <th></th>\n",
       "      <th></th>\n",
       "      <th></th>\n",
       "    </tr>\n",
       "  </thead>\n",
       "  <tbody>\n",
       "    <tr>\n",
       "      <th>General</th>\n",
       "      <th>Clúster</th>\n",
       "      <th>Tamaño</th>\n",
       "      <td>111684.0</td>\n",
       "      <td>24512.0000</td>\n",
       "      <td>59824.0000</td>\n",
       "      <td>28955.000</td>\n",
       "      <td>69713.0000</td>\n",
       "      <td>54748.0000</td>\n",
       "      <td>93559.0000</td>\n",
       "    </tr>\n",
       "    <tr>\n",
       "      <th rowspan=\"4\" valign=\"top\">Segmento (social)</th>\n",
       "      <th rowspan=\"4\" valign=\"top\">Top</th>\n",
       "      <th>Media</th>\n",
       "      <td>0.0</td>\n",
       "      <td>0.1568</td>\n",
       "      <td>0.0007</td>\n",
       "      <td>0.012</td>\n",
       "      <td>0.0003</td>\n",
       "      <td>0.0533</td>\n",
       "      <td>0.0003</td>\n",
       "    </tr>\n",
       "    <tr>\n",
       "      <th>Desviación</th>\n",
       "      <td>0.0</td>\n",
       "      <td>0.3636</td>\n",
       "      <td>0.0268</td>\n",
       "      <td>0.109</td>\n",
       "      <td>0.0161</td>\n",
       "      <td>0.2246</td>\n",
       "      <td>0.0170</td>\n",
       "    </tr>\n",
       "    <tr>\n",
       "      <th>Mínimo</th>\n",
       "      <td>0.0</td>\n",
       "      <td>0.0000</td>\n",
       "      <td>0.0000</td>\n",
       "      <td>0.000</td>\n",
       "      <td>0.0000</td>\n",
       "      <td>0.0000</td>\n",
       "      <td>0.0000</td>\n",
       "    </tr>\n",
       "    <tr>\n",
       "      <th>Perc. 25</th>\n",
       "      <td>0.0</td>\n",
       "      <td>0.0000</td>\n",
       "      <td>0.0000</td>\n",
       "      <td>0.000</td>\n",
       "      <td>0.0000</td>\n",
       "      <td>0.0000</td>\n",
       "      <td>0.0000</td>\n",
       "    </tr>\n",
       "    <tr>\n",
       "      <th>...</th>\n",
       "      <th>...</th>\n",
       "      <th>...</th>\n",
       "      <td>...</td>\n",
       "      <td>...</td>\n",
       "      <td>...</td>\n",
       "      <td>...</td>\n",
       "      <td>...</td>\n",
       "      <td>...</td>\n",
       "      <td>...</td>\n",
       "    </tr>\n",
       "    <tr>\n",
       "      <th rowspan=\"5\" valign=\"top\">Comportamiento</th>\n",
       "      <th rowspan=\"5\" valign=\"top\">Préstamos - índice</th>\n",
       "      <th>Mínimo</th>\n",
       "      <td>0.0</td>\n",
       "      <td>0.0000</td>\n",
       "      <td>0.0000</td>\n",
       "      <td>0.000</td>\n",
       "      <td>0.0000</td>\n",
       "      <td>0.0000</td>\n",
       "      <td>0.0000</td>\n",
       "    </tr>\n",
       "    <tr>\n",
       "      <th>Perc. 25</th>\n",
       "      <td>0.0</td>\n",
       "      <td>0.0000</td>\n",
       "      <td>0.0000</td>\n",
       "      <td>0.000</td>\n",
       "      <td>0.0000</td>\n",
       "      <td>0.0000</td>\n",
       "      <td>0.0000</td>\n",
       "    </tr>\n",
       "    <tr>\n",
       "      <th>Perc. 50</th>\n",
       "      <td>0.0</td>\n",
       "      <td>0.0000</td>\n",
       "      <td>0.0000</td>\n",
       "      <td>0.000</td>\n",
       "      <td>0.0000</td>\n",
       "      <td>0.0000</td>\n",
       "      <td>0.0000</td>\n",
       "    </tr>\n",
       "    <tr>\n",
       "      <th>Perc. 75</th>\n",
       "      <td>0.0</td>\n",
       "      <td>0.0000</td>\n",
       "      <td>0.0000</td>\n",
       "      <td>0.000</td>\n",
       "      <td>0.0000</td>\n",
       "      <td>0.0000</td>\n",
       "      <td>0.0000</td>\n",
       "    </tr>\n",
       "    <tr>\n",
       "      <th>Máximo</th>\n",
       "      <td>0.0</td>\n",
       "      <td>1.0000</td>\n",
       "      <td>1.0000</td>\n",
       "      <td>1.000</td>\n",
       "      <td>1.0000</td>\n",
       "      <td>0.0000</td>\n",
       "      <td>1.0000</td>\n",
       "    </tr>\n",
       "  </tbody>\n",
       "</table>\n",
       "<p>141 rows × 7 columns</p>\n",
       "</div>"
      ],
      "text/plain": [
       "cluster                                                  0           1  \\\n",
       "Grupo Indicadores Indicador          Estadístico                         \n",
       "General           Clúster            Tamaño       111684.0  24512.0000   \n",
       "Segmento (social) Top                Media             0.0      0.1568   \n",
       "                                     Desviación        0.0      0.3636   \n",
       "                                     Mínimo            0.0      0.0000   \n",
       "                                     Perc. 25          0.0      0.0000   \n",
       "...                                                    ...         ...   \n",
       "Comportamiento    Préstamos - índice Mínimo            0.0      0.0000   \n",
       "                                     Perc. 25          0.0      0.0000   \n",
       "                                     Perc. 50          0.0      0.0000   \n",
       "                                     Perc. 75          0.0      0.0000   \n",
       "                                     Máximo            0.0      1.0000   \n",
       "\n",
       "cluster                                                    2          3  \\\n",
       "Grupo Indicadores Indicador          Estadístico                          \n",
       "General           Clúster            Tamaño       59824.0000  28955.000   \n",
       "Segmento (social) Top                Media            0.0007      0.012   \n",
       "                                     Desviación       0.0268      0.109   \n",
       "                                     Mínimo           0.0000      0.000   \n",
       "                                     Perc. 25         0.0000      0.000   \n",
       "...                                                      ...        ...   \n",
       "Comportamiento    Préstamos - índice Mínimo           0.0000      0.000   \n",
       "                                     Perc. 25         0.0000      0.000   \n",
       "                                     Perc. 50         0.0000      0.000   \n",
       "                                     Perc. 75         0.0000      0.000   \n",
       "                                     Máximo           1.0000      1.000   \n",
       "\n",
       "cluster                                                    4           5  \\\n",
       "Grupo Indicadores Indicador          Estadístico                           \n",
       "General           Clúster            Tamaño       69713.0000  54748.0000   \n",
       "Segmento (social) Top                Media            0.0003      0.0533   \n",
       "                                     Desviación       0.0161      0.2246   \n",
       "                                     Mínimo           0.0000      0.0000   \n",
       "                                     Perc. 25         0.0000      0.0000   \n",
       "...                                                      ...         ...   \n",
       "Comportamiento    Préstamos - índice Mínimo           0.0000      0.0000   \n",
       "                                     Perc. 25         0.0000      0.0000   \n",
       "                                     Perc. 50         0.0000      0.0000   \n",
       "                                     Perc. 75         0.0000      0.0000   \n",
       "                                     Máximo           1.0000      0.0000   \n",
       "\n",
       "cluster                                                    6  \n",
       "Grupo Indicadores Indicador          Estadístico              \n",
       "General           Clúster            Tamaño       93559.0000  \n",
       "Segmento (social) Top                Media            0.0003  \n",
       "                                     Desviación       0.0170  \n",
       "                                     Mínimo           0.0000  \n",
       "                                     Perc. 25         0.0000  \n",
       "...                                                      ...  \n",
       "Comportamiento    Préstamos - índice Mínimo           0.0000  \n",
       "                                     Perc. 25         0.0000  \n",
       "                                     Perc. 50         0.0000  \n",
       "                                     Perc. 75         0.0000  \n",
       "                                     Máximo           1.0000  \n",
       "\n",
       "[141 rows x 7 columns]"
      ]
     },
     "execution_count": 135,
     "metadata": {},
     "output_type": "execute_result"
    }
   ],
   "source": [
    "ficha_df = pd.concat([tamaño_clusters, ficha_df])\n",
    "ficha_df"
   ]
  },
  {
   "cell_type": "code",
   "execution_count": 136,
   "metadata": {},
   "outputs": [],
   "source": [
    "ficha_df = ficha_df.rename(columns = {\n",
    "    0: \"Jóvenes universitarios (+-25 años) con bajo compromiso digital, poco activos, pocos productos (principalmente cuenta corriente). Son los más tenientes.\",\n",
    "    1: \"Profesionales (+-41 años, predominantemente Particulares) financieramente estables. Contiene universitarios y la mayor representación de TOP. Alta diversificación de productos (inversiones y cuentas), activos, digitales, frecuentes, con aptitud al riesgo. Son los más rentables\",\n",
    "    2: \"Profesionales experimentados (Particulares), con baja salud financiera, baja diversidad de productos, aptitud al riesgo y tendencia de compra. Son los más mayores (+-42 años). Poseen la menor diversidad de productos (cuentas y algunos préstamos/hipotecas)\",\n",
    "    3: \"Profesionales financieramente estables (+-39 años, predominantemente Particulares). Contiene universitarios y TOP. Alta diversificación de productos (financieros - préstamos e hipotecas), activos, digitales, frecuentes, con aptitud al riesgo. Segundo grupo más rentable. Posee el menor grado histórico de fidelidad\",\n",
    "    4: \"Universitarios (+-24 años). Son digitales, con leve diversificación de productos (concentran cuentas corrientes), baja salud financiera. Presenta menor tendencia de compra. Son los universitarios más digitales\",\n",
    "    5: \"Profesionales (predominantemente Particulares, TOP) experimentados (+- 42 años). Son digitales, con pocas transacciones y con diversidad moderada de productos. Tercer grupo más rentable para el banco y segundo con menor índice histórico de fidelización\",\n",
    "    6: \"Estudiantes universitarios (+- 23 años) con menor tenencia, baja diversificación de productos (concentran cuentas corrientes), poco activos y poco digitales. Son los más jóvenes\"\n",
    "})\n",
    "\n",
    "\n"
   ]
  },
  {
   "cell_type": "markdown",
   "metadata": {},
   "source": [
    "### Ficha Cliente "
   ]
  },
  {
   "cell_type": "code",
   "execution_count": 137,
   "metadata": {},
   "outputs": [
    {
     "data": {
      "text/html": [
       "<style type=\"text/css\">\n",
       "#T_039b1_row0_col0, #T_039b1_row1_col1, #T_039b1_row2_col1, #T_039b1_row7_col1, #T_039b1_row7_col2, #T_039b1_row7_col3, #T_039b1_row7_col4, #T_039b1_row7_col5, #T_039b1_row7_col6, #T_039b1_row8_col2, #T_039b1_row9_col1, #T_039b1_row11_col2, #T_039b1_row11_col3, #T_039b1_row11_col5, #T_039b1_row12_col1, #T_039b1_row12_col2, #T_039b1_row12_col3, #T_039b1_row12_col5, #T_039b1_row13_col1, #T_039b1_row13_col2, #T_039b1_row13_col3, #T_039b1_row13_col5, #T_039b1_row14_col1, #T_039b1_row14_col2, #T_039b1_row14_col3, #T_039b1_row14_col5, #T_039b1_row15_col0, #T_039b1_row15_col4, #T_039b1_row15_col6, #T_039b1_row16_col1, #T_039b1_row17_col0, #T_039b1_row18_col0, #T_039b1_row18_col4, #T_039b1_row18_col6, #T_039b1_row19_col0, #T_039b1_row19_col4, #T_039b1_row19_col6, #T_039b1_row20_col0, #T_039b1_row20_col4, #T_039b1_row20_col6, #T_039b1_row21_col0, #T_039b1_row21_col1, #T_039b1_row21_col3, #T_039b1_row21_col4, #T_039b1_row21_col6, #T_039b1_row22_col5, #T_039b1_row23_col1, #T_039b1_row24_col0, #T_039b1_row24_col3, #T_039b1_row25_col2, #T_039b1_row25_col5, #T_039b1_row26_col5, #T_039b1_row27_col1, #T_039b1_row27_col5, #T_039b1_row28_col2, #T_039b1_row29_col1, #T_039b1_row30_col1, #T_039b1_row31_col1, #T_039b1_row32_col1, #T_039b1_row33_col1, #T_039b1_row34_col1, #T_039b1_row35_col1, #T_039b1_row35_col2, #T_039b1_row36_col1, #T_039b1_row37_col1, #T_039b1_row39_col3, #T_039b1_row40_col1, #T_039b1_row41_col1, #T_039b1_row42_col3, #T_039b1_row43_col0, #T_039b1_row44_col5, #T_039b1_row46_col0, #T_039b1_row47_col0, #T_039b1_row47_col4, #T_039b1_row48_col0, #T_039b1_row48_col4, #T_039b1_row48_col5, #T_039b1_row50_col1, #T_039b1_row51_col1, #T_039b1_row52_col1, #T_039b1_row53_col1, #T_039b1_row54_col1, #T_039b1_row55_col1, #T_039b1_row56_col1, #T_039b1_row57_col3, #T_039b1_row58_col1, #T_039b1_row60_col3, #T_039b1_row61_col1, #T_039b1_row61_col3, #T_039b1_row62_col1, #T_039b1_row62_col3, #T_039b1_row63_col1, #T_039b1_row63_col3, #T_039b1_row64_col1, #T_039b1_row65_col1, #T_039b1_row67_col1, #T_039b1_row68_col1, #T_039b1_row69_col1, #T_039b1_row70_col1, #T_039b1_row71_col1, #T_039b1_row72_col1, #T_039b1_row74_col1, #T_039b1_row75_col1, #T_039b1_row76_col1, #T_039b1_row77_col1, #T_039b1_row78_col3, #T_039b1_row79_col1, #T_039b1_row81_col3, #T_039b1_row82_col1, #T_039b1_row82_col3, #T_039b1_row83_col1, #T_039b1_row83_col3, #T_039b1_row84_col1, #T_039b1_row84_col3, #T_039b1_row85_col1, #T_039b1_row86_col1, #T_039b1_row87_col0, #T_039b1_row91_col1, #T_039b1_row92_col0, #T_039b1_row93_col2, #T_039b1_row94_col0, #T_039b1_row95_col0, #T_039b1_row96_col0, #T_039b1_row97_col0, #T_039b1_row98_col3, #T_039b1_row99_col3, #T_039b1_row100_col3, #T_039b1_row105_col1, #T_039b1_row105_col4, #T_039b1_row106_col1, #T_039b1_row107_col1, #T_039b1_row109_col1, #T_039b1_row110_col1, #T_039b1_row111_col1, #T_039b1_row112_col1, #T_039b1_row113_col1, #T_039b1_row114_col1, #T_039b1_row116_col1, #T_039b1_row117_col1, #T_039b1_row118_col1, #T_039b1_row119_col1, #T_039b1_row120_col1, #T_039b1_row121_col1, #T_039b1_row122_col1, #T_039b1_row123_col0, #T_039b1_row123_col1, #T_039b1_row123_col3, #T_039b1_row123_col4, #T_039b1_row123_col5, #T_039b1_row124_col0, #T_039b1_row124_col1, #T_039b1_row124_col3, #T_039b1_row124_col4, #T_039b1_row124_col5, #T_039b1_row125_col1, #T_039b1_row127_col1, #T_039b1_row127_col3, #T_039b1_row128_col5, #T_039b1_row129_col4, #T_039b1_row130_col1, #T_039b1_row130_col3, #T_039b1_row130_col4, #T_039b1_row131_col1, #T_039b1_row131_col3, #T_039b1_row131_col4, #T_039b1_row131_col5, #T_039b1_row132_col1, #T_039b1_row132_col3, #T_039b1_row132_col4, #T_039b1_row132_col5, #T_039b1_row133_col1, #T_039b1_row133_col3, #T_039b1_row133_col4, #T_039b1_row133_col5, #T_039b1_row133_col6, #T_039b1_row134_col1, #T_039b1_row135_col1, #T_039b1_row140_col1, #T_039b1_row140_col2, #T_039b1_row140_col3, #T_039b1_row140_col4, #T_039b1_row140_col6 {\n",
       "  background-color: #08306b;\n",
       "  color: #f1f1f1;\n",
       "}\n",
       "#T_039b1_row0_col1, #T_039b1_row1_col0, #T_039b1_row1_col4, #T_039b1_row1_col6, #T_039b1_row2_col0, #T_039b1_row3_col0, #T_039b1_row3_col1, #T_039b1_row3_col2, #T_039b1_row3_col3, #T_039b1_row3_col4, #T_039b1_row3_col5, #T_039b1_row3_col6, #T_039b1_row4_col0, #T_039b1_row4_col1, #T_039b1_row4_col2, #T_039b1_row4_col3, #T_039b1_row4_col4, #T_039b1_row4_col5, #T_039b1_row4_col6, #T_039b1_row5_col0, #T_039b1_row5_col1, #T_039b1_row5_col2, #T_039b1_row5_col3, #T_039b1_row5_col4, #T_039b1_row5_col5, #T_039b1_row5_col6, #T_039b1_row6_col0, #T_039b1_row6_col1, #T_039b1_row6_col2, #T_039b1_row6_col3, #T_039b1_row6_col4, #T_039b1_row6_col5, #T_039b1_row6_col6, #T_039b1_row7_col0, #T_039b1_row8_col0, #T_039b1_row8_col4, #T_039b1_row8_col6, #T_039b1_row9_col0, #T_039b1_row9_col4, #T_039b1_row9_col6, #T_039b1_row10_col0, #T_039b1_row10_col1, #T_039b1_row10_col2, #T_039b1_row10_col3, #T_039b1_row10_col4, #T_039b1_row10_col5, #T_039b1_row10_col6, #T_039b1_row11_col0, #T_039b1_row11_col1, #T_039b1_row11_col4, #T_039b1_row11_col6, #T_039b1_row12_col0, #T_039b1_row12_col4, #T_039b1_row12_col6, #T_039b1_row13_col0, #T_039b1_row13_col4, #T_039b1_row13_col6, #T_039b1_row14_col0, #T_039b1_row14_col4, #T_039b1_row14_col6, #T_039b1_row15_col2, #T_039b1_row15_col5, #T_039b1_row16_col0, #T_039b1_row16_col2, #T_039b1_row16_col5, #T_039b1_row17_col1, #T_039b1_row17_col2, #T_039b1_row17_col3, #T_039b1_row17_col4, #T_039b1_row17_col5, #T_039b1_row17_col6, #T_039b1_row18_col1, #T_039b1_row18_col2, #T_039b1_row18_col3, #T_039b1_row18_col5, #T_039b1_row19_col1, #T_039b1_row19_col2, #T_039b1_row19_col3, #T_039b1_row19_col5, #T_039b1_row20_col1, #T_039b1_row20_col2, #T_039b1_row20_col3, #T_039b1_row20_col5, #T_039b1_row21_col2, #T_039b1_row21_col5, #T_039b1_row22_col6, #T_039b1_row23_col0, #T_039b1_row24_col2, #T_039b1_row24_col5, #T_039b1_row25_col4, #T_039b1_row25_col6, #T_039b1_row26_col6, #T_039b1_row27_col6, #T_039b1_row28_col0, #T_039b1_row29_col0, #T_039b1_row29_col2, #T_039b1_row29_col3, #T_039b1_row29_col4, #T_039b1_row29_col5, #T_039b1_row29_col6, #T_039b1_row30_col0, #T_039b1_row30_col3, #T_039b1_row30_col6, #T_039b1_row31_col0, #T_039b1_row32_col0, #T_039b1_row32_col2, #T_039b1_row32_col3, #T_039b1_row32_col4, #T_039b1_row32_col5, #T_039b1_row32_col6, #T_039b1_row33_col0, #T_039b1_row33_col2, #T_039b1_row33_col3, #T_039b1_row33_col4, #T_039b1_row33_col5, #T_039b1_row33_col6, #T_039b1_row34_col0, #T_039b1_row34_col2, #T_039b1_row34_col3, #T_039b1_row34_col4, #T_039b1_row34_col5, #T_039b1_row34_col6, #T_039b1_row35_col0, #T_039b1_row35_col3, #T_039b1_row35_col4, #T_039b1_row36_col0, #T_039b1_row37_col0, #T_039b1_row38_col0, #T_039b1_row38_col1, #T_039b1_row38_col2, #T_039b1_row38_col3, #T_039b1_row38_col4, #T_039b1_row38_col5, #T_039b1_row38_col6, #T_039b1_row39_col0, #T_039b1_row39_col2, #T_039b1_row39_col4, #T_039b1_row39_col5, #T_039b1_row39_col6, #T_039b1_row40_col0, #T_039b1_row40_col2, #T_039b1_row40_col4, #T_039b1_row40_col5, #T_039b1_row40_col6, #T_039b1_row41_col0, #T_039b1_row41_col2, #T_039b1_row41_col4, #T_039b1_row41_col6, #T_039b1_row42_col0, #T_039b1_row43_col1, #T_039b1_row44_col0, #T_039b1_row45_col0, #T_039b1_row45_col1, #T_039b1_row45_col2, #T_039b1_row45_col3, #T_039b1_row45_col4, #T_039b1_row45_col5, #T_039b1_row45_col6, #T_039b1_row46_col1, #T_039b1_row46_col3, #T_039b1_row47_col1, #T_039b1_row47_col3, #T_039b1_row48_col1, #T_039b1_row49_col0, #T_039b1_row49_col1, #T_039b1_row49_col2, #T_039b1_row49_col3, #T_039b1_row49_col4, #T_039b1_row49_col5, #T_039b1_row49_col6, #T_039b1_row50_col2, #T_039b1_row51_col0, #T_039b1_row52_col0, #T_039b1_row52_col2, #T_039b1_row52_col3, #T_039b1_row52_col4, #T_039b1_row52_col5, #T_039b1_row52_col6, #T_039b1_row53_col2, #T_039b1_row53_col6, #T_039b1_row54_col2, #T_039b1_row54_col6, #T_039b1_row55_col0, #T_039b1_row55_col2, #T_039b1_row55_col4, #T_039b1_row55_col5, #T_039b1_row55_col6, #T_039b1_row56_col2, #T_039b1_row57_col0, #T_039b1_row57_col2, #T_039b1_row57_col5, #T_039b1_row57_col6, #T_039b1_row58_col5, #T_039b1_row59_col0, #T_039b1_row59_col1, #T_039b1_row59_col2, #T_039b1_row59_col3, #T_039b1_row59_col4, #T_039b1_row59_col5, #T_039b1_row59_col6, #T_039b1_row60_col0, #T_039b1_row60_col1, #T_039b1_row60_col2, #T_039b1_row60_col4, #T_039b1_row60_col5, #T_039b1_row60_col6, #T_039b1_row61_col0, #T_039b1_row61_col2, #T_039b1_row61_col4, #T_039b1_row61_col5, #T_039b1_row61_col6, #T_039b1_row62_col0, #T_039b1_row62_col2, #T_039b1_row62_col4, #T_039b1_row62_col5, #T_039b1_row62_col6, #T_039b1_row63_col5, #T_039b1_row64_col0, #T_039b1_row64_col2, #T_039b1_row64_col3, #T_039b1_row64_col4, #T_039b1_row64_col6, #T_039b1_row65_col0, #T_039b1_row66_col0, #T_039b1_row66_col1, #T_039b1_row66_col2, #T_039b1_row66_col3, #T_039b1_row66_col4, #T_039b1_row66_col5, #T_039b1_row66_col6, #T_039b1_row67_col0, #T_039b1_row67_col2, #T_039b1_row67_col3, #T_039b1_row67_col4, #T_039b1_row67_col5, #T_039b1_row67_col6, #T_039b1_row68_col0, #T_039b1_row68_col2, #T_039b1_row68_col3, #T_039b1_row68_col4, #T_039b1_row68_col5, #T_039b1_row68_col6, #T_039b1_row69_col0, #T_039b1_row69_col2, #T_039b1_row69_col3, #T_039b1_row69_col4, #T_039b1_row69_col5, #T_039b1_row69_col6, #T_039b1_row70_col0, #T_039b1_row70_col2, #T_039b1_row70_col3, #T_039b1_row70_col4, #T_039b1_row70_col5, #T_039b1_row70_col6, #T_039b1_row71_col2, #T_039b1_row72_col0, #T_039b1_row73_col0, #T_039b1_row73_col1, #T_039b1_row73_col2, #T_039b1_row73_col3, #T_039b1_row73_col4, #T_039b1_row73_col5, #T_039b1_row73_col6, #T_039b1_row74_col2, #T_039b1_row74_col6, #T_039b1_row75_col2, #T_039b1_row75_col6, #T_039b1_row76_col0, #T_039b1_row76_col2, #T_039b1_row76_col3, #T_039b1_row76_col4, #T_039b1_row76_col5, #T_039b1_row76_col6, #T_039b1_row77_col2, #T_039b1_row78_col0, #T_039b1_row79_col0, #T_039b1_row80_col0, #T_039b1_row80_col1, #T_039b1_row80_col2, #T_039b1_row80_col3, #T_039b1_row80_col4, #T_039b1_row80_col5, #T_039b1_row80_col6, #T_039b1_row81_col0, #T_039b1_row81_col1, #T_039b1_row81_col2, #T_039b1_row81_col4, #T_039b1_row81_col5, #T_039b1_row81_col6, #T_039b1_row82_col0, #T_039b1_row82_col2, #T_039b1_row82_col4, #T_039b1_row82_col5, #T_039b1_row82_col6, #T_039b1_row83_col0, #T_039b1_row83_col2, #T_039b1_row83_col4, #T_039b1_row83_col5, #T_039b1_row83_col6, #T_039b1_row84_col0, #T_039b1_row84_col2, #T_039b1_row84_col4, #T_039b1_row84_col5, #T_039b1_row84_col6, #T_039b1_row85_col4, #T_039b1_row86_col0, #T_039b1_row87_col1, #T_039b1_row87_col3, #T_039b1_row87_col5, #T_039b1_row88_col0, #T_039b1_row88_col1, #T_039b1_row88_col2, #T_039b1_row88_col3, #T_039b1_row88_col4, #T_039b1_row88_col5, #T_039b1_row88_col6, #T_039b1_row89_col0, #T_039b1_row89_col1, #T_039b1_row89_col2, #T_039b1_row89_col3, #T_039b1_row89_col4, #T_039b1_row89_col5, #T_039b1_row89_col6, #T_039b1_row90_col0, #T_039b1_row90_col1, #T_039b1_row90_col2, #T_039b1_row90_col3, #T_039b1_row90_col4, #T_039b1_row90_col5, #T_039b1_row90_col6, #T_039b1_row91_col0, #T_039b1_row91_col2, #T_039b1_row92_col6, #T_039b1_row93_col0, #T_039b1_row94_col2, #T_039b1_row94_col4, #T_039b1_row94_col5, #T_039b1_row94_col6, #T_039b1_row95_col5, #T_039b1_row96_col6, #T_039b1_row97_col6, #T_039b1_row98_col0, #T_039b1_row98_col1, #T_039b1_row98_col2, #T_039b1_row98_col4, #T_039b1_row98_col5, #T_039b1_row98_col6, #T_039b1_row99_col0, #T_039b1_row100_col0, #T_039b1_row101_col0, #T_039b1_row101_col1, #T_039b1_row101_col2, #T_039b1_row101_col3, #T_039b1_row101_col4, #T_039b1_row101_col5, #T_039b1_row101_col6, #T_039b1_row102_col0, #T_039b1_row102_col1, #T_039b1_row102_col2, #T_039b1_row102_col3, #T_039b1_row102_col4, #T_039b1_row102_col5, #T_039b1_row102_col6, #T_039b1_row103_col0, #T_039b1_row103_col1, #T_039b1_row103_col2, #T_039b1_row103_col3, #T_039b1_row103_col4, #T_039b1_row103_col5, #T_039b1_row103_col6, #T_039b1_row104_col0, #T_039b1_row104_col1, #T_039b1_row104_col2, #T_039b1_row104_col3, #T_039b1_row104_col4, #T_039b1_row104_col5, #T_039b1_row104_col6, #T_039b1_row105_col0, #T_039b1_row105_col6, #T_039b1_row106_col0, #T_039b1_row107_col0, #T_039b1_row108_col0, #T_039b1_row108_col1, #T_039b1_row108_col2, #T_039b1_row108_col3, #T_039b1_row108_col4, #T_039b1_row108_col5, #T_039b1_row108_col6, #T_039b1_row109_col0, #T_039b1_row109_col2, #T_039b1_row109_col4, #T_039b1_row109_col5, #T_039b1_row109_col6, #T_039b1_row110_col0, #T_039b1_row110_col2, #T_039b1_row110_col4, #T_039b1_row110_col5, #T_039b1_row110_col6, #T_039b1_row111_col0, #T_039b1_row111_col2, #T_039b1_row111_col4, #T_039b1_row111_col6, #T_039b1_row112_col0, #T_039b1_row113_col0, #T_039b1_row113_col2, #T_039b1_row113_col3, #T_039b1_row113_col4, #T_039b1_row113_col6, #T_039b1_row114_col0, #T_039b1_row115_col0, #T_039b1_row115_col1, #T_039b1_row115_col2, #T_039b1_row115_col3, #T_039b1_row115_col4, #T_039b1_row115_col5, #T_039b1_row115_col6, #T_039b1_row116_col0, #T_039b1_row116_col2, #T_039b1_row116_col3, #T_039b1_row116_col4, #T_039b1_row116_col5, #T_039b1_row116_col6, #T_039b1_row117_col0, #T_039b1_row117_col2, #T_039b1_row117_col3, #T_039b1_row117_col4, #T_039b1_row117_col5, #T_039b1_row117_col6, #T_039b1_row118_col0, #T_039b1_row118_col2, #T_039b1_row118_col3, #T_039b1_row118_col4, #T_039b1_row118_col5, #T_039b1_row118_col6, #T_039b1_row119_col0, #T_039b1_row119_col2, #T_039b1_row119_col3, #T_039b1_row119_col4, #T_039b1_row119_col5, #T_039b1_row119_col6, #T_039b1_row120_col2, #T_039b1_row121_col0, #T_039b1_row122_col0, #T_039b1_row122_col2, #T_039b1_row122_col3, #T_039b1_row122_col4, #T_039b1_row122_col5, #T_039b1_row122_col6, #T_039b1_row123_col2, #T_039b1_row123_col6, #T_039b1_row124_col2, #T_039b1_row124_col6, #T_039b1_row125_col0, #T_039b1_row125_col2, #T_039b1_row125_col3, #T_039b1_row125_col4, #T_039b1_row125_col5, #T_039b1_row125_col6, #T_039b1_row126_col0, #T_039b1_row126_col1, #T_039b1_row126_col2, #T_039b1_row126_col3, #T_039b1_row126_col4, #T_039b1_row126_col5, #T_039b1_row126_col6, #T_039b1_row127_col0, #T_039b1_row128_col0, #T_039b1_row129_col0, #T_039b1_row129_col1, #T_039b1_row129_col2, #T_039b1_row129_col3, #T_039b1_row129_col5, #T_039b1_row129_col6, #T_039b1_row130_col0, #T_039b1_row130_col2, #T_039b1_row130_col6, #T_039b1_row131_col0, #T_039b1_row131_col2, #T_039b1_row131_col6, #T_039b1_row132_col0, #T_039b1_row132_col2, #T_039b1_row132_col6, #T_039b1_row133_col0, #T_039b1_row134_col0, #T_039b1_row134_col2, #T_039b1_row134_col4, #T_039b1_row134_col5, #T_039b1_row134_col6, #T_039b1_row135_col0, #T_039b1_row135_col5, #T_039b1_row136_col0, #T_039b1_row136_col1, #T_039b1_row136_col2, #T_039b1_row136_col3, #T_039b1_row136_col4, #T_039b1_row136_col5, #T_039b1_row136_col6, #T_039b1_row137_col0, #T_039b1_row137_col1, #T_039b1_row137_col2, #T_039b1_row137_col3, #T_039b1_row137_col4, #T_039b1_row137_col5, #T_039b1_row137_col6, #T_039b1_row138_col0, #T_039b1_row138_col1, #T_039b1_row138_col2, #T_039b1_row138_col3, #T_039b1_row138_col4, #T_039b1_row138_col5, #T_039b1_row138_col6, #T_039b1_row139_col0, #T_039b1_row139_col1, #T_039b1_row139_col2, #T_039b1_row139_col3, #T_039b1_row139_col4, #T_039b1_row139_col5, #T_039b1_row139_col6, #T_039b1_row140_col0, #T_039b1_row140_col5 {\n",
       "  background-color: #f7fbff;\n",
       "  color: #000000;\n",
       "}\n",
       "#T_039b1_row0_col2 {\n",
       "  background-color: #92c4de;\n",
       "  color: #000000;\n",
       "}\n",
       "#T_039b1_row0_col3, #T_039b1_row23_col4, #T_039b1_row26_col4 {\n",
       "  background-color: #edf4fc;\n",
       "  color: #000000;\n",
       "}\n",
       "#T_039b1_row0_col4, #T_039b1_row92_col1 {\n",
       "  background-color: #65aad4;\n",
       "  color: #f1f1f1;\n",
       "}\n",
       "#T_039b1_row0_col5 {\n",
       "  background-color: #a8cee4;\n",
       "  color: #000000;\n",
       "}\n",
       "#T_039b1_row0_col6, #T_039b1_row26_col3 {\n",
       "  background-color: #1966ad;\n",
       "  color: #f1f1f1;\n",
       "}\n",
       "#T_039b1_row1_col2, #T_039b1_row30_col4, #T_039b1_row65_col2, #T_039b1_row78_col6, #T_039b1_row114_col2 {\n",
       "  background-color: #f6faff;\n",
       "  color: #000000;\n",
       "}\n",
       "#T_039b1_row1_col3, #T_039b1_row27_col0, #T_039b1_row99_col6 {\n",
       "  background-color: #e8f1fa;\n",
       "  color: #000000;\n",
       "}\n",
       "#T_039b1_row1_col5 {\n",
       "  background-color: #a9cfe5;\n",
       "  color: #000000;\n",
       "}\n",
       "#T_039b1_row2_col2, #T_039b1_row71_col6 {\n",
       "  background-color: #e9f2fa;\n",
       "  color: #000000;\n",
       "}\n",
       "#T_039b1_row2_col3 {\n",
       "  background-color: #b7d4ea;\n",
       "  color: #000000;\n",
       "}\n",
       "#T_039b1_row2_col4, #T_039b1_row2_col6, #T_039b1_row22_col4, #T_039b1_row43_col3, #T_039b1_row50_col6, #T_039b1_row79_col6, #T_039b1_row95_col6, #T_039b1_row120_col6 {\n",
       "  background-color: #eef5fc;\n",
       "  color: #000000;\n",
       "}\n",
       "#T_039b1_row2_col5 {\n",
       "  background-color: #4493c7;\n",
       "  color: #f1f1f1;\n",
       "}\n",
       "#T_039b1_row8_col1, #T_039b1_row43_col4, #T_039b1_row48_col2 {\n",
       "  background-color: #4191c6;\n",
       "  color: #f1f1f1;\n",
       "}\n",
       "#T_039b1_row8_col3 {\n",
       "  background-color: #1561a9;\n",
       "  color: #f1f1f1;\n",
       "}\n",
       "#T_039b1_row8_col5, #T_039b1_row26_col2 {\n",
       "  background-color: #083d7f;\n",
       "  color: #f1f1f1;\n",
       "}\n",
       "#T_039b1_row9_col2, #T_039b1_row24_col1 {\n",
       "  background-color: #ecf4fb;\n",
       "  color: #000000;\n",
       "}\n",
       "#T_039b1_row9_col3, #T_039b1_row27_col3 {\n",
       "  background-color: #1562a9;\n",
       "  color: #f1f1f1;\n",
       "}\n",
       "#T_039b1_row9_col5, #T_039b1_row47_col6, #T_039b1_row100_col1 {\n",
       "  background-color: #7ab6d9;\n",
       "  color: #000000;\n",
       "}\n",
       "#T_039b1_row15_col1, #T_039b1_row42_col5, #T_039b1_row92_col5 {\n",
       "  background-color: #cddff1;\n",
       "  color: #000000;\n",
       "}\n",
       "#T_039b1_row15_col3, #T_039b1_row112_col2 {\n",
       "  background-color: #d4e4f4;\n",
       "  color: #000000;\n",
       "}\n",
       "#T_039b1_row16_col3 {\n",
       "  background-color: #084488;\n",
       "  color: #f1f1f1;\n",
       "}\n",
       "#T_039b1_row16_col4, #T_039b1_row27_col4 {\n",
       "  background-color: #f0f6fd;\n",
       "  color: #000000;\n",
       "}\n",
       "#T_039b1_row16_col6, #T_039b1_row56_col0, #T_039b1_row56_col6, #T_039b1_row106_col2 {\n",
       "  background-color: #eff6fc;\n",
       "  color: #000000;\n",
       "}\n",
       "#T_039b1_row22_col0 {\n",
       "  background-color: #e5eff9;\n",
       "  color: #000000;\n",
       "}\n",
       "#T_039b1_row22_col1, #T_039b1_row28_col5, #T_039b1_row37_col3 {\n",
       "  background-color: #083776;\n",
       "  color: #f1f1f1;\n",
       "}\n",
       "#T_039b1_row22_col2 {\n",
       "  background-color: #083674;\n",
       "  color: #f1f1f1;\n",
       "}\n",
       "#T_039b1_row22_col3 {\n",
       "  background-color: #1460a8;\n",
       "  color: #f1f1f1;\n",
       "}\n",
       "#T_039b1_row23_col2, #T_039b1_row130_col5 {\n",
       "  background-color: #084a91;\n",
       "  color: #f1f1f1;\n",
       "}\n",
       "#T_039b1_row23_col3 {\n",
       "  background-color: #2777b8;\n",
       "  color: #f1f1f1;\n",
       "}\n",
       "#T_039b1_row23_col5, #T_039b1_row27_col2 {\n",
       "  background-color: #083979;\n",
       "  color: #f1f1f1;\n",
       "}\n",
       "#T_039b1_row23_col6, #T_039b1_row36_col6, #T_039b1_row58_col0, #T_039b1_row58_col2, #T_039b1_row64_col5, #T_039b1_row113_col5 {\n",
       "  background-color: #f5fafe;\n",
       "  color: #000000;\n",
       "}\n",
       "#T_039b1_row24_col4, #T_039b1_row53_col3, #T_039b1_row86_col3 {\n",
       "  background-color: #1b69af;\n",
       "  color: #f1f1f1;\n",
       "}\n",
       "#T_039b1_row24_col6, #T_039b1_row51_col6, #T_039b1_row74_col0, #T_039b1_row74_col3, #T_039b1_row74_col4, #T_039b1_row74_col5, #T_039b1_row75_col0, #T_039b1_row75_col3, #T_039b1_row75_col4, #T_039b1_row75_col5, #T_039b1_row79_col4, #T_039b1_row91_col3, #T_039b1_row109_col3 {\n",
       "  background-color: #6aaed6;\n",
       "  color: #f1f1f1;\n",
       "}\n",
       "#T_039b1_row25_col0, #T_039b1_row72_col4, #T_039b1_row135_col2 {\n",
       "  background-color: #d9e7f5;\n",
       "  color: #000000;\n",
       "}\n",
       "#T_039b1_row25_col1, #T_039b1_row25_col3 {\n",
       "  background-color: #1d6cb1;\n",
       "  color: #f1f1f1;\n",
       "}\n",
       "#T_039b1_row26_col0 {\n",
       "  background-color: #e3eef8;\n",
       "  color: #000000;\n",
       "}\n",
       "#T_039b1_row26_col1 {\n",
       "  background-color: #0e59a2;\n",
       "  color: #f1f1f1;\n",
       "}\n",
       "#T_039b1_row28_col1, #T_039b1_row127_col5 {\n",
       "  background-color: #083b7c;\n",
       "  color: #f1f1f1;\n",
       "}\n",
       "#T_039b1_row28_col3 {\n",
       "  background-color: #084b93;\n",
       "  color: #f1f1f1;\n",
       "}\n",
       "#T_039b1_row28_col4, #T_039b1_row72_col6, #T_039b1_row96_col2 {\n",
       "  background-color: #4e9acb;\n",
       "  color: #f1f1f1;\n",
       "}\n",
       "#T_039b1_row28_col6 {\n",
       "  background-color: #d2e3f3;\n",
       "  color: #000000;\n",
       "}\n",
       "#T_039b1_row30_col2, #T_039b1_row106_col6 {\n",
       "  background-color: #f2f8fd;\n",
       "  color: #000000;\n",
       "}\n",
       "#T_039b1_row30_col5 {\n",
       "  background-color: #f3f8fe;\n",
       "  color: #000000;\n",
       "}\n",
       "#T_039b1_row31_col2, #T_039b1_row31_col3, #T_039b1_row31_col4, #T_039b1_row31_col5, #T_039b1_row31_col6, #T_039b1_row44_col6, #T_039b1_row63_col0, #T_039b1_row63_col2, #T_039b1_row63_col4, #T_039b1_row63_col6, #T_039b1_row77_col0, #T_039b1_row77_col6, #T_039b1_row87_col2, #T_039b1_row87_col4, #T_039b1_row105_col2 {\n",
       "  background-color: #abd0e6;\n",
       "  color: #000000;\n",
       "}\n",
       "#T_039b1_row35_col5 {\n",
       "  background-color: #57a0ce;\n",
       "  color: #f1f1f1;\n",
       "}\n",
       "#T_039b1_row35_col6, #T_039b1_row78_col1 {\n",
       "  background-color: #3686c0;\n",
       "  color: #f1f1f1;\n",
       "}\n",
       "#T_039b1_row36_col2, #T_039b1_row94_col1, #T_039b1_row127_col2 {\n",
       "  background-color: #f4f9fe;\n",
       "  color: #000000;\n",
       "}\n",
       "#T_039b1_row36_col3 {\n",
       "  background-color: #08458a;\n",
       "  color: #f1f1f1;\n",
       "}\n",
       "#T_039b1_row36_col4 {\n",
       "  background-color: #dceaf6;\n",
       "  color: #000000;\n",
       "}\n",
       "#T_039b1_row36_col5 {\n",
       "  background-color: #d7e6f5;\n",
       "  color: #000000;\n",
       "}\n",
       "#T_039b1_row37_col2, #T_039b1_row135_col6 {\n",
       "  background-color: #e6f0f9;\n",
       "  color: #000000;\n",
       "}\n",
       "#T_039b1_row37_col4 {\n",
       "  background-color: #8cc0dd;\n",
       "  color: #000000;\n",
       "}\n",
       "#T_039b1_row37_col5, #T_039b1_row107_col4 {\n",
       "  background-color: #99c7e0;\n",
       "  color: #000000;\n",
       "}\n",
       "#T_039b1_row37_col6 {\n",
       "  background-color: #eaf3fb;\n",
       "  color: #000000;\n",
       "}\n",
       "#T_039b1_row39_col1 {\n",
       "  background-color: #105ba4;\n",
       "  color: #f1f1f1;\n",
       "}\n",
       "#T_039b1_row40_col3 {\n",
       "  background-color: #2e7ebc;\n",
       "  color: #f1f1f1;\n",
       "}\n",
       "#T_039b1_row41_col3 {\n",
       "  background-color: #0a539e;\n",
       "  color: #f1f1f1;\n",
       "}\n",
       "#T_039b1_row41_col5, #T_039b1_row58_col6 {\n",
       "  background-color: #eaf2fb;\n",
       "  color: #000000;\n",
       "}\n",
       "#T_039b1_row42_col1 {\n",
       "  background-color: #125da6;\n",
       "  color: #f1f1f1;\n",
       "}\n",
       "#T_039b1_row42_col2, #T_039b1_row43_col6 {\n",
       "  background-color: #bcd7eb;\n",
       "  color: #000000;\n",
       "}\n",
       "#T_039b1_row42_col4 {\n",
       "  background-color: #5ca4d0;\n",
       "  color: #f1f1f1;\n",
       "}\n",
       "#T_039b1_row42_col6, #T_039b1_row95_col3 {\n",
       "  background-color: #c3daee;\n",
       "  color: #000000;\n",
       "}\n",
       "#T_039b1_row43_col2 {\n",
       "  background-color: #89bedc;\n",
       "  color: #000000;\n",
       "}\n",
       "#T_039b1_row43_col5, #T_039b1_row107_col5 {\n",
       "  background-color: #95c5df;\n",
       "  color: #000000;\n",
       "}\n",
       "#T_039b1_row44_col1 {\n",
       "  background-color: #0d57a1;\n",
       "  color: #f1f1f1;\n",
       "}\n",
       "#T_039b1_row44_col2 {\n",
       "  background-color: #2373b6;\n",
       "  color: #f1f1f1;\n",
       "}\n",
       "#T_039b1_row44_col3 {\n",
       "  background-color: #084184;\n",
       "  color: #f1f1f1;\n",
       "}\n",
       "#T_039b1_row44_col4, #T_039b1_row93_col3, #T_039b1_row106_col3 {\n",
       "  background-color: #1e6db2;\n",
       "  color: #f1f1f1;\n",
       "}\n",
       "#T_039b1_row46_col2 {\n",
       "  background-color: #60a7d2;\n",
       "  color: #f1f1f1;\n",
       "}\n",
       "#T_039b1_row46_col4, #T_039b1_row53_col0, #T_039b1_row53_col4, #T_039b1_row53_col5, #T_039b1_row92_col2 {\n",
       "  background-color: #79b5d9;\n",
       "  color: #000000;\n",
       "}\n",
       "#T_039b1_row46_col5, #T_039b1_row95_col4 {\n",
       "  background-color: #d0e1f2;\n",
       "  color: #000000;\n",
       "}\n",
       "#T_039b1_row46_col6, #T_039b1_row93_col6 {\n",
       "  background-color: #94c4df;\n",
       "  color: #000000;\n",
       "}\n",
       "#T_039b1_row47_col2, #T_039b1_row47_col5, #T_039b1_row96_col4, #T_039b1_row112_col4 {\n",
       "  background-color: #5fa6d1;\n",
       "  color: #f1f1f1;\n",
       "}\n",
       "#T_039b1_row48_col3, #T_039b1_row48_col6, #T_039b1_row91_col4, #T_039b1_row91_col5, #T_039b1_row91_col6, #T_039b1_row99_col2 {\n",
       "  background-color: #c6dbef;\n",
       "  color: #000000;\n",
       "}\n",
       "#T_039b1_row50_col0, #T_039b1_row56_col4 {\n",
       "  background-color: #b5d4e9;\n",
       "  color: #000000;\n",
       "}\n",
       "#T_039b1_row50_col3 {\n",
       "  background-color: #4997c9;\n",
       "  color: #f1f1f1;\n",
       "}\n",
       "#T_039b1_row50_col4, #T_039b1_row55_col3 {\n",
       "  background-color: #b2d2e8;\n",
       "  color: #000000;\n",
       "}\n",
       "#T_039b1_row50_col5, #T_039b1_row112_col6 {\n",
       "  background-color: #afd1e7;\n",
       "  color: #000000;\n",
       "}\n",
       "#T_039b1_row51_col2, #T_039b1_row56_col3, #T_039b1_row86_col5, #T_039b1_row99_col1, #T_039b1_row121_col6 {\n",
       "  background-color: #85bcdc;\n",
       "  color: #000000;\n",
       "}\n",
       "#T_039b1_row51_col3 {\n",
       "  background-color: #6fb0d7;\n",
       "  color: #f1f1f1;\n",
       "}\n",
       "#T_039b1_row51_col4 {\n",
       "  background-color: #cee0f2;\n",
       "  color: #000000;\n",
       "}\n",
       "#T_039b1_row51_col5 {\n",
       "  background-color: #6caed6;\n",
       "  color: #f1f1f1;\n",
       "}\n",
       "#T_039b1_row54_col0, #T_039b1_row54_col4, #T_039b1_row54_col5 {\n",
       "  background-color: #a4cce3;\n",
       "  color: #000000;\n",
       "}\n",
       "#T_039b1_row54_col3 {\n",
       "  background-color: #4b98ca;\n",
       "  color: #f1f1f1;\n",
       "}\n",
       "#T_039b1_row56_col5 {\n",
       "  background-color: #d0e2f2;\n",
       "  color: #000000;\n",
       "}\n",
       "#T_039b1_row57_col1, #T_039b1_row72_col5 {\n",
       "  background-color: #519ccc;\n",
       "  color: #f1f1f1;\n",
       "}\n",
       "#T_039b1_row57_col4 {\n",
       "  background-color: #ebf3fb;\n",
       "  color: #000000;\n",
       "}\n",
       "#T_039b1_row58_col3, #T_039b1_row99_col4 {\n",
       "  background-color: #82bbdb;\n",
       "  color: #000000;\n",
       "}\n",
       "#T_039b1_row58_col4 {\n",
       "  background-color: #9dcae1;\n",
       "  color: #000000;\n",
       "}\n",
       "#T_039b1_row65_col3, #T_039b1_row107_col2, #T_039b1_row114_col3 {\n",
       "  background-color: #dfebf7;\n",
       "  color: #000000;\n",
       "}\n",
       "#T_039b1_row65_col4, #T_039b1_row114_col4 {\n",
       "  background-color: #d8e7f5;\n",
       "  color: #000000;\n",
       "}\n",
       "#T_039b1_row65_col5, #T_039b1_row114_col5 {\n",
       "  background-color: #9fcae1;\n",
       "  color: #000000;\n",
       "}\n",
       "#T_039b1_row65_col6, #T_039b1_row78_col2, #T_039b1_row85_col5, #T_039b1_row114_col6, #T_039b1_row127_col6 {\n",
       "  background-color: #f5f9fe;\n",
       "  color: #000000;\n",
       "}\n",
       "#T_039b1_row71_col0, #T_039b1_row71_col4 {\n",
       "  background-color: #7fb9da;\n",
       "  color: #000000;\n",
       "}\n",
       "#T_039b1_row71_col3 {\n",
       "  background-color: #68acd5;\n",
       "  color: #f1f1f1;\n",
       "}\n",
       "#T_039b1_row71_col5 {\n",
       "  background-color: #72b2d8;\n",
       "  color: #f1f1f1;\n",
       "}\n",
       "#T_039b1_row72_col2 {\n",
       "  background-color: #66abd4;\n",
       "  color: #f1f1f1;\n",
       "}\n",
       "#T_039b1_row72_col3 {\n",
       "  background-color: #69add5;\n",
       "  color: #f1f1f1;\n",
       "}\n",
       "#T_039b1_row77_col3, #T_039b1_row77_col4, #T_039b1_row77_col5, #T_039b1_row87_col6, #T_039b1_row105_col3, #T_039b1_row105_col5, #T_039b1_row110_col3 {\n",
       "  background-color: #3787c0;\n",
       "  color: #f1f1f1;\n",
       "}\n",
       "#T_039b1_row78_col4, #T_039b1_row100_col6, #T_039b1_row111_col5 {\n",
       "  background-color: #dbe9f6;\n",
       "  color: #000000;\n",
       "}\n",
       "#T_039b1_row78_col5, #T_039b1_row79_col2 {\n",
       "  background-color: #deebf7;\n",
       "  color: #000000;\n",
       "}\n",
       "#T_039b1_row79_col3 {\n",
       "  background-color: #a0cbe2;\n",
       "  color: #000000;\n",
       "}\n",
       "#T_039b1_row79_col5, #T_039b1_row120_col0 {\n",
       "  background-color: #74b3d8;\n",
       "  color: #000000;\n",
       "}\n",
       "#T_039b1_row85_col0 {\n",
       "  background-color: #e1edf8;\n",
       "  color: #000000;\n",
       "}\n",
       "#T_039b1_row85_col2 {\n",
       "  background-color: #e2edf8;\n",
       "  color: #000000;\n",
       "}\n",
       "#T_039b1_row85_col3 {\n",
       "  background-color: #a6cee4;\n",
       "  color: #000000;\n",
       "}\n",
       "#T_039b1_row85_col6, #T_039b1_row86_col2 {\n",
       "  background-color: #e0ecf8;\n",
       "  color: #000000;\n",
       "}\n",
       "#T_039b1_row86_col4, #T_039b1_row95_col2 {\n",
       "  background-color: #bfd8ed;\n",
       "  color: #000000;\n",
       "}\n",
       "#T_039b1_row86_col6 {\n",
       "  background-color: #e4eff9;\n",
       "  color: #000000;\n",
       "}\n",
       "#T_039b1_row92_col3 {\n",
       "  background-color: #8abfdd;\n",
       "  color: #000000;\n",
       "}\n",
       "#T_039b1_row92_col4 {\n",
       "  background-color: #7cb7da;\n",
       "  color: #000000;\n",
       "}\n",
       "#T_039b1_row93_col1 {\n",
       "  background-color: #1967ad;\n",
       "  color: #f1f1f1;\n",
       "}\n",
       "#T_039b1_row93_col4 {\n",
       "  background-color: #3080bd;\n",
       "  color: #f1f1f1;\n",
       "}\n",
       "#T_039b1_row93_col5 {\n",
       "  background-color: #084e98;\n",
       "  color: #f1f1f1;\n",
       "}\n",
       "#T_039b1_row94_col3 {\n",
       "  background-color: #f2f7fd;\n",
       "  color: #000000;\n",
       "}\n",
       "#T_039b1_row95_col1, #T_039b1_row100_col2 {\n",
       "  background-color: #9ac8e0;\n",
       "  color: #000000;\n",
       "}\n",
       "#T_039b1_row96_col1 {\n",
       "  background-color: #4695c8;\n",
       "  color: #f1f1f1;\n",
       "}\n",
       "#T_039b1_row96_col3 {\n",
       "  background-color: #5da5d1;\n",
       "  color: #f1f1f1;\n",
       "}\n",
       "#T_039b1_row96_col5 {\n",
       "  background-color: #aacfe5;\n",
       "  color: #000000;\n",
       "}\n",
       "#T_039b1_row97_col1 {\n",
       "  background-color: #2d7dbb;\n",
       "  color: #f1f1f1;\n",
       "}\n",
       "#T_039b1_row97_col2 {\n",
       "  background-color: #2575b7;\n",
       "  color: #f1f1f1;\n",
       "}\n",
       "#T_039b1_row97_col3, #T_039b1_row121_col2 {\n",
       "  background-color: #539ecd;\n",
       "  color: #f1f1f1;\n",
       "}\n",
       "#T_039b1_row97_col4, #T_039b1_row128_col3 {\n",
       "  background-color: #549fcd;\n",
       "  color: #f1f1f1;\n",
       "}\n",
       "#T_039b1_row97_col5 {\n",
       "  background-color: #8dc1dd;\n",
       "  color: #000000;\n",
       "}\n",
       "#T_039b1_row99_col5, #T_039b1_row120_col5 {\n",
       "  background-color: #2979b9;\n",
       "  color: #f1f1f1;\n",
       "}\n",
       "#T_039b1_row100_col4 {\n",
       "  background-color: #4f9bcb;\n",
       "  color: #f1f1f1;\n",
       "}\n",
       "#T_039b1_row100_col5 {\n",
       "  background-color: #2474b7;\n",
       "  color: #f1f1f1;\n",
       "}\n",
       "#T_039b1_row106_col4 {\n",
       "  background-color: #dae8f6;\n",
       "  color: #000000;\n",
       "}\n",
       "#T_039b1_row106_col5 {\n",
       "  background-color: #ccdff1;\n",
       "  color: #000000;\n",
       "}\n",
       "#T_039b1_row107_col3 {\n",
       "  background-color: #0e58a2;\n",
       "  color: #f1f1f1;\n",
       "}\n",
       "#T_039b1_row107_col6 {\n",
       "  background-color: #e7f1fa;\n",
       "  color: #000000;\n",
       "}\n",
       "#T_039b1_row111_col3, #T_039b1_row112_col3, #T_039b1_row133_col2, #T_039b1_row134_col3 {\n",
       "  background-color: #2b7bba;\n",
       "  color: #f1f1f1;\n",
       "}\n",
       "#T_039b1_row112_col5 {\n",
       "  background-color: #97c6df;\n",
       "  color: #000000;\n",
       "}\n",
       "#T_039b1_row120_col3 {\n",
       "  background-color: #206fb4;\n",
       "  color: #f1f1f1;\n",
       "}\n",
       "#T_039b1_row120_col4 {\n",
       "  background-color: #6dafd7;\n",
       "  color: #f1f1f1;\n",
       "}\n",
       "#T_039b1_row121_col3 {\n",
       "  background-color: #1764ab;\n",
       "  color: #f1f1f1;\n",
       "}\n",
       "#T_039b1_row121_col4 {\n",
       "  background-color: #caddf0;\n",
       "  color: #000000;\n",
       "}\n",
       "#T_039b1_row121_col5 {\n",
       "  background-color: #083e81;\n",
       "  color: #f1f1f1;\n",
       "}\n",
       "#T_039b1_row127_col4 {\n",
       "  background-color: #08326e;\n",
       "  color: #f1f1f1;\n",
       "}\n",
       "#T_039b1_row128_col1 {\n",
       "  background-color: #4090c5;\n",
       "  color: #f1f1f1;\n",
       "}\n",
       "#T_039b1_row128_col2 {\n",
       "  background-color: #9cc9e1;\n",
       "  color: #000000;\n",
       "}\n",
       "#T_039b1_row128_col4 {\n",
       "  background-color: #75b4d8;\n",
       "  color: #000000;\n",
       "}\n",
       "#T_039b1_row128_col6 {\n",
       "  background-color: #c2d9ee;\n",
       "  color: #000000;\n",
       "}\n",
       "#T_039b1_row135_col3 {\n",
       "  background-color: #0c56a0;\n",
       "  color: #f1f1f1;\n",
       "}\n",
       "#T_039b1_row135_col4 {\n",
       "  background-color: #e3eef9;\n",
       "  color: #000000;\n",
       "}\n",
       "</style>\n",
       "<table id=\"T_039b1\">\n",
       "  <thead>\n",
       "    <tr>\n",
       "      <th class=\"blank\" >&nbsp;</th>\n",
       "      <th class=\"blank\" >&nbsp;</th>\n",
       "      <th class=\"index_name level0\" >cluster</th>\n",
       "      <th id=\"T_039b1_level0_col0\" class=\"col_heading level0 col0\" >Jóvenes universitarios (+-25 años) con bajo compromiso digital, poco activos, pocos productos (principalmente cuenta corriente). Son los más tenientes.</th>\n",
       "      <th id=\"T_039b1_level0_col1\" class=\"col_heading level0 col1\" >Profesionales (+-41 años, predominantemente Particulares) financieramente estables. Contiene universitarios y la mayor representación de TOP. Alta diversificación de productos (inversiones y cuentas), activos, digitales, frecuentes, con aptitud al riesgo. Son los más rentables</th>\n",
       "      <th id=\"T_039b1_level0_col2\" class=\"col_heading level0 col2\" >Profesionales experimentados (Particulares), con baja salud financiera, baja diversidad de productos, aptitud al riesgo y tendencia de compra. Son los más mayores (+-42 años). Poseen la menor diversidad de productos (cuentas y algunos préstamos/hipotecas)</th>\n",
       "      <th id=\"T_039b1_level0_col3\" class=\"col_heading level0 col3\" >Profesionales financieramente estables (+-39 años, predominantemente Particulares). Contiene universitarios y TOP. Alta diversificación de productos (financieros - préstamos e hipotecas), activos, digitales, frecuentes, con aptitud al riesgo. Segundo grupo más rentable. Posee el menor grado histórico de fidelidad</th>\n",
       "      <th id=\"T_039b1_level0_col4\" class=\"col_heading level0 col4\" >Universitarios (+-24 años). Son digitales, con leve diversificación de productos (concentran cuentas corrientes), baja salud financiera. Presenta menor tendencia de compra. Son los universitarios más digitales</th>\n",
       "      <th id=\"T_039b1_level0_col5\" class=\"col_heading level0 col5\" >Profesionales (predominantemente Particulares, TOP) experimentados (+- 42 años). Son digitales, con pocas transacciones y con diversidad moderada de productos. Tercer grupo más rentable para el banco y segundo con menor índice histórico de fidelización</th>\n",
       "      <th id=\"T_039b1_level0_col6\" class=\"col_heading level0 col6\" >Estudiantes universitarios (+- 23 años) con menor tenencia, baja diversificación de productos (concentran cuentas corrientes), poco activos y poco digitales. Son los más jóvenes</th>\n",
       "    </tr>\n",
       "    <tr>\n",
       "      <th class=\"index_name level0\" >Grupo Indicadores</th>\n",
       "      <th class=\"index_name level1\" >Indicador</th>\n",
       "      <th class=\"index_name level2\" >Estadístico</th>\n",
       "      <th class=\"blank col0\" >&nbsp;</th>\n",
       "      <th class=\"blank col1\" >&nbsp;</th>\n",
       "      <th class=\"blank col2\" >&nbsp;</th>\n",
       "      <th class=\"blank col3\" >&nbsp;</th>\n",
       "      <th class=\"blank col4\" >&nbsp;</th>\n",
       "      <th class=\"blank col5\" >&nbsp;</th>\n",
       "      <th class=\"blank col6\" >&nbsp;</th>\n",
       "    </tr>\n",
       "  </thead>\n",
       "  <tbody>\n",
       "    <tr>\n",
       "      <th id=\"T_039b1_level0_row0\" class=\"row_heading level0 row0\" >General</th>\n",
       "      <th id=\"T_039b1_level1_row0\" class=\"row_heading level1 row0\" >Clúster</th>\n",
       "      <th id=\"T_039b1_level2_row0\" class=\"row_heading level2 row0\" >Tamaño</th>\n",
       "      <td id=\"T_039b1_row0_col0\" class=\"data row0 col0\" >111684.000000</td>\n",
       "      <td id=\"T_039b1_row0_col1\" class=\"data row0 col1\" >24512.000000</td>\n",
       "      <td id=\"T_039b1_row0_col2\" class=\"data row0 col2\" >59824.000000</td>\n",
       "      <td id=\"T_039b1_row0_col3\" class=\"data row0 col3\" >28955.000000</td>\n",
       "      <td id=\"T_039b1_row0_col4\" class=\"data row0 col4\" >69713.000000</td>\n",
       "      <td id=\"T_039b1_row0_col5\" class=\"data row0 col5\" >54748.000000</td>\n",
       "      <td id=\"T_039b1_row0_col6\" class=\"data row0 col6\" >93559.000000</td>\n",
       "    </tr>\n",
       "    <tr>\n",
       "      <th id=\"T_039b1_level0_row1\" class=\"row_heading level0 row1\" rowspan=\"21\">Segmento (social)</th>\n",
       "      <th id=\"T_039b1_level1_row1\" class=\"row_heading level1 row1\" rowspan=\"7\">Top</th>\n",
       "      <th id=\"T_039b1_level2_row1\" class=\"row_heading level2 row1\" >Media</th>\n",
       "      <td id=\"T_039b1_row1_col0\" class=\"data row1 col0\" >0.000000</td>\n",
       "      <td id=\"T_039b1_row1_col1\" class=\"data row1 col1\" >0.156800</td>\n",
       "      <td id=\"T_039b1_row1_col2\" class=\"data row1 col2\" >0.000700</td>\n",
       "      <td id=\"T_039b1_row1_col3\" class=\"data row1 col3\" >0.012000</td>\n",
       "      <td id=\"T_039b1_row1_col4\" class=\"data row1 col4\" >0.000300</td>\n",
       "      <td id=\"T_039b1_row1_col5\" class=\"data row1 col5\" >0.053300</td>\n",
       "      <td id=\"T_039b1_row1_col6\" class=\"data row1 col6\" >0.000300</td>\n",
       "    </tr>\n",
       "    <tr>\n",
       "      <th id=\"T_039b1_level2_row2\" class=\"row_heading level2 row2\" >Desviación</th>\n",
       "      <td id=\"T_039b1_row2_col0\" class=\"data row2 col0\" >0.000000</td>\n",
       "      <td id=\"T_039b1_row2_col1\" class=\"data row2 col1\" >0.363600</td>\n",
       "      <td id=\"T_039b1_row2_col2\" class=\"data row2 col2\" >0.026800</td>\n",
       "      <td id=\"T_039b1_row2_col3\" class=\"data row2 col3\" >0.109000</td>\n",
       "      <td id=\"T_039b1_row2_col4\" class=\"data row2 col4\" >0.016100</td>\n",
       "      <td id=\"T_039b1_row2_col5\" class=\"data row2 col5\" >0.224600</td>\n",
       "      <td id=\"T_039b1_row2_col6\" class=\"data row2 col6\" >0.017000</td>\n",
       "    </tr>\n",
       "    <tr>\n",
       "      <th id=\"T_039b1_level2_row3\" class=\"row_heading level2 row3\" >Mínimo</th>\n",
       "      <td id=\"T_039b1_row3_col0\" class=\"data row3 col0\" >0.000000</td>\n",
       "      <td id=\"T_039b1_row3_col1\" class=\"data row3 col1\" >0.000000</td>\n",
       "      <td id=\"T_039b1_row3_col2\" class=\"data row3 col2\" >0.000000</td>\n",
       "      <td id=\"T_039b1_row3_col3\" class=\"data row3 col3\" >0.000000</td>\n",
       "      <td id=\"T_039b1_row3_col4\" class=\"data row3 col4\" >0.000000</td>\n",
       "      <td id=\"T_039b1_row3_col5\" class=\"data row3 col5\" >0.000000</td>\n",
       "      <td id=\"T_039b1_row3_col6\" class=\"data row3 col6\" >0.000000</td>\n",
       "    </tr>\n",
       "    <tr>\n",
       "      <th id=\"T_039b1_level2_row4\" class=\"row_heading level2 row4\" >Perc. 25</th>\n",
       "      <td id=\"T_039b1_row4_col0\" class=\"data row4 col0\" >0.000000</td>\n",
       "      <td id=\"T_039b1_row4_col1\" class=\"data row4 col1\" >0.000000</td>\n",
       "      <td id=\"T_039b1_row4_col2\" class=\"data row4 col2\" >0.000000</td>\n",
       "      <td id=\"T_039b1_row4_col3\" class=\"data row4 col3\" >0.000000</td>\n",
       "      <td id=\"T_039b1_row4_col4\" class=\"data row4 col4\" >0.000000</td>\n",
       "      <td id=\"T_039b1_row4_col5\" class=\"data row4 col5\" >0.000000</td>\n",
       "      <td id=\"T_039b1_row4_col6\" class=\"data row4 col6\" >0.000000</td>\n",
       "    </tr>\n",
       "    <tr>\n",
       "      <th id=\"T_039b1_level2_row5\" class=\"row_heading level2 row5\" >Perc. 50</th>\n",
       "      <td id=\"T_039b1_row5_col0\" class=\"data row5 col0\" >0.000000</td>\n",
       "      <td id=\"T_039b1_row5_col1\" class=\"data row5 col1\" >0.000000</td>\n",
       "      <td id=\"T_039b1_row5_col2\" class=\"data row5 col2\" >0.000000</td>\n",
       "      <td id=\"T_039b1_row5_col3\" class=\"data row5 col3\" >0.000000</td>\n",
       "      <td id=\"T_039b1_row5_col4\" class=\"data row5 col4\" >0.000000</td>\n",
       "      <td id=\"T_039b1_row5_col5\" class=\"data row5 col5\" >0.000000</td>\n",
       "      <td id=\"T_039b1_row5_col6\" class=\"data row5 col6\" >0.000000</td>\n",
       "    </tr>\n",
       "    <tr>\n",
       "      <th id=\"T_039b1_level2_row6\" class=\"row_heading level2 row6\" >Perc. 75</th>\n",
       "      <td id=\"T_039b1_row6_col0\" class=\"data row6 col0\" >0.000000</td>\n",
       "      <td id=\"T_039b1_row6_col1\" class=\"data row6 col1\" >0.000000</td>\n",
       "      <td id=\"T_039b1_row6_col2\" class=\"data row6 col2\" >0.000000</td>\n",
       "      <td id=\"T_039b1_row6_col3\" class=\"data row6 col3\" >0.000000</td>\n",
       "      <td id=\"T_039b1_row6_col4\" class=\"data row6 col4\" >0.000000</td>\n",
       "      <td id=\"T_039b1_row6_col5\" class=\"data row6 col5\" >0.000000</td>\n",
       "      <td id=\"T_039b1_row6_col6\" class=\"data row6 col6\" >0.000000</td>\n",
       "    </tr>\n",
       "    <tr>\n",
       "      <th id=\"T_039b1_level2_row7\" class=\"row_heading level2 row7\" >Máximo</th>\n",
       "      <td id=\"T_039b1_row7_col0\" class=\"data row7 col0\" >0.000000</td>\n",
       "      <td id=\"T_039b1_row7_col1\" class=\"data row7 col1\" >1.000000</td>\n",
       "      <td id=\"T_039b1_row7_col2\" class=\"data row7 col2\" >1.000000</td>\n",
       "      <td id=\"T_039b1_row7_col3\" class=\"data row7 col3\" >1.000000</td>\n",
       "      <td id=\"T_039b1_row7_col4\" class=\"data row7 col4\" >1.000000</td>\n",
       "      <td id=\"T_039b1_row7_col5\" class=\"data row7 col5\" >1.000000</td>\n",
       "      <td id=\"T_039b1_row7_col6\" class=\"data row7 col6\" >1.000000</td>\n",
       "    </tr>\n",
       "    <tr>\n",
       "      <th id=\"T_039b1_level1_row8\" class=\"row_heading level1 row8\" rowspan=\"7\">Particulares</th>\n",
       "      <th id=\"T_039b1_level2_row8\" class=\"row_heading level2 row8\" >Media</th>\n",
       "      <td id=\"T_039b1_row8_col0\" class=\"data row8 col0\" >0.000000</td>\n",
       "      <td id=\"T_039b1_row8_col1\" class=\"data row8 col1\" >0.625600</td>\n",
       "      <td id=\"T_039b1_row8_col2\" class=\"data row8 col2\" >0.999300</td>\n",
       "      <td id=\"T_039b1_row8_col3\" class=\"data row8 col3\" >0.811300</td>\n",
       "      <td id=\"T_039b1_row8_col4\" class=\"data row8 col4\" >0.000000</td>\n",
       "      <td id=\"T_039b1_row8_col5\" class=\"data row8 col5\" >0.946700</td>\n",
       "      <td id=\"T_039b1_row8_col6\" class=\"data row8 col6\" >0.000000</td>\n",
       "    </tr>\n",
       "    <tr>\n",
       "      <th id=\"T_039b1_level2_row9\" class=\"row_heading level2 row9\" >Desviación</th>\n",
       "      <td id=\"T_039b1_row9_col0\" class=\"data row9 col0\" >0.000000</td>\n",
       "      <td id=\"T_039b1_row9_col1\" class=\"data row9 col1\" >0.484000</td>\n",
       "      <td id=\"T_039b1_row9_col2\" class=\"data row9 col2\" >0.026800</td>\n",
       "      <td id=\"T_039b1_row9_col3\" class=\"data row9 col3\" >0.391300</td>\n",
       "      <td id=\"T_039b1_row9_col4\" class=\"data row9 col4\" >0.000000</td>\n",
       "      <td id=\"T_039b1_row9_col5\" class=\"data row9 col5\" >0.224600</td>\n",
       "      <td id=\"T_039b1_row9_col6\" class=\"data row9 col6\" >0.000000</td>\n",
       "    </tr>\n",
       "    <tr>\n",
       "      <th id=\"T_039b1_level2_row10\" class=\"row_heading level2 row10\" >Mínimo</th>\n",
       "      <td id=\"T_039b1_row10_col0\" class=\"data row10 col0\" >0.000000</td>\n",
       "      <td id=\"T_039b1_row10_col1\" class=\"data row10 col1\" >0.000000</td>\n",
       "      <td id=\"T_039b1_row10_col2\" class=\"data row10 col2\" >0.000000</td>\n",
       "      <td id=\"T_039b1_row10_col3\" class=\"data row10 col3\" >0.000000</td>\n",
       "      <td id=\"T_039b1_row10_col4\" class=\"data row10 col4\" >0.000000</td>\n",
       "      <td id=\"T_039b1_row10_col5\" class=\"data row10 col5\" >0.000000</td>\n",
       "      <td id=\"T_039b1_row10_col6\" class=\"data row10 col6\" >0.000000</td>\n",
       "    </tr>\n",
       "    <tr>\n",
       "      <th id=\"T_039b1_level2_row11\" class=\"row_heading level2 row11\" >Perc. 25</th>\n",
       "      <td id=\"T_039b1_row11_col0\" class=\"data row11 col0\" >0.000000</td>\n",
       "      <td id=\"T_039b1_row11_col1\" class=\"data row11 col1\" >0.000000</td>\n",
       "      <td id=\"T_039b1_row11_col2\" class=\"data row11 col2\" >1.000000</td>\n",
       "      <td id=\"T_039b1_row11_col3\" class=\"data row11 col3\" >1.000000</td>\n",
       "      <td id=\"T_039b1_row11_col4\" class=\"data row11 col4\" >0.000000</td>\n",
       "      <td id=\"T_039b1_row11_col5\" class=\"data row11 col5\" >1.000000</td>\n",
       "      <td id=\"T_039b1_row11_col6\" class=\"data row11 col6\" >0.000000</td>\n",
       "    </tr>\n",
       "    <tr>\n",
       "      <th id=\"T_039b1_level2_row12\" class=\"row_heading level2 row12\" >Perc. 50</th>\n",
       "      <td id=\"T_039b1_row12_col0\" class=\"data row12 col0\" >0.000000</td>\n",
       "      <td id=\"T_039b1_row12_col1\" class=\"data row12 col1\" >1.000000</td>\n",
       "      <td id=\"T_039b1_row12_col2\" class=\"data row12 col2\" >1.000000</td>\n",
       "      <td id=\"T_039b1_row12_col3\" class=\"data row12 col3\" >1.000000</td>\n",
       "      <td id=\"T_039b1_row12_col4\" class=\"data row12 col4\" >0.000000</td>\n",
       "      <td id=\"T_039b1_row12_col5\" class=\"data row12 col5\" >1.000000</td>\n",
       "      <td id=\"T_039b1_row12_col6\" class=\"data row12 col6\" >0.000000</td>\n",
       "    </tr>\n",
       "    <tr>\n",
       "      <th id=\"T_039b1_level2_row13\" class=\"row_heading level2 row13\" >Perc. 75</th>\n",
       "      <td id=\"T_039b1_row13_col0\" class=\"data row13 col0\" >0.000000</td>\n",
       "      <td id=\"T_039b1_row13_col1\" class=\"data row13 col1\" >1.000000</td>\n",
       "      <td id=\"T_039b1_row13_col2\" class=\"data row13 col2\" >1.000000</td>\n",
       "      <td id=\"T_039b1_row13_col3\" class=\"data row13 col3\" >1.000000</td>\n",
       "      <td id=\"T_039b1_row13_col4\" class=\"data row13 col4\" >0.000000</td>\n",
       "      <td id=\"T_039b1_row13_col5\" class=\"data row13 col5\" >1.000000</td>\n",
       "      <td id=\"T_039b1_row13_col6\" class=\"data row13 col6\" >0.000000</td>\n",
       "    </tr>\n",
       "    <tr>\n",
       "      <th id=\"T_039b1_level2_row14\" class=\"row_heading level2 row14\" >Máximo</th>\n",
       "      <td id=\"T_039b1_row14_col0\" class=\"data row14 col0\" >0.000000</td>\n",
       "      <td id=\"T_039b1_row14_col1\" class=\"data row14 col1\" >1.000000</td>\n",
       "      <td id=\"T_039b1_row14_col2\" class=\"data row14 col2\" >1.000000</td>\n",
       "      <td id=\"T_039b1_row14_col3\" class=\"data row14 col3\" >1.000000</td>\n",
       "      <td id=\"T_039b1_row14_col4\" class=\"data row14 col4\" >0.000000</td>\n",
       "      <td id=\"T_039b1_row14_col5\" class=\"data row14 col5\" >1.000000</td>\n",
       "      <td id=\"T_039b1_row14_col6\" class=\"data row14 col6\" >0.000000</td>\n",
       "    </tr>\n",
       "    <tr>\n",
       "      <th id=\"T_039b1_level1_row15\" class=\"row_heading level1 row15\" rowspan=\"7\">Universitario</th>\n",
       "      <th id=\"T_039b1_level2_row15\" class=\"row_heading level2 row15\" >Media</th>\n",
       "      <td id=\"T_039b1_row15_col0\" class=\"data row15 col0\" >1.000000</td>\n",
       "      <td id=\"T_039b1_row15_col1\" class=\"data row15 col1\" >0.217600</td>\n",
       "      <td id=\"T_039b1_row15_col2\" class=\"data row15 col2\" >0.000000</td>\n",
       "      <td id=\"T_039b1_row15_col3\" class=\"data row15 col3\" >0.176700</td>\n",
       "      <td id=\"T_039b1_row15_col4\" class=\"data row15 col4\" >0.999700</td>\n",
       "      <td id=\"T_039b1_row15_col5\" class=\"data row15 col5\" >0.000000</td>\n",
       "      <td id=\"T_039b1_row15_col6\" class=\"data row15 col6\" >0.999700</td>\n",
       "    </tr>\n",
       "    <tr>\n",
       "      <th id=\"T_039b1_level2_row16\" class=\"row_heading level2 row16\" >Desviación</th>\n",
       "      <td id=\"T_039b1_row16_col0\" class=\"data row16 col0\" >0.000000</td>\n",
       "      <td id=\"T_039b1_row16_col1\" class=\"data row16 col1\" >0.412700</td>\n",
       "      <td id=\"T_039b1_row16_col2\" class=\"data row16 col2\" >0.000000</td>\n",
       "      <td id=\"T_039b1_row16_col3\" class=\"data row16 col3\" >0.381400</td>\n",
       "      <td id=\"T_039b1_row16_col4\" class=\"data row16 col4\" >0.016100</td>\n",
       "      <td id=\"T_039b1_row16_col5\" class=\"data row16 col5\" >0.000000</td>\n",
       "      <td id=\"T_039b1_row16_col6\" class=\"data row16 col6\" >0.017000</td>\n",
       "    </tr>\n",
       "    <tr>\n",
       "      <th id=\"T_039b1_level2_row17\" class=\"row_heading level2 row17\" >Mínimo</th>\n",
       "      <td id=\"T_039b1_row17_col0\" class=\"data row17 col0\" >1.000000</td>\n",
       "      <td id=\"T_039b1_row17_col1\" class=\"data row17 col1\" >0.000000</td>\n",
       "      <td id=\"T_039b1_row17_col2\" class=\"data row17 col2\" >0.000000</td>\n",
       "      <td id=\"T_039b1_row17_col3\" class=\"data row17 col3\" >0.000000</td>\n",
       "      <td id=\"T_039b1_row17_col4\" class=\"data row17 col4\" >0.000000</td>\n",
       "      <td id=\"T_039b1_row17_col5\" class=\"data row17 col5\" >0.000000</td>\n",
       "      <td id=\"T_039b1_row17_col6\" class=\"data row17 col6\" >0.000000</td>\n",
       "    </tr>\n",
       "    <tr>\n",
       "      <th id=\"T_039b1_level2_row18\" class=\"row_heading level2 row18\" >Perc. 25</th>\n",
       "      <td id=\"T_039b1_row18_col0\" class=\"data row18 col0\" >1.000000</td>\n",
       "      <td id=\"T_039b1_row18_col1\" class=\"data row18 col1\" >0.000000</td>\n",
       "      <td id=\"T_039b1_row18_col2\" class=\"data row18 col2\" >0.000000</td>\n",
       "      <td id=\"T_039b1_row18_col3\" class=\"data row18 col3\" >0.000000</td>\n",
       "      <td id=\"T_039b1_row18_col4\" class=\"data row18 col4\" >1.000000</td>\n",
       "      <td id=\"T_039b1_row18_col5\" class=\"data row18 col5\" >0.000000</td>\n",
       "      <td id=\"T_039b1_row18_col6\" class=\"data row18 col6\" >1.000000</td>\n",
       "    </tr>\n",
       "    <tr>\n",
       "      <th id=\"T_039b1_level2_row19\" class=\"row_heading level2 row19\" >Perc. 50</th>\n",
       "      <td id=\"T_039b1_row19_col0\" class=\"data row19 col0\" >1.000000</td>\n",
       "      <td id=\"T_039b1_row19_col1\" class=\"data row19 col1\" >0.000000</td>\n",
       "      <td id=\"T_039b1_row19_col2\" class=\"data row19 col2\" >0.000000</td>\n",
       "      <td id=\"T_039b1_row19_col3\" class=\"data row19 col3\" >0.000000</td>\n",
       "      <td id=\"T_039b1_row19_col4\" class=\"data row19 col4\" >1.000000</td>\n",
       "      <td id=\"T_039b1_row19_col5\" class=\"data row19 col5\" >0.000000</td>\n",
       "      <td id=\"T_039b1_row19_col6\" class=\"data row19 col6\" >1.000000</td>\n",
       "    </tr>\n",
       "    <tr>\n",
       "      <th id=\"T_039b1_level2_row20\" class=\"row_heading level2 row20\" >Perc. 75</th>\n",
       "      <td id=\"T_039b1_row20_col0\" class=\"data row20 col0\" >1.000000</td>\n",
       "      <td id=\"T_039b1_row20_col1\" class=\"data row20 col1\" >0.000000</td>\n",
       "      <td id=\"T_039b1_row20_col2\" class=\"data row20 col2\" >0.000000</td>\n",
       "      <td id=\"T_039b1_row20_col3\" class=\"data row20 col3\" >0.000000</td>\n",
       "      <td id=\"T_039b1_row20_col4\" class=\"data row20 col4\" >1.000000</td>\n",
       "      <td id=\"T_039b1_row20_col5\" class=\"data row20 col5\" >0.000000</td>\n",
       "      <td id=\"T_039b1_row20_col6\" class=\"data row20 col6\" >1.000000</td>\n",
       "    </tr>\n",
       "    <tr>\n",
       "      <th id=\"T_039b1_level2_row21\" class=\"row_heading level2 row21\" >Máximo</th>\n",
       "      <td id=\"T_039b1_row21_col0\" class=\"data row21 col0\" >1.000000</td>\n",
       "      <td id=\"T_039b1_row21_col1\" class=\"data row21 col1\" >1.000000</td>\n",
       "      <td id=\"T_039b1_row21_col2\" class=\"data row21 col2\" >0.000000</td>\n",
       "      <td id=\"T_039b1_row21_col3\" class=\"data row21 col3\" >1.000000</td>\n",
       "      <td id=\"T_039b1_row21_col4\" class=\"data row21 col4\" >1.000000</td>\n",
       "      <td id=\"T_039b1_row21_col5\" class=\"data row21 col5\" >0.000000</td>\n",
       "      <td id=\"T_039b1_row21_col6\" class=\"data row21 col6\" >1.000000</td>\n",
       "    </tr>\n",
       "    <tr>\n",
       "      <th id=\"T_039b1_level0_row22\" class=\"row_heading level0 row22\" rowspan=\"7\">Edad</th>\n",
       "      <th id=\"T_039b1_level1_row22\" class=\"row_heading level1 row22\" rowspan=\"7\">Edad</th>\n",
       "      <th id=\"T_039b1_level2_row22\" class=\"row_heading level2 row22\" >Media</th>\n",
       "      <td id=\"T_039b1_row22_col0\" class=\"data row22 col0\" >24.516700</td>\n",
       "      <td id=\"T_039b1_row22_col1\" class=\"data row22 col1\" >41.674600</td>\n",
       "      <td id=\"T_039b1_row22_col2\" class=\"data row22 col2\" >41.772600</td>\n",
       "      <td id=\"T_039b1_row22_col3\" class=\"data row22 col3\" >38.662500</td>\n",
       "      <td id=\"T_039b1_row22_col4\" class=\"data row22 col4\" >23.648200</td>\n",
       "      <td id=\"T_039b1_row22_col5\" class=\"data row22 col5\" >42.280200</td>\n",
       "      <td id=\"T_039b1_row22_col6\" class=\"data row22 col6\" >22.726900</td>\n",
       "    </tr>\n",
       "    <tr>\n",
       "      <th id=\"T_039b1_level2_row23\" class=\"row_heading level2 row23\" >Desviación</th>\n",
       "      <td id=\"T_039b1_row23_col0\" class=\"data row23 col0\" >2.605000</td>\n",
       "      <td id=\"T_039b1_row23_col1\" class=\"data row23 col1\" >14.720900</td>\n",
       "      <td id=\"T_039b1_row23_col2\" class=\"data row23 col2\" >13.496800</td>\n",
       "      <td id=\"T_039b1_row23_col3\" class=\"data row23 col3\" >11.369000</td>\n",
       "      <td id=\"T_039b1_row23_col4\" class=\"data row23 col4\" >3.230200</td>\n",
       "      <td id=\"T_039b1_row23_col5\" class=\"data row23 col5\" >14.254400</td>\n",
       "      <td id=\"T_039b1_row23_col6\" class=\"data row23 col6\" >2.727600</td>\n",
       "    </tr>\n",
       "    <tr>\n",
       "      <th id=\"T_039b1_level2_row24\" class=\"row_heading level2 row24\" >Mínimo</th>\n",
       "      <td id=\"T_039b1_row24_col0\" class=\"data row24 col0\" >20.000000</td>\n",
       "      <td id=\"T_039b1_row24_col1\" class=\"data row24 col1\" >3.000000</td>\n",
       "      <td id=\"T_039b1_row24_col2\" class=\"data row24 col2\" >2.000000</td>\n",
       "      <td id=\"T_039b1_row24_col3\" class=\"data row24 col3\" >20.000000</td>\n",
       "      <td id=\"T_039b1_row24_col4\" class=\"data row24 col4\" >16.000000</td>\n",
       "      <td id=\"T_039b1_row24_col5\" class=\"data row24 col5\" >2.000000</td>\n",
       "      <td id=\"T_039b1_row24_col6\" class=\"data row24 col6\" >11.000000</td>\n",
       "    </tr>\n",
       "    <tr>\n",
       "      <th id=\"T_039b1_level2_row25\" class=\"row_heading level2 row25\" >Perc. 25</th>\n",
       "      <td id=\"T_039b1_row25_col0\" class=\"data row25 col0\" >23.000000</td>\n",
       "      <td id=\"T_039b1_row25_col1\" class=\"data row25 col1\" >31.000000</td>\n",
       "      <td id=\"T_039b1_row25_col2\" class=\"data row25 col2\" >34.000000</td>\n",
       "      <td id=\"T_039b1_row25_col3\" class=\"data row25 col3\" >31.000000</td>\n",
       "      <td id=\"T_039b1_row25_col4\" class=\"data row25 col4\" >21.000000</td>\n",
       "      <td id=\"T_039b1_row25_col5\" class=\"data row25 col5\" >34.000000</td>\n",
       "      <td id=\"T_039b1_row25_col6\" class=\"data row25 col6\" >21.000000</td>\n",
       "    </tr>\n",
       "    <tr>\n",
       "      <th id=\"T_039b1_level2_row26\" class=\"row_heading level2 row26\" >Perc. 50</th>\n",
       "      <td id=\"T_039b1_row26_col0\" class=\"data row26 col0\" >24.000000</td>\n",
       "      <td id=\"T_039b1_row26_col1\" class=\"data row26 col1\" >38.000000</td>\n",
       "      <td id=\"T_039b1_row26_col2\" class=\"data row26 col2\" >40.000000</td>\n",
       "      <td id=\"T_039b1_row26_col3\" class=\"data row26 col3\" >37.000000</td>\n",
       "      <td id=\"T_039b1_row26_col4\" class=\"data row26 col4\" >23.000000</td>\n",
       "      <td id=\"T_039b1_row26_col5\" class=\"data row26 col5\" >41.000000</td>\n",
       "      <td id=\"T_039b1_row26_col6\" class=\"data row26 col6\" >22.000000</td>\n",
       "    </tr>\n",
       "    <tr>\n",
       "      <th id=\"T_039b1_level2_row27\" class=\"row_heading level2 row27\" >Perc. 75</th>\n",
       "      <td id=\"T_039b1_row27_col0\" class=\"data row27 col0\" >26.000000</td>\n",
       "      <td id=\"T_039b1_row27_col1\" class=\"data row27 col1\" >50.000000</td>\n",
       "      <td id=\"T_039b1_row27_col2\" class=\"data row27 col2\" >49.000000</td>\n",
       "      <td id=\"T_039b1_row27_col3\" class=\"data row27 col3\" >45.000000</td>\n",
       "      <td id=\"T_039b1_row27_col4\" class=\"data row27 col4\" >25.000000</td>\n",
       "      <td id=\"T_039b1_row27_col5\" class=\"data row27 col5\" >50.000000</td>\n",
       "      <td id=\"T_039b1_row27_col6\" class=\"data row27 col6\" >24.000000</td>\n",
       "    </tr>\n",
       "    <tr>\n",
       "      <th id=\"T_039b1_level2_row28\" class=\"row_heading level2 row28\" >Máximo</th>\n",
       "      <td id=\"T_039b1_row28_col0\" class=\"data row28 col0\" >37.000000</td>\n",
       "      <td id=\"T_039b1_row28_col1\" class=\"data row28 col1\" >102.000000</td>\n",
       "      <td id=\"T_039b1_row28_col2\" class=\"data row28 col2\" >105.000000</td>\n",
       "      <td id=\"T_039b1_row28_col3\" class=\"data row28 col3\" >98.000000</td>\n",
       "      <td id=\"T_039b1_row28_col4\" class=\"data row28 col4\" >77.000000</td>\n",
       "      <td id=\"T_039b1_row28_col5\" class=\"data row28 col5\" >103.000000</td>\n",
       "      <td id=\"T_039b1_row28_col6\" class=\"data row28 col6\" >50.000000</td>\n",
       "    </tr>\n",
       "    <tr>\n",
       "      <th id=\"T_039b1_level0_row29\" class=\"row_heading level0 row29\" rowspan=\"14\">Economía</th>\n",
       "      <th id=\"T_039b1_level1_row29\" class=\"row_heading level1 row29\" rowspan=\"7\">Salud Financiera</th>\n",
       "      <th id=\"T_039b1_level2_row29\" class=\"row_heading level2 row29\" >Media</th>\n",
       "      <td id=\"T_039b1_row29_col0\" class=\"data row29 col0\" >0.001800</td>\n",
       "      <td id=\"T_039b1_row29_col1\" class=\"data row29 col1\" >0.161600</td>\n",
       "      <td id=\"T_039b1_row29_col2\" class=\"data row29 col2\" >0.001800</td>\n",
       "      <td id=\"T_039b1_row29_col3\" class=\"data row29 col3\" >0.001900</td>\n",
       "      <td id=\"T_039b1_row29_col4\" class=\"data row29 col4\" >0.001800</td>\n",
       "      <td id=\"T_039b1_row29_col5\" class=\"data row29 col5\" >0.001900</td>\n",
       "      <td id=\"T_039b1_row29_col6\" class=\"data row29 col6\" >0.001900</td>\n",
       "    </tr>\n",
       "    <tr>\n",
       "      <th id=\"T_039b1_level2_row30\" class=\"row_heading level2 row30\" >Desviación</th>\n",
       "      <td id=\"T_039b1_row30_col0\" class=\"data row30 col0\" >0.002600</td>\n",
       "      <td id=\"T_039b1_row30_col1\" class=\"data row30 col1\" >0.045200</td>\n",
       "      <td id=\"T_039b1_row30_col2\" class=\"data row30 col2\" >0.003700</td>\n",
       "      <td id=\"T_039b1_row30_col3\" class=\"data row30 col3\" >0.002700</td>\n",
       "      <td id=\"T_039b1_row30_col4\" class=\"data row30 col4\" >0.002800</td>\n",
       "      <td id=\"T_039b1_row30_col5\" class=\"data row30 col5\" >0.003500</td>\n",
       "      <td id=\"T_039b1_row30_col6\" class=\"data row30 col6\" >0.002700</td>\n",
       "    </tr>\n",
       "    <tr>\n",
       "      <th id=\"T_039b1_level2_row31\" class=\"row_heading level2 row31\" >Mínimo</th>\n",
       "      <td id=\"T_039b1_row31_col0\" class=\"data row31 col0\" >0.000000</td>\n",
       "      <td id=\"T_039b1_row31_col1\" class=\"data row31 col1\" >0.000300</td>\n",
       "      <td id=\"T_039b1_row31_col2\" class=\"data row31 col2\" >0.000100</td>\n",
       "      <td id=\"T_039b1_row31_col3\" class=\"data row31 col3\" >0.000100</td>\n",
       "      <td id=\"T_039b1_row31_col4\" class=\"data row31 col4\" >0.000100</td>\n",
       "      <td id=\"T_039b1_row31_col5\" class=\"data row31 col5\" >0.000100</td>\n",
       "      <td id=\"T_039b1_row31_col6\" class=\"data row31 col6\" >0.000100</td>\n",
       "    </tr>\n",
       "    <tr>\n",
       "      <th id=\"T_039b1_level2_row32\" class=\"row_heading level2 row32\" >Perc. 25</th>\n",
       "      <td id=\"T_039b1_row32_col0\" class=\"data row32 col0\" >0.001100</td>\n",
       "      <td id=\"T_039b1_row32_col1\" class=\"data row32 col1\" >0.167900</td>\n",
       "      <td id=\"T_039b1_row32_col2\" class=\"data row32 col2\" >0.001300</td>\n",
       "      <td id=\"T_039b1_row32_col3\" class=\"data row32 col3\" >0.001300</td>\n",
       "      <td id=\"T_039b1_row32_col4\" class=\"data row32 col4\" >0.001300</td>\n",
       "      <td id=\"T_039b1_row32_col5\" class=\"data row32 col5\" >0.001400</td>\n",
       "      <td id=\"T_039b1_row32_col6\" class=\"data row32 col6\" >0.001500</td>\n",
       "    </tr>\n",
       "    <tr>\n",
       "      <th id=\"T_039b1_level2_row33\" class=\"row_heading level2 row33\" >Perc. 50</th>\n",
       "      <td id=\"T_039b1_row33_col0\" class=\"data row33 col0\" >0.001500</td>\n",
       "      <td id=\"T_039b1_row33_col1\" class=\"data row33 col1\" >0.168200</td>\n",
       "      <td id=\"T_039b1_row33_col2\" class=\"data row33 col2\" >0.001500</td>\n",
       "      <td id=\"T_039b1_row33_col3\" class=\"data row33 col3\" >0.001500</td>\n",
       "      <td id=\"T_039b1_row33_col4\" class=\"data row33 col4\" >0.001500</td>\n",
       "      <td id=\"T_039b1_row33_col5\" class=\"data row33 col5\" >0.001600</td>\n",
       "      <td id=\"T_039b1_row33_col6\" class=\"data row33 col6\" >0.001500</td>\n",
       "    </tr>\n",
       "    <tr>\n",
       "      <th id=\"T_039b1_level2_row34\" class=\"row_heading level2 row34\" >Perc. 75</th>\n",
       "      <td id=\"T_039b1_row34_col0\" class=\"data row34 col0\" >0.001900</td>\n",
       "      <td id=\"T_039b1_row34_col1\" class=\"data row34 col1\" >0.168800</td>\n",
       "      <td id=\"T_039b1_row34_col2\" class=\"data row34 col2\" >0.001800</td>\n",
       "      <td id=\"T_039b1_row34_col3\" class=\"data row34 col3\" >0.001900</td>\n",
       "      <td id=\"T_039b1_row34_col4\" class=\"data row34 col4\" >0.001900</td>\n",
       "      <td id=\"T_039b1_row34_col5\" class=\"data row34 col5\" >0.001900</td>\n",
       "      <td id=\"T_039b1_row34_col6\" class=\"data row34 col6\" >0.001700</td>\n",
       "    </tr>\n",
       "    <tr>\n",
       "      <th id=\"T_039b1_level2_row35\" class=\"row_heading level2 row35\" >Máximo</th>\n",
       "      <td id=\"T_039b1_row35_col0\" class=\"data row35 col0\" >0.229600</td>\n",
       "      <td id=\"T_039b1_row35_col1\" class=\"data row35 col1\" >0.500000</td>\n",
       "      <td id=\"T_039b1_row35_col2\" class=\"data row35 col2\" >0.500000</td>\n",
       "      <td id=\"T_039b1_row35_col3\" class=\"data row35 col3\" >0.229600</td>\n",
       "      <td id=\"T_039b1_row35_col4\" class=\"data row35 col4\" >0.229600</td>\n",
       "      <td id=\"T_039b1_row35_col5\" class=\"data row35 col5\" >0.381300</td>\n",
       "      <td id=\"T_039b1_row35_col6\" class=\"data row35 col6\" >0.410500</td>\n",
       "    </tr>\n",
       "    <tr>\n",
       "      <th id=\"T_039b1_level1_row36\" class=\"row_heading level1 row36\" rowspan=\"7\">Ganáncia Total Generada</th>\n",
       "      <th id=\"T_039b1_level2_row36\" class=\"row_heading level2 row36\" >Media</th>\n",
       "      <td id=\"T_039b1_row36_col0\" class=\"data row36 col0\" >0.197600</td>\n",
       "      <td id=\"T_039b1_row36_col1\" class=\"data row36 col1\" >105.242300</td>\n",
       "      <td id=\"T_039b1_row36_col2\" class=\"data row36 col2\" >2.009400</td>\n",
       "      <td id=\"T_039b1_row36_col3\" class=\"data row36 col3\" >96.852700</td>\n",
       "      <td id=\"T_039b1_row36_col4\" class=\"data row36 col4\" >14.334200</td>\n",
       "      <td id=\"T_039b1_row36_col5\" class=\"data row36 col5\" >17.181800</td>\n",
       "      <td id=\"T_039b1_row36_col6\" class=\"data row36 col6\" >1.380200</td>\n",
       "    </tr>\n",
       "    <tr>\n",
       "      <th id=\"T_039b1_level2_row37\" class=\"row_heading level2 row37\" >Desviación</th>\n",
       "      <td id=\"T_039b1_row37_col0\" class=\"data row37 col0\" >3.763300</td>\n",
       "      <td id=\"T_039b1_row37_col1\" class=\"data row37 col1\" >89.247300</td>\n",
       "      <td id=\"T_039b1_row37_col2\" class=\"data row37 col2\" >11.429300</td>\n",
       "      <td id=\"T_039b1_row37_col3\" class=\"data row37 col3\" >86.739700</td>\n",
       "      <td id=\"T_039b1_row37_col4\" class=\"data row37 col4\" >39.493300</td>\n",
       "      <td id=\"T_039b1_row37_col5\" class=\"data row37 col5\" >37.120100</td>\n",
       "      <td id=\"T_039b1_row37_col6\" class=\"data row37 col6\" >9.286600</td>\n",
       "    </tr>\n",
       "    <tr>\n",
       "      <th id=\"T_039b1_level2_row38\" class=\"row_heading level2 row38\" >Mínimo</th>\n",
       "      <td id=\"T_039b1_row38_col0\" class=\"data row38 col0\" >0.000000</td>\n",
       "      <td id=\"T_039b1_row38_col1\" class=\"data row38 col1\" >0.000000</td>\n",
       "      <td id=\"T_039b1_row38_col2\" class=\"data row38 col2\" >0.000000</td>\n",
       "      <td id=\"T_039b1_row38_col3\" class=\"data row38 col3\" >0.000000</td>\n",
       "      <td id=\"T_039b1_row38_col4\" class=\"data row38 col4\" >0.000000</td>\n",
       "      <td id=\"T_039b1_row38_col5\" class=\"data row38 col5\" >0.000000</td>\n",
       "      <td id=\"T_039b1_row38_col6\" class=\"data row38 col6\" >0.000000</td>\n",
       "    </tr>\n",
       "    <tr>\n",
       "      <th id=\"T_039b1_level2_row39\" class=\"row_heading level2 row39\" >Perc. 25</th>\n",
       "      <td id=\"T_039b1_row39_col0\" class=\"data row39 col0\" >0.000000</td>\n",
       "      <td id=\"T_039b1_row39_col1\" class=\"data row39 col1\" >50.000000</td>\n",
       "      <td id=\"T_039b1_row39_col2\" class=\"data row39 col2\" >0.000000</td>\n",
       "      <td id=\"T_039b1_row39_col3\" class=\"data row39 col3\" >60.000000</td>\n",
       "      <td id=\"T_039b1_row39_col4\" class=\"data row39 col4\" >0.000000</td>\n",
       "      <td id=\"T_039b1_row39_col5\" class=\"data row39 col5\" >0.000000</td>\n",
       "      <td id=\"T_039b1_row39_col6\" class=\"data row39 col6\" >0.000000</td>\n",
       "    </tr>\n",
       "    <tr>\n",
       "      <th id=\"T_039b1_level2_row40\" class=\"row_heading level2 row40\" >Perc. 50</th>\n",
       "      <td id=\"T_039b1_row40_col0\" class=\"data row40 col0\" >0.000000</td>\n",
       "      <td id=\"T_039b1_row40_col1\" class=\"data row40 col1\" >100.000000</td>\n",
       "      <td id=\"T_039b1_row40_col2\" class=\"data row40 col2\" >0.000000</td>\n",
       "      <td id=\"T_039b1_row40_col3\" class=\"data row40 col3\" >70.000000</td>\n",
       "      <td id=\"T_039b1_row40_col4\" class=\"data row40 col4\" >0.000000</td>\n",
       "      <td id=\"T_039b1_row40_col5\" class=\"data row40 col5\" >0.000000</td>\n",
       "      <td id=\"T_039b1_row40_col6\" class=\"data row40 col6\" >0.000000</td>\n",
       "    </tr>\n",
       "    <tr>\n",
       "      <th id=\"T_039b1_level2_row41\" class=\"row_heading level2 row41\" >Perc. 75</th>\n",
       "      <td id=\"T_039b1_row41_col0\" class=\"data row41 col0\" >0.000000</td>\n",
       "      <td id=\"T_039b1_row41_col1\" class=\"data row41 col1\" >150.000000</td>\n",
       "      <td id=\"T_039b1_row41_col2\" class=\"data row41 col2\" >0.000000</td>\n",
       "      <td id=\"T_039b1_row41_col3\" class=\"data row41 col3\" >130.000000</td>\n",
       "      <td id=\"T_039b1_row41_col4\" class=\"data row41 col4\" >0.000000</td>\n",
       "      <td id=\"T_039b1_row41_col5\" class=\"data row41 col5\" >10.000000</td>\n",
       "      <td id=\"T_039b1_row41_col6\" class=\"data row41 col6\" >0.000000</td>\n",
       "    </tr>\n",
       "    <tr>\n",
       "      <th id=\"T_039b1_level2_row42\" class=\"row_heading level2 row42\" >Máximo</th>\n",
       "      <td id=\"T_039b1_row42_col0\" class=\"data row42 col0\" >230.000000</td>\n",
       "      <td id=\"T_039b1_row42_col1\" class=\"data row42 col1\" >610.000000</td>\n",
       "      <td id=\"T_039b1_row42_col2\" class=\"data row42 col2\" >360.000000</td>\n",
       "      <td id=\"T_039b1_row42_col3\" class=\"data row42 col3\" >690.000000</td>\n",
       "      <td id=\"T_039b1_row42_col4\" class=\"data row42 col4\" >480.000000</td>\n",
       "      <td id=\"T_039b1_row42_col5\" class=\"data row42 col5\" >330.000000</td>\n",
       "      <td id=\"T_039b1_row42_col6\" class=\"data row42 col6\" >350.000000</td>\n",
       "    </tr>\n",
       "    <tr>\n",
       "      <th id=\"T_039b1_level0_row43\" class=\"row_heading level0 row43\" rowspan=\"7\">Frecuencia</th>\n",
       "      <th id=\"T_039b1_level1_row43\" class=\"row_heading level1 row43\" rowspan=\"7\">Meses desde la ultima compra</th>\n",
       "      <th id=\"T_039b1_level2_row43\" class=\"row_heading level2 row43\" >Media</th>\n",
       "      <td id=\"T_039b1_row43_col0\" class=\"data row43 col0\" >15.980200</td>\n",
       "      <td id=\"T_039b1_row43_col1\" class=\"data row43 col1\" >5.318300</td>\n",
       "      <td id=\"T_039b1_row43_col2\" class=\"data row43 col2\" >9.883000</td>\n",
       "      <td id=\"T_039b1_row43_col3\" class=\"data row43 col3\" >5.801700</td>\n",
       "      <td id=\"T_039b1_row43_col4\" class=\"data row43 col4\" >12.004100</td>\n",
       "      <td id=\"T_039b1_row43_col5\" class=\"data row43 col5\" >9.534700</td>\n",
       "      <td id=\"T_039b1_row43_col6\" class=\"data row43 col6\" >8.355600</td>\n",
       "    </tr>\n",
       "    <tr>\n",
       "      <th id=\"T_039b1_level2_row44\" class=\"row_heading level2 row44\" >Desviación</th>\n",
       "      <td id=\"T_039b1_row44_col0\" class=\"data row44 col0\" >0.315500</td>\n",
       "      <td id=\"T_039b1_row44_col1\" class=\"data row44 col1\" >5.186300</td>\n",
       "      <td id=\"T_039b1_row44_col2\" class=\"data row44 col2\" >4.557800</td>\n",
       "      <td id=\"T_039b1_row44_col3\" class=\"data row44 col3\" >5.657800</td>\n",
       "      <td id=\"T_039b1_row44_col4\" class=\"data row44 col4\" >4.674200</td>\n",
       "      <td id=\"T_039b1_row44_col5\" class=\"data row44 col5\" >6.036200</td>\n",
       "      <td id=\"T_039b1_row44_col6\" class=\"data row44 col6\" >2.216300</td>\n",
       "    </tr>\n",
       "    <tr>\n",
       "      <th id=\"T_039b1_level2_row45\" class=\"row_heading level2 row45\" >Mínimo</th>\n",
       "      <td id=\"T_039b1_row45_col0\" class=\"data row45 col0\" >0.000000</td>\n",
       "      <td id=\"T_039b1_row45_col1\" class=\"data row45 col1\" >0.000000</td>\n",
       "      <td id=\"T_039b1_row45_col2\" class=\"data row45 col2\" >0.000000</td>\n",
       "      <td id=\"T_039b1_row45_col3\" class=\"data row45 col3\" >0.000000</td>\n",
       "      <td id=\"T_039b1_row45_col4\" class=\"data row45 col4\" >0.000000</td>\n",
       "      <td id=\"T_039b1_row45_col5\" class=\"data row45 col5\" >0.000000</td>\n",
       "      <td id=\"T_039b1_row45_col6\" class=\"data row45 col6\" >0.000000</td>\n",
       "    </tr>\n",
       "    <tr>\n",
       "      <th id=\"T_039b1_level2_row46\" class=\"row_heading level2 row46\" >Perc. 25</th>\n",
       "      <td id=\"T_039b1_row46_col0\" class=\"data row46 col0\" >16.000000</td>\n",
       "      <td id=\"T_039b1_row46_col1\" class=\"data row46 col1\" >1.000000</td>\n",
       "      <td id=\"T_039b1_row46_col2\" class=\"data row46 col2\" >9.000000</td>\n",
       "      <td id=\"T_039b1_row46_col3\" class=\"data row46 col3\" >1.000000</td>\n",
       "      <td id=\"T_039b1_row46_col4\" class=\"data row46 col4\" >8.000000</td>\n",
       "      <td id=\"T_039b1_row46_col5\" class=\"data row46 col5\" >4.000000</td>\n",
       "      <td id=\"T_039b1_row46_col6\" class=\"data row46 col6\" >7.000000</td>\n",
       "    </tr>\n",
       "    <tr>\n",
       "      <th id=\"T_039b1_level2_row47\" class=\"row_heading level2 row47\" >Perc. 50</th>\n",
       "      <td id=\"T_039b1_row47_col0\" class=\"data row47 col0\" >16.000000</td>\n",
       "      <td id=\"T_039b1_row47_col1\" class=\"data row47 col1\" >3.000000</td>\n",
       "      <td id=\"T_039b1_row47_col2\" class=\"data row47 col2\" >10.000000</td>\n",
       "      <td id=\"T_039b1_row47_col3\" class=\"data row47 col3\" >3.000000</td>\n",
       "      <td id=\"T_039b1_row47_col4\" class=\"data row47 col4\" >16.000000</td>\n",
       "      <td id=\"T_039b1_row47_col5\" class=\"data row47 col5\" >10.000000</td>\n",
       "      <td id=\"T_039b1_row47_col6\" class=\"data row47 col6\" >9.000000</td>\n",
       "    </tr>\n",
       "    <tr>\n",
       "      <th id=\"T_039b1_level2_row48\" class=\"row_heading level2 row48\" >Perc. 75</th>\n",
       "      <td id=\"T_039b1_row48_col0\" class=\"data row48 col0\" >16.000000</td>\n",
       "      <td id=\"T_039b1_row48_col1\" class=\"data row48 col1\" >8.000000</td>\n",
       "      <td id=\"T_039b1_row48_col2\" class=\"data row48 col2\" >13.000000</td>\n",
       "      <td id=\"T_039b1_row48_col3\" class=\"data row48 col3\" >10.000000</td>\n",
       "      <td id=\"T_039b1_row48_col4\" class=\"data row48 col4\" >16.000000</td>\n",
       "      <td id=\"T_039b1_row48_col5\" class=\"data row48 col5\" >16.000000</td>\n",
       "      <td id=\"T_039b1_row48_col6\" class=\"data row48 col6\" >10.000000</td>\n",
       "    </tr>\n",
       "    <tr>\n",
       "      <th id=\"T_039b1_level2_row49\" class=\"row_heading level2 row49\" >Máximo</th>\n",
       "      <td id=\"T_039b1_row49_col0\" class=\"data row49 col0\" >16.000000</td>\n",
       "      <td id=\"T_039b1_row49_col1\" class=\"data row49 col1\" >16.000000</td>\n",
       "      <td id=\"T_039b1_row49_col2\" class=\"data row49 col2\" >16.000000</td>\n",
       "      <td id=\"T_039b1_row49_col3\" class=\"data row49 col3\" >16.000000</td>\n",
       "      <td id=\"T_039b1_row49_col4\" class=\"data row49 col4\" >16.000000</td>\n",
       "      <td id=\"T_039b1_row49_col5\" class=\"data row49 col5\" >16.000000</td>\n",
       "      <td id=\"T_039b1_row49_col6\" class=\"data row49 col6\" >16.000000</td>\n",
       "    </tr>\n",
       "    <tr>\n",
       "      <th id=\"T_039b1_level0_row50\" class=\"row_heading level0 row50\" rowspan=\"35\">Productos</th>\n",
       "      <th id=\"T_039b1_level1_row50\" class=\"row_heading level1 row50\" rowspan=\"7\">Diversificación de Productos</th>\n",
       "      <th id=\"T_039b1_level2_row50\" class=\"row_heading level2 row50\" >Media</th>\n",
       "      <td id=\"T_039b1_row50_col0\" class=\"data row50 col0\" >0.082500</td>\n",
       "      <td id=\"T_039b1_row50_col1\" class=\"data row50 col1\" >0.223000</td>\n",
       "      <td id=\"T_039b1_row50_col2\" class=\"data row50 col2\" >0.021000</td>\n",
       "      <td id=\"T_039b1_row50_col3\" class=\"data row50 col3\" >0.142600</td>\n",
       "      <td id=\"T_039b1_row50_col4\" class=\"data row50 col4\" >0.084800</td>\n",
       "      <td id=\"T_039b1_row50_col5\" class=\"data row50 col5\" >0.085900</td>\n",
       "      <td id=\"T_039b1_row50_col6\" class=\"data row50 col6\" >0.031100</td>\n",
       "    </tr>\n",
       "    <tr>\n",
       "      <th id=\"T_039b1_level2_row51\" class=\"row_heading level2 row51\" >Desviación</th>\n",
       "      <td id=\"T_039b1_row51_col0\" class=\"data row51 col0\" >0.008500</td>\n",
       "      <td id=\"T_039b1_row51_col1\" class=\"data row51 col1\" >0.072100</td>\n",
       "      <td id=\"T_039b1_row51_col2\" class=\"data row51 col2\" >0.036100</td>\n",
       "      <td id=\"T_039b1_row51_col3\" class=\"data row51 col3\" >0.039600</td>\n",
       "      <td id=\"T_039b1_row51_col4\" class=\"data row51 col4\" >0.021900</td>\n",
       "      <td id=\"T_039b1_row51_col5\" class=\"data row51 col5\" >0.040100</td>\n",
       "      <td id=\"T_039b1_row51_col6\" class=\"data row51 col6\" >0.040400</td>\n",
       "    </tr>\n",
       "    <tr>\n",
       "      <th id=\"T_039b1_level2_row52\" class=\"row_heading level2 row52\" >Mínimo</th>\n",
       "      <td id=\"T_039b1_row52_col0\" class=\"data row52 col0\" >0.000000</td>\n",
       "      <td id=\"T_039b1_row52_col1\" class=\"data row52 col1\" >0.066700</td>\n",
       "      <td id=\"T_039b1_row52_col2\" class=\"data row52 col2\" >0.000000</td>\n",
       "      <td id=\"T_039b1_row52_col3\" class=\"data row52 col3\" >0.000000</td>\n",
       "      <td id=\"T_039b1_row52_col4\" class=\"data row52 col4\" >0.000000</td>\n",
       "      <td id=\"T_039b1_row52_col5\" class=\"data row52 col5\" >0.000000</td>\n",
       "      <td id=\"T_039b1_row52_col6\" class=\"data row52 col6\" >0.000000</td>\n",
       "    </tr>\n",
       "    <tr>\n",
       "      <th id=\"T_039b1_level2_row53\" class=\"row_heading level2 row53\" >Perc. 25</th>\n",
       "      <td id=\"T_039b1_row53_col0\" class=\"data row53 col0\" >0.083300</td>\n",
       "      <td id=\"T_039b1_row53_col1\" class=\"data row53 col1\" >0.177800</td>\n",
       "      <td id=\"T_039b1_row53_col2\" class=\"data row53 col2\" >0.000000</td>\n",
       "      <td id=\"T_039b1_row53_col3\" class=\"data row53 col3\" >0.138900</td>\n",
       "      <td id=\"T_039b1_row53_col4\" class=\"data row53 col4\" >0.083300</td>\n",
       "      <td id=\"T_039b1_row53_col5\" class=\"data row53 col5\" >0.083300</td>\n",
       "      <td id=\"T_039b1_row53_col6\" class=\"data row53 col6\" >0.000000</td>\n",
       "    </tr>\n",
       "    <tr>\n",
       "      <th id=\"T_039b1_level2_row54\" class=\"row_heading level2 row54\" >Perc. 50</th>\n",
       "      <td id=\"T_039b1_row54_col0\" class=\"data row54 col0\" >0.083300</td>\n",
       "      <td id=\"T_039b1_row54_col1\" class=\"data row54 col1\" >0.233300</td>\n",
       "      <td id=\"T_039b1_row54_col2\" class=\"data row54 col2\" >0.000000</td>\n",
       "      <td id=\"T_039b1_row54_col3\" class=\"data row54 col3\" >0.138900</td>\n",
       "      <td id=\"T_039b1_row54_col4\" class=\"data row54 col4\" >0.083300</td>\n",
       "      <td id=\"T_039b1_row54_col5\" class=\"data row54 col5\" >0.083300</td>\n",
       "      <td id=\"T_039b1_row54_col6\" class=\"data row54 col6\" >0.000000</td>\n",
       "    </tr>\n",
       "    <tr>\n",
       "      <th id=\"T_039b1_level2_row55\" class=\"row_heading level2 row55\" >Perc. 75</th>\n",
       "      <td id=\"T_039b1_row55_col0\" class=\"data row55 col0\" >0.083300</td>\n",
       "      <td id=\"T_039b1_row55_col1\" class=\"data row55 col1\" >0.261100</td>\n",
       "      <td id=\"T_039b1_row55_col2\" class=\"data row55 col2\" >0.083300</td>\n",
       "      <td id=\"T_039b1_row55_col3\" class=\"data row55 col3\" >0.138900</td>\n",
       "      <td id=\"T_039b1_row55_col4\" class=\"data row55 col4\" >0.083300</td>\n",
       "      <td id=\"T_039b1_row55_col5\" class=\"data row55 col5\" >0.083300</td>\n",
       "      <td id=\"T_039b1_row55_col6\" class=\"data row55 col6\" >0.083300</td>\n",
       "    </tr>\n",
       "    <tr>\n",
       "      <th id=\"T_039b1_level2_row56\" class=\"row_heading level2 row56\" >Máximo</th>\n",
       "      <td id=\"T_039b1_row56_col0\" class=\"data row56 col0\" >0.166700</td>\n",
       "      <td id=\"T_039b1_row56_col1\" class=\"data row56 col1\" >0.572200</td>\n",
       "      <td id=\"T_039b1_row56_col2\" class=\"data row56 col2\" >0.150000</td>\n",
       "      <td id=\"T_039b1_row56_col3\" class=\"data row56 col3\" >0.333300</td>\n",
       "      <td id=\"T_039b1_row56_col4\" class=\"data row56 col4\" >0.277800</td>\n",
       "      <td id=\"T_039b1_row56_col5\" class=\"data row56 col5\" >0.233300</td>\n",
       "      <td id=\"T_039b1_row56_col6\" class=\"data row56 col6\" >0.166700</td>\n",
       "    </tr>\n",
       "    <tr>\n",
       "      <th id=\"T_039b1_level1_row57\" class=\"row_heading level1 row57\" rowspan=\"7\">Productos Financiación</th>\n",
       "      <th id=\"T_039b1_level2_row57\" class=\"row_heading level2 row57\" >Media</th>\n",
       "      <td id=\"T_039b1_row57_col0\" class=\"data row57 col0\" >0.000000</td>\n",
       "      <td id=\"T_039b1_row57_col1\" class=\"data row57 col1\" >0.588600</td>\n",
       "      <td id=\"T_039b1_row57_col2\" class=\"data row57 col2\" >0.000100</td>\n",
       "      <td id=\"T_039b1_row57_col3\" class=\"data row57 col3\" >1.013600</td>\n",
       "      <td id=\"T_039b1_row57_col4\" class=\"data row57 col4\" >0.059700</td>\n",
       "      <td id=\"T_039b1_row57_col5\" class=\"data row57 col5\" >0.000000</td>\n",
       "      <td id=\"T_039b1_row57_col6\" class=\"data row57 col6\" >0.001800</td>\n",
       "    </tr>\n",
       "    <tr>\n",
       "      <th id=\"T_039b1_level2_row58\" class=\"row_heading level2 row58\" >Desviación</th>\n",
       "      <td id=\"T_039b1_row58_col0\" class=\"data row58 col0\" >0.005200</td>\n",
       "      <td id=\"T_039b1_row58_col1\" class=\"data row58 col1\" >0.631900</td>\n",
       "      <td id=\"T_039b1_row58_col2\" class=\"data row58 col2\" >0.007100</td>\n",
       "      <td id=\"T_039b1_row58_col3\" class=\"data row58 col3\" >0.280600</td>\n",
       "      <td id=\"T_039b1_row58_col4\" class=\"data row58 col4\" >0.237000</td>\n",
       "      <td id=\"T_039b1_row58_col5\" class=\"data row58 col5\" >0.000000</td>\n",
       "      <td id=\"T_039b1_row58_col6\" class=\"data row58 col6\" >0.042200</td>\n",
       "    </tr>\n",
       "    <tr>\n",
       "      <th id=\"T_039b1_level2_row59\" class=\"row_heading level2 row59\" >Mínimo</th>\n",
       "      <td id=\"T_039b1_row59_col0\" class=\"data row59 col0\" >0.000000</td>\n",
       "      <td id=\"T_039b1_row59_col1\" class=\"data row59 col1\" >0.000000</td>\n",
       "      <td id=\"T_039b1_row59_col2\" class=\"data row59 col2\" >0.000000</td>\n",
       "      <td id=\"T_039b1_row59_col3\" class=\"data row59 col3\" >0.000000</td>\n",
       "      <td id=\"T_039b1_row59_col4\" class=\"data row59 col4\" >0.000000</td>\n",
       "      <td id=\"T_039b1_row59_col5\" class=\"data row59 col5\" >0.000000</td>\n",
       "      <td id=\"T_039b1_row59_col6\" class=\"data row59 col6\" >0.000000</td>\n",
       "    </tr>\n",
       "    <tr>\n",
       "      <th id=\"T_039b1_level2_row60\" class=\"row_heading level2 row60\" >Perc. 25</th>\n",
       "      <td id=\"T_039b1_row60_col0\" class=\"data row60 col0\" >0.000000</td>\n",
       "      <td id=\"T_039b1_row60_col1\" class=\"data row60 col1\" >0.000000</td>\n",
       "      <td id=\"T_039b1_row60_col2\" class=\"data row60 col2\" >0.000000</td>\n",
       "      <td id=\"T_039b1_row60_col3\" class=\"data row60 col3\" >1.000000</td>\n",
       "      <td id=\"T_039b1_row60_col4\" class=\"data row60 col4\" >0.000000</td>\n",
       "      <td id=\"T_039b1_row60_col5\" class=\"data row60 col5\" >0.000000</td>\n",
       "      <td id=\"T_039b1_row60_col6\" class=\"data row60 col6\" >0.000000</td>\n",
       "    </tr>\n",
       "    <tr>\n",
       "      <th id=\"T_039b1_level2_row61\" class=\"row_heading level2 row61\" >Perc. 50</th>\n",
       "      <td id=\"T_039b1_row61_col0\" class=\"data row61 col0\" >0.000000</td>\n",
       "      <td id=\"T_039b1_row61_col1\" class=\"data row61 col1\" >1.000000</td>\n",
       "      <td id=\"T_039b1_row61_col2\" class=\"data row61 col2\" >0.000000</td>\n",
       "      <td id=\"T_039b1_row61_col3\" class=\"data row61 col3\" >1.000000</td>\n",
       "      <td id=\"T_039b1_row61_col4\" class=\"data row61 col4\" >0.000000</td>\n",
       "      <td id=\"T_039b1_row61_col5\" class=\"data row61 col5\" >0.000000</td>\n",
       "      <td id=\"T_039b1_row61_col6\" class=\"data row61 col6\" >0.000000</td>\n",
       "    </tr>\n",
       "    <tr>\n",
       "      <th id=\"T_039b1_level2_row62\" class=\"row_heading level2 row62\" >Perc. 75</th>\n",
       "      <td id=\"T_039b1_row62_col0\" class=\"data row62 col0\" >0.000000</td>\n",
       "      <td id=\"T_039b1_row62_col1\" class=\"data row62 col1\" >1.000000</td>\n",
       "      <td id=\"T_039b1_row62_col2\" class=\"data row62 col2\" >0.000000</td>\n",
       "      <td id=\"T_039b1_row62_col3\" class=\"data row62 col3\" >1.000000</td>\n",
       "      <td id=\"T_039b1_row62_col4\" class=\"data row62 col4\" >0.000000</td>\n",
       "      <td id=\"T_039b1_row62_col5\" class=\"data row62 col5\" >0.000000</td>\n",
       "      <td id=\"T_039b1_row62_col6\" class=\"data row62 col6\" >0.000000</td>\n",
       "    </tr>\n",
       "    <tr>\n",
       "      <th id=\"T_039b1_level2_row63\" class=\"row_heading level2 row63\" >Máximo</th>\n",
       "      <td id=\"T_039b1_row63_col0\" class=\"data row63 col0\" >1.000000</td>\n",
       "      <td id=\"T_039b1_row63_col1\" class=\"data row63 col1\" >3.000000</td>\n",
       "      <td id=\"T_039b1_row63_col2\" class=\"data row63 col2\" >1.000000</td>\n",
       "      <td id=\"T_039b1_row63_col3\" class=\"data row63 col3\" >3.000000</td>\n",
       "      <td id=\"T_039b1_row63_col4\" class=\"data row63 col4\" >1.000000</td>\n",
       "      <td id=\"T_039b1_row63_col5\" class=\"data row63 col5\" >0.000000</td>\n",
       "      <td id=\"T_039b1_row63_col6\" class=\"data row63 col6\" >1.000000</td>\n",
       "    </tr>\n",
       "    <tr>\n",
       "      <th id=\"T_039b1_level1_row64\" class=\"row_heading level1 row64\" rowspan=\"7\">Productos Inversiones y ahorro</th>\n",
       "      <th id=\"T_039b1_level2_row64\" class=\"row_heading level2 row64\" >Media</th>\n",
       "      <td id=\"T_039b1_row64_col0\" class=\"data row64 col0\" >0.000000</td>\n",
       "      <td id=\"T_039b1_row64_col1\" class=\"data row64 col1\" >1.056700</td>\n",
       "      <td id=\"T_039b1_row64_col2\" class=\"data row64 col2\" >0.000000</td>\n",
       "      <td id=\"T_039b1_row64_col3\" class=\"data row64 col3\" >0.001200</td>\n",
       "      <td id=\"T_039b1_row64_col4\" class=\"data row64 col4\" >0.001900</td>\n",
       "      <td id=\"T_039b1_row64_col5\" class=\"data row64 col5\" >0.009500</td>\n",
       "      <td id=\"T_039b1_row64_col6\" class=\"data row64 col6\" >0.000000</td>\n",
       "    </tr>\n",
       "    <tr>\n",
       "      <th id=\"T_039b1_level2_row65\" class=\"row_heading level2 row65\" >Desviación</th>\n",
       "      <td id=\"T_039b1_row65_col0\" class=\"data row65 col0\" >0.003000</td>\n",
       "      <td id=\"T_039b1_row65_col1\" class=\"data row65 col1\" >0.253400</td>\n",
       "      <td id=\"T_039b1_row65_col2\" class=\"data row65 col2\" >0.004100</td>\n",
       "      <td id=\"T_039b1_row65_col3\" class=\"data row65 col3\" >0.034200</td>\n",
       "      <td id=\"T_039b1_row65_col4\" class=\"data row65 col4\" >0.043000</td>\n",
       "      <td id=\"T_039b1_row65_col5\" class=\"data row65 col5\" >0.096800</td>\n",
       "      <td id=\"T_039b1_row65_col6\" class=\"data row65 col6\" >0.006500</td>\n",
       "    </tr>\n",
       "    <tr>\n",
       "      <th id=\"T_039b1_level2_row66\" class=\"row_heading level2 row66\" >Mínimo</th>\n",
       "      <td id=\"T_039b1_row66_col0\" class=\"data row66 col0\" >0.000000</td>\n",
       "      <td id=\"T_039b1_row66_col1\" class=\"data row66 col1\" >0.000000</td>\n",
       "      <td id=\"T_039b1_row66_col2\" class=\"data row66 col2\" >0.000000</td>\n",
       "      <td id=\"T_039b1_row66_col3\" class=\"data row66 col3\" >0.000000</td>\n",
       "      <td id=\"T_039b1_row66_col4\" class=\"data row66 col4\" >0.000000</td>\n",
       "      <td id=\"T_039b1_row66_col5\" class=\"data row66 col5\" >0.000000</td>\n",
       "      <td id=\"T_039b1_row66_col6\" class=\"data row66 col6\" >0.000000</td>\n",
       "    </tr>\n",
       "    <tr>\n",
       "      <th id=\"T_039b1_level2_row67\" class=\"row_heading level2 row67\" >Perc. 25</th>\n",
       "      <td id=\"T_039b1_row67_col0\" class=\"data row67 col0\" >0.000000</td>\n",
       "      <td id=\"T_039b1_row67_col1\" class=\"data row67 col1\" >1.000000</td>\n",
       "      <td id=\"T_039b1_row67_col2\" class=\"data row67 col2\" >0.000000</td>\n",
       "      <td id=\"T_039b1_row67_col3\" class=\"data row67 col3\" >0.000000</td>\n",
       "      <td id=\"T_039b1_row67_col4\" class=\"data row67 col4\" >0.000000</td>\n",
       "      <td id=\"T_039b1_row67_col5\" class=\"data row67 col5\" >0.000000</td>\n",
       "      <td id=\"T_039b1_row67_col6\" class=\"data row67 col6\" >0.000000</td>\n",
       "    </tr>\n",
       "    <tr>\n",
       "      <th id=\"T_039b1_level2_row68\" class=\"row_heading level2 row68\" >Perc. 50</th>\n",
       "      <td id=\"T_039b1_row68_col0\" class=\"data row68 col0\" >0.000000</td>\n",
       "      <td id=\"T_039b1_row68_col1\" class=\"data row68 col1\" >1.000000</td>\n",
       "      <td id=\"T_039b1_row68_col2\" class=\"data row68 col2\" >0.000000</td>\n",
       "      <td id=\"T_039b1_row68_col3\" class=\"data row68 col3\" >0.000000</td>\n",
       "      <td id=\"T_039b1_row68_col4\" class=\"data row68 col4\" >0.000000</td>\n",
       "      <td id=\"T_039b1_row68_col5\" class=\"data row68 col5\" >0.000000</td>\n",
       "      <td id=\"T_039b1_row68_col6\" class=\"data row68 col6\" >0.000000</td>\n",
       "    </tr>\n",
       "    <tr>\n",
       "      <th id=\"T_039b1_level2_row69\" class=\"row_heading level2 row69\" >Perc. 75</th>\n",
       "      <td id=\"T_039b1_row69_col0\" class=\"data row69 col0\" >0.000000</td>\n",
       "      <td id=\"T_039b1_row69_col1\" class=\"data row69 col1\" >1.000000</td>\n",
       "      <td id=\"T_039b1_row69_col2\" class=\"data row69 col2\" >0.000000</td>\n",
       "      <td id=\"T_039b1_row69_col3\" class=\"data row69 col3\" >0.000000</td>\n",
       "      <td id=\"T_039b1_row69_col4\" class=\"data row69 col4\" >0.000000</td>\n",
       "      <td id=\"T_039b1_row69_col5\" class=\"data row69 col5\" >0.000000</td>\n",
       "      <td id=\"T_039b1_row69_col6\" class=\"data row69 col6\" >0.000000</td>\n",
       "    </tr>\n",
       "    <tr>\n",
       "      <th id=\"T_039b1_level2_row70\" class=\"row_heading level2 row70\" >Máximo</th>\n",
       "      <td id=\"T_039b1_row70_col0\" class=\"data row70 col0\" >1.000000</td>\n",
       "      <td id=\"T_039b1_row70_col1\" class=\"data row70 col1\" >4.000000</td>\n",
       "      <td id=\"T_039b1_row70_col2\" class=\"data row70 col2\" >1.000000</td>\n",
       "      <td id=\"T_039b1_row70_col3\" class=\"data row70 col3\" >1.000000</td>\n",
       "      <td id=\"T_039b1_row70_col4\" class=\"data row70 col4\" >1.000000</td>\n",
       "      <td id=\"T_039b1_row70_col5\" class=\"data row70 col5\" >1.000000</td>\n",
       "      <td id=\"T_039b1_row70_col6\" class=\"data row70 col6\" >1.000000</td>\n",
       "    </tr>\n",
       "    <tr>\n",
       "      <th id=\"T_039b1_level1_row71\" class=\"row_heading level1 row71\" rowspan=\"7\">Productos Cuentas EasyMoney</th>\n",
       "      <th id=\"T_039b1_level2_row71\" class=\"row_heading level2 row71\" >Media</th>\n",
       "      <td id=\"T_039b1_row71_col0\" class=\"data row71 col0\" >0.990100</td>\n",
       "      <td id=\"T_039b1_row71_col1\" class=\"data row71 col1\" >1.886400</td>\n",
       "      <td id=\"T_039b1_row71_col2\" class=\"data row71 col2\" >0.252200</td>\n",
       "      <td id=\"T_039b1_row71_col3\" class=\"data row71 col3\" >1.087700</td>\n",
       "      <td id=\"T_039b1_row71_col4\" class=\"data row71 col4\" >0.987900</td>\n",
       "      <td id=\"T_039b1_row71_col5\" class=\"data row71 col5\" >1.039300</td>\n",
       "      <td id=\"T_039b1_row71_col6\" class=\"data row71 col6\" >0.372300</td>\n",
       "    </tr>\n",
       "    <tr>\n",
       "      <th id=\"T_039b1_level2_row72\" class=\"row_heading level2 row72\" >Desviación</th>\n",
       "      <td id=\"T_039b1_row72_col0\" class=\"data row72 col0\" >0.102300</td>\n",
       "      <td id=\"T_039b1_row72_col1\" class=\"data row72 col1\" >0.749600</td>\n",
       "      <td id=\"T_039b1_row72_col2\" class=\"data row72 col2\" >0.434300</td>\n",
       "      <td id=\"T_039b1_row72_col3\" class=\"data row72 col3\" >0.430900</td>\n",
       "      <td id=\"T_039b1_row72_col4\" class=\"data row72 col4\" >0.202800</td>\n",
       "      <td id=\"T_039b1_row72_col5\" class=\"data row72 col5\" >0.478400</td>\n",
       "      <td id=\"T_039b1_row72_col6\" class=\"data row72 col6\" >0.483500</td>\n",
       "    </tr>\n",
       "    <tr>\n",
       "      <th id=\"T_039b1_level2_row73\" class=\"row_heading level2 row73\" >Mínimo</th>\n",
       "      <td id=\"T_039b1_row73_col0\" class=\"data row73 col0\" >0.000000</td>\n",
       "      <td id=\"T_039b1_row73_col1\" class=\"data row73 col1\" >0.000000</td>\n",
       "      <td id=\"T_039b1_row73_col2\" class=\"data row73 col2\" >0.000000</td>\n",
       "      <td id=\"T_039b1_row73_col3\" class=\"data row73 col3\" >0.000000</td>\n",
       "      <td id=\"T_039b1_row73_col4\" class=\"data row73 col4\" >0.000000</td>\n",
       "      <td id=\"T_039b1_row73_col5\" class=\"data row73 col5\" >0.000000</td>\n",
       "      <td id=\"T_039b1_row73_col6\" class=\"data row73 col6\" >0.000000</td>\n",
       "    </tr>\n",
       "    <tr>\n",
       "      <th id=\"T_039b1_level2_row74\" class=\"row_heading level2 row74\" >Perc. 25</th>\n",
       "      <td id=\"T_039b1_row74_col0\" class=\"data row74 col0\" >1.000000</td>\n",
       "      <td id=\"T_039b1_row74_col1\" class=\"data row74 col1\" >2.000000</td>\n",
       "      <td id=\"T_039b1_row74_col2\" class=\"data row74 col2\" >0.000000</td>\n",
       "      <td id=\"T_039b1_row74_col3\" class=\"data row74 col3\" >1.000000</td>\n",
       "      <td id=\"T_039b1_row74_col4\" class=\"data row74 col4\" >1.000000</td>\n",
       "      <td id=\"T_039b1_row74_col5\" class=\"data row74 col5\" >1.000000</td>\n",
       "      <td id=\"T_039b1_row74_col6\" class=\"data row74 col6\" >0.000000</td>\n",
       "    </tr>\n",
       "    <tr>\n",
       "      <th id=\"T_039b1_level2_row75\" class=\"row_heading level2 row75\" >Perc. 50</th>\n",
       "      <td id=\"T_039b1_row75_col0\" class=\"data row75 col0\" >1.000000</td>\n",
       "      <td id=\"T_039b1_row75_col1\" class=\"data row75 col1\" >2.000000</td>\n",
       "      <td id=\"T_039b1_row75_col2\" class=\"data row75 col2\" >0.000000</td>\n",
       "      <td id=\"T_039b1_row75_col3\" class=\"data row75 col3\" >1.000000</td>\n",
       "      <td id=\"T_039b1_row75_col4\" class=\"data row75 col4\" >1.000000</td>\n",
       "      <td id=\"T_039b1_row75_col5\" class=\"data row75 col5\" >1.000000</td>\n",
       "      <td id=\"T_039b1_row75_col6\" class=\"data row75 col6\" >0.000000</td>\n",
       "    </tr>\n",
       "    <tr>\n",
       "      <th id=\"T_039b1_level2_row76\" class=\"row_heading level2 row76\" >Perc. 75</th>\n",
       "      <td id=\"T_039b1_row76_col0\" class=\"data row76 col0\" >1.000000</td>\n",
       "      <td id=\"T_039b1_row76_col1\" class=\"data row76 col1\" >2.000000</td>\n",
       "      <td id=\"T_039b1_row76_col2\" class=\"data row76 col2\" >1.000000</td>\n",
       "      <td id=\"T_039b1_row76_col3\" class=\"data row76 col3\" >1.000000</td>\n",
       "      <td id=\"T_039b1_row76_col4\" class=\"data row76 col4\" >1.000000</td>\n",
       "      <td id=\"T_039b1_row76_col5\" class=\"data row76 col5\" >1.000000</td>\n",
       "      <td id=\"T_039b1_row76_col6\" class=\"data row76 col6\" >1.000000</td>\n",
       "    </tr>\n",
       "    <tr>\n",
       "      <th id=\"T_039b1_level2_row77\" class=\"row_heading level2 row77\" >Máximo</th>\n",
       "      <td id=\"T_039b1_row77_col0\" class=\"data row77 col0\" >2.000000</td>\n",
       "      <td id=\"T_039b1_row77_col1\" class=\"data row77 col1\" >4.000000</td>\n",
       "      <td id=\"T_039b1_row77_col2\" class=\"data row77 col2\" >1.000000</td>\n",
       "      <td id=\"T_039b1_row77_col3\" class=\"data row77 col3\" >3.000000</td>\n",
       "      <td id=\"T_039b1_row77_col4\" class=\"data row77 col4\" >3.000000</td>\n",
       "      <td id=\"T_039b1_row77_col5\" class=\"data row77 col5\" >3.000000</td>\n",
       "      <td id=\"T_039b1_row77_col6\" class=\"data row77 col6\" >2.000000</td>\n",
       "    </tr>\n",
       "    <tr>\n",
       "      <th id=\"T_039b1_level1_row78\" class=\"row_heading level1 row78\" rowspan=\"7\">Productos préstamos (a solas)</th>\n",
       "      <th id=\"T_039b1_level2_row78\" class=\"row_heading level2 row78\" >Media</th>\n",
       "      <td id=\"T_039b1_row78_col0\" class=\"data row78 col0\" >0.004000</td>\n",
       "      <td id=\"T_039b1_row78_col1\" class=\"data row78 col1\" >0.730200</td>\n",
       "      <td id=\"T_039b1_row78_col2\" class=\"data row78 col2\" >0.019600</td>\n",
       "      <td id=\"T_039b1_row78_col3\" class=\"data row78 col3\" >1.089000</td>\n",
       "      <td id=\"T_039b1_row78_col4\" class=\"data row78 col4\" >0.158200</td>\n",
       "      <td id=\"T_039b1_row78_col5\" class=\"data row78 col5\" >0.141400</td>\n",
       "      <td id=\"T_039b1_row78_col6\" class=\"data row78 col6\" >0.008600</td>\n",
       "    </tr>\n",
       "    <tr>\n",
       "      <th id=\"T_039b1_level2_row79\" class=\"row_heading level2 row79\" >Desviación</th>\n",
       "      <td id=\"T_039b1_row79_col0\" class=\"data row79 col0\" >0.063100</td>\n",
       "      <td id=\"T_039b1_row79_col1\" class=\"data row79 col1\" >0.669000</td>\n",
       "      <td id=\"T_039b1_row79_col2\" class=\"data row79 col2\" >0.140800</td>\n",
       "      <td id=\"T_039b1_row79_col3\" class=\"data row79 col3\" >0.286400</td>\n",
       "      <td id=\"T_039b1_row79_col4\" class=\"data row79 col4\" >0.368100</td>\n",
       "      <td id=\"T_039b1_row79_col5\" class=\"data row79 col5\" >0.353800</td>\n",
       "      <td id=\"T_039b1_row79_col6\" class=\"data row79 col6\" >0.092300</td>\n",
       "    </tr>\n",
       "    <tr>\n",
       "      <th id=\"T_039b1_level2_row80\" class=\"row_heading level2 row80\" >Mínimo</th>\n",
       "      <td id=\"T_039b1_row80_col0\" class=\"data row80 col0\" >0.000000</td>\n",
       "      <td id=\"T_039b1_row80_col1\" class=\"data row80 col1\" >0.000000</td>\n",
       "      <td id=\"T_039b1_row80_col2\" class=\"data row80 col2\" >0.000000</td>\n",
       "      <td id=\"T_039b1_row80_col3\" class=\"data row80 col3\" >0.000000</td>\n",
       "      <td id=\"T_039b1_row80_col4\" class=\"data row80 col4\" >0.000000</td>\n",
       "      <td id=\"T_039b1_row80_col5\" class=\"data row80 col5\" >0.000000</td>\n",
       "      <td id=\"T_039b1_row80_col6\" class=\"data row80 col6\" >0.000000</td>\n",
       "    </tr>\n",
       "    <tr>\n",
       "      <th id=\"T_039b1_level2_row81\" class=\"row_heading level2 row81\" >Perc. 25</th>\n",
       "      <td id=\"T_039b1_row81_col0\" class=\"data row81 col0\" >0.000000</td>\n",
       "      <td id=\"T_039b1_row81_col1\" class=\"data row81 col1\" >0.000000</td>\n",
       "      <td id=\"T_039b1_row81_col2\" class=\"data row81 col2\" >0.000000</td>\n",
       "      <td id=\"T_039b1_row81_col3\" class=\"data row81 col3\" >1.000000</td>\n",
       "      <td id=\"T_039b1_row81_col4\" class=\"data row81 col4\" >0.000000</td>\n",
       "      <td id=\"T_039b1_row81_col5\" class=\"data row81 col5\" >0.000000</td>\n",
       "      <td id=\"T_039b1_row81_col6\" class=\"data row81 col6\" >0.000000</td>\n",
       "    </tr>\n",
       "    <tr>\n",
       "      <th id=\"T_039b1_level2_row82\" class=\"row_heading level2 row82\" >Perc. 50</th>\n",
       "      <td id=\"T_039b1_row82_col0\" class=\"data row82 col0\" >0.000000</td>\n",
       "      <td id=\"T_039b1_row82_col1\" class=\"data row82 col1\" >1.000000</td>\n",
       "      <td id=\"T_039b1_row82_col2\" class=\"data row82 col2\" >0.000000</td>\n",
       "      <td id=\"T_039b1_row82_col3\" class=\"data row82 col3\" >1.000000</td>\n",
       "      <td id=\"T_039b1_row82_col4\" class=\"data row82 col4\" >0.000000</td>\n",
       "      <td id=\"T_039b1_row82_col5\" class=\"data row82 col5\" >0.000000</td>\n",
       "      <td id=\"T_039b1_row82_col6\" class=\"data row82 col6\" >0.000000</td>\n",
       "    </tr>\n",
       "    <tr>\n",
       "      <th id=\"T_039b1_level2_row83\" class=\"row_heading level2 row83\" >Perc. 75</th>\n",
       "      <td id=\"T_039b1_row83_col0\" class=\"data row83 col0\" >0.000000</td>\n",
       "      <td id=\"T_039b1_row83_col1\" class=\"data row83 col1\" >1.000000</td>\n",
       "      <td id=\"T_039b1_row83_col2\" class=\"data row83 col2\" >0.000000</td>\n",
       "      <td id=\"T_039b1_row83_col3\" class=\"data row83 col3\" >1.000000</td>\n",
       "      <td id=\"T_039b1_row83_col4\" class=\"data row83 col4\" >0.000000</td>\n",
       "      <td id=\"T_039b1_row83_col5\" class=\"data row83 col5\" >0.000000</td>\n",
       "      <td id=\"T_039b1_row83_col6\" class=\"data row83 col6\" >0.000000</td>\n",
       "    </tr>\n",
       "    <tr>\n",
       "      <th id=\"T_039b1_level2_row84\" class=\"row_heading level2 row84\" >Máximo</th>\n",
       "      <td id=\"T_039b1_row84_col0\" class=\"data row84 col0\" >2.000000</td>\n",
       "      <td id=\"T_039b1_row84_col1\" class=\"data row84 col1\" >3.000000</td>\n",
       "      <td id=\"T_039b1_row84_col2\" class=\"data row84 col2\" >2.000000</td>\n",
       "      <td id=\"T_039b1_row84_col3\" class=\"data row84 col3\" >3.000000</td>\n",
       "      <td id=\"T_039b1_row84_col4\" class=\"data row84 col4\" >2.000000</td>\n",
       "      <td id=\"T_039b1_row84_col5\" class=\"data row84 col5\" >2.000000</td>\n",
       "      <td id=\"T_039b1_row84_col6\" class=\"data row84 col6\" >2.000000</td>\n",
       "    </tr>\n",
       "    <tr>\n",
       "      <th id=\"T_039b1_level0_row85\" class=\"row_heading level0 row85\" rowspan=\"7\">Tendencia (compras)</th>\n",
       "      <th id=\"T_039b1_level1_row85\" class=\"row_heading level1 row85\" rowspan=\"7\">Tendencia de compra ultimo mes</th>\n",
       "      <th id=\"T_039b1_level2_row85\" class=\"row_heading level2 row85\" >Media</th>\n",
       "      <td id=\"T_039b1_row85_col0\" class=\"data row85 col0\" >-0.000400</td>\n",
       "      <td id=\"T_039b1_row85_col1\" class=\"data row85 col1\" >0.256200</td>\n",
       "      <td id=\"T_039b1_row85_col2\" class=\"data row85 col2\" >-0.001600</td>\n",
       "      <td id=\"T_039b1_row85_col3\" class=\"data row85 col3\" >0.069000</td>\n",
       "      <td id=\"T_039b1_row85_col4\" class=\"data row85 col4\" >-0.032300</td>\n",
       "      <td id=\"T_039b1_row85_col5\" class=\"data row85 col5\" >-0.028600</td>\n",
       "      <td id=\"T_039b1_row85_col6\" class=\"data row85 col6\" >0.000400</td>\n",
       "    </tr>\n",
       "    <tr>\n",
       "      <th id=\"T_039b1_level2_row86\" class=\"row_heading level2 row86\" >Desviación</th>\n",
       "      <td id=\"T_039b1_row86_col0\" class=\"data row86 col0\" >0.020700</td>\n",
       "      <td id=\"T_039b1_row86_col1\" class=\"data row86 col1\" >0.758200</td>\n",
       "      <td id=\"T_039b1_row86_col2\" class=\"data row86 col2\" >0.106100</td>\n",
       "      <td id=\"T_039b1_row86_col3\" class=\"data row86 col3\" >0.596600</td>\n",
       "      <td id=\"T_039b1_row86_col4\" class=\"data row86 col4\" >0.219800</td>\n",
       "      <td id=\"T_039b1_row86_col5\" class=\"data row86 col5\" >0.342700</td>\n",
       "      <td id=\"T_039b1_row86_col6\" class=\"data row86 col6\" >0.090400</td>\n",
       "    </tr>\n",
       "    <tr>\n",
       "      <th id=\"T_039b1_level2_row87\" class=\"row_heading level2 row87\" >Mínimo</th>\n",
       "      <td id=\"T_039b1_row87_col0\" class=\"data row87 col0\" >-1.000000</td>\n",
       "      <td id=\"T_039b1_row87_col1\" class=\"data row87 col1\" >-4.000000</td>\n",
       "      <td id=\"T_039b1_row87_col2\" class=\"data row87 col2\" >-3.000000</td>\n",
       "      <td id=\"T_039b1_row87_col3\" class=\"data row87 col3\" >-4.000000</td>\n",
       "      <td id=\"T_039b1_row87_col4\" class=\"data row87 col4\" >-3.000000</td>\n",
       "      <td id=\"T_039b1_row87_col5\" class=\"data row87 col5\" >-4.000000</td>\n",
       "      <td id=\"T_039b1_row87_col6\" class=\"data row87 col6\" >-2.000000</td>\n",
       "    </tr>\n",
       "    <tr>\n",
       "      <th id=\"T_039b1_level2_row88\" class=\"row_heading level2 row88\" >Perc. 25</th>\n",
       "      <td id=\"T_039b1_row88_col0\" class=\"data row88 col0\" >0.000000</td>\n",
       "      <td id=\"T_039b1_row88_col1\" class=\"data row88 col1\" >0.000000</td>\n",
       "      <td id=\"T_039b1_row88_col2\" class=\"data row88 col2\" >0.000000</td>\n",
       "      <td id=\"T_039b1_row88_col3\" class=\"data row88 col3\" >0.000000</td>\n",
       "      <td id=\"T_039b1_row88_col4\" class=\"data row88 col4\" >0.000000</td>\n",
       "      <td id=\"T_039b1_row88_col5\" class=\"data row88 col5\" >0.000000</td>\n",
       "      <td id=\"T_039b1_row88_col6\" class=\"data row88 col6\" >0.000000</td>\n",
       "    </tr>\n",
       "    <tr>\n",
       "      <th id=\"T_039b1_level2_row89\" class=\"row_heading level2 row89\" >Perc. 50</th>\n",
       "      <td id=\"T_039b1_row89_col0\" class=\"data row89 col0\" >0.000000</td>\n",
       "      <td id=\"T_039b1_row89_col1\" class=\"data row89 col1\" >0.000000</td>\n",
       "      <td id=\"T_039b1_row89_col2\" class=\"data row89 col2\" >0.000000</td>\n",
       "      <td id=\"T_039b1_row89_col3\" class=\"data row89 col3\" >0.000000</td>\n",
       "      <td id=\"T_039b1_row89_col4\" class=\"data row89 col4\" >0.000000</td>\n",
       "      <td id=\"T_039b1_row89_col5\" class=\"data row89 col5\" >0.000000</td>\n",
       "      <td id=\"T_039b1_row89_col6\" class=\"data row89 col6\" >0.000000</td>\n",
       "    </tr>\n",
       "    <tr>\n",
       "      <th id=\"T_039b1_level2_row90\" class=\"row_heading level2 row90\" >Perc. 75</th>\n",
       "      <td id=\"T_039b1_row90_col0\" class=\"data row90 col0\" >0.000000</td>\n",
       "      <td id=\"T_039b1_row90_col1\" class=\"data row90 col1\" >0.000000</td>\n",
       "      <td id=\"T_039b1_row90_col2\" class=\"data row90 col2\" >0.000000</td>\n",
       "      <td id=\"T_039b1_row90_col3\" class=\"data row90 col3\" >0.000000</td>\n",
       "      <td id=\"T_039b1_row90_col4\" class=\"data row90 col4\" >0.000000</td>\n",
       "      <td id=\"T_039b1_row90_col5\" class=\"data row90 col5\" >0.000000</td>\n",
       "      <td id=\"T_039b1_row90_col6\" class=\"data row90 col6\" >0.000000</td>\n",
       "    </tr>\n",
       "    <tr>\n",
       "      <th id=\"T_039b1_level2_row91\" class=\"row_heading level2 row91\" >Máximo</th>\n",
       "      <td id=\"T_039b1_row91_col0\" class=\"data row91 col0\" >1.000000</td>\n",
       "      <td id=\"T_039b1_row91_col1\" class=\"data row91 col1\" >5.000000</td>\n",
       "      <td id=\"T_039b1_row91_col2\" class=\"data row91 col2\" >1.000000</td>\n",
       "      <td id=\"T_039b1_row91_col3\" class=\"data row91 col3\" >3.000000</td>\n",
       "      <td id=\"T_039b1_row91_col4\" class=\"data row91 col4\" >2.000000</td>\n",
       "      <td id=\"T_039b1_row91_col5\" class=\"data row91 col5\" >2.000000</td>\n",
       "      <td id=\"T_039b1_row91_col6\" class=\"data row91 col6\" >2.000000</td>\n",
       "    </tr>\n",
       "    <tr>\n",
       "      <th id=\"T_039b1_level0_row92\" class=\"row_heading level0 row92\" rowspan=\"14\">Relacionamiento</th>\n",
       "      <th id=\"T_039b1_level1_row92\" class=\"row_heading level1 row92\" rowspan=\"7\">Tenencia del cliente</th>\n",
       "      <th id=\"T_039b1_level2_row92\" class=\"row_heading level2 row92\" >Media</th>\n",
       "      <td id=\"T_039b1_row92_col0\" class=\"data row92 col0\" >1010.558200</td>\n",
       "      <td id=\"T_039b1_row92_col1\" class=\"data row92 col1\" >760.929100</td>\n",
       "      <td id=\"T_039b1_row92_col2\" class=\"data row92 col2\" >735.584800</td>\n",
       "      <td id=\"T_039b1_row92_col3\" class=\"data row92 col3\" >712.540300</td>\n",
       "      <td id=\"T_039b1_row92_col4\" class=\"data row92 col4\" >732.129400</td>\n",
       "      <td id=\"T_039b1_row92_col5\" class=\"data row92 col5\" >606.228000</td>\n",
       "      <td id=\"T_039b1_row92_col6\" class=\"data row92 col6\" >494.136600</td>\n",
       "    </tr>\n",
       "    <tr>\n",
       "      <th id=\"T_039b1_level2_row93\" class=\"row_heading level2 row93\" >Desviación</th>\n",
       "      <td id=\"T_039b1_row93_col0\" class=\"data row93 col0\" >299.587800</td>\n",
       "      <td id=\"T_039b1_row93_col1\" class=\"data row93 col1\" >430.571100</td>\n",
       "      <td id=\"T_039b1_row93_col2\" class=\"data row93 col2\" >466.339300</td>\n",
       "      <td id=\"T_039b1_row93_col3\" class=\"data row93 col3\" >427.036200</td>\n",
       "      <td id=\"T_039b1_row93_col4\" class=\"data row93 col4\" >415.042700</td>\n",
       "      <td id=\"T_039b1_row93_col5\" class=\"data row93 col5\" >447.354800</td>\n",
       "      <td id=\"T_039b1_row93_col6\" class=\"data row93 col6\" >366.653800</td>\n",
       "    </tr>\n",
       "    <tr>\n",
       "      <th id=\"T_039b1_level2_row94\" class=\"row_heading level2 row94\" >Mínimo</th>\n",
       "      <td id=\"T_039b1_row94_col0\" class=\"data row94 col0\" >395.000000</td>\n",
       "      <td id=\"T_039b1_row94_col1\" class=\"data row94 col1\" >4.000000</td>\n",
       "      <td id=\"T_039b1_row94_col2\" class=\"data row94 col2\" >-3.000000</td>\n",
       "      <td id=\"T_039b1_row94_col3\" class=\"data row94 col3\" >9.000000</td>\n",
       "      <td id=\"T_039b1_row94_col4\" class=\"data row94 col4\" >-3.000000</td>\n",
       "      <td id=\"T_039b1_row94_col5\" class=\"data row94 col5\" >-3.000000</td>\n",
       "      <td id=\"T_039b1_row94_col6\" class=\"data row94 col6\" >-3.000000</td>\n",
       "    </tr>\n",
       "    <tr>\n",
       "      <th id=\"T_039b1_level2_row95\" class=\"row_heading level2 row95\" >Perc. 25</th>\n",
       "      <td id=\"T_039b1_row95_col0\" class=\"data row95 col0\" >669.000000</td>\n",
       "      <td id=\"T_039b1_row95_col1\" class=\"data row95 col1\" >387.000000</td>\n",
       "      <td id=\"T_039b1_row95_col2\" class=\"data row95 col2\" >335.000000</td>\n",
       "      <td id=\"T_039b1_row95_col3\" class=\"data row95 col3\" >329.000000</td>\n",
       "      <td id=\"T_039b1_row95_col4\" class=\"data row95 col4\" >303.000000</td>\n",
       "      <td id=\"T_039b1_row95_col5\" class=\"data row95 col5\" >210.000000</td>\n",
       "      <td id=\"T_039b1_row95_col6\" class=\"data row95 col6\" >230.000000</td>\n",
       "    </tr>\n",
       "    <tr>\n",
       "      <th id=\"T_039b1_level2_row96\" class=\"row_heading level2 row96\" >Perc. 50</th>\n",
       "      <td id=\"T_039b1_row96_col0\" class=\"data row96 col0\" >984.000000</td>\n",
       "      <td id=\"T_039b1_row96_col1\" class=\"data row96 col1\" >718.000000</td>\n",
       "      <td id=\"T_039b1_row96_col2\" class=\"data row96 col2\" >701.000000</td>\n",
       "      <td id=\"T_039b1_row96_col3\" class=\"data row96 col3\" >669.000000</td>\n",
       "      <td id=\"T_039b1_row96_col4\" class=\"data row96 col4\" >665.000000</td>\n",
       "      <td id=\"T_039b1_row96_col5\" class=\"data row96 col5\" >529.000000</td>\n",
       "      <td id=\"T_039b1_row96_col6\" class=\"data row96 col6\" >297.000000</td>\n",
       "    </tr>\n",
       "    <tr>\n",
       "      <th id=\"T_039b1_level2_row97\" class=\"row_heading level2 row97\" >Perc. 75</th>\n",
       "      <td id=\"T_039b1_row97_col0\" class=\"data row97 col0\" >1318.000000</td>\n",
       "      <td id=\"T_039b1_row97_col1\" class=\"data row97 col1\" >1121.000000</td>\n",
       "      <td id=\"T_039b1_row97_col2\" class=\"data row97 col2\" >1138.000000</td>\n",
       "      <td id=\"T_039b1_row97_col3\" class=\"data row97 col3\" >1030.000000</td>\n",
       "      <td id=\"T_039b1_row97_col4\" class=\"data row97 col4\" >1029.000000</td>\n",
       "      <td id=\"T_039b1_row97_col5\" class=\"data row97 col5\" >927.000000</td>\n",
       "      <td id=\"T_039b1_row97_col6\" class=\"data row97 col6\" >647.000000</td>\n",
       "    </tr>\n",
       "    <tr>\n",
       "      <th id=\"T_039b1_level2_row98\" class=\"row_heading level2 row98\" >Máximo</th>\n",
       "      <td id=\"T_039b1_row98_col0\" class=\"data row98 col0\" >1607.000000</td>\n",
       "      <td id=\"T_039b1_row98_col1\" class=\"data row98 col1\" >1607.000000</td>\n",
       "      <td id=\"T_039b1_row98_col2\" class=\"data row98 col2\" >1607.000000</td>\n",
       "      <td id=\"T_039b1_row98_col3\" class=\"data row98 col3\" >1608.000000</td>\n",
       "      <td id=\"T_039b1_row98_col4\" class=\"data row98 col4\" >1607.000000</td>\n",
       "      <td id=\"T_039b1_row98_col5\" class=\"data row98 col5\" >1607.000000</td>\n",
       "      <td id=\"T_039b1_row98_col6\" class=\"data row98 col6\" >1607.000000</td>\n",
       "    </tr>\n",
       "    <tr>\n",
       "      <th id=\"T_039b1_level1_row99\" class=\"row_heading level1 row99\" rowspan=\"7\">Fidelización</th>\n",
       "      <th id=\"T_039b1_level2_row99\" class=\"row_heading level2 row99\" >Media</th>\n",
       "      <td id=\"T_039b1_row99_col0\" class=\"data row99 col0\" >0.013500</td>\n",
       "      <td id=\"T_039b1_row99_col1\" class=\"data row99 col1\" >0.195400</td>\n",
       "      <td id=\"T_039b1_row99_col2\" class=\"data row99 col2\" >0.118500</td>\n",
       "      <td id=\"T_039b1_row99_col3\" class=\"data row99 col3\" >0.430800</td>\n",
       "      <td id=\"T_039b1_row99_col4\" class=\"data row99 col4\" >0.198700</td>\n",
       "      <td id=\"T_039b1_row99_col5\" class=\"data row99 col5\" >0.314700</td>\n",
       "      <td id=\"T_039b1_row99_col6\" class=\"data row99 col6\" >0.045100</td>\n",
       "    </tr>\n",
       "    <tr>\n",
       "      <th id=\"T_039b1_level2_row100\" class=\"row_heading level2 row100\" >Desviación</th>\n",
       "      <td id=\"T_039b1_row100_col0\" class=\"data row100 col0\" >0.126700</td>\n",
       "      <td id=\"T_039b1_row100_col1\" class=\"data row100 col1\" >0.458900</td>\n",
       "      <td id=\"T_039b1_row100_col2\" class=\"data row100 col2\" >0.402400</td>\n",
       "      <td id=\"T_039b1_row100_col3\" class=\"data row100 col3\" >0.841600</td>\n",
       "      <td id=\"T_039b1_row100_col4\" class=\"data row100 col4\" >0.542900</td>\n",
       "      <td id=\"T_039b1_row100_col5\" class=\"data row100 col5\" >0.653000</td>\n",
       "      <td id=\"T_039b1_row100_col6\" class=\"data row100 col6\" >0.228600</td>\n",
       "    </tr>\n",
       "    <tr>\n",
       "      <th id=\"T_039b1_level2_row101\" class=\"row_heading level2 row101\" >Mínimo</th>\n",
       "      <td id=\"T_039b1_row101_col0\" class=\"data row101 col0\" >0.000000</td>\n",
       "      <td id=\"T_039b1_row101_col1\" class=\"data row101 col1\" >0.000000</td>\n",
       "      <td id=\"T_039b1_row101_col2\" class=\"data row101 col2\" >0.000000</td>\n",
       "      <td id=\"T_039b1_row101_col3\" class=\"data row101 col3\" >0.000000</td>\n",
       "      <td id=\"T_039b1_row101_col4\" class=\"data row101 col4\" >0.000000</td>\n",
       "      <td id=\"T_039b1_row101_col5\" class=\"data row101 col5\" >0.000000</td>\n",
       "      <td id=\"T_039b1_row101_col6\" class=\"data row101 col6\" >0.000000</td>\n",
       "    </tr>\n",
       "    <tr>\n",
       "      <th id=\"T_039b1_level2_row102\" class=\"row_heading level2 row102\" >Perc. 25</th>\n",
       "      <td id=\"T_039b1_row102_col0\" class=\"data row102 col0\" >0.000000</td>\n",
       "      <td id=\"T_039b1_row102_col1\" class=\"data row102 col1\" >0.000000</td>\n",
       "      <td id=\"T_039b1_row102_col2\" class=\"data row102 col2\" >0.000000</td>\n",
       "      <td id=\"T_039b1_row102_col3\" class=\"data row102 col3\" >0.000000</td>\n",
       "      <td id=\"T_039b1_row102_col4\" class=\"data row102 col4\" >0.000000</td>\n",
       "      <td id=\"T_039b1_row102_col5\" class=\"data row102 col5\" >0.000000</td>\n",
       "      <td id=\"T_039b1_row102_col6\" class=\"data row102 col6\" >0.000000</td>\n",
       "    </tr>\n",
       "    <tr>\n",
       "      <th id=\"T_039b1_level2_row103\" class=\"row_heading level2 row103\" >Perc. 50</th>\n",
       "      <td id=\"T_039b1_row103_col0\" class=\"data row103 col0\" >0.000000</td>\n",
       "      <td id=\"T_039b1_row103_col1\" class=\"data row103 col1\" >0.000000</td>\n",
       "      <td id=\"T_039b1_row103_col2\" class=\"data row103 col2\" >0.000000</td>\n",
       "      <td id=\"T_039b1_row103_col3\" class=\"data row103 col3\" >0.000000</td>\n",
       "      <td id=\"T_039b1_row103_col4\" class=\"data row103 col4\" >0.000000</td>\n",
       "      <td id=\"T_039b1_row103_col5\" class=\"data row103 col5\" >0.000000</td>\n",
       "      <td id=\"T_039b1_row103_col6\" class=\"data row103 col6\" >0.000000</td>\n",
       "    </tr>\n",
       "    <tr>\n",
       "      <th id=\"T_039b1_level2_row104\" class=\"row_heading level2 row104\" >Perc. 75</th>\n",
       "      <td id=\"T_039b1_row104_col0\" class=\"data row104 col0\" >0.000000</td>\n",
       "      <td id=\"T_039b1_row104_col1\" class=\"data row104 col1\" >0.000000</td>\n",
       "      <td id=\"T_039b1_row104_col2\" class=\"data row104 col2\" >0.000000</td>\n",
       "      <td id=\"T_039b1_row104_col3\" class=\"data row104 col3\" >0.000000</td>\n",
       "      <td id=\"T_039b1_row104_col4\" class=\"data row104 col4\" >0.000000</td>\n",
       "      <td id=\"T_039b1_row104_col5\" class=\"data row104 col5\" >0.000000</td>\n",
       "      <td id=\"T_039b1_row104_col6\" class=\"data row104 col6\" >0.000000</td>\n",
       "    </tr>\n",
       "    <tr>\n",
       "      <th id=\"T_039b1_level2_row105\" class=\"row_heading level2 row105\" >Máximo</th>\n",
       "      <td id=\"T_039b1_row105_col0\" class=\"data row105 col0\" >4.000000</td>\n",
       "      <td id=\"T_039b1_row105_col1\" class=\"data row105 col1\" >7.000000</td>\n",
       "      <td id=\"T_039b1_row105_col2\" class=\"data row105 col2\" >5.000000</td>\n",
       "      <td id=\"T_039b1_row105_col3\" class=\"data row105 col3\" >6.000000</td>\n",
       "      <td id=\"T_039b1_row105_col4\" class=\"data row105 col4\" >7.000000</td>\n",
       "      <td id=\"T_039b1_row105_col5\" class=\"data row105 col5\" >6.000000</td>\n",
       "      <td id=\"T_039b1_row105_col6\" class=\"data row105 col6\" >4.000000</td>\n",
       "    </tr>\n",
       "    <tr>\n",
       "      <th id=\"T_039b1_level0_row106\" class=\"row_heading level0 row106\" rowspan=\"35\">Comportamiento</th>\n",
       "      <th id=\"T_039b1_level1_row106\" class=\"row_heading level1 row106\" rowspan=\"7\">Transaciones</th>\n",
       "      <th id=\"T_039b1_level2_row106\" class=\"row_heading level2 row106\" >Media</th>\n",
       "      <td id=\"T_039b1_row106_col0\" class=\"data row106 col0\" >0.019700</td>\n",
       "      <td id=\"T_039b1_row106_col1\" class=\"data row106 col1\" >4.732600</td>\n",
       "      <td id=\"T_039b1_row106_col2\" class=\"data row106 col2\" >0.206500</td>\n",
       "      <td id=\"T_039b1_row106_col3\" class=\"data row106 col3\" >3.616700</td>\n",
       "      <td id=\"T_039b1_row106_col4\" class=\"data row106 col4\" >0.708700</td>\n",
       "      <td id=\"T_039b1_row106_col5\" class=\"data row106 col5\" >1.056500</td>\n",
       "      <td id=\"T_039b1_row106_col6\" class=\"data row106 col6\" >0.131600</td>\n",
       "    </tr>\n",
       "    <tr>\n",
       "      <th id=\"T_039b1_level2_row107\" class=\"row_heading level2 row107\" >Desviación</th>\n",
       "      <td id=\"T_039b1_row107_col0\" class=\"data row107 col0\" >0.200800</td>\n",
       "      <td id=\"T_039b1_row107_col1\" class=\"data row107 col1\" >4.382300</td>\n",
       "      <td id=\"T_039b1_row107_col2\" class=\"data row107 col2\" >0.711000</td>\n",
       "      <td id=\"T_039b1_row107_col3\" class=\"data row107 col3\" >3.732100</td>\n",
       "      <td id=\"T_039b1_row107_col4\" class=\"data row107 col4\" >1.829300</td>\n",
       "      <td id=\"T_039b1_row107_col5\" class=\"data row107 col5\" >1.853100</td>\n",
       "      <td id=\"T_039b1_row107_col6\" class=\"data row107 col6\" >0.532200</td>\n",
       "    </tr>\n",
       "    <tr>\n",
       "      <th id=\"T_039b1_level2_row108\" class=\"row_heading level2 row108\" >Mínimo</th>\n",
       "      <td id=\"T_039b1_row108_col0\" class=\"data row108 col0\" >0.000000</td>\n",
       "      <td id=\"T_039b1_row108_col1\" class=\"data row108 col1\" >0.000000</td>\n",
       "      <td id=\"T_039b1_row108_col2\" class=\"data row108 col2\" >0.000000</td>\n",
       "      <td id=\"T_039b1_row108_col3\" class=\"data row108 col3\" >0.000000</td>\n",
       "      <td id=\"T_039b1_row108_col4\" class=\"data row108 col4\" >0.000000</td>\n",
       "      <td id=\"T_039b1_row108_col5\" class=\"data row108 col5\" >0.000000</td>\n",
       "      <td id=\"T_039b1_row108_col6\" class=\"data row108 col6\" >0.000000</td>\n",
       "    </tr>\n",
       "    <tr>\n",
       "      <th id=\"T_039b1_level2_row109\" class=\"row_heading level2 row109\" >Perc. 25</th>\n",
       "      <td id=\"T_039b1_row109_col0\" class=\"data row109 col0\" >0.000000</td>\n",
       "      <td id=\"T_039b1_row109_col1\" class=\"data row109 col1\" >2.000000</td>\n",
       "      <td id=\"T_039b1_row109_col2\" class=\"data row109 col2\" >0.000000</td>\n",
       "      <td id=\"T_039b1_row109_col3\" class=\"data row109 col3\" >1.000000</td>\n",
       "      <td id=\"T_039b1_row109_col4\" class=\"data row109 col4\" >0.000000</td>\n",
       "      <td id=\"T_039b1_row109_col5\" class=\"data row109 col5\" >0.000000</td>\n",
       "      <td id=\"T_039b1_row109_col6\" class=\"data row109 col6\" >0.000000</td>\n",
       "    </tr>\n",
       "    <tr>\n",
       "      <th id=\"T_039b1_level2_row110\" class=\"row_heading level2 row110\" >Perc. 50</th>\n",
       "      <td id=\"T_039b1_row110_col0\" class=\"data row110 col0\" >0.000000</td>\n",
       "      <td id=\"T_039b1_row110_col1\" class=\"data row110 col1\" >3.000000</td>\n",
       "      <td id=\"T_039b1_row110_col2\" class=\"data row110 col2\" >0.000000</td>\n",
       "      <td id=\"T_039b1_row110_col3\" class=\"data row110 col3\" >2.000000</td>\n",
       "      <td id=\"T_039b1_row110_col4\" class=\"data row110 col4\" >0.000000</td>\n",
       "      <td id=\"T_039b1_row110_col5\" class=\"data row110 col5\" >0.000000</td>\n",
       "      <td id=\"T_039b1_row110_col6\" class=\"data row110 col6\" >0.000000</td>\n",
       "    </tr>\n",
       "    <tr>\n",
       "      <th id=\"T_039b1_level2_row111\" class=\"row_heading level2 row111\" >Perc. 75</th>\n",
       "      <td id=\"T_039b1_row111_col0\" class=\"data row111 col0\" >0.000000</td>\n",
       "      <td id=\"T_039b1_row111_col1\" class=\"data row111 col1\" >7.000000</td>\n",
       "      <td id=\"T_039b1_row111_col2\" class=\"data row111 col2\" >0.000000</td>\n",
       "      <td id=\"T_039b1_row111_col3\" class=\"data row111 col3\" >5.000000</td>\n",
       "      <td id=\"T_039b1_row111_col4\" class=\"data row111 col4\" >0.000000</td>\n",
       "      <td id=\"T_039b1_row111_col5\" class=\"data row111 col5\" >1.000000</td>\n",
       "      <td id=\"T_039b1_row111_col6\" class=\"data row111 col6\" >0.000000</td>\n",
       "    </tr>\n",
       "    <tr>\n",
       "      <th id=\"T_039b1_level2_row112\" class=\"row_heading level2 row112\" >Máximo</th>\n",
       "      <td id=\"T_039b1_row112_col0\" class=\"data row112 col0\" >9.000000</td>\n",
       "      <td id=\"T_039b1_row112_col1\" class=\"data row112 col1\" >37.000000</td>\n",
       "      <td id=\"T_039b1_row112_col2\" class=\"data row112 col2\" >14.000000</td>\n",
       "      <td id=\"T_039b1_row112_col3\" class=\"data row112 col3\" >29.000000</td>\n",
       "      <td id=\"T_039b1_row112_col4\" class=\"data row112 col4\" >24.000000</td>\n",
       "      <td id=\"T_039b1_row112_col5\" class=\"data row112 col5\" >20.000000</td>\n",
       "      <td id=\"T_039b1_row112_col6\" class=\"data row112 col6\" >18.000000</td>\n",
       "    </tr>\n",
       "    <tr>\n",
       "      <th id=\"T_039b1_level1_row113\" class=\"row_heading level1 row113\" rowspan=\"7\">Comportamiento Ahorro</th>\n",
       "      <th id=\"T_039b1_level2_row113\" class=\"row_heading level2 row113\" >Media</th>\n",
       "      <td id=\"T_039b1_row113_col0\" class=\"data row113 col0\" >0.000000</td>\n",
       "      <td id=\"T_039b1_row113_col1\" class=\"data row113 col1\" >1.056700</td>\n",
       "      <td id=\"T_039b1_row113_col2\" class=\"data row113 col2\" >0.000000</td>\n",
       "      <td id=\"T_039b1_row113_col3\" class=\"data row113 col3\" >0.001200</td>\n",
       "      <td id=\"T_039b1_row113_col4\" class=\"data row113 col4\" >0.001900</td>\n",
       "      <td id=\"T_039b1_row113_col5\" class=\"data row113 col5\" >0.009500</td>\n",
       "      <td id=\"T_039b1_row113_col6\" class=\"data row113 col6\" >0.000000</td>\n",
       "    </tr>\n",
       "    <tr>\n",
       "      <th id=\"T_039b1_level2_row114\" class=\"row_heading level2 row114\" >Desviación</th>\n",
       "      <td id=\"T_039b1_row114_col0\" class=\"data row114 col0\" >0.003000</td>\n",
       "      <td id=\"T_039b1_row114_col1\" class=\"data row114 col1\" >0.253400</td>\n",
       "      <td id=\"T_039b1_row114_col2\" class=\"data row114 col2\" >0.004100</td>\n",
       "      <td id=\"T_039b1_row114_col3\" class=\"data row114 col3\" >0.034200</td>\n",
       "      <td id=\"T_039b1_row114_col4\" class=\"data row114 col4\" >0.043000</td>\n",
       "      <td id=\"T_039b1_row114_col5\" class=\"data row114 col5\" >0.096800</td>\n",
       "      <td id=\"T_039b1_row114_col6\" class=\"data row114 col6\" >0.006500</td>\n",
       "    </tr>\n",
       "    <tr>\n",
       "      <th id=\"T_039b1_level2_row115\" class=\"row_heading level2 row115\" >Mínimo</th>\n",
       "      <td id=\"T_039b1_row115_col0\" class=\"data row115 col0\" >0.000000</td>\n",
       "      <td id=\"T_039b1_row115_col1\" class=\"data row115 col1\" >0.000000</td>\n",
       "      <td id=\"T_039b1_row115_col2\" class=\"data row115 col2\" >0.000000</td>\n",
       "      <td id=\"T_039b1_row115_col3\" class=\"data row115 col3\" >0.000000</td>\n",
       "      <td id=\"T_039b1_row115_col4\" class=\"data row115 col4\" >0.000000</td>\n",
       "      <td id=\"T_039b1_row115_col5\" class=\"data row115 col5\" >0.000000</td>\n",
       "      <td id=\"T_039b1_row115_col6\" class=\"data row115 col6\" >0.000000</td>\n",
       "    </tr>\n",
       "    <tr>\n",
       "      <th id=\"T_039b1_level2_row116\" class=\"row_heading level2 row116\" >Perc. 25</th>\n",
       "      <td id=\"T_039b1_row116_col0\" class=\"data row116 col0\" >0.000000</td>\n",
       "      <td id=\"T_039b1_row116_col1\" class=\"data row116 col1\" >1.000000</td>\n",
       "      <td id=\"T_039b1_row116_col2\" class=\"data row116 col2\" >0.000000</td>\n",
       "      <td id=\"T_039b1_row116_col3\" class=\"data row116 col3\" >0.000000</td>\n",
       "      <td id=\"T_039b1_row116_col4\" class=\"data row116 col4\" >0.000000</td>\n",
       "      <td id=\"T_039b1_row116_col5\" class=\"data row116 col5\" >0.000000</td>\n",
       "      <td id=\"T_039b1_row116_col6\" class=\"data row116 col6\" >0.000000</td>\n",
       "    </tr>\n",
       "    <tr>\n",
       "      <th id=\"T_039b1_level2_row117\" class=\"row_heading level2 row117\" >Perc. 50</th>\n",
       "      <td id=\"T_039b1_row117_col0\" class=\"data row117 col0\" >0.000000</td>\n",
       "      <td id=\"T_039b1_row117_col1\" class=\"data row117 col1\" >1.000000</td>\n",
       "      <td id=\"T_039b1_row117_col2\" class=\"data row117 col2\" >0.000000</td>\n",
       "      <td id=\"T_039b1_row117_col3\" class=\"data row117 col3\" >0.000000</td>\n",
       "      <td id=\"T_039b1_row117_col4\" class=\"data row117 col4\" >0.000000</td>\n",
       "      <td id=\"T_039b1_row117_col5\" class=\"data row117 col5\" >0.000000</td>\n",
       "      <td id=\"T_039b1_row117_col6\" class=\"data row117 col6\" >0.000000</td>\n",
       "    </tr>\n",
       "    <tr>\n",
       "      <th id=\"T_039b1_level2_row118\" class=\"row_heading level2 row118\" >Perc. 75</th>\n",
       "      <td id=\"T_039b1_row118_col0\" class=\"data row118 col0\" >0.000000</td>\n",
       "      <td id=\"T_039b1_row118_col1\" class=\"data row118 col1\" >1.000000</td>\n",
       "      <td id=\"T_039b1_row118_col2\" class=\"data row118 col2\" >0.000000</td>\n",
       "      <td id=\"T_039b1_row118_col3\" class=\"data row118 col3\" >0.000000</td>\n",
       "      <td id=\"T_039b1_row118_col4\" class=\"data row118 col4\" >0.000000</td>\n",
       "      <td id=\"T_039b1_row118_col5\" class=\"data row118 col5\" >0.000000</td>\n",
       "      <td id=\"T_039b1_row118_col6\" class=\"data row118 col6\" >0.000000</td>\n",
       "    </tr>\n",
       "    <tr>\n",
       "      <th id=\"T_039b1_level2_row119\" class=\"row_heading level2 row119\" >Máximo</th>\n",
       "      <td id=\"T_039b1_row119_col0\" class=\"data row119 col0\" >1.000000</td>\n",
       "      <td id=\"T_039b1_row119_col1\" class=\"data row119 col1\" >4.000000</td>\n",
       "      <td id=\"T_039b1_row119_col2\" class=\"data row119 col2\" >1.000000</td>\n",
       "      <td id=\"T_039b1_row119_col3\" class=\"data row119 col3\" >1.000000</td>\n",
       "      <td id=\"T_039b1_row119_col4\" class=\"data row119 col4\" >1.000000</td>\n",
       "      <td id=\"T_039b1_row119_col5\" class=\"data row119 col5\" >1.000000</td>\n",
       "      <td id=\"T_039b1_row119_col6\" class=\"data row119 col6\" >1.000000</td>\n",
       "    </tr>\n",
       "    <tr>\n",
       "      <th id=\"T_039b1_level1_row120\" class=\"row_heading level1 row120\" rowspan=\"7\">Aptitud a Riesgo</th>\n",
       "      <th id=\"T_039b1_level2_row120\" class=\"row_heading level2 row120\" >Media</th>\n",
       "      <td id=\"T_039b1_row120_col0\" class=\"data row120 col0\" >0.991500</td>\n",
       "      <td id=\"T_039b1_row120_col1\" class=\"data row120 col1\" >1.740500</td>\n",
       "      <td id=\"T_039b1_row120_col2\" class=\"data row120 col2\" >0.302600</td>\n",
       "      <td id=\"T_039b1_row120_col3\" class=\"data row120 col3\" >1.389200</td>\n",
       "      <td id=\"T_039b1_row120_col4\" class=\"data row120 col4\" >1.013100</td>\n",
       "      <td id=\"T_039b1_row120_col5\" class=\"data row120 col5\" >1.338500</td>\n",
       "      <td id=\"T_039b1_row120_col6\" class=\"data row120 col6\" >0.373000</td>\n",
       "    </tr>\n",
       "    <tr>\n",
       "      <th id=\"T_039b1_level2_row121\" class=\"row_heading level2 row121\" >Desviación</th>\n",
       "      <td id=\"T_039b1_row121_col0\" class=\"data row121 col0\" >0.116300</td>\n",
       "      <td id=\"T_039b1_row121_col1\" class=\"data row121 col1\" >0.965600</td>\n",
       "      <td id=\"T_039b1_row121_col2\" class=\"data row121 col2\" >0.601800</td>\n",
       "      <td id=\"T_039b1_row121_col3\" class=\"data row121 col3\" >0.795500</td>\n",
       "      <td id=\"T_039b1_row121_col4\" class=\"data row121 col4\" >0.313700</td>\n",
       "      <td id=\"T_039b1_row121_col5\" class=\"data row121 col5\" >0.917400</td>\n",
       "      <td id=\"T_039b1_row121_col6\" class=\"data row121 col6\" >0.484900</td>\n",
       "    </tr>\n",
       "    <tr>\n",
       "      <th id=\"T_039b1_level2_row122\" class=\"row_heading level2 row122\" >Mínimo</th>\n",
       "      <td id=\"T_039b1_row122_col0\" class=\"data row122 col0\" >0.000000</td>\n",
       "      <td id=\"T_039b1_row122_col1\" class=\"data row122 col1\" >1.000000</td>\n",
       "      <td id=\"T_039b1_row122_col2\" class=\"data row122 col2\" >0.000000</td>\n",
       "      <td id=\"T_039b1_row122_col3\" class=\"data row122 col3\" >0.000000</td>\n",
       "      <td id=\"T_039b1_row122_col4\" class=\"data row122 col4\" >0.000000</td>\n",
       "      <td id=\"T_039b1_row122_col5\" class=\"data row122 col5\" >0.000000</td>\n",
       "      <td id=\"T_039b1_row122_col6\" class=\"data row122 col6\" >0.000000</td>\n",
       "    </tr>\n",
       "    <tr>\n",
       "      <th id=\"T_039b1_level2_row123\" class=\"row_heading level2 row123\" >Perc. 25</th>\n",
       "      <td id=\"T_039b1_row123_col0\" class=\"data row123 col0\" >1.000000</td>\n",
       "      <td id=\"T_039b1_row123_col1\" class=\"data row123 col1\" >1.000000</td>\n",
       "      <td id=\"T_039b1_row123_col2\" class=\"data row123 col2\" >0.000000</td>\n",
       "      <td id=\"T_039b1_row123_col3\" class=\"data row123 col3\" >1.000000</td>\n",
       "      <td id=\"T_039b1_row123_col4\" class=\"data row123 col4\" >1.000000</td>\n",
       "      <td id=\"T_039b1_row123_col5\" class=\"data row123 col5\" >1.000000</td>\n",
       "      <td id=\"T_039b1_row123_col6\" class=\"data row123 col6\" >0.000000</td>\n",
       "    </tr>\n",
       "    <tr>\n",
       "      <th id=\"T_039b1_level2_row124\" class=\"row_heading level2 row124\" >Perc. 50</th>\n",
       "      <td id=\"T_039b1_row124_col0\" class=\"data row124 col0\" >1.000000</td>\n",
       "      <td id=\"T_039b1_row124_col1\" class=\"data row124 col1\" >1.000000</td>\n",
       "      <td id=\"T_039b1_row124_col2\" class=\"data row124 col2\" >0.000000</td>\n",
       "      <td id=\"T_039b1_row124_col3\" class=\"data row124 col3\" >1.000000</td>\n",
       "      <td id=\"T_039b1_row124_col4\" class=\"data row124 col4\" >1.000000</td>\n",
       "      <td id=\"T_039b1_row124_col5\" class=\"data row124 col5\" >1.000000</td>\n",
       "      <td id=\"T_039b1_row124_col6\" class=\"data row124 col6\" >0.000000</td>\n",
       "    </tr>\n",
       "    <tr>\n",
       "      <th id=\"T_039b1_level2_row125\" class=\"row_heading level2 row125\" >Perc. 75</th>\n",
       "      <td id=\"T_039b1_row125_col0\" class=\"data row125 col0\" >1.000000</td>\n",
       "      <td id=\"T_039b1_row125_col1\" class=\"data row125 col1\" >3.000000</td>\n",
       "      <td id=\"T_039b1_row125_col2\" class=\"data row125 col2\" >1.000000</td>\n",
       "      <td id=\"T_039b1_row125_col3\" class=\"data row125 col3\" >1.000000</td>\n",
       "      <td id=\"T_039b1_row125_col4\" class=\"data row125 col4\" >1.000000</td>\n",
       "      <td id=\"T_039b1_row125_col5\" class=\"data row125 col5\" >1.000000</td>\n",
       "      <td id=\"T_039b1_row125_col6\" class=\"data row125 col6\" >1.000000</td>\n",
       "    </tr>\n",
       "    <tr>\n",
       "      <th id=\"T_039b1_level2_row126\" class=\"row_heading level2 row126\" >Máximo</th>\n",
       "      <td id=\"T_039b1_row126_col0\" class=\"data row126 col0\" >3.000000</td>\n",
       "      <td id=\"T_039b1_row126_col1\" class=\"data row126 col1\" >3.000000</td>\n",
       "      <td id=\"T_039b1_row126_col2\" class=\"data row126 col2\" >3.000000</td>\n",
       "      <td id=\"T_039b1_row126_col3\" class=\"data row126 col3\" >3.000000</td>\n",
       "      <td id=\"T_039b1_row126_col4\" class=\"data row126 col4\" >3.000000</td>\n",
       "      <td id=\"T_039b1_row126_col5\" class=\"data row126 col5\" >3.000000</td>\n",
       "      <td id=\"T_039b1_row126_col6\" class=\"data row126 col6\" >3.000000</td>\n",
       "    </tr>\n",
       "    <tr>\n",
       "      <th id=\"T_039b1_level1_row127\" class=\"row_heading level1 row127\" rowspan=\"7\">Digtitalización - índice</th>\n",
       "      <th id=\"T_039b1_level2_row127\" class=\"row_heading level2 row127\" >Media</th>\n",
       "      <td id=\"T_039b1_row127_col0\" class=\"data row127 col0\" >0.012500</td>\n",
       "      <td id=\"T_039b1_row127_col1\" class=\"data row127 col1\" >0.956200</td>\n",
       "      <td id=\"T_039b1_row127_col2\" class=\"data row127 col2\" >0.029800</td>\n",
       "      <td id=\"T_039b1_row127_col3\" class=\"data row127 col3\" >0.953600</td>\n",
       "      <td id=\"T_039b1_row127_col4\" class=\"data row127 col4\" >0.946100</td>\n",
       "      <td id=\"T_039b1_row127_col5\" class=\"data row127 col5\" >0.912400</td>\n",
       "      <td id=\"T_039b1_row127_col6\" class=\"data row127 col6\" >0.025000</td>\n",
       "    </tr>\n",
       "    <tr>\n",
       "      <th id=\"T_039b1_level2_row128\" class=\"row_heading level2 row128\" >Desviación</th>\n",
       "      <td id=\"T_039b1_row128_col0\" class=\"data row128 col0\" >0.069300</td>\n",
       "      <td id=\"T_039b1_row128_col1\" class=\"data row128 col1\" >0.138600</td>\n",
       "      <td id=\"T_039b1_row128_col2\" class=\"data row128 col2\" >0.111400</td>\n",
       "      <td id=\"T_039b1_row128_col3\" class=\"data row128 col3\" >0.131800</td>\n",
       "      <td id=\"T_039b1_row128_col4\" class=\"data row128 col4\" >0.121700</td>\n",
       "      <td id=\"T_039b1_row128_col5\" class=\"data row128 col5\" >0.179300</td>\n",
       "      <td id=\"T_039b1_row128_col6\" class=\"data row128 col6\" >0.098100</td>\n",
       "    </tr>\n",
       "    <tr>\n",
       "      <th id=\"T_039b1_level2_row129\" class=\"row_heading level2 row129\" >Mínimo</th>\n",
       "      <td id=\"T_039b1_row129_col0\" class=\"data row129 col0\" >0.000000</td>\n",
       "      <td id=\"T_039b1_row129_col1\" class=\"data row129 col1\" >0.000000</td>\n",
       "      <td id=\"T_039b1_row129_col2\" class=\"data row129 col2\" >0.000000</td>\n",
       "      <td id=\"T_039b1_row129_col3\" class=\"data row129 col3\" >0.000000</td>\n",
       "      <td id=\"T_039b1_row129_col4\" class=\"data row129 col4\" >0.235300</td>\n",
       "      <td id=\"T_039b1_row129_col5\" class=\"data row129 col5\" >0.000000</td>\n",
       "      <td id=\"T_039b1_row129_col6\" class=\"data row129 col6\" >0.000000</td>\n",
       "    </tr>\n",
       "    <tr>\n",
       "      <th id=\"T_039b1_level2_row130\" class=\"row_heading level2 row130\" >Perc. 25</th>\n",
       "      <td id=\"T_039b1_row130_col0\" class=\"data row130 col0\" >0.000000</td>\n",
       "      <td id=\"T_039b1_row130_col1\" class=\"data row130 col1\" >1.000000</td>\n",
       "      <td id=\"T_039b1_row130_col2\" class=\"data row130 col2\" >0.000000</td>\n",
       "      <td id=\"T_039b1_row130_col3\" class=\"data row130 col3\" >1.000000</td>\n",
       "      <td id=\"T_039b1_row130_col4\" class=\"data row130 col4\" >1.000000</td>\n",
       "      <td id=\"T_039b1_row130_col5\" class=\"data row130 col5\" >0.900000</td>\n",
       "      <td id=\"T_039b1_row130_col6\" class=\"data row130 col6\" >0.000000</td>\n",
       "    </tr>\n",
       "    <tr>\n",
       "      <th id=\"T_039b1_level2_row131\" class=\"row_heading level2 row131\" >Perc. 50</th>\n",
       "      <td id=\"T_039b1_row131_col0\" class=\"data row131 col0\" >0.000000</td>\n",
       "      <td id=\"T_039b1_row131_col1\" class=\"data row131 col1\" >1.000000</td>\n",
       "      <td id=\"T_039b1_row131_col2\" class=\"data row131 col2\" >0.000000</td>\n",
       "      <td id=\"T_039b1_row131_col3\" class=\"data row131 col3\" >1.000000</td>\n",
       "      <td id=\"T_039b1_row131_col4\" class=\"data row131 col4\" >1.000000</td>\n",
       "      <td id=\"T_039b1_row131_col5\" class=\"data row131 col5\" >1.000000</td>\n",
       "      <td id=\"T_039b1_row131_col6\" class=\"data row131 col6\" >0.000000</td>\n",
       "    </tr>\n",
       "    <tr>\n",
       "      <th id=\"T_039b1_level2_row132\" class=\"row_heading level2 row132\" >Perc. 75</th>\n",
       "      <td id=\"T_039b1_row132_col0\" class=\"data row132 col0\" >0.000000</td>\n",
       "      <td id=\"T_039b1_row132_col1\" class=\"data row132 col1\" >1.000000</td>\n",
       "      <td id=\"T_039b1_row132_col2\" class=\"data row132 col2\" >0.000000</td>\n",
       "      <td id=\"T_039b1_row132_col3\" class=\"data row132 col3\" >1.000000</td>\n",
       "      <td id=\"T_039b1_row132_col4\" class=\"data row132 col4\" >1.000000</td>\n",
       "      <td id=\"T_039b1_row132_col5\" class=\"data row132 col5\" >1.000000</td>\n",
       "      <td id=\"T_039b1_row132_col6\" class=\"data row132 col6\" >0.000000</td>\n",
       "    </tr>\n",
       "    <tr>\n",
       "      <th id=\"T_039b1_level2_row133\" class=\"row_heading level2 row133\" >Máximo</th>\n",
       "      <td id=\"T_039b1_row133_col0\" class=\"data row133 col0\" >0.588200</td>\n",
       "      <td id=\"T_039b1_row133_col1\" class=\"data row133 col1\" >1.000000</td>\n",
       "      <td id=\"T_039b1_row133_col2\" class=\"data row133 col2\" >0.882400</td>\n",
       "      <td id=\"T_039b1_row133_col3\" class=\"data row133 col3\" >1.000000</td>\n",
       "      <td id=\"T_039b1_row133_col4\" class=\"data row133 col4\" >1.000000</td>\n",
       "      <td id=\"T_039b1_row133_col5\" class=\"data row133 col5\" >1.000000</td>\n",
       "      <td id=\"T_039b1_row133_col6\" class=\"data row133 col6\" >1.000000</td>\n",
       "    </tr>\n",
       "    <tr>\n",
       "      <th id=\"T_039b1_level1_row134\" class=\"row_heading level1 row134\" rowspan=\"7\">Préstamos - índice</th>\n",
       "      <th id=\"T_039b1_level2_row134\" class=\"row_heading level2 row134\" >Media</th>\n",
       "      <td id=\"T_039b1_row134_col0\" class=\"data row134 col0\" >0.000000</td>\n",
       "      <td id=\"T_039b1_row134_col1\" class=\"data row134 col1\" >0.001400</td>\n",
       "      <td id=\"T_039b1_row134_col2\" class=\"data row134 col2\" >0.000000</td>\n",
       "      <td id=\"T_039b1_row134_col3\" class=\"data row134 col3\" >0.001000</td>\n",
       "      <td id=\"T_039b1_row134_col4\" class=\"data row134 col4\" >0.000000</td>\n",
       "      <td id=\"T_039b1_row134_col5\" class=\"data row134 col5\" >0.000000</td>\n",
       "      <td id=\"T_039b1_row134_col6\" class=\"data row134 col6\" >0.000000</td>\n",
       "    </tr>\n",
       "    <tr>\n",
       "      <th id=\"T_039b1_level2_row135\" class=\"row_heading level2 row135\" >Desviación</th>\n",
       "      <td id=\"T_039b1_row135_col0\" class=\"data row135 col0\" >0.000000</td>\n",
       "      <td id=\"T_039b1_row135_col1\" class=\"data row135 col1\" >0.037800</td>\n",
       "      <td id=\"T_039b1_row135_col2\" class=\"data row135 col2\" >0.005800</td>\n",
       "      <td id=\"T_039b1_row135_col3\" class=\"data row135 col3\" >0.032200</td>\n",
       "      <td id=\"T_039b1_row135_col4\" class=\"data row135 col4\" >0.003800</td>\n",
       "      <td id=\"T_039b1_row135_col5\" class=\"data row135 col5\" >0.000000</td>\n",
       "      <td id=\"T_039b1_row135_col6\" class=\"data row135 col6\" >0.003300</td>\n",
       "    </tr>\n",
       "    <tr>\n",
       "      <th id=\"T_039b1_level2_row136\" class=\"row_heading level2 row136\" >Mínimo</th>\n",
       "      <td id=\"T_039b1_row136_col0\" class=\"data row136 col0\" >0.000000</td>\n",
       "      <td id=\"T_039b1_row136_col1\" class=\"data row136 col1\" >0.000000</td>\n",
       "      <td id=\"T_039b1_row136_col2\" class=\"data row136 col2\" >0.000000</td>\n",
       "      <td id=\"T_039b1_row136_col3\" class=\"data row136 col3\" >0.000000</td>\n",
       "      <td id=\"T_039b1_row136_col4\" class=\"data row136 col4\" >0.000000</td>\n",
       "      <td id=\"T_039b1_row136_col5\" class=\"data row136 col5\" >0.000000</td>\n",
       "      <td id=\"T_039b1_row136_col6\" class=\"data row136 col6\" >0.000000</td>\n",
       "    </tr>\n",
       "    <tr>\n",
       "      <th id=\"T_039b1_level2_row137\" class=\"row_heading level2 row137\" >Perc. 25</th>\n",
       "      <td id=\"T_039b1_row137_col0\" class=\"data row137 col0\" >0.000000</td>\n",
       "      <td id=\"T_039b1_row137_col1\" class=\"data row137 col1\" >0.000000</td>\n",
       "      <td id=\"T_039b1_row137_col2\" class=\"data row137 col2\" >0.000000</td>\n",
       "      <td id=\"T_039b1_row137_col3\" class=\"data row137 col3\" >0.000000</td>\n",
       "      <td id=\"T_039b1_row137_col4\" class=\"data row137 col4\" >0.000000</td>\n",
       "      <td id=\"T_039b1_row137_col5\" class=\"data row137 col5\" >0.000000</td>\n",
       "      <td id=\"T_039b1_row137_col6\" class=\"data row137 col6\" >0.000000</td>\n",
       "    </tr>\n",
       "    <tr>\n",
       "      <th id=\"T_039b1_level2_row138\" class=\"row_heading level2 row138\" >Perc. 50</th>\n",
       "      <td id=\"T_039b1_row138_col0\" class=\"data row138 col0\" >0.000000</td>\n",
       "      <td id=\"T_039b1_row138_col1\" class=\"data row138 col1\" >0.000000</td>\n",
       "      <td id=\"T_039b1_row138_col2\" class=\"data row138 col2\" >0.000000</td>\n",
       "      <td id=\"T_039b1_row138_col3\" class=\"data row138 col3\" >0.000000</td>\n",
       "      <td id=\"T_039b1_row138_col4\" class=\"data row138 col4\" >0.000000</td>\n",
       "      <td id=\"T_039b1_row138_col5\" class=\"data row138 col5\" >0.000000</td>\n",
       "      <td id=\"T_039b1_row138_col6\" class=\"data row138 col6\" >0.000000</td>\n",
       "    </tr>\n",
       "    <tr>\n",
       "      <th id=\"T_039b1_level2_row139\" class=\"row_heading level2 row139\" >Perc. 75</th>\n",
       "      <td id=\"T_039b1_row139_col0\" class=\"data row139 col0\" >0.000000</td>\n",
       "      <td id=\"T_039b1_row139_col1\" class=\"data row139 col1\" >0.000000</td>\n",
       "      <td id=\"T_039b1_row139_col2\" class=\"data row139 col2\" >0.000000</td>\n",
       "      <td id=\"T_039b1_row139_col3\" class=\"data row139 col3\" >0.000000</td>\n",
       "      <td id=\"T_039b1_row139_col4\" class=\"data row139 col4\" >0.000000</td>\n",
       "      <td id=\"T_039b1_row139_col5\" class=\"data row139 col5\" >0.000000</td>\n",
       "      <td id=\"T_039b1_row139_col6\" class=\"data row139 col6\" >0.000000</td>\n",
       "    </tr>\n",
       "    <tr>\n",
       "      <th id=\"T_039b1_level2_row140\" class=\"row_heading level2 row140\" >Máximo</th>\n",
       "      <td id=\"T_039b1_row140_col0\" class=\"data row140 col0\" >0.000000</td>\n",
       "      <td id=\"T_039b1_row140_col1\" class=\"data row140 col1\" >1.000000</td>\n",
       "      <td id=\"T_039b1_row140_col2\" class=\"data row140 col2\" >1.000000</td>\n",
       "      <td id=\"T_039b1_row140_col3\" class=\"data row140 col3\" >1.000000</td>\n",
       "      <td id=\"T_039b1_row140_col4\" class=\"data row140 col4\" >1.000000</td>\n",
       "      <td id=\"T_039b1_row140_col5\" class=\"data row140 col5\" >0.000000</td>\n",
       "      <td id=\"T_039b1_row140_col6\" class=\"data row140 col6\" >1.000000</td>\n",
       "    </tr>\n",
       "  </tbody>\n",
       "</table>\n"
      ],
      "text/plain": [
       "<pandas.io.formats.style.Styler at 0x2a4aebf90>"
      ]
     },
     "execution_count": 137,
     "metadata": {},
     "output_type": "execute_result"
    }
   ],
   "source": [
    "ficha_df.style.background_gradient(cmap = 'Blues', axis = 1)"
   ]
  },
  {
   "cell_type": "markdown",
   "metadata": {},
   "source": [
    "### Ficha Cliente Resumida (media)"
   ]
  },
  {
   "cell_type": "code",
   "execution_count": 138,
   "metadata": {},
   "outputs": [
    {
     "data": {
      "text/html": [
       "<style type=\"text/css\">\n",
       "#T_85762_row0_col0, #T_85762_row1_col0, #T_85762_row1_col4, #T_85762_row1_col6, #T_85762_row2_col2, #T_85762_row2_col5, #T_85762_row3_col6, #T_85762_row4_col0, #T_85762_row4_col2, #T_85762_row4_col4, #T_85762_row5_col0, #T_85762_row6_col1, #T_85762_row7_col2, #T_85762_row8_col0, #T_85762_row8_col5, #T_85762_row9_col0, #T_85762_row9_col2, #T_85762_row9_col6, #T_85762_row10_col2, #T_85762_row11_col0, #T_85762_row12_col4, #T_85762_row13_col6, #T_85762_row14_col0, #T_85762_row15_col0, #T_85762_row16_col0, #T_85762_row16_col2, #T_85762_row16_col6, #T_85762_row17_col2, #T_85762_row18_col0, #T_85762_row19_col0, #T_85762_row19_col2, #T_85762_row19_col4, #T_85762_row19_col5, #T_85762_row19_col6 {\n",
       "  background-color: #f7fbff;\n",
       "  color: #000000;\n",
       "  background-color: red;\n",
       "}\n",
       "#T_85762_row0_col1, #T_85762_row1_col2, #T_85762_row2_col0, #T_85762_row2_col4, #T_85762_row2_col6, #T_85762_row3_col5, #T_85762_row4_col1, #T_85762_row5_col1, #T_85762_row6_col0, #T_85762_row7_col1, #T_85762_row8_col3, #T_85762_row9_col1, #T_85762_row10_col1, #T_85762_row11_col3, #T_85762_row12_col1, #T_85762_row13_col0, #T_85762_row14_col3, #T_85762_row15_col1, #T_85762_row16_col1, #T_85762_row17_col1, #T_85762_row18_col1, #T_85762_row18_col3, #T_85762_row19_col1 {\n",
       "  background-color: #08306b;\n",
       "  color: #f1f1f1;\n",
       "}\n",
       "#T_85762_row0_col2, #T_85762_row11_col6 {\n",
       "  background-color: #f6faff;\n",
       "  color: #000000;\n",
       "}\n",
       "#T_85762_row0_col3, #T_85762_row14_col6 {\n",
       "  background-color: #e8f1fa;\n",
       "  color: #000000;\n",
       "}\n",
       "#T_85762_row0_col4, #T_85762_row0_col6, #T_85762_row4_col3, #T_85762_row4_col5, #T_85762_row4_col6, #T_85762_row8_col2, #T_85762_row8_col6, #T_85762_row9_col3, #T_85762_row9_col4, #T_85762_row16_col3, #T_85762_row16_col4 {\n",
       "  background-color: #f7fbff;\n",
       "  color: #000000;\n",
       "}\n",
       "#T_85762_row0_col5 {\n",
       "  background-color: #a9cfe5;\n",
       "  color: #000000;\n",
       "}\n",
       "#T_85762_row1_col1, #T_85762_row6_col4 {\n",
       "  background-color: #4191c6;\n",
       "  color: #f1f1f1;\n",
       "}\n",
       "#T_85762_row1_col3 {\n",
       "  background-color: #1561a9;\n",
       "  color: #f1f1f1;\n",
       "}\n",
       "#T_85762_row1_col5 {\n",
       "  background-color: #083d7f;\n",
       "  color: #f1f1f1;\n",
       "}\n",
       "#T_85762_row2_col1, #T_85762_row13_col5 {\n",
       "  background-color: #cddff1;\n",
       "  color: #000000;\n",
       "}\n",
       "#T_85762_row2_col3 {\n",
       "  background-color: #d4e4f4;\n",
       "  color: #000000;\n",
       "}\n",
       "#T_85762_row3_col0 {\n",
       "  background-color: #e5eff9;\n",
       "  color: #000000;\n",
       "}\n",
       "#T_85762_row3_col1 {\n",
       "  background-color: #083776;\n",
       "  color: #f1f1f1;\n",
       "}\n",
       "#T_85762_row3_col2 {\n",
       "  background-color: #083674;\n",
       "  color: #f1f1f1;\n",
       "}\n",
       "#T_85762_row3_col3 {\n",
       "  background-color: #1460a8;\n",
       "  color: #f1f1f1;\n",
       "}\n",
       "#T_85762_row3_col4, #T_85762_row6_col3, #T_85762_row7_col6, #T_85762_row17_col6 {\n",
       "  background-color: #eef5fc;\n",
       "  color: #000000;\n",
       "}\n",
       "#T_85762_row5_col2, #T_85762_row18_col2 {\n",
       "  background-color: #f4f9fe;\n",
       "  color: #000000;\n",
       "}\n",
       "#T_85762_row5_col3 {\n",
       "  background-color: #08458a;\n",
       "  color: #f1f1f1;\n",
       "}\n",
       "#T_85762_row5_col4 {\n",
       "  background-color: #dceaf6;\n",
       "  color: #000000;\n",
       "}\n",
       "#T_85762_row5_col5 {\n",
       "  background-color: #d7e6f5;\n",
       "  color: #000000;\n",
       "}\n",
       "#T_85762_row5_col6, #T_85762_row9_col5, #T_85762_row16_col5 {\n",
       "  background-color: #f5fafe;\n",
       "  color: #000000;\n",
       "}\n",
       "#T_85762_row6_col2 {\n",
       "  background-color: #89bedc;\n",
       "  color: #000000;\n",
       "}\n",
       "#T_85762_row6_col5 {\n",
       "  background-color: #95c5df;\n",
       "  color: #000000;\n",
       "}\n",
       "#T_85762_row6_col6 {\n",
       "  background-color: #bcd7eb;\n",
       "  color: #000000;\n",
       "}\n",
       "#T_85762_row7_col0 {\n",
       "  background-color: #b5d4e9;\n",
       "  color: #000000;\n",
       "}\n",
       "#T_85762_row7_col3 {\n",
       "  background-color: #4997c9;\n",
       "  color: #f1f1f1;\n",
       "}\n",
       "#T_85762_row7_col4 {\n",
       "  background-color: #b2d2e8;\n",
       "  color: #000000;\n",
       "}\n",
       "#T_85762_row7_col5 {\n",
       "  background-color: #afd1e7;\n",
       "  color: #000000;\n",
       "}\n",
       "#T_85762_row8_col1 {\n",
       "  background-color: #519ccc;\n",
       "  color: #f1f1f1;\n",
       "}\n",
       "#T_85762_row8_col4 {\n",
       "  background-color: #ebf3fb;\n",
       "  color: #000000;\n",
       "}\n",
       "#T_85762_row10_col0, #T_85762_row10_col4 {\n",
       "  background-color: #7fb9da;\n",
       "  color: #000000;\n",
       "}\n",
       "#T_85762_row10_col3 {\n",
       "  background-color: #68acd5;\n",
       "  color: #f1f1f1;\n",
       "}\n",
       "#T_85762_row10_col5 {\n",
       "  background-color: #72b2d8;\n",
       "  color: #f1f1f1;\n",
       "}\n",
       "#T_85762_row10_col6 {\n",
       "  background-color: #e9f2fa;\n",
       "  color: #000000;\n",
       "}\n",
       "#T_85762_row11_col1 {\n",
       "  background-color: #3686c0;\n",
       "  color: #f1f1f1;\n",
       "}\n",
       "#T_85762_row11_col2, #T_85762_row12_col5, #T_85762_row18_col6 {\n",
       "  background-color: #f5f9fe;\n",
       "  color: #000000;\n",
       "}\n",
       "#T_85762_row11_col4 {\n",
       "  background-color: #dbe9f6;\n",
       "  color: #000000;\n",
       "}\n",
       "#T_85762_row11_col5 {\n",
       "  background-color: #deebf7;\n",
       "  color: #000000;\n",
       "}\n",
       "#T_85762_row12_col0 {\n",
       "  background-color: #e1edf8;\n",
       "  color: #000000;\n",
       "}\n",
       "#T_85762_row12_col2 {\n",
       "  background-color: #e2edf8;\n",
       "  color: #000000;\n",
       "}\n",
       "#T_85762_row12_col3 {\n",
       "  background-color: #a6cee4;\n",
       "  color: #000000;\n",
       "}\n",
       "#T_85762_row12_col6 {\n",
       "  background-color: #e0ecf8;\n",
       "  color: #000000;\n",
       "}\n",
       "#T_85762_row13_col1 {\n",
       "  background-color: #65aad4;\n",
       "  color: #f1f1f1;\n",
       "}\n",
       "#T_85762_row13_col2 {\n",
       "  background-color: #79b5d9;\n",
       "  color: #000000;\n",
       "}\n",
       "#T_85762_row13_col3 {\n",
       "  background-color: #8abfdd;\n",
       "  color: #000000;\n",
       "}\n",
       "#T_85762_row13_col4 {\n",
       "  background-color: #7cb7da;\n",
       "  color: #000000;\n",
       "}\n",
       "#T_85762_row14_col1 {\n",
       "  background-color: #85bcdc;\n",
       "  color: #000000;\n",
       "}\n",
       "#T_85762_row14_col2 {\n",
       "  background-color: #c6dbef;\n",
       "  color: #000000;\n",
       "}\n",
       "#T_85762_row14_col4 {\n",
       "  background-color: #82bbdb;\n",
       "  color: #000000;\n",
       "}\n",
       "#T_85762_row14_col5, #T_85762_row17_col5 {\n",
       "  background-color: #2979b9;\n",
       "  color: #f1f1f1;\n",
       "}\n",
       "#T_85762_row15_col2 {\n",
       "  background-color: #eff6fc;\n",
       "  color: #000000;\n",
       "}\n",
       "#T_85762_row15_col3 {\n",
       "  background-color: #1e6db2;\n",
       "  color: #f1f1f1;\n",
       "}\n",
       "#T_85762_row15_col4 {\n",
       "  background-color: #dae8f6;\n",
       "  color: #000000;\n",
       "}\n",
       "#T_85762_row15_col5 {\n",
       "  background-color: #ccdff1;\n",
       "  color: #000000;\n",
       "}\n",
       "#T_85762_row15_col6 {\n",
       "  background-color: #f2f8fd;\n",
       "  color: #000000;\n",
       "}\n",
       "#T_85762_row17_col0 {\n",
       "  background-color: #74b3d8;\n",
       "  color: #000000;\n",
       "}\n",
       "#T_85762_row17_col3 {\n",
       "  background-color: #206fb4;\n",
       "  color: #f1f1f1;\n",
       "}\n",
       "#T_85762_row17_col4 {\n",
       "  background-color: #6dafd7;\n",
       "  color: #f1f1f1;\n",
       "}\n",
       "#T_85762_row18_col4 {\n",
       "  background-color: #08326e;\n",
       "  color: #f1f1f1;\n",
       "}\n",
       "#T_85762_row18_col5 {\n",
       "  background-color: #083b7c;\n",
       "  color: #f1f1f1;\n",
       "}\n",
       "#T_85762_row19_col3 {\n",
       "  background-color: #2b7bba;\n",
       "  color: #f1f1f1;\n",
       "}\n",
       "</style>\n",
       "<table id=\"T_85762\">\n",
       "  <thead>\n",
       "    <tr>\n",
       "      <th class=\"blank\" >&nbsp;</th>\n",
       "      <th class=\"blank\" >&nbsp;</th>\n",
       "      <th class=\"index_name level0\" >cluster</th>\n",
       "      <th id=\"T_85762_level0_col0\" class=\"col_heading level0 col0\" >Jóvenes universitarios (+-25 años) con bajo compromiso digital, poco activos, pocos productos (principalmente cuenta corriente). Son los más tenientes.</th>\n",
       "      <th id=\"T_85762_level0_col1\" class=\"col_heading level0 col1\" >Profesionales (+-41 años, predominantemente Particulares) financieramente estables. Contiene universitarios y la mayor representación de TOP. Alta diversificación de productos (inversiones y cuentas), activos, digitales, frecuentes, con aptitud al riesgo. Son los más rentables</th>\n",
       "      <th id=\"T_85762_level0_col2\" class=\"col_heading level0 col2\" >Profesionales experimentados (Particulares), con baja salud financiera, baja diversidad de productos, aptitud al riesgo y tendencia de compra. Son los más mayores (+-42 años). Poseen la menor diversidad de productos (cuentas y algunos préstamos/hipotecas)</th>\n",
       "      <th id=\"T_85762_level0_col3\" class=\"col_heading level0 col3\" >Profesionales financieramente estables (+-39 años, predominantemente Particulares). Contiene universitarios y TOP. Alta diversificación de productos (financieros - préstamos e hipotecas), activos, digitales, frecuentes, con aptitud al riesgo. Segundo grupo más rentable. Posee el menor grado histórico de fidelidad</th>\n",
       "      <th id=\"T_85762_level0_col4\" class=\"col_heading level0 col4\" >Universitarios (+-24 años). Son digitales, con leve diversificación de productos (concentran cuentas corrientes), baja salud financiera. Presenta menor tendencia de compra. Son los universitarios más digitales</th>\n",
       "      <th id=\"T_85762_level0_col5\" class=\"col_heading level0 col5\" >Profesionales (predominantemente Particulares, TOP) experimentados (+- 42 años). Son digitales, con pocas transacciones y con diversidad moderada de productos. Tercer grupo más rentable para el banco y segundo con menor índice histórico de fidelización</th>\n",
       "      <th id=\"T_85762_level0_col6\" class=\"col_heading level0 col6\" >Estudiantes universitarios (+- 23 años) con menor tenencia, baja diversificación de productos (concentran cuentas corrientes), poco activos y poco digitales. Son los más jóvenes</th>\n",
       "    </tr>\n",
       "    <tr>\n",
       "      <th class=\"index_name level0\" >Grupo Indicadores</th>\n",
       "      <th class=\"index_name level1\" >Indicador</th>\n",
       "      <th class=\"index_name level2\" >Estadístico</th>\n",
       "      <th class=\"blank col0\" >&nbsp;</th>\n",
       "      <th class=\"blank col1\" >&nbsp;</th>\n",
       "      <th class=\"blank col2\" >&nbsp;</th>\n",
       "      <th class=\"blank col3\" >&nbsp;</th>\n",
       "      <th class=\"blank col4\" >&nbsp;</th>\n",
       "      <th class=\"blank col5\" >&nbsp;</th>\n",
       "      <th class=\"blank col6\" >&nbsp;</th>\n",
       "    </tr>\n",
       "  </thead>\n",
       "  <tbody>\n",
       "    <tr>\n",
       "      <th id=\"T_85762_level0_row0\" class=\"row_heading level0 row0\" rowspan=\"3\">Segmento (social)</th>\n",
       "      <th id=\"T_85762_level1_row0\" class=\"row_heading level1 row0\" >Top</th>\n",
       "      <th id=\"T_85762_level2_row0\" class=\"row_heading level2 row0\" >Media</th>\n",
       "      <td id=\"T_85762_row0_col0\" class=\"data row0 col0\" >0.000000</td>\n",
       "      <td id=\"T_85762_row0_col1\" class=\"data row0 col1\" >0.156800</td>\n",
       "      <td id=\"T_85762_row0_col2\" class=\"data row0 col2\" >0.000700</td>\n",
       "      <td id=\"T_85762_row0_col3\" class=\"data row0 col3\" >0.012000</td>\n",
       "      <td id=\"T_85762_row0_col4\" class=\"data row0 col4\" >0.000300</td>\n",
       "      <td id=\"T_85762_row0_col5\" class=\"data row0 col5\" >0.053300</td>\n",
       "      <td id=\"T_85762_row0_col6\" class=\"data row0 col6\" >0.000300</td>\n",
       "    </tr>\n",
       "    <tr>\n",
       "      <th id=\"T_85762_level1_row1\" class=\"row_heading level1 row1\" >Particulares</th>\n",
       "      <th id=\"T_85762_level2_row1\" class=\"row_heading level2 row1\" >Media</th>\n",
       "      <td id=\"T_85762_row1_col0\" class=\"data row1 col0\" >0.000000</td>\n",
       "      <td id=\"T_85762_row1_col1\" class=\"data row1 col1\" >0.625600</td>\n",
       "      <td id=\"T_85762_row1_col2\" class=\"data row1 col2\" >0.999300</td>\n",
       "      <td id=\"T_85762_row1_col3\" class=\"data row1 col3\" >0.811300</td>\n",
       "      <td id=\"T_85762_row1_col4\" class=\"data row1 col4\" >0.000000</td>\n",
       "      <td id=\"T_85762_row1_col5\" class=\"data row1 col5\" >0.946700</td>\n",
       "      <td id=\"T_85762_row1_col6\" class=\"data row1 col6\" >0.000000</td>\n",
       "    </tr>\n",
       "    <tr>\n",
       "      <th id=\"T_85762_level1_row2\" class=\"row_heading level1 row2\" >Universitario</th>\n",
       "      <th id=\"T_85762_level2_row2\" class=\"row_heading level2 row2\" >Media</th>\n",
       "      <td id=\"T_85762_row2_col0\" class=\"data row2 col0\" >1.000000</td>\n",
       "      <td id=\"T_85762_row2_col1\" class=\"data row2 col1\" >0.217600</td>\n",
       "      <td id=\"T_85762_row2_col2\" class=\"data row2 col2\" >0.000000</td>\n",
       "      <td id=\"T_85762_row2_col3\" class=\"data row2 col3\" >0.176700</td>\n",
       "      <td id=\"T_85762_row2_col4\" class=\"data row2 col4\" >0.999700</td>\n",
       "      <td id=\"T_85762_row2_col5\" class=\"data row2 col5\" >0.000000</td>\n",
       "      <td id=\"T_85762_row2_col6\" class=\"data row2 col6\" >0.999700</td>\n",
       "    </tr>\n",
       "    <tr>\n",
       "      <th id=\"T_85762_level0_row3\" class=\"row_heading level0 row3\" >Edad</th>\n",
       "      <th id=\"T_85762_level1_row3\" class=\"row_heading level1 row3\" >Edad</th>\n",
       "      <th id=\"T_85762_level2_row3\" class=\"row_heading level2 row3\" >Media</th>\n",
       "      <td id=\"T_85762_row3_col0\" class=\"data row3 col0\" >24.516700</td>\n",
       "      <td id=\"T_85762_row3_col1\" class=\"data row3 col1\" >41.674600</td>\n",
       "      <td id=\"T_85762_row3_col2\" class=\"data row3 col2\" >41.772600</td>\n",
       "      <td id=\"T_85762_row3_col3\" class=\"data row3 col3\" >38.662500</td>\n",
       "      <td id=\"T_85762_row3_col4\" class=\"data row3 col4\" >23.648200</td>\n",
       "      <td id=\"T_85762_row3_col5\" class=\"data row3 col5\" >42.280200</td>\n",
       "      <td id=\"T_85762_row3_col6\" class=\"data row3 col6\" >22.726900</td>\n",
       "    </tr>\n",
       "    <tr>\n",
       "      <th id=\"T_85762_level0_row4\" class=\"row_heading level0 row4\" rowspan=\"2\">Economía</th>\n",
       "      <th id=\"T_85762_level1_row4\" class=\"row_heading level1 row4\" >Salud Financiera</th>\n",
       "      <th id=\"T_85762_level2_row4\" class=\"row_heading level2 row4\" >Media</th>\n",
       "      <td id=\"T_85762_row4_col0\" class=\"data row4 col0\" >0.001800</td>\n",
       "      <td id=\"T_85762_row4_col1\" class=\"data row4 col1\" >0.161600</td>\n",
       "      <td id=\"T_85762_row4_col2\" class=\"data row4 col2\" >0.001800</td>\n",
       "      <td id=\"T_85762_row4_col3\" class=\"data row4 col3\" >0.001900</td>\n",
       "      <td id=\"T_85762_row4_col4\" class=\"data row4 col4\" >0.001800</td>\n",
       "      <td id=\"T_85762_row4_col5\" class=\"data row4 col5\" >0.001900</td>\n",
       "      <td id=\"T_85762_row4_col6\" class=\"data row4 col6\" >0.001900</td>\n",
       "    </tr>\n",
       "    <tr>\n",
       "      <th id=\"T_85762_level1_row5\" class=\"row_heading level1 row5\" >Ganáncia Total Generada</th>\n",
       "      <th id=\"T_85762_level2_row5\" class=\"row_heading level2 row5\" >Media</th>\n",
       "      <td id=\"T_85762_row5_col0\" class=\"data row5 col0\" >0.197600</td>\n",
       "      <td id=\"T_85762_row5_col1\" class=\"data row5 col1\" >105.242300</td>\n",
       "      <td id=\"T_85762_row5_col2\" class=\"data row5 col2\" >2.009400</td>\n",
       "      <td id=\"T_85762_row5_col3\" class=\"data row5 col3\" >96.852700</td>\n",
       "      <td id=\"T_85762_row5_col4\" class=\"data row5 col4\" >14.334200</td>\n",
       "      <td id=\"T_85762_row5_col5\" class=\"data row5 col5\" >17.181800</td>\n",
       "      <td id=\"T_85762_row5_col6\" class=\"data row5 col6\" >1.380200</td>\n",
       "    </tr>\n",
       "    <tr>\n",
       "      <th id=\"T_85762_level0_row6\" class=\"row_heading level0 row6\" >Frecuencia</th>\n",
       "      <th id=\"T_85762_level1_row6\" class=\"row_heading level1 row6\" >Meses desde la ultima compra</th>\n",
       "      <th id=\"T_85762_level2_row6\" class=\"row_heading level2 row6\" >Media</th>\n",
       "      <td id=\"T_85762_row6_col0\" class=\"data row6 col0\" >15.980200</td>\n",
       "      <td id=\"T_85762_row6_col1\" class=\"data row6 col1\" >5.318300</td>\n",
       "      <td id=\"T_85762_row6_col2\" class=\"data row6 col2\" >9.883000</td>\n",
       "      <td id=\"T_85762_row6_col3\" class=\"data row6 col3\" >5.801700</td>\n",
       "      <td id=\"T_85762_row6_col4\" class=\"data row6 col4\" >12.004100</td>\n",
       "      <td id=\"T_85762_row6_col5\" class=\"data row6 col5\" >9.534700</td>\n",
       "      <td id=\"T_85762_row6_col6\" class=\"data row6 col6\" >8.355600</td>\n",
       "    </tr>\n",
       "    <tr>\n",
       "      <th id=\"T_85762_level0_row7\" class=\"row_heading level0 row7\" rowspan=\"5\">Productos</th>\n",
       "      <th id=\"T_85762_level1_row7\" class=\"row_heading level1 row7\" >Diversificación de Productos</th>\n",
       "      <th id=\"T_85762_level2_row7\" class=\"row_heading level2 row7\" >Media</th>\n",
       "      <td id=\"T_85762_row7_col0\" class=\"data row7 col0\" >0.082500</td>\n",
       "      <td id=\"T_85762_row7_col1\" class=\"data row7 col1\" >0.223000</td>\n",
       "      <td id=\"T_85762_row7_col2\" class=\"data row7 col2\" >0.021000</td>\n",
       "      <td id=\"T_85762_row7_col3\" class=\"data row7 col3\" >0.142600</td>\n",
       "      <td id=\"T_85762_row7_col4\" class=\"data row7 col4\" >0.084800</td>\n",
       "      <td id=\"T_85762_row7_col5\" class=\"data row7 col5\" >0.085900</td>\n",
       "      <td id=\"T_85762_row7_col6\" class=\"data row7 col6\" >0.031100</td>\n",
       "    </tr>\n",
       "    <tr>\n",
       "      <th id=\"T_85762_level1_row8\" class=\"row_heading level1 row8\" >Productos Financiación</th>\n",
       "      <th id=\"T_85762_level2_row8\" class=\"row_heading level2 row8\" >Media</th>\n",
       "      <td id=\"T_85762_row8_col0\" class=\"data row8 col0\" >0.000000</td>\n",
       "      <td id=\"T_85762_row8_col1\" class=\"data row8 col1\" >0.588600</td>\n",
       "      <td id=\"T_85762_row8_col2\" class=\"data row8 col2\" >0.000100</td>\n",
       "      <td id=\"T_85762_row8_col3\" class=\"data row8 col3\" >1.013600</td>\n",
       "      <td id=\"T_85762_row8_col4\" class=\"data row8 col4\" >0.059700</td>\n",
       "      <td id=\"T_85762_row8_col5\" class=\"data row8 col5\" >0.000000</td>\n",
       "      <td id=\"T_85762_row8_col6\" class=\"data row8 col6\" >0.001800</td>\n",
       "    </tr>\n",
       "    <tr>\n",
       "      <th id=\"T_85762_level1_row9\" class=\"row_heading level1 row9\" >Productos Inversiones y ahorro</th>\n",
       "      <th id=\"T_85762_level2_row9\" class=\"row_heading level2 row9\" >Media</th>\n",
       "      <td id=\"T_85762_row9_col0\" class=\"data row9 col0\" >0.000000</td>\n",
       "      <td id=\"T_85762_row9_col1\" class=\"data row9 col1\" >1.056700</td>\n",
       "      <td id=\"T_85762_row9_col2\" class=\"data row9 col2\" >0.000000</td>\n",
       "      <td id=\"T_85762_row9_col3\" class=\"data row9 col3\" >0.001200</td>\n",
       "      <td id=\"T_85762_row9_col4\" class=\"data row9 col4\" >0.001900</td>\n",
       "      <td id=\"T_85762_row9_col5\" class=\"data row9 col5\" >0.009500</td>\n",
       "      <td id=\"T_85762_row9_col6\" class=\"data row9 col6\" >0.000000</td>\n",
       "    </tr>\n",
       "    <tr>\n",
       "      <th id=\"T_85762_level1_row10\" class=\"row_heading level1 row10\" >Productos Cuentas EasyMoney</th>\n",
       "      <th id=\"T_85762_level2_row10\" class=\"row_heading level2 row10\" >Media</th>\n",
       "      <td id=\"T_85762_row10_col0\" class=\"data row10 col0\" >0.990100</td>\n",
       "      <td id=\"T_85762_row10_col1\" class=\"data row10 col1\" >1.886400</td>\n",
       "      <td id=\"T_85762_row10_col2\" class=\"data row10 col2\" >0.252200</td>\n",
       "      <td id=\"T_85762_row10_col3\" class=\"data row10 col3\" >1.087700</td>\n",
       "      <td id=\"T_85762_row10_col4\" class=\"data row10 col4\" >0.987900</td>\n",
       "      <td id=\"T_85762_row10_col5\" class=\"data row10 col5\" >1.039300</td>\n",
       "      <td id=\"T_85762_row10_col6\" class=\"data row10 col6\" >0.372300</td>\n",
       "    </tr>\n",
       "    <tr>\n",
       "      <th id=\"T_85762_level1_row11\" class=\"row_heading level1 row11\" >Productos préstamos (a solas)</th>\n",
       "      <th id=\"T_85762_level2_row11\" class=\"row_heading level2 row11\" >Media</th>\n",
       "      <td id=\"T_85762_row11_col0\" class=\"data row11 col0\" >0.004000</td>\n",
       "      <td id=\"T_85762_row11_col1\" class=\"data row11 col1\" >0.730200</td>\n",
       "      <td id=\"T_85762_row11_col2\" class=\"data row11 col2\" >0.019600</td>\n",
       "      <td id=\"T_85762_row11_col3\" class=\"data row11 col3\" >1.089000</td>\n",
       "      <td id=\"T_85762_row11_col4\" class=\"data row11 col4\" >0.158200</td>\n",
       "      <td id=\"T_85762_row11_col5\" class=\"data row11 col5\" >0.141400</td>\n",
       "      <td id=\"T_85762_row11_col6\" class=\"data row11 col6\" >0.008600</td>\n",
       "    </tr>\n",
       "    <tr>\n",
       "      <th id=\"T_85762_level0_row12\" class=\"row_heading level0 row12\" >Tendencia (compras)</th>\n",
       "      <th id=\"T_85762_level1_row12\" class=\"row_heading level1 row12\" >Tendencia de compra ultimo mes</th>\n",
       "      <th id=\"T_85762_level2_row12\" class=\"row_heading level2 row12\" >Media</th>\n",
       "      <td id=\"T_85762_row12_col0\" class=\"data row12 col0\" >-0.000400</td>\n",
       "      <td id=\"T_85762_row12_col1\" class=\"data row12 col1\" >0.256200</td>\n",
       "      <td id=\"T_85762_row12_col2\" class=\"data row12 col2\" >-0.001600</td>\n",
       "      <td id=\"T_85762_row12_col3\" class=\"data row12 col3\" >0.069000</td>\n",
       "      <td id=\"T_85762_row12_col4\" class=\"data row12 col4\" >-0.032300</td>\n",
       "      <td id=\"T_85762_row12_col5\" class=\"data row12 col5\" >-0.028600</td>\n",
       "      <td id=\"T_85762_row12_col6\" class=\"data row12 col6\" >0.000400</td>\n",
       "    </tr>\n",
       "    <tr>\n",
       "      <th id=\"T_85762_level0_row13\" class=\"row_heading level0 row13\" rowspan=\"2\">Relacionamiento</th>\n",
       "      <th id=\"T_85762_level1_row13\" class=\"row_heading level1 row13\" >Tenencia del cliente</th>\n",
       "      <th id=\"T_85762_level2_row13\" class=\"row_heading level2 row13\" >Media</th>\n",
       "      <td id=\"T_85762_row13_col0\" class=\"data row13 col0\" >1010.558200</td>\n",
       "      <td id=\"T_85762_row13_col1\" class=\"data row13 col1\" >760.929100</td>\n",
       "      <td id=\"T_85762_row13_col2\" class=\"data row13 col2\" >735.584800</td>\n",
       "      <td id=\"T_85762_row13_col3\" class=\"data row13 col3\" >712.540300</td>\n",
       "      <td id=\"T_85762_row13_col4\" class=\"data row13 col4\" >732.129400</td>\n",
       "      <td id=\"T_85762_row13_col5\" class=\"data row13 col5\" >606.228000</td>\n",
       "      <td id=\"T_85762_row13_col6\" class=\"data row13 col6\" >494.136600</td>\n",
       "    </tr>\n",
       "    <tr>\n",
       "      <th id=\"T_85762_level1_row14\" class=\"row_heading level1 row14\" >Fidelización</th>\n",
       "      <th id=\"T_85762_level2_row14\" class=\"row_heading level2 row14\" >Media</th>\n",
       "      <td id=\"T_85762_row14_col0\" class=\"data row14 col0\" >0.013500</td>\n",
       "      <td id=\"T_85762_row14_col1\" class=\"data row14 col1\" >0.195400</td>\n",
       "      <td id=\"T_85762_row14_col2\" class=\"data row14 col2\" >0.118500</td>\n",
       "      <td id=\"T_85762_row14_col3\" class=\"data row14 col3\" >0.430800</td>\n",
       "      <td id=\"T_85762_row14_col4\" class=\"data row14 col4\" >0.198700</td>\n",
       "      <td id=\"T_85762_row14_col5\" class=\"data row14 col5\" >0.314700</td>\n",
       "      <td id=\"T_85762_row14_col6\" class=\"data row14 col6\" >0.045100</td>\n",
       "    </tr>\n",
       "    <tr>\n",
       "      <th id=\"T_85762_level0_row15\" class=\"row_heading level0 row15\" rowspan=\"5\">Comportamiento</th>\n",
       "      <th id=\"T_85762_level1_row15\" class=\"row_heading level1 row15\" >Transaciones</th>\n",
       "      <th id=\"T_85762_level2_row15\" class=\"row_heading level2 row15\" >Media</th>\n",
       "      <td id=\"T_85762_row15_col0\" class=\"data row15 col0\" >0.019700</td>\n",
       "      <td id=\"T_85762_row15_col1\" class=\"data row15 col1\" >4.732600</td>\n",
       "      <td id=\"T_85762_row15_col2\" class=\"data row15 col2\" >0.206500</td>\n",
       "      <td id=\"T_85762_row15_col3\" class=\"data row15 col3\" >3.616700</td>\n",
       "      <td id=\"T_85762_row15_col4\" class=\"data row15 col4\" >0.708700</td>\n",
       "      <td id=\"T_85762_row15_col5\" class=\"data row15 col5\" >1.056500</td>\n",
       "      <td id=\"T_85762_row15_col6\" class=\"data row15 col6\" >0.131600</td>\n",
       "    </tr>\n",
       "    <tr>\n",
       "      <th id=\"T_85762_level1_row16\" class=\"row_heading level1 row16\" >Comportamiento Ahorro</th>\n",
       "      <th id=\"T_85762_level2_row16\" class=\"row_heading level2 row16\" >Media</th>\n",
       "      <td id=\"T_85762_row16_col0\" class=\"data row16 col0\" >0.000000</td>\n",
       "      <td id=\"T_85762_row16_col1\" class=\"data row16 col1\" >1.056700</td>\n",
       "      <td id=\"T_85762_row16_col2\" class=\"data row16 col2\" >0.000000</td>\n",
       "      <td id=\"T_85762_row16_col3\" class=\"data row16 col3\" >0.001200</td>\n",
       "      <td id=\"T_85762_row16_col4\" class=\"data row16 col4\" >0.001900</td>\n",
       "      <td id=\"T_85762_row16_col5\" class=\"data row16 col5\" >0.009500</td>\n",
       "      <td id=\"T_85762_row16_col6\" class=\"data row16 col6\" >0.000000</td>\n",
       "    </tr>\n",
       "    <tr>\n",
       "      <th id=\"T_85762_level1_row17\" class=\"row_heading level1 row17\" >Aptitud a Riesgo</th>\n",
       "      <th id=\"T_85762_level2_row17\" class=\"row_heading level2 row17\" >Media</th>\n",
       "      <td id=\"T_85762_row17_col0\" class=\"data row17 col0\" >0.991500</td>\n",
       "      <td id=\"T_85762_row17_col1\" class=\"data row17 col1\" >1.740500</td>\n",
       "      <td id=\"T_85762_row17_col2\" class=\"data row17 col2\" >0.302600</td>\n",
       "      <td id=\"T_85762_row17_col3\" class=\"data row17 col3\" >1.389200</td>\n",
       "      <td id=\"T_85762_row17_col4\" class=\"data row17 col4\" >1.013100</td>\n",
       "      <td id=\"T_85762_row17_col5\" class=\"data row17 col5\" >1.338500</td>\n",
       "      <td id=\"T_85762_row17_col6\" class=\"data row17 col6\" >0.373000</td>\n",
       "    </tr>\n",
       "    <tr>\n",
       "      <th id=\"T_85762_level1_row18\" class=\"row_heading level1 row18\" >Digtitalización - índice</th>\n",
       "      <th id=\"T_85762_level2_row18\" class=\"row_heading level2 row18\" >Media</th>\n",
       "      <td id=\"T_85762_row18_col0\" class=\"data row18 col0\" >0.012500</td>\n",
       "      <td id=\"T_85762_row18_col1\" class=\"data row18 col1\" >0.956200</td>\n",
       "      <td id=\"T_85762_row18_col2\" class=\"data row18 col2\" >0.029800</td>\n",
       "      <td id=\"T_85762_row18_col3\" class=\"data row18 col3\" >0.953600</td>\n",
       "      <td id=\"T_85762_row18_col4\" class=\"data row18 col4\" >0.946100</td>\n",
       "      <td id=\"T_85762_row18_col5\" class=\"data row18 col5\" >0.912400</td>\n",
       "      <td id=\"T_85762_row18_col6\" class=\"data row18 col6\" >0.025000</td>\n",
       "    </tr>\n",
       "    <tr>\n",
       "      <th id=\"T_85762_level1_row19\" class=\"row_heading level1 row19\" >Préstamos - índice</th>\n",
       "      <th id=\"T_85762_level2_row19\" class=\"row_heading level2 row19\" >Media</th>\n",
       "      <td id=\"T_85762_row19_col0\" class=\"data row19 col0\" >0.000000</td>\n",
       "      <td id=\"T_85762_row19_col1\" class=\"data row19 col1\" >0.001400</td>\n",
       "      <td id=\"T_85762_row19_col2\" class=\"data row19 col2\" >0.000000</td>\n",
       "      <td id=\"T_85762_row19_col3\" class=\"data row19 col3\" >0.001000</td>\n",
       "      <td id=\"T_85762_row19_col4\" class=\"data row19 col4\" >0.000000</td>\n",
       "      <td id=\"T_85762_row19_col5\" class=\"data row19 col5\" >0.000000</td>\n",
       "      <td id=\"T_85762_row19_col6\" class=\"data row19 col6\" >0.000000</td>\n",
       "    </tr>\n",
       "  </tbody>\n",
       "</table>\n"
      ],
      "text/plain": [
       "<pandas.io.formats.style.Styler at 0x299327090>"
      ]
     },
     "execution_count": 138,
     "metadata": {},
     "output_type": "execute_result"
    }
   ],
   "source": [
    "#Generar ficha resumida\n",
    "\n",
    "def highlight_min_rowwise(s):\n",
    "    is_min = s == s.min()\n",
    "    return ['background-color: red' if v else '' for v in is_min]\n",
    "\n",
    "indices_mean = ficha_df[ficha_df.index.get_level_values(2).str.contains(\"Me\")].index\n",
    "ficha_df.loc[indices_mean].style.background_gradient(cmap='Blues', axis=1).apply(highlight_min_rowwise, axis=1)"
   ]
  },
  {
   "cell_type": "markdown",
   "metadata": {},
   "source": [
    "### Informe: Perfil del cliente en cada cluster\n",
    "\n",
    "| Cluster | Nombre del Cluster                    | Descripción                                                                                           | Perfil                                                                                                                     | Puntos Fuertes                                                                              | Puntos Débiles                                                                       | Persona                                              | Dificultades                                 | Oportunidades                                                                                      |\n",
    "|---------|--------------------------------------|-------------------------------------------------------------------------------------------------------|----------------------------------------------------------------------------------------------------------------------------|--------------------------------------------------------------------------------------------|---------------------------------------------------------------------------------------|------------------------------------------------------|----------------------------------------------|----------------------------------------------------------------------------------------------------|\n",
    "| 0       | El Estudiante Prudente              | Jóvenes con baja actividad financiera pero alta tenencia en cuentas.                                   | Mayoría del segmento \"UNIVERSITARIO\". Edad promedio más baja (+-24 años). Bajas ganancias generadas. Baja diversidad de productos. | Alta propensión para adquirir productos de cuentas. Baja propensión para el endeudamiento. Alta tenencia.           | Baja diversificación de productos. Baja participación digital. Poco activo y poco frecuente. | Estudiantes universitarios o jóvenes adultos.      | Necesidad de educación financiera.             | Ofrecer productos de inversión y financiamiento adaptados a los jóvenes.                        |\n",
    "| 1       | El Inversor Acomodado              | Profesionales estables buscando diversificación e inversión.                                            | Predominantemente del segmento \"PARTICULARES\". Mayor representatividad del segmento TOP. Edad promedio más alta (+-42 años). Altas ganancias generadas. Alta diversidad de productos.       | Alta propensión para adquirir productos de inversión y financiamiento. Alta diversificación de productos.           | Grado de fidelización intermedio.           | Profesionales financieramente estables.           | Necesidad de productos financieros diferenciados | Asesoramiento personalizado para identificar.                                                        |\n",
    "| 2       | El Ahorrador Tradicional            | Personas de ingresos medios con preferencia por cuentas de ahorro básicas.                               | Predominantemente del segmento \"PARTICULARES\". Edad promedio alta (+-42 años). Bajas ganancias generadas. Baja diversidad de productos.                                                   | Alta propensión para adquirir productos de cuentas.                                                                                                                   | Baja diversificación de productos. Baja participación digital. Bajo comportamiento de inversiones y ahorros. | Profesionales experimentados o personas con ingresos medios. | Dificultad para ahorrar.                       | Ofrecer servicios de consultoría financiera personalizada.                                        |\n",
    "| 3       | El Financiero Diversificado         | Usuarios activos y digitales con inclinación hacia financiamiento e inversión.                           | Diversidad de segmentos. Edad promedio intermedia (+-38 años). Altas ganancias generadas. Alta diversidad de productos.                                                                   | Alta propensión para adquirir productos de financiamiento e inversión, con énfasis en préstamos e hipotecas. Alta diversificación de productos. Activos y digitales. | Baja tendencia de compra en el último mes. Menor índice de fidelización.                                 | Profesionales financieramente estables con preferencia por la diversificación. | Necesidad de servicios de consultoría para maximizar inversiones. | Desarrollar programas de fidelización personalizados para aumentar la retención.                  |\n",
    "| 4       | El Universitario Inversor          | Estudiantes o jóvenes profesionales enfocados en financiamiento e inversión digital.                     | Predominio del segmento UNIVERSITARIO. Edad promedio baja (+-24 años). Ganancias generadas moderadas. Diversificación moderada de productos.                                         | Alta propensión para adquirir productos de financiamiento e inversión entre universitarios. Digitales. | Baja tendencia de compra en el último mes. Baja salud financiera.                                       | Jóvenes profesionales o estudiantes universitarios con ingresos medios. | Necesidad de orientación financiera para maximizar el potencial de inversión. | Desarrollar programas de educación financiera e incentivos para aumentar la fidelidad.             |\n",
    "| 5       | El Cliente Conservador Digital     | Profesionales experimentados con interés en servicios digitales financieros.                              | Predominantemente del segmento \"PARTICULARES\". Edad promedio alta, la más alta (+-42,2 años). Ganancias generadas moderadas. Baja diversificación de productos (cuentas y préstamos/hipotecas). | Digitales.                                                                                                  | Baja tendencia de compra en el último mes. Bajo grado de fidelización.                                    | Profesionales experimentados con necesidades financieras diversificadas. | Necesidad de servicios de consultoría financiera personalizada. | Desarrollar servicios digitales innovadores para atraer clientes más jóvenes y aumentar el compromiso, especialmente en términos de financiamiento. |\n",
    "| 6       | El Joven Ahorrador                 | Estudiantes universitarios con interés moderado en productos de cuentas y educación financiera.         | Mayoritariamente del segmento \"UNIVERSITARIO\". Edad promedio baja, la menor (+-22,72 años). Bajo lucro total generado. Baja diversificación de productos.                                 | Mayor propensión para adquirir productos de cuentas. Recurrencia intermedia de compra.                        | Baja diversificación de productos. Bajo compromiso digital. Baja tenencia.                                 | Estudiantes universitarios o jóvenes adultos.      | Necesidad de educación financiera.             | Ofrecer productos de inversión y financiamiento adaptados a los jóvenes.                        |\n"
   ]
  },
  {
   "cell_type": "markdown",
   "metadata": {},
   "source": [
    "### Graficos: Perfil del cliente en cada cluster"
   ]
  },
  {
   "cell_type": "code",
   "execution_count": 139,
   "metadata": {},
   "outputs": [
    {
     "data": {
      "application/vnd.plotly.v1+json": {
       "config": {
        "plotlyServerURL": "https://plot.ly"
       },
       "data": [
        {
         "fill": "toself",
         "line": {
          "color": "green"
         },
         "r": [
          0,
          0.11057192374350087,
          0.47910146741776216,
          0.3044554455445545,
          1,
          0,
          0,
          0,
          0,
          0,
          0,
          0.09153442129972933,
          0,
          1,
          0.451535919716069
         ],
         "theta": [
          "Productos préstamos (a solas)",
          "Tendencia de compra ultimo mes",
          "Aptitud a Riesgo",
          "Diversificación de Productos",
          "Universitario",
          "Fidelización",
          "Digtitalización - índice",
          "Productos Financiación",
          "Particulares",
          "Productos Inversiones y ahorro",
          "Transaciones",
          "Edad",
          "Top",
          "Meses desde la ultima compra",
          "Productos Cuentas EasyMoney"
         ],
         "type": "scatterpolar"
        }
       ],
       "layout": {
        "font": {
         "color": "black",
         "family": "Arial, sans-serif",
         "size": 18
        },
        "height": 500,
        "margin": {
         "b": 30,
         "l": 30,
         "r": 30,
         "t": 40
        },
        "polar": {
         "angularaxis": {
          "rotation": 0
         },
         "radialaxis": {
          "range": [
           0,
           1
          ],
          "visible": true
         }
        },
        "showlegend": false,
        "template": {
         "data": {
          "bar": [
           {
            "error_x": {
             "color": "#2a3f5f"
            },
            "error_y": {
             "color": "#2a3f5f"
            },
            "marker": {
             "line": {
              "color": "#E5ECF6",
              "width": 0.5
             },
             "pattern": {
              "fillmode": "overlay",
              "size": 10,
              "solidity": 0.2
             }
            },
            "type": "bar"
           }
          ],
          "barpolar": [
           {
            "marker": {
             "line": {
              "color": "#E5ECF6",
              "width": 0.5
             },
             "pattern": {
              "fillmode": "overlay",
              "size": 10,
              "solidity": 0.2
             }
            },
            "type": "barpolar"
           }
          ],
          "carpet": [
           {
            "aaxis": {
             "endlinecolor": "#2a3f5f",
             "gridcolor": "white",
             "linecolor": "white",
             "minorgridcolor": "white",
             "startlinecolor": "#2a3f5f"
            },
            "baxis": {
             "endlinecolor": "#2a3f5f",
             "gridcolor": "white",
             "linecolor": "white",
             "minorgridcolor": "white",
             "startlinecolor": "#2a3f5f"
            },
            "type": "carpet"
           }
          ],
          "choropleth": [
           {
            "colorbar": {
             "outlinewidth": 0,
             "ticks": ""
            },
            "type": "choropleth"
           }
          ],
          "contour": [
           {
            "colorbar": {
             "outlinewidth": 0,
             "ticks": ""
            },
            "colorscale": [
             [
              0,
              "#0d0887"
             ],
             [
              0.1111111111111111,
              "#46039f"
             ],
             [
              0.2222222222222222,
              "#7201a8"
             ],
             [
              0.3333333333333333,
              "#9c179e"
             ],
             [
              0.4444444444444444,
              "#bd3786"
             ],
             [
              0.5555555555555556,
              "#d8576b"
             ],
             [
              0.6666666666666666,
              "#ed7953"
             ],
             [
              0.7777777777777778,
              "#fb9f3a"
             ],
             [
              0.8888888888888888,
              "#fdca26"
             ],
             [
              1,
              "#f0f921"
             ]
            ],
            "type": "contour"
           }
          ],
          "contourcarpet": [
           {
            "colorbar": {
             "outlinewidth": 0,
             "ticks": ""
            },
            "type": "contourcarpet"
           }
          ],
          "heatmap": [
           {
            "colorbar": {
             "outlinewidth": 0,
             "ticks": ""
            },
            "colorscale": [
             [
              0,
              "#0d0887"
             ],
             [
              0.1111111111111111,
              "#46039f"
             ],
             [
              0.2222222222222222,
              "#7201a8"
             ],
             [
              0.3333333333333333,
              "#9c179e"
             ],
             [
              0.4444444444444444,
              "#bd3786"
             ],
             [
              0.5555555555555556,
              "#d8576b"
             ],
             [
              0.6666666666666666,
              "#ed7953"
             ],
             [
              0.7777777777777778,
              "#fb9f3a"
             ],
             [
              0.8888888888888888,
              "#fdca26"
             ],
             [
              1,
              "#f0f921"
             ]
            ],
            "type": "heatmap"
           }
          ],
          "heatmapgl": [
           {
            "colorbar": {
             "outlinewidth": 0,
             "ticks": ""
            },
            "colorscale": [
             [
              0,
              "#0d0887"
             ],
             [
              0.1111111111111111,
              "#46039f"
             ],
             [
              0.2222222222222222,
              "#7201a8"
             ],
             [
              0.3333333333333333,
              "#9c179e"
             ],
             [
              0.4444444444444444,
              "#bd3786"
             ],
             [
              0.5555555555555556,
              "#d8576b"
             ],
             [
              0.6666666666666666,
              "#ed7953"
             ],
             [
              0.7777777777777778,
              "#fb9f3a"
             ],
             [
              0.8888888888888888,
              "#fdca26"
             ],
             [
              1,
              "#f0f921"
             ]
            ],
            "type": "heatmapgl"
           }
          ],
          "histogram": [
           {
            "marker": {
             "pattern": {
              "fillmode": "overlay",
              "size": 10,
              "solidity": 0.2
             }
            },
            "type": "histogram"
           }
          ],
          "histogram2d": [
           {
            "colorbar": {
             "outlinewidth": 0,
             "ticks": ""
            },
            "colorscale": [
             [
              0,
              "#0d0887"
             ],
             [
              0.1111111111111111,
              "#46039f"
             ],
             [
              0.2222222222222222,
              "#7201a8"
             ],
             [
              0.3333333333333333,
              "#9c179e"
             ],
             [
              0.4444444444444444,
              "#bd3786"
             ],
             [
              0.5555555555555556,
              "#d8576b"
             ],
             [
              0.6666666666666666,
              "#ed7953"
             ],
             [
              0.7777777777777778,
              "#fb9f3a"
             ],
             [
              0.8888888888888888,
              "#fdca26"
             ],
             [
              1,
              "#f0f921"
             ]
            ],
            "type": "histogram2d"
           }
          ],
          "histogram2dcontour": [
           {
            "colorbar": {
             "outlinewidth": 0,
             "ticks": ""
            },
            "colorscale": [
             [
              0,
              "#0d0887"
             ],
             [
              0.1111111111111111,
              "#46039f"
             ],
             [
              0.2222222222222222,
              "#7201a8"
             ],
             [
              0.3333333333333333,
              "#9c179e"
             ],
             [
              0.4444444444444444,
              "#bd3786"
             ],
             [
              0.5555555555555556,
              "#d8576b"
             ],
             [
              0.6666666666666666,
              "#ed7953"
             ],
             [
              0.7777777777777778,
              "#fb9f3a"
             ],
             [
              0.8888888888888888,
              "#fdca26"
             ],
             [
              1,
              "#f0f921"
             ]
            ],
            "type": "histogram2dcontour"
           }
          ],
          "mesh3d": [
           {
            "colorbar": {
             "outlinewidth": 0,
             "ticks": ""
            },
            "type": "mesh3d"
           }
          ],
          "parcoords": [
           {
            "line": {
             "colorbar": {
              "outlinewidth": 0,
              "ticks": ""
             }
            },
            "type": "parcoords"
           }
          ],
          "pie": [
           {
            "automargin": true,
            "type": "pie"
           }
          ],
          "scatter": [
           {
            "fillpattern": {
             "fillmode": "overlay",
             "size": 10,
             "solidity": 0.2
            },
            "type": "scatter"
           }
          ],
          "scatter3d": [
           {
            "line": {
             "colorbar": {
              "outlinewidth": 0,
              "ticks": ""
             }
            },
            "marker": {
             "colorbar": {
              "outlinewidth": 0,
              "ticks": ""
             }
            },
            "type": "scatter3d"
           }
          ],
          "scattercarpet": [
           {
            "marker": {
             "colorbar": {
              "outlinewidth": 0,
              "ticks": ""
             }
            },
            "type": "scattercarpet"
           }
          ],
          "scattergeo": [
           {
            "marker": {
             "colorbar": {
              "outlinewidth": 0,
              "ticks": ""
             }
            },
            "type": "scattergeo"
           }
          ],
          "scattergl": [
           {
            "marker": {
             "colorbar": {
              "outlinewidth": 0,
              "ticks": ""
             }
            },
            "type": "scattergl"
           }
          ],
          "scattermapbox": [
           {
            "marker": {
             "colorbar": {
              "outlinewidth": 0,
              "ticks": ""
             }
            },
            "type": "scattermapbox"
           }
          ],
          "scatterpolar": [
           {
            "marker": {
             "colorbar": {
              "outlinewidth": 0,
              "ticks": ""
             }
            },
            "type": "scatterpolar"
           }
          ],
          "scatterpolargl": [
           {
            "marker": {
             "colorbar": {
              "outlinewidth": 0,
              "ticks": ""
             }
            },
            "type": "scatterpolargl"
           }
          ],
          "scatterternary": [
           {
            "marker": {
             "colorbar": {
              "outlinewidth": 0,
              "ticks": ""
             }
            },
            "type": "scatterternary"
           }
          ],
          "surface": [
           {
            "colorbar": {
             "outlinewidth": 0,
             "ticks": ""
            },
            "colorscale": [
             [
              0,
              "#0d0887"
             ],
             [
              0.1111111111111111,
              "#46039f"
             ],
             [
              0.2222222222222222,
              "#7201a8"
             ],
             [
              0.3333333333333333,
              "#9c179e"
             ],
             [
              0.4444444444444444,
              "#bd3786"
             ],
             [
              0.5555555555555556,
              "#d8576b"
             ],
             [
              0.6666666666666666,
              "#ed7953"
             ],
             [
              0.7777777777777778,
              "#fb9f3a"
             ],
             [
              0.8888888888888888,
              "#fdca26"
             ],
             [
              1,
              "#f0f921"
             ]
            ],
            "type": "surface"
           }
          ],
          "table": [
           {
            "cells": {
             "fill": {
              "color": "#EBF0F8"
             },
             "line": {
              "color": "white"
             }
            },
            "header": {
             "fill": {
              "color": "#C8D4E3"
             },
             "line": {
              "color": "white"
             }
            },
            "type": "table"
           }
          ]
         },
         "layout": {
          "annotationdefaults": {
           "arrowcolor": "#2a3f5f",
           "arrowhead": 0,
           "arrowwidth": 1
          },
          "autotypenumbers": "strict",
          "coloraxis": {
           "colorbar": {
            "outlinewidth": 0,
            "ticks": ""
           }
          },
          "colorscale": {
           "diverging": [
            [
             0,
             "#8e0152"
            ],
            [
             0.1,
             "#c51b7d"
            ],
            [
             0.2,
             "#de77ae"
            ],
            [
             0.3,
             "#f1b6da"
            ],
            [
             0.4,
             "#fde0ef"
            ],
            [
             0.5,
             "#f7f7f7"
            ],
            [
             0.6,
             "#e6f5d0"
            ],
            [
             0.7,
             "#b8e186"
            ],
            [
             0.8,
             "#7fbc41"
            ],
            [
             0.9,
             "#4d9221"
            ],
            [
             1,
             "#276419"
            ]
           ],
           "sequential": [
            [
             0,
             "#0d0887"
            ],
            [
             0.1111111111111111,
             "#46039f"
            ],
            [
             0.2222222222222222,
             "#7201a8"
            ],
            [
             0.3333333333333333,
             "#9c179e"
            ],
            [
             0.4444444444444444,
             "#bd3786"
            ],
            [
             0.5555555555555556,
             "#d8576b"
            ],
            [
             0.6666666666666666,
             "#ed7953"
            ],
            [
             0.7777777777777778,
             "#fb9f3a"
            ],
            [
             0.8888888888888888,
             "#fdca26"
            ],
            [
             1,
             "#f0f921"
            ]
           ],
           "sequentialminus": [
            [
             0,
             "#0d0887"
            ],
            [
             0.1111111111111111,
             "#46039f"
            ],
            [
             0.2222222222222222,
             "#7201a8"
            ],
            [
             0.3333333333333333,
             "#9c179e"
            ],
            [
             0.4444444444444444,
             "#bd3786"
            ],
            [
             0.5555555555555556,
             "#d8576b"
            ],
            [
             0.6666666666666666,
             "#ed7953"
            ],
            [
             0.7777777777777778,
             "#fb9f3a"
            ],
            [
             0.8888888888888888,
             "#fdca26"
            ],
            [
             1,
             "#f0f921"
            ]
           ]
          },
          "colorway": [
           "#636efa",
           "#EF553B",
           "#00cc96",
           "#ab63fa",
           "#FFA15A",
           "#19d3f3",
           "#FF6692",
           "#B6E880",
           "#FF97FF",
           "#FECB52"
          ],
          "font": {
           "color": "#2a3f5f"
          },
          "geo": {
           "bgcolor": "white",
           "lakecolor": "white",
           "landcolor": "#E5ECF6",
           "showlakes": true,
           "showland": true,
           "subunitcolor": "white"
          },
          "hoverlabel": {
           "align": "left"
          },
          "hovermode": "closest",
          "mapbox": {
           "style": "light"
          },
          "paper_bgcolor": "white",
          "plot_bgcolor": "#E5ECF6",
          "polar": {
           "angularaxis": {
            "gridcolor": "white",
            "linecolor": "white",
            "ticks": ""
           },
           "bgcolor": "#E5ECF6",
           "radialaxis": {
            "gridcolor": "white",
            "linecolor": "white",
            "ticks": ""
           }
          },
          "scene": {
           "xaxis": {
            "backgroundcolor": "#E5ECF6",
            "gridcolor": "white",
            "gridwidth": 2,
            "linecolor": "white",
            "showbackground": true,
            "ticks": "",
            "zerolinecolor": "white"
           },
           "yaxis": {
            "backgroundcolor": "#E5ECF6",
            "gridcolor": "white",
            "gridwidth": 2,
            "linecolor": "white",
            "showbackground": true,
            "ticks": "",
            "zerolinecolor": "white"
           },
           "zaxis": {
            "backgroundcolor": "#E5ECF6",
            "gridcolor": "white",
            "gridwidth": 2,
            "linecolor": "white",
            "showbackground": true,
            "ticks": "",
            "zerolinecolor": "white"
           }
          },
          "shapedefaults": {
           "line": {
            "color": "#2a3f5f"
           }
          },
          "ternary": {
           "aaxis": {
            "gridcolor": "white",
            "linecolor": "white",
            "ticks": ""
           },
           "baxis": {
            "gridcolor": "white",
            "linecolor": "white",
            "ticks": ""
           },
           "bgcolor": "#E5ECF6",
           "caxis": {
            "gridcolor": "white",
            "linecolor": "white",
            "ticks": ""
           }
          },
          "title": {
           "x": 0.05
          },
          "xaxis": {
           "automargin": true,
           "gridcolor": "white",
           "linecolor": "white",
           "ticks": "",
           "title": {
            "standoff": 15
           },
           "zerolinecolor": "white",
           "zerolinewidth": 2
          },
          "yaxis": {
           "automargin": true,
           "gridcolor": "white",
           "linecolor": "white",
           "ticks": "",
           "title": {
            "standoff": 15
           },
           "zerolinecolor": "white",
           "zerolinewidth": 2
          }
         }
        },
        "title": {
         "text": "Cluster 0"
        },
        "width": 950
       }
      }
     },
     "metadata": {},
     "output_type": "display_data"
    }
   ],
   "source": [
    "# Aplicación de escalado MinMax para que se pueda realizar comparaciones entre los perfiles\n",
    "x= ficha_df.loc[indices_mean].reset_index().drop(columns=[\"Grupo Indicadores\",\"Estadístico\" ])\n",
    "x.set_index(\"Indicador\", inplace=True)\n",
    "x =x.T\n",
    "\n",
    "scaler = MinMaxScaler()\n",
    "df_normalized = pd.DataFrame(scaler.fit_transform(x), columns=x.columns)\n",
    "df_normalized_T = df_normalized.T\n",
    "\n",
    "#Reducir variables para el gráfico de radar\n",
    "cols_gra = set(df_normalized_T.index) - set([\"Préstamos - índice\",\"Salud Financiera\",\"Ganáncia Total Generada\",\"Tenencia del cliente\", \"Comportamiento Ahorro\"])\n",
    "df_normalized_T = df_normalized_T.loc[cols_gra]\n",
    "\n",
    "#Generar graficos\n",
    "\n",
    "generar_grafico_radar(df_normalized_T.index, df_normalized_T[df_normalized_T.columns[0]],\"Cluster 0\",\"green\")"
   ]
  },
  {
   "cell_type": "code",
   "execution_count": 140,
   "metadata": {},
   "outputs": [
    {
     "data": {
      "application/vnd.plotly.v1+json": {
       "config": {
        "plotlyServerURL": "https://plot.ly"
       },
       "data": [
        {
         "fill": "toself",
         "line": {
          "color": "blue"
         },
         "r": [
          0.6693087557603686,
          0.9999999999999999,
          1,
          1,
          0.2176,
          0.4358974358974359,
          1,
          0.5807024467245462,
          0.6260382267587312,
          1,
          1,
          0.9690282458715405,
          1,
          0,
          0.9999999999999999
         ],
         "theta": [
          "Productos préstamos (a solas)",
          "Tendencia de compra ultimo mes",
          "Aptitud a Riesgo",
          "Diversificación de Productos",
          "Universitario",
          "Fidelización",
          "Digtitalización - índice",
          "Productos Financiación",
          "Particulares",
          "Productos Inversiones y ahorro",
          "Transaciones",
          "Edad",
          "Top",
          "Meses desde la ultima compra",
          "Productos Cuentas EasyMoney"
         ],
         "type": "scatterpolar"
        }
       ],
       "layout": {
        "font": {
         "color": "black",
         "family": "Arial, sans-serif",
         "size": 18
        },
        "height": 500,
        "margin": {
         "b": 30,
         "l": 30,
         "r": 30,
         "t": 40
        },
        "polar": {
         "angularaxis": {
          "rotation": 0
         },
         "radialaxis": {
          "range": [
           0,
           1
          ],
          "visible": true
         }
        },
        "showlegend": false,
        "template": {
         "data": {
          "bar": [
           {
            "error_x": {
             "color": "#2a3f5f"
            },
            "error_y": {
             "color": "#2a3f5f"
            },
            "marker": {
             "line": {
              "color": "#E5ECF6",
              "width": 0.5
             },
             "pattern": {
              "fillmode": "overlay",
              "size": 10,
              "solidity": 0.2
             }
            },
            "type": "bar"
           }
          ],
          "barpolar": [
           {
            "marker": {
             "line": {
              "color": "#E5ECF6",
              "width": 0.5
             },
             "pattern": {
              "fillmode": "overlay",
              "size": 10,
              "solidity": 0.2
             }
            },
            "type": "barpolar"
           }
          ],
          "carpet": [
           {
            "aaxis": {
             "endlinecolor": "#2a3f5f",
             "gridcolor": "white",
             "linecolor": "white",
             "minorgridcolor": "white",
             "startlinecolor": "#2a3f5f"
            },
            "baxis": {
             "endlinecolor": "#2a3f5f",
             "gridcolor": "white",
             "linecolor": "white",
             "minorgridcolor": "white",
             "startlinecolor": "#2a3f5f"
            },
            "type": "carpet"
           }
          ],
          "choropleth": [
           {
            "colorbar": {
             "outlinewidth": 0,
             "ticks": ""
            },
            "type": "choropleth"
           }
          ],
          "contour": [
           {
            "colorbar": {
             "outlinewidth": 0,
             "ticks": ""
            },
            "colorscale": [
             [
              0,
              "#0d0887"
             ],
             [
              0.1111111111111111,
              "#46039f"
             ],
             [
              0.2222222222222222,
              "#7201a8"
             ],
             [
              0.3333333333333333,
              "#9c179e"
             ],
             [
              0.4444444444444444,
              "#bd3786"
             ],
             [
              0.5555555555555556,
              "#d8576b"
             ],
             [
              0.6666666666666666,
              "#ed7953"
             ],
             [
              0.7777777777777778,
              "#fb9f3a"
             ],
             [
              0.8888888888888888,
              "#fdca26"
             ],
             [
              1,
              "#f0f921"
             ]
            ],
            "type": "contour"
           }
          ],
          "contourcarpet": [
           {
            "colorbar": {
             "outlinewidth": 0,
             "ticks": ""
            },
            "type": "contourcarpet"
           }
          ],
          "heatmap": [
           {
            "colorbar": {
             "outlinewidth": 0,
             "ticks": ""
            },
            "colorscale": [
             [
              0,
              "#0d0887"
             ],
             [
              0.1111111111111111,
              "#46039f"
             ],
             [
              0.2222222222222222,
              "#7201a8"
             ],
             [
              0.3333333333333333,
              "#9c179e"
             ],
             [
              0.4444444444444444,
              "#bd3786"
             ],
             [
              0.5555555555555556,
              "#d8576b"
             ],
             [
              0.6666666666666666,
              "#ed7953"
             ],
             [
              0.7777777777777778,
              "#fb9f3a"
             ],
             [
              0.8888888888888888,
              "#fdca26"
             ],
             [
              1,
              "#f0f921"
             ]
            ],
            "type": "heatmap"
           }
          ],
          "heatmapgl": [
           {
            "colorbar": {
             "outlinewidth": 0,
             "ticks": ""
            },
            "colorscale": [
             [
              0,
              "#0d0887"
             ],
             [
              0.1111111111111111,
              "#46039f"
             ],
             [
              0.2222222222222222,
              "#7201a8"
             ],
             [
              0.3333333333333333,
              "#9c179e"
             ],
             [
              0.4444444444444444,
              "#bd3786"
             ],
             [
              0.5555555555555556,
              "#d8576b"
             ],
             [
              0.6666666666666666,
              "#ed7953"
             ],
             [
              0.7777777777777778,
              "#fb9f3a"
             ],
             [
              0.8888888888888888,
              "#fdca26"
             ],
             [
              1,
              "#f0f921"
             ]
            ],
            "type": "heatmapgl"
           }
          ],
          "histogram": [
           {
            "marker": {
             "pattern": {
              "fillmode": "overlay",
              "size": 10,
              "solidity": 0.2
             }
            },
            "type": "histogram"
           }
          ],
          "histogram2d": [
           {
            "colorbar": {
             "outlinewidth": 0,
             "ticks": ""
            },
            "colorscale": [
             [
              0,
              "#0d0887"
             ],
             [
              0.1111111111111111,
              "#46039f"
             ],
             [
              0.2222222222222222,
              "#7201a8"
             ],
             [
              0.3333333333333333,
              "#9c179e"
             ],
             [
              0.4444444444444444,
              "#bd3786"
             ],
             [
              0.5555555555555556,
              "#d8576b"
             ],
             [
              0.6666666666666666,
              "#ed7953"
             ],
             [
              0.7777777777777778,
              "#fb9f3a"
             ],
             [
              0.8888888888888888,
              "#fdca26"
             ],
             [
              1,
              "#f0f921"
             ]
            ],
            "type": "histogram2d"
           }
          ],
          "histogram2dcontour": [
           {
            "colorbar": {
             "outlinewidth": 0,
             "ticks": ""
            },
            "colorscale": [
             [
              0,
              "#0d0887"
             ],
             [
              0.1111111111111111,
              "#46039f"
             ],
             [
              0.2222222222222222,
              "#7201a8"
             ],
             [
              0.3333333333333333,
              "#9c179e"
             ],
             [
              0.4444444444444444,
              "#bd3786"
             ],
             [
              0.5555555555555556,
              "#d8576b"
             ],
             [
              0.6666666666666666,
              "#ed7953"
             ],
             [
              0.7777777777777778,
              "#fb9f3a"
             ],
             [
              0.8888888888888888,
              "#fdca26"
             ],
             [
              1,
              "#f0f921"
             ]
            ],
            "type": "histogram2dcontour"
           }
          ],
          "mesh3d": [
           {
            "colorbar": {
             "outlinewidth": 0,
             "ticks": ""
            },
            "type": "mesh3d"
           }
          ],
          "parcoords": [
           {
            "line": {
             "colorbar": {
              "outlinewidth": 0,
              "ticks": ""
             }
            },
            "type": "parcoords"
           }
          ],
          "pie": [
           {
            "automargin": true,
            "type": "pie"
           }
          ],
          "scatter": [
           {
            "fillpattern": {
             "fillmode": "overlay",
             "size": 10,
             "solidity": 0.2
            },
            "type": "scatter"
           }
          ],
          "scatter3d": [
           {
            "line": {
             "colorbar": {
              "outlinewidth": 0,
              "ticks": ""
             }
            },
            "marker": {
             "colorbar": {
              "outlinewidth": 0,
              "ticks": ""
             }
            },
            "type": "scatter3d"
           }
          ],
          "scattercarpet": [
           {
            "marker": {
             "colorbar": {
              "outlinewidth": 0,
              "ticks": ""
             }
            },
            "type": "scattercarpet"
           }
          ],
          "scattergeo": [
           {
            "marker": {
             "colorbar": {
              "outlinewidth": 0,
              "ticks": ""
             }
            },
            "type": "scattergeo"
           }
          ],
          "scattergl": [
           {
            "marker": {
             "colorbar": {
              "outlinewidth": 0,
              "ticks": ""
             }
            },
            "type": "scattergl"
           }
          ],
          "scattermapbox": [
           {
            "marker": {
             "colorbar": {
              "outlinewidth": 0,
              "ticks": ""
             }
            },
            "type": "scattermapbox"
           }
          ],
          "scatterpolar": [
           {
            "marker": {
             "colorbar": {
              "outlinewidth": 0,
              "ticks": ""
             }
            },
            "type": "scatterpolar"
           }
          ],
          "scatterpolargl": [
           {
            "marker": {
             "colorbar": {
              "outlinewidth": 0,
              "ticks": ""
             }
            },
            "type": "scatterpolargl"
           }
          ],
          "scatterternary": [
           {
            "marker": {
             "colorbar": {
              "outlinewidth": 0,
              "ticks": ""
             }
            },
            "type": "scatterternary"
           }
          ],
          "surface": [
           {
            "colorbar": {
             "outlinewidth": 0,
             "ticks": ""
            },
            "colorscale": [
             [
              0,
              "#0d0887"
             ],
             [
              0.1111111111111111,
              "#46039f"
             ],
             [
              0.2222222222222222,
              "#7201a8"
             ],
             [
              0.3333333333333333,
              "#9c179e"
             ],
             [
              0.4444444444444444,
              "#bd3786"
             ],
             [
              0.5555555555555556,
              "#d8576b"
             ],
             [
              0.6666666666666666,
              "#ed7953"
             ],
             [
              0.7777777777777778,
              "#fb9f3a"
             ],
             [
              0.8888888888888888,
              "#fdca26"
             ],
             [
              1,
              "#f0f921"
             ]
            ],
            "type": "surface"
           }
          ],
          "table": [
           {
            "cells": {
             "fill": {
              "color": "#EBF0F8"
             },
             "line": {
              "color": "white"
             }
            },
            "header": {
             "fill": {
              "color": "#C8D4E3"
             },
             "line": {
              "color": "white"
             }
            },
            "type": "table"
           }
          ]
         },
         "layout": {
          "annotationdefaults": {
           "arrowcolor": "#2a3f5f",
           "arrowhead": 0,
           "arrowwidth": 1
          },
          "autotypenumbers": "strict",
          "coloraxis": {
           "colorbar": {
            "outlinewidth": 0,
            "ticks": ""
           }
          },
          "colorscale": {
           "diverging": [
            [
             0,
             "#8e0152"
            ],
            [
             0.1,
             "#c51b7d"
            ],
            [
             0.2,
             "#de77ae"
            ],
            [
             0.3,
             "#f1b6da"
            ],
            [
             0.4,
             "#fde0ef"
            ],
            [
             0.5,
             "#f7f7f7"
            ],
            [
             0.6,
             "#e6f5d0"
            ],
            [
             0.7,
             "#b8e186"
            ],
            [
             0.8,
             "#7fbc41"
            ],
            [
             0.9,
             "#4d9221"
            ],
            [
             1,
             "#276419"
            ]
           ],
           "sequential": [
            [
             0,
             "#0d0887"
            ],
            [
             0.1111111111111111,
             "#46039f"
            ],
            [
             0.2222222222222222,
             "#7201a8"
            ],
            [
             0.3333333333333333,
             "#9c179e"
            ],
            [
             0.4444444444444444,
             "#bd3786"
            ],
            [
             0.5555555555555556,
             "#d8576b"
            ],
            [
             0.6666666666666666,
             "#ed7953"
            ],
            [
             0.7777777777777778,
             "#fb9f3a"
            ],
            [
             0.8888888888888888,
             "#fdca26"
            ],
            [
             1,
             "#f0f921"
            ]
           ],
           "sequentialminus": [
            [
             0,
             "#0d0887"
            ],
            [
             0.1111111111111111,
             "#46039f"
            ],
            [
             0.2222222222222222,
             "#7201a8"
            ],
            [
             0.3333333333333333,
             "#9c179e"
            ],
            [
             0.4444444444444444,
             "#bd3786"
            ],
            [
             0.5555555555555556,
             "#d8576b"
            ],
            [
             0.6666666666666666,
             "#ed7953"
            ],
            [
             0.7777777777777778,
             "#fb9f3a"
            ],
            [
             0.8888888888888888,
             "#fdca26"
            ],
            [
             1,
             "#f0f921"
            ]
           ]
          },
          "colorway": [
           "#636efa",
           "#EF553B",
           "#00cc96",
           "#ab63fa",
           "#FFA15A",
           "#19d3f3",
           "#FF6692",
           "#B6E880",
           "#FF97FF",
           "#FECB52"
          ],
          "font": {
           "color": "#2a3f5f"
          },
          "geo": {
           "bgcolor": "white",
           "lakecolor": "white",
           "landcolor": "#E5ECF6",
           "showlakes": true,
           "showland": true,
           "subunitcolor": "white"
          },
          "hoverlabel": {
           "align": "left"
          },
          "hovermode": "closest",
          "mapbox": {
           "style": "light"
          },
          "paper_bgcolor": "white",
          "plot_bgcolor": "#E5ECF6",
          "polar": {
           "angularaxis": {
            "gridcolor": "white",
            "linecolor": "white",
            "ticks": ""
           },
           "bgcolor": "#E5ECF6",
           "radialaxis": {
            "gridcolor": "white",
            "linecolor": "white",
            "ticks": ""
           }
          },
          "scene": {
           "xaxis": {
            "backgroundcolor": "#E5ECF6",
            "gridcolor": "white",
            "gridwidth": 2,
            "linecolor": "white",
            "showbackground": true,
            "ticks": "",
            "zerolinecolor": "white"
           },
           "yaxis": {
            "backgroundcolor": "#E5ECF6",
            "gridcolor": "white",
            "gridwidth": 2,
            "linecolor": "white",
            "showbackground": true,
            "ticks": "",
            "zerolinecolor": "white"
           },
           "zaxis": {
            "backgroundcolor": "#E5ECF6",
            "gridcolor": "white",
            "gridwidth": 2,
            "linecolor": "white",
            "showbackground": true,
            "ticks": "",
            "zerolinecolor": "white"
           }
          },
          "shapedefaults": {
           "line": {
            "color": "#2a3f5f"
           }
          },
          "ternary": {
           "aaxis": {
            "gridcolor": "white",
            "linecolor": "white",
            "ticks": ""
           },
           "baxis": {
            "gridcolor": "white",
            "linecolor": "white",
            "ticks": ""
           },
           "bgcolor": "#E5ECF6",
           "caxis": {
            "gridcolor": "white",
            "linecolor": "white",
            "ticks": ""
           }
          },
          "title": {
           "x": 0.05
          },
          "xaxis": {
           "automargin": true,
           "gridcolor": "white",
           "linecolor": "white",
           "ticks": "",
           "title": {
            "standoff": 15
           },
           "zerolinecolor": "white",
           "zerolinewidth": 2
          },
          "yaxis": {
           "automargin": true,
           "gridcolor": "white",
           "linecolor": "white",
           "ticks": "",
           "title": {
            "standoff": 15
           },
           "zerolinecolor": "white",
           "zerolinewidth": 2
          }
         }
        },
        "title": {
         "text": "Cluster 1"
        },
        "width": 950
       }
      }
     },
     "metadata": {},
     "output_type": "display_data"
    }
   ],
   "source": [
    "generar_grafico_radar(df_normalized_T.index, df_normalized_T[df_normalized_T.columns[1]],\"Cluster 1\",\"blue\")"
   ]
  },
  {
   "cell_type": "code",
   "execution_count": 141,
   "metadata": {},
   "outputs": [
    {
     "data": {
      "application/vnd.plotly.v1+json": {
       "config": {
        "plotlyServerURL": "https://plot.ly"
       },
       "data": [
        {
         "fill": "toself",
         "line": {
          "color": "seagreen"
         },
         "r": [
          0.014377880184331795,
          0.10641247833622185,
          0,
          0,
          0,
          0.2516175413371675,
          0.018332097064745152,
          0.00009865824782951855,
          1,
          0,
          0.03963589297460163,
          0.9740401875898186,
          0.004464285714285714,
          0.4281319464635759,
          0
         ],
         "theta": [
          "Productos préstamos (a solas)",
          "Tendencia de compra ultimo mes",
          "Aptitud a Riesgo",
          "Diversificación de Productos",
          "Universitario",
          "Fidelización",
          "Digtitalización - índice",
          "Productos Financiación",
          "Particulares",
          "Productos Inversiones y ahorro",
          "Transaciones",
          "Edad",
          "Top",
          "Meses desde la ultima compra",
          "Productos Cuentas EasyMoney"
         ],
         "type": "scatterpolar"
        }
       ],
       "layout": {
        "font": {
         "color": "black",
         "family": "Arial, sans-serif",
         "size": 18
        },
        "height": 500,
        "margin": {
         "b": 30,
         "l": 30,
         "r": 30,
         "t": 40
        },
        "polar": {
         "angularaxis": {
          "rotation": 0
         },
         "radialaxis": {
          "range": [
           0,
           1
          ],
          "visible": true
         }
        },
        "showlegend": false,
        "template": {
         "data": {
          "bar": [
           {
            "error_x": {
             "color": "#2a3f5f"
            },
            "error_y": {
             "color": "#2a3f5f"
            },
            "marker": {
             "line": {
              "color": "#E5ECF6",
              "width": 0.5
             },
             "pattern": {
              "fillmode": "overlay",
              "size": 10,
              "solidity": 0.2
             }
            },
            "type": "bar"
           }
          ],
          "barpolar": [
           {
            "marker": {
             "line": {
              "color": "#E5ECF6",
              "width": 0.5
             },
             "pattern": {
              "fillmode": "overlay",
              "size": 10,
              "solidity": 0.2
             }
            },
            "type": "barpolar"
           }
          ],
          "carpet": [
           {
            "aaxis": {
             "endlinecolor": "#2a3f5f",
             "gridcolor": "white",
             "linecolor": "white",
             "minorgridcolor": "white",
             "startlinecolor": "#2a3f5f"
            },
            "baxis": {
             "endlinecolor": "#2a3f5f",
             "gridcolor": "white",
             "linecolor": "white",
             "minorgridcolor": "white",
             "startlinecolor": "#2a3f5f"
            },
            "type": "carpet"
           }
          ],
          "choropleth": [
           {
            "colorbar": {
             "outlinewidth": 0,
             "ticks": ""
            },
            "type": "choropleth"
           }
          ],
          "contour": [
           {
            "colorbar": {
             "outlinewidth": 0,
             "ticks": ""
            },
            "colorscale": [
             [
              0,
              "#0d0887"
             ],
             [
              0.1111111111111111,
              "#46039f"
             ],
             [
              0.2222222222222222,
              "#7201a8"
             ],
             [
              0.3333333333333333,
              "#9c179e"
             ],
             [
              0.4444444444444444,
              "#bd3786"
             ],
             [
              0.5555555555555556,
              "#d8576b"
             ],
             [
              0.6666666666666666,
              "#ed7953"
             ],
             [
              0.7777777777777778,
              "#fb9f3a"
             ],
             [
              0.8888888888888888,
              "#fdca26"
             ],
             [
              1,
              "#f0f921"
             ]
            ],
            "type": "contour"
           }
          ],
          "contourcarpet": [
           {
            "colorbar": {
             "outlinewidth": 0,
             "ticks": ""
            },
            "type": "contourcarpet"
           }
          ],
          "heatmap": [
           {
            "colorbar": {
             "outlinewidth": 0,
             "ticks": ""
            },
            "colorscale": [
             [
              0,
              "#0d0887"
             ],
             [
              0.1111111111111111,
              "#46039f"
             ],
             [
              0.2222222222222222,
              "#7201a8"
             ],
             [
              0.3333333333333333,
              "#9c179e"
             ],
             [
              0.4444444444444444,
              "#bd3786"
             ],
             [
              0.5555555555555556,
              "#d8576b"
             ],
             [
              0.6666666666666666,
              "#ed7953"
             ],
             [
              0.7777777777777778,
              "#fb9f3a"
             ],
             [
              0.8888888888888888,
              "#fdca26"
             ],
             [
              1,
              "#f0f921"
             ]
            ],
            "type": "heatmap"
           }
          ],
          "heatmapgl": [
           {
            "colorbar": {
             "outlinewidth": 0,
             "ticks": ""
            },
            "colorscale": [
             [
              0,
              "#0d0887"
             ],
             [
              0.1111111111111111,
              "#46039f"
             ],
             [
              0.2222222222222222,
              "#7201a8"
             ],
             [
              0.3333333333333333,
              "#9c179e"
             ],
             [
              0.4444444444444444,
              "#bd3786"
             ],
             [
              0.5555555555555556,
              "#d8576b"
             ],
             [
              0.6666666666666666,
              "#ed7953"
             ],
             [
              0.7777777777777778,
              "#fb9f3a"
             ],
             [
              0.8888888888888888,
              "#fdca26"
             ],
             [
              1,
              "#f0f921"
             ]
            ],
            "type": "heatmapgl"
           }
          ],
          "histogram": [
           {
            "marker": {
             "pattern": {
              "fillmode": "overlay",
              "size": 10,
              "solidity": 0.2
             }
            },
            "type": "histogram"
           }
          ],
          "histogram2d": [
           {
            "colorbar": {
             "outlinewidth": 0,
             "ticks": ""
            },
            "colorscale": [
             [
              0,
              "#0d0887"
             ],
             [
              0.1111111111111111,
              "#46039f"
             ],
             [
              0.2222222222222222,
              "#7201a8"
             ],
             [
              0.3333333333333333,
              "#9c179e"
             ],
             [
              0.4444444444444444,
              "#bd3786"
             ],
             [
              0.5555555555555556,
              "#d8576b"
             ],
             [
              0.6666666666666666,
              "#ed7953"
             ],
             [
              0.7777777777777778,
              "#fb9f3a"
             ],
             [
              0.8888888888888888,
              "#fdca26"
             ],
             [
              1,
              "#f0f921"
             ]
            ],
            "type": "histogram2d"
           }
          ],
          "histogram2dcontour": [
           {
            "colorbar": {
             "outlinewidth": 0,
             "ticks": ""
            },
            "colorscale": [
             [
              0,
              "#0d0887"
             ],
             [
              0.1111111111111111,
              "#46039f"
             ],
             [
              0.2222222222222222,
              "#7201a8"
             ],
             [
              0.3333333333333333,
              "#9c179e"
             ],
             [
              0.4444444444444444,
              "#bd3786"
             ],
             [
              0.5555555555555556,
              "#d8576b"
             ],
             [
              0.6666666666666666,
              "#ed7953"
             ],
             [
              0.7777777777777778,
              "#fb9f3a"
             ],
             [
              0.8888888888888888,
              "#fdca26"
             ],
             [
              1,
              "#f0f921"
             ]
            ],
            "type": "histogram2dcontour"
           }
          ],
          "mesh3d": [
           {
            "colorbar": {
             "outlinewidth": 0,
             "ticks": ""
            },
            "type": "mesh3d"
           }
          ],
          "parcoords": [
           {
            "line": {
             "colorbar": {
              "outlinewidth": 0,
              "ticks": ""
             }
            },
            "type": "parcoords"
           }
          ],
          "pie": [
           {
            "automargin": true,
            "type": "pie"
           }
          ],
          "scatter": [
           {
            "fillpattern": {
             "fillmode": "overlay",
             "size": 10,
             "solidity": 0.2
            },
            "type": "scatter"
           }
          ],
          "scatter3d": [
           {
            "line": {
             "colorbar": {
              "outlinewidth": 0,
              "ticks": ""
             }
            },
            "marker": {
             "colorbar": {
              "outlinewidth": 0,
              "ticks": ""
             }
            },
            "type": "scatter3d"
           }
          ],
          "scattercarpet": [
           {
            "marker": {
             "colorbar": {
              "outlinewidth": 0,
              "ticks": ""
             }
            },
            "type": "scattercarpet"
           }
          ],
          "scattergeo": [
           {
            "marker": {
             "colorbar": {
              "outlinewidth": 0,
              "ticks": ""
             }
            },
            "type": "scattergeo"
           }
          ],
          "scattergl": [
           {
            "marker": {
             "colorbar": {
              "outlinewidth": 0,
              "ticks": ""
             }
            },
            "type": "scattergl"
           }
          ],
          "scattermapbox": [
           {
            "marker": {
             "colorbar": {
              "outlinewidth": 0,
              "ticks": ""
             }
            },
            "type": "scattermapbox"
           }
          ],
          "scatterpolar": [
           {
            "marker": {
             "colorbar": {
              "outlinewidth": 0,
              "ticks": ""
             }
            },
            "type": "scatterpolar"
           }
          ],
          "scatterpolargl": [
           {
            "marker": {
             "colorbar": {
              "outlinewidth": 0,
              "ticks": ""
             }
            },
            "type": "scatterpolargl"
           }
          ],
          "scatterternary": [
           {
            "marker": {
             "colorbar": {
              "outlinewidth": 0,
              "ticks": ""
             }
            },
            "type": "scatterternary"
           }
          ],
          "surface": [
           {
            "colorbar": {
             "outlinewidth": 0,
             "ticks": ""
            },
            "colorscale": [
             [
              0,
              "#0d0887"
             ],
             [
              0.1111111111111111,
              "#46039f"
             ],
             [
              0.2222222222222222,
              "#7201a8"
             ],
             [
              0.3333333333333333,
              "#9c179e"
             ],
             [
              0.4444444444444444,
              "#bd3786"
             ],
             [
              0.5555555555555556,
              "#d8576b"
             ],
             [
              0.6666666666666666,
              "#ed7953"
             ],
             [
              0.7777777777777778,
              "#fb9f3a"
             ],
             [
              0.8888888888888888,
              "#fdca26"
             ],
             [
              1,
              "#f0f921"
             ]
            ],
            "type": "surface"
           }
          ],
          "table": [
           {
            "cells": {
             "fill": {
              "color": "#EBF0F8"
             },
             "line": {
              "color": "white"
             }
            },
            "header": {
             "fill": {
              "color": "#C8D4E3"
             },
             "line": {
              "color": "white"
             }
            },
            "type": "table"
           }
          ]
         },
         "layout": {
          "annotationdefaults": {
           "arrowcolor": "#2a3f5f",
           "arrowhead": 0,
           "arrowwidth": 1
          },
          "autotypenumbers": "strict",
          "coloraxis": {
           "colorbar": {
            "outlinewidth": 0,
            "ticks": ""
           }
          },
          "colorscale": {
           "diverging": [
            [
             0,
             "#8e0152"
            ],
            [
             0.1,
             "#c51b7d"
            ],
            [
             0.2,
             "#de77ae"
            ],
            [
             0.3,
             "#f1b6da"
            ],
            [
             0.4,
             "#fde0ef"
            ],
            [
             0.5,
             "#f7f7f7"
            ],
            [
             0.6,
             "#e6f5d0"
            ],
            [
             0.7,
             "#b8e186"
            ],
            [
             0.8,
             "#7fbc41"
            ],
            [
             0.9,
             "#4d9221"
            ],
            [
             1,
             "#276419"
            ]
           ],
           "sequential": [
            [
             0,
             "#0d0887"
            ],
            [
             0.1111111111111111,
             "#46039f"
            ],
            [
             0.2222222222222222,
             "#7201a8"
            ],
            [
             0.3333333333333333,
             "#9c179e"
            ],
            [
             0.4444444444444444,
             "#bd3786"
            ],
            [
             0.5555555555555556,
             "#d8576b"
            ],
            [
             0.6666666666666666,
             "#ed7953"
            ],
            [
             0.7777777777777778,
             "#fb9f3a"
            ],
            [
             0.8888888888888888,
             "#fdca26"
            ],
            [
             1,
             "#f0f921"
            ]
           ],
           "sequentialminus": [
            [
             0,
             "#0d0887"
            ],
            [
             0.1111111111111111,
             "#46039f"
            ],
            [
             0.2222222222222222,
             "#7201a8"
            ],
            [
             0.3333333333333333,
             "#9c179e"
            ],
            [
             0.4444444444444444,
             "#bd3786"
            ],
            [
             0.5555555555555556,
             "#d8576b"
            ],
            [
             0.6666666666666666,
             "#ed7953"
            ],
            [
             0.7777777777777778,
             "#fb9f3a"
            ],
            [
             0.8888888888888888,
             "#fdca26"
            ],
            [
             1,
             "#f0f921"
            ]
           ]
          },
          "colorway": [
           "#636efa",
           "#EF553B",
           "#00cc96",
           "#ab63fa",
           "#FFA15A",
           "#19d3f3",
           "#FF6692",
           "#B6E880",
           "#FF97FF",
           "#FECB52"
          ],
          "font": {
           "color": "#2a3f5f"
          },
          "geo": {
           "bgcolor": "white",
           "lakecolor": "white",
           "landcolor": "#E5ECF6",
           "showlakes": true,
           "showland": true,
           "subunitcolor": "white"
          },
          "hoverlabel": {
           "align": "left"
          },
          "hovermode": "closest",
          "mapbox": {
           "style": "light"
          },
          "paper_bgcolor": "white",
          "plot_bgcolor": "#E5ECF6",
          "polar": {
           "angularaxis": {
            "gridcolor": "white",
            "linecolor": "white",
            "ticks": ""
           },
           "bgcolor": "#E5ECF6",
           "radialaxis": {
            "gridcolor": "white",
            "linecolor": "white",
            "ticks": ""
           }
          },
          "scene": {
           "xaxis": {
            "backgroundcolor": "#E5ECF6",
            "gridcolor": "white",
            "gridwidth": 2,
            "linecolor": "white",
            "showbackground": true,
            "ticks": "",
            "zerolinecolor": "white"
           },
           "yaxis": {
            "backgroundcolor": "#E5ECF6",
            "gridcolor": "white",
            "gridwidth": 2,
            "linecolor": "white",
            "showbackground": true,
            "ticks": "",
            "zerolinecolor": "white"
           },
           "zaxis": {
            "backgroundcolor": "#E5ECF6",
            "gridcolor": "white",
            "gridwidth": 2,
            "linecolor": "white",
            "showbackground": true,
            "ticks": "",
            "zerolinecolor": "white"
           }
          },
          "shapedefaults": {
           "line": {
            "color": "#2a3f5f"
           }
          },
          "ternary": {
           "aaxis": {
            "gridcolor": "white",
            "linecolor": "white",
            "ticks": ""
           },
           "baxis": {
            "gridcolor": "white",
            "linecolor": "white",
            "ticks": ""
           },
           "bgcolor": "#E5ECF6",
           "caxis": {
            "gridcolor": "white",
            "linecolor": "white",
            "ticks": ""
           }
          },
          "title": {
           "x": 0.05
          },
          "xaxis": {
           "automargin": true,
           "gridcolor": "white",
           "linecolor": "white",
           "ticks": "",
           "title": {
            "standoff": 15
           },
           "zerolinecolor": "white",
           "zerolinewidth": 2
          },
          "yaxis": {
           "automargin": true,
           "gridcolor": "white",
           "linecolor": "white",
           "ticks": "",
           "title": {
            "standoff": 15
           },
           "zerolinecolor": "white",
           "zerolinewidth": 2
          }
         }
        },
        "title": {
         "text": "Cluster 2"
        },
        "width": 950
       }
      }
     },
     "metadata": {},
     "output_type": "display_data"
    }
   ],
   "source": [
    "generar_grafico_radar(df_normalized_T.index, df_normalized_T[df_normalized_T.columns[2]],\"Cluster 2\",\"seagreen\")"
   ]
  },
  {
   "cell_type": "code",
   "execution_count": 142,
   "metadata": {},
   "outputs": [
    {
     "data": {
      "application/vnd.plotly.v1+json": {
       "config": {
        "plotlyServerURL": "https://plot.ly"
       },
       "data": [
        {
         "fill": "toself",
         "line": {
          "color": "red"
         },
         "r": [
          1,
          0.35112651646447146,
          0.7556853745044858,
          0.601980198019802,
          0.1767,
          1,
          0.9972448871463389,
          1,
          0.8118683078154709,
          0.001135610864010599,
          0.7632243417004393,
          0.8149826372019044,
          0.07653061224489796,
          0.045339010870482754,
          0.5112593317831353
         ],
         "theta": [
          "Productos préstamos (a solas)",
          "Tendencia de compra ultimo mes",
          "Aptitud a Riesgo",
          "Diversificación de Productos",
          "Universitario",
          "Fidelización",
          "Digtitalización - índice",
          "Productos Financiación",
          "Particulares",
          "Productos Inversiones y ahorro",
          "Transaciones",
          "Edad",
          "Top",
          "Meses desde la ultima compra",
          "Productos Cuentas EasyMoney"
         ],
         "type": "scatterpolar"
        }
       ],
       "layout": {
        "font": {
         "color": "black",
         "family": "Arial, sans-serif",
         "size": 18
        },
        "height": 500,
        "margin": {
         "b": 30,
         "l": 30,
         "r": 30,
         "t": 40
        },
        "polar": {
         "angularaxis": {
          "rotation": 0
         },
         "radialaxis": {
          "range": [
           0,
           1
          ],
          "visible": true
         }
        },
        "showlegend": false,
        "template": {
         "data": {
          "bar": [
           {
            "error_x": {
             "color": "#2a3f5f"
            },
            "error_y": {
             "color": "#2a3f5f"
            },
            "marker": {
             "line": {
              "color": "#E5ECF6",
              "width": 0.5
             },
             "pattern": {
              "fillmode": "overlay",
              "size": 10,
              "solidity": 0.2
             }
            },
            "type": "bar"
           }
          ],
          "barpolar": [
           {
            "marker": {
             "line": {
              "color": "#E5ECF6",
              "width": 0.5
             },
             "pattern": {
              "fillmode": "overlay",
              "size": 10,
              "solidity": 0.2
             }
            },
            "type": "barpolar"
           }
          ],
          "carpet": [
           {
            "aaxis": {
             "endlinecolor": "#2a3f5f",
             "gridcolor": "white",
             "linecolor": "white",
             "minorgridcolor": "white",
             "startlinecolor": "#2a3f5f"
            },
            "baxis": {
             "endlinecolor": "#2a3f5f",
             "gridcolor": "white",
             "linecolor": "white",
             "minorgridcolor": "white",
             "startlinecolor": "#2a3f5f"
            },
            "type": "carpet"
           }
          ],
          "choropleth": [
           {
            "colorbar": {
             "outlinewidth": 0,
             "ticks": ""
            },
            "type": "choropleth"
           }
          ],
          "contour": [
           {
            "colorbar": {
             "outlinewidth": 0,
             "ticks": ""
            },
            "colorscale": [
             [
              0,
              "#0d0887"
             ],
             [
              0.1111111111111111,
              "#46039f"
             ],
             [
              0.2222222222222222,
              "#7201a8"
             ],
             [
              0.3333333333333333,
              "#9c179e"
             ],
             [
              0.4444444444444444,
              "#bd3786"
             ],
             [
              0.5555555555555556,
              "#d8576b"
             ],
             [
              0.6666666666666666,
              "#ed7953"
             ],
             [
              0.7777777777777778,
              "#fb9f3a"
             ],
             [
              0.8888888888888888,
              "#fdca26"
             ],
             [
              1,
              "#f0f921"
             ]
            ],
            "type": "contour"
           }
          ],
          "contourcarpet": [
           {
            "colorbar": {
             "outlinewidth": 0,
             "ticks": ""
            },
            "type": "contourcarpet"
           }
          ],
          "heatmap": [
           {
            "colorbar": {
             "outlinewidth": 0,
             "ticks": ""
            },
            "colorscale": [
             [
              0,
              "#0d0887"
             ],
             [
              0.1111111111111111,
              "#46039f"
             ],
             [
              0.2222222222222222,
              "#7201a8"
             ],
             [
              0.3333333333333333,
              "#9c179e"
             ],
             [
              0.4444444444444444,
              "#bd3786"
             ],
             [
              0.5555555555555556,
              "#d8576b"
             ],
             [
              0.6666666666666666,
              "#ed7953"
             ],
             [
              0.7777777777777778,
              "#fb9f3a"
             ],
             [
              0.8888888888888888,
              "#fdca26"
             ],
             [
              1,
              "#f0f921"
             ]
            ],
            "type": "heatmap"
           }
          ],
          "heatmapgl": [
           {
            "colorbar": {
             "outlinewidth": 0,
             "ticks": ""
            },
            "colorscale": [
             [
              0,
              "#0d0887"
             ],
             [
              0.1111111111111111,
              "#46039f"
             ],
             [
              0.2222222222222222,
              "#7201a8"
             ],
             [
              0.3333333333333333,
              "#9c179e"
             ],
             [
              0.4444444444444444,
              "#bd3786"
             ],
             [
              0.5555555555555556,
              "#d8576b"
             ],
             [
              0.6666666666666666,
              "#ed7953"
             ],
             [
              0.7777777777777778,
              "#fb9f3a"
             ],
             [
              0.8888888888888888,
              "#fdca26"
             ],
             [
              1,
              "#f0f921"
             ]
            ],
            "type": "heatmapgl"
           }
          ],
          "histogram": [
           {
            "marker": {
             "pattern": {
              "fillmode": "overlay",
              "size": 10,
              "solidity": 0.2
             }
            },
            "type": "histogram"
           }
          ],
          "histogram2d": [
           {
            "colorbar": {
             "outlinewidth": 0,
             "ticks": ""
            },
            "colorscale": [
             [
              0,
              "#0d0887"
             ],
             [
              0.1111111111111111,
              "#46039f"
             ],
             [
              0.2222222222222222,
              "#7201a8"
             ],
             [
              0.3333333333333333,
              "#9c179e"
             ],
             [
              0.4444444444444444,
              "#bd3786"
             ],
             [
              0.5555555555555556,
              "#d8576b"
             ],
             [
              0.6666666666666666,
              "#ed7953"
             ],
             [
              0.7777777777777778,
              "#fb9f3a"
             ],
             [
              0.8888888888888888,
              "#fdca26"
             ],
             [
              1,
              "#f0f921"
             ]
            ],
            "type": "histogram2d"
           }
          ],
          "histogram2dcontour": [
           {
            "colorbar": {
             "outlinewidth": 0,
             "ticks": ""
            },
            "colorscale": [
             [
              0,
              "#0d0887"
             ],
             [
              0.1111111111111111,
              "#46039f"
             ],
             [
              0.2222222222222222,
              "#7201a8"
             ],
             [
              0.3333333333333333,
              "#9c179e"
             ],
             [
              0.4444444444444444,
              "#bd3786"
             ],
             [
              0.5555555555555556,
              "#d8576b"
             ],
             [
              0.6666666666666666,
              "#ed7953"
             ],
             [
              0.7777777777777778,
              "#fb9f3a"
             ],
             [
              0.8888888888888888,
              "#fdca26"
             ],
             [
              1,
              "#f0f921"
             ]
            ],
            "type": "histogram2dcontour"
           }
          ],
          "mesh3d": [
           {
            "colorbar": {
             "outlinewidth": 0,
             "ticks": ""
            },
            "type": "mesh3d"
           }
          ],
          "parcoords": [
           {
            "line": {
             "colorbar": {
              "outlinewidth": 0,
              "ticks": ""
             }
            },
            "type": "parcoords"
           }
          ],
          "pie": [
           {
            "automargin": true,
            "type": "pie"
           }
          ],
          "scatter": [
           {
            "fillpattern": {
             "fillmode": "overlay",
             "size": 10,
             "solidity": 0.2
            },
            "type": "scatter"
           }
          ],
          "scatter3d": [
           {
            "line": {
             "colorbar": {
              "outlinewidth": 0,
              "ticks": ""
             }
            },
            "marker": {
             "colorbar": {
              "outlinewidth": 0,
              "ticks": ""
             }
            },
            "type": "scatter3d"
           }
          ],
          "scattercarpet": [
           {
            "marker": {
             "colorbar": {
              "outlinewidth": 0,
              "ticks": ""
             }
            },
            "type": "scattercarpet"
           }
          ],
          "scattergeo": [
           {
            "marker": {
             "colorbar": {
              "outlinewidth": 0,
              "ticks": ""
             }
            },
            "type": "scattergeo"
           }
          ],
          "scattergl": [
           {
            "marker": {
             "colorbar": {
              "outlinewidth": 0,
              "ticks": ""
             }
            },
            "type": "scattergl"
           }
          ],
          "scattermapbox": [
           {
            "marker": {
             "colorbar": {
              "outlinewidth": 0,
              "ticks": ""
             }
            },
            "type": "scattermapbox"
           }
          ],
          "scatterpolar": [
           {
            "marker": {
             "colorbar": {
              "outlinewidth": 0,
              "ticks": ""
             }
            },
            "type": "scatterpolar"
           }
          ],
          "scatterpolargl": [
           {
            "marker": {
             "colorbar": {
              "outlinewidth": 0,
              "ticks": ""
             }
            },
            "type": "scatterpolargl"
           }
          ],
          "scatterternary": [
           {
            "marker": {
             "colorbar": {
              "outlinewidth": 0,
              "ticks": ""
             }
            },
            "type": "scatterternary"
           }
          ],
          "surface": [
           {
            "colorbar": {
             "outlinewidth": 0,
             "ticks": ""
            },
            "colorscale": [
             [
              0,
              "#0d0887"
             ],
             [
              0.1111111111111111,
              "#46039f"
             ],
             [
              0.2222222222222222,
              "#7201a8"
             ],
             [
              0.3333333333333333,
              "#9c179e"
             ],
             [
              0.4444444444444444,
              "#bd3786"
             ],
             [
              0.5555555555555556,
              "#d8576b"
             ],
             [
              0.6666666666666666,
              "#ed7953"
             ],
             [
              0.7777777777777778,
              "#fb9f3a"
             ],
             [
              0.8888888888888888,
              "#fdca26"
             ],
             [
              1,
              "#f0f921"
             ]
            ],
            "type": "surface"
           }
          ],
          "table": [
           {
            "cells": {
             "fill": {
              "color": "#EBF0F8"
             },
             "line": {
              "color": "white"
             }
            },
            "header": {
             "fill": {
              "color": "#C8D4E3"
             },
             "line": {
              "color": "white"
             }
            },
            "type": "table"
           }
          ]
         },
         "layout": {
          "annotationdefaults": {
           "arrowcolor": "#2a3f5f",
           "arrowhead": 0,
           "arrowwidth": 1
          },
          "autotypenumbers": "strict",
          "coloraxis": {
           "colorbar": {
            "outlinewidth": 0,
            "ticks": ""
           }
          },
          "colorscale": {
           "diverging": [
            [
             0,
             "#8e0152"
            ],
            [
             0.1,
             "#c51b7d"
            ],
            [
             0.2,
             "#de77ae"
            ],
            [
             0.3,
             "#f1b6da"
            ],
            [
             0.4,
             "#fde0ef"
            ],
            [
             0.5,
             "#f7f7f7"
            ],
            [
             0.6,
             "#e6f5d0"
            ],
            [
             0.7,
             "#b8e186"
            ],
            [
             0.8,
             "#7fbc41"
            ],
            [
             0.9,
             "#4d9221"
            ],
            [
             1,
             "#276419"
            ]
           ],
           "sequential": [
            [
             0,
             "#0d0887"
            ],
            [
             0.1111111111111111,
             "#46039f"
            ],
            [
             0.2222222222222222,
             "#7201a8"
            ],
            [
             0.3333333333333333,
             "#9c179e"
            ],
            [
             0.4444444444444444,
             "#bd3786"
            ],
            [
             0.5555555555555556,
             "#d8576b"
            ],
            [
             0.6666666666666666,
             "#ed7953"
            ],
            [
             0.7777777777777778,
             "#fb9f3a"
            ],
            [
             0.8888888888888888,
             "#fdca26"
            ],
            [
             1,
             "#f0f921"
            ]
           ],
           "sequentialminus": [
            [
             0,
             "#0d0887"
            ],
            [
             0.1111111111111111,
             "#46039f"
            ],
            [
             0.2222222222222222,
             "#7201a8"
            ],
            [
             0.3333333333333333,
             "#9c179e"
            ],
            [
             0.4444444444444444,
             "#bd3786"
            ],
            [
             0.5555555555555556,
             "#d8576b"
            ],
            [
             0.6666666666666666,
             "#ed7953"
            ],
            [
             0.7777777777777778,
             "#fb9f3a"
            ],
            [
             0.8888888888888888,
             "#fdca26"
            ],
            [
             1,
             "#f0f921"
            ]
           ]
          },
          "colorway": [
           "#636efa",
           "#EF553B",
           "#00cc96",
           "#ab63fa",
           "#FFA15A",
           "#19d3f3",
           "#FF6692",
           "#B6E880",
           "#FF97FF",
           "#FECB52"
          ],
          "font": {
           "color": "#2a3f5f"
          },
          "geo": {
           "bgcolor": "white",
           "lakecolor": "white",
           "landcolor": "#E5ECF6",
           "showlakes": true,
           "showland": true,
           "subunitcolor": "white"
          },
          "hoverlabel": {
           "align": "left"
          },
          "hovermode": "closest",
          "mapbox": {
           "style": "light"
          },
          "paper_bgcolor": "white",
          "plot_bgcolor": "#E5ECF6",
          "polar": {
           "angularaxis": {
            "gridcolor": "white",
            "linecolor": "white",
            "ticks": ""
           },
           "bgcolor": "#E5ECF6",
           "radialaxis": {
            "gridcolor": "white",
            "linecolor": "white",
            "ticks": ""
           }
          },
          "scene": {
           "xaxis": {
            "backgroundcolor": "#E5ECF6",
            "gridcolor": "white",
            "gridwidth": 2,
            "linecolor": "white",
            "showbackground": true,
            "ticks": "",
            "zerolinecolor": "white"
           },
           "yaxis": {
            "backgroundcolor": "#E5ECF6",
            "gridcolor": "white",
            "gridwidth": 2,
            "linecolor": "white",
            "showbackground": true,
            "ticks": "",
            "zerolinecolor": "white"
           },
           "zaxis": {
            "backgroundcolor": "#E5ECF6",
            "gridcolor": "white",
            "gridwidth": 2,
            "linecolor": "white",
            "showbackground": true,
            "ticks": "",
            "zerolinecolor": "white"
           }
          },
          "shapedefaults": {
           "line": {
            "color": "#2a3f5f"
           }
          },
          "ternary": {
           "aaxis": {
            "gridcolor": "white",
            "linecolor": "white",
            "ticks": ""
           },
           "baxis": {
            "gridcolor": "white",
            "linecolor": "white",
            "ticks": ""
           },
           "bgcolor": "#E5ECF6",
           "caxis": {
            "gridcolor": "white",
            "linecolor": "white",
            "ticks": ""
           }
          },
          "title": {
           "x": 0.05
          },
          "xaxis": {
           "automargin": true,
           "gridcolor": "white",
           "linecolor": "white",
           "ticks": "",
           "title": {
            "standoff": 15
           },
           "zerolinecolor": "white",
           "zerolinewidth": 2
          },
          "yaxis": {
           "automargin": true,
           "gridcolor": "white",
           "linecolor": "white",
           "ticks": "",
           "title": {
            "standoff": 15
           },
           "zerolinecolor": "white",
           "zerolinewidth": 2
          }
         }
        },
        "title": {
         "text": "Cluster 3"
        },
        "width": 950
       }
      }
     },
     "metadata": {},
     "output_type": "display_data"
    }
   ],
   "source": [
    "generar_grafico_radar(df_normalized_T.index, df_normalized_T[df_normalized_T.columns[3]],\"Cluster 3\",\"red\")\n"
   ]
  },
  {
   "cell_type": "code",
   "execution_count": 143,
   "metadata": {},
   "outputs": [
    {
     "data": {
      "application/vnd.plotly.v1+json": {
       "config": {
        "plotlyServerURL": "https://plot.ly"
       },
       "data": [
        {
         "fill": "toself",
         "line": {
          "color": "orange"
         },
         "r": [
          0.14211981566820278,
          0,
          0.494123374365394,
          0.3158415841584158,
          0.9997,
          0.44380541576803256,
          0.9892974462223163,
          0.05889897395422257,
          0,
          0.0017980505346834484,
          0.14619448747055955,
          0.04711736637805375,
          0.001913265306122449,
          0.627073973681989,
          0.45018969526373753
         ],
         "theta": [
          "Productos préstamos (a solas)",
          "Tendencia de compra ultimo mes",
          "Aptitud a Riesgo",
          "Diversificación de Productos",
          "Universitario",
          "Fidelización",
          "Digtitalización - índice",
          "Productos Financiación",
          "Particulares",
          "Productos Inversiones y ahorro",
          "Transaciones",
          "Edad",
          "Top",
          "Meses desde la ultima compra",
          "Productos Cuentas EasyMoney"
         ],
         "type": "scatterpolar"
        }
       ],
       "layout": {
        "font": {
         "color": "black",
         "family": "Arial, sans-serif",
         "size": 18
        },
        "height": 500,
        "margin": {
         "b": 30,
         "l": 30,
         "r": 30,
         "t": 40
        },
        "polar": {
         "angularaxis": {
          "rotation": 0
         },
         "radialaxis": {
          "range": [
           0,
           1
          ],
          "visible": true
         }
        },
        "showlegend": false,
        "template": {
         "data": {
          "bar": [
           {
            "error_x": {
             "color": "#2a3f5f"
            },
            "error_y": {
             "color": "#2a3f5f"
            },
            "marker": {
             "line": {
              "color": "#E5ECF6",
              "width": 0.5
             },
             "pattern": {
              "fillmode": "overlay",
              "size": 10,
              "solidity": 0.2
             }
            },
            "type": "bar"
           }
          ],
          "barpolar": [
           {
            "marker": {
             "line": {
              "color": "#E5ECF6",
              "width": 0.5
             },
             "pattern": {
              "fillmode": "overlay",
              "size": 10,
              "solidity": 0.2
             }
            },
            "type": "barpolar"
           }
          ],
          "carpet": [
           {
            "aaxis": {
             "endlinecolor": "#2a3f5f",
             "gridcolor": "white",
             "linecolor": "white",
             "minorgridcolor": "white",
             "startlinecolor": "#2a3f5f"
            },
            "baxis": {
             "endlinecolor": "#2a3f5f",
             "gridcolor": "white",
             "linecolor": "white",
             "minorgridcolor": "white",
             "startlinecolor": "#2a3f5f"
            },
            "type": "carpet"
           }
          ],
          "choropleth": [
           {
            "colorbar": {
             "outlinewidth": 0,
             "ticks": ""
            },
            "type": "choropleth"
           }
          ],
          "contour": [
           {
            "colorbar": {
             "outlinewidth": 0,
             "ticks": ""
            },
            "colorscale": [
             [
              0,
              "#0d0887"
             ],
             [
              0.1111111111111111,
              "#46039f"
             ],
             [
              0.2222222222222222,
              "#7201a8"
             ],
             [
              0.3333333333333333,
              "#9c179e"
             ],
             [
              0.4444444444444444,
              "#bd3786"
             ],
             [
              0.5555555555555556,
              "#d8576b"
             ],
             [
              0.6666666666666666,
              "#ed7953"
             ],
             [
              0.7777777777777778,
              "#fb9f3a"
             ],
             [
              0.8888888888888888,
              "#fdca26"
             ],
             [
              1,
              "#f0f921"
             ]
            ],
            "type": "contour"
           }
          ],
          "contourcarpet": [
           {
            "colorbar": {
             "outlinewidth": 0,
             "ticks": ""
            },
            "type": "contourcarpet"
           }
          ],
          "heatmap": [
           {
            "colorbar": {
             "outlinewidth": 0,
             "ticks": ""
            },
            "colorscale": [
             [
              0,
              "#0d0887"
             ],
             [
              0.1111111111111111,
              "#46039f"
             ],
             [
              0.2222222222222222,
              "#7201a8"
             ],
             [
              0.3333333333333333,
              "#9c179e"
             ],
             [
              0.4444444444444444,
              "#bd3786"
             ],
             [
              0.5555555555555556,
              "#d8576b"
             ],
             [
              0.6666666666666666,
              "#ed7953"
             ],
             [
              0.7777777777777778,
              "#fb9f3a"
             ],
             [
              0.8888888888888888,
              "#fdca26"
             ],
             [
              1,
              "#f0f921"
             ]
            ],
            "type": "heatmap"
           }
          ],
          "heatmapgl": [
           {
            "colorbar": {
             "outlinewidth": 0,
             "ticks": ""
            },
            "colorscale": [
             [
              0,
              "#0d0887"
             ],
             [
              0.1111111111111111,
              "#46039f"
             ],
             [
              0.2222222222222222,
              "#7201a8"
             ],
             [
              0.3333333333333333,
              "#9c179e"
             ],
             [
              0.4444444444444444,
              "#bd3786"
             ],
             [
              0.5555555555555556,
              "#d8576b"
             ],
             [
              0.6666666666666666,
              "#ed7953"
             ],
             [
              0.7777777777777778,
              "#fb9f3a"
             ],
             [
              0.8888888888888888,
              "#fdca26"
             ],
             [
              1,
              "#f0f921"
             ]
            ],
            "type": "heatmapgl"
           }
          ],
          "histogram": [
           {
            "marker": {
             "pattern": {
              "fillmode": "overlay",
              "size": 10,
              "solidity": 0.2
             }
            },
            "type": "histogram"
           }
          ],
          "histogram2d": [
           {
            "colorbar": {
             "outlinewidth": 0,
             "ticks": ""
            },
            "colorscale": [
             [
              0,
              "#0d0887"
             ],
             [
              0.1111111111111111,
              "#46039f"
             ],
             [
              0.2222222222222222,
              "#7201a8"
             ],
             [
              0.3333333333333333,
              "#9c179e"
             ],
             [
              0.4444444444444444,
              "#bd3786"
             ],
             [
              0.5555555555555556,
              "#d8576b"
             ],
             [
              0.6666666666666666,
              "#ed7953"
             ],
             [
              0.7777777777777778,
              "#fb9f3a"
             ],
             [
              0.8888888888888888,
              "#fdca26"
             ],
             [
              1,
              "#f0f921"
             ]
            ],
            "type": "histogram2d"
           }
          ],
          "histogram2dcontour": [
           {
            "colorbar": {
             "outlinewidth": 0,
             "ticks": ""
            },
            "colorscale": [
             [
              0,
              "#0d0887"
             ],
             [
              0.1111111111111111,
              "#46039f"
             ],
             [
              0.2222222222222222,
              "#7201a8"
             ],
             [
              0.3333333333333333,
              "#9c179e"
             ],
             [
              0.4444444444444444,
              "#bd3786"
             ],
             [
              0.5555555555555556,
              "#d8576b"
             ],
             [
              0.6666666666666666,
              "#ed7953"
             ],
             [
              0.7777777777777778,
              "#fb9f3a"
             ],
             [
              0.8888888888888888,
              "#fdca26"
             ],
             [
              1,
              "#f0f921"
             ]
            ],
            "type": "histogram2dcontour"
           }
          ],
          "mesh3d": [
           {
            "colorbar": {
             "outlinewidth": 0,
             "ticks": ""
            },
            "type": "mesh3d"
           }
          ],
          "parcoords": [
           {
            "line": {
             "colorbar": {
              "outlinewidth": 0,
              "ticks": ""
             }
            },
            "type": "parcoords"
           }
          ],
          "pie": [
           {
            "automargin": true,
            "type": "pie"
           }
          ],
          "scatter": [
           {
            "fillpattern": {
             "fillmode": "overlay",
             "size": 10,
             "solidity": 0.2
            },
            "type": "scatter"
           }
          ],
          "scatter3d": [
           {
            "line": {
             "colorbar": {
              "outlinewidth": 0,
              "ticks": ""
             }
            },
            "marker": {
             "colorbar": {
              "outlinewidth": 0,
              "ticks": ""
             }
            },
            "type": "scatter3d"
           }
          ],
          "scattercarpet": [
           {
            "marker": {
             "colorbar": {
              "outlinewidth": 0,
              "ticks": ""
             }
            },
            "type": "scattercarpet"
           }
          ],
          "scattergeo": [
           {
            "marker": {
             "colorbar": {
              "outlinewidth": 0,
              "ticks": ""
             }
            },
            "type": "scattergeo"
           }
          ],
          "scattergl": [
           {
            "marker": {
             "colorbar": {
              "outlinewidth": 0,
              "ticks": ""
             }
            },
            "type": "scattergl"
           }
          ],
          "scattermapbox": [
           {
            "marker": {
             "colorbar": {
              "outlinewidth": 0,
              "ticks": ""
             }
            },
            "type": "scattermapbox"
           }
          ],
          "scatterpolar": [
           {
            "marker": {
             "colorbar": {
              "outlinewidth": 0,
              "ticks": ""
             }
            },
            "type": "scatterpolar"
           }
          ],
          "scatterpolargl": [
           {
            "marker": {
             "colorbar": {
              "outlinewidth": 0,
              "ticks": ""
             }
            },
            "type": "scatterpolargl"
           }
          ],
          "scatterternary": [
           {
            "marker": {
             "colorbar": {
              "outlinewidth": 0,
              "ticks": ""
             }
            },
            "type": "scatterternary"
           }
          ],
          "surface": [
           {
            "colorbar": {
             "outlinewidth": 0,
             "ticks": ""
            },
            "colorscale": [
             [
              0,
              "#0d0887"
             ],
             [
              0.1111111111111111,
              "#46039f"
             ],
             [
              0.2222222222222222,
              "#7201a8"
             ],
             [
              0.3333333333333333,
              "#9c179e"
             ],
             [
              0.4444444444444444,
              "#bd3786"
             ],
             [
              0.5555555555555556,
              "#d8576b"
             ],
             [
              0.6666666666666666,
              "#ed7953"
             ],
             [
              0.7777777777777778,
              "#fb9f3a"
             ],
             [
              0.8888888888888888,
              "#fdca26"
             ],
             [
              1,
              "#f0f921"
             ]
            ],
            "type": "surface"
           }
          ],
          "table": [
           {
            "cells": {
             "fill": {
              "color": "#EBF0F8"
             },
             "line": {
              "color": "white"
             }
            },
            "header": {
             "fill": {
              "color": "#C8D4E3"
             },
             "line": {
              "color": "white"
             }
            },
            "type": "table"
           }
          ]
         },
         "layout": {
          "annotationdefaults": {
           "arrowcolor": "#2a3f5f",
           "arrowhead": 0,
           "arrowwidth": 1
          },
          "autotypenumbers": "strict",
          "coloraxis": {
           "colorbar": {
            "outlinewidth": 0,
            "ticks": ""
           }
          },
          "colorscale": {
           "diverging": [
            [
             0,
             "#8e0152"
            ],
            [
             0.1,
             "#c51b7d"
            ],
            [
             0.2,
             "#de77ae"
            ],
            [
             0.3,
             "#f1b6da"
            ],
            [
             0.4,
             "#fde0ef"
            ],
            [
             0.5,
             "#f7f7f7"
            ],
            [
             0.6,
             "#e6f5d0"
            ],
            [
             0.7,
             "#b8e186"
            ],
            [
             0.8,
             "#7fbc41"
            ],
            [
             0.9,
             "#4d9221"
            ],
            [
             1,
             "#276419"
            ]
           ],
           "sequential": [
            [
             0,
             "#0d0887"
            ],
            [
             0.1111111111111111,
             "#46039f"
            ],
            [
             0.2222222222222222,
             "#7201a8"
            ],
            [
             0.3333333333333333,
             "#9c179e"
            ],
            [
             0.4444444444444444,
             "#bd3786"
            ],
            [
             0.5555555555555556,
             "#d8576b"
            ],
            [
             0.6666666666666666,
             "#ed7953"
            ],
            [
             0.7777777777777778,
             "#fb9f3a"
            ],
            [
             0.8888888888888888,
             "#fdca26"
            ],
            [
             1,
             "#f0f921"
            ]
           ],
           "sequentialminus": [
            [
             0,
             "#0d0887"
            ],
            [
             0.1111111111111111,
             "#46039f"
            ],
            [
             0.2222222222222222,
             "#7201a8"
            ],
            [
             0.3333333333333333,
             "#9c179e"
            ],
            [
             0.4444444444444444,
             "#bd3786"
            ],
            [
             0.5555555555555556,
             "#d8576b"
            ],
            [
             0.6666666666666666,
             "#ed7953"
            ],
            [
             0.7777777777777778,
             "#fb9f3a"
            ],
            [
             0.8888888888888888,
             "#fdca26"
            ],
            [
             1,
             "#f0f921"
            ]
           ]
          },
          "colorway": [
           "#636efa",
           "#EF553B",
           "#00cc96",
           "#ab63fa",
           "#FFA15A",
           "#19d3f3",
           "#FF6692",
           "#B6E880",
           "#FF97FF",
           "#FECB52"
          ],
          "font": {
           "color": "#2a3f5f"
          },
          "geo": {
           "bgcolor": "white",
           "lakecolor": "white",
           "landcolor": "#E5ECF6",
           "showlakes": true,
           "showland": true,
           "subunitcolor": "white"
          },
          "hoverlabel": {
           "align": "left"
          },
          "hovermode": "closest",
          "mapbox": {
           "style": "light"
          },
          "paper_bgcolor": "white",
          "plot_bgcolor": "#E5ECF6",
          "polar": {
           "angularaxis": {
            "gridcolor": "white",
            "linecolor": "white",
            "ticks": ""
           },
           "bgcolor": "#E5ECF6",
           "radialaxis": {
            "gridcolor": "white",
            "linecolor": "white",
            "ticks": ""
           }
          },
          "scene": {
           "xaxis": {
            "backgroundcolor": "#E5ECF6",
            "gridcolor": "white",
            "gridwidth": 2,
            "linecolor": "white",
            "showbackground": true,
            "ticks": "",
            "zerolinecolor": "white"
           },
           "yaxis": {
            "backgroundcolor": "#E5ECF6",
            "gridcolor": "white",
            "gridwidth": 2,
            "linecolor": "white",
            "showbackground": true,
            "ticks": "",
            "zerolinecolor": "white"
           },
           "zaxis": {
            "backgroundcolor": "#E5ECF6",
            "gridcolor": "white",
            "gridwidth": 2,
            "linecolor": "white",
            "showbackground": true,
            "ticks": "",
            "zerolinecolor": "white"
           }
          },
          "shapedefaults": {
           "line": {
            "color": "#2a3f5f"
           }
          },
          "ternary": {
           "aaxis": {
            "gridcolor": "white",
            "linecolor": "white",
            "ticks": ""
           },
           "baxis": {
            "gridcolor": "white",
            "linecolor": "white",
            "ticks": ""
           },
           "bgcolor": "#E5ECF6",
           "caxis": {
            "gridcolor": "white",
            "linecolor": "white",
            "ticks": ""
           }
          },
          "title": {
           "x": 0.05
          },
          "xaxis": {
           "automargin": true,
           "gridcolor": "white",
           "linecolor": "white",
           "ticks": "",
           "title": {
            "standoff": 15
           },
           "zerolinecolor": "white",
           "zerolinewidth": 2
          },
          "yaxis": {
           "automargin": true,
           "gridcolor": "white",
           "linecolor": "white",
           "ticks": "",
           "title": {
            "standoff": 15
           },
           "zerolinecolor": "white",
           "zerolinewidth": 2
          }
         }
        },
        "title": {
         "text": "Cluster 4"
        },
        "width": 950
       }
      }
     },
     "metadata": {},
     "output_type": "display_data"
    }
   ],
   "source": [
    "generar_grafico_radar(df_normalized_T.index, df_normalized_T[df_normalized_T.columns[4]],\"Cluster 4\",\"orange\")"
   ]
  },
  {
   "cell_type": "code",
   "execution_count": 144,
   "metadata": {},
   "outputs": [
    {
     "data": {
      "application/vnd.plotly.v1+json": {
       "config": {
        "plotlyServerURL": "https://plot.ly"
       },
       "data": [
        {
         "fill": "toself",
         "line": {
          "color": "purple"
         },
         "r": [
          0.12663594470046083,
          0.012824956672443683,
          0.7204256206968497,
          0.32128712871287124,
          0,
          0.7217828900071891,
          0.9535869450037088,
          0,
          0.9473631542079457,
          0.008990252673417243,
          0.21999193702391312,
          0.9999999999999998,
          0.33992346938775514,
          0.39546422307468654,
          0.48164239383184415
         ],
         "theta": [
          "Productos préstamos (a solas)",
          "Tendencia de compra ultimo mes",
          "Aptitud a Riesgo",
          "Diversificación de Productos",
          "Universitario",
          "Fidelización",
          "Digtitalización - índice",
          "Productos Financiación",
          "Particulares",
          "Productos Inversiones y ahorro",
          "Transaciones",
          "Edad",
          "Top",
          "Meses desde la ultima compra",
          "Productos Cuentas EasyMoney"
         ],
         "type": "scatterpolar"
        }
       ],
       "layout": {
        "font": {
         "color": "black",
         "family": "Arial, sans-serif",
         "size": 18
        },
        "height": 500,
        "margin": {
         "b": 30,
         "l": 30,
         "r": 30,
         "t": 40
        },
        "polar": {
         "angularaxis": {
          "rotation": 0
         },
         "radialaxis": {
          "range": [
           0,
           1
          ],
          "visible": true
         }
        },
        "showlegend": false,
        "template": {
         "data": {
          "bar": [
           {
            "error_x": {
             "color": "#2a3f5f"
            },
            "error_y": {
             "color": "#2a3f5f"
            },
            "marker": {
             "line": {
              "color": "#E5ECF6",
              "width": 0.5
             },
             "pattern": {
              "fillmode": "overlay",
              "size": 10,
              "solidity": 0.2
             }
            },
            "type": "bar"
           }
          ],
          "barpolar": [
           {
            "marker": {
             "line": {
              "color": "#E5ECF6",
              "width": 0.5
             },
             "pattern": {
              "fillmode": "overlay",
              "size": 10,
              "solidity": 0.2
             }
            },
            "type": "barpolar"
           }
          ],
          "carpet": [
           {
            "aaxis": {
             "endlinecolor": "#2a3f5f",
             "gridcolor": "white",
             "linecolor": "white",
             "minorgridcolor": "white",
             "startlinecolor": "#2a3f5f"
            },
            "baxis": {
             "endlinecolor": "#2a3f5f",
             "gridcolor": "white",
             "linecolor": "white",
             "minorgridcolor": "white",
             "startlinecolor": "#2a3f5f"
            },
            "type": "carpet"
           }
          ],
          "choropleth": [
           {
            "colorbar": {
             "outlinewidth": 0,
             "ticks": ""
            },
            "type": "choropleth"
           }
          ],
          "contour": [
           {
            "colorbar": {
             "outlinewidth": 0,
             "ticks": ""
            },
            "colorscale": [
             [
              0,
              "#0d0887"
             ],
             [
              0.1111111111111111,
              "#46039f"
             ],
             [
              0.2222222222222222,
              "#7201a8"
             ],
             [
              0.3333333333333333,
              "#9c179e"
             ],
             [
              0.4444444444444444,
              "#bd3786"
             ],
             [
              0.5555555555555556,
              "#d8576b"
             ],
             [
              0.6666666666666666,
              "#ed7953"
             ],
             [
              0.7777777777777778,
              "#fb9f3a"
             ],
             [
              0.8888888888888888,
              "#fdca26"
             ],
             [
              1,
              "#f0f921"
             ]
            ],
            "type": "contour"
           }
          ],
          "contourcarpet": [
           {
            "colorbar": {
             "outlinewidth": 0,
             "ticks": ""
            },
            "type": "contourcarpet"
           }
          ],
          "heatmap": [
           {
            "colorbar": {
             "outlinewidth": 0,
             "ticks": ""
            },
            "colorscale": [
             [
              0,
              "#0d0887"
             ],
             [
              0.1111111111111111,
              "#46039f"
             ],
             [
              0.2222222222222222,
              "#7201a8"
             ],
             [
              0.3333333333333333,
              "#9c179e"
             ],
             [
              0.4444444444444444,
              "#bd3786"
             ],
             [
              0.5555555555555556,
              "#d8576b"
             ],
             [
              0.6666666666666666,
              "#ed7953"
             ],
             [
              0.7777777777777778,
              "#fb9f3a"
             ],
             [
              0.8888888888888888,
              "#fdca26"
             ],
             [
              1,
              "#f0f921"
             ]
            ],
            "type": "heatmap"
           }
          ],
          "heatmapgl": [
           {
            "colorbar": {
             "outlinewidth": 0,
             "ticks": ""
            },
            "colorscale": [
             [
              0,
              "#0d0887"
             ],
             [
              0.1111111111111111,
              "#46039f"
             ],
             [
              0.2222222222222222,
              "#7201a8"
             ],
             [
              0.3333333333333333,
              "#9c179e"
             ],
             [
              0.4444444444444444,
              "#bd3786"
             ],
             [
              0.5555555555555556,
              "#d8576b"
             ],
             [
              0.6666666666666666,
              "#ed7953"
             ],
             [
              0.7777777777777778,
              "#fb9f3a"
             ],
             [
              0.8888888888888888,
              "#fdca26"
             ],
             [
              1,
              "#f0f921"
             ]
            ],
            "type": "heatmapgl"
           }
          ],
          "histogram": [
           {
            "marker": {
             "pattern": {
              "fillmode": "overlay",
              "size": 10,
              "solidity": 0.2
             }
            },
            "type": "histogram"
           }
          ],
          "histogram2d": [
           {
            "colorbar": {
             "outlinewidth": 0,
             "ticks": ""
            },
            "colorscale": [
             [
              0,
              "#0d0887"
             ],
             [
              0.1111111111111111,
              "#46039f"
             ],
             [
              0.2222222222222222,
              "#7201a8"
             ],
             [
              0.3333333333333333,
              "#9c179e"
             ],
             [
              0.4444444444444444,
              "#bd3786"
             ],
             [
              0.5555555555555556,
              "#d8576b"
             ],
             [
              0.6666666666666666,
              "#ed7953"
             ],
             [
              0.7777777777777778,
              "#fb9f3a"
             ],
             [
              0.8888888888888888,
              "#fdca26"
             ],
             [
              1,
              "#f0f921"
             ]
            ],
            "type": "histogram2d"
           }
          ],
          "histogram2dcontour": [
           {
            "colorbar": {
             "outlinewidth": 0,
             "ticks": ""
            },
            "colorscale": [
             [
              0,
              "#0d0887"
             ],
             [
              0.1111111111111111,
              "#46039f"
             ],
             [
              0.2222222222222222,
              "#7201a8"
             ],
             [
              0.3333333333333333,
              "#9c179e"
             ],
             [
              0.4444444444444444,
              "#bd3786"
             ],
             [
              0.5555555555555556,
              "#d8576b"
             ],
             [
              0.6666666666666666,
              "#ed7953"
             ],
             [
              0.7777777777777778,
              "#fb9f3a"
             ],
             [
              0.8888888888888888,
              "#fdca26"
             ],
             [
              1,
              "#f0f921"
             ]
            ],
            "type": "histogram2dcontour"
           }
          ],
          "mesh3d": [
           {
            "colorbar": {
             "outlinewidth": 0,
             "ticks": ""
            },
            "type": "mesh3d"
           }
          ],
          "parcoords": [
           {
            "line": {
             "colorbar": {
              "outlinewidth": 0,
              "ticks": ""
             }
            },
            "type": "parcoords"
           }
          ],
          "pie": [
           {
            "automargin": true,
            "type": "pie"
           }
          ],
          "scatter": [
           {
            "fillpattern": {
             "fillmode": "overlay",
             "size": 10,
             "solidity": 0.2
            },
            "type": "scatter"
           }
          ],
          "scatter3d": [
           {
            "line": {
             "colorbar": {
              "outlinewidth": 0,
              "ticks": ""
             }
            },
            "marker": {
             "colorbar": {
              "outlinewidth": 0,
              "ticks": ""
             }
            },
            "type": "scatter3d"
           }
          ],
          "scattercarpet": [
           {
            "marker": {
             "colorbar": {
              "outlinewidth": 0,
              "ticks": ""
             }
            },
            "type": "scattercarpet"
           }
          ],
          "scattergeo": [
           {
            "marker": {
             "colorbar": {
              "outlinewidth": 0,
              "ticks": ""
             }
            },
            "type": "scattergeo"
           }
          ],
          "scattergl": [
           {
            "marker": {
             "colorbar": {
              "outlinewidth": 0,
              "ticks": ""
             }
            },
            "type": "scattergl"
           }
          ],
          "scattermapbox": [
           {
            "marker": {
             "colorbar": {
              "outlinewidth": 0,
              "ticks": ""
             }
            },
            "type": "scattermapbox"
           }
          ],
          "scatterpolar": [
           {
            "marker": {
             "colorbar": {
              "outlinewidth": 0,
              "ticks": ""
             }
            },
            "type": "scatterpolar"
           }
          ],
          "scatterpolargl": [
           {
            "marker": {
             "colorbar": {
              "outlinewidth": 0,
              "ticks": ""
             }
            },
            "type": "scatterpolargl"
           }
          ],
          "scatterternary": [
           {
            "marker": {
             "colorbar": {
              "outlinewidth": 0,
              "ticks": ""
             }
            },
            "type": "scatterternary"
           }
          ],
          "surface": [
           {
            "colorbar": {
             "outlinewidth": 0,
             "ticks": ""
            },
            "colorscale": [
             [
              0,
              "#0d0887"
             ],
             [
              0.1111111111111111,
              "#46039f"
             ],
             [
              0.2222222222222222,
              "#7201a8"
             ],
             [
              0.3333333333333333,
              "#9c179e"
             ],
             [
              0.4444444444444444,
              "#bd3786"
             ],
             [
              0.5555555555555556,
              "#d8576b"
             ],
             [
              0.6666666666666666,
              "#ed7953"
             ],
             [
              0.7777777777777778,
              "#fb9f3a"
             ],
             [
              0.8888888888888888,
              "#fdca26"
             ],
             [
              1,
              "#f0f921"
             ]
            ],
            "type": "surface"
           }
          ],
          "table": [
           {
            "cells": {
             "fill": {
              "color": "#EBF0F8"
             },
             "line": {
              "color": "white"
             }
            },
            "header": {
             "fill": {
              "color": "#C8D4E3"
             },
             "line": {
              "color": "white"
             }
            },
            "type": "table"
           }
          ]
         },
         "layout": {
          "annotationdefaults": {
           "arrowcolor": "#2a3f5f",
           "arrowhead": 0,
           "arrowwidth": 1
          },
          "autotypenumbers": "strict",
          "coloraxis": {
           "colorbar": {
            "outlinewidth": 0,
            "ticks": ""
           }
          },
          "colorscale": {
           "diverging": [
            [
             0,
             "#8e0152"
            ],
            [
             0.1,
             "#c51b7d"
            ],
            [
             0.2,
             "#de77ae"
            ],
            [
             0.3,
             "#f1b6da"
            ],
            [
             0.4,
             "#fde0ef"
            ],
            [
             0.5,
             "#f7f7f7"
            ],
            [
             0.6,
             "#e6f5d0"
            ],
            [
             0.7,
             "#b8e186"
            ],
            [
             0.8,
             "#7fbc41"
            ],
            [
             0.9,
             "#4d9221"
            ],
            [
             1,
             "#276419"
            ]
           ],
           "sequential": [
            [
             0,
             "#0d0887"
            ],
            [
             0.1111111111111111,
             "#46039f"
            ],
            [
             0.2222222222222222,
             "#7201a8"
            ],
            [
             0.3333333333333333,
             "#9c179e"
            ],
            [
             0.4444444444444444,
             "#bd3786"
            ],
            [
             0.5555555555555556,
             "#d8576b"
            ],
            [
             0.6666666666666666,
             "#ed7953"
            ],
            [
             0.7777777777777778,
             "#fb9f3a"
            ],
            [
             0.8888888888888888,
             "#fdca26"
            ],
            [
             1,
             "#f0f921"
            ]
           ],
           "sequentialminus": [
            [
             0,
             "#0d0887"
            ],
            [
             0.1111111111111111,
             "#46039f"
            ],
            [
             0.2222222222222222,
             "#7201a8"
            ],
            [
             0.3333333333333333,
             "#9c179e"
            ],
            [
             0.4444444444444444,
             "#bd3786"
            ],
            [
             0.5555555555555556,
             "#d8576b"
            ],
            [
             0.6666666666666666,
             "#ed7953"
            ],
            [
             0.7777777777777778,
             "#fb9f3a"
            ],
            [
             0.8888888888888888,
             "#fdca26"
            ],
            [
             1,
             "#f0f921"
            ]
           ]
          },
          "colorway": [
           "#636efa",
           "#EF553B",
           "#00cc96",
           "#ab63fa",
           "#FFA15A",
           "#19d3f3",
           "#FF6692",
           "#B6E880",
           "#FF97FF",
           "#FECB52"
          ],
          "font": {
           "color": "#2a3f5f"
          },
          "geo": {
           "bgcolor": "white",
           "lakecolor": "white",
           "landcolor": "#E5ECF6",
           "showlakes": true,
           "showland": true,
           "subunitcolor": "white"
          },
          "hoverlabel": {
           "align": "left"
          },
          "hovermode": "closest",
          "mapbox": {
           "style": "light"
          },
          "paper_bgcolor": "white",
          "plot_bgcolor": "#E5ECF6",
          "polar": {
           "angularaxis": {
            "gridcolor": "white",
            "linecolor": "white",
            "ticks": ""
           },
           "bgcolor": "#E5ECF6",
           "radialaxis": {
            "gridcolor": "white",
            "linecolor": "white",
            "ticks": ""
           }
          },
          "scene": {
           "xaxis": {
            "backgroundcolor": "#E5ECF6",
            "gridcolor": "white",
            "gridwidth": 2,
            "linecolor": "white",
            "showbackground": true,
            "ticks": "",
            "zerolinecolor": "white"
           },
           "yaxis": {
            "backgroundcolor": "#E5ECF6",
            "gridcolor": "white",
            "gridwidth": 2,
            "linecolor": "white",
            "showbackground": true,
            "ticks": "",
            "zerolinecolor": "white"
           },
           "zaxis": {
            "backgroundcolor": "#E5ECF6",
            "gridcolor": "white",
            "gridwidth": 2,
            "linecolor": "white",
            "showbackground": true,
            "ticks": "",
            "zerolinecolor": "white"
           }
          },
          "shapedefaults": {
           "line": {
            "color": "#2a3f5f"
           }
          },
          "ternary": {
           "aaxis": {
            "gridcolor": "white",
            "linecolor": "white",
            "ticks": ""
           },
           "baxis": {
            "gridcolor": "white",
            "linecolor": "white",
            "ticks": ""
           },
           "bgcolor": "#E5ECF6",
           "caxis": {
            "gridcolor": "white",
            "linecolor": "white",
            "ticks": ""
           }
          },
          "title": {
           "x": 0.05
          },
          "xaxis": {
           "automargin": true,
           "gridcolor": "white",
           "linecolor": "white",
           "ticks": "",
           "title": {
            "standoff": 15
           },
           "zerolinecolor": "white",
           "zerolinewidth": 2
          },
          "yaxis": {
           "automargin": true,
           "gridcolor": "white",
           "linecolor": "white",
           "ticks": "",
           "title": {
            "standoff": 15
           },
           "zerolinecolor": "white",
           "zerolinewidth": 2
          }
         }
        },
        "title": {
         "text": "Cluster 5"
        },
        "width": 950
       }
      }
     },
     "metadata": {},
     "output_type": "display_data"
    }
   ],
   "source": [
    "generar_grafico_radar(df_normalized_T.index, df_normalized_T[df_normalized_T.columns[5]],\"Cluster 5\",\"purple\")"
   ]
  },
  {
   "cell_type": "code",
   "execution_count": 145,
   "metadata": {},
   "outputs": [
    {
     "data": {
      "application/vnd.plotly.v1+json": {
       "config": {
        "plotlyServerURL": "https://plot.ly"
       },
       "data": [
        {
         "fill": "toself",
         "line": {
          "color": "tomato"
         },
         "r": [
          0.004239631336405531,
          0.11334488734835356,
          0.048960289310800514,
          0.04999999999999999,
          0.9997,
          0.07572489815480471,
          0.013245734873370774,
          0.0017758484609313337,
          0,
          0,
          0.02374334274013877,
          0,
          0.001913265306122449,
          0.28487417814836014,
          0.07349161669318321
         ],
         "theta": [
          "Productos préstamos (a solas)",
          "Tendencia de compra ultimo mes",
          "Aptitud a Riesgo",
          "Diversificación de Productos",
          "Universitario",
          "Fidelización",
          "Digtitalización - índice",
          "Productos Financiación",
          "Particulares",
          "Productos Inversiones y ahorro",
          "Transaciones",
          "Edad",
          "Top",
          "Meses desde la ultima compra",
          "Productos Cuentas EasyMoney"
         ],
         "type": "scatterpolar"
        }
       ],
       "layout": {
        "font": {
         "color": "black",
         "family": "Arial, sans-serif",
         "size": 18
        },
        "height": 500,
        "margin": {
         "b": 30,
         "l": 30,
         "r": 30,
         "t": 40
        },
        "polar": {
         "angularaxis": {
          "rotation": 0
         },
         "radialaxis": {
          "range": [
           0,
           1
          ],
          "visible": true
         }
        },
        "showlegend": false,
        "template": {
         "data": {
          "bar": [
           {
            "error_x": {
             "color": "#2a3f5f"
            },
            "error_y": {
             "color": "#2a3f5f"
            },
            "marker": {
             "line": {
              "color": "#E5ECF6",
              "width": 0.5
             },
             "pattern": {
              "fillmode": "overlay",
              "size": 10,
              "solidity": 0.2
             }
            },
            "type": "bar"
           }
          ],
          "barpolar": [
           {
            "marker": {
             "line": {
              "color": "#E5ECF6",
              "width": 0.5
             },
             "pattern": {
              "fillmode": "overlay",
              "size": 10,
              "solidity": 0.2
             }
            },
            "type": "barpolar"
           }
          ],
          "carpet": [
           {
            "aaxis": {
             "endlinecolor": "#2a3f5f",
             "gridcolor": "white",
             "linecolor": "white",
             "minorgridcolor": "white",
             "startlinecolor": "#2a3f5f"
            },
            "baxis": {
             "endlinecolor": "#2a3f5f",
             "gridcolor": "white",
             "linecolor": "white",
             "minorgridcolor": "white",
             "startlinecolor": "#2a3f5f"
            },
            "type": "carpet"
           }
          ],
          "choropleth": [
           {
            "colorbar": {
             "outlinewidth": 0,
             "ticks": ""
            },
            "type": "choropleth"
           }
          ],
          "contour": [
           {
            "colorbar": {
             "outlinewidth": 0,
             "ticks": ""
            },
            "colorscale": [
             [
              0,
              "#0d0887"
             ],
             [
              0.1111111111111111,
              "#46039f"
             ],
             [
              0.2222222222222222,
              "#7201a8"
             ],
             [
              0.3333333333333333,
              "#9c179e"
             ],
             [
              0.4444444444444444,
              "#bd3786"
             ],
             [
              0.5555555555555556,
              "#d8576b"
             ],
             [
              0.6666666666666666,
              "#ed7953"
             ],
             [
              0.7777777777777778,
              "#fb9f3a"
             ],
             [
              0.8888888888888888,
              "#fdca26"
             ],
             [
              1,
              "#f0f921"
             ]
            ],
            "type": "contour"
           }
          ],
          "contourcarpet": [
           {
            "colorbar": {
             "outlinewidth": 0,
             "ticks": ""
            },
            "type": "contourcarpet"
           }
          ],
          "heatmap": [
           {
            "colorbar": {
             "outlinewidth": 0,
             "ticks": ""
            },
            "colorscale": [
             [
              0,
              "#0d0887"
             ],
             [
              0.1111111111111111,
              "#46039f"
             ],
             [
              0.2222222222222222,
              "#7201a8"
             ],
             [
              0.3333333333333333,
              "#9c179e"
             ],
             [
              0.4444444444444444,
              "#bd3786"
             ],
             [
              0.5555555555555556,
              "#d8576b"
             ],
             [
              0.6666666666666666,
              "#ed7953"
             ],
             [
              0.7777777777777778,
              "#fb9f3a"
             ],
             [
              0.8888888888888888,
              "#fdca26"
             ],
             [
              1,
              "#f0f921"
             ]
            ],
            "type": "heatmap"
           }
          ],
          "heatmapgl": [
           {
            "colorbar": {
             "outlinewidth": 0,
             "ticks": ""
            },
            "colorscale": [
             [
              0,
              "#0d0887"
             ],
             [
              0.1111111111111111,
              "#46039f"
             ],
             [
              0.2222222222222222,
              "#7201a8"
             ],
             [
              0.3333333333333333,
              "#9c179e"
             ],
             [
              0.4444444444444444,
              "#bd3786"
             ],
             [
              0.5555555555555556,
              "#d8576b"
             ],
             [
              0.6666666666666666,
              "#ed7953"
             ],
             [
              0.7777777777777778,
              "#fb9f3a"
             ],
             [
              0.8888888888888888,
              "#fdca26"
             ],
             [
              1,
              "#f0f921"
             ]
            ],
            "type": "heatmapgl"
           }
          ],
          "histogram": [
           {
            "marker": {
             "pattern": {
              "fillmode": "overlay",
              "size": 10,
              "solidity": 0.2
             }
            },
            "type": "histogram"
           }
          ],
          "histogram2d": [
           {
            "colorbar": {
             "outlinewidth": 0,
             "ticks": ""
            },
            "colorscale": [
             [
              0,
              "#0d0887"
             ],
             [
              0.1111111111111111,
              "#46039f"
             ],
             [
              0.2222222222222222,
              "#7201a8"
             ],
             [
              0.3333333333333333,
              "#9c179e"
             ],
             [
              0.4444444444444444,
              "#bd3786"
             ],
             [
              0.5555555555555556,
              "#d8576b"
             ],
             [
              0.6666666666666666,
              "#ed7953"
             ],
             [
              0.7777777777777778,
              "#fb9f3a"
             ],
             [
              0.8888888888888888,
              "#fdca26"
             ],
             [
              1,
              "#f0f921"
             ]
            ],
            "type": "histogram2d"
           }
          ],
          "histogram2dcontour": [
           {
            "colorbar": {
             "outlinewidth": 0,
             "ticks": ""
            },
            "colorscale": [
             [
              0,
              "#0d0887"
             ],
             [
              0.1111111111111111,
              "#46039f"
             ],
             [
              0.2222222222222222,
              "#7201a8"
             ],
             [
              0.3333333333333333,
              "#9c179e"
             ],
             [
              0.4444444444444444,
              "#bd3786"
             ],
             [
              0.5555555555555556,
              "#d8576b"
             ],
             [
              0.6666666666666666,
              "#ed7953"
             ],
             [
              0.7777777777777778,
              "#fb9f3a"
             ],
             [
              0.8888888888888888,
              "#fdca26"
             ],
             [
              1,
              "#f0f921"
             ]
            ],
            "type": "histogram2dcontour"
           }
          ],
          "mesh3d": [
           {
            "colorbar": {
             "outlinewidth": 0,
             "ticks": ""
            },
            "type": "mesh3d"
           }
          ],
          "parcoords": [
           {
            "line": {
             "colorbar": {
              "outlinewidth": 0,
              "ticks": ""
             }
            },
            "type": "parcoords"
           }
          ],
          "pie": [
           {
            "automargin": true,
            "type": "pie"
           }
          ],
          "scatter": [
           {
            "fillpattern": {
             "fillmode": "overlay",
             "size": 10,
             "solidity": 0.2
            },
            "type": "scatter"
           }
          ],
          "scatter3d": [
           {
            "line": {
             "colorbar": {
              "outlinewidth": 0,
              "ticks": ""
             }
            },
            "marker": {
             "colorbar": {
              "outlinewidth": 0,
              "ticks": ""
             }
            },
            "type": "scatter3d"
           }
          ],
          "scattercarpet": [
           {
            "marker": {
             "colorbar": {
              "outlinewidth": 0,
              "ticks": ""
             }
            },
            "type": "scattercarpet"
           }
          ],
          "scattergeo": [
           {
            "marker": {
             "colorbar": {
              "outlinewidth": 0,
              "ticks": ""
             }
            },
            "type": "scattergeo"
           }
          ],
          "scattergl": [
           {
            "marker": {
             "colorbar": {
              "outlinewidth": 0,
              "ticks": ""
             }
            },
            "type": "scattergl"
           }
          ],
          "scattermapbox": [
           {
            "marker": {
             "colorbar": {
              "outlinewidth": 0,
              "ticks": ""
             }
            },
            "type": "scattermapbox"
           }
          ],
          "scatterpolar": [
           {
            "marker": {
             "colorbar": {
              "outlinewidth": 0,
              "ticks": ""
             }
            },
            "type": "scatterpolar"
           }
          ],
          "scatterpolargl": [
           {
            "marker": {
             "colorbar": {
              "outlinewidth": 0,
              "ticks": ""
             }
            },
            "type": "scatterpolargl"
           }
          ],
          "scatterternary": [
           {
            "marker": {
             "colorbar": {
              "outlinewidth": 0,
              "ticks": ""
             }
            },
            "type": "scatterternary"
           }
          ],
          "surface": [
           {
            "colorbar": {
             "outlinewidth": 0,
             "ticks": ""
            },
            "colorscale": [
             [
              0,
              "#0d0887"
             ],
             [
              0.1111111111111111,
              "#46039f"
             ],
             [
              0.2222222222222222,
              "#7201a8"
             ],
             [
              0.3333333333333333,
              "#9c179e"
             ],
             [
              0.4444444444444444,
              "#bd3786"
             ],
             [
              0.5555555555555556,
              "#d8576b"
             ],
             [
              0.6666666666666666,
              "#ed7953"
             ],
             [
              0.7777777777777778,
              "#fb9f3a"
             ],
             [
              0.8888888888888888,
              "#fdca26"
             ],
             [
              1,
              "#f0f921"
             ]
            ],
            "type": "surface"
           }
          ],
          "table": [
           {
            "cells": {
             "fill": {
              "color": "#EBF0F8"
             },
             "line": {
              "color": "white"
             }
            },
            "header": {
             "fill": {
              "color": "#C8D4E3"
             },
             "line": {
              "color": "white"
             }
            },
            "type": "table"
           }
          ]
         },
         "layout": {
          "annotationdefaults": {
           "arrowcolor": "#2a3f5f",
           "arrowhead": 0,
           "arrowwidth": 1
          },
          "autotypenumbers": "strict",
          "coloraxis": {
           "colorbar": {
            "outlinewidth": 0,
            "ticks": ""
           }
          },
          "colorscale": {
           "diverging": [
            [
             0,
             "#8e0152"
            ],
            [
             0.1,
             "#c51b7d"
            ],
            [
             0.2,
             "#de77ae"
            ],
            [
             0.3,
             "#f1b6da"
            ],
            [
             0.4,
             "#fde0ef"
            ],
            [
             0.5,
             "#f7f7f7"
            ],
            [
             0.6,
             "#e6f5d0"
            ],
            [
             0.7,
             "#b8e186"
            ],
            [
             0.8,
             "#7fbc41"
            ],
            [
             0.9,
             "#4d9221"
            ],
            [
             1,
             "#276419"
            ]
           ],
           "sequential": [
            [
             0,
             "#0d0887"
            ],
            [
             0.1111111111111111,
             "#46039f"
            ],
            [
             0.2222222222222222,
             "#7201a8"
            ],
            [
             0.3333333333333333,
             "#9c179e"
            ],
            [
             0.4444444444444444,
             "#bd3786"
            ],
            [
             0.5555555555555556,
             "#d8576b"
            ],
            [
             0.6666666666666666,
             "#ed7953"
            ],
            [
             0.7777777777777778,
             "#fb9f3a"
            ],
            [
             0.8888888888888888,
             "#fdca26"
            ],
            [
             1,
             "#f0f921"
            ]
           ],
           "sequentialminus": [
            [
             0,
             "#0d0887"
            ],
            [
             0.1111111111111111,
             "#46039f"
            ],
            [
             0.2222222222222222,
             "#7201a8"
            ],
            [
             0.3333333333333333,
             "#9c179e"
            ],
            [
             0.4444444444444444,
             "#bd3786"
            ],
            [
             0.5555555555555556,
             "#d8576b"
            ],
            [
             0.6666666666666666,
             "#ed7953"
            ],
            [
             0.7777777777777778,
             "#fb9f3a"
            ],
            [
             0.8888888888888888,
             "#fdca26"
            ],
            [
             1,
             "#f0f921"
            ]
           ]
          },
          "colorway": [
           "#636efa",
           "#EF553B",
           "#00cc96",
           "#ab63fa",
           "#FFA15A",
           "#19d3f3",
           "#FF6692",
           "#B6E880",
           "#FF97FF",
           "#FECB52"
          ],
          "font": {
           "color": "#2a3f5f"
          },
          "geo": {
           "bgcolor": "white",
           "lakecolor": "white",
           "landcolor": "#E5ECF6",
           "showlakes": true,
           "showland": true,
           "subunitcolor": "white"
          },
          "hoverlabel": {
           "align": "left"
          },
          "hovermode": "closest",
          "mapbox": {
           "style": "light"
          },
          "paper_bgcolor": "white",
          "plot_bgcolor": "#E5ECF6",
          "polar": {
           "angularaxis": {
            "gridcolor": "white",
            "linecolor": "white",
            "ticks": ""
           },
           "bgcolor": "#E5ECF6",
           "radialaxis": {
            "gridcolor": "white",
            "linecolor": "white",
            "ticks": ""
           }
          },
          "scene": {
           "xaxis": {
            "backgroundcolor": "#E5ECF6",
            "gridcolor": "white",
            "gridwidth": 2,
            "linecolor": "white",
            "showbackground": true,
            "ticks": "",
            "zerolinecolor": "white"
           },
           "yaxis": {
            "backgroundcolor": "#E5ECF6",
            "gridcolor": "white",
            "gridwidth": 2,
            "linecolor": "white",
            "showbackground": true,
            "ticks": "",
            "zerolinecolor": "white"
           },
           "zaxis": {
            "backgroundcolor": "#E5ECF6",
            "gridcolor": "white",
            "gridwidth": 2,
            "linecolor": "white",
            "showbackground": true,
            "ticks": "",
            "zerolinecolor": "white"
           }
          },
          "shapedefaults": {
           "line": {
            "color": "#2a3f5f"
           }
          },
          "ternary": {
           "aaxis": {
            "gridcolor": "white",
            "linecolor": "white",
            "ticks": ""
           },
           "baxis": {
            "gridcolor": "white",
            "linecolor": "white",
            "ticks": ""
           },
           "bgcolor": "#E5ECF6",
           "caxis": {
            "gridcolor": "white",
            "linecolor": "white",
            "ticks": ""
           }
          },
          "title": {
           "x": 0.05
          },
          "xaxis": {
           "automargin": true,
           "gridcolor": "white",
           "linecolor": "white",
           "ticks": "",
           "title": {
            "standoff": 15
           },
           "zerolinecolor": "white",
           "zerolinewidth": 2
          },
          "yaxis": {
           "automargin": true,
           "gridcolor": "white",
           "linecolor": "white",
           "ticks": "",
           "title": {
            "standoff": 15
           },
           "zerolinecolor": "white",
           "zerolinewidth": 2
          }
         }
        },
        "title": {
         "text": "Cluster 6"
        },
        "width": 950
       }
      }
     },
     "metadata": {},
     "output_type": "display_data"
    }
   ],
   "source": [
    "generar_grafico_radar(df_normalized_T.index, df_normalized_T[df_normalized_T.columns[6]],\"Cluster 6\",\"tomato\")"
   ]
  },
  {
   "cell_type": "code",
   "execution_count": 146,
   "metadata": {},
   "outputs": [
    {
     "data": {
      "text/plain": [
       "array([[<Axes: title={'center': 'cluster'}>,\n",
       "        <Axes: title={'center': 'value'}>]], dtype=object)"
      ]
     },
     "execution_count": 146,
     "metadata": {},
     "output_type": "execute_result"
    },
    {
     "data": {
      "image/png": "[encoded data removed]",
      "text/plain": [
       "<Figure size 640x480 with 2 Axes>"
      ]
     },
     "metadata": {},
     "output_type": "display_data"
    }
   ],
   "source": [
    "hist = ficha_df.iloc[:1].melt()\n",
    "hist[\"cluster\"] = [0,1,2,3,4,5,6]\n",
    "hist.hist()"
   ]
  },
  {
   "cell_type": "code",
   "execution_count": null,
   "metadata": {},
   "outputs": [],
   "source": [
    "# Guardamos pickle\n",
    "\n",
    "DATA_PATH = \"../../data/processed/\"\n",
    "FILE_NAME = \"ficha_df.pkl.gz\"\n",
    "PICKLE_PATH = DATA_PATH+FILE_NAME\n",
    "\n",
    "ficha_df.to_pickle(PICKLE_PATH, compression='gzip')"
   ]
  },
  {
   "cell_type": "code",
   "execution_count": null,
   "metadata": {},
   "outputs": [],
   "source": [
    "# Guardamos pickle\n",
    "\n",
    "DATA_PATH = \"../../data/processed/\"\n",
    "FILE_NAME = \"df_clusters.pkl.gz\"\n",
    "PICKLE_PATH = DATA_PATH+FILE_NAME\n",
    "\n",
    "df_capstone_clean_2_last_partition_for_cluster_with_labels.to_pickle(PICKLE_PATH, compression='gzip')"
   ]
  }
 ],
 "metadata": {
  "kernelspec": {
   "display_name": "Python 3",
   "language": "python",
   "name": "python3"
  },
  "language_info": {
   "codemirror_mode": {
    "name": "ipython",
    "version": 3
   },
   "file_extension": ".py",
   "mimetype": "text/x-python",
   "name": "python",
   "nbconvert_exporter": "python",
   "pygments_lexer": "ipython3",
   "version": "3.11.8"
  }
 },
 "nbformat": 4,
 "nbformat_minor": 2
}
