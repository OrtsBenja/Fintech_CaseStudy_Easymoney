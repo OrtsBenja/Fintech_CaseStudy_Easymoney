{
 "cells": [
  {
   "cell_type": "code",
   "execution_count": 1,
   "metadata": {},
   "outputs": [],
   "source": [
    "import warnings\n",
    "warnings.filterwarnings(\"ignore\")\n",
    "\n",
    "# imports best practice pandas\n",
    "import os\n",
    "\n",
    "import numpy as np\n",
    "import pandas as pd\n",
    "import missingno as msno\n",
    "import plotly.express as px\n",
    "import matplotlib.pyplot as plt\n",
    "import seaborn as sns\n",
    "sns.set_theme()\n",
    "%matplotlib inline\n",
    "import math\n",
    "import pickle\n",
    "import joblib\n",
    "import dill\n",
    "import gzip\n",
    "\n",
    "import inspect\n",
    "\n",
    "\n",
    "#--------------------------------------------------------\n",
    "# imports best practice sklearn\n",
    "import sklearn\n",
    "from sklearn.feature_selection import VarianceThreshold\n",
    "from sklearn import set_config\n",
    "\n",
    "from sklearn.tree import DecisionTreeClassifier\n",
    "\n",
    "# preprocessing\n",
    "from sklearn.preprocessing import StandardScaler, PolynomialFeatures\n",
    "from sklearn.feature_selection import VarianceThreshold\n",
    "from sklearn.preprocessing import StandardScaler, OrdinalEncoder, LabelEncoder, OneHotEncoder, RobustScaler, MinMaxScaler\n",
    "from scipy import stats\n",
    "\n",
    "# transformers\n",
    "from sklearn.impute import KNNImputer, SimpleImputer\n",
    "from sklearn.preprocessing import FunctionTransformer\n",
    "\n",
    "\n",
    "from sklearn.cluster import KMeans\n",
    "\n",
    "# evaluacion\n",
    "from sklearn.metrics import mean_absolute_error, r2_score\n",
    "from sklearn.model_selection import train_test_split, cross_val_score\n",
    "from sklearn import metrics\n",
    "\n",
    "# pipelines\n",
    "from sklearn.pipeline import Pipeline\n",
    "from sklearn.compose import ColumnTransformer\n",
    "set_config(transform_output = \"pandas\")\n",
    "\n",
    "#models\n",
    "from sklearn.cluster import KMeans"
   ]
  },
  {
   "cell_type": "markdown",
   "metadata": {},
   "source": [
    "## Funciones Útiles"
   ]
  },
  {
   "cell_type": "code",
   "execution_count": 2,
   "metadata": {},
   "outputs": [],
   "source": [
    "def report_df(df, verbose = True):\n",
    "    '''\n",
    "    Hace un report simple sobre el DataFrame suministrado.\n",
    "    '''\n",
    "    print(df.info(verbose = verbose, show_counts=True))\n",
    "    total_nulos = df.isnull().sum().sum()\n",
    "    print()\n",
    "    print(f\"Tenemos un total de {total_nulos} nulos\")\n",
    "\n",
    "def listarNulos(dataset):\n",
    "    df_stat = dataset.isnull().sum()[(dataset.isnull().sum()>0)].sort_values(ascending=False).to_frame()\n",
    "    df_stat.rename(columns={0: 'Nulos'}, inplace = True)\n",
    "    percent = (df_stat[\"Nulos\"]/dataset.shape[0]).mul(100)\n",
    "    df_stat[\"porcentaje\"] = percent.round(2)\n",
    "    return df_stat\n"
   ]
  },
  {
   "cell_type": "markdown",
   "metadata": {},
   "source": [
    "## Carga de Datasets"
   ]
  },
  {
   "cell_type": "code",
   "execution_count": 3,
   "metadata": {},
   "outputs": [
    {
     "name": "stdout",
     "output_type": "stream",
     "text": [
      "DataFrame cargado exitosamente\n"
     ]
    }
   ],
   "source": [
    "DATA_PATH = \"../../data/processed/\"\n",
    "FILE_NAME = \"df_capstone_clean.pkl.gz\"\n",
    "PICKLE_PATH = DATA_PATH+FILE_NAME\n",
    "\n",
    "# Usa gzip.open para abrir el archivo comprimido\n",
    "with gzip.open(PICKLE_PATH, 'rb') as file:\n",
    "    df_capstone_clean = pd.read_pickle(file)\n",
    "\n",
    "print(\"DataFrame cargado exitosamente\")"
   ]
  },
  {
   "cell_type": "code",
   "execution_count": 4,
   "metadata": {},
   "outputs": [
    {
     "name": "stdout",
     "output_type": "stream",
     "text": [
      "<class 'pandas.core.frame.DataFrame'>\n",
      "RangeIndex: 5962924 entries, 0 to 5962923\n",
      "Data columns (total 28 columns):\n",
      " #   Column              Non-Null Count    Dtype         \n",
      "---  ------              --------------    -----         \n",
      " 0   pk_cid              5962924 non-null  int64         \n",
      " 1   pk_partition        5962924 non-null  datetime64[ns]\n",
      " 2   entry_date          5962924 non-null  datetime64[ns]\n",
      " 3   entry_channel       5962924 non-null  object        \n",
      " 4   active_customer     5962924 non-null  int64         \n",
      " 5   segment             5962924 non-null  object        \n",
      " 6   short_term_deposit  5962924 non-null  int64         \n",
      " 7   loans               5962924 non-null  int64         \n",
      " 8   mortgage            5962924 non-null  int64         \n",
      " 9   funds               5962924 non-null  int64         \n",
      " 10  securities          5962924 non-null  int64         \n",
      " 11  long_term_deposit   5962924 non-null  int64         \n",
      " 12  em_account_pp       5962924 non-null  int64         \n",
      " 13  credit_card         5962924 non-null  int64         \n",
      " 14  payroll             5962924 non-null  int64         \n",
      " 15  pension_plan        5962924 non-null  int64         \n",
      " 16  payroll_account     5962924 non-null  int64         \n",
      " 17  emc_account         5962924 non-null  int64         \n",
      " 18  debit_card          5962924 non-null  int64         \n",
      " 19  em_account_p        5962924 non-null  int64         \n",
      " 20  em_acount           5962924 non-null  int64         \n",
      " 21  country_id          5962924 non-null  object        \n",
      " 22  region_code         5962924 non-null  object        \n",
      " 23  gender              5962924 non-null  object        \n",
      " 24  age                 5962924 non-null  int64         \n",
      " 25  deceased            5962924 non-null  int64         \n",
      " 26  salary              5962924 non-null  float64       \n",
      " 27  age_cat             5962924 non-null  category      \n",
      "dtypes: category(1), datetime64[ns](2), float64(1), int64(19), object(5)\n",
      "memory usage: 1.2+ GB\n",
      "None\n",
      "\n",
      "Tenemos un total de 0 nulos\n"
     ]
    },
    {
     "data": {
      "text/html": [
       "<div>\n",
       "<style scoped>\n",
       "    .dataframe tbody tr th:only-of-type {\n",
       "        vertical-align: middle;\n",
       "    }\n",
       "\n",
       "    .dataframe tbody tr th {\n",
       "        vertical-align: top;\n",
       "    }\n",
       "\n",
       "    .dataframe thead th {\n",
       "        text-align: right;\n",
       "    }\n",
       "</style>\n",
       "<table border=\"1\" class=\"dataframe\">\n",
       "  <thead>\n",
       "    <tr style=\"text-align: right;\">\n",
       "      <th></th>\n",
       "      <th>pk_cid</th>\n",
       "      <th>pk_partition</th>\n",
       "      <th>entry_date</th>\n",
       "      <th>entry_channel</th>\n",
       "      <th>active_customer</th>\n",
       "      <th>segment</th>\n",
       "      <th>short_term_deposit</th>\n",
       "      <th>loans</th>\n",
       "      <th>mortgage</th>\n",
       "      <th>funds</th>\n",
       "      <th>...</th>\n",
       "      <th>debit_card</th>\n",
       "      <th>em_account_p</th>\n",
       "      <th>em_acount</th>\n",
       "      <th>country_id</th>\n",
       "      <th>region_code</th>\n",
       "      <th>gender</th>\n",
       "      <th>age</th>\n",
       "      <th>deceased</th>\n",
       "      <th>salary</th>\n",
       "      <th>age_cat</th>\n",
       "    </tr>\n",
       "  </thead>\n",
       "  <tbody>\n",
       "    <tr>\n",
       "      <th>0</th>\n",
       "      <td>1375586</td>\n",
       "      <td>2018-01-28</td>\n",
       "      <td>2018-01-12</td>\n",
       "      <td>KHL</td>\n",
       "      <td>1</td>\n",
       "      <td>02 - PARTICULARES</td>\n",
       "      <td>0</td>\n",
       "      <td>0</td>\n",
       "      <td>0</td>\n",
       "      <td>0</td>\n",
       "      <td>...</td>\n",
       "      <td>0</td>\n",
       "      <td>0</td>\n",
       "      <td>1</td>\n",
       "      <td>ES</td>\n",
       "      <td>29.0</td>\n",
       "      <td>H</td>\n",
       "      <td>35</td>\n",
       "      <td>0</td>\n",
       "      <td>87218.10</td>\n",
       "      <td>(30.0, 40.0]</td>\n",
       "    </tr>\n",
       "    <tr>\n",
       "      <th>1</th>\n",
       "      <td>1050611</td>\n",
       "      <td>2018-01-28</td>\n",
       "      <td>2015-08-10</td>\n",
       "      <td>KHE</td>\n",
       "      <td>0</td>\n",
       "      <td>03 - UNIVERSITARIO</td>\n",
       "      <td>0</td>\n",
       "      <td>0</td>\n",
       "      <td>0</td>\n",
       "      <td>0</td>\n",
       "      <td>...</td>\n",
       "      <td>0</td>\n",
       "      <td>0</td>\n",
       "      <td>1</td>\n",
       "      <td>ES</td>\n",
       "      <td>13.0</td>\n",
       "      <td>V</td>\n",
       "      <td>23</td>\n",
       "      <td>0</td>\n",
       "      <td>35548.74</td>\n",
       "      <td>(20.0, 30.0]</td>\n",
       "    </tr>\n",
       "    <tr>\n",
       "      <th>2</th>\n",
       "      <td>1050612</td>\n",
       "      <td>2018-01-28</td>\n",
       "      <td>2015-08-10</td>\n",
       "      <td>KHE</td>\n",
       "      <td>0</td>\n",
       "      <td>03 - UNIVERSITARIO</td>\n",
       "      <td>0</td>\n",
       "      <td>0</td>\n",
       "      <td>0</td>\n",
       "      <td>0</td>\n",
       "      <td>...</td>\n",
       "      <td>0</td>\n",
       "      <td>0</td>\n",
       "      <td>1</td>\n",
       "      <td>ES</td>\n",
       "      <td>13.0</td>\n",
       "      <td>V</td>\n",
       "      <td>23</td>\n",
       "      <td>0</td>\n",
       "      <td>122179.11</td>\n",
       "      <td>(20.0, 30.0]</td>\n",
       "    </tr>\n",
       "    <tr>\n",
       "      <th>3</th>\n",
       "      <td>1050613</td>\n",
       "      <td>2018-01-28</td>\n",
       "      <td>2015-08-10</td>\n",
       "      <td>KHD</td>\n",
       "      <td>0</td>\n",
       "      <td>03 - UNIVERSITARIO</td>\n",
       "      <td>1</td>\n",
       "      <td>0</td>\n",
       "      <td>0</td>\n",
       "      <td>0</td>\n",
       "      <td>...</td>\n",
       "      <td>0</td>\n",
       "      <td>0</td>\n",
       "      <td>0</td>\n",
       "      <td>ES</td>\n",
       "      <td>50.0</td>\n",
       "      <td>H</td>\n",
       "      <td>22</td>\n",
       "      <td>0</td>\n",
       "      <td>119775.54</td>\n",
       "      <td>(20.0, 30.0]</td>\n",
       "    </tr>\n",
       "    <tr>\n",
       "      <th>4</th>\n",
       "      <td>1050614</td>\n",
       "      <td>2018-01-28</td>\n",
       "      <td>2015-08-10</td>\n",
       "      <td>KHE</td>\n",
       "      <td>1</td>\n",
       "      <td>03 - UNIVERSITARIO</td>\n",
       "      <td>0</td>\n",
       "      <td>0</td>\n",
       "      <td>0</td>\n",
       "      <td>0</td>\n",
       "      <td>...</td>\n",
       "      <td>0</td>\n",
       "      <td>0</td>\n",
       "      <td>1</td>\n",
       "      <td>ES</td>\n",
       "      <td>50.0</td>\n",
       "      <td>V</td>\n",
       "      <td>23</td>\n",
       "      <td>0</td>\n",
       "      <td>87777.54</td>\n",
       "      <td>(20.0, 30.0]</td>\n",
       "    </tr>\n",
       "  </tbody>\n",
       "</table>\n",
       "<p>5 rows × 28 columns</p>\n",
       "</div>"
      ],
      "text/plain": [
       "    pk_cid pk_partition entry_date entry_channel  active_customer  \\\n",
       "0  1375586   2018-01-28 2018-01-12           KHL                1   \n",
       "1  1050611   2018-01-28 2015-08-10           KHE                0   \n",
       "2  1050612   2018-01-28 2015-08-10           KHE                0   \n",
       "3  1050613   2018-01-28 2015-08-10           KHD                0   \n",
       "4  1050614   2018-01-28 2015-08-10           KHE                1   \n",
       "\n",
       "              segment  short_term_deposit  loans  mortgage  funds  ...  \\\n",
       "0   02 - PARTICULARES                   0      0         0      0  ...   \n",
       "1  03 - UNIVERSITARIO                   0      0         0      0  ...   \n",
       "2  03 - UNIVERSITARIO                   0      0         0      0  ...   \n",
       "3  03 - UNIVERSITARIO                   1      0         0      0  ...   \n",
       "4  03 - UNIVERSITARIO                   0      0         0      0  ...   \n",
       "\n",
       "   debit_card  em_account_p  em_acount  country_id  region_code  gender  age  \\\n",
       "0           0             0          1          ES         29.0       H   35   \n",
       "1           0             0          1          ES         13.0       V   23   \n",
       "2           0             0          1          ES         13.0       V   23   \n",
       "3           0             0          0          ES         50.0       H   22   \n",
       "4           0             0          1          ES         50.0       V   23   \n",
       "\n",
       "   deceased     salary       age_cat  \n",
       "0         0   87218.10  (30.0, 40.0]  \n",
       "1         0   35548.74  (20.0, 30.0]  \n",
       "2         0  122179.11  (20.0, 30.0]  \n",
       "3         0  119775.54  (20.0, 30.0]  \n",
       "4         0   87777.54  (20.0, 30.0]  \n",
       "\n",
       "[5 rows x 28 columns]"
      ]
     },
     "execution_count": 4,
     "metadata": {},
     "output_type": "execute_result"
    }
   ],
   "source": [
    "report_df(df_capstone_clean)\n",
    "\n",
    "df_capstone_clean.head()"
   ]
  },
  {
   "cell_type": "code",
   "execution_count": 5,
   "metadata": {},
   "outputs": [],
   "source": [
    "df_capstone_clean_2 = df_capstone_clean.copy()"
   ]
  },
  {
   "cell_type": "markdown",
   "metadata": {},
   "source": [
    "## Generación de Variables"
   ]
  },
  {
   "cell_type": "markdown",
   "metadata": {},
   "source": [
    "### \"regions_ca_id\"\n"
   ]
  },
  {
   "cell_type": "code",
   "execution_count": 6,
   "metadata": {},
   "outputs": [],
   "source": [
    "# propuesta de agrupar regiones a comunidades autonomas\n",
    "\n",
    "mapeo = {1.0: \"PV\", 2.0: \"CM\",  3.0: \"VC\",  4.0: \"AN\",  5.0: \"CL\",  6.0: \"EX\", 7.0: \"IB\",  8.0: \"CT\",  9.0: \"CL\", 10.0: \"EX\", 11.0: \"AN\", \n",
    "         12.0: \"VC\", 13.0: \"CM\", 14.0: \"AN\", 15.0: \"GA\", 16.0: \"CM\", 17.0: \"CT\", 18.0: \"AN\", 19.0: \"CM\", 20.0: \"PV\", 21.0: \"AN\", 22.0: \"AR\", \n",
    "         23.0: \"AN\", 24.0: \"CL\", 25.0: \"CT\", 26.0: \"RI\", 27.0: \"GA\", 28.0: \"MD\", 29.0: \"AN\", 30.0: \"MC\", 31.0: \"NC\", 32.0: \"GA\", 33.0: \"AS\", 34.0: \"CL\", \n",
    "         35.0: \"CN\", 36.0: \"GA\", 37.0: \"CL\", 38.0: \"CN\", 39.0: \"CB\", 40.0: \"CL\", 41.0: \"AN\",  42.0: \"CL\", 43.0: \"CT\", 44.0: \"AR\", 45.0: \"CM\", 46.0: \"VC\", \n",
    "         47.0: \"CL\", 48.0: \"PV\",  49.0: \"CL\", 50.0: \"AR\", 51.0: \"CE\", 52.0: \"ML\"}"
   ]
  },
  {
   "cell_type": "code",
   "execution_count": 7,
   "metadata": {},
   "outputs": [],
   "source": [
    "df_capstone_clean_2['regions_ca_id'] = df_capstone_clean_2['region_code'].apply(lambda x: mapeo.get(float(x)) if x != 'Extranjero' else x)"
   ]
  },
  {
   "cell_type": "code",
   "execution_count": 8,
   "metadata": {},
   "outputs": [
    {
     "name": "stdout",
     "output_type": "stream",
     "text": [
      "['AN' 'CM' 'AR' 'CL' 'PV' 'EX' 'CT' 'NC' 'GA' 'MD' 'VC' 'CB' 'IB' 'RI'\n",
      " 'MC' 'CN' 'AS' 'ML' 'Extranjero' 'CE']\n",
      "\n",
      "\n",
      "20 valores únicos\n"
     ]
    }
   ],
   "source": [
    "print(df_capstone_clean_2['regions_ca_id'].unique())\n",
    "print('')\n",
    "print('')\n",
    "print(f'{df_capstone_clean_2[\"regions_ca_id\"].nunique()} valores únicos')"
   ]
  },
  {
   "cell_type": "code",
   "execution_count": 9,
   "metadata": {},
   "outputs": [
    {
     "data": {
      "text/plain": [
       "MD            1185757\n",
       "AN             953118\n",
       "CT             749780\n",
       "VC             598221\n",
       "GA             538163\n",
       "CL             402626\n",
       "CM             307347\n",
       "MC             296856\n",
       "EX             205870\n",
       "AR             166711\n",
       "CN             150983\n",
       "AS             134562\n",
       "CB              69589\n",
       "PV              67088\n",
       "IB              62436\n",
       "RI              34790\n",
       "NC              31241\n",
       "CE               2896\n",
       "ML               2638\n",
       "Extranjero       2252\n",
       "Name: regions_ca_id, dtype: int64"
      ]
     },
     "execution_count": 9,
     "metadata": {},
     "output_type": "execute_result"
    }
   ],
   "source": [
    "df_capstone_clean_2['regions_ca_id'].value_counts(dropna=False)"
   ]
  },
  {
   "cell_type": "code",
   "execution_count": 10,
   "metadata": {},
   "outputs": [
    {
     "data": {
      "text/plain": [
       "0"
      ]
     },
     "execution_count": 10,
     "metadata": {},
     "output_type": "execute_result"
    }
   ],
   "source": [
    "df_capstone_clean_2['regions_ca_id'].isnull().sum()"
   ]
  },
  {
   "cell_type": "markdown",
   "metadata": {},
   "source": [
    "### \"customer_acquisition_channel\""
   ]
  },
  {
   "cell_type": "code",
   "execution_count": 11,
   "metadata": {},
   "outputs": [],
   "source": [
    "\n",
    "# Categoría para RED\n",
    "df_capstone_clean_2.loc[df_capstone_clean_2['entry_channel'] == 'RED', 'customer_acquisition_channel'] = 'RED'\n",
    "\n",
    "# Categoría para valores numéricos\n",
    "df_capstone_clean_2.loc[df_capstone_clean_2['entry_channel'].str.isnumeric(), 'customer_acquisition_channel'] = 'Numeric'\n",
    "\n",
    "# Categorías por prefijo para el resto\n",
    "df_capstone_clean_2.loc[\n",
    "    ~df_capstone_clean_2['entry_channel'].isin(['RED']) & \n",
    "    ~df_capstone_clean_2['entry_channel'].str.isnumeric(), 'customer_acquisition_channel'\n",
    "] = df_capstone_clean_2['entry_channel'].str[:2]"
   ]
  },
  {
   "cell_type": "code",
   "execution_count": 12,
   "metadata": {},
   "outputs": [
    {
     "data": {
      "text/plain": [
       "customer_acquisition_channel\n",
       "KH                              4496434\n",
       "KF                               977585\n",
       "KA                               423886\n",
       "RED                               60899\n",
       "KB                                 1949\n",
       "Numeric                            1031\n",
       "KE                                  767\n",
       "KC                                  229\n",
       "KD                                   93\n",
       "KG                                   51\n",
       "dtype: int64"
      ]
     },
     "execution_count": 12,
     "metadata": {},
     "output_type": "execute_result"
    }
   ],
   "source": [
    "df_capstone_clean_2[['customer_acquisition_channel']].value_counts()"
   ]
  },
  {
   "cell_type": "code",
   "execution_count": 13,
   "metadata": {},
   "outputs": [
    {
     "name": "stdout",
     "output_type": "stream",
     "text": [
      "<class 'pandas.core.frame.DataFrame'>\n",
      "RangeIndex: 5962924 entries, 0 to 5962923\n",
      "Data columns (total 2 columns):\n",
      " #   Column                        Dtype \n",
      "---  ------                        ----- \n",
      " 0   entry_channel                 object\n",
      " 1   customer_acquisition_channel  object\n",
      "dtypes: object(2)\n",
      "memory usage: 91.0+ MB\n"
     ]
    },
    {
     "data": {
      "text/html": [
       "<div>\n",
       "<style scoped>\n",
       "    .dataframe tbody tr th:only-of-type {\n",
       "        vertical-align: middle;\n",
       "    }\n",
       "\n",
       "    .dataframe tbody tr th {\n",
       "        vertical-align: top;\n",
       "    }\n",
       "\n",
       "    .dataframe thead th {\n",
       "        text-align: right;\n",
       "    }\n",
       "</style>\n",
       "<table border=\"1\" class=\"dataframe\">\n",
       "  <thead>\n",
       "    <tr style=\"text-align: right;\">\n",
       "      <th></th>\n",
       "      <th>entry_channel</th>\n",
       "      <th>customer_acquisition_channel</th>\n",
       "    </tr>\n",
       "  </thead>\n",
       "  <tbody>\n",
       "    <tr>\n",
       "      <th>0</th>\n",
       "      <td>KHL</td>\n",
       "      <td>KH</td>\n",
       "    </tr>\n",
       "    <tr>\n",
       "      <th>1</th>\n",
       "      <td>KHE</td>\n",
       "      <td>KH</td>\n",
       "    </tr>\n",
       "    <tr>\n",
       "      <th>2</th>\n",
       "      <td>KHE</td>\n",
       "      <td>KH</td>\n",
       "    </tr>\n",
       "    <tr>\n",
       "      <th>3</th>\n",
       "      <td>KHD</td>\n",
       "      <td>KH</td>\n",
       "    </tr>\n",
       "    <tr>\n",
       "      <th>4</th>\n",
       "      <td>KHE</td>\n",
       "      <td>KH</td>\n",
       "    </tr>\n",
       "  </tbody>\n",
       "</table>\n",
       "</div>"
      ],
      "text/plain": [
       "  entry_channel customer_acquisition_channel\n",
       "0           KHL                           KH\n",
       "1           KHE                           KH\n",
       "2           KHE                           KH\n",
       "3           KHD                           KH\n",
       "4           KHE                           KH"
      ]
     },
     "execution_count": 13,
     "metadata": {},
     "output_type": "execute_result"
    }
   ],
   "source": [
    "df_capstone_clean_2[['entry_channel','customer_acquisition_channel']].info()\n",
    "df_capstone_clean_2[['entry_channel','customer_acquisition_channel']].head()"
   ]
  },
  {
   "cell_type": "code",
   "execution_count": 14,
   "metadata": {},
   "outputs": [
    {
     "data": {
      "text/plain": [
       "0"
      ]
     },
     "execution_count": 14,
     "metadata": {},
     "output_type": "execute_result"
    }
   ],
   "source": [
    "df_capstone_clean_2['customer_acquisition_channel'].isnull().sum()"
   ]
  },
  {
   "cell_type": "markdown",
   "metadata": {},
   "source": [
    "### \"customer_acquisition_channel_min\""
   ]
  },
  {
   "cell_type": "code",
   "execution_count": 15,
   "metadata": {},
   "outputs": [],
   "source": [
    "def categorizar_canal_entrada(df):\n",
    "    # Categoría para RED\n",
    "    df.loc[df['entry_channel'] == 'RED', 'customer_acquisition_channel_min'] = 'RED'\n",
    "    \n",
    "    # Categoría para valores numéricos\n",
    "    df.loc[df['entry_channel'].str.isnumeric(), 'customer_acquisition_channel_min'] = 'Numeric'\n",
    "    \n",
    "    # Categoría general para el resto\n",
    "    df.loc[\n",
    "        ~df['entry_channel'].isin(['RED']) & \n",
    "        ~df['entry_channel'].str.isnumeric(), 'customer_acquisition_channel_min'\n",
    "    ] = 'Prefix'\n",
    "\n",
    "    return df\n",
    "\n",
    "# Aplicar la función al DataFrame\n",
    "df_capstone_clean_2 = categorizar_canal_entrada(df_capstone_clean_2)\n"
   ]
  },
  {
   "cell_type": "code",
   "execution_count": 16,
   "metadata": {},
   "outputs": [
    {
     "data": {
      "text/plain": [
       "Prefix     5900994\n",
       "RED          60899\n",
       "Numeric       1031\n",
       "Name: customer_acquisition_channel_min, dtype: int64"
      ]
     },
     "execution_count": 16,
     "metadata": {},
     "output_type": "execute_result"
    }
   ],
   "source": [
    "df_capstone_clean_2[\"customer_acquisition_channel_min\"].value_counts()"
   ]
  },
  {
   "cell_type": "code",
   "execution_count": 17,
   "metadata": {},
   "outputs": [
    {
     "data": {
      "text/plain": [
       "0"
      ]
     },
     "execution_count": 17,
     "metadata": {},
     "output_type": "execute_result"
    }
   ],
   "source": [
    "df_capstone_clean_2[\"customer_acquisition_channel_min\"].isnull().sum()"
   ]
  },
  {
   "cell_type": "markdown",
   "metadata": {},
   "source": [
    "### \"nr_product\""
   ]
  },
  {
   "cell_type": "code",
   "execution_count": 18,
   "metadata": {},
   "outputs": [],
   "source": [
    "products_list = ['short_term_deposit', 'loans', 'mortgage', 'funds',\n",
    "                'securities', 'long_term_deposit', 'em_account_pp', 'credit_card', 'payroll', 'pension_plan',\n",
    "                'payroll_account', 'emc_account', 'debit_card', 'em_account_p', 'em_acount']\n",
    "\n",
    "df_capstone_clean_2['nr_product'] = df_capstone_clean_2[products_list].sum(axis=1)\n",
    "# df_capstone_clean_2['producsts_>_1'] = (df_capstone_clean_2['nr_product'] > 0).astype('int')"
   ]
  },
  {
   "cell_type": "code",
   "execution_count": 19,
   "metadata": {},
   "outputs": [
    {
     "data": {
      "text/plain": [
       "1    3995714\n",
       "0    1121507\n",
       "2     528593\n",
       "3     150269\n",
       "4     105720\n",
       "5      42890\n",
       "6      14809\n",
       "7       2799\n",
       "8        573\n",
       "9         50\n",
       "Name: nr_product, dtype: int64"
      ]
     },
     "execution_count": 19,
     "metadata": {},
     "output_type": "execute_result"
    }
   ],
   "source": [
    "df_capstone_clean_2[\"nr_product\"].value_counts()"
   ]
  },
  {
   "cell_type": "code",
   "execution_count": 20,
   "metadata": {},
   "outputs": [
    {
     "data": {
      "text/plain": [
       "0"
      ]
     },
     "execution_count": 20,
     "metadata": {},
     "output_type": "execute_result"
    }
   ],
   "source": [
    "df_capstone_clean_2[\"nr_product\"].isnull().sum()"
   ]
  },
  {
   "cell_type": "markdown",
   "metadata": {},
   "source": [
    "### \"nr_acccounts\", \"nr_saving_and_investment\", \"nr_financing\"\n",
    "Indica cuantos productos relacionados a inversiones tiene el cliente"
   ]
  },
  {
   "cell_type": "code",
   "execution_count": 21,
   "metadata": {},
   "outputs": [
    {
     "name": "stdout",
     "output_type": "stream",
     "text": [
      "Todos los productos incluídos en la lista de productos\n"
     ]
    }
   ],
   "source": [
    "products_list = ['short_term_deposit', 'loans', 'mortgage', 'funds',\n",
    "                'securities', 'long_term_deposit', 'em_account_pp', 'credit_card', 'payroll', 'pension_plan',\n",
    "                'payroll_account', 'emc_account', 'debit_card', 'em_account_p', 'em_acount']\n",
    "\n",
    "accounts_list = ['em_acount','em_account_p','em_account_pp','emc_account']\n",
    "saving_and_investment_products_list = ['short_term_deposit','long_term_deposit','funds','pension_plan','securities']\n",
    "financing_products_list = ['loans','mortgage','credit_card','payroll','payroll_account','debit_card']\n",
    "\n",
    "if len(products_list) - (len(accounts_list) + len(saving_and_investment_products_list) + len(financing_products_list)) == 0:\n",
    "    print('Todos los productos incluídos en la lista de productos')\n",
    "else:\n",
    "    print('Chequear, algunos productos no están catalogados')"
   ]
  },
  {
   "cell_type": "code",
   "execution_count": 22,
   "metadata": {},
   "outputs": [],
   "source": [
    "df_capstone_clean_2['nr_accounts'] = df_capstone_clean_2[accounts_list].sum(axis='columns')\n",
    "df_capstone_clean_2['nr_saving_and_investment'] = df_capstone_clean_2[saving_and_investment_products_list].sum(axis='columns')\n",
    "df_capstone_clean_2['nr_financing'] = df_capstone_clean_2[financing_products_list].sum(axis='columns')"
   ]
  },
  {
   "cell_type": "code",
   "execution_count": 23,
   "metadata": {},
   "outputs": [
    {
     "data": {
      "text/plain": [
       "1    4361685\n",
       "0    1427783\n",
       "2     173456\n",
       "Name: nr_accounts, dtype: int64"
      ]
     },
     "execution_count": 23,
     "metadata": {},
     "output_type": "execute_result"
    }
   ],
   "source": [
    "df_capstone_clean_2[\"nr_accounts\"].value_counts()"
   ]
  },
  {
   "cell_type": "code",
   "execution_count": 24,
   "metadata": {},
   "outputs": [
    {
     "data": {
      "text/plain": [
       "0    5608901\n",
       "1     333841\n",
       "2      18450\n",
       "3       1581\n",
       "4        151\n",
       "Name: nr_saving_and_investment, dtype: int64"
      ]
     },
     "execution_count": 24,
     "metadata": {},
     "output_type": "execute_result"
    }
   ],
   "source": [
    "df_capstone_clean_2[\"nr_saving_and_investment\"].value_counts()"
   ]
  },
  {
   "cell_type": "code",
   "execution_count": 25,
   "metadata": {},
   "outputs": [
    {
     "data": {
      "text/plain": [
       "0    5236075\n",
       "1     446731\n",
       "2     140910\n",
       "3     115779\n",
       "4      23200\n",
       "5        229\n",
       "Name: nr_financing, dtype: int64"
      ]
     },
     "execution_count": 25,
     "metadata": {},
     "output_type": "execute_result"
    }
   ],
   "source": [
    "df_capstone_clean_2[\"nr_financing\"].value_counts()"
   ]
  },
  {
   "cell_type": "code",
   "execution_count": 26,
   "metadata": {},
   "outputs": [
    {
     "data": {
      "text/plain": [
       "0"
      ]
     },
     "execution_count": 26,
     "metadata": {},
     "output_type": "execute_result"
    }
   ],
   "source": [
    "df_capstone_clean_2[\"nr_accounts\"].isnull().sum()"
   ]
  },
  {
   "cell_type": "code",
   "execution_count": 27,
   "metadata": {},
   "outputs": [
    {
     "data": {
      "text/plain": [
       "0"
      ]
     },
     "execution_count": 27,
     "metadata": {},
     "output_type": "execute_result"
    }
   ],
   "source": [
    "df_capstone_clean_2[\"nr_saving_and_investment\"].isnull().sum()"
   ]
  },
  {
   "cell_type": "code",
   "execution_count": 28,
   "metadata": {},
   "outputs": [
    {
     "data": {
      "text/plain": [
       "0"
      ]
     },
     "execution_count": 28,
     "metadata": {},
     "output_type": "execute_result"
    }
   ],
   "source": [
    "df_capstone_clean_2[\"nr_financing\"].isnull().sum()"
   ]
  },
  {
   "cell_type": "markdown",
   "metadata": {},
   "source": [
    "### \"nr_product_gap_to_max\"\n",
    "Diferencia entre el \"nr_product\" de la partición y el máximo histórico del cliente"
   ]
  },
  {
   "cell_type": "code",
   "execution_count": 29,
   "metadata": {},
   "outputs": [],
   "source": [
    "df_capstone_clean_2['nr_product_max'] = df_capstone_clean_2.groupby('pk_cid')['nr_product'].transform(max)\n",
    "df_capstone_clean_2['nr_product_gap_to_max'] = df_capstone_clean_2['nr_product_max'] - df_capstone_clean_2['nr_product']"
   ]
  },
  {
   "cell_type": "code",
   "execution_count": 30,
   "metadata": {},
   "outputs": [
    {
     "data": {
      "text/plain": [
       "1    3710888\n",
       "0     969700\n",
       "2     717400\n",
       "3     239477\n",
       "4     207415\n",
       "5      78759\n",
       "6      31108\n",
       "7       6537\n",
       "8       1453\n",
       "9        187\n",
       "Name: nr_product_max, dtype: int64"
      ]
     },
     "execution_count": 30,
     "metadata": {},
     "output_type": "execute_result"
    }
   ],
   "source": [
    "df_capstone_clean_2[\"nr_product_max\"].value_counts()"
   ]
  },
  {
   "cell_type": "code",
   "execution_count": 31,
   "metadata": {},
   "outputs": [
    {
     "data": {
      "text/plain": [
       "0    5200669\n",
       "1     520446\n",
       "2     179733\n",
       "3      51531\n",
       "4       8721\n",
       "5       1598\n",
       "6        191\n",
       "7         35\n",
       "Name: nr_product_gap_to_max, dtype: int64"
      ]
     },
     "execution_count": 31,
     "metadata": {},
     "output_type": "execute_result"
    }
   ],
   "source": [
    "df_capstone_clean_2[\"nr_product_gap_to_max\"].value_counts()"
   ]
  },
  {
   "cell_type": "code",
   "execution_count": 32,
   "metadata": {},
   "outputs": [
    {
     "data": {
      "text/plain": [
       "0"
      ]
     },
     "execution_count": 32,
     "metadata": {},
     "output_type": "execute_result"
    }
   ],
   "source": [
    "df_capstone_clean_2[\"nr_product_max\"].isnull().sum()"
   ]
  },
  {
   "cell_type": "code",
   "execution_count": 33,
   "metadata": {},
   "outputs": [
    {
     "data": {
      "text/plain": [
       "0"
      ]
     },
     "execution_count": 33,
     "metadata": {},
     "output_type": "execute_result"
    }
   ],
   "source": [
    "df_capstone_clean_2[\"nr_product_gap_to_max\"].isnull().sum()"
   ]
  },
  {
   "cell_type": "markdown",
   "metadata": {},
   "source": [
    "### \"nr_investment\""
   ]
  },
  {
   "cell_type": "code",
   "execution_count": 34,
   "metadata": {},
   "outputs": [],
   "source": [
    "financial_products_list = ['funds','pension_plan','securities']\n",
    "df_capstone_clean_2['nr_investment'] = df_capstone_clean_2[financial_products_list].sum(axis='columns')"
   ]
  },
  {
   "cell_type": "code",
   "execution_count": 35,
   "metadata": {},
   "outputs": [
    {
     "data": {
      "text/plain": [
       "0    5710433\n",
       "1     245384\n",
       "2       6671\n",
       "3        436\n",
       "Name: nr_investment, dtype: int64"
      ]
     },
     "execution_count": 35,
     "metadata": {},
     "output_type": "execute_result"
    }
   ],
   "source": [
    "df_capstone_clean_2[\"nr_investment\"].value_counts()"
   ]
  },
  {
   "cell_type": "code",
   "execution_count": 36,
   "metadata": {},
   "outputs": [
    {
     "data": {
      "text/plain": [
       "0"
      ]
     },
     "execution_count": 36,
     "metadata": {},
     "output_type": "execute_result"
    }
   ],
   "source": [
    "df_capstone_clean_2[\"nr_investment\"].isnull().sum()"
   ]
  },
  {
   "cell_type": "markdown",
   "metadata": {},
   "source": [
    "### \"product_mix_diversity\"\n",
    "Diversidad en el tipo de productos contratados, para entender la complejidad de las necesidades financieras del cliente."
   ]
  },
  {
   "cell_type": "code",
   "execution_count": 37,
   "metadata": {},
   "outputs": [],
   "source": [
    "products_list = ['short_term_deposit', 'loans', 'mortgage', 'funds',\n",
    "                'securities', 'long_term_deposit', 'em_account_pp', 'credit_card', 'payroll', 'pension_plan',\n",
    "                'payroll_account', 'emc_account', 'debit_card', 'em_account_p', 'em_acount']\n",
    "\n",
    "accounts_list = ['em_acount','em_account_p','em_account_pp','emc_account']\n",
    "saving_and_investment_products_list = ['short_term_deposit','long_term_deposit','funds','pension_plan','securities']\n",
    "financing_products_list = ['loans','mortgage','credit_card','payroll','payroll_account','debit_card']"
   ]
  },
  {
   "cell_type": "code",
   "execution_count": 38,
   "metadata": {},
   "outputs": [],
   "source": [
    "df_capstone_clean_2['product_mix_diversity'] = (df_capstone_clean_2['nr_accounts'].apply(lambda x: x/len(accounts_list)) + \\\n",
    "                                               df_capstone_clean_2['nr_saving_and_investment'].apply(lambda x: x/len(saving_and_investment_products_list)) + \\\n",
    "                                               df_capstone_clean_2['nr_financing'].apply(lambda x: x/len(financing_products_list)))\\\n",
    "                                               .apply(lambda x: x/3)"
   ]
  },
  {
   "cell_type": "code",
   "execution_count": 39,
   "metadata": {},
   "outputs": [
    {
     "data": {
      "text/plain": [
       "0.083333    3893549\n",
       "0.000000    1121507\n",
       "0.138889     313848\n",
       "0.166667     106573\n",
       "0.233333      97621\n",
       "             ...   \n",
       "0.544444          5\n",
       "0.200000          3\n",
       "0.305556          3\n",
       "0.405556          2\n",
       "0.377778          1\n",
       "Name: product_mix_diversity, Length: 65, dtype: int64"
      ]
     },
     "execution_count": 39,
     "metadata": {},
     "output_type": "execute_result"
    }
   ],
   "source": [
    "df_capstone_clean_2[\"product_mix_diversity\"].value_counts()"
   ]
  },
  {
   "cell_type": "code",
   "execution_count": 40,
   "metadata": {},
   "outputs": [
    {
     "data": {
      "text/plain": [
       "0"
      ]
     },
     "execution_count": 40,
     "metadata": {},
     "output_type": "execute_result"
    }
   ],
   "source": [
    "df_capstone_clean_2[\"product_mix_diversity\"].isnull().sum()"
   ]
  },
  {
   "cell_type": "markdown",
   "metadata": {},
   "source": [
    "### \"salary_CA\""
   ]
  },
  {
   "cell_type": "code",
   "execution_count": 41,
   "metadata": {},
   "outputs": [
    {
     "name": "stdout",
     "output_type": "stream",
     "text": [
      "          pk_cid pk_partition entry_date entry_channel  active_customer  \\\n",
      "0        1375586   2018-01-28 2018-01-12           KHL                1   \n",
      "1        1050611   2018-01-28 2015-08-10           KHE                0   \n",
      "2        1050612   2018-01-28 2015-08-10           KHE                0   \n",
      "3        1050613   2018-01-28 2015-08-10           KHD                0   \n",
      "4        1050614   2018-01-28 2015-08-10           KHE                1   \n",
      "...          ...          ...        ...           ...              ...   \n",
      "5962919  1166765   2019-05-28 2016-08-14           KHE                0   \n",
      "5962920  1166764   2019-05-28 2016-08-14           KHE                0   \n",
      "5962921  1166763   2019-05-28 2016-08-14           KHE                1   \n",
      "5962922  1166789   2019-05-28 2016-08-14           KHE                0   \n",
      "5962923  1550586   2019-05-28 2019-05-13           KFC                1   \n",
      "\n",
      "                    segment  short_term_deposit  loans  mortgage  funds  ...  \\\n",
      "0         02 - PARTICULARES                   0      0         0      0  ...   \n",
      "1        03 - UNIVERSITARIO                   0      0         0      0  ...   \n",
      "2        03 - UNIVERSITARIO                   0      0         0      0  ...   \n",
      "3        03 - UNIVERSITARIO                   1      0         0      0  ...   \n",
      "4        03 - UNIVERSITARIO                   0      0         0      0  ...   \n",
      "...                     ...                 ...    ...       ...    ...  ...   \n",
      "5962919  03 - UNIVERSITARIO                   0      0         0      0  ...   \n",
      "5962920  03 - UNIVERSITARIO                   0      0         0      0  ...   \n",
      "5962921   02 - PARTICULARES                   0      0         0      0  ...   \n",
      "5962922  03 - UNIVERSITARIO                   0      0         0      0  ...   \n",
      "5962923   02 - PARTICULARES                   0      0         0      0  ...   \n",
      "\n",
      "         customer_acquisition_channel_min  nr_product  nr_accounts  \\\n",
      "0                                  Prefix           1            1   \n",
      "1                                  Prefix           1            1   \n",
      "2                                  Prefix           1            1   \n",
      "3                                  Prefix           1            0   \n",
      "4                                  Prefix           1            1   \n",
      "...                                   ...         ...          ...   \n",
      "5962919                            Prefix           1            1   \n",
      "5962920                            Prefix           1            1   \n",
      "5962921                            Prefix           1            1   \n",
      "5962922                            Prefix           1            1   \n",
      "5962923                            Prefix           1            1   \n",
      "\n",
      "         nr_saving_and_investment  nr_financing  nr_product_max  \\\n",
      "0                               0             0               2   \n",
      "1                               0             0               1   \n",
      "2                               0             0               1   \n",
      "3                               1             0               1   \n",
      "4                               0             0               1   \n",
      "...                           ...           ...             ...   \n",
      "5962919                         0             0               1   \n",
      "5962920                         0             0               2   \n",
      "5962921                         0             0               1   \n",
      "5962922                         0             0               1   \n",
      "5962923                         0             0               1   \n",
      "\n",
      "         nr_product_gap_to_max  nr_investment  product_mix_diversity  \\\n",
      "0                            1              0               0.083333   \n",
      "1                            0              0               0.083333   \n",
      "2                            0              0               0.083333   \n",
      "3                            0              0               0.066667   \n",
      "4                            0              0               0.083333   \n",
      "...                        ...            ...                    ...   \n",
      "5962919                      0              0               0.083333   \n",
      "5962920                      1              0               0.083333   \n",
      "5962921                      0              0               0.083333   \n",
      "5962922                      0              0               0.083333   \n",
      "5962923                      0              0               0.083333   \n",
      "\n",
      "         salary_CA  \n",
      "0          11977.0  \n",
      "1          15129.0  \n",
      "2          15129.0  \n",
      "3          16081.0  \n",
      "4          16081.0  \n",
      "...            ...  \n",
      "5962919    16081.0  \n",
      "5962920    15513.0  \n",
      "5962921    16081.0  \n",
      "5962922    16081.0  \n",
      "5962923    19481.0  \n",
      "\n",
      "[5962924 rows x 40 columns]\n"
     ]
    }
   ],
   "source": [
    "# Suponiendo que df_capstone_clean_2 es tu DataFrame y que ya tiene una columna \"regions_ca_id\"\n",
    "# con los códigos de las comunidades autónomas.\n",
    "\n",
    "# Mapeo de las comunidades autónomas a su renta media correspondiente\n",
    "renta_media = {\n",
    "    \"AN\": 11977, \"AR\": 16081, \"AS\": 16081, \"IB\": 16492, \"CN\": 13076, \"CB\": 15332,\n",
    "    \"CM\": 15129, \"CL\": 15129, \"CT\": 17459, \"VC\": 13643, \"EX\": 11697, \"GA\": 14438,\n",
    "    \"MD\": 19481, \"MC\": 12300, \"NC\": 18245, \"PV\": 18824, \"RI\": 15513, \"CE\": 13368,\n",
    "    \"ML\": 12676\n",
    "}\n",
    "\n",
    "\n",
    "# Crear la nueva columna \"salary_CA\" mapeando los valores de \"regions_ca_id\" \n",
    "# a través del diccionario de renta media\n",
    "df_capstone_clean_2['salary_CA'] = df_capstone_clean_2['regions_ca_id'].map(renta_media)\n",
    "\n",
    "# Aplicar el salario medio calculado a la nueva columna 'salary_CA'\n",
    "df_capstone_clean_2['salary_CA'] = df_capstone_clean_2['regions_ca_id'].apply(lambda x: renta_media.get(x, 15102.16))\n",
    "\n",
    "\n",
    "# Mostrar el DataFrame resultante para verificar\n",
    "print(df_capstone_clean_2)"
   ]
  },
  {
   "cell_type": "code",
   "execution_count": 42,
   "metadata": {},
   "outputs": [
    {
     "data": {
      "text/plain": [
       "19481.00    1185757\n",
       "11977.00     953118\n",
       "17459.00     749780\n",
       "15129.00     709973\n",
       "13643.00     598221\n",
       "14438.00     538163\n",
       "16081.00     301273\n",
       "12300.00     296856\n",
       "11697.00     205870\n",
       "13076.00     150983\n",
       "15332.00      69589\n",
       "18824.00      67088\n",
       "16492.00      62436\n",
       "15513.00      34790\n",
       "18245.00      31241\n",
       "13368.00       2896\n",
       "12676.00       2638\n",
       "15102.16       2252\n",
       "Name: salary_CA, dtype: int64"
      ]
     },
     "execution_count": 42,
     "metadata": {},
     "output_type": "execute_result"
    }
   ],
   "source": [
    "df_capstone_clean_2[\"salary_CA\"].value_counts()"
   ]
  },
  {
   "cell_type": "code",
   "execution_count": 43,
   "metadata": {},
   "outputs": [
    {
     "data": {
      "text/plain": [
       "0"
      ]
     },
     "execution_count": 43,
     "metadata": {},
     "output_type": "execute_result"
    }
   ],
   "source": [
    "df_capstone_clean_2[\"salary_CA\"].isnull().sum()"
   ]
  },
  {
   "cell_type": "markdown",
   "metadata": {},
   "source": [
    "### \"customer_tenure\"\n",
    "Tiempo desde entry_date hasta la fecha actual, para medir la lealtad y duración de la relación."
   ]
  },
  {
   "cell_type": "code",
   "execution_count": 44,
   "metadata": {},
   "outputs": [
    {
     "name": "stdout",
     "output_type": "stream",
     "text": [
      "Min date entry is 2015-01-01 00:00:00\n",
      "Max date entry is 2019-05-31 00:00:00\n",
      "Min date pk_partition is 2018-01-28 00:00:00\n",
      "Max date pk_partition is 2019-05-28 00:00:00\n",
      "          pk_cid pk_partition entry_date entry_channel  active_customer  \\\n",
      "5644400  1504320   2019-05-28 2018-11-16           KHQ                0   \n",
      "1684926  1275696   2018-07-28 2017-07-23           KHE                0   \n",
      "3280829  1064764   2018-11-28 2015-09-21           KHE                1   \n",
      "192918   1157765   2018-01-28 2016-08-06           KHE                1   \n",
      "4466590  1419480   2019-02-28 2018-07-28           KHQ                1   \n",
      "5899968  1241670   2019-05-28 2017-02-04           KHE                0   \n",
      "1639525  1333838   2018-07-28 2017-10-15           KHE                0   \n",
      "4306330  1223257   2019-02-28 2016-11-21           KFC                0   \n",
      "2898720  1336230   2018-10-28 2017-10-20           KHE                0   \n",
      "1978666  1339287   2018-08-28 2017-10-22           KHE                0   \n",
      "\n",
      "                    segment  short_term_deposit  loans  mortgage  funds  ...  \\\n",
      "5644400  03 - UNIVERSITARIO                   0      0         0      0  ...   \n",
      "1684926  03 - UNIVERSITARIO                   0      0         0      0  ...   \n",
      "3280829  03 - UNIVERSITARIO                   0      0         0      0  ...   \n",
      "192918   03 - UNIVERSITARIO                   0      0         0      0  ...   \n",
      "4466590  03 - UNIVERSITARIO                   0      0         0      0  ...   \n",
      "5899968  03 - UNIVERSITARIO                   0      0         0      0  ...   \n",
      "1639525  03 - UNIVERSITARIO                   0      0         0      0  ...   \n",
      "4306330   02 - PARTICULARES                   0      0         0      0  ...   \n",
      "2898720  03 - UNIVERSITARIO                   0      0         0      0  ...   \n",
      "1978666  03 - UNIVERSITARIO                   0      0         0      0  ...   \n",
      "\n",
      "         nr_product  nr_accounts  nr_saving_and_investment  nr_financing  \\\n",
      "5644400           0            0                         0             0   \n",
      "1684926           0            0                         0             0   \n",
      "3280829           1            1                         0             0   \n",
      "192918            1            1                         0             0   \n",
      "4466590           1            1                         0             0   \n",
      "5899968           1            1                         0             0   \n",
      "1639525           0            0                         0             0   \n",
      "4306330           0            0                         0             0   \n",
      "2898720           1            1                         0             0   \n",
      "1978666           0            0                         0             0   \n",
      "\n",
      "         nr_product_max  nr_product_gap_to_max  nr_investment  \\\n",
      "5644400               0                      0              0   \n",
      "1684926               0                      0              0   \n",
      "3280829               1                      0              0   \n",
      "192918                1                      0              0   \n",
      "4466590               1                      0              0   \n",
      "5899968               1                      0              0   \n",
      "1639525               0                      0              0   \n",
      "4306330               0                      0              0   \n",
      "2898720               1                      0              0   \n",
      "1978666               0                      0              0   \n",
      "\n",
      "         product_mix_diversity  salary_CA  customer_tenure  \n",
      "5644400               0.000000    13643.0              193  \n",
      "1684926               0.000000    17459.0              674  \n",
      "3280829               0.083333    14438.0             1345  \n",
      "192918                0.083333    15129.0             1025  \n",
      "4466590               0.083333    15129.0              304  \n",
      "5899968               0.083333    17459.0              843  \n",
      "1639525               0.000000    19481.0              590  \n",
      "4306330               0.000000    12300.0              918  \n",
      "2898720               0.083333    14438.0              585  \n",
      "1978666               0.000000    13643.0              583  \n",
      "\n",
      "[10 rows x 41 columns]\n"
     ]
    }
   ],
   "source": [
    "# CUSTOMER TENURE\n",
    "# Tiempo desde entry_date hasta la fecha actual, para medir la lealtad y duración de la relación.\n",
    "\n",
    "MIN_DATE_entry_date = df_capstone_clean_2[\"entry_date\"].min()\n",
    "MAX_DATE_entry_date = df_capstone_clean_2[\"entry_date\"].max()\n",
    "\n",
    "MIN_DATE_pk_partition = df_capstone_clean_2[\"pk_partition\"].min()\n",
    "MAX_DATE_pk_partition  =df_capstone_clean_2[\"pk_partition\"].max()\n",
    "\n",
    "df_capstone_clean_2['last_partition'] = df_capstone_clean_2[\"pk_partition\"].max()\n",
    "\n",
    "df_capstone_clean_2[\"customer_tenure\"] = df_capstone_clean_2['last_partition'] - df_capstone_clean_2['entry_date']\n",
    "df_capstone_clean_2['customer_tenure'] = df_capstone_clean_2['customer_tenure'].dt.days\n",
    "\n",
    "df_capstone_clean_2.drop('last_partition', axis=1, inplace=True)\n",
    "\n",
    "print(f\"Min date entry is {MIN_DATE_entry_date}\\nMax date entry is {MAX_DATE_entry_date}\")\n",
    "print(f\"Min date pk_partition is {MIN_DATE_pk_partition}\\nMax date pk_partition is {MAX_DATE_pk_partition}\")\n",
    "print(df_capstone_clean_2.sample(10))"
   ]
  },
  {
   "cell_type": "code",
   "execution_count": 45,
   "metadata": {},
   "outputs": [
    {
     "data": {
      "text/plain": [
       "669     57389\n",
       "602     54287\n",
       "662     45746\n",
       "956     40804\n",
       "1028    33414\n",
       "        ...  \n",
       "1490       11\n",
       "1077       11\n",
       "1378       11\n",
       "362         9\n",
       "757         7\n",
       "Name: customer_tenure, Length: 1497, dtype: int64"
      ]
     },
     "execution_count": 45,
     "metadata": {},
     "output_type": "execute_result"
    }
   ],
   "source": [
    "df_capstone_clean_2[\"customer_tenure\"].value_counts()"
   ]
  },
  {
   "cell_type": "code",
   "execution_count": 46,
   "metadata": {},
   "outputs": [
    {
     "data": {
      "text/plain": [
       "0"
      ]
     },
     "execution_count": 46,
     "metadata": {},
     "output_type": "execute_result"
    }
   ],
   "source": [
    "df_capstone_clean_2[\"customer_tenure\"].isnull().sum()"
   ]
  },
  {
   "cell_type": "markdown",
   "metadata": {},
   "source": [
    "### \"digital_interaction_index\"\n",
    "Un índice que mide la preferencia del cliente por el canal digital frente a canales más tradicionales. Esto se puede inferir del canal de entrada y la adopción de productos digitales como em_account, em_account_p, em_account_pp, y emc_account"
   ]
  },
  {
   "cell_type": "code",
   "execution_count": 47,
   "metadata": {},
   "outputs": [
    {
     "name": "stdout",
     "output_type": "stream",
     "text": [
      "          pk_cid  digital_interaction_index\n",
      "838284   1359132                        1.0\n",
      "4582446  1199282                        1.0\n",
      "1466426  1225482                        1.0\n",
      "1687406  1256101                        1.0\n",
      "1626509  1034042                        1.0\n",
      "3394190  1077446                        1.0\n",
      "2960903  1429897                        1.0\n",
      "5393315  1452365                        1.0\n",
      "5563064  1411469                        1.0\n",
      "907146   1079563                        0.5\n"
     ]
    }
   ],
   "source": [
    "# DIGITAL INTERACTION \n",
    "# \"digital_interaction_index\"\n",
    "# Un índice que mide la preferencia del cliente por el canal digital frente a canales más tradicionales. \n",
    "\n",
    "# Lista de productos digitales y total de productos\n",
    "accounts_list = ['em_acount', 'em_account_p', 'em_account_pp', 'emc_account']\n",
    "products_list = ['short_term_deposit', 'loans', 'mortgage', 'funds',\n",
    "                 'securities', 'long_term_deposit', 'em_account_pp', 'credit_card', \n",
    "                 'payroll', 'pension_plan', 'payroll_account', 'emc_account', \n",
    "                 'debit_card', 'em_account_p', 'em_acount']\n",
    "\n",
    "# Calcular el número acumulado de productos digitales y el total de productos contratados por cliente\n",
    "df_capstone_clean_2['digital_products_count'] = df_capstone_clean_2[accounts_list].sum(axis=1)\n",
    "df_capstone_clean_2['total_products_count'] = df_capstone_clean_2[products_list].sum(axis=1)\n",
    "\n",
    "# Asegurar que el denominador no sea cero para evitar división por cero\n",
    "df_capstone_clean_2['total_products_count'] = df_capstone_clean_2['total_products_count'].apply(lambda x: max(x, 1))\n",
    "\n",
    "# Calcular el Digital Interaction Index directamente en df_capstone_clean_2\n",
    "df_capstone_clean_2['digital_interaction_index'] = df_capstone_clean_2['digital_products_count'] / df_capstone_clean_2['total_products_count']\n",
    "\n",
    "df_capstone_clean_2.drop('digital_products_count', axis=1, inplace=True)\n",
    "df_capstone_clean_2.drop('total_products_count', axis=1, inplace=True)\n",
    "# Mostrar un sample del DataFrame actualizado para verificar la nueva columna\n",
    "print(df_capstone_clean_2[['pk_cid', 'digital_interaction_index']].sample(10))"
   ]
  },
  {
   "cell_type": "code",
   "execution_count": 48,
   "metadata": {},
   "outputs": [
    {
     "data": {
      "text/plain": [
       "1.000000    3996392\n",
       "0.000000    1427783\n",
       "0.500000     390302\n",
       "0.666667      52695\n",
       "0.333333      34717\n",
       "0.200000      26882\n",
       "0.250000      16322\n",
       "0.166667      11776\n",
       "0.400000       2944\n",
       "0.142857       1594\n",
       "0.285714       1141\n",
       "0.125000        326\n",
       "0.111111         30\n",
       "0.222222         20\n",
       "Name: digital_interaction_index, dtype: int64"
      ]
     },
     "execution_count": 48,
     "metadata": {},
     "output_type": "execute_result"
    }
   ],
   "source": [
    "df_capstone_clean_2[\"digital_interaction_index\"].value_counts()"
   ]
  },
  {
   "cell_type": "code",
   "execution_count": 49,
   "metadata": {},
   "outputs": [
    {
     "data": {
      "text/plain": [
       "0"
      ]
     },
     "execution_count": 49,
     "metadata": {},
     "output_type": "execute_result"
    }
   ],
   "source": [
    "df_capstone_clean_2[\"digital_interaction_index\"].isnull().sum()"
   ]
  },
  {
   "cell_type": "markdown",
   "metadata": {},
   "source": [
    "### \"financial_health_score\"\n",
    "\n",
    "Una puntuación compuesta basada en el ratio de ingresos frente a productos financieros de alto compromiso (como hipotecas y préstamos) y la diversidad de productos de ahorro. Ayuda a identificar clientes con buena salud financiera que podrían ser buenos candidatos para ofertas de productos de inversión."
   ]
  },
  {
   "cell_type": "code",
   "execution_count": 50,
   "metadata": {},
   "outputs": [
    {
     "name": "stdout",
     "output_type": "stream",
     "text": [
      "          pk_cid  financial_health_score\n",
      "331694   1317058                0.001519\n",
      "845212   1363331                0.001519\n",
      "1288898  1082197                0.001474\n",
      "537803   1149241                0.001519\n",
      "2163384  1174423                0.001519\n",
      "4480835    72422                0.003140\n",
      "4881890  1541507                0.001671\n",
      "4654807  1431798                0.000787\n",
      "5923262  1114008                0.001447\n",
      "37324    1035098                0.000838\n"
     ]
    }
   ],
   "source": [
    "# FINANCIAL HEALTH\n",
    "# \"financial_health_score\"\n",
    "# Una puntuación compuesta basada en el ratio de ingresos frente a productos financieros de alto compromiso (como hipotecas y préstamos) y la diversidad de productos de ahorro. Ayuda a identificar clientes con buena salud financiera que podrían ser buenos candidatos para ofertas de productos de inversión.\n",
    "\n",
    "# Asegurar que las columnas utilizadas para cálculos no contengan NaNs, reemplazándolos con 0 donde sea lógico\n",
    "df_capstone_clean_2.fillna({'mortgage': 0, 'loans': 0, 'salary': 0, 'em_acount': 0, 'long_term_deposit': 0, 'pension_plan': 0}, inplace=True)\n",
    "\n",
    "# Calcular el total de compromisos financieros\n",
    "df_capstone_clean_2['financial_commitments'] = df_capstone_clean_2['mortgage'] + df_capstone_clean_2['loans']  # Añade más columnas si hay más tipos de compromisos financieros\n",
    "\n",
    "# Asegurar que el denominador en el cálculo del ratio no sea cero\n",
    "df_capstone_clean_2['financial_commitments'] = df_capstone_clean_2['financial_commitments'].apply(lambda x: np.where(x == 0, 1, x))\n",
    "\n",
    "# Ratio de Ingresos frente a Compromisos Financieros, maneja el caso de 'salary' siendo 0 asignando un valor mínimo\n",
    "df_capstone_clean_2['income_to_commitment_ratio'] = df_capstone_clean_2['salary'] / df_capstone_clean_2['financial_commitments']\n",
    "\n",
    "# Calcular la diversidad de productos de ahorro contratados por el cliente\n",
    "df_capstone_clean_2['savings_product_diversity'] = df_capstone_clean_2[['short_term_deposit', 'long_term_deposit', 'pension_plan']].sum(axis=1)\n",
    "\n",
    "# Normalizar los valores para el cálculo del score\n",
    "max_income_ratio = df_capstone_clean_2['income_to_commitment_ratio'].max() if df_capstone_clean_2['income_to_commitment_ratio'].max() != 0 else 1\n",
    "max_savings_diversity = df_capstone_clean_2['savings_product_diversity'].max() if df_capstone_clean_2['savings_product_diversity'].max() != 0 else 1\n",
    "\n",
    "df_capstone_clean_2['normalized_income_ratio'] = df_capstone_clean_2['income_to_commitment_ratio'] / max_income_ratio\n",
    "df_capstone_clean_2['normalized_savings_diversity'] = df_capstone_clean_2['savings_product_diversity'] / max_savings_diversity\n",
    "\n",
    "# Calcular el Financial Health Score como un promedio de los dos valores normalizados\n",
    "df_capstone_clean_2['financial_health_score'] = (df_capstone_clean_2['normalized_income_ratio'] + df_capstone_clean_2['normalized_savings_diversity']) / 2\n",
    "\n",
    "# Asegurarse de que financial_health_score no contenga NaN\n",
    "df_capstone_clean_2['financial_health_score'].fillna(0, inplace=True)\n",
    "\n",
    "df_capstone_clean_2.drop('financial_commitments', axis=1, inplace=True)\n",
    "df_capstone_clean_2.drop('income_to_commitment_ratio', axis=1, inplace=True)\n",
    "df_capstone_clean_2.drop('savings_product_diversity', axis=1, inplace=True)\n",
    "df_capstone_clean_2.drop('normalized_income_ratio', axis=1, inplace=True)\n",
    "df_capstone_clean_2.drop('normalized_savings_diversity', axis=1, inplace=True)\n",
    "\n",
    "print(df_capstone_clean_2[['pk_cid', 'financial_health_score']].sample(10))"
   ]
  },
  {
   "cell_type": "code",
   "execution_count": 51,
   "metadata": {},
   "outputs": [
    {
     "data": {
      "text/plain": [
       "0.001519    781761\n",
       "0.001542    192666\n",
       "0.001465    161792\n",
       "0.001554    109049\n",
       "0.001442     57438\n",
       "             ...  \n",
       "0.000737         1\n",
       "0.167789         1\n",
       "0.167628         1\n",
       "0.000731         1\n",
       "0.169421         1\n",
       "Name: financial_health_score, Length: 284858, dtype: int64"
      ]
     },
     "execution_count": 51,
     "metadata": {},
     "output_type": "execute_result"
    }
   ],
   "source": [
    "df_capstone_clean_2[\"financial_health_score\"].value_counts()"
   ]
  },
  {
   "cell_type": "code",
   "execution_count": 52,
   "metadata": {},
   "outputs": [
    {
     "data": {
      "text/plain": [
       "0"
      ]
     },
     "execution_count": 52,
     "metadata": {},
     "output_type": "execute_result"
    }
   ],
   "source": [
    "df_capstone_clean_2[\"financial_health_score\"].isnull().sum()"
   ]
  },
  {
   "cell_type": "markdown",
   "metadata": {},
   "source": [
    "### \"entry_channel_salary\"\n",
    "Analizar cómo el canal de entrada se correlaciona con el rango de salario del cliente, para identificar si ciertos canales atraen a clientes con diferentes niveles de ingresos."
   ]
  },
  {
   "cell_type": "code",
   "execution_count": 53,
   "metadata": {},
   "outputs": [
    {
     "name": "stdout",
     "output_type": "stream",
     "text": [
      "          pk_cid entry_channel      salary  entry_channel_salary\n",
      "4717447  1527173           KFC  105618.105         112099.210555\n",
      "5261868  1023923           KHE   72876.840         108529.905617\n",
      "1909868  1289985           KHE   89127.570         108529.905617\n",
      "5006616  1001994           KFC   89810.520         112099.210555\n",
      "473350   1050419           KHE   89810.520         108529.905617\n",
      "5184825  1082638           KHE   82570.410         108529.905617\n",
      "2185778  1245284           KFC  143429.190         112099.210555\n",
      "2578738  1096600           KHE  140550.780         108529.905617\n",
      "192659   1157932           KHE   87777.540         108529.905617\n",
      "600225   1288100           KHE  126806.010         108529.905617\n"
     ]
    }
   ],
   "source": [
    "# ENTRY CHANNEL & SALARY CORRELATION\n",
    "\n",
    "# \"entry_channel_salary\"\n",
    "# Analizar cómo el canal de entrada se correlaciona con el rango de salario del cliente, para identificar si ciertos canales atraen a clientes con diferentes niveles de ingresos.\n",
    "\n",
    "\n",
    "# Calcular el salario medio por canal de entrada\n",
    "mean_salary_by_channel = df_capstone_clean_2.groupby('entry_channel')['salary'].mean()\n",
    "\n",
    "# Crear una nueva columna en df_capstone_clean_2 que mapea el salario medio calculado de vuelta a cada fila basándose en su canal de entrada\n",
    "df_capstone_clean_2['entry_channel_salary'] = df_capstone_clean_2['entry_channel'].map(mean_salary_by_channel)\n",
    "\n",
    "# Si prefieres usar la mediana en lugar de la media, debido a su resistencia a los valores atípicos, simplemente reemplaza .mean() por .median()\n",
    "\n",
    "# Verificar los resultados\n",
    "print(df_capstone_clean_2[['pk_cid', 'entry_channel', 'salary', 'entry_channel_salary']].sample(10))"
   ]
  },
  {
   "cell_type": "code",
   "execution_count": 54,
   "metadata": {},
   "outputs": [
    {
     "data": {
      "text/plain": [
       "108529.905617    3116090\n",
       "112099.210555     898070\n",
       "97521.064767      666987\n",
       "117248.403277     416522\n",
       "110141.452954     231300\n",
       "                  ...   \n",
       "121974.000000         11\n",
       "91156.260000          10\n",
       "170212.140000          8\n",
       "118381.380000          2\n",
       "96539.220000           2\n",
       "Name: entry_channel_salary, Length: 65, dtype: int64"
      ]
     },
     "execution_count": 54,
     "metadata": {},
     "output_type": "execute_result"
    }
   ],
   "source": [
    "df_capstone_clean_2[\"entry_channel_salary\"].value_counts()"
   ]
  },
  {
   "cell_type": "code",
   "execution_count": 55,
   "metadata": {},
   "outputs": [
    {
     "data": {
      "text/plain": [
       "0"
      ]
     },
     "execution_count": 55,
     "metadata": {},
     "output_type": "execute_result"
    }
   ],
   "source": [
    "df_capstone_clean_2[\"entry_channel_salary\"].isnull().sum()"
   ]
  },
  {
   "cell_type": "markdown",
   "metadata": {},
   "source": [
    "### \"entry_channel_loyalty\"\n",
    "\n",
    "Medir la lealtad del cliente (por ejemplo, a través de la duración de la relación o la cantidad de productos contratados) en función del canal de entrada, para identificar qué canales contribuyen a una mayor lealtad del cliente."
   ]
  },
  {
   "cell_type": "code",
   "execution_count": 56,
   "metadata": {},
   "outputs": [
    {
     "name": "stdout",
     "output_type": "stream",
     "text": [
      "          pk_cid entry_channel  entry_channel_loyalty\n",
      "2470978  1369123           KHK             486.337260\n",
      "4649774  1445043           KHQ             255.868939\n",
      "610736   1273814           KHE             975.383414\n",
      "2451174  1398384           KHK             486.337260\n",
      "1970416  1360761           KHK             486.337260\n",
      "3121365  1193686           KHE             975.383414\n",
      "2848159  1288862           KHE             975.383414\n",
      "941538   1045693           KHE             975.383414\n",
      "1875901  1321743           KHE             975.383414\n",
      "471965   1069290           KHE             975.383414\n"
     ]
    }
   ],
   "source": [
    "# ENTRY CHANNEL AND CUSTOMER LOYALTY\n",
    "# \"entry_channel_loyalty\"\n",
    "#  Medir la lealtad del cliente (por ejemplo, a través de la duración de la relación o la cantidad de productos contratados) en función del canal de entrada, para identificar qué canales contribuyen a una mayor lealtad del cliente.\n",
    "\n",
    "# Asegúrate de que las fechas estén en formato datetime si aún no lo están\n",
    "df_capstone_clean_2['entry_date'] = pd.to_datetime(df_capstone_clean_2['entry_date'])\n",
    "df_capstone_clean_2['pk_partition'] = pd.to_datetime(df_capstone_clean_2['pk_partition'])\n",
    "\n",
    "# Filtrar la última partición\n",
    "df_capstone_clean_2_last_partition = df_capstone_clean_2[df_capstone_clean_2['pk_partition'] == '2019-05-28']\n",
    "\n",
    "# Calcular la duración de la relación solo para fechas de entrada válidas\n",
    "df_capstone_clean_2['relationship_duration'] = np.where(\n",
    "    df_capstone_clean_2['entry_date'] <= df_capstone_clean_2_last_partition['pk_partition'].max(),\n",
    "    (df_capstone_clean_2_last_partition['pk_partition'].max() - df_capstone_clean_2['entry_date']).dt.days,\n",
    "    np.nan  # Asignar NaN si la fecha de entrada es inválida\n",
    ")\n",
    "\n",
    "# Calcular la duración media de la relación por canal de entrada\n",
    "mean_loyalty_by_channel = df_capstone_clean_2.groupby('entry_channel')['relationship_duration'].mean()\n",
    "\n",
    "# Mapear la duración media de la relación (lealtad) de vuelta a df_capstone_clean_2\n",
    "df_capstone_clean_2['entry_channel_loyalty'] = df_capstone_clean_2['entry_channel'].map(mean_loyalty_by_channel)\n",
    "\n",
    "# Opcional: puedes decidir llenar los valores NaN con un valor por defecto, por ejemplo, 0 o la media general\n",
    "# df_capstone_clean_2['entry_channel_loyalty'].fillna(0, inplace=True)\n",
    "# o\n",
    "# df_capstone_clean_2['entry_channel_loyalty'].fillna(df_capstone_clean_2['entry_channel_loyalty'].mean(), inplace=True)\n",
    "\n",
    "df_capstone_clean_2.drop('relationship_duration', axis=1, inplace=True)\n",
    "\n",
    "# Verificación: mostrar un sample del DataFrame actualizado\n",
    "print(df_capstone_clean_2[['pk_cid', 'entry_channel', 'entry_channel_loyalty']].sample(10))\n",
    "\n"
   ]
  },
  {
   "cell_type": "code",
   "execution_count": 57,
   "metadata": {},
   "outputs": [
    {
     "data": {
      "text/plain": [
       "975.383414     3116090\n",
       "1003.291133     898070\n",
       "255.868939      666987\n",
       "969.855036      416522\n",
       "486.337260      231300\n",
       "                ...   \n",
       "33.200000           10\n",
       "646.000000           8\n",
       "318.000000           2\n",
       "53.000000            2\n",
       "89.000000            1\n",
       "Name: entry_channel_loyalty, Length: 68, dtype: int64"
      ]
     },
     "execution_count": 57,
     "metadata": {},
     "output_type": "execute_result"
    }
   ],
   "source": [
    "df_capstone_clean_2[\"entry_channel_loyalty\"].value_counts()"
   ]
  },
  {
   "cell_type": "code",
   "execution_count": 58,
   "metadata": {},
   "outputs": [
    {
     "data": {
      "text/plain": [
       "0"
      ]
     },
     "execution_count": 58,
     "metadata": {},
     "output_type": "execute_result"
    }
   ],
   "source": [
    "df_capstone_clean_2[\"entry_channel_loyalty\"].isnull().sum()"
   ]
  },
  {
   "cell_type": "markdown",
   "metadata": {},
   "source": [
    "### \"periods_active\""
   ]
  },
  {
   "cell_type": "code",
   "execution_count": 59,
   "metadata": {},
   "outputs": [],
   "source": [
    "df_capstone_clean_2['periods_active'] = df_capstone_clean_2.groupby('pk_cid')['active_customer'].transform(sum)"
   ]
  },
  {
   "cell_type": "code",
   "execution_count": 60,
   "metadata": {},
   "outputs": [
    {
     "data": {
      "text/plain": [
       "0     3286200\n",
       "17    1562232\n",
       "9      112832\n",
       "10     110529\n",
       "8      103340\n",
       "16      91189\n",
       "11      87102\n",
       "7       80878\n",
       "15      69333\n",
       "14      60751\n",
       "6       57492\n",
       "5       56372\n",
       "13      54342\n",
       "3       53434\n",
       "4       52429\n",
       "12      48481\n",
       "2       39246\n",
       "1       36742\n",
       "Name: periods_active, dtype: int64"
      ]
     },
     "execution_count": 60,
     "metadata": {},
     "output_type": "execute_result"
    }
   ],
   "source": [
    "df_capstone_clean_2[\"periods_active\"].value_counts()"
   ]
  },
  {
   "cell_type": "code",
   "execution_count": 61,
   "metadata": {},
   "outputs": [
    {
     "data": {
      "text/plain": [
       "0"
      ]
     },
     "execution_count": 61,
     "metadata": {},
     "output_type": "execute_result"
    }
   ],
   "source": [
    "df_capstone_clean_2[\"periods_active\"].isnull().sum()"
   ]
  },
  {
   "cell_type": "markdown",
   "metadata": {},
   "source": [
    "### \"season\""
   ]
  },
  {
   "cell_type": "code",
   "execution_count": 62,
   "metadata": {},
   "outputs": [],
   "source": [
    "def asignar_temporada(mes):\n",
    "     if mes.month in [11, 12]:\n",
    "         return 'High_season'\n",
    "     elif mes.month in [1, 2]:\n",
    "         return 'Middle_season'\n",
    "     else:\n",
    "         return 'Low_Season'\n",
    "\n",
    "df_capstone_clean_2['season'] = df_capstone_clean_2['entry_date'].apply(asignar_temporada)"
   ]
  },
  {
   "cell_type": "code",
   "execution_count": 63,
   "metadata": {},
   "outputs": [
    {
     "data": {
      "text/plain": [
       "Low_Season       4472421\n",
       "High_season      1056581\n",
       "Middle_season     433922\n",
       "Name: season, dtype: int64"
      ]
     },
     "execution_count": 63,
     "metadata": {},
     "output_type": "execute_result"
    }
   ],
   "source": [
    "df_capstone_clean_2['season'].value_counts()"
   ]
  },
  {
   "cell_type": "code",
   "execution_count": 64,
   "metadata": {},
   "outputs": [
    {
     "data": {
      "text/plain": [
       "0"
      ]
     },
     "execution_count": 64,
     "metadata": {},
     "output_type": "execute_result"
    }
   ],
   "source": [
    "df_capstone_clean_2['season'].isnull().sum()"
   ]
  },
  {
   "cell_type": "markdown",
   "metadata": {},
   "source": [
    "### \"entry_date_month\""
   ]
  },
  {
   "cell_type": "code",
   "execution_count": 65,
   "metadata": {},
   "outputs": [],
   "source": [
    "df_capstone_clean_2[\"entry_date_month\"] = df_capstone_clean_2[\"entry_date\"].dt.month"
   ]
  },
  {
   "cell_type": "code",
   "execution_count": 66,
   "metadata": {},
   "outputs": [
    {
     "data": {
      "text/plain": [
       "10    1250335\n",
       "9      920300\n",
       "7      855554\n",
       "8      775642\n",
       "11     720107\n",
       "12     336474\n",
       "1      238367\n",
       "2      195555\n",
       "3      178373\n",
       "4      170199\n",
       "5      168349\n",
       "6      153669\n",
       "Name: entry_date_month, dtype: int64"
      ]
     },
     "execution_count": 66,
     "metadata": {},
     "output_type": "execute_result"
    }
   ],
   "source": [
    "df_capstone_clean_2['entry_date_month'].value_counts()"
   ]
  },
  {
   "cell_type": "code",
   "execution_count": 67,
   "metadata": {},
   "outputs": [
    {
     "data": {
      "text/plain": [
       "0"
      ]
     },
     "execution_count": 67,
     "metadata": {},
     "output_type": "execute_result"
    }
   ],
   "source": [
    "df_capstone_clean_2['entry_date_month'].isnull().sum()"
   ]
  },
  {
   "cell_type": "markdown",
   "metadata": {},
   "source": [
    "### \"entry_date_year\""
   ]
  },
  {
   "cell_type": "code",
   "execution_count": 68,
   "metadata": {},
   "outputs": [],
   "source": [
    "df_capstone_clean_2[\"entry_date_year\"] = df_capstone_clean_2[\"entry_date\"].dt.year"
   ]
  },
  {
   "cell_type": "code",
   "execution_count": 69,
   "metadata": {},
   "outputs": [
    {
     "data": {
      "text/plain": [
       "2017    1725466\n",
       "2016    1515258\n",
       "2015    1466793\n",
       "2018    1171826\n",
       "2019      83581\n",
       "Name: entry_date_year, dtype: int64"
      ]
     },
     "execution_count": 69,
     "metadata": {},
     "output_type": "execute_result"
    }
   ],
   "source": [
    "df_capstone_clean_2['entry_date_year'].value_counts()"
   ]
  },
  {
   "cell_type": "code",
   "execution_count": 70,
   "metadata": {},
   "outputs": [
    {
     "data": {
      "text/plain": [
       "0"
      ]
     },
     "execution_count": 70,
     "metadata": {},
     "output_type": "execute_result"
    }
   ],
   "source": [
    "df_capstone_clean_2['entry_date_year'].isnull().sum()"
   ]
  },
  {
   "cell_type": "markdown",
   "metadata": {},
   "source": [
    "### \"working_day\""
   ]
  },
  {
   "cell_type": "code",
   "execution_count": 71,
   "metadata": {},
   "outputs": [],
   "source": [
    "# Asumiendo que df_capstone_clean_2 ya existe y tiene una columna 'entry_date'\n",
    "# No necesitas crear el DataFrame de nuevo si ya existe\n",
    "\n",
    "# Función para verificar si una fecha es un día laborable (de lunes a viernes)\n",
    "# y devolver 1 para días laborables y 0 para no laborables\n",
    "def es_dia_laborable(fecha):\n",
    "    return int(fecha.weekday() < 5)  # 0 a 4 representan lunes a viernes, convertido a int\n",
    "\n",
    "# Aplicar la función directamente a la columna \"entry_date\" del DataFrame original\n",
    "df_capstone_clean_2['working_day'] = df_capstone_clean_2['entry_date'].apply(es_dia_laborable)\n",
    "\n",
    "\n",
    "#1 = True\n",
    "#0 = False"
   ]
  },
  {
   "cell_type": "code",
   "execution_count": 72,
   "metadata": {},
   "outputs": [
    {
     "data": {
      "text/plain": [
       "1    3676059\n",
       "0    2286865\n",
       "Name: working_day, dtype: int64"
      ]
     },
     "execution_count": 72,
     "metadata": {},
     "output_type": "execute_result"
    }
   ],
   "source": [
    "df_capstone_clean_2['working_day'].value_counts()"
   ]
  },
  {
   "cell_type": "code",
   "execution_count": 73,
   "metadata": {},
   "outputs": [
    {
     "data": {
      "text/plain": [
       "0"
      ]
     },
     "execution_count": 73,
     "metadata": {},
     "output_type": "execute_result"
    }
   ],
   "source": [
    "df_capstone_clean_2['working_day'].isnull().sum()"
   ]
  },
  {
   "cell_type": "markdown",
   "metadata": {},
   "source": [
    "### \"loan_utilization_index\""
   ]
  },
  {
   "cell_type": "code",
   "execution_count": 74,
   "metadata": {},
   "outputs": [
    {
     "name": "stdout",
     "output_type": "stream",
     "text": [
      "          pk_cid pk_partition entry_date entry_channel  active_customer  \\\n",
      "5547609  1349550   2019-05-28 2017-11-05           KHE                0   \n",
      "3189114  1384535   2018-11-28 2018-02-24           KHK                1   \n",
      "3311822  1111883   2018-11-28 2015-12-12           KHE                0   \n",
      "3229928  1289647   2018-11-28 2017-08-04           KHE                1   \n",
      "4391892  1527709   2019-02-28 2019-01-26           KHM                0   \n",
      "5746668  1449530   2019-05-28 2018-09-15           KHQ                0   \n",
      "5733355  1464815   2019-05-28 2018-09-30           KHQ                0   \n",
      "2288306  1318911   2018-09-28 2017-09-29           KFC                1   \n",
      "4092335  1224835   2019-01-28 2016-11-25           KHE                0   \n",
      "397654   1006854   2018-02-28 2015-02-28           KFA                1   \n",
      "\n",
      "                    segment  short_term_deposit  loans  mortgage  funds  ...  \\\n",
      "5547609  03 - UNIVERSITARIO                   0      0         0      0  ...   \n",
      "3189114   02 - PARTICULARES                   0      0         0      0  ...   \n",
      "3311822  03 - UNIVERSITARIO                   0      0         0      0  ...   \n",
      "3229928  03 - UNIVERSITARIO                   0      0         0      0  ...   \n",
      "4391892   02 - PARTICULARES                   0      0         0      0  ...   \n",
      "5746668  03 - UNIVERSITARIO                   0      0         0      0  ...   \n",
      "5733355  03 - UNIVERSITARIO                   0      0         0      0  ...   \n",
      "2288306  03 - UNIVERSITARIO                   0      0         0      0  ...   \n",
      "4092335  03 - UNIVERSITARIO                   0      0         0      0  ...   \n",
      "397654    02 - PARTICULARES                   0      0         0      0  ...   \n",
      "\n",
      "         digital_interaction_index  financial_health_score  \\\n",
      "5547609                        1.0                0.001940   \n",
      "3189114                        1.0                0.002241   \n",
      "3311822                        0.0                0.001519   \n",
      "3229928                        1.0                0.000883   \n",
      "4391892                        1.0                0.001465   \n",
      "5746668                        1.0                0.001537   \n",
      "5733355                        1.0                0.001542   \n",
      "2288306                        0.0                0.168279   \n",
      "4092335                        1.0                0.001519   \n",
      "397654                         0.5                0.168174   \n",
      "\n",
      "         entry_channel_salary  entry_channel_loyalty  periods_active  \\\n",
      "5547609         108529.905617             975.383414               0   \n",
      "3189114         110141.452954             486.337260              16   \n",
      "3311822         108529.905617             975.383414               0   \n",
      "3229928         108529.905617             975.383414              17   \n",
      "4391892         100706.027824             238.788066               3   \n",
      "5746668          97521.064767             255.868939               0   \n",
      "5733355          97521.064767             255.868939               0   \n",
      "2288306         112099.210555            1003.291133              17   \n",
      "4092335         108529.905617             975.383414               0   \n",
      "397654          162980.353033             969.221580              17   \n",
      "\n",
      "                season  entry_date_month  entry_date_year  working_day  \\\n",
      "5547609    High_season                11             2017            0   \n",
      "3189114  Middle_season                 2             2018            0   \n",
      "3311822    High_season                12             2015            0   \n",
      "3229928     Low_Season                 8             2017            1   \n",
      "4391892  Middle_season                 1             2019            0   \n",
      "5746668     Low_Season                 9             2018            0   \n",
      "5733355     Low_Season                 9             2018            0   \n",
      "2288306     Low_Season                 9             2017            1   \n",
      "4092335    High_season                11             2016            1   \n",
      "397654   Middle_season                 2             2015            0   \n",
      "\n",
      "         loan_utilization_index  \n",
      "5547609                       0  \n",
      "3189114                       0  \n",
      "3311822                       0  \n",
      "3229928                       0  \n",
      "4391892                       0  \n",
      "5746668                       0  \n",
      "5733355                       0  \n",
      "2288306                       0  \n",
      "4092335                       0  \n",
      "397654                        0  \n",
      "\n",
      "[10 rows x 51 columns]\n"
     ]
    }
   ],
   "source": [
    "# LOAN UTILIZATION\n",
    "# loan_utilization_index: \n",
    "# Uso de préstamos e hipotecas respecto al número total de productos, para identificar la dependencia de financiamiento.\n",
    "\n",
    "loans_products_list = ['loans', 'mortgage']\n",
    "\n",
    "df_capstone_clean_2['total_products_loans'] = df_capstone_clean_2[loans_products_list].sum(axis=1)\n",
    "df_capstone_clean_2['loan_utilization_index'] = df_capstone_clean_2.groupby('pk_cid')['total_products_loans'].transform(max)\n",
    "\n",
    "df_capstone_clean_2.drop('total_products_loans', axis=1, inplace=True)\n",
    "print(df_capstone_clean_2.sample(10))"
   ]
  },
  {
   "cell_type": "code",
   "execution_count": 75,
   "metadata": {},
   "outputs": [
    {
     "data": {
      "text/plain": [
       "0    5961797\n",
       "1       1127\n",
       "Name: loan_utilization_index, dtype: int64"
      ]
     },
     "execution_count": 75,
     "metadata": {},
     "output_type": "execute_result"
    }
   ],
   "source": [
    "df_capstone_clean_2['loan_utilization_index'].value_counts()"
   ]
  },
  {
   "cell_type": "code",
   "execution_count": 76,
   "metadata": {},
   "outputs": [
    {
     "data": {
      "text/plain": [
       "0"
      ]
     },
     "execution_count": 76,
     "metadata": {},
     "output_type": "execute_result"
    }
   ],
   "source": [
    "df_capstone_clean_2['loan_utilization_index'].isnull().sum()"
   ]
  },
  {
   "cell_type": "markdown",
   "metadata": {},
   "source": [
    "### \"ES_flag\""
   ]
  },
  {
   "cell_type": "code",
   "execution_count": 77,
   "metadata": {},
   "outputs": [],
   "source": [
    "df_capstone_clean_2['ES_Flag'] = (df_capstone_clean_2['country_id'] == 'ES').astype('int')"
   ]
  },
  {
   "cell_type": "code",
   "execution_count": 78,
   "metadata": {},
   "outputs": [
    {
     "data": {
      "text/plain": [
       "1    5960672\n",
       "0       2252\n",
       "Name: ES_Flag, dtype: int64"
      ]
     },
     "execution_count": 78,
     "metadata": {},
     "output_type": "execute_result"
    }
   ],
   "source": [
    "df_capstone_clean_2['ES_Flag'].value_counts()"
   ]
  },
  {
   "cell_type": "code",
   "execution_count": 79,
   "metadata": {},
   "outputs": [
    {
     "data": {
      "text/plain": [
       "0"
      ]
     },
     "execution_count": 79,
     "metadata": {},
     "output_type": "execute_result"
    }
   ],
   "source": [
    "df_capstone_clean_2['ES_Flag'].isnull().sum()"
   ]
  },
  {
   "cell_type": "markdown",
   "metadata": {},
   "source": [
    "### \"client_fidelity\""
   ]
  },
  {
   "cell_type": "code",
   "execution_count": 80,
   "metadata": {},
   "outputs": [],
   "source": [
    "products_list = ['short_term_deposit', 'loans', 'mortgage', 'funds',\n",
    "                'securities', 'long_term_deposit', 'em_account_pp', 'credit_card', 'payroll', 'pension_plan',\n",
    "                'payroll_account', 'emc_account', 'debit_card', 'em_account_p', 'em_acount']\n",
    "\n",
    "df_capstone_clean_2['total_products'] = df_capstone_clean_2[products_list].sum(axis=1)"
   ]
  },
  {
   "cell_type": "code",
   "execution_count": 81,
   "metadata": {},
   "outputs": [],
   "source": [
    "\n",
    "df_capstone_clean_2['client_fidelity'] = ''\n",
    "\n",
    "client_losing_fidelity = df_capstone_clean_2['total_products'] < df_capstone_clean_2['nr_product_max']\n",
    "client_stable = df_capstone_clean_2['total_products'] == df_capstone_clean_2['nr_product_max']\n",
    "# client_increasing_fidelity = df_capstone_clean_2['total_products'] > df_capstone_clean_2['nr_product_max']\n",
    "\n",
    "df_capstone_clean_2['client_fidelity'] = np.where(client_losing_fidelity, 'losing_fidelity',df_capstone_clean_2['client_fidelity'])\n",
    "df_capstone_clean_2['client_fidelity'] = np.where(client_stable, 'stable',df_capstone_clean_2['client_fidelity'])"
   ]
  },
  {
   "cell_type": "code",
   "execution_count": 82,
   "metadata": {},
   "outputs": [
    {
     "data": {
      "text/plain": [
       "stable             5200669\n",
       "losing_fidelity     762255\n",
       "Name: client_fidelity, dtype: int64"
      ]
     },
     "execution_count": 82,
     "metadata": {},
     "output_type": "execute_result"
    }
   ],
   "source": [
    "df_capstone_clean_2['client_fidelity'].value_counts()"
   ]
  },
  {
   "cell_type": "code",
   "execution_count": 83,
   "metadata": {},
   "outputs": [
    {
     "data": {
      "text/plain": [
       "0"
      ]
     },
     "execution_count": 83,
     "metadata": {},
     "output_type": "execute_result"
    }
   ],
   "source": [
    "df_capstone_clean_2['client_fidelity'].isnull().sum()"
   ]
  },
  {
   "cell_type": "markdown",
   "metadata": {},
   "source": [
    "### \"nr_debt\""
   ]
  },
  {
   "cell_type": "code",
   "execution_count": 84,
   "metadata": {},
   "outputs": [
    {
     "name": "stdout",
     "output_type": "stream",
     "text": [
      "          pk_cid pk_partition entry_date entry_channel  active_customer  \\\n",
      "3227165  1293301   2018-11-28 2017-08-06           KHE                1   \n",
      "3461469  1267909   2018-12-28 2017-07-08           KFC                0   \n",
      "4436089  1374550   2019-02-28 2018-01-07           KHK                1   \n",
      "828038   1381898   2018-04-28 2018-02-11           KHK                1   \n",
      "4642000  1141528   2019-02-28 2016-07-17           KHE                1   \n",
      "274634   1224131   2018-02-28 2016-11-22           KHE                0   \n",
      "5892947  1230059   2019-05-28 2016-12-09           KFC                1   \n",
      "3417209  1052294   2018-12-28 2015-08-16           KHE                0   \n",
      "3533420  1141483   2018-12-28 2016-07-17           KHE                0   \n",
      "3336966  1052795   2018-11-28 2015-08-20           KFA                1   \n",
      "3481480  1227807   2018-12-28 2016-12-02           KHE                0   \n",
      "3986850  1367886   2019-01-28 2017-12-11           KHE                0   \n",
      "3949340  1389996   2019-01-28 2018-03-30           KHK                1   \n",
      "5957229  1169996   2019-05-28 2016-08-27           KHE                0   \n",
      "1177448  1169378   2018-05-28 2016-08-26           KHE                0   \n",
      "2387534  1161753   2018-09-28 2016-08-10           KAT                0   \n",
      "3172360  1352602   2018-11-28 2017-11-11           KHE                1   \n",
      "2488680  1374042   2018-09-28 2018-01-05           KHK                1   \n",
      "1385334  1333808   2018-06-28 2017-10-15           KHE                1   \n",
      "981998   1052036   2018-05-28 2015-08-16           KHD                1   \n",
      "4810217  1282727   2019-03-28 2017-07-28           KHE                1   \n",
      "4380788  1520712   2019-02-28 2019-01-04           KHM                1   \n",
      "2839446  1264113   2018-10-28 2017-06-18           KFC                0   \n",
      "33151    1039005   2018-01-28 2015-08-01           KHE                0   \n",
      "62476    1080258   2018-01-28 2015-10-15           KHE                0   \n",
      "2891981  1344512   2018-10-28 2017-10-29           KHE                1   \n",
      "1786690  1367828   2018-07-28 2017-12-11           KHK                0   \n",
      "5774073  1051029   2019-05-28 2015-08-13           KHD                1   \n",
      "395850   1005652   2018-02-28 2015-02-20           KFC                0   \n",
      "4411257  1507547   2019-02-28 2018-11-20           KHO                1   \n",
      "\n",
      "                    segment  short_term_deposit  loans  mortgage  funds  ...  \\\n",
      "3227165  03 - UNIVERSITARIO                   0      0         0      0  ...   \n",
      "3461469   02 - PARTICULARES                   0      0         0      0  ...   \n",
      "4436089   02 - PARTICULARES                   0      0         0      0  ...   \n",
      "828038    02 - PARTICULARES                   0      0         0      0  ...   \n",
      "4642000  03 - UNIVERSITARIO                   0      0         0      0  ...   \n",
      "274634   03 - UNIVERSITARIO                   0      0         0      0  ...   \n",
      "5892947   02 - PARTICULARES                   0      0         0      0  ...   \n",
      "3417209  03 - UNIVERSITARIO                   0      0         0      0  ...   \n",
      "3533420  03 - UNIVERSITARIO                   0      0         0      0  ...   \n",
      "3336966   02 - PARTICULARES                   0      0         0      0  ...   \n",
      "3481480  03 - UNIVERSITARIO                   0      0         0      0  ...   \n",
      "3986850  03 - UNIVERSITARIO                   0      0         0      0  ...   \n",
      "3949340   02 - PARTICULARES                   0      0         0      0  ...   \n",
      "5957229  03 - UNIVERSITARIO                   0      0         0      0  ...   \n",
      "1177448  03 - UNIVERSITARIO                   0      0         0      0  ...   \n",
      "2387534  03 - UNIVERSITARIO                   0      0         0      0  ...   \n",
      "3172360  03 - UNIVERSITARIO                   0      0         0      0  ...   \n",
      "2488680   02 - PARTICULARES                   0      0         0      0  ...   \n",
      "1385334  03 - UNIVERSITARIO                   0      0         0      0  ...   \n",
      "981998   03 - UNIVERSITARIO                   0      0         0      0  ...   \n",
      "4810217   02 - PARTICULARES                   0      0         0      0  ...   \n",
      "4380788   02 - PARTICULARES                   0      0         0      0  ...   \n",
      "2839446   02 - PARTICULARES                   0      0         0      0  ...   \n",
      "33151    03 - UNIVERSITARIO                   0      0         0      0  ...   \n",
      "62476    03 - UNIVERSITARIO                   0      0         0      0  ...   \n",
      "2891981  03 - UNIVERSITARIO                   0      0         0      0  ...   \n",
      "1786690   02 - PARTICULARES                   0      0         0      0  ...   \n",
      "5774073  03 - UNIVERSITARIO                   0      0         0      0  ...   \n",
      "395850    02 - PARTICULARES                   0      0         0      0  ...   \n",
      "4411257   02 - PARTICULARES                   0      0         0      0  ...   \n",
      "\n",
      "         periods_active         season  entry_date_month  entry_date_year  \\\n",
      "3227165              17     Low_Season                 8             2017   \n",
      "3461469               9     Low_Season                 7             2017   \n",
      "4436089              17  Middle_season                 1             2018   \n",
      "828038               16  Middle_season                 2             2018   \n",
      "4642000              17     Low_Season                 7             2016   \n",
      "274634                0    High_season                11             2016   \n",
      "5892947              17    High_season                12             2016   \n",
      "3417209               0     Low_Season                 8             2015   \n",
      "3533420               0     Low_Season                 7             2016   \n",
      "3336966              17     Low_Season                 8             2015   \n",
      "3481480               0    High_season                12             2016   \n",
      "3986850               0    High_season                12             2017   \n",
      "3949340              13     Low_Season                 3             2018   \n",
      "5957229               0     Low_Season                 8             2016   \n",
      "1177448               0     Low_Season                 8             2016   \n",
      "2387534               0     Low_Season                 8             2016   \n",
      "3172360              13    High_season                11             2017   \n",
      "2488680              16  Middle_season                 1             2018   \n",
      "1385334              15     Low_Season                10             2017   \n",
      "981998               17     Low_Season                 8             2015   \n",
      "4810217              17     Low_Season                 7             2017   \n",
      "4380788               4  Middle_season                 1             2019   \n",
      "2839446               0     Low_Season                 6             2017   \n",
      "33151                 3     Low_Season                 8             2015   \n",
      "62476                 0     Low_Season                10             2015   \n",
      "2891981              17     Low_Season                10             2017   \n",
      "1786690               0    High_season                12             2017   \n",
      "5774073              17     Low_Season                 8             2015   \n",
      "395850                0  Middle_season                 2             2015   \n",
      "4411257               6    High_season                11             2018   \n",
      "\n",
      "         working_day  loan_utilization_index  ES_Flag  total_products  \\\n",
      "3227165            0                       0        1               1   \n",
      "3461469            0                       0        1               0   \n",
      "4436089            0                       0        1               2   \n",
      "828038             0                       0        1               1   \n",
      "4642000            0                       0        1               1   \n",
      "274634             1                       0        1               1   \n",
      "5892947            1                       0        1               2   \n",
      "3417209            0                       0        1               0   \n",
      "3533420            0                       0        1               1   \n",
      "3336966            1                       0        1               0   \n",
      "3481480            1                       0        1               0   \n",
      "3986850            1                       0        1               0   \n",
      "3949340            1                       0        1               2   \n",
      "5957229            0                       0        1               1   \n",
      "1177448            1                       0        1               1   \n",
      "2387534            1                       0        1               1   \n",
      "3172360            0                       0        1               1   \n",
      "2488680            1                       0        1               1   \n",
      "1385334            0                       0        1               1   \n",
      "981998             0                       0        1               1   \n",
      "4810217            1                       0        1               1   \n",
      "4380788            1                       0        1               1   \n",
      "2839446            0                       0        1               0   \n",
      "33151              0                       0        1               1   \n",
      "62476              1                       0        1               1   \n",
      "2891981            0                       0        1               1   \n",
      "1786690            1                       0        1               0   \n",
      "5774073            1                       0        1               1   \n",
      "395850             1                       0        1               1   \n",
      "4411257            1                       0        1               2   \n",
      "\n",
      "         client_fidelity  nr_debt  \n",
      "3227165           stable        0  \n",
      "3461469  losing_fidelity        0  \n",
      "4436089           stable        0  \n",
      "828038            stable        0  \n",
      "4642000           stable        0  \n",
      "274634            stable        0  \n",
      "5892947           stable        1  \n",
      "3417209           stable        0  \n",
      "3533420           stable        0  \n",
      "3336966           stable        0  \n",
      "3481480           stable        0  \n",
      "3986850           stable        0  \n",
      "3949340           stable        1  \n",
      "5957229           stable        0  \n",
      "1177448           stable        0  \n",
      "2387534           stable        0  \n",
      "3172360           stable        0  \n",
      "2488680           stable        0  \n",
      "1385334           stable        0  \n",
      "981998            stable        0  \n",
      "4810217           stable        0  \n",
      "4380788  losing_fidelity        1  \n",
      "2839446           stable        0  \n",
      "33151    losing_fidelity        0  \n",
      "62476             stable        0  \n",
      "2891981           stable        0  \n",
      "1786690           stable        0  \n",
      "5774073  losing_fidelity        1  \n",
      "395850            stable        0  \n",
      "4411257           stable        1  \n",
      "\n",
      "[30 rows x 55 columns]\n"
     ]
    }
   ],
   "source": [
    "# nr_debt\n",
    "# Indica cuantos productos relacionados a deuda/debitos tiene el cliente.\n",
    "\n",
    "debt_products_list = ['loans', 'mortgage', 'credit_card', 'debit_card']\n",
    "df_capstone_clean_2['total_products_debt'] = df_capstone_clean_2[debt_products_list].sum(axis=1)\n",
    "df_capstone_clean_2['nr_debt'] = df_capstone_clean_2.groupby('pk_cid')['total_products_debt'].transform(max)\n",
    "\n",
    "df_capstone_clean_2.drop('total_products_debt', axis=1, inplace=True)\n",
    "print(df_capstone_clean_2.sample(30))"
   ]
  },
  {
   "cell_type": "code",
   "execution_count": 85,
   "metadata": {},
   "outputs": [
    {
     "data": {
      "text/plain": [
       "0    4996752\n",
       "1     870893\n",
       "2      94759\n",
       "3        520\n",
       "Name: nr_debt, dtype: int64"
      ]
     },
     "execution_count": 85,
     "metadata": {},
     "output_type": "execute_result"
    }
   ],
   "source": [
    "df_capstone_clean_2['nr_debt'].value_counts()"
   ]
  },
  {
   "cell_type": "code",
   "execution_count": 86,
   "metadata": {},
   "outputs": [
    {
     "data": {
      "text/plain": [
       "0"
      ]
     },
     "execution_count": 86,
     "metadata": {},
     "output_type": "execute_result"
    }
   ],
   "source": [
    "df_capstone_clean_2['nr_debt'].isnull().sum()"
   ]
  },
  {
   "cell_type": "markdown",
   "metadata": {},
   "source": [
    "### \"entry_channel_product\""
   ]
  },
  {
   "cell_type": "code",
   "execution_count": 87,
   "metadata": {},
   "outputs": [
    {
     "name": "stdout",
     "output_type": "stream",
     "text": [
      "          pk_cid entry_channel entry_channel_product\n",
      "708103   1072541           KHE             em_acount\n",
      "466189   1061932           KHE             em_acount\n",
      "1194841  1263601           KFC           emc_account\n",
      "2697613  1028210           KHE             em_acount\n",
      "4458630  1450794           KHQ             em_acount\n",
      "2222193  1203570           KHE             em_acount\n",
      "440774   1114366           KFC             em_acount\n",
      "1348894  1300256           KFC             em_acount\n",
      "2740693  1420001           KHM             em_acount\n",
      "581796   1336775           RED             em_acount\n",
      "5839469  1022191           KHE             em_acount\n",
      "2094664  1206959           KHE    short_term_deposit\n",
      "5881137  1246861           KAT       payroll_account\n",
      "1280761  1131818           KFC             em_acount\n",
      "4188488  1030221           KHE             em_acount\n",
      "1943997  1399779           KHM             em_acount\n",
      "854818   1289590           KHE             em_acount\n",
      "3266994  1081461           KHE    short_term_deposit\n",
      "833860   1392890           KHN       payroll_account\n",
      "2490477  1449713           KHQ    short_term_deposit\n",
      "2769634  1383090           KHL             em_acount\n",
      "3802800  1415679           KHQ             em_acount\n",
      "2050799  1049594           KHE             em_acount\n",
      "4344382  1266266           KFC             em_acount\n",
      "3686416  1513802           KHM             em_acount\n",
      "4611111  1122644           KFC             em_acount\n",
      "1766617  1207574           KHE             em_acount\n",
      "2679255  1077352           KFC            securities\n",
      "3314525  1104358           KHE             em_acount\n",
      "705383   1034768           KAT             em_acount\n",
      "5246014  1147762           KHE             em_acount\n",
      "2028425  1131523           KFC             em_acount\n",
      "947488   1027964           KHE             em_acount\n",
      "4042395  1149335           KAT    short_term_deposit\n",
      "1243960  1071914           KFC           emc_account\n",
      "460651   1028809           KHE             em_acount\n",
      "4861566  1347835           KHE             em_acount\n",
      "5511654  1305771           KHE             em_acount\n",
      "3738     1053078           KAT           emc_account\n",
      "5042008  1097514           KHE             em_acount\n",
      "2802974  1485635           KHQ             em_acount\n",
      "2462682  1404047           KHM       payroll_account\n",
      "4047355  1246192           KFC       payroll_account\n",
      "542261   1155924           KAT             em_acount\n",
      "3980852  1340701           KHE             em_acount\n",
      "3872120  1513768           KHM             em_acount\n",
      "1949567  1429870           KHQ             em_acount\n",
      "3872733  1516342           KHQ    short_term_deposit\n",
      "4591234  1201622           KHE             em_acount\n",
      "4089760  1221102           KFC    short_term_deposit\n"
     ]
    }
   ],
   "source": [
    "# ENTRY CHANNEL AND PRODUCT TYPE CORRELATION\n",
    "# \"entry_channel_product\"\n",
    "# Una variable que mide la correlación entre el canal de entrada y tipos específicos de productos contratados (por ejemplo, si ciertos canales tienden a atraer más clientes que contratan depósitos a largo plazo o inversiones).\n",
    "\n",
    "# Definir la lista de columnas de productos\n",
    "products_list = ['short_term_deposit', 'loans', 'mortgage', 'funds', 'securities', \n",
    "                 'long_term_deposit', 'em_account_pp', 'credit_card', 'payroll', \n",
    "                 'pension_plan', 'payroll_account', 'emc_account', 'debit_card', \n",
    "                 'em_account_p', 'em_acount']\n",
    "\n",
    "# Paso 1: Sumar los productos contratados por cliente a través de todas las particiones\n",
    "# Crear un DataFrame temporal que sume los productos para cada cliente a lo largo del tiempo\n",
    "temp_df = df_capstone_clean_2.groupby(['pk_cid', 'entry_channel'])[products_list].sum().reset_index()\n",
    "\n",
    "# Paso 2: Identificar el producto más contratado (sumado a través de todas las particiones) por canal de entrada\n",
    "# Esto es un poco más complejo, ya que ahora necesitamos considerar la suma de productos por cliente y por canal\n",
    "\n",
    "# Calcular el producto más contratado por cliente primero\n",
    "temp_df['most_contracted_product'] = temp_df[products_list].idxmax(axis=1)\n",
    "\n",
    "# Ahora, para reflejar esto a nivel de canal de entrada, podríamos hacer una agregación adicional o mapeo directo\n",
    "# Aquí elegimos mapear directamente esta información a df_capstone_clean_2, considerando la última partición conocida o cualquier otra lógica específica\n",
    "\n",
    "# Mapear el 'most_contracted_product' de temp_df a df_capstone_clean_2\n",
    "# Esto requiere un mapeo basado en 'pk_cid' y 'entry_channel'\n",
    "mapping = temp_df.set_index(['pk_cid', 'entry_channel'])['most_contracted_product'].to_dict()\n",
    "df_capstone_clean_2['entry_channel_product'] = df_capstone_clean_2.set_index(['pk_cid', 'entry_channel']).index.map(mapping.get).values\n",
    "\n",
    "# Verificar los resultados\n",
    "print(df_capstone_clean_2[['pk_cid', 'entry_channel', 'entry_channel_product']].sample(50))"
   ]
  },
  {
   "cell_type": "code",
   "execution_count": 88,
   "metadata": {},
   "outputs": [
    {
     "data": {
      "text/plain": [
       "em_acount             4159582\n",
       "short_term_deposit     981206\n",
       "emc_account            227887\n",
       "debit_card             203550\n",
       "payroll_account        199885\n",
       "payroll                 69349\n",
       "long_term_deposit       61753\n",
       "credit_card             31197\n",
       "securities              13394\n",
       "funds                   11959\n",
       "pension_plan             2688\n",
       "mortgage                  236\n",
       "loans                     221\n",
       "em_account_p               17\n",
       "Name: entry_channel_product, dtype: int64"
      ]
     },
     "execution_count": 88,
     "metadata": {},
     "output_type": "execute_result"
    }
   ],
   "source": [
    "df_capstone_clean_2['entry_channel_product'].value_counts()"
   ]
  },
  {
   "cell_type": "code",
   "execution_count": 89,
   "metadata": {},
   "outputs": [
    {
     "data": {
      "text/plain": [
       "0"
      ]
     },
     "execution_count": 89,
     "metadata": {},
     "output_type": "execute_result"
    }
   ],
   "source": [
    "df_capstone_clean_2['entry_channel_product'].isnull().sum()"
   ]
  },
  {
   "cell_type": "markdown",
   "metadata": {},
   "source": [
    "### \"\"channel_activity_level\"\""
   ]
  },
  {
   "cell_type": "code",
   "execution_count": 90,
   "metadata": {},
   "outputs": [
    {
     "name": "stdout",
     "output_type": "stream",
     "text": [
      "          pk_cid entry_channel  channel_activity_level\n",
      "3425234  1062602           KHE                0.253152\n",
      "4627974  1154874           KAT                0.667064\n",
      "2061944  1046325           KHE                0.253152\n",
      "4094961  1215478           KHE                0.253152\n",
      "2526325  1440345           KHN                0.726012\n",
      "3386640  1028269           KHE                0.253152\n",
      "3559376  1107139           KHE                0.253152\n",
      "3089219  1251677           KFC                0.636352\n",
      "2365323  1121162           KAT                0.667064\n",
      "4301900  1209258           KHE                0.253152\n"
     ]
    }
   ],
   "source": [
    "# CHANNEL & ACTIVITY LEVEL ASSOCIATION\n",
    "# \"channel_activity_level\"\n",
    "# Una asociación entre el canal de entrada y el nivel de actividad (active_customer) del cliente, para ver si algunos canales atraen a clientes más activos.\n",
    "\n",
    "# Calcular la media de 'active_customer' para cada 'entry_channel'\n",
    "channel_activity_mean = df_capstone_clean_2.groupby('entry_channel')['active_customer'].mean()\n",
    "\n",
    "# Mapear los valores medios calculados de vuelta a df_capstone_clean_2\n",
    "df_capstone_clean_2['channel_activity_level'] = df_capstone_clean_2['entry_channel'].map(channel_activity_mean)\n",
    "\n",
    "# Verificar los resultados\n",
    "print(df_capstone_clean_2[['pk_cid', 'entry_channel', 'channel_activity_level']].sample(10))"
   ]
  },
  {
   "cell_type": "code",
   "execution_count": 91,
   "metadata": {},
   "outputs": [
    {
     "data": {
      "text/plain": [
       "0.253152    3116090\n",
       "0.636352     898070\n",
       "0.302375     666987\n",
       "0.667064     416522\n",
       "0.639291     231300\n",
       "0.635886     205938\n",
       "0.726012     122396\n",
       "0.858417      79353\n",
       "0.292899      75910\n",
       "0.870178      60899\n",
       "0.705206      41775\n",
       "0.294260      20662\n",
       "0.759226       9349\n",
       "0.661639       5636\n",
       "0.747949       5241\n",
       "0.755716       1662\n",
       "0.292526        776\n",
       "0.185440        728\n",
       "0.920583        617\n",
       "0.801008        397\n",
       "0.746269        335\n",
       "0.708197        305\n",
       "1.000000        202\n",
       "0.848485        198\n",
       "0.663212        193\n",
       "0.000000        178\n",
       "0.522293        157\n",
       "0.671141        149\n",
       "0.634146        123\n",
       "0.431579         95\n",
       "0.659341         91\n",
       "0.561798         89\n",
       "0.553846         65\n",
       "0.500000         52\n",
       "0.166667         48\n",
       "0.812500         48\n",
       "0.829787         47\n",
       "0.697674         43\n",
       "0.425000         40\n",
       "0.363636         33\n",
       "0.652174         23\n",
       "0.809524         21\n",
       "0.800000         20\n",
       "0.941176         17\n",
       "0.411765         17\n",
       "0.625000         16\n",
       "0.909091         11\n",
       "Name: channel_activity_level, dtype: int64"
      ]
     },
     "execution_count": 91,
     "metadata": {},
     "output_type": "execute_result"
    }
   ],
   "source": [
    "df_capstone_clean_2['channel_activity_level'].value_counts()"
   ]
  },
  {
   "cell_type": "code",
   "execution_count": 92,
   "metadata": {},
   "outputs": [
    {
     "data": {
      "text/plain": [
       "0"
      ]
     },
     "execution_count": 92,
     "metadata": {},
     "output_type": "execute_result"
    }
   ],
   "source": [
    "df_capstone_clean_2['channel_activity_level'].isnull().sum()"
   ]
  },
  {
   "cell_type": "markdown",
   "metadata": {},
   "source": [
    "### \"date_last_purchase\""
   ]
  },
  {
   "cell_type": "code",
   "execution_count": 93,
   "metadata": {},
   "outputs": [],
   "source": [
    "df_capstone_clean_2[\"nr_products\"] = df_capstone_clean_2[products_list].apply(np.sum, axis = 1)\n"
   ]
  },
  {
   "cell_type": "code",
   "execution_count": 94,
   "metadata": {},
   "outputs": [],
   "source": [
    "df_capstone_clean_2[\"nr_product_trend\"] = df_capstone_clean_2.groupby([\"pk_cid\"])[\"nr_products\"].transform(lambda ser : ser.diff())"
   ]
  },
  {
   "cell_type": "code",
   "execution_count": 95,
   "metadata": {},
   "outputs": [],
   "source": [
    "df_capstone_clean_2[\"months_from_last_purchase\"] = df_capstone_clean_2.groupby([\"pk_cid\"])[\"pk_partition\"].cumcount()\n",
    "df_capstone_clean_2.loc[df_capstone_clean_2[\"nr_product_trend\"]>0,\"date_last_purchase\"]=df_capstone_clean_2.loc[df_capstone_clean_2[\"nr_product_trend\"]>0,\"pk_partition\"]"
   ]
  },
  {
   "cell_type": "code",
   "execution_count": 96,
   "metadata": {},
   "outputs": [],
   "source": [
    "df_capstone_clean_2[\"date_last_purchase\"] = np.where((df_capstone_clean_2[\"months_from_last_purchase\"]<1),df_capstone_clean_2[\"pk_partition\"],df_capstone_clean_2[\"date_last_purchase\"])"
   ]
  },
  {
   "cell_type": "code",
   "execution_count": 97,
   "metadata": {},
   "outputs": [],
   "source": [
    "df_capstone_clean_2[\"date_last_purchase\"] = df_capstone_clean_2.groupby([\"pk_cid\"])[\"date_last_purchase\"].transform(lambda ser: ser.ffill()) "
   ]
  },
  {
   "cell_type": "code",
   "execution_count": 98,
   "metadata": {},
   "outputs": [
    {
     "data": {
      "text/plain": [
       "2018-01-28    3515057\n",
       "2018-07-28     900529\n",
       "2018-10-28     270452\n",
       "2018-09-28     232684\n",
       "2018-08-28     188788\n",
       "2018-11-28     146760\n",
       "2018-02-28      92111\n",
       "2018-03-28      91014\n",
       "2018-12-28      85107\n",
       "2018-06-28      75252\n",
       "2018-04-28      74993\n",
       "2018-05-28      71565\n",
       "2019-02-28      64508\n",
       "2019-01-28      62482\n",
       "2019-03-28      46335\n",
       "2019-04-28      28981\n",
       "2019-05-28      16306\n",
       "Name: date_last_purchase, dtype: int64"
      ]
     },
     "execution_count": 98,
     "metadata": {},
     "output_type": "execute_result"
    }
   ],
   "source": [
    "df_capstone_clean_2['date_last_purchase'].value_counts()"
   ]
  },
  {
   "cell_type": "code",
   "execution_count": 99,
   "metadata": {},
   "outputs": [
    {
     "data": {
      "text/plain": [
       "0"
      ]
     },
     "execution_count": 99,
     "metadata": {},
     "output_type": "execute_result"
    }
   ],
   "source": [
    "df_capstone_clean_2['date_last_purchase'].isnull().sum()"
   ]
  },
  {
   "cell_type": "code",
   "execution_count": 100,
   "metadata": {},
   "outputs": [
    {
     "data": {
      "text/plain": [
       "0     456373\n",
       "1     447559\n",
       "2     441578\n",
       "3     435678\n",
       "4     429478\n",
       "5     422544\n",
       "6     414723\n",
       "7     399365\n",
       "8     372030\n",
       "9     349251\n",
       "10    335060\n",
       "11    252969\n",
       "12    249273\n",
       "13    245308\n",
       "14    241442\n",
       "15    237319\n",
       "16    232974\n",
       "Name: months_from_last_purchase, dtype: int64"
      ]
     },
     "execution_count": 100,
     "metadata": {},
     "output_type": "execute_result"
    }
   ],
   "source": [
    "df_capstone_clean_2['months_from_last_purchase'].value_counts()"
   ]
  },
  {
   "cell_type": "code",
   "execution_count": 101,
   "metadata": {},
   "outputs": [
    {
     "data": {
      "text/plain": [
       "0"
      ]
     },
     "execution_count": 101,
     "metadata": {},
     "output_type": "execute_result"
    }
   ],
   "source": [
    "df_capstone_clean_2['months_from_last_purchase'].isnull().sum()"
   ]
  },
  {
   "cell_type": "code",
   "execution_count": 102,
   "metadata": {},
   "outputs": [
    {
     "data": {
      "text/plain": [
       " 0.0    5213901\n",
       " 1.0     126141\n",
       "-1.0     101818\n",
       " 2.0      31807\n",
       "-2.0      25426\n",
       " 3.0       4613\n",
       "-3.0       2428\n",
       " 4.0        301\n",
       "-4.0         92\n",
       " 5.0         18\n",
       "-5.0          6\n",
       "Name: nr_product_trend, dtype: int64"
      ]
     },
     "execution_count": 102,
     "metadata": {},
     "output_type": "execute_result"
    }
   ],
   "source": [
    "df_capstone_clean_2['nr_product_trend'].value_counts()"
   ]
  },
  {
   "cell_type": "code",
   "execution_count": 103,
   "metadata": {},
   "outputs": [],
   "source": [
    "df_capstone_clean_2[\"nr_product_trend\"].fillna(0, inplace=True)\n"
   ]
  },
  {
   "cell_type": "code",
   "execution_count": 104,
   "metadata": {},
   "outputs": [
    {
     "data": {
      "text/plain": [
       "0"
      ]
     },
     "execution_count": 104,
     "metadata": {},
     "output_type": "execute_result"
    }
   ],
   "source": [
    "df_capstone_clean_2['nr_product_trend'].isnull().sum()"
   ]
  },
  {
   "cell_type": "markdown",
   "metadata": {},
   "source": [
    "### \"customer_lifetime_value\""
   ]
  },
  {
   "cell_type": "code",
   "execution_count": 105,
   "metadata": {},
   "outputs": [
    {
     "data": {
      "text/plain": [
       "True"
      ]
     },
     "execution_count": 105,
     "metadata": {},
     "output_type": "execute_result"
    }
   ],
   "source": [
    "list_products = ['short_term_deposit', 'loans', 'mortgage', 'funds', 'securities', 'long_term_deposit', 'em_account_pp', 'credit_card',\n",
    "                  'payroll', 'pension_plan', 'payroll_account', 'emc_account', 'debit_card', 'em_account_p', 'em_acount']\n",
    "\n",
    "#Agrupación de productos por naturaleza \n",
    "\n",
    "list_debt = ['loans', 'mortgage']\n",
    "list_investments = ['short_term_deposit', 'funds', 'securities', 'long_term_deposit', \"pension_plan\"]\n",
    "list_account = ['em_account_pp', 'emc_account', 'em_account_p',  'em_acount', \"payroll_account\",\"payroll\"]\n",
    "list_cards = ['credit_card', 'debit_card']\n",
    "\n",
    "#relaciones de debitos o indicativos de fidelización\n",
    "list_fidel = ['payroll', 'payroll_account','loans', 'mortgage', \"pension_plan\" ]\n",
    "\n",
    "list_financing_60 = list_debt+list_cards\n",
    "list_invest_savings_40 = list_investments\n",
    "list_account_10=list_account\n",
    "\n",
    "#Verificación\n",
    "len(list_debt + list_investments + list_account + list_cards )==len(list_products)"
   ]
  },
  {
   "cell_type": "code",
   "execution_count": 106,
   "metadata": {},
   "outputs": [],
   "source": [
    "#df_products_seg[\"nr_product\"] = df_products_seg.apply(lambda x: sum(x[3:]), axis = 1)\n",
    "df_capstone_clean_2[\"nr_products\"] = df_capstone_clean_2[list_products].apply(np.sum, axis = 1)\n",
    "df_capstone_clean_2[\"Max_products\"] = df_capstone_clean_2.groupby([\"pk_cid\"])[\"nr_products\"].transform(np.max)\n",
    "\n",
    "df_capstone_clean_2[\"nr_financing_60\"] = df_capstone_clean_2[list_financing_60].apply(np.sum, axis = 1)\n",
    "df_capstone_clean_2[\"nr_invest_savings_40\"] = df_capstone_clean_2[list_invest_savings_40].apply(np.sum, axis = 1)\n",
    "df_capstone_clean_2[\"nr_account_10\"] = df_capstone_clean_2[list_account_10].apply(np.sum, axis = 1)"
   ]
  },
  {
   "cell_type": "code",
   "execution_count": 107,
   "metadata": {},
   "outputs": [],
   "source": [
    "df_capstone_clean_2.sort_values(by=[\"pk_cid\",\"pk_partition\"],inplace=True)"
   ]
  },
  {
   "cell_type": "code",
   "execution_count": 108,
   "metadata": {},
   "outputs": [],
   "source": [
    "\n",
    "df_capstone_clean_2[\"nr_financing_60_trend\"] = df_capstone_clean_2.groupby([\"pk_cid\"])[\"nr_financing_60\"].transform(lambda ser : ser.diff())\n",
    "df_capstone_clean_2[\"nr_invest_savings_40_trend\"] = df_capstone_clean_2.groupby([\"pk_cid\"])[\"nr_invest_savings_40\"].transform(lambda ser : ser.diff())\n",
    "df_capstone_clean_2[\"nr_account_10_trend\"] = df_capstone_clean_2.groupby([\"pk_cid\"])[\"nr_account_10\"].transform(lambda ser : ser.diff())"
   ]
  },
  {
   "cell_type": "code",
   "execution_count": 109,
   "metadata": {},
   "outputs": [],
   "source": [
    "## customer_lifetime_value_partition : aporta suma de los productos contratados o cancelados y su respectivo valor(ganancia/prejuicio)\n",
    "## para una partición\n",
    "## customer_lifetime_value_cumsum: : aporta suma cumulada de los productos contratados o cancelados y su \n",
    "## respectivo valor(ganancia/prejuicio)\thasta cada partición\n",
    "\n",
    "dict_profit_category = {\"financing\":60, \"invest\":40, \"account\":10}\n",
    "\n",
    "df_capstone_clean_2[\"customer_lifetime_value_partition\"] =  df_capstone_clean_2[\"nr_financing_60_trend\"]*dict_profit_category[\"financing\"] + \\\n",
    "                                            df_capstone_clean_2[\"nr_invest_savings_40_trend\"]*dict_profit_category[\"invest\"] +\\\n",
    "                                            df_capstone_clean_2[\"nr_account_10_trend\"]*dict_profit_category[\"account\"]"
   ]
  },
  {
   "cell_type": "code",
   "execution_count": 110,
   "metadata": {},
   "outputs": [],
   "source": [
    "condition_fillna= df_capstone_clean_2[\"nr_financing_60\"]*dict_profit_category[\"financing\"] +\\\n",
    "                  df_capstone_clean_2[\"nr_invest_savings_40\"]*dict_profit_category[\"invest\"] +\\\n",
    "                  df_capstone_clean_2[\"nr_account_10\"]*dict_profit_category[\"account\"] \n",
    "\n",
    "df_capstone_clean_2[\"customer_lifetime_value_partition\"].fillna(condition_fillna,inplace=True)"
   ]
  },
  {
   "cell_type": "code",
   "execution_count": 111,
   "metadata": {},
   "outputs": [],
   "source": [
    "#Meses o cantidad de particiones del cliente\n",
    "df_capstone_clean_2[\"customer_lifetime_value_cumsum\"] = df_capstone_clean_2.groupby([\"pk_cid\"])[\"customer_lifetime_value_partition\"].cumsum()"
   ]
  },
  {
   "cell_type": "code",
   "execution_count": 112,
   "metadata": {},
   "outputs": [
    {
     "data": {
      "text/plain": [
       " 0.0      5332687\n",
       " 10.0      330452\n",
       " 60.0       78742\n",
       "-60.0       58427\n",
       "-10.0       36460\n",
       " 50.0       35453\n",
       "-50.0       24983\n",
       " 70.0       19276\n",
       " 40.0       10380\n",
       "-40.0        7546\n",
       " 20.0        5998\n",
       " 120.0       4107\n",
       " 110.0       3422\n",
       "-30.0        2401\n",
       " 80.0        2252\n",
       " 130.0       1534\n",
       " 30.0        1527\n",
       "-110.0       1389\n",
       "-70.0        1128\n",
       "-20.0         983\n",
       " 100.0        639\n",
       " 180.0        581\n",
       " 190.0        454\n",
       " 140.0        360\n",
       "-120.0        332\n",
       " 90.0         274\n",
       "-100.0        259\n",
       " 170.0        254\n",
       " 160.0        162\n",
       " 230.0         69\n",
       "-80.0          66\n",
       "-90.0          59\n",
       " 150.0         54\n",
       " 220.0         49\n",
       " 200.0         42\n",
       "-130.0         28\n",
       " 210.0         24\n",
       "-170.0         19\n",
       " 270.0         13\n",
       " 240.0         13\n",
       " 250.0         12\n",
       "-150.0          4\n",
       " 260.0          3\n",
       "-160.0          2\n",
       "-140.0          2\n",
       " 300.0          2\n",
       "-180.0          1\n",
       "Name: customer_lifetime_value_partition, dtype: int64"
      ]
     },
     "execution_count": 112,
     "metadata": {},
     "output_type": "execute_result"
    }
   ],
   "source": [
    "df_capstone_clean_2['customer_lifetime_value_partition'].value_counts()"
   ]
  },
  {
   "cell_type": "code",
   "execution_count": 113,
   "metadata": {},
   "outputs": [
    {
     "data": {
      "text/plain": [
       "0"
      ]
     },
     "execution_count": 113,
     "metadata": {},
     "output_type": "execute_result"
    }
   ],
   "source": [
    "df_capstone_clean_2['customer_lifetime_value_partition'].isnull().sum()"
   ]
  },
  {
   "cell_type": "code",
   "execution_count": 114,
   "metadata": {},
   "outputs": [
    {
     "data": {
      "text/plain": [
       "10.0     3949487\n",
       "0.0      1121507\n",
       "70.0      354477\n",
       "20.0      109734\n",
       "60.0      101185\n",
       "120.0      85421\n",
       "50.0       70420\n",
       "80.0       42557\n",
       "130.0      36288\n",
       "40.0       25463\n",
       "110.0      13874\n",
       "180.0      12988\n",
       "190.0       9406\n",
       "140.0       7717\n",
       "170.0       4491\n",
       "90.0        4474\n",
       "100.0       4119\n",
       "160.0       3291\n",
       "230.0       1244\n",
       "150.0       1189\n",
       "200.0        991\n",
       "220.0        917\n",
       "210.0        569\n",
       "240.0        313\n",
       "270.0        290\n",
       "250.0        174\n",
       "30.0         152\n",
       "260.0        101\n",
       "310.0         30\n",
       "300.0         26\n",
       "280.0         23\n",
       "290.0          5\n",
       "320.0          1\n",
       "Name: customer_lifetime_value_cumsum, dtype: int64"
      ]
     },
     "execution_count": 114,
     "metadata": {},
     "output_type": "execute_result"
    }
   ],
   "source": [
    "df_capstone_clean_2['customer_lifetime_value_cumsum'].value_counts()"
   ]
  },
  {
   "cell_type": "code",
   "execution_count": 115,
   "metadata": {},
   "outputs": [
    {
     "data": {
      "text/plain": [
       "0"
      ]
     },
     "execution_count": 115,
     "metadata": {},
     "output_type": "execute_result"
    }
   ],
   "source": [
    "df_capstone_clean_2['customer_lifetime_value_cumsum'].isnull().sum()"
   ]
  },
  {
   "cell_type": "code",
   "execution_count": 116,
   "metadata": {},
   "outputs": [],
   "source": [
    "df_capstone_clean_2[\"nr_financing_60_trend\"].fillna(0, inplace=True)\n",
    "df_capstone_clean_2[\"nr_invest_savings_40_trend\"].fillna(0, inplace=True)\n",
    "df_capstone_clean_2[\"nr_account_10_trend\"].fillna(0, inplace=True)"
   ]
  },
  {
   "cell_type": "code",
   "execution_count": 117,
   "metadata": {},
   "outputs": [
    {
     "data": {
      "text/plain": [
       "0    5375073\n",
       "1     541384\n",
       "2      46159\n",
       "3        308\n",
       "Name: nr_financing_60, dtype: int64"
      ]
     },
     "execution_count": 117,
     "metadata": {},
     "output_type": "execute_result"
    }
   ],
   "source": [
    "df_capstone_clean_2['nr_financing_60'].value_counts()"
   ]
  },
  {
   "cell_type": "code",
   "execution_count": 118,
   "metadata": {},
   "outputs": [
    {
     "data": {
      "text/plain": [
       "0"
      ]
     },
     "execution_count": 118,
     "metadata": {},
     "output_type": "execute_result"
    }
   ],
   "source": [
    "df_capstone_clean_2['nr_financing_60'].isnull().sum()"
   ]
  },
  {
   "cell_type": "code",
   "execution_count": 119,
   "metadata": {},
   "outputs": [
    {
     "data": {
      "text/plain": [
       "0    5608901\n",
       "1     333841\n",
       "2      18450\n",
       "3       1581\n",
       "4        151\n",
       "Name: nr_invest_savings_40, dtype: int64"
      ]
     },
     "execution_count": 119,
     "metadata": {},
     "output_type": "execute_result"
    }
   ],
   "source": [
    "df_capstone_clean_2['nr_invest_savings_40'].value_counts()"
   ]
  },
  {
   "cell_type": "code",
   "execution_count": 120,
   "metadata": {},
   "outputs": [
    {
     "data": {
      "text/plain": [
       "0"
      ]
     },
     "execution_count": 120,
     "metadata": {},
     "output_type": "execute_result"
    }
   ],
   "source": [
    "df_capstone_clean_2['nr_invest_savings_40'].isnull().sum()"
   ]
  },
  {
   "cell_type": "code",
   "execution_count": 121,
   "metadata": {},
   "outputs": [
    {
     "data": {
      "text/plain": [
       "1    4397533\n",
       "0    1169701\n",
       "2     343726\n",
       "3      49037\n",
       "4       2927\n",
       "Name: nr_account_10, dtype: int64"
      ]
     },
     "execution_count": 121,
     "metadata": {},
     "output_type": "execute_result"
    }
   ],
   "source": [
    "df_capstone_clean_2['nr_account_10'].value_counts()"
   ]
  },
  {
   "cell_type": "code",
   "execution_count": 122,
   "metadata": {},
   "outputs": [
    {
     "data": {
      "text/plain": [
       "0"
      ]
     },
     "execution_count": 122,
     "metadata": {},
     "output_type": "execute_result"
    }
   ],
   "source": [
    "df_capstone_clean_2['nr_account_10'].isnull().sum()"
   ]
  },
  {
   "cell_type": "code",
   "execution_count": 123,
   "metadata": {},
   "outputs": [
    {
     "data": {
      "text/plain": [
       " 0.0    5815769\n",
       " 1.0      82371\n",
       "-1.0      63898\n",
       " 2.0        542\n",
       "-2.0        344\n",
       "Name: nr_financing_60_trend, dtype: int64"
      ]
     },
     "execution_count": 123,
     "metadata": {},
     "output_type": "execute_result"
    }
   ],
   "source": [
    "df_capstone_clean_2['nr_financing_60_trend'].value_counts()"
   ]
  },
  {
   "cell_type": "code",
   "execution_count": 124,
   "metadata": {},
   "outputs": [
    {
     "data": {
      "text/plain": [
       "0"
      ]
     },
     "execution_count": 124,
     "metadata": {},
     "output_type": "execute_result"
    }
   ],
   "source": [
    "df_capstone_clean_2['nr_financing_60_trend'].isnull().sum()"
   ]
  },
  {
   "cell_type": "code",
   "execution_count": 125,
   "metadata": {},
   "outputs": [
    {
     "data": {
      "text/plain": [
       " 0.0    5880701\n",
       " 1.0      44157\n",
       "-1.0      37695\n",
       " 2.0        271\n",
       "-2.0         91\n",
       " 3.0          8\n",
       "-3.0          1\n",
       "Name: nr_invest_savings_40_trend, dtype: int64"
      ]
     },
     "execution_count": 125,
     "metadata": {},
     "output_type": "execute_result"
    }
   ],
   "source": [
    "df_capstone_clean_2['nr_invest_savings_40_trend'].value_counts()"
   ]
  },
  {
   "cell_type": "code",
   "execution_count": 126,
   "metadata": {},
   "outputs": [
    {
     "data": {
      "text/plain": [
       "0"
      ]
     },
     "execution_count": 126,
     "metadata": {},
     "output_type": "execute_result"
    }
   ],
   "source": [
    "df_capstone_clean_2['nr_invest_savings_40_trend'].isnull().sum()"
   ]
  },
  {
   "cell_type": "markdown",
   "metadata": {},
   "source": [
    "### \"saving_behavior\""
   ]
  },
  {
   "cell_type": "code",
   "execution_count": 127,
   "metadata": {},
   "outputs": [
    {
     "data": {
      "text/plain": [
       "0    5608901\n",
       "1     333841\n",
       "2      18450\n",
       "3       1581\n",
       "4        151\n",
       "Name: saving_behavior, dtype: int64"
      ]
     },
     "execution_count": 127,
     "metadata": {},
     "output_type": "execute_result"
    }
   ],
   "source": [
    "##Agrupación de productos con naturaleza de ahorro\n",
    "list_savings = ['short_term_deposit', 'funds', 'securities', 'long_term_deposit', \"pension_plan\"]\n",
    "\n",
    "#df_easytrends_savings = df_capstone_clean_2\n",
    "\n",
    "## variable \"saving_behavior\" contiene la suma de productos con naturaleza de ahorro\n",
    "df_capstone_clean_2[\"saving_behavior\"] = df_capstone_clean_2[list_savings].sum(axis=1)\n",
    "df_capstone_clean_2[\"saving_behavior\"].value_counts()"
   ]
  },
  {
   "cell_type": "code",
   "execution_count": 128,
   "metadata": {},
   "outputs": [
    {
     "data": {
      "text/plain": [
       "0    5608901\n",
       "1     333841\n",
       "2      18450\n",
       "3       1581\n",
       "4        151\n",
       "Name: saving_behavior, dtype: int64"
      ]
     },
     "execution_count": 128,
     "metadata": {},
     "output_type": "execute_result"
    }
   ],
   "source": [
    "df_capstone_clean_2['saving_behavior'].value_counts()"
   ]
  },
  {
   "cell_type": "code",
   "execution_count": 129,
   "metadata": {},
   "outputs": [
    {
     "data": {
      "text/plain": [
       "0"
      ]
     },
     "execution_count": 129,
     "metadata": {},
     "output_type": "execute_result"
    }
   ],
   "source": [
    "df_capstone_clean_2['saving_behavior'].isnull().sum()"
   ]
  },
  {
   "cell_type": "markdown",
   "metadata": {},
   "source": [
    "### \"risk_tolerance_index\""
   ]
  },
  {
   "cell_type": "markdown",
   "metadata": {},
   "source": [
    "Critérios de clasificación:\n",
    "\n",
    "- Short-Term Deposit: Típicamente considerados de bajo riesgo ya que son inversiones a corto plazo con tasas de interés fijas y baja volatilidad.\n",
    "\n",
    "- Loans: El riesgo asociado con los préstamos puede variar dependiendo del tipo de préstamo (por ejemplo, préstamos personales, préstamos comerciales). Generalmente, los préstamos tienen un riesgo moderado a alto dependiendo de factores como la solvencia de los prestatarios, las condiciones económicas y los términos del préstamo.\n",
    "\n",
    "- Mortgage: Las hipotecas suelen estar garantizadas por bienes raíces, lo que las convierte en un riesgo más bajo en comparación con los préstamos no garantizados. Sin embargo, el riesgo puede variar según factores como la relación préstamo-valor, la solvencia del prestatario y las fluctuaciones en los mercados inmobiliarios.\n",
    "\n",
    "- Funds: El riesgo asociado con los fondos puede variar ampliamente dependiendo de los activos subyacentes mantenidos por el fondo. Los fondos de renta variable son generalmente de mayor riesgo en comparación con los fondos de renta fija o del mercado monetario.\n",
    "\n",
    "- Securities: Los valores pueden incluir una amplia gama de instrumentos financieros como acciones, bonos y derivados. El riesgo asociado con los valores depende de factores como la volatilidad del mercado, la solvencia del emisor y los objetivos de inversión\n",
    "\n",
    "- Long-Term Deposit: Similar a los depósitos a corto plazo, generalmente se consideran de bajo riesgo ya que ofrecen tasas de interés fijas y son menos susceptibles a las fluctuaciones del mercado a corto plazo.\n",
    "\n",
    "- Credit Card: Las tarjetas de crédito suelen tener tasas de interés altas y pueden representar un riesgo de acumulación de deuda si no se manejan de manera responsable. Sin embargo, desde la perspectiva del banco, las tarjetas de crédito también pueden ser rentables si los clientes mantienen saldos y realizan pagos oportunos.\n",
    "\n",
    "-Payroll: Las cuentas de nómina suelen considerarse de bajo riesgo ya que implican depósitos regulares de los sistemas de nómina de los empleadores. Sin embargo, el riesgo puede variar según factores como la estabilidad del empleador y los riesgos de fraude potenciales.\n",
    "\n",
    "- Payroll Account: Similar a las cuentas de nómina, estas son generalmente cuentas de bajo riesgo ya que implican depósitos regulares de los empleadores.\n",
    "\n",
    "- Pension Plan: Generalmente son inversiones a largo plazo y suelen considerarse de bajo a moderado riesgo, dependiendo de la estrategia de inversión y la salud financiera del fondo de pensiones.\n",
    "\n",
    "- Debit Card: Las tarjetas de débito suelen ser productos de bajo riesgo ya que permiten a los clientes gastar solo los fondos disponibles en sus cuentas bancarias.\n",
    "\n",
    "- EM_Account, EM_Account_P, EM_Account_PP: Una cuenta corriente ordinaria generalmente se consideraría de riesgo bajo\n",
    "\n",
    "- EMC_Account: Cuenta de cryptomoneda podría considerarse con un grado de riesgo alto por algunas razones: volatilidad de Mercado, falta de regulación, falta de protecciones del consumidor, posibilidad de perder acesso.\n"
   ]
  },
  {
   "cell_type": "code",
   "execution_count": 130,
   "metadata": {},
   "outputs": [],
   "source": [
    "list_risk_low = [\"short_term_deposit\", \"pension_plan\", \"long_term_deposit\",\"payroll\", \"payroll_account\",\"em_account_pp\", \"debit_card\",\"em_account_p\", \"em_acount\"]\n",
    "list_risk_medium= [\"mortgage\"]\n",
    "list_risk_high= [\"loans\", \"funds\", \"securities\", \"credit_card\", \"emc_account\"]\n",
    "\n",
    "#df_easytrends_risks = df_capstone_clean_2\n",
    "\n",
    "#Suma de productos por categoria de riesgo\n",
    "df_capstone_clean_2[\"nr_risk_low\"] = df_capstone_clean_2[list_risk_low].sum(axis=1)\n",
    "df_capstone_clean_2[\"nr_risk_medium\"] = df_capstone_clean_2[list_risk_medium].sum(axis=1)\n",
    "df_capstone_clean_2[\"nr_risk_high\"] = df_capstone_clean_2[list_risk_high].sum(axis=1)\n",
    "\n",
    "#Porcentaje de productos por categoria de riesgo\n",
    "df_capstone_clean_2[\"percent_risk_low\"] = df_capstone_clean_2[\"nr_risk_low\"]/len(list_risk_low)\n",
    "df_capstone_clean_2[\"percent_risk_medium\"] = df_capstone_clean_2[\"nr_risk_medium\"]/len(list_risk_medium)\n",
    "df_capstone_clean_2[\"percent_risk_high\"] = df_capstone_clean_2[\"nr_risk_high\"]/len(list_risk_high)\n"
   ]
  },
  {
   "cell_type": "code",
   "execution_count": 131,
   "metadata": {},
   "outputs": [],
   "source": [
    "## Index absoluto de grado de riesgo\n",
    "## Escala numerica (para evitar transformación, ya que seria ordinal): \n",
    "## 0: ninguno, 1: bajo, 2:medio, 3:alto\n",
    "df_capstone_clean_2[\"risk_index_absolute\"] = np.where(df_capstone_clean_2[\"nr_risk_high\"]>0, 3,\\\n",
    "    np.where(df_capstone_clean_2[\"nr_risk_medium\"]>0, 2, \\\n",
    "        np.where(df_capstone_clean_2[\"nr_risk_low\"]>0, 1, 0)\n",
    "    )\n",
    ")\n",
    "#df_easytrends_risks[\"risk_index_absolute\"] = np.where(df_easytrends_risks[\"nr_risk_high\"]>0, \"Alto\", df_easytrends_risks[\"risk_index_absolute\"])"
   ]
  },
  {
   "cell_type": "code",
   "execution_count": 132,
   "metadata": {},
   "outputs": [
    {
     "data": {
      "text/plain": [
       "1    4446710\n",
       "0    1121507\n",
       "3     394547\n",
       "2        160\n",
       "Name: risk_index_absolute, dtype: int64"
      ]
     },
     "execution_count": 132,
     "metadata": {},
     "output_type": "execute_result"
    }
   ],
   "source": [
    "df_capstone_clean_2['risk_index_absolute'].value_counts()"
   ]
  },
  {
   "cell_type": "code",
   "execution_count": 133,
   "metadata": {},
   "outputs": [
    {
     "data": {
      "text/plain": [
       "0"
      ]
     },
     "execution_count": 133,
     "metadata": {},
     "output_type": "execute_result"
    }
   ],
   "source": [
    "df_capstone_clean_2['risk_index_absolute'].isnull().sum()"
   ]
  },
  {
   "cell_type": "code",
   "execution_count": 134,
   "metadata": {},
   "outputs": [
    {
     "data": {
      "text/plain": [
       "0.111111    4061788\n",
       "0.000000    1208424\n",
       "0.222222     470080\n",
       "0.444444     121208\n",
       "0.333333      90249\n",
       "0.555556      10910\n",
       "0.666667        265\n",
       "Name: percent_risk_low, dtype: int64"
      ]
     },
     "execution_count": 134,
     "metadata": {},
     "output_type": "execute_result"
    }
   ],
   "source": [
    "df_capstone_clean_2['percent_risk_low'].value_counts()"
   ]
  },
  {
   "cell_type": "code",
   "execution_count": 135,
   "metadata": {},
   "outputs": [
    {
     "data": {
      "text/plain": [
       "0"
      ]
     },
     "execution_count": 135,
     "metadata": {},
     "output_type": "execute_result"
    }
   ],
   "source": [
    "df_capstone_clean_2['percent_risk_low'].isnull().sum()"
   ]
  },
  {
   "cell_type": "code",
   "execution_count": 136,
   "metadata": {},
   "outputs": [
    {
     "data": {
      "text/plain": [
       "0.0    5962600\n",
       "1.0        324\n",
       "Name: percent_risk_medium, dtype: int64"
      ]
     },
     "execution_count": 136,
     "metadata": {},
     "output_type": "execute_result"
    }
   ],
   "source": [
    "df_capstone_clean_2['percent_risk_medium'].value_counts()"
   ]
  },
  {
   "cell_type": "code",
   "execution_count": 137,
   "metadata": {},
   "outputs": [
    {
     "data": {
      "text/plain": [
       "0"
      ]
     },
     "execution_count": 137,
     "metadata": {},
     "output_type": "execute_result"
    }
   ],
   "source": [
    "df_capstone_clean_2['percent_risk_medium'].isnull().sum()"
   ]
  },
  {
   "cell_type": "code",
   "execution_count": 138,
   "metadata": {},
   "outputs": [
    {
     "data": {
      "text/plain": [
       "0.0    5568377\n",
       "0.2     352247\n",
       "0.4      38820\n",
       "0.6       3280\n",
       "0.8        200\n",
       "Name: percent_risk_high, dtype: int64"
      ]
     },
     "execution_count": 138,
     "metadata": {},
     "output_type": "execute_result"
    }
   ],
   "source": [
    "df_capstone_clean_2['percent_risk_high'].value_counts()"
   ]
  },
  {
   "cell_type": "code",
   "execution_count": 139,
   "metadata": {},
   "outputs": [
    {
     "data": {
      "text/plain": [
       "0"
      ]
     },
     "execution_count": 139,
     "metadata": {},
     "output_type": "execute_result"
    }
   ],
   "source": [
    "df_capstone_clean_2['percent_risk_high'].isnull().sum()"
   ]
  },
  {
   "cell_type": "markdown",
   "metadata": {},
   "source": [
    "### \"life_stage_indicator\""
   ]
  },
  {
   "cell_type": "code",
   "execution_count": 140,
   "metadata": {},
   "outputs": [],
   "source": [
    "#Por edad\n",
    "bins = [0, 18, 35, 65, 80, 999]\n",
    "labels = ['Joven', 'Adulto Joven', 'Adulto', 'Anciano', 'Anciano+']\n",
    "df_capstone_clean_2['life_stage_indicator'] = pd.cut(df_capstone_clean_2['age'], bins=bins, labels=labels, right=False)"
   ]
  },
  {
   "cell_type": "code",
   "execution_count": 141,
   "metadata": {},
   "outputs": [
    {
     "data": {
      "text/plain": [
       "1479563          Adulto\n",
       "2168122          Adulto\n",
       "2962973          Adulto\n",
       "3628236          Adulto\n",
       "4028169          Adulto\n",
       "               ...     \n",
       "5679916          Adulto\n",
       "5679915    Adulto Joven\n",
       "5679914    Adulto Joven\n",
       "5679913          Adulto\n",
       "5679912          Adulto\n",
       "Name: life_stage_indicator, Length: 5962924, dtype: category\n",
       "Categories (5, object): ['Joven' < 'Adulto Joven' < 'Adulto' < 'Anciano' < 'Anciano+']"
      ]
     },
     "execution_count": 141,
     "metadata": {},
     "output_type": "execute_result"
    }
   ],
   "source": [
    "df_capstone_clean_2['life_stage_indicator']"
   ]
  },
  {
   "cell_type": "code",
   "execution_count": 142,
   "metadata": {},
   "outputs": [
    {
     "data": {
      "text/plain": [
       "Adulto Joven    4478423\n",
       "Adulto          1316367\n",
       "Anciano           99569\n",
       "Joven             35873\n",
       "Anciano+          32692\n",
       "Name: life_stage_indicator, dtype: int64"
      ]
     },
     "execution_count": 142,
     "metadata": {},
     "output_type": "execute_result"
    }
   ],
   "source": [
    "df_capstone_clean_2['life_stage_indicator'].value_counts()"
   ]
  },
  {
   "cell_type": "code",
   "execution_count": 143,
   "metadata": {},
   "outputs": [
    {
     "data": {
      "text/plain": [
       "0"
      ]
     },
     "execution_count": 143,
     "metadata": {},
     "output_type": "execute_result"
    }
   ],
   "source": [
    "df_capstone_clean_2['life_stage_indicator'].isnull().sum()"
   ]
  },
  {
   "cell_type": "code",
   "execution_count": 144,
   "metadata": {},
   "outputs": [
    {
     "name": "stdout",
     "output_type": "stream",
     "text": [
      "<class 'pandas.core.frame.DataFrame'>\n",
      "Int64Index: 5962924 entries, 1479563 to 5679912\n",
      "Data columns (total 79 columns):\n",
      " #   Column                             Dtype         \n",
      "---  ------                             -----         \n",
      " 0   pk_cid                             int64         \n",
      " 1   pk_partition                       datetime64[ns]\n",
      " 2   entry_date                         datetime64[ns]\n",
      " 3   entry_channel                      object        \n",
      " 4   active_customer                    int64         \n",
      " 5   segment                            object        \n",
      " 6   short_term_deposit                 int64         \n",
      " 7   loans                              int64         \n",
      " 8   mortgage                           int64         \n",
      " 9   funds                              int64         \n",
      " 10  securities                         int64         \n",
      " 11  long_term_deposit                  int64         \n",
      " 12  em_account_pp                      int64         \n",
      " 13  credit_card                        int64         \n",
      " 14  payroll                            int64         \n",
      " 15  pension_plan                       int64         \n",
      " 16  payroll_account                    int64         \n",
      " 17  emc_account                        int64         \n",
      " 18  debit_card                         int64         \n",
      " 19  em_account_p                       int64         \n",
      " 20  em_acount                          int64         \n",
      " 21  country_id                         object        \n",
      " 22  region_code                        object        \n",
      " 23  gender                             object        \n",
      " 24  age                                int64         \n",
      " 25  deceased                           int64         \n",
      " 26  salary                             float64       \n",
      " 27  age_cat                            category      \n",
      " 28  regions_ca_id                      object        \n",
      " 29  customer_acquisition_channel       object        \n",
      " 30  customer_acquisition_channel_min   object        \n",
      " 31  nr_product                         int64         \n",
      " 32  nr_accounts                        int64         \n",
      " 33  nr_saving_and_investment           int64         \n",
      " 34  nr_financing                       int64         \n",
      " 35  nr_product_max                     int64         \n",
      " 36  nr_product_gap_to_max              int64         \n",
      " 37  nr_investment                      int64         \n",
      " 38  product_mix_diversity              float64       \n",
      " 39  salary_CA                          float64       \n",
      " 40  customer_tenure                    int64         \n",
      " 41  digital_interaction_index          float64       \n",
      " 42  financial_health_score             float64       \n",
      " 43  entry_channel_salary               float64       \n",
      " 44  entry_channel_loyalty              float64       \n",
      " 45  periods_active                     int64         \n",
      " 46  season                             object        \n",
      " 47  entry_date_month                   int64         \n",
      " 48  entry_date_year                    int64         \n",
      " 49  working_day                        int64         \n",
      " 50  loan_utilization_index             int64         \n",
      " 51  ES_Flag                            int64         \n",
      " 52  total_products                     int64         \n",
      " 53  client_fidelity                    object        \n",
      " 54  nr_debt                            int64         \n",
      " 55  entry_channel_product              object        \n",
      " 56  channel_activity_level             float64       \n",
      " 57  nr_products                        int64         \n",
      " 58  nr_product_trend                   float64       \n",
      " 59  months_from_last_purchase          int64         \n",
      " 60  date_last_purchase                 datetime64[ns]\n",
      " 61  Max_products                       int64         \n",
      " 62  nr_financing_60                    int64         \n",
      " 63  nr_invest_savings_40               int64         \n",
      " 64  nr_account_10                      int64         \n",
      " 65  nr_financing_60_trend              float64       \n",
      " 66  nr_invest_savings_40_trend         float64       \n",
      " 67  nr_account_10_trend                float64       \n",
      " 68  customer_lifetime_value_partition  float64       \n",
      " 69  customer_lifetime_value_cumsum     float64       \n",
      " 70  saving_behavior                    int64         \n",
      " 71  nr_risk_low                        int64         \n",
      " 72  nr_risk_medium                     int64         \n",
      " 73  nr_risk_high                       int64         \n",
      " 74  percent_risk_low                   float64       \n",
      " 75  percent_risk_medium                float64       \n",
      " 76  percent_risk_high                  float64       \n",
      " 77  risk_index_absolute                int64         \n",
      " 78  life_stage_indicator               category      \n",
      "dtypes: category(2), datetime64[ns](3), float64(17), int64(46), object(11)\n",
      "memory usage: 3.5+ GB\n"
     ]
    }
   ],
   "source": [
    "df_capstone_clean_2.info(all)"
   ]
  },
  {
   "cell_type": "code",
   "execution_count": 145,
   "metadata": {},
   "outputs": [],
   "source": [
    "# drops\n",
    "df_capstone_clean_2.drop('nr_products', axis=1, inplace=True)\n",
    "df_capstone_clean_2.drop('Max_products', axis=1, inplace=True)"
   ]
  },
  {
   "cell_type": "markdown",
   "metadata": {},
   "source": [
    "#### Active_customer_rate"
   ]
  },
  {
   "cell_type": "code",
   "execution_count": 146,
   "metadata": {},
   "outputs": [],
   "source": [
    "#active_customer_rate - % del tiempo como active_customers\n",
    "df_capstone_clean_2[\"xx\"] = df_capstone_clean_2.groupby([\"pk_cid\"])[\"pk_partition\"].cumcount()+1\n",
    "df_capstone_clean_2[\"yy\"] = df_capstone_clean_2.groupby([\"pk_cid\"])[\"active_customer\"].cumsum()\n",
    "df_capstone_clean_2[\"active_customer_rate\"] = df_capstone_clean_2[\"yy\"]/df_capstone_clean_2[\"xx\"]\n"
   ]
  },
  {
   "cell_type": "markdown",
   "metadata": {},
   "source": [
    "#### \"months_from_last_purchase_digital\" Y \"date_last_purchase_digital\""
   ]
  },
  {
   "cell_type": "code",
   "execution_count": 147,
   "metadata": {},
   "outputs": [],
   "source": [
    "#Meses o cantidad de particiones del cliente\n",
    "df_capstone_clean_2[\"months_from_last_purchase_digital\"] = df_capstone_clean_2.groupby([\"pk_cid\"])[\"pk_partition\"].cumcount()\n",
    "\n",
    "#llena con la fecha de la partición de la compra\n",
    "cond=((df_capstone_clean_2[\"nr_product_trend\"]>0) & (df_capstone_clean_2[\"active_customer\"]>0))\n",
    "df_capstone_clean_2.loc[cond,\"date_last_purchase_digital\"]=df_capstone_clean_2.loc[cond,\"pk_partition\"]\n",
    "\n",
    "#llena solo con la fecha de la primera partición\n",
    "df_capstone_clean_2[\"date_last_purchase_digital\"] = np.where((df_capstone_clean_2[\"months_from_last_purchase_digital\"]<1),df_capstone_clean_2[\"pk_partition\"],df_capstone_clean_2[\"date_last_purchase_digital\"]  )\n",
    "\n",
    "#llena nulos entre fechas con la la ultima fecha disponible\n",
    "df_capstone_clean_2[\"date_last_purchase_digital\"] = df_capstone_clean_2.groupby([\"pk_cid\"])[\"date_last_purchase_digital\"].transform(lambda ser: ser.ffill()) \n",
    "\n",
    "#Meses desde la ultima compra\n",
    "df_capstone_clean_2[\"months_from_last_purchase_digital\"] = df_capstone_clean_2[\"pk_partition\"].dt.to_period('M').astype(int) - df_capstone_clean_2[\"date_last_purchase_digital\"].dt.to_period('M').astype(int) "
   ]
  },
  {
   "cell_type": "markdown",
   "metadata": {},
   "source": [
    "#### \"total_products_ratio\""
   ]
  },
  {
   "cell_type": "code",
   "execution_count": 148,
   "metadata": {},
   "outputs": [],
   "source": [
    "list_all_products= ['short_term_deposit', 'loans', 'mortgage', 'funds',\n",
    "       'securities', 'long_term_deposit', 'em_account_pp', 'credit_card',\n",
    "       'payroll', 'pension_plan', 'payroll_account', 'emc_account',\n",
    "       'debit_card', 'em_account_p', 'em_acount']\n",
    "\n",
    "total_products = len(list_all_products)\n",
    "df_capstone_clean_2[\"total_products_ratio\"] = df_capstone_clean_2[\"nr_product\"]/total_products"
   ]
  },
  {
   "cell_type": "code",
   "execution_count": 149,
   "metadata": {},
   "outputs": [],
   "source": [
    "df_capstone_clean_2.drop(columns=[\"xx\",\"yy\"], inplace=True)"
   ]
  },
  {
   "cell_type": "markdown",
   "metadata": {},
   "source": [
    "#### \"regions_cluster\" - agrupación de regions_ca_id en 5 grupos basado en la población de la ultima partición "
   ]
  },
  {
   "cell_type": "code",
   "execution_count": 150,
   "metadata": {},
   "outputs": [],
   "source": [
    "df_capstone_clean_2.groupby(\"regions_ca_id\")[\"salary\"].count().to_frame().sort_values(\"salary\", ascending=False)\n",
    "\n",
    "mapeo = [\"MD\",\"AN\",\"CT\",\"VC\",\"Otros\" ]\n",
    "\n",
    "df_capstone_clean_2['regions_cluster'] = df_capstone_clean_2['regions_ca_id'].apply(lambda x: x if (x in mapeo) else \"Otros\")"
   ]
  },
  {
   "cell_type": "markdown",
   "metadata": {},
   "source": [
    "#### Nr_Transactions- numero de transaciones realizadas por el cliente (contratar o cancelar producto)"
   ]
  },
  {
   "cell_type": "code",
   "execution_count": 151,
   "metadata": {},
   "outputs": [],
   "source": [
    "df_capstone_clean_2[\"nr_product_abs\"] = df_capstone_clean_2[\"nr_product_trend\"].abs()\n",
    "df_capstone_clean_2[\"nr_transactions\"] = df_capstone_clean_2.groupby([\"pk_cid\"])[\"nr_product_abs\"].cumsum()\n",
    "df_capstone_clean_2.drop(columns=[\"nr_product_abs\"], inplace=True)\n",
    "\n",
    "df_capstone_clean_2[\"nr_transactions\"].fillna(0,inplace=True)"
   ]
  },
  {
   "cell_type": "code",
   "execution_count": 152,
   "metadata": {},
   "outputs": [],
   "source": [
    "df_capstone_clean_2[\"profit_60\"] = df_capstone_clean_2.groupby([\"pk_cid\"])[\"nr_financing_60_trend\"].transform(lambda x : x[x>0].sum()*60)\n",
    "df_capstone_clean_2[\"profit_40\"] = df_capstone_clean_2.groupby([\"pk_cid\"])[\"nr_invest_savings_40_trend\"].transform(lambda x : x[x>0].sum()*40)\n",
    "df_capstone_clean_2[\"profit_10\"] = df_capstone_clean_2.groupby([\"pk_cid\"])[\"nr_account_10_trend\"].transform(lambda x : x[x>0].sum()*10)\n",
    "df_capstone_clean_2[\"total_profit_customer\"] = df_capstone_clean_2[\"profit_60\"] + df_capstone_clean_2[\"profit_40\"] + df_capstone_clean_2[\"profit_10\"]\n"
   ]
  },
  {
   "cell_type": "code",
   "execution_count": 153,
   "metadata": {},
   "outputs": [],
   "source": [
    "# pd.set_option\n",
    "pd.set_option('display.max_columns',None)\n",
    "pd.set_option('display.max_colwidth', 100)\n",
    "pd.set_option('display.max_info_columns', 10)\n",
    "pd.set_option('display.width', 10)\n",
    "pd.set_option('display.max_rows', 150)\n",
    "pd.set_option('display.colheader_justify', 'left')"
   ]
  },
  {
   "cell_type": "code",
   "execution_count": 155,
   "metadata": {},
   "outputs": [
    {
     "data": {
      "text/html": [
       "<div>\n",
       "<style scoped>\n",
       "    .dataframe tbody tr th:only-of-type {\n",
       "        vertical-align: middle;\n",
       "    }\n",
       "\n",
       "    .dataframe tbody tr th {\n",
       "        vertical-align: top;\n",
       "    }\n",
       "\n",
       "    .dataframe thead th {\n",
       "        text-align: right;\n",
       "    }\n",
       "</style>\n",
       "<table border=\"1\" class=\"dataframe\">\n",
       "  <thead>\n",
       "    <tr style=\"text-align: left;\">\n",
       "      <th></th>\n",
       "      <th>Nulos</th>\n",
       "      <th>porcentaje</th>\n",
       "    </tr>\n",
       "  </thead>\n",
       "  <tbody>\n",
       "  </tbody>\n",
       "</table>\n",
       "</div>"
      ],
      "text/plain": [
       "Empty DataFrame\n",
       "Columns: [Nulos, porcentaje]\n",
       "Index: []"
      ]
     },
     "execution_count": 155,
     "metadata": {},
     "output_type": "execute_result"
    }
   ],
   "source": [
    "listarNulos(df_capstone_clean_2)"
   ]
  },
  {
   "cell_type": "code",
   "execution_count": 156,
   "metadata": {},
   "outputs": [],
   "source": [
    "# Guardamos pickle\n",
    "\n",
    "DATA_PATH = \"../../data/processed/\"\n",
    "FILE_NAME = \"df_capstone_newFeatures.pkl.gz\"\n",
    "PICKLE_PATH = DATA_PATH+FILE_NAME\n",
    "\n",
    "df_capstone_clean_2.to_pickle(PICKLE_PATH, compression='gzip')"
   ]
  }
 ],
 "metadata": {
  "kernelspec": {
   "display_name": "Python 3",
   "language": "python",
   "name": "python3"
  },
  "language_info": {
   "codemirror_mode": {
    "name": "ipython",
    "version": 3
   },
   "file_extension": ".py",
   "mimetype": "text/x-python",
   "name": "python",
   "nbconvert_exporter": "python",
   "pygments_lexer": "ipython3",
   "version": "3.11.8"
  }
 },
 "nbformat": 4,
 "nbformat_minor": 2
}
